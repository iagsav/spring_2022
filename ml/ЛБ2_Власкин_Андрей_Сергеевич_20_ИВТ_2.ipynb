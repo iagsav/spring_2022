{
 "cells": [
  {
   "cell_type": "code",
   "execution_count": 2,
   "id": "6fc22114",
   "metadata": {},
   "outputs": [],
   "source": [
    "import pandas as pd\n",
    "import matplotlib.pyplot as plt"
   ]
  },
  {
   "cell_type": "code",
   "execution_count": 3,
   "id": "1b3335bc",
   "metadata": {},
   "outputs": [],
   "source": [
    "nba_data = pd.read_csv('Seasons_stats.csv')"
   ]
  },
  {
   "cell_type": "code",
   "execution_count": 6,
   "id": "7b040a05",
   "metadata": {},
   "outputs": [
    {
     "data": {
      "text/html": [
       "<div>\n",
       "<style scoped>\n",
       "    .dataframe tbody tr th:only-of-type {\n",
       "        vertical-align: middle;\n",
       "    }\n",
       "\n",
       "    .dataframe tbody tr th {\n",
       "        vertical-align: top;\n",
       "    }\n",
       "\n",
       "    .dataframe thead th {\n",
       "        text-align: right;\n",
       "    }\n",
       "</style>\n",
       "<table border=\"1\" class=\"dataframe\">\n",
       "  <thead>\n",
       "    <tr style=\"text-align: right;\">\n",
       "      <th></th>\n",
       "      <th>Unnamed: 0</th>\n",
       "      <th>Year</th>\n",
       "      <th>Player</th>\n",
       "      <th>Pos</th>\n",
       "      <th>Age</th>\n",
       "      <th>Tm</th>\n",
       "      <th>G</th>\n",
       "      <th>GS</th>\n",
       "      <th>MP</th>\n",
       "      <th>PER</th>\n",
       "      <th>...</th>\n",
       "      <th>FT%</th>\n",
       "      <th>ORB</th>\n",
       "      <th>DRB</th>\n",
       "      <th>TRB</th>\n",
       "      <th>AST</th>\n",
       "      <th>STL</th>\n",
       "      <th>BLK</th>\n",
       "      <th>TOV</th>\n",
       "      <th>PF</th>\n",
       "      <th>PTS</th>\n",
       "    </tr>\n",
       "  </thead>\n",
       "  <tbody>\n",
       "    <tr>\n",
       "      <th>2676</th>\n",
       "      <td>2676</td>\n",
       "      <td>1969.0</td>\n",
       "      <td>Walt Bellamy*</td>\n",
       "      <td>C</td>\n",
       "      <td>29.0</td>\n",
       "      <td>TOT</td>\n",
       "      <td>88.0</td>\n",
       "      <td>NaN</td>\n",
       "      <td>3159.0</td>\n",
       "      <td>18.0</td>\n",
       "      <td>...</td>\n",
       "      <td>0.649</td>\n",
       "      <td>NaN</td>\n",
       "      <td>NaN</td>\n",
       "      <td>1101.0</td>\n",
       "      <td>176.0</td>\n",
       "      <td>NaN</td>\n",
       "      <td>NaN</td>\n",
       "      <td>NaN</td>\n",
       "      <td>320.0</td>\n",
       "      <td>1527.0</td>\n",
       "    </tr>\n",
       "  </tbody>\n",
       "</table>\n",
       "<p>1 rows × 53 columns</p>\n",
       "</div>"
      ],
      "text/plain": [
       "      Unnamed: 0    Year         Player Pos   Age   Tm     G  GS      MP  \\\n",
       "2676        2676  1969.0  Walt Bellamy*   C  29.0  TOT  88.0 NaN  3159.0   \n",
       "\n",
       "       PER  ...    FT%  ORB  DRB     TRB    AST  STL  BLK  TOV     PF     PTS  \n",
       "2676  18.0  ...  0.649  NaN  NaN  1101.0  176.0  NaN  NaN  NaN  320.0  1527.0  \n",
       "\n",
       "[1 rows x 53 columns]"
      ]
     },
     "execution_count": 6,
     "metadata": {},
     "output_type": "execute_result"
    }
   ],
   "source": [
    "# 1.The player who participated in the largest number of games\n",
    "nba_data.sort_values(['G', 'Player'], ascending = [False, True]).head(1)"
   ]
  },
  {
   "cell_type": "code",
   "execution_count": 7,
   "id": "73a2d4b3",
   "metadata": {},
   "outputs": [
    {
     "name": "stdout",
     "output_type": "stream",
     "text": [
      "          Age         G\n",
      "Age  1.000000  0.027398\n",
      "G    0.027398  1.000000\n",
      "          Age         G\n",
      "Age  1.000000  0.038425\n",
      "G    0.038425  1.000000\n"
     ]
    }
   ],
   "source": [
    "# 2. Pearson's and Spirmen's correlation\n",
    "print(nba_data[['Age','G']].corr('pearson'))\n",
    "print(nba_data[['Age','G']].corr('spearman'))"
   ]
  },
  {
   "cell_type": "code",
   "execution_count": 9,
   "id": "5cf39868",
   "metadata": {},
   "outputs": [
    {
     "data": {
      "text/plain": [
       "<AxesSubplot:ylabel='Frequency'>"
      ]
     },
     "execution_count": 9,
     "metadata": {},
     "output_type": "execute_result"
    },
    {
     "data": {
      "image/png": "[encoded data removed]",
      "text/plain": [
       "<Figure size 432x288 with 1 Axes>"
      ]
     },
     "metadata": {
      "needs_background": "light"
     },
     "output_type": "display_data"
    },
    {
     "data": {
      "image/png": "[encoded data removed]",
      "text/plain": [
       "<Figure size 432x288 with 1 Axes>"
      ]
     },
     "metadata": {
      "needs_background": "light"
     },
     "output_type": "display_data"
    }
   ],
   "source": [
    "# 2. Histograms\n",
    "nba_data.plot.hist(x = 'G', y = 'Age')\n",
    "nba_data.plot.hist(x = 'Age', y = 'G')"
   ]
  },
  {
   "cell_type": "code",
   "execution_count": 21,
   "id": "e9b9d0e6",
   "metadata": {},
   "outputs": [
    {
     "name": "stdout",
     "output_type": "stream",
     "text": [
      "P-Value: 1.7146738628467893e-05\n"
     ]
    }
   ],
   "source": [
    "# 2. p-value\n",
    "import scipy.stats as sst\n",
    "nba_data_G_Age = pd.DataFrame({'G' : nba_data['G'], 'Age' : nba_data['Age']})\n",
    "nba_data_G_Age = nba_data_G_Age.dropna(how='any')\n",
    "r, p = sst.pearsonr(nba_data_G_Age['G'], nba_data_G_Age['Age'])\n",
    "print(\"p-value: \" + str(p))"
   ]
  },
  {
   "cell_type": "code",
   "execution_count": 28,
   "id": "23a2ed9e",
   "metadata": {},
   "outputs": [
    {
     "name": "stdout",
     "output_type": "stream",
     "text": [
      "Most efficiently: \n",
      "Pos     SG-SF\n",
      "PTS    4029.0\n",
      "dtype: object\n",
      "\n",
      "Least efficiently: \n",
      "Pos      C\n",
      "PTS    0.0\n",
      "dtype: object\n"
     ]
    }
   ],
   "source": [
    "# 4. Pos-PTS dependecy\n",
    "nba_data_Pos_PTS = nba_data[['Pos', 'PTS']].dropna(how='any')\n",
    "print(\"Most efficiently: \\n\" + str(nba_data_Pos_PTS[['Pos', 'PTS']].max()))\n",
    "print()\n",
    "print(\"Least efficiently: \\n\" + str(nba_data_Pos_PTS[['Pos', 'PTS']].min()))"
   ]
  },
  {
   "cell_type": "code",
   "execution_count": 29,
   "id": "626be0cc",
   "metadata": {},
   "outputs": [
    {
     "data": {
      "text/plain": [
       "<AxesSubplot:ylabel='Frequency'>"
      ]
     },
     "execution_count": 29,
     "metadata": {},
     "output_type": "execute_result"
    },
    {
     "data": {
      "image/png": "[encoded data removed]",
      "text/plain": [
       "<Figure size 432x288 with 1 Axes>"
      ]
     },
     "metadata": {
      "needs_background": "light"
     },
     "output_type": "display_data"
    }
   ],
   "source": [
    "# 5. Year-hist\n",
    "nba_data.plot.hist(y ='Year')"
   ]
  },
  {
   "cell_type": "code",
   "execution_count": 42,
   "id": "f2fab8ac",
   "metadata": {},
   "outputs": [
    {
     "name": "stdout",
     "output_type": "stream",
     "text": [
      "With NaN: 1308623\n",
      "Without NaN(axis=1, how='any'): 24691\n",
      "Without NaN(axis=1, how='all'): 1259241\n",
      "Without NaN(axis=0, how='any'): 0\n",
      "Without NaN(axis=0, how='all'): 1308623\n"
     ]
    }
   ],
   "source": [
    "# 6. Delete NaN-value\n",
    "print(\"With NaN: \" + str(nba_data.size))\n",
    "print(\"Without NaN(axis=1, how='any'): \" + str((nba_data.dropna(axis = 1, how='any')).size))\n",
    "print(\"Without NaN(axis=1, how='all'): \" + str((nba_data.dropna(axis = 1, how='all')).size))\n",
    "print(\"Without NaN(axis=0, how='any'): \" + str((nba_data.dropna(axis = 0, how='any')).size))\n",
    "print(\"Without NaN(axis=0, how='all'): \" + str((nba_data.dropna(axis = 0, how='all')).size))"
   ]
  },
  {
   "cell_type": "code",
   "execution_count": 46,
   "id": "ae458014",
   "metadata": {},
   "outputs": [
    {
     "data": {
      "text/html": [
       "<div>\n",
       "<style scoped>\n",
       "    .dataframe tbody tr th:only-of-type {\n",
       "        vertical-align: middle;\n",
       "    }\n",
       "\n",
       "    .dataframe tbody tr th {\n",
       "        vertical-align: top;\n",
       "    }\n",
       "\n",
       "    .dataframe thead th {\n",
       "        text-align: right;\n",
       "    }\n",
       "</style>\n",
       "<table border=\"1\" class=\"dataframe\">\n",
       "  <thead>\n",
       "    <tr style=\"text-align: right;\">\n",
       "      <th></th>\n",
       "      <th>Unnamed: 0</th>\n",
       "      <th>Year</th>\n",
       "      <th>Player</th>\n",
       "      <th>Pos</th>\n",
       "      <th>Age</th>\n",
       "      <th>Tm</th>\n",
       "      <th>G</th>\n",
       "      <th>GS</th>\n",
       "      <th>MP</th>\n",
       "      <th>PER</th>\n",
       "      <th>...</th>\n",
       "      <th>ORB</th>\n",
       "      <th>DRB</th>\n",
       "      <th>TRB</th>\n",
       "      <th>AST</th>\n",
       "      <th>STL</th>\n",
       "      <th>BLK</th>\n",
       "      <th>TOV</th>\n",
       "      <th>PF</th>\n",
       "      <th>PTS</th>\n",
       "      <th>APTS</th>\n",
       "    </tr>\n",
       "  </thead>\n",
       "  <tbody>\n",
       "    <tr>\n",
       "      <th>0</th>\n",
       "      <td>0</td>\n",
       "      <td>1950.0</td>\n",
       "      <td>Curly Armstrong</td>\n",
       "      <td>G-F</td>\n",
       "      <td>31.0</td>\n",
       "      <td>FTW</td>\n",
       "      <td>63.0</td>\n",
       "      <td>NaN</td>\n",
       "      <td>NaN</td>\n",
       "      <td>NaN</td>\n",
       "      <td>...</td>\n",
       "      <td>NaN</td>\n",
       "      <td>NaN</td>\n",
       "      <td>NaN</td>\n",
       "      <td>176.0</td>\n",
       "      <td>NaN</td>\n",
       "      <td>NaN</td>\n",
       "      <td>NaN</td>\n",
       "      <td>217.0</td>\n",
       "      <td>458.0</td>\n",
       "      <td>14198.0</td>\n",
       "    </tr>\n",
       "    <tr>\n",
       "      <th>1</th>\n",
       "      <td>1</td>\n",
       "      <td>1950.0</td>\n",
       "      <td>Cliff Barker</td>\n",
       "      <td>SG</td>\n",
       "      <td>29.0</td>\n",
       "      <td>INO</td>\n",
       "      <td>49.0</td>\n",
       "      <td>NaN</td>\n",
       "      <td>NaN</td>\n",
       "      <td>NaN</td>\n",
       "      <td>...</td>\n",
       "      <td>NaN</td>\n",
       "      <td>NaN</td>\n",
       "      <td>NaN</td>\n",
       "      <td>109.0</td>\n",
       "      <td>NaN</td>\n",
       "      <td>NaN</td>\n",
       "      <td>NaN</td>\n",
       "      <td>99.0</td>\n",
       "      <td>279.0</td>\n",
       "      <td>8091.0</td>\n",
       "    </tr>\n",
       "    <tr>\n",
       "      <th>2</th>\n",
       "      <td>2</td>\n",
       "      <td>1950.0</td>\n",
       "      <td>Leo Barnhorst</td>\n",
       "      <td>SF</td>\n",
       "      <td>25.0</td>\n",
       "      <td>CHS</td>\n",
       "      <td>67.0</td>\n",
       "      <td>NaN</td>\n",
       "      <td>NaN</td>\n",
       "      <td>NaN</td>\n",
       "      <td>...</td>\n",
       "      <td>NaN</td>\n",
       "      <td>NaN</td>\n",
       "      <td>NaN</td>\n",
       "      <td>140.0</td>\n",
       "      <td>NaN</td>\n",
       "      <td>NaN</td>\n",
       "      <td>NaN</td>\n",
       "      <td>192.0</td>\n",
       "      <td>438.0</td>\n",
       "      <td>10950.0</td>\n",
       "    </tr>\n",
       "    <tr>\n",
       "      <th>3</th>\n",
       "      <td>3</td>\n",
       "      <td>1950.0</td>\n",
       "      <td>Ed Bartels</td>\n",
       "      <td>F</td>\n",
       "      <td>24.0</td>\n",
       "      <td>TOT</td>\n",
       "      <td>15.0</td>\n",
       "      <td>NaN</td>\n",
       "      <td>NaN</td>\n",
       "      <td>NaN</td>\n",
       "      <td>...</td>\n",
       "      <td>NaN</td>\n",
       "      <td>NaN</td>\n",
       "      <td>NaN</td>\n",
       "      <td>20.0</td>\n",
       "      <td>NaN</td>\n",
       "      <td>NaN</td>\n",
       "      <td>NaN</td>\n",
       "      <td>29.0</td>\n",
       "      <td>63.0</td>\n",
       "      <td>1512.0</td>\n",
       "    </tr>\n",
       "    <tr>\n",
       "      <th>4</th>\n",
       "      <td>4</td>\n",
       "      <td>1950.0</td>\n",
       "      <td>Ed Bartels</td>\n",
       "      <td>F</td>\n",
       "      <td>24.0</td>\n",
       "      <td>DNN</td>\n",
       "      <td>13.0</td>\n",
       "      <td>NaN</td>\n",
       "      <td>NaN</td>\n",
       "      <td>NaN</td>\n",
       "      <td>...</td>\n",
       "      <td>NaN</td>\n",
       "      <td>NaN</td>\n",
       "      <td>NaN</td>\n",
       "      <td>20.0</td>\n",
       "      <td>NaN</td>\n",
       "      <td>NaN</td>\n",
       "      <td>NaN</td>\n",
       "      <td>27.0</td>\n",
       "      <td>59.0</td>\n",
       "      <td>1416.0</td>\n",
       "    </tr>\n",
       "  </tbody>\n",
       "</table>\n",
       "<p>5 rows × 54 columns</p>\n",
       "</div>"
      ],
      "text/plain": [
       "   Unnamed: 0    Year           Player  Pos   Age   Tm     G  GS  MP  PER  \\\n",
       "0           0  1950.0  Curly Armstrong  G-F  31.0  FTW  63.0 NaN NaN  NaN   \n",
       "1           1  1950.0     Cliff Barker   SG  29.0  INO  49.0 NaN NaN  NaN   \n",
       "2           2  1950.0    Leo Barnhorst   SF  25.0  CHS  67.0 NaN NaN  NaN   \n",
       "3           3  1950.0       Ed Bartels    F  24.0  TOT  15.0 NaN NaN  NaN   \n",
       "4           4  1950.0       Ed Bartels    F  24.0  DNN  13.0 NaN NaN  NaN   \n",
       "\n",
       "   ...  ORB  DRB  TRB    AST  STL  BLK  TOV     PF    PTS     APTS  \n",
       "0  ...  NaN  NaN  NaN  176.0  NaN  NaN  NaN  217.0  458.0  14198.0  \n",
       "1  ...  NaN  NaN  NaN  109.0  NaN  NaN  NaN   99.0  279.0   8091.0  \n",
       "2  ...  NaN  NaN  NaN  140.0  NaN  NaN  NaN  192.0  438.0  10950.0  \n",
       "3  ...  NaN  NaN  NaN   20.0  NaN  NaN  NaN   29.0   63.0   1512.0  \n",
       "4  ...  NaN  NaN  NaN   20.0  NaN  NaN  NaN   27.0   59.0   1416.0  \n",
       "\n",
       "[5 rows x 54 columns]"
      ]
     },
     "execution_count": 46,
     "metadata": {},
     "output_type": "execute_result"
    }
   ],
   "source": [
    "# 7. Adding new feature (Age*PTS)\n",
    "nba_data['APTS'] = nba_data['Age'] * nba_data['PTS']\n",
    "nba_data.head()"
   ]
  },
  {
   "cell_type": "code",
   "execution_count": 45,
   "id": "480beff2",
   "metadata": {},
   "outputs": [
    {
     "data": {
      "text/plain": [
       "Eddie Johnson    33\n",
       "Name: Player, dtype: int64"
      ]
     },
     "execution_count": 45,
     "metadata": {},
     "output_type": "execute_result"
    }
   ],
   "source": [
    "# 8. Most popular name.\n",
    "nba_data['Player'].value_counts()[:].head(1)"
   ]
  },
  {
   "cell_type": "code",
   "execution_count": 89,
   "id": "e55e1889",
   "metadata": {},
   "outputs": [
    {
     "name": "stdout",
     "output_type": "stream",
     "text": [
      "Initial duplicates count: 20769\n",
      "After drop duplicates count: 0\n",
      "Most populat firstname: John \n"
     ]
    }
   ],
   "source": [
    "# 8. Most-popular name (with parser)\n",
    "players_name = nba_data['Player']\n",
    "print(\"Initial duplicates count: \" + str(players_name.duplicated().sum()))\n",
    "players_name = players_name.dropna().drop_duplicates().reset_index(drop=True)\n",
    "print(\"After drop duplicates count: \" + str(players_name.duplicated().sum()))\n",
    "players_name.str.split()\n",
    "\n",
    "new_name = []\n",
    " \n",
    "for i in range(0, players_name.size-1):\n",
    "    new_name.append(players_name[i][:players_name[i].find(\" \")+1])\n",
    "    \n",
    "print(\"Most populat firstname: \" + max(set(new_name), key = new_name.count))"
   ]
  },
  {
   "cell_type": "code",
   "execution_count": 93,
   "id": "d50fa829",
   "metadata": {},
   "outputs": [
    {
     "name": "stdout",
     "output_type": "stream",
     "text": [
      "Most intensely played in year 1967.0\n",
      "1967.0\n"
     ]
    }
   ],
   "source": [
    "# 3. With loop\n",
    "mp_year = pd.DataFrame({'MP' : nba_data['MP'], 'Year' : nba_data['Year']})\n",
    "mp_year = mp_year.dropna(how='any').reset_index(drop=True)\n",
    "\n",
    "curr_freq_counter = 0\n",
    "curr_max_freq_year = 0\n",
    "curr_max_freq = 0\n",
    "mp_sum = 0\n",
    "\n",
    "for i in range(0, len(mp_year)-1):\n",
    "    if (mp_year['Year'][i] == mp_year['Year'][i+1]):\n",
    "        mp_sum += mp_year['MP'][i]\n",
    "        curr_freq_counter+=1\n",
    "    else:\n",
    "        #freq_dict[mp_year['Year'][i]] = [round(mp_sum / curr_freq_counter, 1)]\n",
    "        if (curr_max_freq < (round(mp_sum / curr_freq_counter,1))):\n",
    "            curr_max_freq = round(mp_sum / curr_freq_counter,1)\n",
    "            curr_max_freq_year = mp_year['Year'][i]\n",
    "        curr_freq_counter = 0\n",
    "        mp_sum = 0\n",
    "print(\"Most intensely played in year \" + str(curr_max_freq_year)) "
   ]
  },
  {
   "cell_type": "code",
   "execution_count": null,
   "id": "e14da959",
   "metadata": {},
   "outputs": [],
   "source": []
  }
 ],
 "metadata": {
  "kernelspec": {
   "display_name": "Python 3 (ipykernel)",
   "language": "python",
   "name": "python3"
  },
  "language_info": {
   "codemirror_mode": {
    "name": "ipython",
    "version": 3
   },
   "file_extension": ".py",
   "mimetype": "text/x-python",
   "name": "python",
   "nbconvert_exporter": "python",
   "pygments_lexer": "ipython3",
   "version": "3.9.7"
  }
 },
 "nbformat": 4,
 "nbformat_minor": 5
}
