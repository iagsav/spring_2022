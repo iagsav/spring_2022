{
 "cells": [
  {
   "cell_type": "markdown",
   "id": "d878f55f",
   "metadata": {},
   "source": [
    "# Лабораторная работа №4\n"
   ]
  },
  {
   "cell_type": "markdown",
   "id": "c5b530d1",
   "metadata": {},
   "source": [
    "# 1.\tИзучить набор данных. Создать описание набора данных на русском языке. Описать признаки, используемые в наборе данных (включить полученные описания в отчёт)."
   ]
  },
  {
   "cell_type": "markdown",
   "id": "43a43895",
   "metadata": {},
   "source": [
    "*Набор данных:*\n",
    "\n",
    "Frequency: частота (в герцах)\n",
    "\n",
    "Angle of attack: угол атаки (в градусах)\n",
    "\n",
    "Chord length: длина хорды (в метрах)\n",
    "\n",
    "Free-stream velocity: скорость набегающего потока (в метрах в секунду)\n",
    "\n",
    "Suction side displacement thickness: толщина вытеснения на стороне всасывания (в метрах)\n",
    "\n",
    "Scaled sound pressure level: масштабируемый уровень звукового давления (в децибелах)"
   ]
  },
  {
   "cell_type": "code",
   "execution_count": 151,
   "id": "2e078df4",
   "metadata": {},
   "outputs": [
    {
     "data": {
      "text/html": [
       "<div>\n",
       "<style scoped>\n",
       "    .dataframe tbody tr th:only-of-type {\n",
       "        vertical-align: middle;\n",
       "    }\n",
       "\n",
       "    .dataframe tbody tr th {\n",
       "        vertical-align: top;\n",
       "    }\n",
       "\n",
       "    .dataframe thead th {\n",
       "        text-align: right;\n",
       "    }\n",
       "</style>\n",
       "<table border=\"1\" class=\"dataframe\">\n",
       "  <thead>\n",
       "    <tr style=\"text-align: right;\">\n",
       "      <th></th>\n",
       "      <th>Frequency</th>\n",
       "      <th>Angle of attack</th>\n",
       "      <th>Chord length</th>\n",
       "      <th>Free-stream velocity</th>\n",
       "      <th>Suction side displacement thickness</th>\n",
       "      <th>Scaled sound pressure level</th>\n",
       "    </tr>\n",
       "  </thead>\n",
       "  <tbody>\n",
       "    <tr>\n",
       "      <th>0</th>\n",
       "      <td>800</td>\n",
       "      <td>0.0</td>\n",
       "      <td>0.3048</td>\n",
       "      <td>71.3</td>\n",
       "      <td>0.002663</td>\n",
       "      <td>126.201</td>\n",
       "    </tr>\n",
       "    <tr>\n",
       "      <th>1</th>\n",
       "      <td>1000</td>\n",
       "      <td>0.0</td>\n",
       "      <td>0.3048</td>\n",
       "      <td>71.3</td>\n",
       "      <td>0.002663</td>\n",
       "      <td>125.201</td>\n",
       "    </tr>\n",
       "    <tr>\n",
       "      <th>2</th>\n",
       "      <td>1250</td>\n",
       "      <td>0.0</td>\n",
       "      <td>0.3048</td>\n",
       "      <td>71.3</td>\n",
       "      <td>0.002663</td>\n",
       "      <td>125.951</td>\n",
       "    </tr>\n",
       "    <tr>\n",
       "      <th>3</th>\n",
       "      <td>1600</td>\n",
       "      <td>0.0</td>\n",
       "      <td>0.3048</td>\n",
       "      <td>71.3</td>\n",
       "      <td>0.002663</td>\n",
       "      <td>127.591</td>\n",
       "    </tr>\n",
       "    <tr>\n",
       "      <th>4</th>\n",
       "      <td>2000</td>\n",
       "      <td>0.0</td>\n",
       "      <td>0.3048</td>\n",
       "      <td>71.3</td>\n",
       "      <td>0.002663</td>\n",
       "      <td>127.461</td>\n",
       "    </tr>\n",
       "    <tr>\n",
       "      <th>...</th>\n",
       "      <td>...</td>\n",
       "      <td>...</td>\n",
       "      <td>...</td>\n",
       "      <td>...</td>\n",
       "      <td>...</td>\n",
       "      <td>...</td>\n",
       "    </tr>\n",
       "    <tr>\n",
       "      <th>1498</th>\n",
       "      <td>2500</td>\n",
       "      <td>15.6</td>\n",
       "      <td>0.1016</td>\n",
       "      <td>39.6</td>\n",
       "      <td>0.052849</td>\n",
       "      <td>110.264</td>\n",
       "    </tr>\n",
       "    <tr>\n",
       "      <th>1499</th>\n",
       "      <td>3150</td>\n",
       "      <td>15.6</td>\n",
       "      <td>0.1016</td>\n",
       "      <td>39.6</td>\n",
       "      <td>0.052849</td>\n",
       "      <td>109.254</td>\n",
       "    </tr>\n",
       "    <tr>\n",
       "      <th>1500</th>\n",
       "      <td>4000</td>\n",
       "      <td>15.6</td>\n",
       "      <td>0.1016</td>\n",
       "      <td>39.6</td>\n",
       "      <td>0.052849</td>\n",
       "      <td>106.604</td>\n",
       "    </tr>\n",
       "    <tr>\n",
       "      <th>1501</th>\n",
       "      <td>5000</td>\n",
       "      <td>15.6</td>\n",
       "      <td>0.1016</td>\n",
       "      <td>39.6</td>\n",
       "      <td>0.052849</td>\n",
       "      <td>106.224</td>\n",
       "    </tr>\n",
       "    <tr>\n",
       "      <th>1502</th>\n",
       "      <td>6300</td>\n",
       "      <td>15.6</td>\n",
       "      <td>0.1016</td>\n",
       "      <td>39.6</td>\n",
       "      <td>0.052849</td>\n",
       "      <td>104.204</td>\n",
       "    </tr>\n",
       "  </tbody>\n",
       "</table>\n",
       "<p>1503 rows × 6 columns</p>\n",
       "</div>"
      ],
      "text/plain": [
       "      Frequency  Angle of attack  Chord length  Free-stream velocity  \\\n",
       "0           800              0.0        0.3048                  71.3   \n",
       "1          1000              0.0        0.3048                  71.3   \n",
       "2          1250              0.0        0.3048                  71.3   \n",
       "3          1600              0.0        0.3048                  71.3   \n",
       "4          2000              0.0        0.3048                  71.3   \n",
       "...         ...              ...           ...                   ...   \n",
       "1498       2500             15.6        0.1016                  39.6   \n",
       "1499       3150             15.6        0.1016                  39.6   \n",
       "1500       4000             15.6        0.1016                  39.6   \n",
       "1501       5000             15.6        0.1016                  39.6   \n",
       "1502       6300             15.6        0.1016                  39.6   \n",
       "\n",
       "      Suction side displacement thickness  Scaled sound pressure level  \n",
       "0                                0.002663                      126.201  \n",
       "1                                0.002663                      125.201  \n",
       "2                                0.002663                      125.951  \n",
       "3                                0.002663                      127.591  \n",
       "4                                0.002663                      127.461  \n",
       "...                                   ...                          ...  \n",
       "1498                             0.052849                      110.264  \n",
       "1499                             0.052849                      109.254  \n",
       "1500                             0.052849                      106.604  \n",
       "1501                             0.052849                      106.224  \n",
       "1502                             0.052849                      104.204  \n",
       "\n",
       "[1503 rows x 6 columns]"
      ]
     },
     "execution_count": 151,
     "metadata": {},
     "output_type": "execute_result"
    }
   ],
   "source": [
    "import pandas as pd \n",
    "from sklearn.linear_model import Ridge\n",
    "from sklearn.metrics import mean_absolute_error, mean_squared_error, median_absolute_error, r2_score\n",
    "import copy\n",
    "import matplotlib.pyplot as plt\n",
    "import numpy as np\n",
    "import sklearn as sk\n",
    "import seaborn as sns\n",
    "from sklearn.preprocessing import MinMaxScaler\n",
    "from sklearn.model_selection import (train_test_split)\n",
    "from sklearn.linear_model import Lasso, LinearRegression\n",
    "from sklearn.metrics import mean_squared_error, mean_absolute_error\n",
    "from scipy.stats import pearsonr, spearmanr\n",
    "df = pd.read_csv('airfoil_self_noise.dat.txt', sep='\\s+', names=[\"Frequency\",\"Angle of attack\",\n",
    "                                                                   \"Chord length\",\"Free-stream velocity\",\n",
    "                                                                   \"Suction side displacement thickness\",\n",
    "                                                                   \"Scaled sound pressure level\"])\n",
    "df1=copy.copy(df)\n",
    "df"
   ]
  },
  {
   "cell_type": "markdown",
   "id": "8c18d38e",
   "metadata": {},
   "source": [
    "# 2.\tУдалите дубликаты строк в наборе данных; приведите размер набора данных до и после."
   ]
  },
  {
   "cell_type": "code",
   "execution_count": 152,
   "id": "c3b4d0b3",
   "metadata": {},
   "outputs": [
    {
     "name": "stdout",
     "output_type": "stream",
     "text": [
      "Количество строк до очистки: 1503\n",
      "Количество строк после очистки: 1503\n"
     ]
    }
   ],
   "source": [
    "print(\"Количество строк до очистки:\" , len(df))\n",
    "print(\"Количество строк после очистки:\" , len(df.drop_duplicates()))"
   ]
  },
  {
   "cell_type": "markdown",
   "id": "bf086d47",
   "metadata": {},
   "source": [
    "# 3.\tВыполните масштабирование количественных признаков; Постройте диаграммы BoxPlot для признаков до и после масштабирования. Выберите способ масштабирования (например, нормализацию или стандартизацию);"
   ]
  },
  {
   "cell_type": "code",
   "execution_count": 153,
   "id": "0907fee0",
   "metadata": {},
   "outputs": [
    {
     "data": {
      "image/png": "[encoded data removed]",
      "text/plain": [
       "<Figure size 1008x720 with 1 Axes>"
      ]
     },
     "metadata": {
      "needs_background": "light"
     },
     "output_type": "display_data"
    }
   ],
   "source": [
    "plt.figure(figsize = (14, 10))\n",
    "sns.boxplot(data = df)\n",
    "plt.show()"
   ]
  },
  {
   "cell_type": "code",
   "execution_count": 154,
   "id": "e3a6425e",
   "metadata": {},
   "outputs": [
    {
     "data": {
      "image/png": "[encoded data removed]",
      "text/plain": [
       "<Figure size 1008x720 with 1 Axes>"
      ]
     },
     "metadata": {
      "needs_background": "light"
     },
     "output_type": "display_data"
    }
   ],
   "source": [
    "df = df.dropna().reset_index(drop = True)\n",
    "scaler = MinMaxScaler() # нормализация\n",
    "column_names = ['frequency', 'angle', 'chord', 'velocity', 'thickness', 'noise']\n",
    "df = pd.DataFrame(scaler.fit_transform(df), columns = column_names)\n",
    "\n",
    "plt.figure(figsize = (14, 10))\n",
    "sns.boxplot(data = df)\n",
    "plt.show()\n"
   ]
  },
  {
   "cell_type": "markdown",
   "id": "b6cc079a",
   "metadata": {},
   "source": [
    "# 4.\tВыполните замену категориальных признаков; выберите и обоснуйте способ замены.\n",
    "Категориальные признаки отсутсвуют."
   ]
  },
  {
   "cell_type": "code",
   "execution_count": 155,
   "id": "2b8be672",
   "metadata": {},
   "outputs": [
    {
     "name": "stdout",
     "output_type": "stream",
     "text": [
      "Числовые:  ['frequency', 'angle', 'chord', 'velocity', 'thickness', 'noise']\n",
      "Категориальные :  []\n"
     ]
    }
   ],
   "source": [
    "numerical_columns = [i for i in df.columns[0:6] if df[i].dtype.name != 'object']\n",
    "categorial_columns = [i for i in df.columns[0:6] if df[i].dtype.name == 'object']\n",
    "print(\"Числовые: \", numerical_columns)\n",
    "print(\"Категориальные : \", categorial_columns)"
   ]
  },
  {
   "cell_type": "markdown",
   "id": "29316e12",
   "metadata": {},
   "source": [
    "# 5.\tОцените корреляцию между признаков и удалите те признаки, которые коррелируют с наибольшим числом других."
   ]
  },
  {
   "cell_type": "code",
   "execution_count": 156,
   "id": "13a92c5b",
   "metadata": {},
   "outputs": [
    {
     "data": {
      "image/png": "[encoded data removed]",
      "text/plain": [
       "<Figure size 432x288 with 2 Axes>"
      ]
     },
     "metadata": {
      "needs_background": "light"
     },
     "output_type": "display_data"
    }
   ],
   "source": [
    "sns.heatmap(df.corr());"
   ]
  },
  {
   "cell_type": "markdown",
   "id": "c31e088c",
   "metadata": {},
   "source": [
    "Параметр angle коррелирует отрицательно с параметром chord и положительно с параметром thickness, поэтому удалим его."
   ]
  },
  {
   "cell_type": "code",
   "execution_count": 157,
   "id": "68ec7316",
   "metadata": {},
   "outputs": [
    {
     "data": {
      "text/html": [
       "<div>\n",
       "<style scoped>\n",
       "    .dataframe tbody tr th:only-of-type {\n",
       "        vertical-align: middle;\n",
       "    }\n",
       "\n",
       "    .dataframe tbody tr th {\n",
       "        vertical-align: top;\n",
       "    }\n",
       "\n",
       "    .dataframe thead th {\n",
       "        text-align: right;\n",
       "    }\n",
       "</style>\n",
       "<table border=\"1\" class=\"dataframe\">\n",
       "  <thead>\n",
       "    <tr style=\"text-align: right;\">\n",
       "      <th></th>\n",
       "      <th>frequency</th>\n",
       "      <th>chord</th>\n",
       "      <th>velocity</th>\n",
       "      <th>thickness</th>\n",
       "      <th>noise</th>\n",
       "    </tr>\n",
       "  </thead>\n",
       "  <tbody>\n",
       "    <tr>\n",
       "      <th>0</th>\n",
       "      <td>0.030303</td>\n",
       "      <td>1.000000</td>\n",
       "      <td>1.000000</td>\n",
       "      <td>0.039005</td>\n",
       "      <td>0.606829</td>\n",
       "    </tr>\n",
       "    <tr>\n",
       "      <th>1</th>\n",
       "      <td>0.040404</td>\n",
       "      <td>1.000000</td>\n",
       "      <td>1.000000</td>\n",
       "      <td>0.039005</td>\n",
       "      <td>0.580238</td>\n",
       "    </tr>\n",
       "    <tr>\n",
       "      <th>2</th>\n",
       "      <td>0.053030</td>\n",
       "      <td>1.000000</td>\n",
       "      <td>1.000000</td>\n",
       "      <td>0.039005</td>\n",
       "      <td>0.600181</td>\n",
       "    </tr>\n",
       "    <tr>\n",
       "      <th>3</th>\n",
       "      <td>0.070707</td>\n",
       "      <td>1.000000</td>\n",
       "      <td>1.000000</td>\n",
       "      <td>0.039005</td>\n",
       "      <td>0.643790</td>\n",
       "    </tr>\n",
       "    <tr>\n",
       "      <th>4</th>\n",
       "      <td>0.090909</td>\n",
       "      <td>1.000000</td>\n",
       "      <td>1.000000</td>\n",
       "      <td>0.039005</td>\n",
       "      <td>0.640333</td>\n",
       "    </tr>\n",
       "    <tr>\n",
       "      <th>...</th>\n",
       "      <td>...</td>\n",
       "      <td>...</td>\n",
       "      <td>...</td>\n",
       "      <td>...</td>\n",
       "      <td>...</td>\n",
       "    </tr>\n",
       "    <tr>\n",
       "      <th>1498</th>\n",
       "      <td>0.116162</td>\n",
       "      <td>0.272727</td>\n",
       "      <td>0.199495</td>\n",
       "      <td>0.904111</td>\n",
       "      <td>0.183051</td>\n",
       "    </tr>\n",
       "    <tr>\n",
       "      <th>1499</th>\n",
       "      <td>0.148990</td>\n",
       "      <td>0.272727</td>\n",
       "      <td>0.199495</td>\n",
       "      <td>0.904111</td>\n",
       "      <td>0.156194</td>\n",
       "    </tr>\n",
       "    <tr>\n",
       "      <th>1500</th>\n",
       "      <td>0.191919</td>\n",
       "      <td>0.272727</td>\n",
       "      <td>0.199495</td>\n",
       "      <td>0.904111</td>\n",
       "      <td>0.085729</td>\n",
       "    </tr>\n",
       "    <tr>\n",
       "      <th>1501</th>\n",
       "      <td>0.242424</td>\n",
       "      <td>0.272727</td>\n",
       "      <td>0.199495</td>\n",
       "      <td>0.904111</td>\n",
       "      <td>0.075624</td>\n",
       "    </tr>\n",
       "    <tr>\n",
       "      <th>1502</th>\n",
       "      <td>0.308081</td>\n",
       "      <td>0.272727</td>\n",
       "      <td>0.199495</td>\n",
       "      <td>0.904111</td>\n",
       "      <td>0.021911</td>\n",
       "    </tr>\n",
       "  </tbody>\n",
       "</table>\n",
       "<p>1503 rows × 5 columns</p>\n",
       "</div>"
      ],
      "text/plain": [
       "      frequency     chord  velocity  thickness     noise\n",
       "0      0.030303  1.000000  1.000000   0.039005  0.606829\n",
       "1      0.040404  1.000000  1.000000   0.039005  0.580238\n",
       "2      0.053030  1.000000  1.000000   0.039005  0.600181\n",
       "3      0.070707  1.000000  1.000000   0.039005  0.643790\n",
       "4      0.090909  1.000000  1.000000   0.039005  0.640333\n",
       "...         ...       ...       ...        ...       ...\n",
       "1498   0.116162  0.272727  0.199495   0.904111  0.183051\n",
       "1499   0.148990  0.272727  0.199495   0.904111  0.156194\n",
       "1500   0.191919  0.272727  0.199495   0.904111  0.085729\n",
       "1501   0.242424  0.272727  0.199495   0.904111  0.075624\n",
       "1502   0.308081  0.272727  0.199495   0.904111  0.021911\n",
       "\n",
       "[1503 rows x 5 columns]"
      ]
     },
     "execution_count": 157,
     "metadata": {},
     "output_type": "execute_result"
    }
   ],
   "source": [
    "df = df.drop('angle', axis = 1)\n",
    "df"
   ]
  },
  {
   "cell_type": "markdown",
   "id": "d61e5e69",
   "metadata": {},
   "source": [
    "# 6. Заполните пропущенные значения в данных;"
   ]
  },
  {
   "cell_type": "code",
   "execution_count": 158,
   "id": "449bdcef",
   "metadata": {},
   "outputs": [
    {
     "data": {
      "text/html": [
       "<div>\n",
       "<style scoped>\n",
       "    .dataframe tbody tr th:only-of-type {\n",
       "        vertical-align: middle;\n",
       "    }\n",
       "\n",
       "    .dataframe tbody tr th {\n",
       "        vertical-align: top;\n",
       "    }\n",
       "\n",
       "    .dataframe thead th {\n",
       "        text-align: right;\n",
       "    }\n",
       "</style>\n",
       "<table border=\"1\" class=\"dataframe\">\n",
       "  <thead>\n",
       "    <tr style=\"text-align: right;\">\n",
       "      <th></th>\n",
       "      <th>frequency</th>\n",
       "      <th>chord</th>\n",
       "      <th>velocity</th>\n",
       "      <th>thickness</th>\n",
       "      <th>noise</th>\n",
       "    </tr>\n",
       "  </thead>\n",
       "  <tbody>\n",
       "    <tr>\n",
       "      <th>0</th>\n",
       "      <td>0.030303</td>\n",
       "      <td>1.000000</td>\n",
       "      <td>1.000000</td>\n",
       "      <td>0.039005</td>\n",
       "      <td>0.606829</td>\n",
       "    </tr>\n",
       "    <tr>\n",
       "      <th>1</th>\n",
       "      <td>0.040404</td>\n",
       "      <td>1.000000</td>\n",
       "      <td>1.000000</td>\n",
       "      <td>0.039005</td>\n",
       "      <td>0.580238</td>\n",
       "    </tr>\n",
       "    <tr>\n",
       "      <th>2</th>\n",
       "      <td>0.053030</td>\n",
       "      <td>1.000000</td>\n",
       "      <td>1.000000</td>\n",
       "      <td>0.039005</td>\n",
       "      <td>0.600181</td>\n",
       "    </tr>\n",
       "    <tr>\n",
       "      <th>3</th>\n",
       "      <td>0.070707</td>\n",
       "      <td>1.000000</td>\n",
       "      <td>1.000000</td>\n",
       "      <td>0.039005</td>\n",
       "      <td>0.643790</td>\n",
       "    </tr>\n",
       "    <tr>\n",
       "      <th>4</th>\n",
       "      <td>0.090909</td>\n",
       "      <td>1.000000</td>\n",
       "      <td>1.000000</td>\n",
       "      <td>0.039005</td>\n",
       "      <td>0.640333</td>\n",
       "    </tr>\n",
       "    <tr>\n",
       "      <th>...</th>\n",
       "      <td>...</td>\n",
       "      <td>...</td>\n",
       "      <td>...</td>\n",
       "      <td>...</td>\n",
       "      <td>...</td>\n",
       "    </tr>\n",
       "    <tr>\n",
       "      <th>1498</th>\n",
       "      <td>0.116162</td>\n",
       "      <td>0.272727</td>\n",
       "      <td>0.199495</td>\n",
       "      <td>0.904111</td>\n",
       "      <td>0.183051</td>\n",
       "    </tr>\n",
       "    <tr>\n",
       "      <th>1499</th>\n",
       "      <td>0.148990</td>\n",
       "      <td>0.272727</td>\n",
       "      <td>0.199495</td>\n",
       "      <td>0.904111</td>\n",
       "      <td>0.156194</td>\n",
       "    </tr>\n",
       "    <tr>\n",
       "      <th>1500</th>\n",
       "      <td>0.191919</td>\n",
       "      <td>0.272727</td>\n",
       "      <td>0.199495</td>\n",
       "      <td>0.904111</td>\n",
       "      <td>0.085729</td>\n",
       "    </tr>\n",
       "    <tr>\n",
       "      <th>1501</th>\n",
       "      <td>0.242424</td>\n",
       "      <td>0.272727</td>\n",
       "      <td>0.199495</td>\n",
       "      <td>0.904111</td>\n",
       "      <td>0.075624</td>\n",
       "    </tr>\n",
       "    <tr>\n",
       "      <th>1502</th>\n",
       "      <td>0.308081</td>\n",
       "      <td>0.272727</td>\n",
       "      <td>0.199495</td>\n",
       "      <td>0.904111</td>\n",
       "      <td>0.021911</td>\n",
       "    </tr>\n",
       "  </tbody>\n",
       "</table>\n",
       "<p>1503 rows × 5 columns</p>\n",
       "</div>"
      ],
      "text/plain": [
       "      frequency     chord  velocity  thickness     noise\n",
       "0      0.030303  1.000000  1.000000   0.039005  0.606829\n",
       "1      0.040404  1.000000  1.000000   0.039005  0.580238\n",
       "2      0.053030  1.000000  1.000000   0.039005  0.600181\n",
       "3      0.070707  1.000000  1.000000   0.039005  0.643790\n",
       "4      0.090909  1.000000  1.000000   0.039005  0.640333\n",
       "...         ...       ...       ...        ...       ...\n",
       "1498   0.116162  0.272727  0.199495   0.904111  0.183051\n",
       "1499   0.148990  0.272727  0.199495   0.904111  0.156194\n",
       "1500   0.191919  0.272727  0.199495   0.904111  0.085729\n",
       "1501   0.242424  0.272727  0.199495   0.904111  0.075624\n",
       "1502   0.308081  0.272727  0.199495   0.904111  0.021911\n",
       "\n",
       "[1503 rows x 5 columns]"
      ]
     },
     "execution_count": 158,
     "metadata": {},
     "output_type": "execute_result"
    }
   ],
   "source": [
    "df = df.fillna(0)\n",
    "df"
   ]
  },
  {
   "cell_type": "markdown",
   "id": "d995e9ba",
   "metadata": {},
   "source": [
    "# 7.\tРешите поставленную задачу регрессии в соответствии с заданием. При подборе параметров метода принятия решения (метода регрессии) используйте перекрёстную проверку (изучите возможные для изменения параметры метода регрессии).  Вычислите точность решения задачи, вычислив разницу между реальным значением и предсказанным. Вычислите коэффициент корреляции (Пирсона, Спирмена) между реальным значением и предсказанным с учётом p-value. "
   ]
  },
  {
   "cell_type": "code",
   "execution_count": 161,
   "id": "edc08a11",
   "metadata": {},
   "outputs": [],
   "source": [
    "x, y = df, df1['Scaled sound pressure level']\n",
    "x_train, x_test, y_train, y_test = train_test_split(x, y, test_size = 0.3)"
   ]
  },
  {
   "cell_type": "code",
   "execution_count": 162,
   "id": "c16a0182",
   "metadata": {},
   "outputs": [
    {
     "name": "stdout",
     "output_type": "stream",
     "text": [
      "Пирсон:  1.0\n",
      "pvalue:  0.0\n",
      "Спирмен:  1.0\n",
      "pvalue:  0.0\n",
      "Cредняя абсолютная ошибка =  0.00000\n"
     ]
    }
   ],
   "source": [
    "LR = LinearRegression()\n",
    "LR.fit(x_train, y_train)\n",
    "predict_LR = LR.predict(x_test)\n",
    "\n",
    "person_PR, pvalue_pearson_PR = pearsonr(predict_LR, y_test)\n",
    "spermen_PR, pvalue_spermen_PR = spearmanr(predict_LR, y_test)\n",
    "print('Пирсон: ', person_PR)\n",
    "print('pvalue: ', pvalue_pearson_PR)\n",
    "print('Спирмен: ', spermen_PR)\n",
    "print('pvalue: ', pvalue_spermen_PR)\n",
    "print('Cредняя абсолютная ошибка = %8.5f' %mean_absolute_error(predict_LR, y_test))"
   ]
  },
  {
   "cell_type": "code",
   "execution_count": 163,
   "id": "e9632527",
   "metadata": {},
   "outputs": [
    {
     "name": "stdout",
     "output_type": "stream",
     "text": [
      "0.05263157894736842\n",
      "1\n"
     ]
    }
   ],
   "source": [
    "Ridge_for_GS = Ridge()\n",
    "parameters = {\n",
    "      \"max_iter\":[x for x in range(1, 300, 10)],\n",
    "      \"alpha\":  np.linspace(0, 1, 20)[1:]}\n",
    "Ridge_GS = GridSearchCV(Ridge_for_GS, parameters,  n_jobs = -1)\n",
    "Ridge_GS.fit(x_train, y_train)\n",
    "best_alpha = Ridge_GS.best_estimator_.alpha\n",
    "\n",
    "print(Ridge_GS.best_estimator_.alpha)\n",
    "print(Ridge_GS.best_estimator_.max_iter)"
   ]
  },
  {
   "cell_type": "code",
   "execution_count": 164,
   "id": "8a7dd44a",
   "metadata": {},
   "outputs": [
    {
     "name": "stdout",
     "output_type": "stream",
     "text": [
      "[-5.59864437e-02 -1.78807855e-02  9.19293546e-03 -3.66881198e-02\n",
      "  3.75140467e+01]\n",
      "Среднеквадратичная ошибка: 0.000, test: 0.000\n",
      "Коэффициент детерминации: 1.000, test: 1.000\n"
     ]
    }
   ],
   "source": [
    "ridge = Ridge(alpha=0.05)\n",
    "ridge.fit(x_train, y_train)\n",
    "y_train_pred = ridge.predict(x_train)\n",
    "y_test_pred = ridge.predict(x_test)\n",
    "print(ridge.coef_)\n",
    "print('Среднеквадратичная ошибка: {:.3f}, test: {:.3f}'.format(mean_squared_error(y_train, y_train_pred), mean_squared_error(y_test, y_test_pred)))\n",
    "print('Коэффициент детерминации: {:.3f}, test: {:.3f}'.format(r2_score(y_train, y_train_pred), r2_score(y_test, y_test_pred)))"
   ]
  },
  {
   "cell_type": "code",
   "execution_count": 165,
   "id": "063b3ded",
   "metadata": {},
   "outputs": [
    {
     "name": "stdout",
     "output_type": "stream",
     "text": [
      "Пирсон:  0.9999993423001798\n",
      "pvalue:  0.0\n",
      "Спирмен:  0.9999935574168454\n",
      "pvalue:  0.0\n"
     ]
    }
   ],
   "source": [
    "person_PR, pvalue_pearson_PR = pearsonr(y_test_pred, y_test)\n",
    "spermen_PR, pvalue_spermen_PR = spearmanr(y_test_pred, y_test)\n",
    "print('Пирсон: ', person_PR)\n",
    "print('pvalue: ', pvalue_pearson_PR)\n",
    "print('Спирмен: ', spermen_PR)\n",
    "print('pvalue: ', pvalue_spermen_PR)"
   ]
  },
  {
   "cell_type": "code",
   "execution_count": 166,
   "id": "c23abb1f",
   "metadata": {},
   "outputs": [
    {
     "data": {
      "text/plain": [
       "0.9999895145828662"
      ]
     },
     "execution_count": 166,
     "metadata": {},
     "output_type": "execute_result"
    }
   ],
   "source": [
    "RigeModel = Ridge(alpha=0.1)\n",
    "RigeModel.fit(x_train, y_train)\n",
    "RigeModel.score(x_test, y_test)"
   ]
  },
  {
   "cell_type": "code",
   "execution_count": 167,
   "id": "0006b0e2",
   "metadata": {},
   "outputs": [
    {
     "data": {
      "text/plain": [
       "0.9999998937491429"
      ]
     },
     "execution_count": 167,
     "metadata": {},
     "output_type": "execute_result"
    }
   ],
   "source": [
    "RigeModel = Ridge(alpha=0.01)\n",
    "RigeModel.fit(x_train, y_train)\n",
    "RigeModel.score(x_test, y_test)"
   ]
  },
  {
   "cell_type": "code",
   "execution_count": 168,
   "id": "34e44801",
   "metadata": {},
   "outputs": [
    {
     "data": {
      "text/plain": [
       "<matplotlib.collections.PathCollection at 0x1f5b1ee2a60>"
      ]
     },
     "execution_count": 168,
     "metadata": {},
     "output_type": "execute_result"
    },
    {
     "data": {
      "image/png": "[encoded data removed]",
      "text/plain": [
       "<Figure size 720x720 with 1 Axes>"
      ]
     },
     "metadata": {
      "needs_background": "light"
     },
     "output_type": "display_data"
    }
   ],
   "source": [
    "plt.figure(figsize=(10,10))\n",
    "plt.scatter(RigeModel.predict(x_test), y_test)"
   ]
  },
  {
   "cell_type": "code",
   "execution_count": 169,
   "id": "84a67caf",
   "metadata": {},
   "outputs": [
    {
     "data": {
      "text/plain": [
       "array([129.02582111, 128.19835752, 129.8493229 , 113.13102059,\n",
       "       137.6547974 ])"
      ]
     },
     "execution_count": 169,
     "metadata": {},
     "output_type": "execute_result"
    }
   ],
   "source": [
    "RigeModel.predict(x_test)[:5]"
   ]
  },
  {
   "cell_type": "code",
   "execution_count": 170,
   "id": "939985ff",
   "metadata": {},
   "outputs": [
    {
     "data": {
      "text/plain": [
       "1140    129.027\n",
       "895     128.200\n",
       "778     129.848\n",
       "344     113.129\n",
       "1347    137.658\n",
       "Name: Scaled sound pressure level, dtype: float64"
      ]
     },
     "execution_count": 170,
     "metadata": {},
     "output_type": "execute_result"
    }
   ],
   "source": [
    "y_test[:5]"
   ]
  }
 ],
 "metadata": {
  "kernelspec": {
   "display_name": "Python 3 (ipykernel)",
   "language": "python",
   "name": "python3"
  },
  "language_info": {
   "codemirror_mode": {
    "name": "ipython",
    "version": 3
   },
   "file_extension": ".py",
   "mimetype": "text/x-python",
   "name": "python",
   "nbconvert_exporter": "python",
   "pygments_lexer": "ipython3",
   "version": "3.9.7"
  }
 },
 "nbformat": 4,
 "nbformat_minor": 5
}
