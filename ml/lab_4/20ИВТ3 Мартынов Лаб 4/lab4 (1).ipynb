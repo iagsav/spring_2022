{
 "cells": [
  {
   "cell_type": "markdown",
   "id": "735338a1",
   "metadata": {},
   "source": [
    "# Лабораторная работа №4"
   ]
  },
  {
   "cell_type": "markdown",
   "id": "10e88bbb",
   "metadata": {},
   "source": [
    "# 1.\tИзучить набор данных. Создать описание набора данных на русском языке. Описать признаки, используемые в наборе данных (включить полученные описания в отчёт)."
   ]
  },
  {
   "cell_type": "markdown",
   "id": "8a7eccca",
   "metadata": {},
   "source": [
    "Информация о Наборе данных:\n",
    "Набор данных содержит 9568 точек данных, собранных с электростанции комбинированного цикла за 6 лет (2006-2011), когда\n",
    "электростанция была настроена на работу с полной нагрузкой. Характеристики состоят из среднечасовых переменных температуры окружающей среды (T),\n",
    "давления окружающей среды (AP), относительной влажности (RH) и вакуума выхлопных газов (V) для прогнозирования чистой почасовой\n",
    "выработки электроэнергии (EP) установки.\n",
    "\n",
    "Электростанция с комбинированным циклом (ПГУ) состоит из газовых турбин (ГТ), паровых турбин (СТ) и\n",
    "парогенераторов с рекуперацией тепла. В ПГУ электроэнергия вырабатывается газовыми и паровыми турбинами, которые объединены в одном\n",
    "цикле, и передается от одной турбины к другой. В то время как вакуум отсоединяется от пара и воздействует на него\n",
    "Турбина, остальные три переменные окружающей среды влияют на производительность GT.\n",
    "Для сравнения с нашими базовыми исследованиями и для того, чтобы можно было проводить статистические тесты 5x2 раза, мы предоставляем данные\n",
    ", перетасованные пять раз. Для каждой перетасовки выполняется 2-кратное CV, и полученные 10 измерений используются для\n",
    "статистического тестирования.\n",
    "Мы предоставляем данные как в форматах .ods, так и в форматах .xlsx.\n",
    "\n",
    "Атрибутивная информация:\n",
    "Функции состоят из среднечасовых переменных окружающей среды\n",
    "- Температура (T) в диапазоне от 1,81°C до 37,11°C,\n",
    "- Давление окружающей среды (AP) в диапазоне 992,89-1033,30 милибар,\n",
    "- Относительная влажность (RH) в диапазоне от 25,56% до 100,16%\n",
    "- Разрежение выхлопных газов (V) в диапазоне 25,36-81,56 см рт. ст.\n",
    "- Чистая почасовая выработка электроэнергии (EP) 420,26-495,76 МВт\n",
    "\n",
    "Средние значения берутся с различных датчиков, расположенных вокруг установки, которые ежесекундно регистрируют переменные окружающей среды. Переменные даны без нормализации.\n"
   ]
  },
  {
   "cell_type": "code",
   "execution_count": 3,
   "id": "91882762",
   "metadata": {},
   "outputs": [],
   "source": [
    "import copy\n",
    "import pandas as pd\n",
    "import seaborn as sns\n",
    "import matplotlib.pyplot as plt\n",
    "import numpy as np\n",
    "import random\n",
    "import sklearn as sk\n",
    "import copy as copy\n",
    "from sklearn import preprocessing\n",
    "from sklearn.preprocessing import MinMaxScaler\n",
    "from sklearn.linear_model import LinearRegression, Lasso, Ridge\n",
    "from sklearn.model_selection import train_test_split, GridSearchCV\n",
    "from scipy.stats import pearsonr, spearmanr\n",
    "from sklearn.metrics import mean_absolute_error\n",
    "%matplotlib inline"
   ]
  },
  {
   "cell_type": "code",
   "execution_count": 4,
   "id": "757dafd7",
   "metadata": {},
   "outputs": [
    {
     "data": {
      "text/html": [
       "<div>\n",
       "<style scoped>\n",
       "    .dataframe tbody tr th:only-of-type {\n",
       "        vertical-align: middle;\n",
       "    }\n",
       "\n",
       "    .dataframe tbody tr th {\n",
       "        vertical-align: top;\n",
       "    }\n",
       "\n",
       "    .dataframe thead th {\n",
       "        text-align: right;\n",
       "    }\n",
       "</style>\n",
       "<table border=\"1\" class=\"dataframe\">\n",
       "  <thead>\n",
       "    <tr style=\"text-align: right;\">\n",
       "      <th></th>\n",
       "      <th>Температура</th>\n",
       "      <th>Разряженность</th>\n",
       "      <th>Давление</th>\n",
       "      <th>Влажность</th>\n",
       "      <th>Выработка</th>\n",
       "    </tr>\n",
       "  </thead>\n",
       "  <tbody>\n",
       "    <tr>\n",
       "      <th>0</th>\n",
       "      <td>14.96</td>\n",
       "      <td>41.76</td>\n",
       "      <td>1024.07</td>\n",
       "      <td>73.17</td>\n",
       "      <td>463.26</td>\n",
       "    </tr>\n",
       "    <tr>\n",
       "      <th>1</th>\n",
       "      <td>25.18</td>\n",
       "      <td>62.96</td>\n",
       "      <td>1020.04</td>\n",
       "      <td>59.08</td>\n",
       "      <td>444.37</td>\n",
       "    </tr>\n",
       "    <tr>\n",
       "      <th>2</th>\n",
       "      <td>5.11</td>\n",
       "      <td>39.40</td>\n",
       "      <td>1012.16</td>\n",
       "      <td>92.14</td>\n",
       "      <td>488.56</td>\n",
       "    </tr>\n",
       "    <tr>\n",
       "      <th>3</th>\n",
       "      <td>20.86</td>\n",
       "      <td>57.32</td>\n",
       "      <td>1010.24</td>\n",
       "      <td>76.64</td>\n",
       "      <td>446.48</td>\n",
       "    </tr>\n",
       "    <tr>\n",
       "      <th>4</th>\n",
       "      <td>10.82</td>\n",
       "      <td>37.50</td>\n",
       "      <td>1009.23</td>\n",
       "      <td>96.62</td>\n",
       "      <td>473.90</td>\n",
       "    </tr>\n",
       "    <tr>\n",
       "      <th>...</th>\n",
       "      <td>...</td>\n",
       "      <td>...</td>\n",
       "      <td>...</td>\n",
       "      <td>...</td>\n",
       "      <td>...</td>\n",
       "    </tr>\n",
       "    <tr>\n",
       "      <th>9563</th>\n",
       "      <td>16.65</td>\n",
       "      <td>49.69</td>\n",
       "      <td>1014.01</td>\n",
       "      <td>91.00</td>\n",
       "      <td>460.03</td>\n",
       "    </tr>\n",
       "    <tr>\n",
       "      <th>9564</th>\n",
       "      <td>13.19</td>\n",
       "      <td>39.18</td>\n",
       "      <td>1023.67</td>\n",
       "      <td>66.78</td>\n",
       "      <td>469.62</td>\n",
       "    </tr>\n",
       "    <tr>\n",
       "      <th>9565</th>\n",
       "      <td>31.32</td>\n",
       "      <td>74.33</td>\n",
       "      <td>1012.92</td>\n",
       "      <td>36.48</td>\n",
       "      <td>429.57</td>\n",
       "    </tr>\n",
       "    <tr>\n",
       "      <th>9566</th>\n",
       "      <td>24.48</td>\n",
       "      <td>69.45</td>\n",
       "      <td>1013.86</td>\n",
       "      <td>62.39</td>\n",
       "      <td>435.74</td>\n",
       "    </tr>\n",
       "    <tr>\n",
       "      <th>9567</th>\n",
       "      <td>21.60</td>\n",
       "      <td>62.52</td>\n",
       "      <td>1017.23</td>\n",
       "      <td>67.87</td>\n",
       "      <td>453.28</td>\n",
       "    </tr>\n",
       "  </tbody>\n",
       "</table>\n",
       "<p>9568 rows × 5 columns</p>\n",
       "</div>"
      ],
      "text/plain": [
       "      Температура  Разряженность  Давление  Влажность  Выработка\n",
       "0           14.96          41.76   1024.07      73.17     463.26\n",
       "1           25.18          62.96   1020.04      59.08     444.37\n",
       "2            5.11          39.40   1012.16      92.14     488.56\n",
       "3           20.86          57.32   1010.24      76.64     446.48\n",
       "4           10.82          37.50   1009.23      96.62     473.90\n",
       "...           ...            ...       ...        ...        ...\n",
       "9563        16.65          49.69   1014.01      91.00     460.03\n",
       "9564        13.19          39.18   1023.67      66.78     469.62\n",
       "9565        31.32          74.33   1012.92      36.48     429.57\n",
       "9566        24.48          69.45   1013.86      62.39     435.74\n",
       "9567        21.60          62.52   1017.23      67.87     453.28\n",
       "\n",
       "[9568 rows x 5 columns]"
      ]
     },
     "execution_count": 4,
     "metadata": {},
     "output_type": "execute_result"
    }
   ],
   "source": [
    "data = pd.read_excel('Folds5x2_pp.xlsx')\n",
    "data = data.rename(columns={'AT':'Температура', 'V':'Разряженность', 'AP':'Давление', 'RH':'Влажность', 'PE':'Выработка'})\n",
    "data"
   ]
  },
  {
   "cell_type": "markdown",
   "id": "7c6b83e6",
   "metadata": {},
   "source": [
    "# 2.\tУдалите дубликаты строк в наборе данных; приведите размер набора данных до и после."
   ]
  },
  {
   "cell_type": "code",
   "execution_count": 5,
   "id": "35418af0",
   "metadata": {},
   "outputs": [
    {
     "name": "stdout",
     "output_type": "stream",
     "text": [
      "Original size:  9568\n",
      "Final size:  9527\n",
      "Difference: 41\n"
     ]
    }
   ],
   "source": [
    "print('Original size: ', len(data))\n",
    "original = len(data)\n",
    "data.drop_duplicates(inplace = True)\n",
    "data.dropna()\n",
    "print('Final size: ', len(data))\n",
    "final = len(data)\n",
    "print('Difference:', original - final)"
   ]
  },
  {
   "cell_type": "markdown",
   "id": "539fa57a",
   "metadata": {},
   "source": [
    "# 3.\tВыполните масштабирование количественных признаков; Постройте диаграммы BoxPlot для признаков до и после масштабирования. Выберите способ масштабирования (например, нормализацию или стандартизацию);"
   ]
  },
  {
   "cell_type": "code",
   "execution_count": 6,
   "id": "aa2fdefc",
   "metadata": {},
   "outputs": [
    {
     "data": {
      "image/png": "[encoded data removed]",
      "text/plain": [
       "<Figure size 720x720 with 1 Axes>"
      ]
     },
     "metadata": {
      "needs_background": "light"
     },
     "output_type": "display_data"
    }
   ],
   "source": [
    "data_copy=data.drop(columns = ['Выработка'])\n",
    "plt.figure(figsize=(10, 10))\n",
    "sns.boxplot(data=data_copy)\n",
    "plt.show()"
   ]
  },
  {
   "cell_type": "code",
   "execution_count": 7,
   "id": "881771a1",
   "metadata": {},
   "outputs": [
    {
     "data": {
      "text/plain": [
       "<AxesSubplot:>"
      ]
     },
     "execution_count": 7,
     "metadata": {},
     "output_type": "execute_result"
    },
    {
     "data": {
      "image/png": "[encoded data removed]",
      "text/plain": [
       "<Figure size 432x288 with 1 Axes>"
      ]
     },
     "metadata": {
      "needs_background": "light"
     },
     "output_type": "display_data"
    }
   ],
   "source": [
    "data.boxplot(column = ['Давление'])"
   ]
  },
  {
   "cell_type": "code",
   "execution_count": 8,
   "id": "5e0a0162",
   "metadata": {},
   "outputs": [
    {
     "data": {
      "text/html": [
       "<div>\n",
       "<style scoped>\n",
       "    .dataframe tbody tr th:only-of-type {\n",
       "        vertical-align: middle;\n",
       "    }\n",
       "\n",
       "    .dataframe tbody tr th {\n",
       "        vertical-align: top;\n",
       "    }\n",
       "\n",
       "    .dataframe thead th {\n",
       "        text-align: right;\n",
       "    }\n",
       "</style>\n",
       "<table border=\"1\" class=\"dataframe\">\n",
       "  <thead>\n",
       "    <tr style=\"text-align: right;\">\n",
       "      <th></th>\n",
       "      <th>Температура</th>\n",
       "      <th>Разряженность</th>\n",
       "      <th>Давление</th>\n",
       "      <th>Влажность</th>\n",
       "    </tr>\n",
       "  </thead>\n",
       "  <tbody>\n",
       "    <tr>\n",
       "      <th>0</th>\n",
       "      <td>0.403126</td>\n",
       "      <td>0.512016</td>\n",
       "      <td>0.991067</td>\n",
       "      <td>0.730531</td>\n",
       "    </tr>\n",
       "    <tr>\n",
       "      <th>1</th>\n",
       "      <td>0.678523</td>\n",
       "      <td>0.771947</td>\n",
       "      <td>0.987167</td>\n",
       "      <td>0.589856</td>\n",
       "    </tr>\n",
       "    <tr>\n",
       "      <th>2</th>\n",
       "      <td>0.137699</td>\n",
       "      <td>0.483080</td>\n",
       "      <td>0.979541</td>\n",
       "      <td>0.919928</td>\n",
       "    </tr>\n",
       "    <tr>\n",
       "      <th>3</th>\n",
       "      <td>0.562113</td>\n",
       "      <td>0.702795</td>\n",
       "      <td>0.977683</td>\n",
       "      <td>0.765176</td>\n",
       "    </tr>\n",
       "    <tr>\n",
       "      <th>4</th>\n",
       "      <td>0.291566</td>\n",
       "      <td>0.459784</td>\n",
       "      <td>0.976706</td>\n",
       "      <td>0.964657</td>\n",
       "    </tr>\n",
       "    <tr>\n",
       "      <th>...</th>\n",
       "      <td>...</td>\n",
       "      <td>...</td>\n",
       "      <td>...</td>\n",
       "      <td>...</td>\n",
       "    </tr>\n",
       "    <tr>\n",
       "      <th>9522</th>\n",
       "      <td>0.448666</td>\n",
       "      <td>0.609245</td>\n",
       "      <td>0.981332</td>\n",
       "      <td>0.908546</td>\n",
       "    </tr>\n",
       "    <tr>\n",
       "      <th>9523</th>\n",
       "      <td>0.355430</td>\n",
       "      <td>0.480383</td>\n",
       "      <td>0.990680</td>\n",
       "      <td>0.666733</td>\n",
       "    </tr>\n",
       "    <tr>\n",
       "      <th>9524</th>\n",
       "      <td>0.843977</td>\n",
       "      <td>0.911354</td>\n",
       "      <td>0.980277</td>\n",
       "      <td>0.364217</td>\n",
       "    </tr>\n",
       "    <tr>\n",
       "      <th>9525</th>\n",
       "      <td>0.659660</td>\n",
       "      <td>0.851520</td>\n",
       "      <td>0.981186</td>\n",
       "      <td>0.622903</td>\n",
       "    </tr>\n",
       "    <tr>\n",
       "      <th>9526</th>\n",
       "      <td>0.582053</td>\n",
       "      <td>0.766552</td>\n",
       "      <td>0.984448</td>\n",
       "      <td>0.677616</td>\n",
       "    </tr>\n",
       "  </tbody>\n",
       "</table>\n",
       "<p>9527 rows × 4 columns</p>\n",
       "</div>"
      ],
      "text/plain": [
       "      Температура  Разряженность  Давление  Влажность\n",
       "0        0.403126       0.512016  0.991067   0.730531\n",
       "1        0.678523       0.771947  0.987167   0.589856\n",
       "2        0.137699       0.483080  0.979541   0.919928\n",
       "3        0.562113       0.702795  0.977683   0.765176\n",
       "4        0.291566       0.459784  0.976706   0.964657\n",
       "...           ...            ...       ...        ...\n",
       "9522     0.448666       0.609245  0.981332   0.908546\n",
       "9523     0.355430       0.480383  0.990680   0.666733\n",
       "9524     0.843977       0.911354  0.980277   0.364217\n",
       "9525     0.659660       0.851520  0.981186   0.622903\n",
       "9526     0.582053       0.766552  0.984448   0.677616\n",
       "\n",
       "[9527 rows x 4 columns]"
      ]
     },
     "execution_count": 8,
     "metadata": {},
     "output_type": "execute_result"
    }
   ],
   "source": [
    "from sklearn import preprocessing\n",
    "data_normal = preprocessing.normalize(data_copy, axis=0, norm = 'max')\n",
    "data_normal = pd.DataFrame(data_normal)\n",
    "data_normal.columns = ['Температура', 'Разряженность', 'Давление', 'Влажность']\n",
    "data_normal"
   ]
  },
  {
   "cell_type": "code",
   "execution_count": 9,
   "id": "06eb2285",
   "metadata": {},
   "outputs": [
    {
     "data": {
      "image/png": "[encoded data removed]",
      "text/plain": [
       "<Figure size 720x720 with 1 Axes>"
      ]
     },
     "metadata": {
      "needs_background": "light"
     },
     "output_type": "display_data"
    }
   ],
   "source": [
    "plt.figure(figsize=(10, 10))\n",
    "sns.boxplot(data=data_normal)\n",
    "plt.show()"
   ]
  },
  {
   "cell_type": "code",
   "execution_count": 10,
   "id": "17c78788",
   "metadata": {},
   "outputs": [
    {
     "data": {
      "text/plain": [
       "<AxesSubplot:>"
      ]
     },
     "execution_count": 10,
     "metadata": {},
     "output_type": "execute_result"
    },
    {
     "data": {
      "image/png": "[encoded data removed]",
      "text/plain": [
       "<Figure size 432x288 with 1 Axes>"
      ]
     },
     "metadata": {
      "needs_background": "light"
     },
     "output_type": "display_data"
    }
   ],
   "source": [
    "data_normal.boxplot(column = ['Давление'])"
   ]
  },
  {
   "cell_type": "markdown",
   "id": "e34b9b8a",
   "metadata": {},
   "source": [
    "# 4.\tВыполните замену категориальных признаков; выберите и обоснуйте способ замены."
   ]
  },
  {
   "cell_type": "markdown",
   "id": "cd032bd2",
   "metadata": {},
   "source": [
    "# 5.\tОцените корреляцию между признаков и удалите те признаки, которые коррелируют с наибольшим числом других."
   ]
  },
  {
   "cell_type": "code",
   "execution_count": 11,
   "id": "82dd22c3",
   "metadata": {},
   "outputs": [
    {
     "data": {
      "image/png": "[encoded data removed]",
      "text/plain": [
       "<Figure size 1000x1000 with 2 Axes>"
      ]
     },
     "metadata": {
      "needs_background": "light"
     },
     "output_type": "display_data"
    },
    {
     "data": {
      "text/html": [
       "<div>\n",
       "<style scoped>\n",
       "    .dataframe tbody tr th:only-of-type {\n",
       "        vertical-align: middle;\n",
       "    }\n",
       "\n",
       "    .dataframe tbody tr th {\n",
       "        vertical-align: top;\n",
       "    }\n",
       "\n",
       "    .dataframe thead th {\n",
       "        text-align: right;\n",
       "    }\n",
       "</style>\n",
       "<table border=\"1\" class=\"dataframe\">\n",
       "  <thead>\n",
       "    <tr style=\"text-align: right;\">\n",
       "      <th></th>\n",
       "      <th>Температура</th>\n",
       "      <th>Разряженность</th>\n",
       "      <th>Давление</th>\n",
       "      <th>Влажность</th>\n",
       "    </tr>\n",
       "  </thead>\n",
       "  <tbody>\n",
       "    <tr>\n",
       "      <th>Температура</th>\n",
       "      <td>1.000000</td>\n",
       "      <td>0.843689</td>\n",
       "      <td>-0.508222</td>\n",
       "      <td>-0.543947</td>\n",
       "    </tr>\n",
       "    <tr>\n",
       "      <th>Разряженность</th>\n",
       "      <td>0.843689</td>\n",
       "      <td>1.000000</td>\n",
       "      <td>-0.415718</td>\n",
       "      <td>-0.312214</td>\n",
       "    </tr>\n",
       "    <tr>\n",
       "      <th>Давление</th>\n",
       "      <td>-0.508222</td>\n",
       "      <td>-0.415718</td>\n",
       "      <td>1.000000</td>\n",
       "      <td>0.101631</td>\n",
       "    </tr>\n",
       "    <tr>\n",
       "      <th>Влажность</th>\n",
       "      <td>-0.543947</td>\n",
       "      <td>-0.312214</td>\n",
       "      <td>0.101631</td>\n",
       "      <td>1.000000</td>\n",
       "    </tr>\n",
       "  </tbody>\n",
       "</table>\n",
       "</div>"
      ],
      "text/plain": [
       "               Температура  Разряженность  Давление  Влажность\n",
       "Температура       1.000000       0.843689 -0.508222  -0.543947\n",
       "Разряженность     0.843689       1.000000 -0.415718  -0.312214\n",
       "Давление         -0.508222      -0.415718  1.000000   0.101631\n",
       "Влажность        -0.543947      -0.312214  0.101631   1.000000"
      ]
     },
     "execution_count": 11,
     "metadata": {},
     "output_type": "execute_result"
    }
   ],
   "source": [
    "import matplotlib\n",
    "import matplotlib.pyplot as plt\n",
    "\n",
    "plt.figure(figsize=(10, 10), dpi= 100)\n",
    "sns.heatmap(data_normal.corr(), xticklabels=data_normal.corr().columns, yticklabels=data_normal.corr().columns, annot = True, vmin=-1, vmax=1, center= 0, linewidths=3, linecolor='black', square=True, cmap='Pastel1')\n",
    "plt.title('Map of correlations', fontsize=20)\n",
    "plt.show()\n",
    "\n",
    "data_normal.corr()"
   ]
  },
  {
   "cell_type": "markdown",
   "id": "a650ff80",
   "metadata": {},
   "source": [
    "# 6. Заполните пропущенные значения в данных;"
   ]
  },
  {
   "cell_type": "code",
   "execution_count": 12,
   "id": "8629b5cc",
   "metadata": {},
   "outputs": [
    {
     "data": {
      "text/plain": [
       "Температура      0\n",
       "Разряженность    0\n",
       "Давление         0\n",
       "Влажность        0\n",
       "dtype: int64"
      ]
     },
     "execution_count": 12,
     "metadata": {},
     "output_type": "execute_result"
    }
   ],
   "source": [
    "data_normal.isnull().sum()"
   ]
  },
  {
   "cell_type": "markdown",
   "id": "932674f8",
   "metadata": {},
   "source": [
    "# 7.\tРешите поставленную задачу регрессии в соответствии с заданием. При подборе параметров метода принятия решения (метода регрессии) используйте перекрёстную проверку (изучите возможные для изменения параметры метода регрессии).  Вычислите точность решения задачи, вычислив разницу между реальным значением и предсказанным. Вычислите коэффициент корреляции (Пирсона, Спирмена) между реальным значением и предсказанным с учётом p-value. "
   ]
  },
  {
   "cell_type": "code",
   "execution_count": 13,
   "id": "72229a78",
   "metadata": {},
   "outputs": [],
   "source": [
    "x, y = data_normal, data['Выработка']\n",
    "x_train, x_test, y_train, y_test = train_test_split(x, y, test_size = 0.3)"
   ]
  },
  {
   "cell_type": "code",
   "execution_count": 14,
   "id": "70c4f217",
   "metadata": {},
   "outputs": [
    {
     "name": "stdout",
     "output_type": "stream",
     "text": [
      "Пирсон:  0.9623078660878572\n",
      "pvalue:  0.0\n",
      "Спирмен:  0.962218497860409\n",
      "pvalue:  0.0\n",
      "Cредняя абсолютная ошибка =  3.64828\n"
     ]
    }
   ],
   "source": [
    "LR = LinearRegression()\n",
    "LR.fit(x_train, y_train)\n",
    "predict_LR = LR.predict(x_test)\n",
    "\n",
    "person_PR, pvalue_pearson_PR = pearsonr(predict_LR, y_test)\n",
    "spermen_PR, pvalue_spermen_PR = spearmanr(predict_LR, y_test)\n",
    "print('Пирсон: ', person_PR)\n",
    "print('pvalue: ', pvalue_pearson_PR)\n",
    "print('Спирмен: ', spermen_PR)\n",
    "print('pvalue: ', pvalue_spermen_PR)\n",
    "print('Cредняя абсолютная ошибка = %8.5f' %mean_absolute_error(predict_LR, y_test))"
   ]
  },
  {
   "cell_type": "code",
   "execution_count": 15,
   "id": "d86dd6ef",
   "metadata": {},
   "outputs": [
    {
     "name": "stdout",
     "output_type": "stream",
     "text": [
      "[-74.13595268 -19.24050749  35.41671907 -16.34598435]\n",
      "Среднеквадратичная ошибка: 20.663, test: 21.119\n",
      "Коэффициент детерминации: 0.929, test: 0.926\n"
     ]
    }
   ],
   "source": [
    "#RIDGE регуляризатор\n",
    "from sklearn.linear_model import Ridge\n",
    "from sklearn.metrics import mean_absolute_error, mean_squared_error, median_absolute_error, r2_score\n",
    "\n",
    "ridge = Ridge(alpha=0.1)\n",
    "ridge.fit(x_train, y_train)\n",
    "y_train_pred = ridge.predict(x_train)\n",
    "y_test_pred = ridge.predict(x_test)\n",
    "print(ridge.coef_)\n",
    "print('Среднеквадратичная ошибка: {:.3f}, test: {:.3f}'.format(mean_squared_error(y_train, y_train_pred), mean_squared_error(y_test, y_test_pred)))\n",
    "print('Коэффициент детерминации: {:.3f}, test: {:.3f}'.format(r2_score(y_train, y_train_pred), r2_score(y_test, y_test_pred)))"
   ]
  },
  {
   "cell_type": "code",
   "execution_count": 16,
   "id": "b7d96e42",
   "metadata": {},
   "outputs": [
    {
     "name": "stdout",
     "output_type": "stream",
     "text": [
      "Пирсон:  0.9622575351458609\n",
      "pvalue:  0.0\n",
      "Спирмен:  0.962083838106989\n",
      "pvalue:  0.0\n"
     ]
    }
   ],
   "source": [
    "person_PR, pvalue_pearson_PR = pearsonr(y_test_pred, y_test)\n",
    "spermen_PR, pvalue_spermen_PR = spearmanr(y_test_pred, y_test)\n",
    "print('Пирсон: ', person_PR)\n",
    "print('pvalue: ', pvalue_pearson_PR)\n",
    "print('Спирмен: ', spermen_PR)\n",
    "print('pvalue: ', pvalue_spermen_PR)"
   ]
  },
  {
   "cell_type": "code",
   "execution_count": 17,
   "id": "29b386f4",
   "metadata": {},
   "outputs": [
    {
     "data": {
      "text/plain": [
       "0.925788218432237"
      ]
     },
     "execution_count": 17,
     "metadata": {},
     "output_type": "execute_result"
    }
   ],
   "source": [
    "RigeModel = Ridge(alpha=0.1)\n",
    "RigeModel.fit(x_train, y_train)\n",
    "RigeModel.score(x_test, y_test)"
   ]
  },
  {
   "cell_type": "code",
   "execution_count": 18,
   "id": "1a1b48a5",
   "metadata": {},
   "outputs": [
    {
     "data": {
      "text/plain": [
       "0.925865507259782"
      ]
     },
     "execution_count": 18,
     "metadata": {},
     "output_type": "execute_result"
    }
   ],
   "source": [
    "RigeModel = Ridge(alpha=0.01)\n",
    "RigeModel.fit(x_train, y_train)\n",
    "RigeModel.score(x_test, y_test)"
   ]
  },
  {
   "cell_type": "code",
   "execution_count": 21,
   "id": "86f2bae3",
   "metadata": {},
   "outputs": [
    {
     "data": {
      "text/plain": [
       "<matplotlib.collections.PathCollection at 0x19369f22790>"
      ]
     },
     "execution_count": 21,
     "metadata": {},
     "output_type": "execute_result"
    },
    {
     "data": {
      "image/png": "[encoded data removed]",
      "text/plain": [
       "<Figure size 720x720 with 1 Axes>"
      ]
     },
     "metadata": {
      "needs_background": "light"
     },
     "output_type": "display_data"
    }
   ],
   "source": [
    "plt.figure(figsize=(10,10))\n",
    "plt.scatter(RigeModel.predict(x_test), y_test)"
   ]
  },
  {
   "cell_type": "markdown",
   "id": "3850f6af",
   "metadata": {},
   "source": [
    "## "
   ]
  }
 ],
 "metadata": {
  "kernelspec": {
   "display_name": "Python 3 (ipykernel)",
   "language": "python",
   "name": "python3"
  },
  "language_info": {
   "codemirror_mode": {
    "name": "ipython",
    "version": 3
   },
   "file_extension": ".py",
   "mimetype": "text/x-python",
   "name": "python",
   "nbconvert_exporter": "python",
   "pygments_lexer": "ipython3",
   "version": "3.9.7"
  }
 },
 "nbformat": 4,
 "nbformat_minor": 5
}
