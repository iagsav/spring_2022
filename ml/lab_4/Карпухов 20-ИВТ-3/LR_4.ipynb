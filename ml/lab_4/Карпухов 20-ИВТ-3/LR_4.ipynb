{
 "cells": [
  {
   "cell_type": "code",
   "execution_count": 3,
   "id": "7447d3a0",
   "metadata": {},
   "outputs": [
    {
     "data": {
      "text/html": [
       "<div>\n",
       "<style scoped>\n",
       "    .dataframe tbody tr th:only-of-type {\n",
       "        vertical-align: middle;\n",
       "    }\n",
       "\n",
       "    .dataframe tbody tr th {\n",
       "        vertical-align: top;\n",
       "    }\n",
       "\n",
       "    .dataframe thead th {\n",
       "        text-align: right;\n",
       "    }\n",
       "</style>\n",
       "<table border=\"1\" class=\"dataframe\">\n",
       "  <thead>\n",
       "    <tr style=\"text-align: right;\">\n",
       "      <th></th>\n",
       "      <th>dateCrawled</th>\n",
       "      <th>name</th>\n",
       "      <th>seller</th>\n",
       "      <th>offerType</th>\n",
       "      <th>price</th>\n",
       "      <th>abtest</th>\n",
       "      <th>vehicleType</th>\n",
       "      <th>yearOfRegistration</th>\n",
       "      <th>gearbox</th>\n",
       "      <th>powerPS</th>\n",
       "      <th>model</th>\n",
       "      <th>kilometer</th>\n",
       "      <th>monthOfRegistration</th>\n",
       "      <th>fuelType</th>\n",
       "      <th>brand</th>\n",
       "      <th>notRepairedDamage</th>\n",
       "      <th>dateCreated</th>\n",
       "      <th>nrOfPictures</th>\n",
       "      <th>postalCode</th>\n",
       "      <th>lastSeen</th>\n",
       "    </tr>\n",
       "  </thead>\n",
       "  <tbody>\n",
       "    <tr>\n",
       "      <th>0</th>\n",
       "      <td>2016-03-24 11:52:17</td>\n",
       "      <td>Golf_3_1.6</td>\n",
       "      <td>privat</td>\n",
       "      <td>Angebot</td>\n",
       "      <td>480</td>\n",
       "      <td>test</td>\n",
       "      <td>NaN</td>\n",
       "      <td>1993</td>\n",
       "      <td>manuell</td>\n",
       "      <td>0</td>\n",
       "      <td>golf</td>\n",
       "      <td>150000</td>\n",
       "      <td>0</td>\n",
       "      <td>benzin</td>\n",
       "      <td>volkswagen</td>\n",
       "      <td>NaN</td>\n",
       "      <td>2016-03-24 00:00:00</td>\n",
       "      <td>0</td>\n",
       "      <td>70435</td>\n",
       "      <td>2016-04-07 03:16:57</td>\n",
       "    </tr>\n",
       "    <tr>\n",
       "      <th>1</th>\n",
       "      <td>2016-03-24 10:58:45</td>\n",
       "      <td>A5_Sportback_2.7_Tdi</td>\n",
       "      <td>privat</td>\n",
       "      <td>Angebot</td>\n",
       "      <td>18300</td>\n",
       "      <td>test</td>\n",
       "      <td>coupe</td>\n",
       "      <td>2011</td>\n",
       "      <td>manuell</td>\n",
       "      <td>190</td>\n",
       "      <td>NaN</td>\n",
       "      <td>125000</td>\n",
       "      <td>5</td>\n",
       "      <td>diesel</td>\n",
       "      <td>audi</td>\n",
       "      <td>ja</td>\n",
       "      <td>2016-03-24 00:00:00</td>\n",
       "      <td>0</td>\n",
       "      <td>66954</td>\n",
       "      <td>2016-04-07 01:46:50</td>\n",
       "    </tr>\n",
       "    <tr>\n",
       "      <th>2</th>\n",
       "      <td>2016-03-14 12:52:21</td>\n",
       "      <td>Jeep_Grand_Cherokee_\"Overland\"</td>\n",
       "      <td>privat</td>\n",
       "      <td>Angebot</td>\n",
       "      <td>9800</td>\n",
       "      <td>test</td>\n",
       "      <td>suv</td>\n",
       "      <td>2004</td>\n",
       "      <td>automatik</td>\n",
       "      <td>163</td>\n",
       "      <td>grand</td>\n",
       "      <td>125000</td>\n",
       "      <td>8</td>\n",
       "      <td>diesel</td>\n",
       "      <td>jeep</td>\n",
       "      <td>NaN</td>\n",
       "      <td>2016-03-14 00:00:00</td>\n",
       "      <td>0</td>\n",
       "      <td>90480</td>\n",
       "      <td>2016-04-05 12:47:46</td>\n",
       "    </tr>\n",
       "    <tr>\n",
       "      <th>3</th>\n",
       "      <td>2016-03-17 16:54:04</td>\n",
       "      <td>GOLF_4_1_4__3TÜRER</td>\n",
       "      <td>privat</td>\n",
       "      <td>Angebot</td>\n",
       "      <td>1500</td>\n",
       "      <td>test</td>\n",
       "      <td>kleinwagen</td>\n",
       "      <td>2001</td>\n",
       "      <td>manuell</td>\n",
       "      <td>75</td>\n",
       "      <td>golf</td>\n",
       "      <td>150000</td>\n",
       "      <td>6</td>\n",
       "      <td>benzin</td>\n",
       "      <td>volkswagen</td>\n",
       "      <td>nein</td>\n",
       "      <td>2016-03-17 00:00:00</td>\n",
       "      <td>0</td>\n",
       "      <td>91074</td>\n",
       "      <td>2016-03-17 17:40:17</td>\n",
       "    </tr>\n",
       "    <tr>\n",
       "      <th>4</th>\n",
       "      <td>2016-03-31 17:25:20</td>\n",
       "      <td>Skoda_Fabia_1.4_TDI_PD_Classic</td>\n",
       "      <td>privat</td>\n",
       "      <td>Angebot</td>\n",
       "      <td>3600</td>\n",
       "      <td>test</td>\n",
       "      <td>kleinwagen</td>\n",
       "      <td>2008</td>\n",
       "      <td>manuell</td>\n",
       "      <td>69</td>\n",
       "      <td>fabia</td>\n",
       "      <td>90000</td>\n",
       "      <td>7</td>\n",
       "      <td>diesel</td>\n",
       "      <td>skoda</td>\n",
       "      <td>nein</td>\n",
       "      <td>2016-03-31 00:00:00</td>\n",
       "      <td>0</td>\n",
       "      <td>60437</td>\n",
       "      <td>2016-04-06 10:17:21</td>\n",
       "    </tr>\n",
       "  </tbody>\n",
       "</table>\n",
       "</div>"
      ],
      "text/plain": [
       "           dateCrawled                            name  seller offerType  \\\n",
       "0  2016-03-24 11:52:17                      Golf_3_1.6  privat   Angebot   \n",
       "1  2016-03-24 10:58:45            A5_Sportback_2.7_Tdi  privat   Angebot   \n",
       "2  2016-03-14 12:52:21  Jeep_Grand_Cherokee_\"Overland\"  privat   Angebot   \n",
       "3  2016-03-17 16:54:04              GOLF_4_1_4__3TÜRER  privat   Angebot   \n",
       "4  2016-03-31 17:25:20  Skoda_Fabia_1.4_TDI_PD_Classic  privat   Angebot   \n",
       "\n",
       "   price abtest vehicleType  yearOfRegistration    gearbox  powerPS  model  \\\n",
       "0    480   test         NaN                1993    manuell        0   golf   \n",
       "1  18300   test       coupe                2011    manuell      190    NaN   \n",
       "2   9800   test         suv                2004  automatik      163  grand   \n",
       "3   1500   test  kleinwagen                2001    manuell       75   golf   \n",
       "4   3600   test  kleinwagen                2008    manuell       69  fabia   \n",
       "\n",
       "   kilometer  monthOfRegistration fuelType       brand notRepairedDamage  \\\n",
       "0     150000                    0   benzin  volkswagen               NaN   \n",
       "1     125000                    5   diesel        audi                ja   \n",
       "2     125000                    8   diesel        jeep               NaN   \n",
       "3     150000                    6   benzin  volkswagen              nein   \n",
       "4      90000                    7   diesel       skoda              nein   \n",
       "\n",
       "           dateCreated  nrOfPictures  postalCode             lastSeen  \n",
       "0  2016-03-24 00:00:00             0       70435  2016-04-07 03:16:57  \n",
       "1  2016-03-24 00:00:00             0       66954  2016-04-07 01:46:50  \n",
       "2  2016-03-14 00:00:00             0       90480  2016-04-05 12:47:46  \n",
       "3  2016-03-17 00:00:00             0       91074  2016-03-17 17:40:17  \n",
       "4  2016-03-31 00:00:00             0       60437  2016-04-06 10:17:21  "
      ]
     },
     "execution_count": 3,
     "metadata": {},
     "output_type": "execute_result"
    }
   ],
   "source": [
    "import numpy as np\n",
    "import pandas as pd\n",
    "import sklearn as sk\n",
    "import seaborn as sns\n",
    "import matplotlib.pyplot as plt\n",
    "\n",
    "from sklearn import linear_model\n",
    "from sklearn import preprocessing\n",
    "from sklearn.preprocessing import MinMaxScaler\n",
    "from sklearn.model_selection import GridSearchCV\n",
    "from sklearn.preprocessing import PolynomialFeatures\n",
    "from sklearn.model_selection import (cross_val_score, StratifiedKFold, train_test_split)\n",
    "from sklearn.linear_model import LogisticRegression, LogisticRegressionCV\n",
    "from sklearn.linear_model import LinearRegression, Lasso, LassoCV\n",
    "from scipy.stats import pearsonr, spearmanr\n",
    "\n",
    "import warnings\n",
    "warnings.filterwarnings('ignore')\n",
    "\n",
    "auto_data = pd.read_csv('autos.csv', encoding = 'latin1')\n",
    "auto_data.head()"
   ]
  },
  {
   "cell_type": "markdown",
   "id": "58944ff6",
   "metadata": {},
   "source": [
    "# 1. Изучить набор данных. Создать описание набора данных на русском языке. Описать признаки, используемые в наборе данных (включить полученные описания в отчёт)."
   ]
  },
  {
   "cell_type": "markdown",
   "id": "c1ed152e",
   "metadata": {},
   "source": [
    "1. dateCrawled - даты обхода \t\n",
    "2. name - название автомобиля\n",
    "3. seller - продавец(частный диллер)\t\n",
    "4. offerType -тип предложения\t\n",
    "5. price - цена по объявлению о продаже автомобиля\t\n",
    "6. abtest - техосмотр\n",
    "7. vehicleType - тип авто\t\n",
    "8. yearOfRegistration - в каком году автомобиль был впервые зарегистрирован\n",
    "9. gearbox - коробка передач\t\n",
    "10. powerPS - мощность автомобиля в л.с.\t\n",
    "11.\tmodel - модель\n",
    "12.\tkilometer - сколько километров проехал автомобиль\n",
    "13. monthOfRegistration - в каком месяце автомобиль был впервые зарегистрирован\n",
    "14. fuelType - тип топлива\t\n",
    "15.\tbrand - марка\n",
    "16.\tnotRepairedDamage - если у автомобиля повреждения, которые еще не       отремонтированы\n",
    "17. dateCreated - дата создания объявления на ebay\t\n",
    "18.\tnrOfPictures - количество картинок в объявлении\n",
    "19.\tpostalCode - индекс\n",
    "20.\tlastSeenOnline - когда искатель видел это объявление в последний раз в Интернете"
   ]
  },
  {
   "cell_type": "markdown",
   "id": "7cc6062f",
   "metadata": {},
   "source": [
    "# 2. Удалите дубликаты строк в наборе данных; приведите размер набора данных до и после данной операции;"
   ]
  },
  {
   "cell_type": "code",
   "execution_count": 4,
   "id": "09de504e",
   "metadata": {},
   "outputs": [
    {
     "name": "stdout",
     "output_type": "stream",
     "text": [
      "До удаления дубликатов: (371528, 20)\n"
     ]
    }
   ],
   "source": [
    "# Созраняем старый набор данных\n",
    "print('До удаления дубликатов:', auto_data.shape)"
   ]
  },
  {
   "cell_type": "code",
   "execution_count": 5,
   "id": "6887889f",
   "metadata": {},
   "outputs": [
    {
     "name": "stdout",
     "output_type": "stream",
     "text": [
      "После удаления дубликатов: (260952, 13)\n"
     ]
    }
   ],
   "source": [
    "# Удаляем дубликаты\n",
    "auto_data = auto_data.drop_duplicates()\n",
    "# Удаляем нулевые строки\n",
    "auto_data = auto_data.dropna()\n",
    "# Удаляем дублирующиеся под другими названиями признаки\n",
    "auto_data = auto_data.drop(['dateCrawled', 'name', 'offerType', 'model', 'dateCreated', 'lastSeen', 'postalCode'], axis=1)\n",
    "print('После удаления дубликатов:', auto_data.shape)"
   ]
  },
  {
   "cell_type": "markdown",
   "id": "16fc10c7",
   "metadata": {},
   "source": [
    "# 3. Выполните масштабирование количественных признаков; Постройте диаграммы BoxPlot для признаков до и после масштабирования. Выберите способ масштабирования (например, нормализацию или стандартизацию);"
   ]
  },
  {
   "cell_type": "code",
   "execution_count": 6,
   "id": "33235e88",
   "metadata": {},
   "outputs": [
    {
     "name": "stdout",
     "output_type": "stream",
     "text": [
      "Количественые признаки: ['price', 'yearOfRegistration', 'powerPS', 'kilometer', 'monthOfRegistration', 'nrOfPictures']\n",
      "Категориальные признаки: ['seller', 'abtest', 'vehicleType', 'gearbox', 'fuelType', 'brand', 'notRepairedDamage']\n"
     ]
    }
   ],
   "source": [
    "# Разделяем признаки на категориальные и количественные\n",
    "# Количественные признаки:\n",
    "quantitative = [column for column in auto_data.columns if auto_data[column].dtype.name != 'object']\n",
    "print(f\"Количественые признаки: {quantitative}\")\n",
    "# Категориальные признаки:\n",
    "categorical = [column for column in auto_data.columns if auto_data[column].dtype.name == 'object']\n",
    "print(f\"Категориальные признаки: {categorical}\")"
   ]
  },
  {
   "cell_type": "code",
   "execution_count": 7,
   "id": "9d7f8bd1",
   "metadata": {},
   "outputs": [
    {
     "data": {
      "text/plain": [
       "<AxesSubplot:>"
      ]
     },
     "execution_count": 7,
     "metadata": {},
     "output_type": "execute_result"
    },
    {
     "data": {
      "image/png": "[encoded data removed]",
      "text/plain": [
       "<Figure size 1296x648 with 1 Axes>"
      ]
     },
     "metadata": {
      "needs_background": "light"
     },
     "output_type": "display_data"
    }
   ],
   "source": [
    "# Диаграмма до мастабирования\n",
    "# Настройки диаграммы:\n",
    "# figure - это контейнер самого верхнего уровня. Та область, в которой все нарисовано\n",
    "# Создаем область figure и указываем ее размер\n",
    "fig = plt.figure(figsize=(18, 9))\n",
    "sns.boxplot(data = auto_data[quantitative].drop(['price'], axis = 1))"
   ]
  },
  {
   "cell_type": "code",
   "execution_count": 8,
   "id": "0c97d819",
   "metadata": {},
   "outputs": [
    {
     "data": {
      "text/plain": [
       "<AxesSubplot:>"
      ]
     },
     "execution_count": 8,
     "metadata": {},
     "output_type": "execute_result"
    },
    {
     "data": {
      "image/png": "[encoded data removed]",
      "text/plain": [
       "<Figure size 1296x648 with 1 Axes>"
      ]
     },
     "metadata": {
      "needs_background": "light"
     },
     "output_type": "display_data"
    }
   ],
   "source": [
    "# Производим нормализацию числовых признаков\n",
    "# Создаем объект класса MinMaxScaler\n",
    "# Для каждого значения в объекте MinMaxScaler вычитает минимальное значение в объекте и затем делит на диапазон.\n",
    "# Диапазон - это разница между исходным максимумом и исходным минимумом.\n",
    "scaler = preprocessing.MinMaxScaler()\n",
    "# Преобразуем набор данных с помощью функции fit_transform и затем присваиваем измененные данные объекту occupancy\n",
    "auto_data[['yearOfRegistration', 'powerPS', 'kilometer', 'monthOfRegistration', 'nrOfPictures']] = scaler.fit_transform(auto_data[['yearOfRegistration', 'powerPS', 'kilometer', 'monthOfRegistration', 'nrOfPictures']])\n",
    "# Cтроим отмастабированную диаграмму\n",
    "fig = plt.figure(figsize=(18, 9))\n",
    "sns.boxplot(data = auto_data[['yearOfRegistration', 'powerPS', 'kilometer', 'monthOfRegistration', 'nrOfPictures']])"
   ]
  },
  {
   "cell_type": "markdown",
   "id": "e946ce4f",
   "metadata": {},
   "source": [
    "# 4. Выполните замену категориальных признаков; выберите и обоснуйте способ замены"
   ]
  },
  {
   "cell_type": "code",
   "execution_count": 9,
   "id": "b4827995",
   "metadata": {},
   "outputs": [
    {
     "name": "stdout",
     "output_type": "stream",
     "text": [
      "seller :  ['privat' 'gewerblich']\n",
      "abtest :  ['test' 'control']\n",
      "vehicleType :  ['kleinwagen' 'limousine' 'cabrio' 'kombi' 'suv' 'bus' 'coupe' 'andere']\n",
      "gearbox :  ['manuell' 'automatik']\n",
      "fuelType :  ['benzin' 'diesel' 'lpg' 'andere' 'hybrid' 'cng' 'elektro']\n",
      "brand :  ['volkswagen' 'skoda' 'bmw' 'peugeot' 'mazda' 'nissan' 'renault' 'ford'\n",
      " 'mercedes_benz' 'seat' 'honda' 'fiat' 'mini' 'opel' 'smart' 'audi'\n",
      " 'alfa_romeo' 'subaru' 'mitsubishi' 'hyundai' 'volvo' 'lancia' 'porsche'\n",
      " 'citroen' 'toyota' 'kia' 'chevrolet' 'dacia' 'suzuki' 'daihatsu'\n",
      " 'chrysler' 'jaguar' 'rover' 'jeep' 'saab' 'daewoo' 'land_rover' 'trabant'\n",
      " 'lada']\n",
      "notRepairedDamage :  ['nein' 'ja']\n"
     ]
    }
   ],
   "source": [
    "for i in categorical:\n",
    "    print(i, ': ', auto_data[i].unique())"
   ]
  },
  {
   "cell_type": "code",
   "execution_count": 12,
   "id": "cdd01a67",
   "metadata": {},
   "outputs": [
    {
     "data": {
      "text/html": [
       "<div>\n",
       "<style scoped>\n",
       "    .dataframe tbody tr th:only-of-type {\n",
       "        vertical-align: middle;\n",
       "    }\n",
       "\n",
       "    .dataframe tbody tr th {\n",
       "        vertical-align: top;\n",
       "    }\n",
       "\n",
       "    .dataframe thead th {\n",
       "        text-align: right;\n",
       "    }\n",
       "</style>\n",
       "<table border=\"1\" class=\"dataframe\">\n",
       "  <thead>\n",
       "    <tr style=\"text-align: right;\">\n",
       "      <th></th>\n",
       "      <th>vehicleType_andere</th>\n",
       "      <th>vehicleType_bus</th>\n",
       "      <th>vehicleType_cabrio</th>\n",
       "      <th>vehicleType_coupe</th>\n",
       "      <th>vehicleType_kleinwagen</th>\n",
       "      <th>vehicleType_kombi</th>\n",
       "      <th>vehicleType_limousine</th>\n",
       "      <th>vehicleType_suv</th>\n",
       "      <th>fuelType_andere</th>\n",
       "      <th>fuelType_benzin</th>\n",
       "      <th>...</th>\n",
       "      <th>seller</th>\n",
       "      <th>price</th>\n",
       "      <th>abtest</th>\n",
       "      <th>yearOfRegistration</th>\n",
       "      <th>gearbox</th>\n",
       "      <th>powerPS</th>\n",
       "      <th>kilometer</th>\n",
       "      <th>monthOfRegistration</th>\n",
       "      <th>notRepairedDamage</th>\n",
       "      <th>nrOfPictures</th>\n",
       "    </tr>\n",
       "  </thead>\n",
       "  <tbody>\n",
       "    <tr>\n",
       "      <th>3</th>\n",
       "      <td>0</td>\n",
       "      <td>0</td>\n",
       "      <td>0</td>\n",
       "      <td>0</td>\n",
       "      <td>1</td>\n",
       "      <td>0</td>\n",
       "      <td>0</td>\n",
       "      <td>0</td>\n",
       "      <td>0</td>\n",
       "      <td>1</td>\n",
       "      <td>...</td>\n",
       "      <td>0</td>\n",
       "      <td>1500</td>\n",
       "      <td>0</td>\n",
       "      <td>0.842593</td>\n",
       "      <td>0</td>\n",
       "      <td>0.00375</td>\n",
       "      <td>1.000000</td>\n",
       "      <td>0.500000</td>\n",
       "      <td>0</td>\n",
       "      <td>0.0</td>\n",
       "    </tr>\n",
       "    <tr>\n",
       "      <th>4</th>\n",
       "      <td>0</td>\n",
       "      <td>0</td>\n",
       "      <td>0</td>\n",
       "      <td>0</td>\n",
       "      <td>1</td>\n",
       "      <td>0</td>\n",
       "      <td>0</td>\n",
       "      <td>0</td>\n",
       "      <td>0</td>\n",
       "      <td>0</td>\n",
       "      <td>...</td>\n",
       "      <td>0</td>\n",
       "      <td>3600</td>\n",
       "      <td>0</td>\n",
       "      <td>0.907407</td>\n",
       "      <td>0</td>\n",
       "      <td>0.00345</td>\n",
       "      <td>0.586207</td>\n",
       "      <td>0.583333</td>\n",
       "      <td>0</td>\n",
       "      <td>0.0</td>\n",
       "    </tr>\n",
       "    <tr>\n",
       "      <th>5</th>\n",
       "      <td>0</td>\n",
       "      <td>0</td>\n",
       "      <td>0</td>\n",
       "      <td>0</td>\n",
       "      <td>0</td>\n",
       "      <td>0</td>\n",
       "      <td>1</td>\n",
       "      <td>0</td>\n",
       "      <td>0</td>\n",
       "      <td>1</td>\n",
       "      <td>...</td>\n",
       "      <td>0</td>\n",
       "      <td>650</td>\n",
       "      <td>0</td>\n",
       "      <td>0.787037</td>\n",
       "      <td>0</td>\n",
       "      <td>0.00510</td>\n",
       "      <td>1.000000</td>\n",
       "      <td>0.833333</td>\n",
       "      <td>1</td>\n",
       "      <td>0.0</td>\n",
       "    </tr>\n",
       "    <tr>\n",
       "      <th>6</th>\n",
       "      <td>0</td>\n",
       "      <td>0</td>\n",
       "      <td>1</td>\n",
       "      <td>0</td>\n",
       "      <td>0</td>\n",
       "      <td>0</td>\n",
       "      <td>0</td>\n",
       "      <td>0</td>\n",
       "      <td>0</td>\n",
       "      <td>1</td>\n",
       "      <td>...</td>\n",
       "      <td>0</td>\n",
       "      <td>2200</td>\n",
       "      <td>0</td>\n",
       "      <td>0.870370</td>\n",
       "      <td>0</td>\n",
       "      <td>0.00545</td>\n",
       "      <td>1.000000</td>\n",
       "      <td>0.666667</td>\n",
       "      <td>0</td>\n",
       "      <td>0.0</td>\n",
       "    </tr>\n",
       "    <tr>\n",
       "      <th>7</th>\n",
       "      <td>0</td>\n",
       "      <td>0</td>\n",
       "      <td>0</td>\n",
       "      <td>0</td>\n",
       "      <td>0</td>\n",
       "      <td>0</td>\n",
       "      <td>1</td>\n",
       "      <td>0</td>\n",
       "      <td>0</td>\n",
       "      <td>1</td>\n",
       "      <td>...</td>\n",
       "      <td>0</td>\n",
       "      <td>0</td>\n",
       "      <td>0</td>\n",
       "      <td>0.648148</td>\n",
       "      <td>0</td>\n",
       "      <td>0.00250</td>\n",
       "      <td>0.241379</td>\n",
       "      <td>0.583333</td>\n",
       "      <td>0</td>\n",
       "      <td>0.0</td>\n",
       "    </tr>\n",
       "  </tbody>\n",
       "</table>\n",
       "<p>5 rows × 64 columns</p>\n",
       "</div>"
      ],
      "text/plain": [
       "   vehicleType_andere  vehicleType_bus  vehicleType_cabrio  vehicleType_coupe  \\\n",
       "3                   0                0                   0                  0   \n",
       "4                   0                0                   0                  0   \n",
       "5                   0                0                   0                  0   \n",
       "6                   0                0                   1                  0   \n",
       "7                   0                0                   0                  0   \n",
       "\n",
       "   vehicleType_kleinwagen  vehicleType_kombi  vehicleType_limousine  \\\n",
       "3                       1                  0                      0   \n",
       "4                       1                  0                      0   \n",
       "5                       0                  0                      1   \n",
       "6                       0                  0                      0   \n",
       "7                       0                  0                      1   \n",
       "\n",
       "   vehicleType_suv  fuelType_andere  fuelType_benzin  ...  seller  price  \\\n",
       "3                0                0                1  ...       0   1500   \n",
       "4                0                0                0  ...       0   3600   \n",
       "5                0                0                1  ...       0    650   \n",
       "6                0                0                1  ...       0   2200   \n",
       "7                0                0                1  ...       0      0   \n",
       "\n",
       "   abtest  yearOfRegistration  gearbox  powerPS  kilometer  \\\n",
       "3       0            0.842593        0  0.00375   1.000000   \n",
       "4       0            0.907407        0  0.00345   0.586207   \n",
       "5       0            0.787037        0  0.00510   1.000000   \n",
       "6       0            0.870370        0  0.00545   1.000000   \n",
       "7       0            0.648148        0  0.00250   0.241379   \n",
       "\n",
       "   monthOfRegistration  notRepairedDamage  nrOfPictures  \n",
       "3             0.500000                  0           0.0  \n",
       "4             0.583333                  0           0.0  \n",
       "5             0.833333                  1           0.0  \n",
       "6             0.666667                  0           0.0  \n",
       "7             0.583333                  0           0.0  \n",
       "\n",
       "[5 rows x 64 columns]"
      ]
     },
     "execution_count": 12,
     "metadata": {},
     "output_type": "execute_result"
    }
   ],
   "source": [
    "# Делим категориальные признаки на бинарные (имеющие два возможных значения)\n",
    "# и небинарные (имеющие более двух возможных значений)\n",
    "binary = [i for i in categorical if len(auto_data[i].unique()) == 2]\n",
    "nonbinary = [i for i in categorical if len(auto_data[i].unique()) > 2]\n",
    "\n",
    "# Для каждого столбца бинарных признаков заменяем их значения на 0 или 1\n",
    "for col in binary:\n",
    "    for i, uniq_item in enumerate(auto_data[col].unique()):\n",
    "        auto_data[col] = auto_data[col].replace(to_replace = [uniq_item], value = [i])\n",
    "\n",
    "# Для небинарных признаков:\n",
    "# 1. С помощью метода get_dummies преобразуем значения небинарных признаков, таким образом, чтобы все их возможные значения выделялись в отдельные столбцы\n",
    "# И если небинарный признак в данной строке имеет значение, совпадающее с одним из них\n",
    "# То в этом столбце ставится значение 1, а в противном случае - 0.\n",
    "auto_nonbinary = pd.get_dummies(auto_data[nonbinary])\n",
    "# 2. Удаляем все обычные столбцы небинарных признаков из массива данных\n",
    "auto_data.drop(nonbinary, axis = 1, inplace = True)\n",
    "# 3. С помощью метода concat включаем в массив данных новые столбцы небинарных признаков, полученные с помощью метода get_dummies\n",
    "auto_data = pd.concat([auto_nonbinary, auto_data], axis = 1)\n",
    "auto_data.head()"
   ]
  },
  {
   "cell_type": "markdown",
   "id": "050671c2",
   "metadata": {},
   "source": [
    "# 5. Оцените корреляцию между признаков и удалите те признаки, которые коррелируют с наибольшим числом других;"
   ]
  },
  {
   "cell_type": "code",
   "execution_count": 14,
   "id": "b275a964",
   "metadata": {},
   "outputs": [
    {
     "data": {
      "text/plain": [
       "<AxesSubplot:>"
      ]
     },
     "execution_count": 14,
     "metadata": {},
     "output_type": "execute_result"
    },
    {
     "data": {
      "image/png": "[encoded data removed]",
      "text/plain": [
       "<Figure size 1152x1152 with 2 Axes>"
      ]
     },
     "metadata": {
      "needs_background": "light"
     },
     "output_type": "display_data"
    }
   ],
   "source": [
    "# Находим корреляцию\n",
    "auto_corr = auto_data.drop('nrOfPictures', axis = 1).corr()\n",
    "# Строим тепловую карту признаков для оценки корреляции\n",
    "plt.figure(figsize=(16, 16))\n",
    "sns.heatmap(auto_corr)"
   ]
  },
  {
   "cell_type": "markdown",
   "id": "235f4621",
   "metadata": {},
   "source": [
    "# 6. Заполните пропущенные значения в данных;"
   ]
  },
  {
   "cell_type": "code",
   "execution_count": 18,
   "id": "5ea45577",
   "metadata": {},
   "outputs": [
    {
     "data": {
      "text/plain": [
       "(260952, 64)"
      ]
     },
     "execution_count": 18,
     "metadata": {},
     "output_type": "execute_result"
    }
   ],
   "source": [
    "# узнаем размер массива (количество строк и столбцов) с помощью метода shape:\n",
    "auto_data.shape"
   ]
  },
  {
   "cell_type": "code",
   "execution_count": 19,
   "id": "1552fa75",
   "metadata": {},
   "outputs": [
    {
     "data": {
      "text/plain": [
       "vehicleType_andere        260952\n",
       "vehicleType_bus           260952\n",
       "vehicleType_cabrio        260952\n",
       "vehicleType_coupe         260952\n",
       "vehicleType_kleinwagen    260952\n",
       "                           ...  \n",
       "powerPS                   260952\n",
       "kilometer                 260952\n",
       "monthOfRegistration       260952\n",
       "notRepairedDamage         260952\n",
       "nrOfPictures              260952\n",
       "Length: 64, dtype: int64"
      ]
     },
     "execution_count": 19,
     "metadata": {},
     "output_type": "execute_result"
    }
   ],
   "source": [
    "# Подсчитываем количество значений во всех столбцах методом count\n",
    "auto_data.count()"
   ]
  },
  {
   "cell_type": "markdown",
   "id": "8acc3760",
   "metadata": {},
   "source": [
    "Пропущенных значений нет"
   ]
  },
  {
   "cell_type": "markdown",
   "id": "7595a416",
   "metadata": {},
   "source": [
    "# 7.\tРешите поставленную задачу регрессии в соответствии с заданием. При подборе параметров метода принятия решения (метода регрессии) используйте перекрёстную проверку (изучите возможные для изменения параметры метода регрессии).  Вычислите точность решения задачи, вычислив разницу между реальным значением и предсказанным. Вычислите коэффициент корреляции (Пирсона, Спирмена) между реальным значением и предсказанным с учётом p-value. "
   ]
  },
  {
   "cell_type": "code",
   "execution_count": 20,
   "id": "a3475515",
   "metadata": {},
   "outputs": [
    {
     "name": "stdout",
     "output_type": "stream",
     "text": [
      "==============y_test================\n",
      "256779    2800\n",
      "328447    4990\n",
      "213389     300\n",
      "200208    7000\n",
      "353358    2500\n",
      "          ... \n",
      "82571     8000\n",
      "14322     9200\n",
      "124488    4500\n",
      "34743     1150\n",
      "151708    1800\n",
      "Name: price, Length: 78286, dtype: int64\n",
      "==============X_test================\n",
      "        vehicleType_andere  vehicleType_bus  vehicleType_cabrio  \\\n",
      "256779                   0                0                   0   \n",
      "328447                   0                1                   0   \n",
      "213389                   0                1                   0   \n",
      "200208                   0                0                   0   \n",
      "353358                   0                0                   0   \n",
      "...                    ...              ...                 ...   \n",
      "82571                    0                0                   0   \n",
      "14322                    0                0                   1   \n",
      "124488                   0                0                   0   \n",
      "34743                    0                0                   0   \n",
      "151708                   0                0                   0   \n",
      "\n",
      "        vehicleType_coupe  vehicleType_kleinwagen  vehicleType_kombi  \\\n",
      "256779                  0                       1                  0   \n",
      "328447                  0                       0                  0   \n",
      "213389                  0                       0                  0   \n",
      "200208                  0                       0                  0   \n",
      "353358                  0                       1                  0   \n",
      "...                   ...                     ...                ...   \n",
      "82571                   0                       1                  0   \n",
      "14322                   0                       0                  0   \n",
      "124488                  0                       0                  0   \n",
      "34743                   0                       1                  0   \n",
      "151708                  0                       0                  0   \n",
      "\n",
      "        vehicleType_limousine  vehicleType_suv  fuelType_andere  \\\n",
      "256779                      0                0                0   \n",
      "328447                      0                0                0   \n",
      "213389                      0                0                0   \n",
      "200208                      1                0                0   \n",
      "353358                      0                0                0   \n",
      "...                       ...              ...              ...   \n",
      "82571                       0                0                0   \n",
      "14322                       0                0                0   \n",
      "124488                      1                0                0   \n",
      "34743                       0                0                0   \n",
      "151708                      1                0                0   \n",
      "\n",
      "        fuelType_benzin  ...  brand_volvo  seller  abtest  yearOfRegistration  \\\n",
      "256779                1  ...            0       0       0            0.879630   \n",
      "328447                1  ...            0       0       1            0.916667   \n",
      "213389                1  ...            0       0       0            0.814815   \n",
      "200208                1  ...            0       0       1            0.888889   \n",
      "353358                1  ...            0       0       0            0.833333   \n",
      "...                 ...  ...          ...     ...     ...                 ...   \n",
      "82571                 1  ...            0       0       0            0.935185   \n",
      "14322                 1  ...            0       0       0            0.842593   \n",
      "124488                1  ...            0       0       1            0.870370   \n",
      "34743                 1  ...            0       0       1            0.842593   \n",
      "151708                1  ...            0       0       1            0.787037   \n",
      "\n",
      "        gearbox  powerPS  kilometer  monthOfRegistration  notRepairedDamage  \\\n",
      "256779        0  0.00435   0.827586             0.250000                  0   \n",
      "328447        1  0.00610   0.448276             0.583333                  1   \n",
      "213389        0  0.00720   1.000000             0.500000                  1   \n",
      "200208        0  0.00865   1.000000             0.250000                  0   \n",
      "353358        0  0.00845   0.827586             0.250000                  1   \n",
      "...         ...      ...        ...                  ...                ...   \n",
      "82571         0  0.00300   0.379310             0.416667                  0   \n",
      "14322         1  0.00985   0.655172             0.416667                  0   \n",
      "124488        0  0.00850   1.000000             0.583333                  0   \n",
      "34743         1  0.00750   1.000000             1.000000                  0   \n",
      "151708        0  0.00625   0.827586             0.083333                  0   \n",
      "\n",
      "        nrOfPictures  \n",
      "256779           0.0  \n",
      "328447           0.0  \n",
      "213389           0.0  \n",
      "200208           0.0  \n",
      "353358           0.0  \n",
      "...              ...  \n",
      "82571            0.0  \n",
      "14322            0.0  \n",
      "124488           0.0  \n",
      "34743            0.0  \n",
      "151708           0.0  \n",
      "\n",
      "[78286 rows x 63 columns]\n",
      "==============y_train===============\n",
      "8666      18500\n",
      "327125    22900\n",
      "210910      900\n",
      "111616    36000\n",
      "55741      1100\n",
      "          ...  \n",
      "251960     1499\n",
      "167785    14500\n",
      "247260     1580\n",
      "61991      1900\n",
      "283731      999\n",
      "Name: price, Length: 182666, dtype: int64\n",
      "==============X_train================\n",
      "        vehicleType_andere  vehicleType_bus  vehicleType_cabrio  \\\n",
      "8666                     0                0                   1   \n",
      "327125                   0                0                   0   \n",
      "210910                   0                0                   0   \n",
      "111616                   0                0                   1   \n",
      "55741                    0                0                   0   \n",
      "...                    ...              ...                 ...   \n",
      "251960                   1                0                   0   \n",
      "167785                   0                0                   0   \n",
      "247260                   0                0                   0   \n",
      "61991                    0                0                   0   \n",
      "283731                   0                0                   0   \n",
      "\n",
      "        vehicleType_coupe  vehicleType_kleinwagen  vehicleType_kombi  \\\n",
      "8666                    0                       0                  0   \n",
      "327125                  1                       0                  0   \n",
      "210910                  0                       1                  0   \n",
      "111616                  0                       0                  0   \n",
      "55741                   0                       1                  0   \n",
      "...                   ...                     ...                ...   \n",
      "251960                  0                       0                  0   \n",
      "167785                  0                       0                  0   \n",
      "247260                  0                       0                  1   \n",
      "61991                   0                       0                  1   \n",
      "283731                  0                       0                  0   \n",
      "\n",
      "        vehicleType_limousine  vehicleType_suv  fuelType_andere  \\\n",
      "8666                        0                0                0   \n",
      "327125                      0                0                0   \n",
      "210910                      0                0                0   \n",
      "111616                      0                0                0   \n",
      "55741                       0                0                0   \n",
      "...                       ...              ...              ...   \n",
      "251960                      0                0                0   \n",
      "167785                      1                0                0   \n",
      "247260                      0                0                0   \n",
      "61991                       0                0                0   \n",
      "283731                      0                1                0   \n",
      "\n",
      "        fuelType_benzin  ...  brand_volvo  seller  abtest  yearOfRegistration  \\\n",
      "8666                  1  ...            0       0       1            0.768519   \n",
      "327125                0  ...            0       0       0            0.944444   \n",
      "210910                0  ...            0       0       1            0.851852   \n",
      "111616                1  ...            0       0       1            0.944444   \n",
      "55741                 1  ...            0       0       0            0.787037   \n",
      "...                 ...  ...          ...     ...     ...                 ...   \n",
      "251960                0  ...            0       0       1            0.648148   \n",
      "167785                0  ...            0       0       1            0.898148   \n",
      "247260                1  ...            0       0       0            0.805556   \n",
      "61991                 1  ...            0       0       0            0.833333   \n",
      "283731                0  ...            0       0       1            0.842593   \n",
      "\n",
      "        gearbox  powerPS  kilometer  monthOfRegistration  notRepairedDamage  \\\n",
      "8666          1  0.01600   0.448276             0.750000                  0   \n",
      "327125        1  0.00850   0.379310             1.000000                  0   \n",
      "210910        0  0.00350   1.000000             0.333333                  1   \n",
      "111616        1  0.02040   0.827586             0.333333                  0   \n",
      "55741         0  0.00225   0.655172             0.166667                  1   \n",
      "...         ...      ...        ...                  ...                ...   \n",
      "251960        0  0.00400   1.000000             0.083333                  0   \n",
      "167785        1  0.01430   1.000000             1.000000                  0   \n",
      "247260        0  0.00505   1.000000             0.916667                  0   \n",
      "61991         0  0.00510   1.000000             1.000000                  0   \n",
      "283731        0  0.00495   0.655172             0.083333                  1   \n",
      "\n",
      "        nrOfPictures  \n",
      "8666             0.0  \n",
      "327125           0.0  \n",
      "210910           0.0  \n",
      "111616           0.0  \n",
      "55741            0.0  \n",
      "...              ...  \n",
      "251960           0.0  \n",
      "167785           0.0  \n",
      "247260           0.0  \n",
      "61991            0.0  \n",
      "283731           0.0  \n",
      "\n",
      "[182666 rows x 63 columns]\n"
     ]
    }
   ],
   "source": [
    "# Наша модель получает в качестве входных значений все признаки автомобиля, кроме цены (X)\n",
    "# И на ее основе предсказывает выходное значение y, цену автомобиля\n",
    "X, y = auto_data.drop(['price'], axis=1), auto_data['price']\n",
    "X_train, X_test, y_train, y_test = train_test_split(X, y, test_size = 0.3, random_state = 0)\n",
    "print('==============y_test================')\n",
    "print(y_test)\n",
    "print('==============X_test================')\n",
    "print(X_test)\n",
    "print('==============y_train===============')\n",
    "print(y_train)\n",
    "print('==============X_train================')\n",
    "print(X_train)"
   ]
  },
  {
   "cell_type": "code",
   "execution_count": 21,
   "id": "24d5bcf4",
   "metadata": {},
   "outputs": [
    {
     "name": "stdout",
     "output_type": "stream",
     "text": [
      "256779    -4733.3125\n",
      "328447    14430.3125\n",
      "213389      728.9375\n",
      "200208    -7441.6250\n",
      "353358     -725.5000\n",
      "183918      -93.7500\n",
      "69419      7220.6875\n",
      "72482      2187.8125\n",
      "349228     2174.8125\n",
      "128925      812.9375\n",
      "Name: price, dtype: float64\n"
     ]
    }
   ],
   "source": [
    "# Линейная регрессия без использования регуляризаторов\n",
    "# Создаем модель регрессии\n",
    "reg = linear_model.LinearRegression()\n",
    "# Тренируем её\n",
    "reg.fit(X_train, y_train)\n",
    "# Предсказываем значения цены автомобиля\n",
    "pred = reg.predict(X_test)\n",
    "# Выводим десять значений, полученных вычитанием настоящей цены из предсказанной\n",
    "print(pred[:10] - y_test[:10])"
   ]
  },
  {
   "cell_type": "code",
   "execution_count": 22,
   "id": "27bacf14",
   "metadata": {},
   "outputs": [
    {
     "name": "stdout",
     "output_type": "stream",
     "text": [
      "Корреляция Пирсона:  0.0727324283342039\n",
      "p-value:  2.6792255333334187e-92\n",
      "Корреляция Спирмена:  0.6437087361496989\n",
      "p-value:  0.0\n"
     ]
    }
   ],
   "source": [
    "# Находим корреляцию Пирсона\n",
    "pearson, p_value_pearson = pearsonr(pred, y_test)\n",
    "# Находим корреляцию Спирмена\n",
    "spearman, p_value_spearman = spearmanr(pred, y_test)\n",
    "print(\"Корреляция Пирсона: \", pearson)\n",
    "print(\"p-value: \", p_value_pearson)\n",
    "print(\"Корреляция Спирмена: \", spearman)\n",
    "print(\"p-value: \", p_value_spearman)"
   ]
  },
  {
   "cell_type": "code",
   "execution_count": 27,
   "id": "003f8296",
   "metadata": {},
   "outputs": [
    {
     "name": "stdout",
     "output_type": "stream",
     "text": [
      "best alpha: 1.351\n"
     ]
    }
   ],
   "source": [
    "# Линейная регрессия, LASSO регуляризатор\n",
    "# Подбираем оптимальные параметры для Lasso-регуляризатора\n",
    "lasso = LassoCV(alphas = np.arange(0.001, 10, 0.05), n_jobs = -1)\n",
    "# Тренируем модель с целью подбора оптимальных параметров\n",
    "lasso.fit(X_train, y_train)\n",
    "# Получаем оптимальный параметр alpha\n",
    "print('best alpha:', lasso.alpha_)"
   ]
  },
  {
   "cell_type": "code",
   "execution_count": 29,
   "id": "40e0c96d",
   "metadata": {},
   "outputs": [
    {
     "name": "stdout",
     "output_type": "stream",
     "text": [
      "256779    -4178.316650\n",
      "328447    14514.213092\n",
      "213389      746.177607\n",
      "200208    -7454.632108\n",
      "353358     -932.434646\n",
      "183918      -39.943251\n",
      "69419      7169.964417\n",
      "72482      2204.559738\n",
      "349228     2119.473705\n",
      "128925      542.177685\n",
      "Name: price, dtype: float64\n"
     ]
    }
   ],
   "source": [
    "# Создаем модель lasoo-регуляризатора\n",
    "lasso_reg = linear_model.Lasso(alpha=lasso.alpha_)\n",
    "# Трениурем ее\n",
    "lasso_reg.fit(X_train, y_train)\n",
    "# Предсказываем цену автомобиля:\n",
    "lasso_pred = lasso_reg.predict(X_test)\n",
    "# Выводим десять значений, полученных вычитанием настоящей цены из предсказанной\n",
    "print(lasso_pred[:10] - y_test[:10])"
   ]
  },
  {
   "cell_type": "code",
   "execution_count": 20,
   "id": "fe74f0e5",
   "metadata": {},
   "outputs": [
    {
     "name": "stdout",
     "output_type": "stream",
     "text": [
      "Корреляция Пирсона:  0.07254881205910103\n",
      "p-value:  7.673204205993888e-92\n",
      "Корреляция Спирмена:  0.6417393877888566\n",
      "p-value:  0.0\n"
     ]
    }
   ],
   "source": [
    "# Находим корреляцию Пирсона\n",
    "pearson, p_value_pearson = pearsonr(lasso_pred, y_test)\n",
    "# Находим корреляцию Спирмена\n",
    "spearman, p_value_spearman = spearmanr(lasso_pred, y_test)\n",
    "print(\"Корреляция Пирсона: \", pearson)\n",
    "print(\"p-value: \", p_value_pearson)\n",
    "print(\"Корреляция Спирмена: \", spearman)\n",
    "print(\"p-value: \", p_value_spearman)"
   ]
  },
  {
   "cell_type": "code",
   "execution_count": null,
   "id": "44f8ccc3",
   "metadata": {},
   "outputs": [],
   "source": []
  }
 ],
 "metadata": {
  "kernelspec": {
   "display_name": "Python 3 (ipykernel)",
   "language": "python",
   "name": "python3"
  },
  "language_info": {
   "codemirror_mode": {
    "name": "ipython",
    "version": 3
   },
   "file_extension": ".py",
   "mimetype": "text/x-python",
   "name": "python",
   "nbconvert_exporter": "python",
   "pygments_lexer": "ipython3",
   "version": "3.10.3"
  }
 },
 "nbformat": 4,
 "nbformat_minor": 5
}
