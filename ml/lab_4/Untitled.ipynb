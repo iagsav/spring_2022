{
 "cells": [
  {
   "cell_type": "markdown",
   "id": "75de7d5d",
   "metadata": {},
   "source": [
    "# Вариант 22"
   ]
  },
  {
   "cell_type": "markdown",
   "id": "a9f8b1d5",
   "metadata": {},
   "source": [
    "Набор данных / Регуляризаторы"
   ]
  },
  {
   "cell_type": "markdown",
   "id": "c9c6b19d",
   "metadata": {},
   "source": [
    "4 / 2, 3"
   ]
  },
  {
   "cell_type": "markdown",
   "id": "399b8252",
   "metadata": {},
   "source": [
    "Кодировка классификаторов:2 – линейная регрессия, LASSO регуляризатор;\n",
    "3 – линейная регрессия, RIDGE регуляризатор;"
   ]
  },
  {
   "cell_type": "raw",
   "id": "6795df7d",
   "metadata": {},
   "source": [
    "Данные содержать информацию о серии аэродинамических и акустических испытаний \n",
    "Кол-во записей: 1503\n",
    "Кол-во атрибутов: 6\n",
    "Атрибуты:\n",
    "    1) Частота, Гц\n",
    "    2) Угол атакиб градусы\n",
    "    3) Длина хордыбм\n",
    "    4) Скорость свободного потока, м/с.\n",
    "    5) Толщина смещения со стороны всасывания, м.\n",
    "    6) Масштабированный уровень звукового давления, дБ"
   ]
  },
  {
   "cell_type": "code",
   "execution_count": 1,
   "id": "515ff63c",
   "metadata": {},
   "outputs": [],
   "source": [
    "import warnings\n",
    "import pandas as pd\n",
    "import numpy as np\n",
    "import matplotlib.pyplot as plt\n",
    "import seaborn as sns\n",
    "from sklearn.preprocessing import StandardScaler\n",
    "from sklearn.linear_model import LassoCV, RidgeCV, Ridge\n",
    "from sklearn.model_selection import GridSearchCV\n",
    "%matplotlib inline\n",
    "warnings.simplefilter('ignore')"
   ]
  },
  {
   "cell_type": "code",
   "execution_count": 2,
   "id": "4ebc350c",
   "metadata": {},
   "outputs": [],
   "source": [
    "df = pd.read_csv(R'C:\\Users\\qwerty\\Desktop\\Новая папка (2)\\МО\\ЛР4\\airfoil_self_noise.dat.txt', sep='\\t',decimal = '.')"
   ]
  },
  {
   "cell_type": "code",
   "execution_count": 3,
   "id": "24313f47",
   "metadata": {
    "scrolled": true
   },
   "outputs": [
    {
     "data": {
      "text/html": [
       "<div>\n",
       "<style scoped>\n",
       "    .dataframe tbody tr th:only-of-type {\n",
       "        vertical-align: middle;\n",
       "    }\n",
       "\n",
       "    .dataframe tbody tr th {\n",
       "        vertical-align: top;\n",
       "    }\n",
       "\n",
       "    .dataframe thead th {\n",
       "        text-align: right;\n",
       "    }\n",
       "</style>\n",
       "<table border=\"1\" class=\"dataframe\">\n",
       "  <thead>\n",
       "    <tr style=\"text-align: right;\">\n",
       "      <th></th>\n",
       "      <th>Frequency</th>\n",
       "      <th>Angle of attack</th>\n",
       "      <th>Chord length</th>\n",
       "      <th>Free-stream velocity</th>\n",
       "      <th>Suction side displacement thickness</th>\n",
       "      <th>Scaled sound pressure level</th>\n",
       "    </tr>\n",
       "  </thead>\n",
       "  <tbody>\n",
       "    <tr>\n",
       "      <th>0</th>\n",
       "      <td>800</td>\n",
       "      <td>0.0</td>\n",
       "      <td>0.3048</td>\n",
       "      <td>71.3</td>\n",
       "      <td>0.002663</td>\n",
       "      <td>126.201</td>\n",
       "    </tr>\n",
       "    <tr>\n",
       "      <th>1</th>\n",
       "      <td>1000</td>\n",
       "      <td>0.0</td>\n",
       "      <td>0.3048</td>\n",
       "      <td>71.3</td>\n",
       "      <td>0.002663</td>\n",
       "      <td>125.201</td>\n",
       "    </tr>\n",
       "    <tr>\n",
       "      <th>2</th>\n",
       "      <td>1250</td>\n",
       "      <td>0.0</td>\n",
       "      <td>0.3048</td>\n",
       "      <td>71.3</td>\n",
       "      <td>0.002663</td>\n",
       "      <td>125.951</td>\n",
       "    </tr>\n",
       "    <tr>\n",
       "      <th>3</th>\n",
       "      <td>1600</td>\n",
       "      <td>0.0</td>\n",
       "      <td>0.3048</td>\n",
       "      <td>71.3</td>\n",
       "      <td>0.002663</td>\n",
       "      <td>127.591</td>\n",
       "    </tr>\n",
       "    <tr>\n",
       "      <th>4</th>\n",
       "      <td>2000</td>\n",
       "      <td>0.0</td>\n",
       "      <td>0.3048</td>\n",
       "      <td>71.3</td>\n",
       "      <td>0.002663</td>\n",
       "      <td>127.461</td>\n",
       "    </tr>\n",
       "    <tr>\n",
       "      <th>...</th>\n",
       "      <td>...</td>\n",
       "      <td>...</td>\n",
       "      <td>...</td>\n",
       "      <td>...</td>\n",
       "      <td>...</td>\n",
       "      <td>...</td>\n",
       "    </tr>\n",
       "    <tr>\n",
       "      <th>1498</th>\n",
       "      <td>2500</td>\n",
       "      <td>15.6</td>\n",
       "      <td>0.1016</td>\n",
       "      <td>39.6</td>\n",
       "      <td>0.052849</td>\n",
       "      <td>110.264</td>\n",
       "    </tr>\n",
       "    <tr>\n",
       "      <th>1499</th>\n",
       "      <td>3150</td>\n",
       "      <td>15.6</td>\n",
       "      <td>0.1016</td>\n",
       "      <td>39.6</td>\n",
       "      <td>0.052849</td>\n",
       "      <td>109.254</td>\n",
       "    </tr>\n",
       "    <tr>\n",
       "      <th>1500</th>\n",
       "      <td>4000</td>\n",
       "      <td>15.6</td>\n",
       "      <td>0.1016</td>\n",
       "      <td>39.6</td>\n",
       "      <td>0.052849</td>\n",
       "      <td>106.604</td>\n",
       "    </tr>\n",
       "    <tr>\n",
       "      <th>1501</th>\n",
       "      <td>5000</td>\n",
       "      <td>15.6</td>\n",
       "      <td>0.1016</td>\n",
       "      <td>39.6</td>\n",
       "      <td>0.052849</td>\n",
       "      <td>106.224</td>\n",
       "    </tr>\n",
       "    <tr>\n",
       "      <th>1502</th>\n",
       "      <td>6300</td>\n",
       "      <td>15.6</td>\n",
       "      <td>0.1016</td>\n",
       "      <td>39.6</td>\n",
       "      <td>0.052849</td>\n",
       "      <td>104.204</td>\n",
       "    </tr>\n",
       "  </tbody>\n",
       "</table>\n",
       "<p>1503 rows × 6 columns</p>\n",
       "</div>"
      ],
      "text/plain": [
       "      Frequency  Angle of attack  Chord length  Free-stream velocity  \\\n",
       "0           800              0.0        0.3048                  71.3   \n",
       "1          1000              0.0        0.3048                  71.3   \n",
       "2          1250              0.0        0.3048                  71.3   \n",
       "3          1600              0.0        0.3048                  71.3   \n",
       "4          2000              0.0        0.3048                  71.3   \n",
       "...         ...              ...           ...                   ...   \n",
       "1498       2500             15.6        0.1016                  39.6   \n",
       "1499       3150             15.6        0.1016                  39.6   \n",
       "1500       4000             15.6        0.1016                  39.6   \n",
       "1501       5000             15.6        0.1016                  39.6   \n",
       "1502       6300             15.6        0.1016                  39.6   \n",
       "\n",
       "      Suction side displacement thickness  Scaled sound pressure level  \n",
       "0                                0.002663                      126.201  \n",
       "1                                0.002663                      125.201  \n",
       "2                                0.002663                      125.951  \n",
       "3                                0.002663                      127.591  \n",
       "4                                0.002663                      127.461  \n",
       "...                                   ...                          ...  \n",
       "1498                             0.052849                      110.264  \n",
       "1499                             0.052849                      109.254  \n",
       "1500                             0.052849                      106.604  \n",
       "1501                             0.052849                      106.224  \n",
       "1502                             0.052849                      104.204  \n",
       "\n",
       "[1503 rows x 6 columns]"
      ]
     },
     "execution_count": 3,
     "metadata": {},
     "output_type": "execute_result"
    }
   ],
   "source": [
    "df"
   ]
  },
  {
   "cell_type": "code",
   "execution_count": 4,
   "id": "d31a188b",
   "metadata": {},
   "outputs": [
    {
     "name": "stdout",
     "output_type": "stream",
     "text": [
      "Frequency                              0\n",
      "Angle of attack                        0\n",
      "Chord length                           0\n",
      "Free-stream velocity                   0\n",
      "Suction side displacement thickness    0\n",
      "Scaled sound pressure level            0\n",
      "dtype: int64\n"
     ]
    }
   ],
   "source": [
    "print(df.isnull().sum())"
   ]
  },
  {
   "cell_type": "code",
   "execution_count": 5,
   "id": "293c278a",
   "metadata": {},
   "outputs": [
    {
     "name": "stdout",
     "output_type": "stream",
     "text": [
      "Размер набора (1503, 6)\n",
      "Новый размер набора (1503, 6)\n"
     ]
    }
   ],
   "source": [
    "print('Размер набора', df.shape)\n",
    "#удаляем повторы\n",
    "df.drop_duplicates(keep='first', inplace = True)\n",
    "print('Новый размер набора', df.shape)"
   ]
  },
  {
   "cell_type": "code",
   "execution_count": 6,
   "id": "2483935d",
   "metadata": {
    "scrolled": true
   },
   "outputs": [
    {
     "data": {
      "text/plain": [
       "<AxesSubplot:>"
      ]
     },
     "execution_count": 6,
     "metadata": {},
     "output_type": "execute_result"
    },
    {
     "data": {
      "image/png": "[encoded data removed]",
      "text/plain": [
       "<Figure size 432x288 with 1 Axes>"
      ]
     },
     "metadata": {
      "needs_background": "light"
     },
     "output_type": "display_data"
    }
   ],
   "source": [
    "sns.boxplot(data = df)"
   ]
  },
  {
   "cell_type": "code",
   "execution_count": 7,
   "id": "84d163a5",
   "metadata": {},
   "outputs": [],
   "source": [
    "scaler = StandardScaler()\n",
    "columns = df.columns\n",
    "df[columns] = scaler.fit_transform(df[columns])"
   ]
  },
  {
   "cell_type": "code",
   "execution_count": 8,
   "id": "65e6745a",
   "metadata": {},
   "outputs": [
    {
     "data": {
      "text/plain": [
       "<AxesSubplot:>"
      ]
     },
     "execution_count": 8,
     "metadata": {},
     "output_type": "execute_result"
    },
    {
     "data": {
      "image/png": "[encoded data removed]",
      "text/plain": [
       "<Figure size 432x288 with 1 Axes>"
      ]
     },
     "metadata": {
      "needs_background": "light"
     },
     "output_type": "display_data"
    }
   ],
   "source": [
    "sns.boxplot(data = df)"
   ]
  },
  {
   "cell_type": "code",
   "execution_count": 9,
   "id": "9459b8c3",
   "metadata": {},
   "outputs": [
    {
     "data": {
      "text/html": [
       "<div>\n",
       "<style scoped>\n",
       "    .dataframe tbody tr th:only-of-type {\n",
       "        vertical-align: middle;\n",
       "    }\n",
       "\n",
       "    .dataframe tbody tr th {\n",
       "        vertical-align: top;\n",
       "    }\n",
       "\n",
       "    .dataframe thead th {\n",
       "        text-align: right;\n",
       "    }\n",
       "</style>\n",
       "<table border=\"1\" class=\"dataframe\">\n",
       "  <thead>\n",
       "    <tr style=\"text-align: right;\">\n",
       "      <th></th>\n",
       "      <th>Frequency</th>\n",
       "      <th>Angle of attack</th>\n",
       "      <th>Chord length</th>\n",
       "      <th>Free-stream velocity</th>\n",
       "      <th>Suction side displacement thickness</th>\n",
       "      <th>Scaled sound pressure level</th>\n",
       "    </tr>\n",
       "  </thead>\n",
       "  <tbody>\n",
       "    <tr>\n",
       "      <th>0</th>\n",
       "      <td>-0.662023</td>\n",
       "      <td>-1.146403</td>\n",
       "      <td>1.799299</td>\n",
       "      <td>1.312935</td>\n",
       "      <td>-0.644805</td>\n",
       "      <td>0.197939</td>\n",
       "    </tr>\n",
       "    <tr>\n",
       "      <th>1</th>\n",
       "      <td>-0.598561</td>\n",
       "      <td>-1.146403</td>\n",
       "      <td>1.799299</td>\n",
       "      <td>1.312935</td>\n",
       "      <td>-0.644805</td>\n",
       "      <td>0.052935</td>\n",
       "    </tr>\n",
       "    <tr>\n",
       "      <th>2</th>\n",
       "      <td>-0.519235</td>\n",
       "      <td>-1.146403</td>\n",
       "      <td>1.799299</td>\n",
       "      <td>1.312935</td>\n",
       "      <td>-0.644805</td>\n",
       "      <td>0.161688</td>\n",
       "    </tr>\n",
       "    <tr>\n",
       "      <th>3</th>\n",
       "      <td>-0.408177</td>\n",
       "      <td>-1.146403</td>\n",
       "      <td>1.799299</td>\n",
       "      <td>1.312935</td>\n",
       "      <td>-0.644805</td>\n",
       "      <td>0.399494</td>\n",
       "    </tr>\n",
       "    <tr>\n",
       "      <th>4</th>\n",
       "      <td>-0.281255</td>\n",
       "      <td>-1.146403</td>\n",
       "      <td>1.799299</td>\n",
       "      <td>1.312935</td>\n",
       "      <td>-0.644805</td>\n",
       "      <td>0.380644</td>\n",
       "    </tr>\n",
       "    <tr>\n",
       "      <th>...</th>\n",
       "      <td>...</td>\n",
       "      <td>...</td>\n",
       "      <td>...</td>\n",
       "      <td>...</td>\n",
       "      <td>...</td>\n",
       "      <td>...</td>\n",
       "    </tr>\n",
       "    <tr>\n",
       "      <th>1498</th>\n",
       "      <td>-0.122601</td>\n",
       "      <td>1.490443</td>\n",
       "      <td>-0.373740</td>\n",
       "      <td>-0.723345</td>\n",
       "      <td>3.172773</td>\n",
       "      <td>-2.112990</td>\n",
       "    </tr>\n",
       "    <tr>\n",
       "      <th>1499</th>\n",
       "      <td>0.083648</td>\n",
       "      <td>1.490443</td>\n",
       "      <td>-0.373740</td>\n",
       "      <td>-0.723345</td>\n",
       "      <td>3.172773</td>\n",
       "      <td>-2.259444</td>\n",
       "    </tr>\n",
       "    <tr>\n",
       "      <th>1500</th>\n",
       "      <td>0.353359</td>\n",
       "      <td>1.490443</td>\n",
       "      <td>-0.373740</td>\n",
       "      <td>-0.723345</td>\n",
       "      <td>3.172773</td>\n",
       "      <td>-2.643705</td>\n",
       "    </tr>\n",
       "    <tr>\n",
       "      <th>1501</th>\n",
       "      <td>0.670666</td>\n",
       "      <td>1.490443</td>\n",
       "      <td>-0.373740</td>\n",
       "      <td>-0.723345</td>\n",
       "      <td>3.172773</td>\n",
       "      <td>-2.698806</td>\n",
       "    </tr>\n",
       "    <tr>\n",
       "      <th>1502</th>\n",
       "      <td>1.083165</td>\n",
       "      <td>1.490443</td>\n",
       "      <td>-0.373740</td>\n",
       "      <td>-0.723345</td>\n",
       "      <td>3.172773</td>\n",
       "      <td>-2.991714</td>\n",
       "    </tr>\n",
       "  </tbody>\n",
       "</table>\n",
       "<p>1503 rows × 6 columns</p>\n",
       "</div>"
      ],
      "text/plain": [
       "      Frequency  Angle of attack  Chord length  Free-stream velocity  \\\n",
       "0     -0.662023        -1.146403      1.799299              1.312935   \n",
       "1     -0.598561        -1.146403      1.799299              1.312935   \n",
       "2     -0.519235        -1.146403      1.799299              1.312935   \n",
       "3     -0.408177        -1.146403      1.799299              1.312935   \n",
       "4     -0.281255        -1.146403      1.799299              1.312935   \n",
       "...         ...              ...           ...                   ...   \n",
       "1498  -0.122601         1.490443     -0.373740             -0.723345   \n",
       "1499   0.083648         1.490443     -0.373740             -0.723345   \n",
       "1500   0.353359         1.490443     -0.373740             -0.723345   \n",
       "1501   0.670666         1.490443     -0.373740             -0.723345   \n",
       "1502   1.083165         1.490443     -0.373740             -0.723345   \n",
       "\n",
       "      Suction side displacement thickness  Scaled sound pressure level  \n",
       "0                               -0.644805                     0.197939  \n",
       "1                               -0.644805                     0.052935  \n",
       "2                               -0.644805                     0.161688  \n",
       "3                               -0.644805                     0.399494  \n",
       "4                               -0.644805                     0.380644  \n",
       "...                                   ...                          ...  \n",
       "1498                             3.172773                    -2.112990  \n",
       "1499                             3.172773                    -2.259444  \n",
       "1500                             3.172773                    -2.643705  \n",
       "1501                             3.172773                    -2.698806  \n",
       "1502                             3.172773                    -2.991714  \n",
       "\n",
       "[1503 rows x 6 columns]"
      ]
     },
     "execution_count": 9,
     "metadata": {},
     "output_type": "execute_result"
    }
   ],
   "source": [
    "df"
   ]
  },
  {
   "cell_type": "code",
   "execution_count": 10,
   "id": "08b8e3d0",
   "metadata": {},
   "outputs": [
    {
     "data": {
      "text/plain": [
       "<AxesSubplot:>"
      ]
     },
     "execution_count": 10,
     "metadata": {},
     "output_type": "execute_result"
    },
    {
     "data": {
      "image/png": "[encoded data removed]",
      "text/plain": [
       "<Figure size 432x288 with 2 Axes>"
      ]
     },
     "metadata": {
      "needs_background": "light"
     },
     "output_type": "display_data"
    }
   ],
   "source": [
    "sns.heatmap(df.corr())"
   ]
  },
  {
   "cell_type": "markdown",
   "id": "8401567c",
   "metadata": {},
   "source": [
    "# линейная регрессия, LASSO регуляризатор"
   ]
  },
  {
   "cell_type": "code",
   "execution_count": 11,
   "id": "aa346253",
   "metadata": {},
   "outputs": [],
   "source": [
    "from sklearn.model_selection import train_test_split\n",
    "from sklearn.linear_model import LinearRegression\n",
    "from sklearn.metrics import mean_squared_error, r2_score\n",
    "from scipy import stats"
   ]
  },
  {
   "cell_type": "code",
   "execution_count": 12,
   "id": "7da1929e",
   "metadata": {},
   "outputs": [],
   "source": [
    "x = df.drop(['Scaled sound pressure level'], axis = 1)\n",
    "y = df['Scaled sound pressure level']"
   ]
  },
  {
   "cell_type": "code",
   "execution_count": 13,
   "id": "16593551",
   "metadata": {},
   "outputs": [
    {
     "name": "stdout",
     "output_type": "stream",
     "text": [
      "   Frequency  Angle of attack  Chord length  Free-stream velocity  \\\n",
      "0  -0.662023        -1.146403      1.799299              1.312935   \n",
      "1  -0.598561        -1.146403      1.799299              1.312935   \n",
      "2  -0.519235        -1.146403      1.799299              1.312935   \n",
      "3  -0.408177        -1.146403      1.799299              1.312935   \n",
      "4  -0.281255        -1.146403      1.799299              1.312935   \n",
      "\n",
      "   Suction side displacement thickness  \n",
      "0                            -0.644805  \n",
      "1                            -0.644805  \n",
      "2                            -0.644805  \n",
      "3                            -0.644805  \n",
      "4                            -0.644805   \n",
      " \n",
      " 0    0.197939\n",
      "1    0.052935\n",
      "2    0.161688\n",
      "3    0.399494\n",
      "4    0.380644\n",
      "Name: Scaled sound pressure level, dtype: float64\n"
     ]
    }
   ],
   "source": [
    "print(x.head(), '\\n \\n', y.head())"
   ]
  },
  {
   "cell_type": "code",
   "execution_count": 14,
   "id": "a6636e48",
   "metadata": {},
   "outputs": [],
   "source": [
    "x_train, x_test, y_train, y_test = train_test_split(x, y, test_size=0.2, random_state=0)"
   ]
  },
  {
   "cell_type": "code",
   "execution_count": 15,
   "id": "d89ce70e",
   "metadata": {},
   "outputs": [],
   "source": [
    "reg = LinearRegression().fit(x_train, y_train)"
   ]
  },
  {
   "cell_type": "code",
   "execution_count": 16,
   "id": "0af67ca0",
   "metadata": {},
   "outputs": [],
   "source": [
    "pred = reg.predict(x_test)"
   ]
  },
  {
   "cell_type": "code",
   "execution_count": 17,
   "id": "947e7d67",
   "metadata": {},
   "outputs": [
    {
     "name": "stdout",
     "output_type": "stream",
     "text": [
      "Коэффициенты =  [(-0.5851279354492877, 'Frequency'), (-0.35238536020073435, 'Angle of attack'), (-0.4885761112318309, 'Chord length'), (0.221568929559008, 'Free-stream velocity'), (-0.27470224430855217, 'Suction side displacement thickness')] -0.0007815273677316285\n"
     ]
    }
   ],
   "source": [
    "print('Коэффициенты = ', list(zip(reg.coef_, x)), reg.intercept_)"
   ]
  },
  {
   "cell_type": "code",
   "execution_count": 18,
   "id": "c3153e10",
   "metadata": {},
   "outputs": [
    {
     "name": "stdout",
     "output_type": "stream",
     "text": [
      "MSE =  0.4366103723974334\n"
     ]
    }
   ],
   "source": [
    "print('MSE = ', mean_squared_error(y_test, pred))"
   ]
  },
  {
   "cell_type": "code",
   "execution_count": 19,
   "id": "50a81911",
   "metadata": {},
   "outputs": [
    {
     "name": "stdout",
     "output_type": "stream",
     "text": [
      "R^2 =  0.5585557273100985\n"
     ]
    }
   ],
   "source": [
    "print('R^2 = ', r2_score(y_test, pred))"
   ]
  },
  {
   "cell_type": "code",
   "execution_count": 20,
   "id": "dfa0394e",
   "metadata": {},
   "outputs": [],
   "source": [
    "reg = LassoCV().fit(x_train, y_train)"
   ]
  },
  {
   "cell_type": "code",
   "execution_count": 21,
   "id": "ce4aaa58",
   "metadata": {
    "scrolled": false
   },
   "outputs": [
    {
     "name": "stdout",
     "output_type": "stream",
     "text": [
      "Коэффициенты =  [(-0.5842515176219911, 'Frequency'), (-0.35102869795060615, 'Angle of attack'), (-0.48748781914488654, 'Chord length'), (0.22093150929027466, 'Free-stream velocity'), (-0.27484257097492915, 'Suction side displacement thickness')] -0.0007758538817491539\n"
     ]
    }
   ],
   "source": [
    "print('Коэффициенты = ', list(zip(reg.coef_, x)), reg.intercept_)"
   ]
  },
  {
   "cell_type": "code",
   "execution_count": 22,
   "id": "dbcfcdb6",
   "metadata": {},
   "outputs": [],
   "source": [
    "pred = reg.predict(x_test)"
   ]
  },
  {
   "cell_type": "code",
   "execution_count": 23,
   "id": "94554048",
   "metadata": {},
   "outputs": [
    {
     "name": "stdout",
     "output_type": "stream",
     "text": [
      "MSE =  0.4366796796010165\n",
      "R^2 =  0.5584856527768025\n"
     ]
    }
   ],
   "source": [
    "print('MSE = ', mean_squared_error(y_test, pred))\n",
    "print('R^2 = ', r2_score(y_test, pred))"
   ]
  },
  {
   "cell_type": "code",
   "execution_count": 24,
   "id": "4a3ef196",
   "metadata": {},
   "outputs": [],
   "source": [
    "#Реальные значения\n",
    "#Frequency\tAngle of attack\t  Chord length\tFree-stream velocity\tSuction side displacement thickness\t Scaled sound pressure level\n",
    "#-0.662023        -1.146403    1.799299\t            1.312935                  -0.644805                     0.197939"
   ]
  },
  {
   "cell_type": "code",
   "execution_count": 25,
   "id": "9ed00efa",
   "metadata": {},
   "outputs": [],
   "source": [
    "pred1 = ( (-0.662023)*(-0.5842515176219911) -1.146403*(-0.35102869795060615) + 1.799299*(-0.48748781914488654) + 1.312935*0.22093150929027466 - 0.644805*(-0.27484257097492915) - 0.0007758538817491539 )\n",
    "pred2 = ( (-0.598561)*(-0.5842515176219911) -1.146403*(-0.35102869795060615) + 1.799299*(-0.48748781914488654) + 1.312935*0.22093150929027466 - 0.644805*(-0.27484257097492915) - 0.0007758538817491539 )\n",
    "pred3 = ( (-0.519235)*(-0.5842515176219911) -1.146403*(-0.35102869795060615) + 1.799299*(-0.48748781914488654) + 1.312935*0.22093150929027466 - 0.644805*(-0.27484257097492915) - 0.0007758538817491539 )"
   ]
  },
  {
   "cell_type": "code",
   "execution_count": 26,
   "id": "87b5e5f9",
   "metadata": {
    "scrolled": true
   },
   "outputs": [
    {
     "name": "stdout",
     "output_type": "stream",
     "text": [
      "Разница между реальным значением и предсказанным = \n",
      " -0.1806456706135238\n"
     ]
    }
   ],
   "source": [
    "real1 = 0.197939\n",
    "real2 = 0.052935\n",
    "real3 = 0.161688\n",
    "print('Разница между реальным значением и предсказанным = \\n', real1 - pred1 )"
   ]
  },
  {
   "cell_type": "code",
   "execution_count": 27,
   "id": "f5786ae8",
   "metadata": {},
   "outputs": [
    {
     "data": {
      "text/plain": [
       "SpearmanrResult(correlation=0.5, pvalue=0.6666666666666667)"
      ]
     },
     "execution_count": 27,
     "metadata": {},
     "output_type": "execute_result"
    }
   ],
   "source": [
    "stats.spearmanr([pred1, pred2, pred3], [real1, real2, real3])"
   ]
  },
  {
   "cell_type": "code",
   "execution_count": 28,
   "id": "27e466ca",
   "metadata": {
    "scrolled": true
   },
   "outputs": [
    {
     "data": {
      "text/plain": [
       "(0.17756048986235315, 0.8863589181385209)"
      ]
     },
     "execution_count": 28,
     "metadata": {},
     "output_type": "execute_result"
    }
   ],
   "source": [
    "stats.pearsonr([pred1, pred2, pred3], [real1, real2, real3])"
   ]
  },
  {
   "cell_type": "markdown",
   "id": "61cf5551",
   "metadata": {},
   "source": [
    "# линейная регрессия, RIDGE регуляризатор;"
   ]
  },
  {
   "cell_type": "code",
   "execution_count": 29,
   "id": "a8c4c127",
   "metadata": {},
   "outputs": [],
   "source": [
    "reg = Ridge().fit(x_train, y_train)"
   ]
  },
  {
   "cell_type": "code",
   "execution_count": 30,
   "id": "14fe5ff9",
   "metadata": {},
   "outputs": [
    {
     "name": "stdout",
     "output_type": "stream",
     "text": [
      "Коэффициенты =  [(-0.5843131027051879, 'Frequency'), (-0.3511666647229455, 'Angle of attack'), (-0.4876259087063548, 'Chord length'), (0.22120186988736742, 'Free-stream velocity'), (-0.27499259230216166, 'Suction side displacement thickness')] -0.0007799813429199391\n"
     ]
    }
   ],
   "source": [
    "print('Коэффициенты = ', list(zip(reg.coef_, x)), reg.intercept_)\n",
    "pred = reg.predict(x_test)"
   ]
  },
  {
   "cell_type": "code",
   "execution_count": 31,
   "id": "d101e44e",
   "metadata": {},
   "outputs": [
    {
     "name": "stdout",
     "output_type": "stream",
     "text": [
      "MSE =  0.43664447309940985\n",
      "R^2 =  0.5585212490646561\n"
     ]
    }
   ],
   "source": [
    "print('MSE = ', mean_squared_error(y_test, pred))\n",
    "print('R^2 = ', r2_score(y_test, pred))"
   ]
  },
  {
   "cell_type": "code",
   "execution_count": 32,
   "id": "1110a578",
   "metadata": {},
   "outputs": [],
   "source": [
    "reg = RidgeCV().fit(x_train, y_train)"
   ]
  },
  {
   "cell_type": "code",
   "execution_count": 33,
   "id": "30f944e2",
   "metadata": {},
   "outputs": [
    {
     "name": "stdout",
     "output_type": "stream",
     "text": [
      "Коэффициенты =  [(-0.5843131027054702, 'Frequency'), (-0.3511666647225417, 'Angle of attack'), (-0.4876259087058782, 'Chord length'), (0.22120186988705876, 'Free-stream velocity'), (-0.2749925923016005, 'Suction side displacement thickness')] -0.000779981342916222\n"
     ]
    }
   ],
   "source": [
    "print('Коэффициенты = ', list(zip(reg.coef_, x)), reg.intercept_)\n",
    "pred = reg.predict(x_test)"
   ]
  },
  {
   "cell_type": "code",
   "execution_count": 34,
   "id": "9f42971d",
   "metadata": {},
   "outputs": [
    {
     "name": "stdout",
     "output_type": "stream",
     "text": [
      "MSE =  0.4366444730995231\n",
      "R^2 =  0.5585212490645415\n"
     ]
    }
   ],
   "source": [
    "print('MSE = ', mean_squared_error(y_test, pred))\n",
    "print('R^2 = ', r2_score(y_test, pred))"
   ]
  },
  {
   "cell_type": "code",
   "execution_count": 35,
   "id": "926795fd",
   "metadata": {},
   "outputs": [],
   "source": [
    "pred1 = ( (-0.662023)*(-0.5843131027054702) -1.146403*(-0.3511666647225417) + 1.799299*(-0.4876259087058782) + 1.312935*0.22120186988705876 - 0.644805*(-0.2749925923016005) - 0.000779981342916222 )\n",
    "pred2 = ( (-0.598561)*(-0.5843131027054702) -1.146403*(-0.3511666647225417) + 1.799299*(-0.4876259087058782) + 1.312935*0.22120186988705876 - 0.644805*(-0.2749925923016005) - 0.000779981342916222 )\n",
    "pred3 = ( (-0.519235)*(--0.5843131027054702) -1.146403*(-0.3511666647225417) + 1.799299*(-0.4876259087058782) + 1.312935*0.22120186988705876 - 0.644805*(-0.2749925923016005) - 0.000779981342916222 )"
   ]
  },
  {
   "cell_type": "code",
   "execution_count": 36,
   "id": "264d1b7d",
   "metadata": {
    "scrolled": false
   },
   "outputs": [
    {
     "name": "stdout",
     "output_type": "stream",
     "text": [
      "Разница между реальным значением и предсказанным = \n",
      " -0.18104371539800432\n"
     ]
    }
   ],
   "source": [
    "real1 = 0.197939\n",
    "real2 = 0.052935\n",
    "real3 = 0.161688\n",
    "print('Разница между реальным значением и предсказанным = \\n', real1 - pred1 )"
   ]
  },
  {
   "cell_type": "code",
   "execution_count": 37,
   "id": "9c86fa49",
   "metadata": {},
   "outputs": [
    {
     "data": {
      "text/plain": [
       "SpearmanrResult(correlation=0.5, pvalue=0.6666666666666667)"
      ]
     },
     "execution_count": 37,
     "metadata": {},
     "output_type": "execute_result"
    }
   ],
   "source": [
    "stats.spearmanr([pred1, pred2, pred3], [real1, real2, real3])"
   ]
  },
  {
   "cell_type": "code",
   "execution_count": 38,
   "id": "8f028f4e",
   "metadata": {
    "scrolled": false
   },
   "outputs": [
    {
     "data": {
      "text/plain": [
       "(-0.23115101287118664, 0.8515017094344031)"
      ]
     },
     "execution_count": 38,
     "metadata": {},
     "output_type": "execute_result"
    }
   ],
   "source": [
    "stats.pearsonr([pred1, pred2, pred3], [real1, real2, real3])"
   ]
  },
  {
   "cell_type": "code",
   "execution_count": null,
   "id": "4d298db4",
   "metadata": {},
   "outputs": [],
   "source": []
  }
 ],
 "metadata": {
  "kernelspec": {
   "display_name": "Python 3 (ipykernel)",
   "language": "python",
   "name": "python3"
  },
  "language_info": {
   "codemirror_mode": {
    "name": "ipython",
    "version": 3
   },
   "file_extension": ".py",
   "mimetype": "text/x-python",
   "name": "python",
   "nbconvert_exporter": "python",
   "pygments_lexer": "ipython3",
   "version": "3.9.10"
  }
 },
 "nbformat": 4,
 "nbformat_minor": 5
}
