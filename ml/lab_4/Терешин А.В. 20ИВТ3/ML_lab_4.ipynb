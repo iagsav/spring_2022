{
 "cells": [
  {
   "cell_type": "markdown",
   "id": "1531737f",
   "metadata": {},
   "source": [
    "# Лабораторная работа №4\n",
    "## Терешин А.В. 20ИВТ3\n",
    "## Вариант №11"
   ]
  },
  {
   "cell_type": "code",
   "execution_count": 42,
   "id": "fd81e399",
   "metadata": {},
   "outputs": [],
   "source": [
    "import copy\n",
    "import pandas as pd\n",
    "import seaborn as sns\n",
    "import matplotlib.pyplot as plt\n",
    "import numpy as np\n",
    "import random\n",
    "import sklearn as sk\n",
    "import copy as copy\n",
    "from sklearn.preprocessing import MinMaxScaler\n",
    "from sklearn.linear_model import LinearRegression, Lasso, Ridge\n",
    "from sklearn.model_selection import train_test_split, GridSearchCV\n",
    "from scipy.stats import pearsonr, spearmanr\n",
    "from sklearn.metrics import mean_absolute_error\n",
    "%matplotlib inline"
   ]
  },
  {
   "cell_type": "code",
   "execution_count": 2,
   "id": "3c1af154",
   "metadata": {},
   "outputs": [],
   "source": [
    "car_df_original = pd.read_csv('autos.csv', sep = ',', encoding = 'ISO-8859-1')\n",
    "car_df = copy.copy(car_df_original)\n",
    "car_df = car_df.drop('dateCrawled', axis = 1)\n",
    "car_df = car_df.drop('seller', axis = 1)\n",
    "car_df = car_df.drop('offerType', axis = 1)\n",
    "car_df = car_df.drop('abtest', axis = 1)\n",
    "car_df = car_df.drop('monthOfRegistration', axis = 1)\n",
    "car_df = car_df.drop('dateCreated', axis = 1)\n",
    "car_df = car_df.drop('nrOfPictures', axis = 1)\n",
    "car_df = car_df.drop('lastSeen', axis = 1)\n",
    "car_df = car_df.drop('postalCode', axis = 1)\n",
    "car_df = car_df.drop('name', axis = 1)\n",
    "car_df.drop('fuelType', axis = 1, inplace = True)"
   ]
  },
  {
   "cell_type": "code",
   "execution_count": 3,
   "id": "fce0597a",
   "metadata": {
    "scrolled": true
   },
   "outputs": [
    {
     "data": {
      "text/html": [
       "<div>\n",
       "<style scoped>\n",
       "    .dataframe tbody tr th:only-of-type {\n",
       "        vertical-align: middle;\n",
       "    }\n",
       "\n",
       "    .dataframe tbody tr th {\n",
       "        vertical-align: top;\n",
       "    }\n",
       "\n",
       "    .dataframe thead th {\n",
       "        text-align: right;\n",
       "    }\n",
       "</style>\n",
       "<table border=\"1\" class=\"dataframe\">\n",
       "  <thead>\n",
       "    <tr style=\"text-align: right;\">\n",
       "      <th></th>\n",
       "      <th>price</th>\n",
       "      <th>vehicleType</th>\n",
       "      <th>yearOfRegistration</th>\n",
       "      <th>gearbox</th>\n",
       "      <th>powerPS</th>\n",
       "      <th>model</th>\n",
       "      <th>kilometer</th>\n",
       "      <th>brand</th>\n",
       "      <th>notRepairedDamage</th>\n",
       "    </tr>\n",
       "  </thead>\n",
       "  <tbody>\n",
       "    <tr>\n",
       "      <th>0</th>\n",
       "      <td>480</td>\n",
       "      <td>NaN</td>\n",
       "      <td>1993</td>\n",
       "      <td>manuell</td>\n",
       "      <td>0</td>\n",
       "      <td>golf</td>\n",
       "      <td>150000</td>\n",
       "      <td>volkswagen</td>\n",
       "      <td>NaN</td>\n",
       "    </tr>\n",
       "    <tr>\n",
       "      <th>1</th>\n",
       "      <td>18300</td>\n",
       "      <td>coupe</td>\n",
       "      <td>2011</td>\n",
       "      <td>manuell</td>\n",
       "      <td>190</td>\n",
       "      <td>NaN</td>\n",
       "      <td>125000</td>\n",
       "      <td>audi</td>\n",
       "      <td>ja</td>\n",
       "    </tr>\n",
       "    <tr>\n",
       "      <th>2</th>\n",
       "      <td>9800</td>\n",
       "      <td>suv</td>\n",
       "      <td>2004</td>\n",
       "      <td>automatik</td>\n",
       "      <td>163</td>\n",
       "      <td>grand</td>\n",
       "      <td>125000</td>\n",
       "      <td>jeep</td>\n",
       "      <td>NaN</td>\n",
       "    </tr>\n",
       "    <tr>\n",
       "      <th>3</th>\n",
       "      <td>1500</td>\n",
       "      <td>kleinwagen</td>\n",
       "      <td>2001</td>\n",
       "      <td>manuell</td>\n",
       "      <td>75</td>\n",
       "      <td>golf</td>\n",
       "      <td>150000</td>\n",
       "      <td>volkswagen</td>\n",
       "      <td>nein</td>\n",
       "    </tr>\n",
       "    <tr>\n",
       "      <th>4</th>\n",
       "      <td>3600</td>\n",
       "      <td>kleinwagen</td>\n",
       "      <td>2008</td>\n",
       "      <td>manuell</td>\n",
       "      <td>69</td>\n",
       "      <td>fabia</td>\n",
       "      <td>90000</td>\n",
       "      <td>skoda</td>\n",
       "      <td>nein</td>\n",
       "    </tr>\n",
       "    <tr>\n",
       "      <th>...</th>\n",
       "      <td>...</td>\n",
       "      <td>...</td>\n",
       "      <td>...</td>\n",
       "      <td>...</td>\n",
       "      <td>...</td>\n",
       "      <td>...</td>\n",
       "      <td>...</td>\n",
       "      <td>...</td>\n",
       "      <td>...</td>\n",
       "    </tr>\n",
       "    <tr>\n",
       "      <th>371523</th>\n",
       "      <td>2200</td>\n",
       "      <td>NaN</td>\n",
       "      <td>2005</td>\n",
       "      <td>NaN</td>\n",
       "      <td>0</td>\n",
       "      <td>NaN</td>\n",
       "      <td>20000</td>\n",
       "      <td>sonstige_autos</td>\n",
       "      <td>NaN</td>\n",
       "    </tr>\n",
       "    <tr>\n",
       "      <th>371524</th>\n",
       "      <td>1199</td>\n",
       "      <td>cabrio</td>\n",
       "      <td>2000</td>\n",
       "      <td>automatik</td>\n",
       "      <td>101</td>\n",
       "      <td>fortwo</td>\n",
       "      <td>125000</td>\n",
       "      <td>smart</td>\n",
       "      <td>nein</td>\n",
       "    </tr>\n",
       "    <tr>\n",
       "      <th>371525</th>\n",
       "      <td>9200</td>\n",
       "      <td>bus</td>\n",
       "      <td>1996</td>\n",
       "      <td>manuell</td>\n",
       "      <td>102</td>\n",
       "      <td>transporter</td>\n",
       "      <td>150000</td>\n",
       "      <td>volkswagen</td>\n",
       "      <td>nein</td>\n",
       "    </tr>\n",
       "    <tr>\n",
       "      <th>371526</th>\n",
       "      <td>3400</td>\n",
       "      <td>kombi</td>\n",
       "      <td>2002</td>\n",
       "      <td>manuell</td>\n",
       "      <td>100</td>\n",
       "      <td>golf</td>\n",
       "      <td>150000</td>\n",
       "      <td>volkswagen</td>\n",
       "      <td>NaN</td>\n",
       "    </tr>\n",
       "    <tr>\n",
       "      <th>371527</th>\n",
       "      <td>28990</td>\n",
       "      <td>limousine</td>\n",
       "      <td>2013</td>\n",
       "      <td>manuell</td>\n",
       "      <td>320</td>\n",
       "      <td>m_reihe</td>\n",
       "      <td>50000</td>\n",
       "      <td>bmw</td>\n",
       "      <td>nein</td>\n",
       "    </tr>\n",
       "  </tbody>\n",
       "</table>\n",
       "<p>371528 rows × 9 columns</p>\n",
       "</div>"
      ],
      "text/plain": [
       "        price vehicleType  yearOfRegistration    gearbox  powerPS  \\\n",
       "0         480         NaN                1993    manuell        0   \n",
       "1       18300       coupe                2011    manuell      190   \n",
       "2        9800         suv                2004  automatik      163   \n",
       "3        1500  kleinwagen                2001    manuell       75   \n",
       "4        3600  kleinwagen                2008    manuell       69   \n",
       "...       ...         ...                 ...        ...      ...   \n",
       "371523   2200         NaN                2005        NaN        0   \n",
       "371524   1199      cabrio                2000  automatik      101   \n",
       "371525   9200         bus                1996    manuell      102   \n",
       "371526   3400       kombi                2002    manuell      100   \n",
       "371527  28990   limousine                2013    manuell      320   \n",
       "\n",
       "              model  kilometer           brand notRepairedDamage  \n",
       "0              golf     150000      volkswagen               NaN  \n",
       "1               NaN     125000            audi                ja  \n",
       "2             grand     125000            jeep               NaN  \n",
       "3              golf     150000      volkswagen              nein  \n",
       "4             fabia      90000           skoda              nein  \n",
       "...             ...        ...             ...               ...  \n",
       "371523          NaN      20000  sonstige_autos               NaN  \n",
       "371524       fortwo     125000           smart              nein  \n",
       "371525  transporter     150000      volkswagen              nein  \n",
       "371526         golf     150000      volkswagen               NaN  \n",
       "371527      m_reihe      50000             bmw              nein  \n",
       "\n",
       "[371528 rows x 9 columns]"
      ]
     },
     "execution_count": 3,
     "metadata": {},
     "output_type": "execute_result"
    }
   ],
   "source": [
    "car_df"
   ]
  },
  {
   "cell_type": "markdown",
   "id": "11ede641",
   "metadata": {},
   "source": [
    "##  Создаем описание набора данных на русском языке. "
   ]
  },
  {
   "cell_type": "code",
   "execution_count": 4,
   "id": "bb47dc97",
   "metadata": {},
   "outputs": [],
   "source": [
    "car_df.rename(columns = {'price' : 'цена', \n",
    "                           'yearOfRegistration' : 'зарегистрирована',\n",
    "                           'gearbox' : 'трансмиссия',\n",
    "                           'kilometer' : 'пробег',\n",
    "                           'vehicleType' : 'кузов',\n",
    "                           'notRepairedDamage' : 'битая',\n",
    "                           'brand' : 'бренд',\n",
    "                           'model' : 'модель',\n",
    "                           'powerPS' : 'мощность'},\n",
    "                           inplace = True)"
   ]
  },
  {
   "cell_type": "markdown",
   "id": "69e7437a",
   "metadata": {},
   "source": [
    "## Убираем дубликаты и пропущенные значения"
   ]
  },
  {
   "cell_type": "code",
   "execution_count": 5,
   "id": "3a680eec",
   "metadata": {
    "scrolled": true
   },
   "outputs": [],
   "source": [
    "car_df = car_df.dropna()\n",
    "car_df = car_df.drop_duplicates(keep = 'first')"
   ]
  },
  {
   "cell_type": "code",
   "execution_count": 6,
   "id": "44faa172",
   "metadata": {},
   "outputs": [],
   "source": [
    "car_df.reset_index(drop = True, inplace = True)"
   ]
  },
  {
   "cell_type": "markdown",
   "id": "87570a86",
   "metadata": {},
   "source": [
    "## Заменяем категориальные признаки"
   ]
  },
  {
   "cell_type": "code",
   "execution_count": 7,
   "id": "f566fe72",
   "metadata": {},
   "outputs": [
    {
     "data": {
      "text/plain": [
       "limousine     65852\n",
       "kleinwagen    50078\n",
       "kombi         46522\n",
       "bus           22500\n",
       "cabrio        16845\n",
       "coupe         13455\n",
       "suv           10962\n",
       "andere         1795\n",
       "Name: кузов, dtype: int64"
      ]
     },
     "execution_count": 7,
     "metadata": {},
     "output_type": "execute_result"
    }
   ],
   "source": [
    "car_df['кузов'].value_counts()"
   ]
  },
  {
   "cell_type": "code",
   "execution_count": 8,
   "id": "94a95495",
   "metadata": {},
   "outputs": [],
   "source": [
    "car_df.loc[car_df.кузов == 'limousine', 'кузов'] = 'лимузин'\n",
    "car_df.loc[car_df.кузов == 'kleinwagen' , 'кузов'] = 'мини'\n",
    "car_df.loc[car_df.кузов == 'kombi' , 'кузов'] = 'хэтчбэк'\n",
    "car_df.loc[car_df.кузов == 'bus' , 'кузов'] = 'автобус'\n",
    "car_df.loc[car_df.кузов == 'cabrio' , 'кузов'] = 'кабриолет'\n",
    "car_df.loc[car_df.кузов == 'coupe' , 'кузов'] = 'купе'\n",
    "car_df.loc[car_df.кузов == 'suv' , 'кузов'] = 'кроссовеер'\n",
    "car_df.loc[car_df.кузов == 'andere' , 'кузов'] = 'другое'"
   ]
  },
  {
   "cell_type": "code",
   "execution_count": 9,
   "id": "4f5db509",
   "metadata": {},
   "outputs": [
    {
     "data": {
      "text/plain": [
       "manuell      173060\n",
       "automatik     54949\n",
       "Name: трансмиссия, dtype: int64"
      ]
     },
     "execution_count": 9,
     "metadata": {},
     "output_type": "execute_result"
    }
   ],
   "source": [
    "car_df['трансмиссия'].value_counts()"
   ]
  },
  {
   "cell_type": "code",
   "execution_count": 10,
   "id": "abcb0da9",
   "metadata": {},
   "outputs": [],
   "source": [
    "car_df.loc[car_df.трансмиссия == 'manuell' , 'трансмиссия'] = 0\n",
    "car_df.loc[car_df.трансмиссия == 'automatik' , 'трансмиссия'] = 1"
   ]
  },
  {
   "cell_type": "code",
   "execution_count": 11,
   "id": "dc171402",
   "metadata": {},
   "outputs": [],
   "source": [
    "car_df.loc[car_df.битая == 'nein' , 'битая'] = 0\n",
    "car_df.loc[car_df.битая == 'ja' , 'битая'] = 1"
   ]
  },
  {
   "cell_type": "code",
   "execution_count": 12,
   "id": "99078a98",
   "metadata": {},
   "outputs": [
    {
     "data": {
      "text/html": [
       "<div>\n",
       "<style scoped>\n",
       "    .dataframe tbody tr th:only-of-type {\n",
       "        vertical-align: middle;\n",
       "    }\n",
       "\n",
       "    .dataframe tbody tr th {\n",
       "        vertical-align: top;\n",
       "    }\n",
       "\n",
       "    .dataframe thead th {\n",
       "        text-align: right;\n",
       "    }\n",
       "</style>\n",
       "<table border=\"1\" class=\"dataframe\">\n",
       "  <thead>\n",
       "    <tr style=\"text-align: right;\">\n",
       "      <th></th>\n",
       "      <th>цена</th>\n",
       "      <th>кузов</th>\n",
       "      <th>зарегистрирована</th>\n",
       "      <th>трансмиссия</th>\n",
       "      <th>мощность</th>\n",
       "      <th>модель</th>\n",
       "      <th>пробег</th>\n",
       "      <th>бренд</th>\n",
       "      <th>битая</th>\n",
       "    </tr>\n",
       "  </thead>\n",
       "  <tbody>\n",
       "    <tr>\n",
       "      <th>0</th>\n",
       "      <td>1500</td>\n",
       "      <td>мини</td>\n",
       "      <td>2001</td>\n",
       "      <td>0</td>\n",
       "      <td>75</td>\n",
       "      <td>golf</td>\n",
       "      <td>150.0</td>\n",
       "      <td>volkswagen</td>\n",
       "      <td>0</td>\n",
       "    </tr>\n",
       "    <tr>\n",
       "      <th>1</th>\n",
       "      <td>3600</td>\n",
       "      <td>мини</td>\n",
       "      <td>2008</td>\n",
       "      <td>0</td>\n",
       "      <td>69</td>\n",
       "      <td>fabia</td>\n",
       "      <td>150.0</td>\n",
       "      <td>skoda</td>\n",
       "      <td>0</td>\n",
       "    </tr>\n",
       "    <tr>\n",
       "      <th>2</th>\n",
       "      <td>650</td>\n",
       "      <td>лимузин</td>\n",
       "      <td>1995</td>\n",
       "      <td>0</td>\n",
       "      <td>102</td>\n",
       "      <td>3er</td>\n",
       "      <td>150.0</td>\n",
       "      <td>bmw</td>\n",
       "      <td>1</td>\n",
       "    </tr>\n",
       "    <tr>\n",
       "      <th>3</th>\n",
       "      <td>2200</td>\n",
       "      <td>кабриолет</td>\n",
       "      <td>2004</td>\n",
       "      <td>0</td>\n",
       "      <td>109</td>\n",
       "      <td>2_reihe</td>\n",
       "      <td>150.0</td>\n",
       "      <td>peugeot</td>\n",
       "      <td>0</td>\n",
       "    </tr>\n",
       "    <tr>\n",
       "      <th>4</th>\n",
       "      <td>0</td>\n",
       "      <td>лимузин</td>\n",
       "      <td>1980</td>\n",
       "      <td>0</td>\n",
       "      <td>50</td>\n",
       "      <td>andere</td>\n",
       "      <td>150.0</td>\n",
       "      <td>volkswagen</td>\n",
       "      <td>0</td>\n",
       "    </tr>\n",
       "    <tr>\n",
       "      <th>...</th>\n",
       "      <td>...</td>\n",
       "      <td>...</td>\n",
       "      <td>...</td>\n",
       "      <td>...</td>\n",
       "      <td>...</td>\n",
       "      <td>...</td>\n",
       "      <td>...</td>\n",
       "      <td>...</td>\n",
       "      <td>...</td>\n",
       "    </tr>\n",
       "    <tr>\n",
       "      <th>228004</th>\n",
       "      <td>3999</td>\n",
       "      <td>хэтчбэк</td>\n",
       "      <td>2005</td>\n",
       "      <td>0</td>\n",
       "      <td>3</td>\n",
       "      <td>3er</td>\n",
       "      <td>150.0</td>\n",
       "      <td>bmw</td>\n",
       "      <td>0</td>\n",
       "    </tr>\n",
       "    <tr>\n",
       "      <th>228005</th>\n",
       "      <td>3200</td>\n",
       "      <td>лимузин</td>\n",
       "      <td>2004</td>\n",
       "      <td>0</td>\n",
       "      <td>225</td>\n",
       "      <td>leon</td>\n",
       "      <td>150.0</td>\n",
       "      <td>seat</td>\n",
       "      <td>1</td>\n",
       "    </tr>\n",
       "    <tr>\n",
       "      <th>228006</th>\n",
       "      <td>1199</td>\n",
       "      <td>кабриолет</td>\n",
       "      <td>2000</td>\n",
       "      <td>1</td>\n",
       "      <td>101</td>\n",
       "      <td>fortwo</td>\n",
       "      <td>150.0</td>\n",
       "      <td>smart</td>\n",
       "      <td>0</td>\n",
       "    </tr>\n",
       "    <tr>\n",
       "      <th>228007</th>\n",
       "      <td>9200</td>\n",
       "      <td>автобус</td>\n",
       "      <td>1996</td>\n",
       "      <td>0</td>\n",
       "      <td>102</td>\n",
       "      <td>transporter</td>\n",
       "      <td>150.0</td>\n",
       "      <td>volkswagen</td>\n",
       "      <td>0</td>\n",
       "    </tr>\n",
       "    <tr>\n",
       "      <th>228008</th>\n",
       "      <td>28990</td>\n",
       "      <td>лимузин</td>\n",
       "      <td>2013</td>\n",
       "      <td>0</td>\n",
       "      <td>320</td>\n",
       "      <td>m_reihe</td>\n",
       "      <td>150.0</td>\n",
       "      <td>bmw</td>\n",
       "      <td>0</td>\n",
       "    </tr>\n",
       "  </tbody>\n",
       "</table>\n",
       "<p>228009 rows × 9 columns</p>\n",
       "</div>"
      ],
      "text/plain": [
       "         цена      кузов  зарегистрирована трансмиссия  мощность       модель  \\\n",
       "0        1500       мини              2001           0        75         golf   \n",
       "1        3600       мини              2008           0        69        fabia   \n",
       "2         650    лимузин              1995           0       102          3er   \n",
       "3        2200  кабриолет              2004           0       109      2_reihe   \n",
       "4           0    лимузин              1980           0        50       andere   \n",
       "...       ...        ...               ...         ...       ...          ...   \n",
       "228004   3999    хэтчбэк              2005           0         3          3er   \n",
       "228005   3200    лимузин              2004           0       225         leon   \n",
       "228006   1199  кабриолет              2000           1       101       fortwo   \n",
       "228007   9200    автобус              1996           0       102  transporter   \n",
       "228008  28990    лимузин              2013           0       320      m_reihe   \n",
       "\n",
       "        пробег       бренд битая  \n",
       "0        150.0  volkswagen     0  \n",
       "1        150.0       skoda     0  \n",
       "2        150.0         bmw     1  \n",
       "3        150.0     peugeot     0  \n",
       "4        150.0  volkswagen     0  \n",
       "...        ...         ...   ...  \n",
       "228004   150.0         bmw     0  \n",
       "228005   150.0        seat     1  \n",
       "228006   150.0       smart     0  \n",
       "228007   150.0  volkswagen     0  \n",
       "228008   150.0         bmw     0  \n",
       "\n",
       "[228009 rows x 9 columns]"
      ]
     },
     "execution_count": 12,
     "metadata": {},
     "output_type": "execute_result"
    }
   ],
   "source": [
    "car_df.loc[car_df.пробег, 'пробег'] /= 1000\n",
    "car_df"
   ]
  },
  {
   "cell_type": "code",
   "execution_count": 13,
   "id": "445ab53c",
   "metadata": {},
   "outputs": [],
   "source": [
    "hash_space = 250\n",
    "count = 0\n",
    "for i in car_df['модель']:\n",
    "   car_df.loc[car_df.index == count, 'модель']  = (hash(i) % hash_space)\n",
    "   count+=1"
   ]
  },
  {
   "cell_type": "code",
   "execution_count": 14,
   "id": "0c9f1a1a",
   "metadata": {},
   "outputs": [],
   "source": [
    "hash_space = 50\n",
    "count = 0\n",
    "for i in car_df['бренд']:\n",
    "   car_df.loc[car_df.index == count, 'бренд']  = (hash(i) % hash_space)\n",
    "   count+=1"
   ]
  },
  {
   "cell_type": "code",
   "execution_count": 15,
   "id": "6c3b0a23",
   "metadata": {},
   "outputs": [],
   "source": [
    "df_nonbinary = pd.get_dummies(car_df['кузов'])\n",
    "car_df.drop('кузов', axis=1, inplace=True)\n",
    "car_df = pd.concat([df_nonbinary, car_df] , axis=1)"
   ]
  },
  {
   "cell_type": "code",
   "execution_count": 16,
   "id": "3056c00d",
   "metadata": {},
   "outputs": [
    {
     "data": {
      "text/html": [
       "<div>\n",
       "<style scoped>\n",
       "    .dataframe tbody tr th:only-of-type {\n",
       "        vertical-align: middle;\n",
       "    }\n",
       "\n",
       "    .dataframe tbody tr th {\n",
       "        vertical-align: top;\n",
       "    }\n",
       "\n",
       "    .dataframe thead th {\n",
       "        text-align: right;\n",
       "    }\n",
       "</style>\n",
       "<table border=\"1\" class=\"dataframe\">\n",
       "  <thead>\n",
       "    <tr style=\"text-align: right;\">\n",
       "      <th></th>\n",
       "      <th>автобус</th>\n",
       "      <th>другое</th>\n",
       "      <th>кабриолет</th>\n",
       "      <th>кроссовеер</th>\n",
       "      <th>купе</th>\n",
       "      <th>лимузин</th>\n",
       "      <th>мини</th>\n",
       "      <th>хэтчбэк</th>\n",
       "      <th>цена</th>\n",
       "      <th>зарегистрирована</th>\n",
       "      <th>трансмиссия</th>\n",
       "      <th>мощность</th>\n",
       "      <th>модель</th>\n",
       "      <th>пробег</th>\n",
       "      <th>бренд</th>\n",
       "      <th>битая</th>\n",
       "    </tr>\n",
       "  </thead>\n",
       "  <tbody>\n",
       "    <tr>\n",
       "      <th>0</th>\n",
       "      <td>0</td>\n",
       "      <td>0</td>\n",
       "      <td>0</td>\n",
       "      <td>0</td>\n",
       "      <td>0</td>\n",
       "      <td>0</td>\n",
       "      <td>1</td>\n",
       "      <td>0</td>\n",
       "      <td>1500</td>\n",
       "      <td>2001</td>\n",
       "      <td>0</td>\n",
       "      <td>75</td>\n",
       "      <td>166</td>\n",
       "      <td>150.0</td>\n",
       "      <td>20</td>\n",
       "      <td>0</td>\n",
       "    </tr>\n",
       "    <tr>\n",
       "      <th>1</th>\n",
       "      <td>0</td>\n",
       "      <td>0</td>\n",
       "      <td>0</td>\n",
       "      <td>0</td>\n",
       "      <td>0</td>\n",
       "      <td>0</td>\n",
       "      <td>1</td>\n",
       "      <td>0</td>\n",
       "      <td>3600</td>\n",
       "      <td>2008</td>\n",
       "      <td>0</td>\n",
       "      <td>69</td>\n",
       "      <td>4</td>\n",
       "      <td>150.0</td>\n",
       "      <td>6</td>\n",
       "      <td>0</td>\n",
       "    </tr>\n",
       "    <tr>\n",
       "      <th>2</th>\n",
       "      <td>0</td>\n",
       "      <td>0</td>\n",
       "      <td>0</td>\n",
       "      <td>0</td>\n",
       "      <td>0</td>\n",
       "      <td>1</td>\n",
       "      <td>0</td>\n",
       "      <td>0</td>\n",
       "      <td>650</td>\n",
       "      <td>1995</td>\n",
       "      <td>0</td>\n",
       "      <td>102</td>\n",
       "      <td>63</td>\n",
       "      <td>150.0</td>\n",
       "      <td>20</td>\n",
       "      <td>1</td>\n",
       "    </tr>\n",
       "    <tr>\n",
       "      <th>3</th>\n",
       "      <td>0</td>\n",
       "      <td>0</td>\n",
       "      <td>1</td>\n",
       "      <td>0</td>\n",
       "      <td>0</td>\n",
       "      <td>0</td>\n",
       "      <td>0</td>\n",
       "      <td>0</td>\n",
       "      <td>2200</td>\n",
       "      <td>2004</td>\n",
       "      <td>0</td>\n",
       "      <td>109</td>\n",
       "      <td>116</td>\n",
       "      <td>150.0</td>\n",
       "      <td>10</td>\n",
       "      <td>0</td>\n",
       "    </tr>\n",
       "    <tr>\n",
       "      <th>4</th>\n",
       "      <td>0</td>\n",
       "      <td>0</td>\n",
       "      <td>0</td>\n",
       "      <td>0</td>\n",
       "      <td>0</td>\n",
       "      <td>1</td>\n",
       "      <td>0</td>\n",
       "      <td>0</td>\n",
       "      <td>0</td>\n",
       "      <td>1980</td>\n",
       "      <td>0</td>\n",
       "      <td>50</td>\n",
       "      <td>159</td>\n",
       "      <td>150.0</td>\n",
       "      <td>20</td>\n",
       "      <td>0</td>\n",
       "    </tr>\n",
       "    <tr>\n",
       "      <th>...</th>\n",
       "      <td>...</td>\n",
       "      <td>...</td>\n",
       "      <td>...</td>\n",
       "      <td>...</td>\n",
       "      <td>...</td>\n",
       "      <td>...</td>\n",
       "      <td>...</td>\n",
       "      <td>...</td>\n",
       "      <td>...</td>\n",
       "      <td>...</td>\n",
       "      <td>...</td>\n",
       "      <td>...</td>\n",
       "      <td>...</td>\n",
       "      <td>...</td>\n",
       "      <td>...</td>\n",
       "      <td>...</td>\n",
       "    </tr>\n",
       "    <tr>\n",
       "      <th>228004</th>\n",
       "      <td>0</td>\n",
       "      <td>0</td>\n",
       "      <td>0</td>\n",
       "      <td>0</td>\n",
       "      <td>0</td>\n",
       "      <td>0</td>\n",
       "      <td>0</td>\n",
       "      <td>1</td>\n",
       "      <td>3999</td>\n",
       "      <td>2005</td>\n",
       "      <td>0</td>\n",
       "      <td>3</td>\n",
       "      <td>63</td>\n",
       "      <td>150.0</td>\n",
       "      <td>20</td>\n",
       "      <td>0</td>\n",
       "    </tr>\n",
       "    <tr>\n",
       "      <th>228005</th>\n",
       "      <td>0</td>\n",
       "      <td>0</td>\n",
       "      <td>0</td>\n",
       "      <td>0</td>\n",
       "      <td>0</td>\n",
       "      <td>1</td>\n",
       "      <td>0</td>\n",
       "      <td>0</td>\n",
       "      <td>3200</td>\n",
       "      <td>2004</td>\n",
       "      <td>0</td>\n",
       "      <td>225</td>\n",
       "      <td>228</td>\n",
       "      <td>150.0</td>\n",
       "      <td>37</td>\n",
       "      <td>1</td>\n",
       "    </tr>\n",
       "    <tr>\n",
       "      <th>228006</th>\n",
       "      <td>0</td>\n",
       "      <td>0</td>\n",
       "      <td>1</td>\n",
       "      <td>0</td>\n",
       "      <td>0</td>\n",
       "      <td>0</td>\n",
       "      <td>0</td>\n",
       "      <td>0</td>\n",
       "      <td>1199</td>\n",
       "      <td>2000</td>\n",
       "      <td>1</td>\n",
       "      <td>101</td>\n",
       "      <td>117</td>\n",
       "      <td>150.0</td>\n",
       "      <td>38</td>\n",
       "      <td>0</td>\n",
       "    </tr>\n",
       "    <tr>\n",
       "      <th>228007</th>\n",
       "      <td>1</td>\n",
       "      <td>0</td>\n",
       "      <td>0</td>\n",
       "      <td>0</td>\n",
       "      <td>0</td>\n",
       "      <td>0</td>\n",
       "      <td>0</td>\n",
       "      <td>0</td>\n",
       "      <td>9200</td>\n",
       "      <td>1996</td>\n",
       "      <td>0</td>\n",
       "      <td>102</td>\n",
       "      <td>55</td>\n",
       "      <td>150.0</td>\n",
       "      <td>20</td>\n",
       "      <td>0</td>\n",
       "    </tr>\n",
       "    <tr>\n",
       "      <th>228008</th>\n",
       "      <td>0</td>\n",
       "      <td>0</td>\n",
       "      <td>0</td>\n",
       "      <td>0</td>\n",
       "      <td>0</td>\n",
       "      <td>1</td>\n",
       "      <td>0</td>\n",
       "      <td>0</td>\n",
       "      <td>28990</td>\n",
       "      <td>2013</td>\n",
       "      <td>0</td>\n",
       "      <td>320</td>\n",
       "      <td>116</td>\n",
       "      <td>150.0</td>\n",
       "      <td>20</td>\n",
       "      <td>0</td>\n",
       "    </tr>\n",
       "  </tbody>\n",
       "</table>\n",
       "<p>228009 rows × 16 columns</p>\n",
       "</div>"
      ],
      "text/plain": [
       "        автобус  другое  кабриолет  кроссовеер  купе  лимузин  мини  хэтчбэк  \\\n",
       "0             0       0          0           0     0        0     1        0   \n",
       "1             0       0          0           0     0        0     1        0   \n",
       "2             0       0          0           0     0        1     0        0   \n",
       "3             0       0          1           0     0        0     0        0   \n",
       "4             0       0          0           0     0        1     0        0   \n",
       "...         ...     ...        ...         ...   ...      ...   ...      ...   \n",
       "228004        0       0          0           0     0        0     0        1   \n",
       "228005        0       0          0           0     0        1     0        0   \n",
       "228006        0       0          1           0     0        0     0        0   \n",
       "228007        1       0          0           0     0        0     0        0   \n",
       "228008        0       0          0           0     0        1     0        0   \n",
       "\n",
       "         цена  зарегистрирована трансмиссия  мощность модель  пробег бренд  \\\n",
       "0        1500              2001           0        75    166   150.0    20   \n",
       "1        3600              2008           0        69      4   150.0     6   \n",
       "2         650              1995           0       102     63   150.0    20   \n",
       "3        2200              2004           0       109    116   150.0    10   \n",
       "4           0              1980           0        50    159   150.0    20   \n",
       "...       ...               ...         ...       ...    ...     ...   ...   \n",
       "228004   3999              2005           0         3     63   150.0    20   \n",
       "228005   3200              2004           0       225    228   150.0    37   \n",
       "228006   1199              2000           1       101    117   150.0    38   \n",
       "228007   9200              1996           0       102     55   150.0    20   \n",
       "228008  28990              2013           0       320    116   150.0    20   \n",
       "\n",
       "       битая  \n",
       "0          0  \n",
       "1          0  \n",
       "2          1  \n",
       "3          0  \n",
       "4          0  \n",
       "...      ...  \n",
       "228004     0  \n",
       "228005     1  \n",
       "228006     0  \n",
       "228007     0  \n",
       "228008     0  \n",
       "\n",
       "[228009 rows x 16 columns]"
      ]
     },
     "execution_count": 16,
     "metadata": {},
     "output_type": "execute_result"
    }
   ],
   "source": [
    "car_df"
   ]
  },
  {
   "cell_type": "markdown",
   "id": "30470666",
   "metadata": {},
   "source": [
    "## Выполняем масштабирование количественных признаков"
   ]
  },
  {
   "cell_type": "code",
   "execution_count": 17,
   "id": "f5f8fca9",
   "metadata": {},
   "outputs": [
    {
     "data": {
      "text/plain": [
       "<AxesSubplot:>"
      ]
     },
     "execution_count": 17,
     "metadata": {},
     "output_type": "execute_result"
    },
    {
     "data": {
      "image/png": "[encoded data removed]",
      "text/plain": [
       "<Figure size 432x288 with 1 Axes>"
      ]
     },
     "metadata": {
      "needs_background": "light"
     },
     "output_type": "display_data"
    }
   ],
   "source": [
    "feat_for_scale = pd.DataFrame(car_df['зарегистрирована'])\n",
    "sns.boxplot(data = feat_for_scale, orient = 'h')"
   ]
  },
  {
   "cell_type": "code",
   "execution_count": 18,
   "id": "c486b270",
   "metadata": {},
   "outputs": [
    {
     "data": {
      "text/plain": [
       "<AxesSubplot:>"
      ]
     },
     "execution_count": 18,
     "metadata": {},
     "output_type": "execute_result"
    },
    {
     "data": {
      "image/png": "[encoded data removed]",
      "text/plain": [
       "<Figure size 432x288 with 1 Axes>"
      ]
     },
     "metadata": {
      "needs_background": "light"
     },
     "output_type": "display_data"
    }
   ],
   "source": [
    "car_df = car_df.loc[car_df.зарегистрирована > 1990]\n",
    "car_df.reset_index(drop = True, inplace = True)\n",
    "feat_for_scale = pd.DataFrame(car_df['зарегистрирована'])\n",
    "\n",
    "scaler = MinMaxScaler()\n",
    "d = scaler.fit_transform(feat_for_scale)\n",
    "\n",
    "scaled_feat = pd.DataFrame(d)\n",
    "\n",
    "sns.boxplot(data = scaled_feat, orient = 'h')"
   ]
  },
  {
   "cell_type": "code",
   "execution_count": 19,
   "id": "0a6597b0",
   "metadata": {},
   "outputs": [
    {
     "name": "stderr",
     "output_type": "stream",
     "text": [
      "C:\\Users\\tealvl\\AppData\\Local\\Temp\\ipykernel_17784\\2146629315.py:1: SettingWithCopyWarning: \n",
      "A value is trying to be set on a copy of a slice from a DataFrame.\n",
      "Try using .loc[row_indexer,col_indexer] = value instead\n",
      "\n",
      "See the caveats in the documentation: https://pandas.pydata.org/pandas-docs/stable/user_guide/indexing.html#returning-a-view-versus-a-copy\n",
      "  car_df['зарегистрирована'] = scaled_feat\n"
     ]
    }
   ],
   "source": [
    "car_df['зарегистрирована'] = scaled_feat"
   ]
  },
  {
   "cell_type": "code",
   "execution_count": 20,
   "id": "c9d0643b",
   "metadata": {},
   "outputs": [
    {
     "data": {
      "text/plain": [
       "<AxesSubplot:>"
      ]
     },
     "execution_count": 20,
     "metadata": {},
     "output_type": "execute_result"
    },
    {
     "data": {
      "image/png": "[encoded data removed]",
      "text/plain": [
       "<Figure size 432x288 with 1 Axes>"
      ]
     },
     "metadata": {
      "needs_background": "light"
     },
     "output_type": "display_data"
    }
   ],
   "source": [
    "feat_for_scale = pd.DataFrame(car_df['мощность'])\n",
    "sns.boxplot(data = feat_for_scale, orient = 'h')"
   ]
  },
  {
   "cell_type": "code",
   "execution_count": 21,
   "id": "c8782113",
   "metadata": {},
   "outputs": [
    {
     "data": {
      "text/plain": [
       "<AxesSubplot:>"
      ]
     },
     "execution_count": 21,
     "metadata": {},
     "output_type": "execute_result"
    },
    {
     "data": {
      "image/png": "[encoded data removed]",
      "text/plain": [
       "<Figure size 432x288 with 1 Axes>"
      ]
     },
     "metadata": {
      "needs_background": "light"
     },
     "output_type": "display_data"
    }
   ],
   "source": [
    "car_df = car_df.loc[car_df.мощность < 350]\n",
    "car_df.reset_index(drop = True, inplace = True)\n",
    "feat_for_scale = pd.DataFrame(car_df['мощность'])\n",
    "sns.boxplot(data = feat_for_scale, orient= 'h')"
   ]
  },
  {
   "cell_type": "code",
   "execution_count": 22,
   "id": "622792eb",
   "metadata": {},
   "outputs": [
    {
     "data": {
      "text/plain": [
       "<AxesSubplot:>"
      ]
     },
     "execution_count": 22,
     "metadata": {},
     "output_type": "execute_result"
    },
    {
     "data": {
      "image/png": "[encoded data removed]",
      "text/plain": [
       "<Figure size 432x288 with 1 Axes>"
      ]
     },
     "metadata": {
      "needs_background": "light"
     },
     "output_type": "display_data"
    }
   ],
   "source": [
    "d = scaler.fit_transform(feat_for_scale)\n",
    "\n",
    "scaled_feat = pd.DataFrame(d)\n",
    "\n",
    "sns.boxplot(data = scaled_feat, orient = 'h')"
   ]
  },
  {
   "cell_type": "code",
   "execution_count": 23,
   "id": "60352f4f",
   "metadata": {},
   "outputs": [
    {
     "data": {
      "text/html": [
       "<div>\n",
       "<style scoped>\n",
       "    .dataframe tbody tr th:only-of-type {\n",
       "        vertical-align: middle;\n",
       "    }\n",
       "\n",
       "    .dataframe tbody tr th {\n",
       "        vertical-align: top;\n",
       "    }\n",
       "\n",
       "    .dataframe thead th {\n",
       "        text-align: right;\n",
       "    }\n",
       "</style>\n",
       "<table border=\"1\" class=\"dataframe\">\n",
       "  <thead>\n",
       "    <tr style=\"text-align: right;\">\n",
       "      <th></th>\n",
       "      <th>автобус</th>\n",
       "      <th>другое</th>\n",
       "      <th>кабриолет</th>\n",
       "      <th>кроссовеер</th>\n",
       "      <th>купе</th>\n",
       "      <th>лимузин</th>\n",
       "      <th>мини</th>\n",
       "      <th>хэтчбэк</th>\n",
       "      <th>цена</th>\n",
       "      <th>зарегистрирована</th>\n",
       "      <th>трансмиссия</th>\n",
       "      <th>мощность</th>\n",
       "      <th>модель</th>\n",
       "      <th>пробег</th>\n",
       "      <th>бренд</th>\n",
       "      <th>битая</th>\n",
       "    </tr>\n",
       "  </thead>\n",
       "  <tbody>\n",
       "    <tr>\n",
       "      <th>0</th>\n",
       "      <td>0</td>\n",
       "      <td>0</td>\n",
       "      <td>0</td>\n",
       "      <td>0</td>\n",
       "      <td>0</td>\n",
       "      <td>0</td>\n",
       "      <td>1</td>\n",
       "      <td>0</td>\n",
       "      <td>1500</td>\n",
       "      <td>0.370370</td>\n",
       "      <td>0</td>\n",
       "      <td>0.214900</td>\n",
       "      <td>166</td>\n",
       "      <td>150.0</td>\n",
       "      <td>20</td>\n",
       "      <td>0</td>\n",
       "    </tr>\n",
       "    <tr>\n",
       "      <th>1</th>\n",
       "      <td>0</td>\n",
       "      <td>0</td>\n",
       "      <td>0</td>\n",
       "      <td>0</td>\n",
       "      <td>0</td>\n",
       "      <td>0</td>\n",
       "      <td>1</td>\n",
       "      <td>0</td>\n",
       "      <td>3600</td>\n",
       "      <td>0.629630</td>\n",
       "      <td>0</td>\n",
       "      <td>0.197708</td>\n",
       "      <td>4</td>\n",
       "      <td>150.0</td>\n",
       "      <td>6</td>\n",
       "      <td>0</td>\n",
       "    </tr>\n",
       "    <tr>\n",
       "      <th>2</th>\n",
       "      <td>0</td>\n",
       "      <td>0</td>\n",
       "      <td>0</td>\n",
       "      <td>0</td>\n",
       "      <td>0</td>\n",
       "      <td>1</td>\n",
       "      <td>0</td>\n",
       "      <td>0</td>\n",
       "      <td>650</td>\n",
       "      <td>0.148148</td>\n",
       "      <td>0</td>\n",
       "      <td>0.292264</td>\n",
       "      <td>63</td>\n",
       "      <td>150.0</td>\n",
       "      <td>20</td>\n",
       "      <td>1</td>\n",
       "    </tr>\n",
       "    <tr>\n",
       "      <th>3</th>\n",
       "      <td>0</td>\n",
       "      <td>0</td>\n",
       "      <td>1</td>\n",
       "      <td>0</td>\n",
       "      <td>0</td>\n",
       "      <td>0</td>\n",
       "      <td>0</td>\n",
       "      <td>0</td>\n",
       "      <td>2200</td>\n",
       "      <td>0.481481</td>\n",
       "      <td>0</td>\n",
       "      <td>0.312321</td>\n",
       "      <td>116</td>\n",
       "      <td>150.0</td>\n",
       "      <td>10</td>\n",
       "      <td>0</td>\n",
       "    </tr>\n",
       "    <tr>\n",
       "      <th>4</th>\n",
       "      <td>0</td>\n",
       "      <td>0</td>\n",
       "      <td>0</td>\n",
       "      <td>0</td>\n",
       "      <td>0</td>\n",
       "      <td>1</td>\n",
       "      <td>0</td>\n",
       "      <td>0</td>\n",
       "      <td>2000</td>\n",
       "      <td>0.481481</td>\n",
       "      <td>0</td>\n",
       "      <td>0.300860</td>\n",
       "      <td>244</td>\n",
       "      <td>150.0</td>\n",
       "      <td>19</td>\n",
       "      <td>0</td>\n",
       "    </tr>\n",
       "    <tr>\n",
       "      <th>...</th>\n",
       "      <td>...</td>\n",
       "      <td>...</td>\n",
       "      <td>...</td>\n",
       "      <td>...</td>\n",
       "      <td>...</td>\n",
       "      <td>...</td>\n",
       "      <td>...</td>\n",
       "      <td>...</td>\n",
       "      <td>...</td>\n",
       "      <td>...</td>\n",
       "      <td>...</td>\n",
       "      <td>...</td>\n",
       "      <td>...</td>\n",
       "      <td>...</td>\n",
       "      <td>...</td>\n",
       "      <td>...</td>\n",
       "    </tr>\n",
       "    <tr>\n",
       "      <th>218991</th>\n",
       "      <td>0</td>\n",
       "      <td>0</td>\n",
       "      <td>0</td>\n",
       "      <td>0</td>\n",
       "      <td>0</td>\n",
       "      <td>0</td>\n",
       "      <td>0</td>\n",
       "      <td>1</td>\n",
       "      <td>3999</td>\n",
       "      <td>0.518519</td>\n",
       "      <td>0</td>\n",
       "      <td>0.008596</td>\n",
       "      <td>63</td>\n",
       "      <td>150.0</td>\n",
       "      <td>20</td>\n",
       "      <td>0</td>\n",
       "    </tr>\n",
       "    <tr>\n",
       "      <th>218992</th>\n",
       "      <td>0</td>\n",
       "      <td>0</td>\n",
       "      <td>0</td>\n",
       "      <td>0</td>\n",
       "      <td>0</td>\n",
       "      <td>1</td>\n",
       "      <td>0</td>\n",
       "      <td>0</td>\n",
       "      <td>3200</td>\n",
       "      <td>0.481481</td>\n",
       "      <td>0</td>\n",
       "      <td>0.644699</td>\n",
       "      <td>228</td>\n",
       "      <td>150.0</td>\n",
       "      <td>37</td>\n",
       "      <td>1</td>\n",
       "    </tr>\n",
       "    <tr>\n",
       "      <th>218993</th>\n",
       "      <td>0</td>\n",
       "      <td>0</td>\n",
       "      <td>1</td>\n",
       "      <td>0</td>\n",
       "      <td>0</td>\n",
       "      <td>0</td>\n",
       "      <td>0</td>\n",
       "      <td>0</td>\n",
       "      <td>1199</td>\n",
       "      <td>0.333333</td>\n",
       "      <td>1</td>\n",
       "      <td>0.289398</td>\n",
       "      <td>117</td>\n",
       "      <td>150.0</td>\n",
       "      <td>38</td>\n",
       "      <td>0</td>\n",
       "    </tr>\n",
       "    <tr>\n",
       "      <th>218994</th>\n",
       "      <td>1</td>\n",
       "      <td>0</td>\n",
       "      <td>0</td>\n",
       "      <td>0</td>\n",
       "      <td>0</td>\n",
       "      <td>0</td>\n",
       "      <td>0</td>\n",
       "      <td>0</td>\n",
       "      <td>9200</td>\n",
       "      <td>0.185185</td>\n",
       "      <td>0</td>\n",
       "      <td>0.292264</td>\n",
       "      <td>55</td>\n",
       "      <td>150.0</td>\n",
       "      <td>20</td>\n",
       "      <td>0</td>\n",
       "    </tr>\n",
       "    <tr>\n",
       "      <th>218995</th>\n",
       "      <td>0</td>\n",
       "      <td>0</td>\n",
       "      <td>0</td>\n",
       "      <td>0</td>\n",
       "      <td>0</td>\n",
       "      <td>1</td>\n",
       "      <td>0</td>\n",
       "      <td>0</td>\n",
       "      <td>28990</td>\n",
       "      <td>0.814815</td>\n",
       "      <td>0</td>\n",
       "      <td>0.916905</td>\n",
       "      <td>116</td>\n",
       "      <td>150.0</td>\n",
       "      <td>20</td>\n",
       "      <td>0</td>\n",
       "    </tr>\n",
       "  </tbody>\n",
       "</table>\n",
       "<p>218996 rows × 16 columns</p>\n",
       "</div>"
      ],
      "text/plain": [
       "        автобус  другое  кабриолет  кроссовеер  купе  лимузин  мини  хэтчбэк  \\\n",
       "0             0       0          0           0     0        0     1        0   \n",
       "1             0       0          0           0     0        0     1        0   \n",
       "2             0       0          0           0     0        1     0        0   \n",
       "3             0       0          1           0     0        0     0        0   \n",
       "4             0       0          0           0     0        1     0        0   \n",
       "...         ...     ...        ...         ...   ...      ...   ...      ...   \n",
       "218991        0       0          0           0     0        0     0        1   \n",
       "218992        0       0          0           0     0        1     0        0   \n",
       "218993        0       0          1           0     0        0     0        0   \n",
       "218994        1       0          0           0     0        0     0        0   \n",
       "218995        0       0          0           0     0        1     0        0   \n",
       "\n",
       "         цена  зарегистрирована трансмиссия  мощность модель  пробег бренд  \\\n",
       "0        1500          0.370370           0  0.214900    166   150.0    20   \n",
       "1        3600          0.629630           0  0.197708      4   150.0     6   \n",
       "2         650          0.148148           0  0.292264     63   150.0    20   \n",
       "3        2200          0.481481           0  0.312321    116   150.0    10   \n",
       "4        2000          0.481481           0  0.300860    244   150.0    19   \n",
       "...       ...               ...         ...       ...    ...     ...   ...   \n",
       "218991   3999          0.518519           0  0.008596     63   150.0    20   \n",
       "218992   3200          0.481481           0  0.644699    228   150.0    37   \n",
       "218993   1199          0.333333           1  0.289398    117   150.0    38   \n",
       "218994   9200          0.185185           0  0.292264     55   150.0    20   \n",
       "218995  28990          0.814815           0  0.916905    116   150.0    20   \n",
       "\n",
       "       битая  \n",
       "0          0  \n",
       "1          0  \n",
       "2          1  \n",
       "3          0  \n",
       "4          0  \n",
       "...      ...  \n",
       "218991     0  \n",
       "218992     1  \n",
       "218993     0  \n",
       "218994     0  \n",
       "218995     0  \n",
       "\n",
       "[218996 rows x 16 columns]"
      ]
     },
     "execution_count": 23,
     "metadata": {},
     "output_type": "execute_result"
    }
   ],
   "source": [
    "car_df['мощность'] = scaled_feat\n",
    "car_df"
   ]
  },
  {
   "cell_type": "code",
   "execution_count": 24,
   "id": "d1e6f227",
   "metadata": {},
   "outputs": [
    {
     "data": {
      "text/plain": [
       "<AxesSubplot:>"
      ]
     },
     "execution_count": 24,
     "metadata": {},
     "output_type": "execute_result"
    },
    {
     "data": {
      "image/png": "[encoded data removed]",
      "text/plain": [
       "<Figure size 432x288 with 1 Axes>"
      ]
     },
     "metadata": {
      "needs_background": "light"
     },
     "output_type": "display_data"
    }
   ],
   "source": [
    "feat_for_scale = pd.DataFrame(car_df['пробег'])\n",
    "d = scaler.fit_transform(feat_for_scale)\n",
    "scaled_feat = pd.DataFrame(d)\n",
    "sns.boxplot(data = scaled_feat, orient = 'h')"
   ]
  },
  {
   "cell_type": "code",
   "execution_count": 25,
   "id": "136099b8",
   "metadata": {},
   "outputs": [
    {
     "data": {
      "text/html": [
       "<div>\n",
       "<style scoped>\n",
       "    .dataframe tbody tr th:only-of-type {\n",
       "        vertical-align: middle;\n",
       "    }\n",
       "\n",
       "    .dataframe tbody tr th {\n",
       "        vertical-align: top;\n",
       "    }\n",
       "\n",
       "    .dataframe thead th {\n",
       "        text-align: right;\n",
       "    }\n",
       "</style>\n",
       "<table border=\"1\" class=\"dataframe\">\n",
       "  <thead>\n",
       "    <tr style=\"text-align: right;\">\n",
       "      <th></th>\n",
       "      <th>автобус</th>\n",
       "      <th>другое</th>\n",
       "      <th>кабриолет</th>\n",
       "      <th>кроссовеер</th>\n",
       "      <th>купе</th>\n",
       "      <th>лимузин</th>\n",
       "      <th>мини</th>\n",
       "      <th>хэтчбэк</th>\n",
       "      <th>цена</th>\n",
       "      <th>зарегистрирована</th>\n",
       "      <th>трансмиссия</th>\n",
       "      <th>мощность</th>\n",
       "      <th>модель</th>\n",
       "      <th>пробег</th>\n",
       "      <th>бренд</th>\n",
       "      <th>битая</th>\n",
       "    </tr>\n",
       "  </thead>\n",
       "  <tbody>\n",
       "    <tr>\n",
       "      <th>0</th>\n",
       "      <td>0</td>\n",
       "      <td>0</td>\n",
       "      <td>0</td>\n",
       "      <td>0</td>\n",
       "      <td>0</td>\n",
       "      <td>0</td>\n",
       "      <td>1</td>\n",
       "      <td>0</td>\n",
       "      <td>1500</td>\n",
       "      <td>0.370370</td>\n",
       "      <td>0</td>\n",
       "      <td>0.214900</td>\n",
       "      <td>166</td>\n",
       "      <td>1.0</td>\n",
       "      <td>20</td>\n",
       "      <td>0</td>\n",
       "    </tr>\n",
       "    <tr>\n",
       "      <th>1</th>\n",
       "      <td>0</td>\n",
       "      <td>0</td>\n",
       "      <td>0</td>\n",
       "      <td>0</td>\n",
       "      <td>0</td>\n",
       "      <td>0</td>\n",
       "      <td>1</td>\n",
       "      <td>0</td>\n",
       "      <td>3600</td>\n",
       "      <td>0.629630</td>\n",
       "      <td>0</td>\n",
       "      <td>0.197708</td>\n",
       "      <td>4</td>\n",
       "      <td>1.0</td>\n",
       "      <td>6</td>\n",
       "      <td>0</td>\n",
       "    </tr>\n",
       "    <tr>\n",
       "      <th>2</th>\n",
       "      <td>0</td>\n",
       "      <td>0</td>\n",
       "      <td>0</td>\n",
       "      <td>0</td>\n",
       "      <td>0</td>\n",
       "      <td>1</td>\n",
       "      <td>0</td>\n",
       "      <td>0</td>\n",
       "      <td>650</td>\n",
       "      <td>0.148148</td>\n",
       "      <td>0</td>\n",
       "      <td>0.292264</td>\n",
       "      <td>63</td>\n",
       "      <td>1.0</td>\n",
       "      <td>20</td>\n",
       "      <td>1</td>\n",
       "    </tr>\n",
       "    <tr>\n",
       "      <th>3</th>\n",
       "      <td>0</td>\n",
       "      <td>0</td>\n",
       "      <td>1</td>\n",
       "      <td>0</td>\n",
       "      <td>0</td>\n",
       "      <td>0</td>\n",
       "      <td>0</td>\n",
       "      <td>0</td>\n",
       "      <td>2200</td>\n",
       "      <td>0.481481</td>\n",
       "      <td>0</td>\n",
       "      <td>0.312321</td>\n",
       "      <td>116</td>\n",
       "      <td>1.0</td>\n",
       "      <td>10</td>\n",
       "      <td>0</td>\n",
       "    </tr>\n",
       "    <tr>\n",
       "      <th>4</th>\n",
       "      <td>0</td>\n",
       "      <td>0</td>\n",
       "      <td>0</td>\n",
       "      <td>0</td>\n",
       "      <td>0</td>\n",
       "      <td>1</td>\n",
       "      <td>0</td>\n",
       "      <td>0</td>\n",
       "      <td>2000</td>\n",
       "      <td>0.481481</td>\n",
       "      <td>0</td>\n",
       "      <td>0.300860</td>\n",
       "      <td>244</td>\n",
       "      <td>1.0</td>\n",
       "      <td>19</td>\n",
       "      <td>0</td>\n",
       "    </tr>\n",
       "    <tr>\n",
       "      <th>...</th>\n",
       "      <td>...</td>\n",
       "      <td>...</td>\n",
       "      <td>...</td>\n",
       "      <td>...</td>\n",
       "      <td>...</td>\n",
       "      <td>...</td>\n",
       "      <td>...</td>\n",
       "      <td>...</td>\n",
       "      <td>...</td>\n",
       "      <td>...</td>\n",
       "      <td>...</td>\n",
       "      <td>...</td>\n",
       "      <td>...</td>\n",
       "      <td>...</td>\n",
       "      <td>...</td>\n",
       "      <td>...</td>\n",
       "    </tr>\n",
       "    <tr>\n",
       "      <th>218991</th>\n",
       "      <td>0</td>\n",
       "      <td>0</td>\n",
       "      <td>0</td>\n",
       "      <td>0</td>\n",
       "      <td>0</td>\n",
       "      <td>0</td>\n",
       "      <td>0</td>\n",
       "      <td>1</td>\n",
       "      <td>3999</td>\n",
       "      <td>0.518519</td>\n",
       "      <td>0</td>\n",
       "      <td>0.008596</td>\n",
       "      <td>63</td>\n",
       "      <td>1.0</td>\n",
       "      <td>20</td>\n",
       "      <td>0</td>\n",
       "    </tr>\n",
       "    <tr>\n",
       "      <th>218992</th>\n",
       "      <td>0</td>\n",
       "      <td>0</td>\n",
       "      <td>0</td>\n",
       "      <td>0</td>\n",
       "      <td>0</td>\n",
       "      <td>1</td>\n",
       "      <td>0</td>\n",
       "      <td>0</td>\n",
       "      <td>3200</td>\n",
       "      <td>0.481481</td>\n",
       "      <td>0</td>\n",
       "      <td>0.644699</td>\n",
       "      <td>228</td>\n",
       "      <td>1.0</td>\n",
       "      <td>37</td>\n",
       "      <td>1</td>\n",
       "    </tr>\n",
       "    <tr>\n",
       "      <th>218993</th>\n",
       "      <td>0</td>\n",
       "      <td>0</td>\n",
       "      <td>1</td>\n",
       "      <td>0</td>\n",
       "      <td>0</td>\n",
       "      <td>0</td>\n",
       "      <td>0</td>\n",
       "      <td>0</td>\n",
       "      <td>1199</td>\n",
       "      <td>0.333333</td>\n",
       "      <td>1</td>\n",
       "      <td>0.289398</td>\n",
       "      <td>117</td>\n",
       "      <td>1.0</td>\n",
       "      <td>38</td>\n",
       "      <td>0</td>\n",
       "    </tr>\n",
       "    <tr>\n",
       "      <th>218994</th>\n",
       "      <td>1</td>\n",
       "      <td>0</td>\n",
       "      <td>0</td>\n",
       "      <td>0</td>\n",
       "      <td>0</td>\n",
       "      <td>0</td>\n",
       "      <td>0</td>\n",
       "      <td>0</td>\n",
       "      <td>9200</td>\n",
       "      <td>0.185185</td>\n",
       "      <td>0</td>\n",
       "      <td>0.292264</td>\n",
       "      <td>55</td>\n",
       "      <td>1.0</td>\n",
       "      <td>20</td>\n",
       "      <td>0</td>\n",
       "    </tr>\n",
       "    <tr>\n",
       "      <th>218995</th>\n",
       "      <td>0</td>\n",
       "      <td>0</td>\n",
       "      <td>0</td>\n",
       "      <td>0</td>\n",
       "      <td>0</td>\n",
       "      <td>1</td>\n",
       "      <td>0</td>\n",
       "      <td>0</td>\n",
       "      <td>28990</td>\n",
       "      <td>0.814815</td>\n",
       "      <td>0</td>\n",
       "      <td>0.916905</td>\n",
       "      <td>116</td>\n",
       "      <td>1.0</td>\n",
       "      <td>20</td>\n",
       "      <td>0</td>\n",
       "    </tr>\n",
       "  </tbody>\n",
       "</table>\n",
       "<p>218996 rows × 16 columns</p>\n",
       "</div>"
      ],
      "text/plain": [
       "        автобус  другое  кабриолет  кроссовеер  купе  лимузин  мини  хэтчбэк  \\\n",
       "0             0       0          0           0     0        0     1        0   \n",
       "1             0       0          0           0     0        0     1        0   \n",
       "2             0       0          0           0     0        1     0        0   \n",
       "3             0       0          1           0     0        0     0        0   \n",
       "4             0       0          0           0     0        1     0        0   \n",
       "...         ...     ...        ...         ...   ...      ...   ...      ...   \n",
       "218991        0       0          0           0     0        0     0        1   \n",
       "218992        0       0          0           0     0        1     0        0   \n",
       "218993        0       0          1           0     0        0     0        0   \n",
       "218994        1       0          0           0     0        0     0        0   \n",
       "218995        0       0          0           0     0        1     0        0   \n",
       "\n",
       "         цена  зарегистрирована трансмиссия  мощность модель  пробег бренд  \\\n",
       "0        1500          0.370370           0  0.214900    166     1.0    20   \n",
       "1        3600          0.629630           0  0.197708      4     1.0     6   \n",
       "2         650          0.148148           0  0.292264     63     1.0    20   \n",
       "3        2200          0.481481           0  0.312321    116     1.0    10   \n",
       "4        2000          0.481481           0  0.300860    244     1.0    19   \n",
       "...       ...               ...         ...       ...    ...     ...   ...   \n",
       "218991   3999          0.518519           0  0.008596     63     1.0    20   \n",
       "218992   3200          0.481481           0  0.644699    228     1.0    37   \n",
       "218993   1199          0.333333           1  0.289398    117     1.0    38   \n",
       "218994   9200          0.185185           0  0.292264     55     1.0    20   \n",
       "218995  28990          0.814815           0  0.916905    116     1.0    20   \n",
       "\n",
       "       битая  \n",
       "0          0  \n",
       "1          0  \n",
       "2          1  \n",
       "3          0  \n",
       "4          0  \n",
       "...      ...  \n",
       "218991     0  \n",
       "218992     1  \n",
       "218993     0  \n",
       "218994     0  \n",
       "218995     0  \n",
       "\n",
       "[218996 rows x 16 columns]"
      ]
     },
     "execution_count": 25,
     "metadata": {},
     "output_type": "execute_result"
    }
   ],
   "source": [
    "car_df['пробег'] = scaled_feat\n",
    "car_df"
   ]
  },
  {
   "cell_type": "markdown",
   "id": "e3fa9dd4",
   "metadata": {},
   "source": [
    "## Оцениваем корреляцию количественных признаков"
   ]
  },
  {
   "cell_type": "code",
   "execution_count": 26,
   "id": "c7239482",
   "metadata": {},
   "outputs": [
    {
     "data": {
      "image/png": "[encoded data removed]",
      "text/plain": [
       "<Figure size 800x800 with 2 Axes>"
      ]
     },
     "metadata": {
      "needs_background": "light"
     },
     "output_type": "display_data"
    }
   ],
   "source": [
    "plt.figure(figsize=(10,10), dpi= 80)\n",
    "sns.heatmap(car_df.corr(), xticklabels=car_df.corr().columns, yticklabels=car_df.corr().columns, cmap='magma', center=0, annot=True)\n",
    "\n",
    "\n",
    "plt.title('Correlation map', fontsize=22)\n",
    "plt.xticks(fontsize=12)\n",
    "plt.yticks(fontsize=12)\n",
    "plt.show()"
   ]
  },
  {
   "cell_type": "markdown",
   "id": "9a3e756c",
   "metadata": {},
   "source": [
    "## Делим выборку на обучающую и тестовую"
   ]
  },
  {
   "cell_type": "code",
   "execution_count": 27,
   "id": "e89266dd",
   "metadata": {},
   "outputs": [],
   "source": [
    "x, y = car_df.drop(['цена'], axis=1), car_df['цена']\n",
    "x_train, x_test, y_train, y_test = train_test_split(x, y, test_size = 0.3)"
   ]
  },
  {
   "cell_type": "markdown",
   "id": "b8b389a0",
   "metadata": {},
   "source": [
    "## Обучаем модель"
   ]
  },
  {
   "cell_type": "markdown",
   "id": "8114a7f9",
   "metadata": {},
   "source": [
    "## Линейная регрессия без регуляризации"
   ]
  },
  {
   "cell_type": "code",
   "execution_count": 28,
   "id": "6cdcecc3",
   "metadata": {},
   "outputs": [],
   "source": [
    "LR = LinearRegression()\n",
    "LR.fit(x_train, y_train)\n",
    "predict_LR = LR.predict(x_test)\n",
    "\n",
    "person_PR, pvalue_pearson_PR = pearsonr(predict_LR, y_test)\n",
    "spermen_PR, pvalue_spermen_PR = spearmanr(predict_LR, y_test)"
   ]
  },
  {
   "cell_type": "code",
   "execution_count": 29,
   "id": "b40a58e9",
   "metadata": {},
   "outputs": [
    {
     "name": "stdout",
     "output_type": "stream",
     "text": [
      "Пирсон:  0.01338020612775808\n",
      "pvalue:  0.0006042977051341188\n",
      "Спирмен:  0.8238425975694339\n",
      "pvalue:  0.0\n"
     ]
    }
   ],
   "source": [
    "print('Пирсон: ', person_PR)\n",
    "print('pvalue: ', pvalue_pearson_PR)\n",
    "print('Спирмен: ', spermen_PR)\n",
    "print('pvalue: ', pvalue_spermen_PR)"
   ]
  },
  {
   "cell_type": "code",
   "execution_count": 30,
   "id": "51274c23",
   "metadata": {},
   "outputs": [
    {
     "name": "stdout",
     "output_type": "stream",
     "text": [
      "Cредняя абсолютная ошибка = 7254.04276\n"
     ]
    }
   ],
   "source": [
    "print('Cредняя абсолютная ошибка = %8.5f' %mean_absolute_error(predict_LR, y_test))"
   ]
  },
  {
   "cell_type": "markdown",
   "id": "f518e7b7",
   "metadata": {},
   "source": [
    "## Lasso регрессия"
   ]
  },
  {
   "cell_type": "code",
   "execution_count": 36,
   "id": "ed8ab503",
   "metadata": {},
   "outputs": [
    {
     "name": "stdout",
     "output_type": "stream",
     "text": [
      "1.0\n",
      "41\n"
     ]
    },
    {
     "name": "stderr",
     "output_type": "stream",
     "text": [
      "C:\\Users\\tealvl\\AppData\\Local\\Programs\\Python\\Python310\\lib\\site-packages\\sklearn\\linear_model\\_coordinate_descent.py:647: ConvergenceWarning: Objective did not converge. You might want to increase the number of iterations, check the scale of the features or consider increasing regularisation. Duality gap: 1.176e+15, tolerance: 1.046e+12\n",
      "  model = cd_fast.enet_coordinate_descent(\n"
     ]
    }
   ],
   "source": [
    "lasso_for_GS = Lasso()\n",
    "\n",
    "parameters = {\n",
    "      \"max_iter\":[x for x in range(1, 300, 10)],\n",
    "      \"alpha\":  np.linspace(0, 1, 20)[1:]}\n",
    "lasso_GS = GridSearchCV(lasso_for_GS, parameters,  n_jobs = -1)\n",
    "lasso_GS.fit(x_train, y_train)\n",
    "best_alpha = lasso_GS.best_estimator_.alpha\n",
    "\n",
    "print(lasso_GS.best_estimator_.alpha)\n",
    "print(lasso_GS.best_estimator_.max_iter)"
   ]
  },
  {
   "cell_type": "code",
   "execution_count": 37,
   "id": "1b61a844",
   "metadata": {},
   "outputs": [
    {
     "name": "stderr",
     "output_type": "stream",
     "text": [
      "C:\\Users\\tealvl\\AppData\\Local\\Programs\\Python\\Python310\\lib\\site-packages\\sklearn\\linear_model\\_coordinate_descent.py:647: ConvergenceWarning: Objective did not converge. You might want to increase the number of iterations, check the scale of the features or consider increasing regularisation. Duality gap: 1.176e+15, tolerance: 1.046e+12\n",
      "  model = cd_fast.enet_coordinate_descent(\n"
     ]
    }
   ],
   "source": [
    "lasso = Lasso(alpha=1, max_iter=41)\n",
    "lasso.fit(x_train, y_train)\n",
    "predict_lasso = lasso.predict(x_test)"
   ]
  },
  {
   "cell_type": "code",
   "execution_count": 38,
   "id": "ecdbef5f",
   "metadata": {},
   "outputs": [],
   "source": [
    "person_PR, pvalue_pearson_PR = pearsonr(predict_lasso, y_test)\n",
    "spermen_PR, pvalue_spermen_PR = spearmanr(predict_lasso, y_test)"
   ]
  },
  {
   "cell_type": "code",
   "execution_count": 39,
   "id": "5ca335e0",
   "metadata": {},
   "outputs": [
    {
     "name": "stdout",
     "output_type": "stream",
     "text": [
      "Пирсон:  0.013372870953811013\n",
      "pvalue:  0.0006084986277604046\n",
      "Спирмен:  0.8239336046553591\n",
      "pvalue:  0.0\n"
     ]
    }
   ],
   "source": [
    "print('Пирсон: ', person_PR)\n",
    "print('pvalue: ', pvalue_pearson_PR)\n",
    "print('Спирмен: ', spermen_PR)\n",
    "print('pvalue: ', pvalue_spermen_PR)"
   ]
  },
  {
   "cell_type": "code",
   "execution_count": 40,
   "id": "133b3cb5",
   "metadata": {},
   "outputs": [
    {
     "name": "stdout",
     "output_type": "stream",
     "text": [
      "Cредняя абсолютная ошибка = 7251.69517\n"
     ]
    }
   ],
   "source": [
    "print('Cредняя абсолютная ошибка = %8.5f' %mean_absolute_error(predict_lasso, y_test))"
   ]
  },
  {
   "cell_type": "code",
   "execution_count": 45,
   "id": "2e563214",
   "metadata": {},
   "outputs": [
    {
     "data": {
      "text/plain": [
       "[<matplotlib.lines.Line2D at 0x26a0baa9630>]"
      ]
     },
     "execution_count": 45,
     "metadata": {},
     "output_type": "execute_result"
    },
    {
     "data": {
      "image/png": "[encoded data removed]",
      "text/plain": [
       "<Figure size 432x288 with 1 Axes>"
      ]
     },
     "metadata": {
      "needs_background": "light"
     },
     "output_type": "display_data"
    }
   ],
   "source": [
    "plt.plot(predict_lasso, y_test.va)"
   ]
  },
  {
   "cell_type": "code",
   "execution_count": 47,
   "id": "75501974",
   "metadata": {},
   "outputs": [
    {
     "data": {
      "text/plain": [
       "39158      2180\n",
       "140116    14000\n",
       "179541    16990\n",
       "119275     2450\n",
       "50227      6300\n",
       "          ...  \n",
       "104852     8000\n",
       "142719     6900\n",
       "59189     17000\n",
       "24010      1150\n",
       "96680      2400\n",
       "Name: цена, Length: 65699, dtype: int64"
      ]
     },
     "execution_count": 47,
     "metadata": {},
     "output_type": "execute_result"
    }
   ],
   "source": [
    "y_test"
   ]
  },
  {
   "cell_type": "code",
   "execution_count": null,
   "id": "6a970aaf",
   "metadata": {},
   "outputs": [],
   "source": []
  }
 ],
 "metadata": {
  "kernelspec": {
   "display_name": "Python 3 (ipykernel)",
   "language": "python",
   "name": "python3"
  },
  "language_info": {
   "codemirror_mode": {
    "name": "ipython",
    "version": 3
   },
   "file_extension": ".py",
   "mimetype": "text/x-python",
   "name": "python",
   "nbconvert_exporter": "python",
   "pygments_lexer": "ipython3",
   "version": "3.10.4"
  }
 },
 "nbformat": 4,
 "nbformat_minor": 5
}
