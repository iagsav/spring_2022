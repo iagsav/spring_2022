{
 "cells": [
  {
   "cell_type": "markdown",
   "id": "5d31baee",
   "metadata": {},
   "source": [
    "Лабораторная работа № 4 – Регрессионный анализ данных\n",
    "Вариант 2\n",
    "Муминов А"
   ]
  },
  {
   "cell_type": "code",
   "execution_count": 2,
   "id": "747597cc",
   "metadata": {},
   "outputs": [],
   "source": [
    "import numpy as np\n",
    "import pandas as pd\n",
    "import sklearn as sk\n",
    "import seaborn as sns\n",
    "import matplotlib.pyplot as plt\n",
    "\n",
    "from sklearn import linear_model\n",
    "from sklearn.preprocessing import MinMaxScaler\n",
    "from sklearn.model_selection import GridSearchCV\n",
    "from sklearn.preprocessing import PolynomialFeatures\n",
    "from sklearn.model_selection import (cross_val_score, StratifiedKFold,\n",
    "                                     train_test_split)\n",
    "from sklearn.linear_model import LogisticRegression, LogisticRegressionCV\n",
    "from  sklearn import linear_model\n",
    "from sklearn.preprocessing import LabelEncoder\n",
    "\n",
    "from scipy.stats import pearsonr, spearmanr\n",
    "%matplotlib inline"
   ]
  },
  {
   "cell_type": "code",
   "execution_count": 3,
   "id": "51859d8c",
   "metadata": {},
   "outputs": [],
   "source": [
    "df = pd.read_csv(\"autos.csv\", encoding = 'latin1')\n"
   ]
  },
  {
   "cell_type": "code",
   "execution_count": 4,
   "id": "37444876",
   "metadata": {},
   "outputs": [
    {
     "data": {
      "text/html": [
       "<div>\n",
       "<style scoped>\n",
       "    .dataframe tbody tr th:only-of-type {\n",
       "        vertical-align: middle;\n",
       "    }\n",
       "\n",
       "    .dataframe tbody tr th {\n",
       "        vertical-align: top;\n",
       "    }\n",
       "\n",
       "    .dataframe thead th {\n",
       "        text-align: right;\n",
       "    }\n",
       "</style>\n",
       "<table border=\"1\" class=\"dataframe\">\n",
       "  <thead>\n",
       "    <tr style=\"text-align: right;\">\n",
       "      <th></th>\n",
       "      <th>dateCrawled</th>\n",
       "      <th>name</th>\n",
       "      <th>seller</th>\n",
       "      <th>offerType</th>\n",
       "      <th>price</th>\n",
       "      <th>abtest</th>\n",
       "      <th>vehicleType</th>\n",
       "      <th>yearOfRegistration</th>\n",
       "      <th>gearbox</th>\n",
       "      <th>powerPS</th>\n",
       "      <th>model</th>\n",
       "      <th>kilometer</th>\n",
       "      <th>monthOfRegistration</th>\n",
       "      <th>fuelType</th>\n",
       "      <th>brand</th>\n",
       "      <th>notRepairedDamage</th>\n",
       "      <th>dateCreated</th>\n",
       "      <th>nrOfPictures</th>\n",
       "      <th>postalCode</th>\n",
       "      <th>lastSeen</th>\n",
       "    </tr>\n",
       "  </thead>\n",
       "  <tbody>\n",
       "    <tr>\n",
       "      <th>0</th>\n",
       "      <td>2016-03-24 11:52:17</td>\n",
       "      <td>Golf_3_1.6</td>\n",
       "      <td>privat</td>\n",
       "      <td>Angebot</td>\n",
       "      <td>480</td>\n",
       "      <td>test</td>\n",
       "      <td>NaN</td>\n",
       "      <td>1993</td>\n",
       "      <td>manuell</td>\n",
       "      <td>0</td>\n",
       "      <td>golf</td>\n",
       "      <td>150000</td>\n",
       "      <td>0</td>\n",
       "      <td>benzin</td>\n",
       "      <td>volkswagen</td>\n",
       "      <td>NaN</td>\n",
       "      <td>2016-03-24 00:00:00</td>\n",
       "      <td>0</td>\n",
       "      <td>70435</td>\n",
       "      <td>2016-04-07 03:16:57</td>\n",
       "    </tr>\n",
       "    <tr>\n",
       "      <th>1</th>\n",
       "      <td>2016-03-24 10:58:45</td>\n",
       "      <td>A5_Sportback_2.7_Tdi</td>\n",
       "      <td>privat</td>\n",
       "      <td>Angebot</td>\n",
       "      <td>18300</td>\n",
       "      <td>test</td>\n",
       "      <td>coupe</td>\n",
       "      <td>2011</td>\n",
       "      <td>manuell</td>\n",
       "      <td>190</td>\n",
       "      <td>NaN</td>\n",
       "      <td>125000</td>\n",
       "      <td>5</td>\n",
       "      <td>diesel</td>\n",
       "      <td>audi</td>\n",
       "      <td>ja</td>\n",
       "      <td>2016-03-24 00:00:00</td>\n",
       "      <td>0</td>\n",
       "      <td>66954</td>\n",
       "      <td>2016-04-07 01:46:50</td>\n",
       "    </tr>\n",
       "    <tr>\n",
       "      <th>2</th>\n",
       "      <td>2016-03-14 12:52:21</td>\n",
       "      <td>Jeep_Grand_Cherokee_\"Overland\"</td>\n",
       "      <td>privat</td>\n",
       "      <td>Angebot</td>\n",
       "      <td>9800</td>\n",
       "      <td>test</td>\n",
       "      <td>suv</td>\n",
       "      <td>2004</td>\n",
       "      <td>automatik</td>\n",
       "      <td>163</td>\n",
       "      <td>grand</td>\n",
       "      <td>125000</td>\n",
       "      <td>8</td>\n",
       "      <td>diesel</td>\n",
       "      <td>jeep</td>\n",
       "      <td>NaN</td>\n",
       "      <td>2016-03-14 00:00:00</td>\n",
       "      <td>0</td>\n",
       "      <td>90480</td>\n",
       "      <td>2016-04-05 12:47:46</td>\n",
       "    </tr>\n",
       "    <tr>\n",
       "      <th>3</th>\n",
       "      <td>2016-03-17 16:54:04</td>\n",
       "      <td>GOLF_4_1_4__3TÜRER</td>\n",
       "      <td>privat</td>\n",
       "      <td>Angebot</td>\n",
       "      <td>1500</td>\n",
       "      <td>test</td>\n",
       "      <td>kleinwagen</td>\n",
       "      <td>2001</td>\n",
       "      <td>manuell</td>\n",
       "      <td>75</td>\n",
       "      <td>golf</td>\n",
       "      <td>150000</td>\n",
       "      <td>6</td>\n",
       "      <td>benzin</td>\n",
       "      <td>volkswagen</td>\n",
       "      <td>nein</td>\n",
       "      <td>2016-03-17 00:00:00</td>\n",
       "      <td>0</td>\n",
       "      <td>91074</td>\n",
       "      <td>2016-03-17 17:40:17</td>\n",
       "    </tr>\n",
       "    <tr>\n",
       "      <th>4</th>\n",
       "      <td>2016-03-31 17:25:20</td>\n",
       "      <td>Skoda_Fabia_1.4_TDI_PD_Classic</td>\n",
       "      <td>privat</td>\n",
       "      <td>Angebot</td>\n",
       "      <td>3600</td>\n",
       "      <td>test</td>\n",
       "      <td>kleinwagen</td>\n",
       "      <td>2008</td>\n",
       "      <td>manuell</td>\n",
       "      <td>69</td>\n",
       "      <td>fabia</td>\n",
       "      <td>90000</td>\n",
       "      <td>7</td>\n",
       "      <td>diesel</td>\n",
       "      <td>skoda</td>\n",
       "      <td>nein</td>\n",
       "      <td>2016-03-31 00:00:00</td>\n",
       "      <td>0</td>\n",
       "      <td>60437</td>\n",
       "      <td>2016-04-06 10:17:21</td>\n",
       "    </tr>\n",
       "  </tbody>\n",
       "</table>\n",
       "</div>"
      ],
      "text/plain": [
       "           dateCrawled                            name  seller offerType  \\\n",
       "0  2016-03-24 11:52:17                      Golf_3_1.6  privat   Angebot   \n",
       "1  2016-03-24 10:58:45            A5_Sportback_2.7_Tdi  privat   Angebot   \n",
       "2  2016-03-14 12:52:21  Jeep_Grand_Cherokee_\"Overland\"  privat   Angebot   \n",
       "3  2016-03-17 16:54:04              GOLF_4_1_4__3TÜRER  privat   Angebot   \n",
       "4  2016-03-31 17:25:20  Skoda_Fabia_1.4_TDI_PD_Classic  privat   Angebot   \n",
       "\n",
       "   price abtest vehicleType  yearOfRegistration    gearbox  powerPS  model  \\\n",
       "0    480   test         NaN                1993    manuell        0   golf   \n",
       "1  18300   test       coupe                2011    manuell      190    NaN   \n",
       "2   9800   test         suv                2004  automatik      163  grand   \n",
       "3   1500   test  kleinwagen                2001    manuell       75   golf   \n",
       "4   3600   test  kleinwagen                2008    manuell       69  fabia   \n",
       "\n",
       "   kilometer  monthOfRegistration fuelType       brand notRepairedDamage  \\\n",
       "0     150000                    0   benzin  volkswagen               NaN   \n",
       "1     125000                    5   diesel        audi                ja   \n",
       "2     125000                    8   diesel        jeep               NaN   \n",
       "3     150000                    6   benzin  volkswagen              nein   \n",
       "4      90000                    7   diesel       skoda              nein   \n",
       "\n",
       "           dateCreated  nrOfPictures  postalCode             lastSeen  \n",
       "0  2016-03-24 00:00:00             0       70435  2016-04-07 03:16:57  \n",
       "1  2016-03-24 00:00:00             0       66954  2016-04-07 01:46:50  \n",
       "2  2016-03-14 00:00:00             0       90480  2016-04-05 12:47:46  \n",
       "3  2016-03-17 00:00:00             0       91074  2016-03-17 17:40:17  \n",
       "4  2016-03-31 00:00:00             0       60437  2016-04-06 10:17:21  "
      ]
     },
     "execution_count": 4,
     "metadata": {},
     "output_type": "execute_result"
    }
   ],
   "source": [
    "df.head()"
   ]
  },
  {
   "cell_type": "markdown",
   "id": "ca620a4f",
   "metadata": {},
   "source": [
    "1. Изучить набор данных. Создать описание набора данных на русском языке. Описать признаки, используемые в наборе данных"
   ]
  },
  {
   "cell_type": "raw",
   "id": "bbd9fb08",
   "metadata": {},
   "source": [
    "dateCrawled: дата создания объявления.\n",
    "name: Название автомобиля.\n",
    "seller: Тип продавца: либо частный продавец, либо дилер.\n",
    "offerType: Тип предложения.\n",
    "price: Цена продажи автомобиля по объявлению.\n",
    "abtest: Тест пройден.\n",
    "vehicleType: Тип транспортного средства.\n",
    "yearOfRegistration: Год, когда автомобиль был впервые зарегистрирован.\n",
    "powerPS: Мощность автомобиля в PS.\n",
    "model: Модель автомобиля.\n",
    "kilometer: расстояние, пройденное автомобилем в километрах.\n",
    "monthOfRegistration: Месяц, когда автомобиль был впервые зарегистрирован.\n",
    "fuelType: тип топлива, который требуется автомобилю.\n",
    "brand: Марка автомобиля.\n",
    "notRepairedDamage: индикатор того, поврежден автомобиль или нет.\n",
    "dateCreated: дата создания объявления.\n",
    "nrOfPictures: Количество картинок в объявлении.\n",
    "postalCode: почтовый индекс, по которому находится автомобиль.\n",
    "lastSeenOnline: дата последнего просмотра объявления."
   ]
  },
  {
   "cell_type": "markdown",
   "id": "3d95722b",
   "metadata": {},
   "source": [
    "2. Удалите дубликаты строк в наборе данных; приведите размер набора данных до и после данной операции;"
   ]
  },
  {
   "cell_type": "code",
   "execution_count": 5,
   "id": "ea9181cc",
   "metadata": {},
   "outputs": [
    {
     "data": {
      "text/plain": [
       "(371528, 20)"
      ]
     },
     "execution_count": 5,
     "metadata": {},
     "output_type": "execute_result"
    }
   ],
   "source": [
    "df.shape"
   ]
  },
  {
   "cell_type": "code",
   "execution_count": 6,
   "id": "bea91fa1",
   "metadata": {},
   "outputs": [
    {
     "name": "stdout",
     "output_type": "stream",
     "text": [
      "(371524, 20)\n"
     ]
    }
   ],
   "source": [
    "df.drop_duplicates(keep = \"first\", inplace = True)\n",
    "df.dropna\n",
    "print(df.shape)"
   ]
  },
  {
   "cell_type": "markdown",
   "id": "5a45fa63",
   "metadata": {},
   "source": [
    "3. Выполните масштабирование количественных признаков; Постройте диаграммы BoxPlot для признаков до и после масштабирования. Выберите способ масштабирования (например, нормализацию или стандартизацию)"
   ]
  },
  {
   "cell_type": "code",
   "execution_count": 7,
   "id": "4ddd4bfc",
   "metadata": {},
   "outputs": [
    {
     "name": "stdout",
     "output_type": "stream",
     "text": [
      "Numerical: ['price', 'yearOfRegistration', 'powerPS', 'kilometer', 'monthOfRegistration', 'nrOfPictures', 'postalCode']\n"
     ]
    }
   ],
   "source": [
    "\n",
    "numerical_columns = [i for i in df.columns if df[i].dtype.name != 'object']\n",
    "\n",
    "print(f\"Numerical: {numerical_columns}\")"
   ]
  },
  {
   "cell_type": "code",
   "execution_count": 8,
   "id": "059e12ee",
   "metadata": {},
   "outputs": [
    {
     "data": {
      "image/png": "[encoded data removed]",
      "text/plain": [
       "<Figure size 1080x504 with 1 Axes>"
      ]
     },
     "metadata": {
      "needs_background": "light"
     },
     "output_type": "display_data"
    }
   ],
   "source": [
    "plt.figure(figsize=(15,7))\n",
    "sns.boxplot(data=df[numerical_columns], orient = 'h')\n",
    "plt.show()"
   ]
  },
  {
   "cell_type": "code",
   "execution_count": 9,
   "id": "69b18c35",
   "metadata": {},
   "outputs": [],
   "source": [
    "scaler = MinMaxScaler()\n",
    "# Нормализируем\n",
    "df[numerical_columns] = scaler.fit_transform(df[numerical_columns])"
   ]
  },
  {
   "cell_type": "code",
   "execution_count": 10,
   "id": "f94546b6",
   "metadata": {},
   "outputs": [
    {
     "data": {
      "image/png": "[encoded data removed]",
      "text/plain": [
       "<Figure size 1080x504 with 1 Axes>"
      ]
     },
     "metadata": {
      "needs_background": "light"
     },
     "output_type": "display_data"
    }
   ],
   "source": [
    "plt.figure(figsize=(15,7))\n",
    "sns.boxplot(data=df[numerical_columns], orient = 'h')\n",
    "plt.show()"
   ]
  },
  {
   "cell_type": "markdown",
   "id": "ba9f50aa",
   "metadata": {},
   "source": [
    "4. Выполните замену категориальных признаков"
   ]
  },
  {
   "cell_type": "code",
   "execution_count": 11,
   "id": "2885272d",
   "metadata": {},
   "outputs": [
    {
     "name": "stdout",
     "output_type": "stream",
     "text": [
      "Categorical: ['dateCrawled', 'name', 'seller', 'offerType', 'abtest', 'vehicleType', 'gearbox', 'model', 'fuelType', 'brand', 'notRepairedDamage', 'dateCreated', 'lastSeen']\n"
     ]
    }
   ],
   "source": [
    "categorial_columns = [i for i in df.columns if df[i].dtype.name == 'object']\n",
    "print(\"Categorical: \" + str(categorial_columns))\n"
   ]
  },
  {
   "cell_type": "code",
   "execution_count": 12,
   "id": "e36c7e54",
   "metadata": {},
   "outputs": [
    {
     "data": {
      "text/html": [
       "<div>\n",
       "<style scoped>\n",
       "    .dataframe tbody tr th:only-of-type {\n",
       "        vertical-align: middle;\n",
       "    }\n",
       "\n",
       "    .dataframe tbody tr th {\n",
       "        vertical-align: top;\n",
       "    }\n",
       "\n",
       "    .dataframe thead th {\n",
       "        text-align: right;\n",
       "    }\n",
       "</style>\n",
       "<table border=\"1\" class=\"dataframe\">\n",
       "  <thead>\n",
       "    <tr style=\"text-align: right;\">\n",
       "      <th></th>\n",
       "      <th>dateCrawled</th>\n",
       "      <th>name</th>\n",
       "      <th>seller</th>\n",
       "      <th>offerType</th>\n",
       "      <th>price</th>\n",
       "      <th>abtest</th>\n",
       "      <th>vehicleType</th>\n",
       "      <th>yearOfRegistration</th>\n",
       "      <th>gearbox</th>\n",
       "      <th>powerPS</th>\n",
       "      <th>model</th>\n",
       "      <th>kilometer</th>\n",
       "      <th>monthOfRegistration</th>\n",
       "      <th>fuelType</th>\n",
       "      <th>brand</th>\n",
       "      <th>notRepairedDamage</th>\n",
       "      <th>dateCreated</th>\n",
       "      <th>nrOfPictures</th>\n",
       "      <th>postalCode</th>\n",
       "      <th>lastSeen</th>\n",
       "    </tr>\n",
       "  </thead>\n",
       "  <tbody>\n",
       "    <tr>\n",
       "      <th>0</th>\n",
       "      <td>164563</td>\n",
       "      <td>79207</td>\n",
       "      <td>1</td>\n",
       "      <td>0</td>\n",
       "      <td>2.235174e-07</td>\n",
       "      <td>1</td>\n",
       "      <td>8</td>\n",
       "      <td>0.110346</td>\n",
       "      <td>1</td>\n",
       "      <td>0.00000</td>\n",
       "      <td>118</td>\n",
       "      <td>1.000000</td>\n",
       "      <td>0.000000</td>\n",
       "      <td>1</td>\n",
       "      <td>38</td>\n",
       "      <td>2</td>\n",
       "      <td>99</td>\n",
       "      <td>0.0</td>\n",
       "      <td>0.701176</td>\n",
       "      <td>178839</td>\n",
       "    </tr>\n",
       "    <tr>\n",
       "      <th>1</th>\n",
       "      <td>164294</td>\n",
       "      <td>4112</td>\n",
       "      <td>1</td>\n",
       "      <td>0</td>\n",
       "      <td>8.521602e-06</td>\n",
       "      <td>1</td>\n",
       "      <td>3</td>\n",
       "      <td>0.112346</td>\n",
       "      <td>1</td>\n",
       "      <td>0.00950</td>\n",
       "      <td>251</td>\n",
       "      <td>0.827586</td>\n",
       "      <td>0.416667</td>\n",
       "      <td>3</td>\n",
       "      <td>1</td>\n",
       "      <td>0</td>\n",
       "      <td>99</td>\n",
       "      <td>0.0</td>\n",
       "      <td>0.665989</td>\n",
       "      <td>178355</td>\n",
       "    </tr>\n",
       "    <tr>\n",
       "      <th>2</th>\n",
       "      <td>76564</td>\n",
       "      <td>90564</td>\n",
       "      <td>1</td>\n",
       "      <td>0</td>\n",
       "      <td>4.563481e-06</td>\n",
       "      <td>1</td>\n",
       "      <td>7</td>\n",
       "      <td>0.111568</td>\n",
       "      <td>0</td>\n",
       "      <td>0.00815</td>\n",
       "      <td>119</td>\n",
       "      <td>0.827586</td>\n",
       "      <td>0.666667</td>\n",
       "      <td>3</td>\n",
       "      <td>14</td>\n",
       "      <td>2</td>\n",
       "      <td>89</td>\n",
       "      <td>0.0</td>\n",
       "      <td>0.903792</td>\n",
       "      <td>162956</td>\n",
       "    </tr>\n",
       "    <tr>\n",
       "      <th>3</th>\n",
       "      <td>106204</td>\n",
       "      <td>76592</td>\n",
       "      <td>1</td>\n",
       "      <td>0</td>\n",
       "      <td>6.984919e-07</td>\n",
       "      <td>1</td>\n",
       "      <td>4</td>\n",
       "      <td>0.111235</td>\n",
       "      <td>1</td>\n",
       "      <td>0.00375</td>\n",
       "      <td>118</td>\n",
       "      <td>1.000000</td>\n",
       "      <td>0.500000</td>\n",
       "      <td>1</td>\n",
       "      <td>38</td>\n",
       "      <td>1</td>\n",
       "      <td>92</td>\n",
       "      <td>0.0</td>\n",
       "      <td>0.909796</td>\n",
       "      <td>45272</td>\n",
       "    </tr>\n",
       "    <tr>\n",
       "      <th>4</th>\n",
       "      <td>231164</td>\n",
       "      <td>170493</td>\n",
       "      <td>1</td>\n",
       "      <td>0</td>\n",
       "      <td>1.676381e-06</td>\n",
       "      <td>1</td>\n",
       "      <td>4</td>\n",
       "      <td>0.112012</td>\n",
       "      <td>1</td>\n",
       "      <td>0.00345</td>\n",
       "      <td>103</td>\n",
       "      <td>0.586207</td>\n",
       "      <td>0.583333</td>\n",
       "      <td>3</td>\n",
       "      <td>31</td>\n",
       "      <td>1</td>\n",
       "      <td>106</td>\n",
       "      <td>0.0</td>\n",
       "      <td>0.600115</td>\n",
       "      <td>171913</td>\n",
       "    </tr>\n",
       "    <tr>\n",
       "      <th>...</th>\n",
       "      <td>...</td>\n",
       "      <td>...</td>\n",
       "      <td>...</td>\n",
       "      <td>...</td>\n",
       "      <td>...</td>\n",
       "      <td>...</td>\n",
       "      <td>...</td>\n",
       "      <td>...</td>\n",
       "      <td>...</td>\n",
       "      <td>...</td>\n",
       "      <td>...</td>\n",
       "      <td>...</td>\n",
       "      <td>...</td>\n",
       "      <td>...</td>\n",
       "      <td>...</td>\n",
       "      <td>...</td>\n",
       "      <td>...</td>\n",
       "      <td>...</td>\n",
       "      <td>...</td>\n",
       "      <td>...</td>\n",
       "    </tr>\n",
       "    <tr>\n",
       "      <th>371523</th>\n",
       "      <td>79620</td>\n",
       "      <td>177981</td>\n",
       "      <td>1</td>\n",
       "      <td>0</td>\n",
       "      <td>1.024455e-06</td>\n",
       "      <td>1</td>\n",
       "      <td>8</td>\n",
       "      <td>0.111679</td>\n",
       "      <td>2</td>\n",
       "      <td>0.00000</td>\n",
       "      <td>251</td>\n",
       "      <td>0.103448</td>\n",
       "      <td>0.083333</td>\n",
       "      <td>7</td>\n",
       "      <td>33</td>\n",
       "      <td>2</td>\n",
       "      <td>89</td>\n",
       "      <td>0.0</td>\n",
       "      <td>0.389251</td>\n",
       "      <td>168588</td>\n",
       "    </tr>\n",
       "    <tr>\n",
       "      <th>371524</th>\n",
       "      <td>5117</td>\n",
       "      <td>175587</td>\n",
       "      <td>1</td>\n",
       "      <td>0</td>\n",
       "      <td>5.583279e-07</td>\n",
       "      <td>1</td>\n",
       "      <td>2</td>\n",
       "      <td>0.111123</td>\n",
       "      <td>0</td>\n",
       "      <td>0.00505</td>\n",
       "      <td>108</td>\n",
       "      <td>0.827586</td>\n",
       "      <td>0.250000</td>\n",
       "      <td>1</td>\n",
       "      <td>32</td>\n",
       "      <td>1</td>\n",
       "      <td>80</td>\n",
       "      <td>0.0</td>\n",
       "      <td>0.253389</td>\n",
       "      <td>16325</td>\n",
       "    </tr>\n",
       "    <tr>\n",
       "      <th>371525</th>\n",
       "      <td>121891</td>\n",
       "      <td>214317</td>\n",
       "      <td>1</td>\n",
       "      <td>0</td>\n",
       "      <td>4.284084e-06</td>\n",
       "      <td>1</td>\n",
       "      <td>1</td>\n",
       "      <td>0.110679</td>\n",
       "      <td>1</td>\n",
       "      <td>0.00510</td>\n",
       "      <td>225</td>\n",
       "      <td>1.000000</td>\n",
       "      <td>0.250000</td>\n",
       "      <td>3</td>\n",
       "      <td>38</td>\n",
       "      <td>1</td>\n",
       "      <td>94</td>\n",
       "      <td>0.0</td>\n",
       "      <td>0.873053</td>\n",
       "      <td>180083</td>\n",
       "    </tr>\n",
       "    <tr>\n",
       "      <th>371526</th>\n",
       "      <td>131927</td>\n",
       "      <td>191702</td>\n",
       "      <td>1</td>\n",
       "      <td>0</td>\n",
       "      <td>1.583248e-06</td>\n",
       "      <td>1</td>\n",
       "      <td>5</td>\n",
       "      <td>0.111346</td>\n",
       "      <td>1</td>\n",
       "      <td>0.00500</td>\n",
       "      <td>118</td>\n",
       "      <td>1.000000</td>\n",
       "      <td>0.500000</td>\n",
       "      <td>3</td>\n",
       "      <td>38</td>\n",
       "      <td>2</td>\n",
       "      <td>95</td>\n",
       "      <td>0.0</td>\n",
       "      <td>0.401259</td>\n",
       "      <td>82280</td>\n",
       "    </tr>\n",
       "    <tr>\n",
       "      <th>371527</th>\n",
       "      <td>18553</td>\n",
       "      <td>39526</td>\n",
       "      <td>1</td>\n",
       "      <td>0</td>\n",
       "      <td>1.349952e-05</td>\n",
       "      <td>0</td>\n",
       "      <td>6</td>\n",
       "      <td>0.112568</td>\n",
       "      <td>1</td>\n",
       "      <td>0.01600</td>\n",
       "      <td>148</td>\n",
       "      <td>0.310345</td>\n",
       "      <td>0.666667</td>\n",
       "      <td>1</td>\n",
       "      <td>2</td>\n",
       "      <td>1</td>\n",
       "      <td>82</td>\n",
       "      <td>0.0</td>\n",
       "      <td>0.730398</td>\n",
       "      <td>68092</td>\n",
       "    </tr>\n",
       "  </tbody>\n",
       "</table>\n",
       "<p>371524 rows × 20 columns</p>\n",
       "</div>"
      ],
      "text/plain": [
       "        dateCrawled    name  seller  offerType         price  abtest  \\\n",
       "0            164563   79207       1          0  2.235174e-07       1   \n",
       "1            164294    4112       1          0  8.521602e-06       1   \n",
       "2             76564   90564       1          0  4.563481e-06       1   \n",
       "3            106204   76592       1          0  6.984919e-07       1   \n",
       "4            231164  170493       1          0  1.676381e-06       1   \n",
       "...             ...     ...     ...        ...           ...     ...   \n",
       "371523        79620  177981       1          0  1.024455e-06       1   \n",
       "371524         5117  175587       1          0  5.583279e-07       1   \n",
       "371525       121891  214317       1          0  4.284084e-06       1   \n",
       "371526       131927  191702       1          0  1.583248e-06       1   \n",
       "371527        18553   39526       1          0  1.349952e-05       0   \n",
       "\n",
       "        vehicleType  yearOfRegistration  gearbox  powerPS  model  kilometer  \\\n",
       "0                 8            0.110346        1  0.00000    118   1.000000   \n",
       "1                 3            0.112346        1  0.00950    251   0.827586   \n",
       "2                 7            0.111568        0  0.00815    119   0.827586   \n",
       "3                 4            0.111235        1  0.00375    118   1.000000   \n",
       "4                 4            0.112012        1  0.00345    103   0.586207   \n",
       "...             ...                 ...      ...      ...    ...        ...   \n",
       "371523            8            0.111679        2  0.00000    251   0.103448   \n",
       "371524            2            0.111123        0  0.00505    108   0.827586   \n",
       "371525            1            0.110679        1  0.00510    225   1.000000   \n",
       "371526            5            0.111346        1  0.00500    118   1.000000   \n",
       "371527            6            0.112568        1  0.01600    148   0.310345   \n",
       "\n",
       "        monthOfRegistration  fuelType  brand  notRepairedDamage  dateCreated  \\\n",
       "0                  0.000000         1     38                  2           99   \n",
       "1                  0.416667         3      1                  0           99   \n",
       "2                  0.666667         3     14                  2           89   \n",
       "3                  0.500000         1     38                  1           92   \n",
       "4                  0.583333         3     31                  1          106   \n",
       "...                     ...       ...    ...                ...          ...   \n",
       "371523             0.083333         7     33                  2           89   \n",
       "371524             0.250000         1     32                  1           80   \n",
       "371525             0.250000         3     38                  1           94   \n",
       "371526             0.500000         3     38                  2           95   \n",
       "371527             0.666667         1      2                  1           82   \n",
       "\n",
       "        nrOfPictures  postalCode  lastSeen  \n",
       "0                0.0    0.701176    178839  \n",
       "1                0.0    0.665989    178355  \n",
       "2                0.0    0.903792    162956  \n",
       "3                0.0    0.909796     45272  \n",
       "4                0.0    0.600115    171913  \n",
       "...              ...         ...       ...  \n",
       "371523           0.0    0.389251    168588  \n",
       "371524           0.0    0.253389     16325  \n",
       "371525           0.0    0.873053    180083  \n",
       "371526           0.0    0.401259     82280  \n",
       "371527           0.0    0.730398     68092  \n",
       "\n",
       "[371524 rows x 20 columns]"
      ]
     },
     "execution_count": 12,
     "metadata": {},
     "output_type": "execute_result"
    }
   ],
   "source": [
    "encoder = LabelEncoder()\n",
    "for i in categorial_columns:\n",
    "    df[i] = encoder.fit_transform(df[i])\n",
    "df"
   ]
  },
  {
   "cell_type": "markdown",
   "id": "13720f2c",
   "metadata": {},
   "source": [
    "5.Оцените корреляцию между признаков и удалите те признаки, которые коррелируют с наибольшим числом других"
   ]
  },
  {
   "cell_type": "code",
   "execution_count": 13,
   "id": "b8387864",
   "metadata": {},
   "outputs": [
    {
     "data": {
      "image/png": "[encoded data removed]",
      "text/plain": [
       "<Figure size 432x288 with 2 Axes>"
      ]
     },
     "metadata": {
      "needs_background": "light"
     },
     "output_type": "display_data"
    }
   ],
   "source": [
    "corr_matrix = df.corr()\n",
    "sns.heatmap(corr_matrix);\n"
   ]
  },
  {
   "cell_type": "code",
   "execution_count": 14,
   "id": "8ff7feec",
   "metadata": {},
   "outputs": [
    {
     "data": {
      "text/plain": [
       "<AxesSubplot:>"
      ]
     },
     "execution_count": 14,
     "metadata": {},
     "output_type": "execute_result"
    },
    {
     "data": {
      "image/png": "[encoded data removed]",
      "text/plain": [
       "<Figure size 432x288 with 2 Axes>"
      ]
     },
     "metadata": {
      "needs_background": "light"
     },
     "output_type": "display_data"
    }
   ],
   "source": [
    "corr_matrix = df.drop(['nrOfPictures'], axis=1).corr()\n",
    "sns.heatmap(corr_matrix)"
   ]
  },
  {
   "cell_type": "markdown",
   "id": "cadc834e",
   "metadata": {},
   "source": [
    "6. Заполните пропущенные значения в данных;"
   ]
  },
  {
   "cell_type": "code",
   "execution_count": 15,
   "id": "1a35fe71",
   "metadata": {},
   "outputs": [
    {
     "name": "stdout",
     "output_type": "stream",
     "text": [
      "dateCrawled            0\n",
      "name                   0\n",
      "seller                 0\n",
      "offerType              0\n",
      "price                  0\n",
      "abtest                 0\n",
      "vehicleType            0\n",
      "yearOfRegistration     0\n",
      "gearbox                0\n",
      "powerPS                0\n",
      "model                  0\n",
      "kilometer              0\n",
      "monthOfRegistration    0\n",
      "fuelType               0\n",
      "brand                  0\n",
      "notRepairedDamage      0\n",
      "dateCreated            0\n",
      "nrOfPictures           0\n",
      "postalCode             0\n",
      "lastSeen               0\n",
      "dtype: int64\n"
     ]
    }
   ],
   "source": [
    "check = df.isnull().sum()\n",
    "print(check)"
   ]
  },
  {
   "cell_type": "code",
   "execution_count": 16,
   "id": "b432be01",
   "metadata": {},
   "outputs": [
    {
     "data": {
      "text/plain": [
       "0"
      ]
     },
     "execution_count": 16,
     "metadata": {},
     "output_type": "execute_result"
    }
   ],
   "source": [
    "check.sum()"
   ]
  },
  {
   "cell_type": "markdown",
   "id": "5db795d2",
   "metadata": {},
   "source": [
    "7. Решите поставленную задачу регрессии в соответствии с заданием. При подборе параметров метода принятия решения (метода регрессии) используйте перекрёстную проверку (изучите возможные для изменения параметры метода регрессии). Вычислите точность решения задачи, вычислив разницу между реальным значением и предсказанным. Вычислите коэффициент корреляции (Пирсона, Спирмена) между реальным значением и предсказанным с учётом p-value."
   ]
  },
  {
   "cell_type": "code",
   "execution_count": 17,
   "id": "21500c1d",
   "metadata": {},
   "outputs": [
    {
     "name": "stdout",
     "output_type": "stream",
     "text": [
      "30782    -2.427744e-06\n",
      "148236    6.088081e-06\n",
      "43751     2.130194e-06\n",
      "202566    2.726293e-06\n",
      "300629    1.052243e-06\n",
      "              ...     \n",
      "20863    -4.082451e-06\n",
      "344630    5.996072e-06\n",
      "328151    1.063804e-06\n",
      "323053    6.223633e-06\n",
      "150696   -6.762861e-07\n",
      "Name: price, Length: 74305, dtype: float64\n"
     ]
    }
   ],
   "source": [
    "# Линейная регрессия - без регуляризаторов\n",
    "X, y = df.drop(['price'], axis=1), df['price']\n",
    "# Разделяем данные на тренировочную и тестовую выборки\n",
    "X_train, X_test, y_train, y_test = train_test_split(X, y, test_size=0.2)\n",
    "reg = linear_model.LinearRegression()\n",
    "# Выполняем обучение модели\n",
    "reg.fit(X_train,y_train)\n",
    "pred_reg = reg.predict(X_test)\n",
    "# Выводим разницу между реальным значением и предсказанным\n",
    "print(pred_reg - y_test)"
   ]
  },
  {
   "cell_type": "code",
   "execution_count": 18,
   "id": "ba3bd35f",
   "metadata": {},
   "outputs": [
    {
     "name": "stdout",
     "output_type": "stream",
     "text": [
      "Pearson correlation: -0.0030903449028611093 p_value: 0.3995734876928771\n",
      "Spearmen correlation: 0.18037865023233193 p_value: 0.0\n"
     ]
    }
   ],
   "source": [
    "# Коэфф-ты корреляции\n",
    "P, p_value_P = pearsonr(pred_reg, y_test)\n",
    "S, p_value_S = spearmanr(pred_reg, y_test)\n",
    "print(f\"Pearson correlation: {P} p_value: {p_value_P}\\nSpearmen correlation: {S} p_value: {p_value_S}\")"
   ]
  },
  {
   "cell_type": "code",
   "execution_count": 19,
   "id": "6ef790e3",
   "metadata": {},
   "outputs": [
    {
     "name": "stdout",
     "output_type": "stream",
     "text": [
      "best alpha: 0.95\n"
     ]
    }
   ],
   "source": [
    "# Линейная регрессия - RIDGE\n",
    "import warnings\n",
    "warnings.filterwarnings(\"ignore\")\n",
    "reg = linear_model.Ridge()\n",
    "params = {'alpha': np.arange(0, 1, 0.05)}\n",
    "reg_grid = GridSearchCV(reg, params)\n",
    "# Выполняем обучение модели\n",
    "reg_grid.fit(X_train, y_train)\n",
    "best_alpha = reg_grid.best_estimator_.alpha\n",
    "print('best alpha: ', end = '')\n",
    "print('%.2f' % best_alpha)"
   ]
  },
  {
   "cell_type": "code",
   "execution_count": 20,
   "id": "9f791937",
   "metadata": {},
   "outputs": [
    {
     "name": "stdout",
     "output_type": "stream",
     "text": [
      "30782    -2.424826e-06\n",
      "148236    6.080514e-06\n",
      "43751     2.129900e-06\n",
      "202566    2.723148e-06\n",
      "300629    1.059517e-06\n",
      "              ...     \n",
      "20863    -4.086978e-06\n",
      "344630    6.003480e-06\n",
      "328151    1.068019e-06\n",
      "323053    6.226421e-06\n",
      "150696   -6.799223e-07\n",
      "Name: price, Length: 74305, dtype: float64\n"
     ]
    }
   ],
   "source": [
    "reg = linear_model.Ridge(alpha=best_alpha)\n",
    "reg.fit(X_train,y_train)\n",
    "\n",
    "pred_reg = reg.predict(X_test)\n",
    "\n",
    "print(pred_reg - y_test)"
   ]
  },
  {
   "cell_type": "code",
   "execution_count": 21,
   "id": "b9788f7b",
   "metadata": {},
   "outputs": [
    {
     "name": "stdout",
     "output_type": "stream",
     "text": [
      "Pearson correlation: -0.0031746279477478127 p_value: 0.3868425118704825\n",
      "Spearmen correlation: 0.17976706883559634 p_value: 0.0\n"
     ]
    }
   ],
   "source": [
    "# Коэфф-ты корреляции\n",
    "P, p_value_P = pearsonr(pred_reg, y_test)\n",
    "S, p_value_S = spearmanr(pred_reg, y_test)\n",
    "print(f\"Pearson correlation: {P} p_value: {p_value_P}\\nSpearmen correlation: {S} p_value: {p_value_S}\")"
   ]
  },
  {
   "cell_type": "code",
   "execution_count": null,
   "id": "b354cb0e",
   "metadata": {},
   "outputs": [],
   "source": []
  },
  {
   "cell_type": "code",
   "execution_count": null,
   "id": "915f8327",
   "metadata": {},
   "outputs": [],
   "source": []
  },
  {
   "cell_type": "code",
   "execution_count": null,
   "id": "2a46c0b3",
   "metadata": {},
   "outputs": [],
   "source": []
  }
 ],
 "metadata": {
  "kernelspec": {
   "display_name": "Python 3 (ipykernel)",
   "language": "python",
   "name": "python3"
  },
  "language_info": {
   "codemirror_mode": {
    "name": "ipython",
    "version": 3
   },
   "file_extension": ".py",
   "mimetype": "text/x-python",
   "name": "python",
   "nbconvert_exporter": "python",
   "pygments_lexer": "ipython3",
   "version": "3.9.7"
  }
 },
 "nbformat": 4,
 "nbformat_minor": 5
}
