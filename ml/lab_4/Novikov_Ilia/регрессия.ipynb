{
 "cells": [
  {
   "cell_type": "markdown",
   "id": "9daf805c",
   "metadata": {},
   "source": [
    "### Цель лабораторной работы – получение навыков работы с методами регрессии\n",
    "\n",
    "1. Изучить набор данных. Создать описание набора данных на русском языке. Описать признаки, используемые в наборе данных (включить полученные описания в отчёт).\n",
    "2. Удалите дубликаты строк в наборе данных; приведите размер набора данных до и после данной операции;\n",
    "3. Выполните масштабирование количественных признаков; Постройте диаграммы BoxPlot для признаков до и после масштабирования. Выберите способ масштабирования (например, нормализацию или стандартизацию);\n",
    "4. Выполните замену категориальных признаков; выберите и обоснуйте способ замены;\n",
    "5. Оцените корреляцию между признаков и удалите те признаки, которые коррелируют с наибольшим числом других;\n",
    "6. Заполните пропущенные значения в данных;\n",
    "7. Решите поставленную задачу регрессии в соответствии с заданием. При подборе параметров метода принятия решения (метода регрессии) используйте перекрёстную проверку (изучите возможные для изменения параметры метода регрессии). Вычислите точность решения задачи, вычислив разницу между реальным значением и предсказанным. Вычислите коэффициент корреляции (Пирсона, Спирмена) между реальным значением и предсказанным с учётом p-value."
   ]
  },
  {
   "cell_type": "code",
   "execution_count": 1,
   "id": "270f5b1b",
   "metadata": {},
   "outputs": [],
   "source": [
    "import warnings\n",
    "\n",
    "import matplotlib.pyplot as plt\n",
    "import numpy as np\n",
    "import pandas as pd\n",
    "import seaborn as sns\n",
    "from scipy.stats import pearsonr, spearmanr\n",
    "from sklearn.linear_model import LinearRegression, Lasso\n",
    "from sklearn.model_selection import train_test_split, GridSearchCV\n",
    "from sklearn.preprocessing import MinMaxScaler, StandardScaler\n",
    "from sklearn.impute import SimpleImputer\n",
    "from sklearn.preprocessing import LabelEncoder\n",
    "\n",
    "\n",
    "warnings.filterwarnings(\"ignore\")\n",
    "%matplotlib inline\n",
    "\n",
    "figsize = (20,10)"
   ]
  },
  {
   "cell_type": "code",
   "execution_count": 2,
   "id": "35b2964e",
   "metadata": {},
   "outputs": [],
   "source": [
    "data = pd.read_csv(\"used-cars-database/autos.csv\", encoding=\"ISO-8859-1\")"
   ]
  },
  {
   "cell_type": "code",
   "execution_count": 3,
   "id": "77faa0b2",
   "metadata": {
    "scrolled": false
   },
   "outputs": [
    {
     "data": {
      "text/html": [
       "<div>\n",
       "<style scoped>\n",
       "    .dataframe tbody tr th:only-of-type {\n",
       "        vertical-align: middle;\n",
       "    }\n",
       "\n",
       "    .dataframe tbody tr th {\n",
       "        vertical-align: top;\n",
       "    }\n",
       "\n",
       "    .dataframe thead th {\n",
       "        text-align: right;\n",
       "    }\n",
       "</style>\n",
       "<table border=\"1\" class=\"dataframe\">\n",
       "  <thead>\n",
       "    <tr style=\"text-align: right;\">\n",
       "      <th></th>\n",
       "      <th>dateCrawled</th>\n",
       "      <th>name</th>\n",
       "      <th>seller</th>\n",
       "      <th>offerType</th>\n",
       "      <th>price</th>\n",
       "      <th>abtest</th>\n",
       "      <th>vehicleType</th>\n",
       "      <th>yearOfRegistration</th>\n",
       "      <th>gearbox</th>\n",
       "      <th>powerPS</th>\n",
       "      <th>model</th>\n",
       "      <th>kilometer</th>\n",
       "      <th>monthOfRegistration</th>\n",
       "      <th>fuelType</th>\n",
       "      <th>brand</th>\n",
       "      <th>notRepairedDamage</th>\n",
       "      <th>dateCreated</th>\n",
       "      <th>nrOfPictures</th>\n",
       "      <th>postalCode</th>\n",
       "      <th>lastSeen</th>\n",
       "    </tr>\n",
       "  </thead>\n",
       "  <tbody>\n",
       "    <tr>\n",
       "      <th>0</th>\n",
       "      <td>2016-03-24 11:52:17</td>\n",
       "      <td>Golf_3_1.6</td>\n",
       "      <td>privat</td>\n",
       "      <td>Angebot</td>\n",
       "      <td>480</td>\n",
       "      <td>test</td>\n",
       "      <td>NaN</td>\n",
       "      <td>1993</td>\n",
       "      <td>manuell</td>\n",
       "      <td>0</td>\n",
       "      <td>golf</td>\n",
       "      <td>150000</td>\n",
       "      <td>0</td>\n",
       "      <td>benzin</td>\n",
       "      <td>volkswagen</td>\n",
       "      <td>NaN</td>\n",
       "      <td>2016-03-24 00:00:00</td>\n",
       "      <td>0</td>\n",
       "      <td>70435</td>\n",
       "      <td>2016-04-07 03:16:57</td>\n",
       "    </tr>\n",
       "    <tr>\n",
       "      <th>1</th>\n",
       "      <td>2016-03-24 10:58:45</td>\n",
       "      <td>A5_Sportback_2.7_Tdi</td>\n",
       "      <td>privat</td>\n",
       "      <td>Angebot</td>\n",
       "      <td>18300</td>\n",
       "      <td>test</td>\n",
       "      <td>coupe</td>\n",
       "      <td>2011</td>\n",
       "      <td>manuell</td>\n",
       "      <td>190</td>\n",
       "      <td>NaN</td>\n",
       "      <td>125000</td>\n",
       "      <td>5</td>\n",
       "      <td>diesel</td>\n",
       "      <td>audi</td>\n",
       "      <td>ja</td>\n",
       "      <td>2016-03-24 00:00:00</td>\n",
       "      <td>0</td>\n",
       "      <td>66954</td>\n",
       "      <td>2016-04-07 01:46:50</td>\n",
       "    </tr>\n",
       "    <tr>\n",
       "      <th>2</th>\n",
       "      <td>2016-03-14 12:52:21</td>\n",
       "      <td>Jeep_Grand_Cherokee_\"Overland\"</td>\n",
       "      <td>privat</td>\n",
       "      <td>Angebot</td>\n",
       "      <td>9800</td>\n",
       "      <td>test</td>\n",
       "      <td>suv</td>\n",
       "      <td>2004</td>\n",
       "      <td>automatik</td>\n",
       "      <td>163</td>\n",
       "      <td>grand</td>\n",
       "      <td>125000</td>\n",
       "      <td>8</td>\n",
       "      <td>diesel</td>\n",
       "      <td>jeep</td>\n",
       "      <td>NaN</td>\n",
       "      <td>2016-03-14 00:00:00</td>\n",
       "      <td>0</td>\n",
       "      <td>90480</td>\n",
       "      <td>2016-04-05 12:47:46</td>\n",
       "    </tr>\n",
       "    <tr>\n",
       "      <th>3</th>\n",
       "      <td>2016-03-17 16:54:04</td>\n",
       "      <td>GOLF_4_1_4__3TÜRER</td>\n",
       "      <td>privat</td>\n",
       "      <td>Angebot</td>\n",
       "      <td>1500</td>\n",
       "      <td>test</td>\n",
       "      <td>kleinwagen</td>\n",
       "      <td>2001</td>\n",
       "      <td>manuell</td>\n",
       "      <td>75</td>\n",
       "      <td>golf</td>\n",
       "      <td>150000</td>\n",
       "      <td>6</td>\n",
       "      <td>benzin</td>\n",
       "      <td>volkswagen</td>\n",
       "      <td>nein</td>\n",
       "      <td>2016-03-17 00:00:00</td>\n",
       "      <td>0</td>\n",
       "      <td>91074</td>\n",
       "      <td>2016-03-17 17:40:17</td>\n",
       "    </tr>\n",
       "    <tr>\n",
       "      <th>4</th>\n",
       "      <td>2016-03-31 17:25:20</td>\n",
       "      <td>Skoda_Fabia_1.4_TDI_PD_Classic</td>\n",
       "      <td>privat</td>\n",
       "      <td>Angebot</td>\n",
       "      <td>3600</td>\n",
       "      <td>test</td>\n",
       "      <td>kleinwagen</td>\n",
       "      <td>2008</td>\n",
       "      <td>manuell</td>\n",
       "      <td>69</td>\n",
       "      <td>fabia</td>\n",
       "      <td>90000</td>\n",
       "      <td>7</td>\n",
       "      <td>diesel</td>\n",
       "      <td>skoda</td>\n",
       "      <td>nein</td>\n",
       "      <td>2016-03-31 00:00:00</td>\n",
       "      <td>0</td>\n",
       "      <td>60437</td>\n",
       "      <td>2016-04-06 10:17:21</td>\n",
       "    </tr>\n",
       "  </tbody>\n",
       "</table>\n",
       "</div>"
      ],
      "text/plain": [
       "           dateCrawled                            name  seller offerType  \\\n",
       "0  2016-03-24 11:52:17                      Golf_3_1.6  privat   Angebot   \n",
       "1  2016-03-24 10:58:45            A5_Sportback_2.7_Tdi  privat   Angebot   \n",
       "2  2016-03-14 12:52:21  Jeep_Grand_Cherokee_\"Overland\"  privat   Angebot   \n",
       "3  2016-03-17 16:54:04              GOLF_4_1_4__3TÜRER  privat   Angebot   \n",
       "4  2016-03-31 17:25:20  Skoda_Fabia_1.4_TDI_PD_Classic  privat   Angebot   \n",
       "\n",
       "   price abtest vehicleType  yearOfRegistration    gearbox  powerPS  model  \\\n",
       "0    480   test         NaN                1993    manuell        0   golf   \n",
       "1  18300   test       coupe                2011    manuell      190    NaN   \n",
       "2   9800   test         suv                2004  automatik      163  grand   \n",
       "3   1500   test  kleinwagen                2001    manuell       75   golf   \n",
       "4   3600   test  kleinwagen                2008    manuell       69  fabia   \n",
       "\n",
       "   kilometer  monthOfRegistration fuelType       brand notRepairedDamage  \\\n",
       "0     150000                    0   benzin  volkswagen               NaN   \n",
       "1     125000                    5   diesel        audi                ja   \n",
       "2     125000                    8   diesel        jeep               NaN   \n",
       "3     150000                    6   benzin  volkswagen              nein   \n",
       "4      90000                    7   diesel       skoda              nein   \n",
       "\n",
       "           dateCreated  nrOfPictures  postalCode             lastSeen  \n",
       "0  2016-03-24 00:00:00             0       70435  2016-04-07 03:16:57  \n",
       "1  2016-03-24 00:00:00             0       66954  2016-04-07 01:46:50  \n",
       "2  2016-03-14 00:00:00             0       90480  2016-04-05 12:47:46  \n",
       "3  2016-03-17 00:00:00             0       91074  2016-03-17 17:40:17  \n",
       "4  2016-03-31 00:00:00             0       60437  2016-04-06 10:17:21  "
      ]
     },
     "execution_count": 3,
     "metadata": {},
     "output_type": "execute_result"
    }
   ],
   "source": [
    "data.head()"
   ]
  },
  {
   "cell_type": "markdown",
   "id": "5e5e628e",
   "metadata": {},
   "source": [
    "### 1 Изучить набор данных. Создать описание набора данных на русском языке. Описать признаки, используемые в наборе данных"
   ]
  },
  {
   "cell_type": "markdown",
   "id": "c60248cc",
   "metadata": {},
   "source": [
    "1. dateCrawled: **дата, в которую проводилось сканирование автомобиля, все данные о машинах на этот момент**\n",
    "2. name: **\"имя\" автомобиля**\n",
    "3. seller: **частный или дилер**\n",
    "4. offerType: **тип предложения**\n",
    "5. price: **цена объявления о продаже автомобиля**\n",
    "6. abtest: -\n",
    "7. vehicleType: **тип двигателя**\n",
    "8. yearOfRegistration: **в каком году автомобиль был впервые зарегистрирован**\n",
    "9. gearbox: **коробка передач**\n",
    "10. powerPS: **мощность машины в PS**\n",
    "11. fuelType: **тип топлива**\n",
    "12. model: **модель машины**\n",
    "13. kilometer: **сколько километров машина проехала**\n",
    "14. monthOfRegistration: **в каком месяце автомобиль был впервые зарегистрирован**\n",
    "15. brand: **название выпустившего бренда**\n",
    "16. notRepairedDamage: **если у автомобиля есть повреждение, которое еще не отремонтировано**\n",
    "17. dateCreated: **дата, на которую было создано объявление на ebay**\n",
    "18. nrOfPictures: **количество картинок в объявлении (везде содержит 0 - мусорные данные)**\n",
    "19. postalCode: - **код почты**\n",
    "20. lastSeenOnline: **когда сканер видел это объявление в последний раз Поля lastSeen и dateCreated могут быть использованы для оценки того, как долго машина будет находиться в сети, по крайней мере, до ее продажи.**"
   ]
  },
  {
   "cell_type": "markdown",
   "id": "3fbcc1d6",
   "metadata": {},
   "source": [
    "### 2 Удалите дубликаты строк в наборе данных; приведите размер набора данных до и после данной операции;"
   ]
  },
  {
   "cell_type": "code",
   "execution_count": 4,
   "id": "ece87a01",
   "metadata": {
    "scrolled": false
   },
   "outputs": [
    {
     "name": "stdout",
     "output_type": "stream",
     "text": [
      "<class 'pandas.core.frame.DataFrame'>\n",
      "RangeIndex: 371528 entries, 0 to 371527\n",
      "Data columns (total 20 columns):\n",
      " #   Column               Non-Null Count   Dtype \n",
      "---  ------               --------------   ----- \n",
      " 0   dateCrawled          371528 non-null  object\n",
      " 1   name                 371528 non-null  object\n",
      " 2   seller               371528 non-null  object\n",
      " 3   offerType            371528 non-null  object\n",
      " 4   price                371528 non-null  int64 \n",
      " 5   abtest               371528 non-null  object\n",
      " 6   vehicleType          333659 non-null  object\n",
      " 7   yearOfRegistration   371528 non-null  int64 \n",
      " 8   gearbox              351319 non-null  object\n",
      " 9   powerPS              371528 non-null  int64 \n",
      " 10  model                351044 non-null  object\n",
      " 11  kilometer            371528 non-null  int64 \n",
      " 12  monthOfRegistration  371528 non-null  int64 \n",
      " 13  fuelType             338142 non-null  object\n",
      " 14  brand                371528 non-null  object\n",
      " 15  notRepairedDamage    299468 non-null  object\n",
      " 16  dateCreated          371528 non-null  object\n",
      " 17  nrOfPictures         371528 non-null  int64 \n",
      " 18  postalCode           371528 non-null  int64 \n",
      " 19  lastSeen             371528 non-null  object\n",
      "dtypes: int64(7), object(13)\n",
      "memory usage: 56.7+ MB\n"
     ]
    }
   ],
   "source": [
    "data.info()"
   ]
  },
  {
   "cell_type": "code",
   "execution_count": 5,
   "id": "f3f43398",
   "metadata": {
    "scrolled": true
   },
   "outputs": [
    {
     "data": {
      "text/html": [
       "<div>\n",
       "<style scoped>\n",
       "    .dataframe tbody tr th:only-of-type {\n",
       "        vertical-align: middle;\n",
       "    }\n",
       "\n",
       "    .dataframe tbody tr th {\n",
       "        vertical-align: top;\n",
       "    }\n",
       "\n",
       "    .dataframe thead th {\n",
       "        text-align: right;\n",
       "    }\n",
       "</style>\n",
       "<table border=\"1\" class=\"dataframe\">\n",
       "  <thead>\n",
       "    <tr style=\"text-align: right;\">\n",
       "      <th></th>\n",
       "      <th>price</th>\n",
       "      <th>yearOfRegistration</th>\n",
       "      <th>powerPS</th>\n",
       "      <th>kilometer</th>\n",
       "      <th>monthOfRegistration</th>\n",
       "      <th>nrOfPictures</th>\n",
       "      <th>postalCode</th>\n",
       "    </tr>\n",
       "  </thead>\n",
       "  <tbody>\n",
       "    <tr>\n",
       "      <th>count</th>\n",
       "      <td>3.715280e+05</td>\n",
       "      <td>371528.000000</td>\n",
       "      <td>371528.000000</td>\n",
       "      <td>371528.000000</td>\n",
       "      <td>371528.000000</td>\n",
       "      <td>371528.0</td>\n",
       "      <td>371528.00000</td>\n",
       "    </tr>\n",
       "    <tr>\n",
       "      <th>mean</th>\n",
       "      <td>1.729514e+04</td>\n",
       "      <td>2004.577997</td>\n",
       "      <td>115.549477</td>\n",
       "      <td>125618.688228</td>\n",
       "      <td>5.734445</td>\n",
       "      <td>0.0</td>\n",
       "      <td>50820.66764</td>\n",
       "    </tr>\n",
       "    <tr>\n",
       "      <th>std</th>\n",
       "      <td>3.587954e+06</td>\n",
       "      <td>92.866598</td>\n",
       "      <td>192.139578</td>\n",
       "      <td>40112.337051</td>\n",
       "      <td>3.712412</td>\n",
       "      <td>0.0</td>\n",
       "      <td>25799.08247</td>\n",
       "    </tr>\n",
       "    <tr>\n",
       "      <th>min</th>\n",
       "      <td>0.000000e+00</td>\n",
       "      <td>1000.000000</td>\n",
       "      <td>0.000000</td>\n",
       "      <td>5000.000000</td>\n",
       "      <td>0.000000</td>\n",
       "      <td>0.0</td>\n",
       "      <td>1067.00000</td>\n",
       "    </tr>\n",
       "    <tr>\n",
       "      <th>25%</th>\n",
       "      <td>1.150000e+03</td>\n",
       "      <td>1999.000000</td>\n",
       "      <td>70.000000</td>\n",
       "      <td>125000.000000</td>\n",
       "      <td>3.000000</td>\n",
       "      <td>0.0</td>\n",
       "      <td>30459.00000</td>\n",
       "    </tr>\n",
       "    <tr>\n",
       "      <th>50%</th>\n",
       "      <td>2.950000e+03</td>\n",
       "      <td>2003.000000</td>\n",
       "      <td>105.000000</td>\n",
       "      <td>150000.000000</td>\n",
       "      <td>6.000000</td>\n",
       "      <td>0.0</td>\n",
       "      <td>49610.00000</td>\n",
       "    </tr>\n",
       "    <tr>\n",
       "      <th>75%</th>\n",
       "      <td>7.200000e+03</td>\n",
       "      <td>2008.000000</td>\n",
       "      <td>150.000000</td>\n",
       "      <td>150000.000000</td>\n",
       "      <td>9.000000</td>\n",
       "      <td>0.0</td>\n",
       "      <td>71546.00000</td>\n",
       "    </tr>\n",
       "    <tr>\n",
       "      <th>max</th>\n",
       "      <td>2.147484e+09</td>\n",
       "      <td>9999.000000</td>\n",
       "      <td>20000.000000</td>\n",
       "      <td>150000.000000</td>\n",
       "      <td>12.000000</td>\n",
       "      <td>0.0</td>\n",
       "      <td>99998.00000</td>\n",
       "    </tr>\n",
       "  </tbody>\n",
       "</table>\n",
       "</div>"
      ],
      "text/plain": [
       "              price  yearOfRegistration        powerPS      kilometer  \\\n",
       "count  3.715280e+05       371528.000000  371528.000000  371528.000000   \n",
       "mean   1.729514e+04         2004.577997     115.549477  125618.688228   \n",
       "std    3.587954e+06           92.866598     192.139578   40112.337051   \n",
       "min    0.000000e+00         1000.000000       0.000000    5000.000000   \n",
       "25%    1.150000e+03         1999.000000      70.000000  125000.000000   \n",
       "50%    2.950000e+03         2003.000000     105.000000  150000.000000   \n",
       "75%    7.200000e+03         2008.000000     150.000000  150000.000000   \n",
       "max    2.147484e+09         9999.000000   20000.000000  150000.000000   \n",
       "\n",
       "       monthOfRegistration  nrOfPictures    postalCode  \n",
       "count        371528.000000      371528.0  371528.00000  \n",
       "mean              5.734445           0.0   50820.66764  \n",
       "std               3.712412           0.0   25799.08247  \n",
       "min               0.000000           0.0    1067.00000  \n",
       "25%               3.000000           0.0   30459.00000  \n",
       "50%               6.000000           0.0   49610.00000  \n",
       "75%               9.000000           0.0   71546.00000  \n",
       "max              12.000000           0.0   99998.00000  "
      ]
     },
     "execution_count": 5,
     "metadata": {},
     "output_type": "execute_result"
    }
   ],
   "source": [
    "data.describe()"
   ]
  },
  {
   "cell_type": "code",
   "execution_count": 6,
   "id": "3b619bed",
   "metadata": {
    "scrolled": true
   },
   "outputs": [
    {
     "data": {
      "text/plain": [
       "(371528, 20)"
      ]
     },
     "execution_count": 6,
     "metadata": {},
     "output_type": "execute_result"
    }
   ],
   "source": [
    "data.shape"
   ]
  },
  {
   "cell_type": "code",
   "execution_count": 7,
   "id": "de6f542e",
   "metadata": {},
   "outputs": [
    {
     "data": {
      "text/plain": [
       "(371524, 20)"
      ]
     },
     "execution_count": 7,
     "metadata": {},
     "output_type": "execute_result"
    }
   ],
   "source": [
    "data.drop_duplicates(inplace=True)\n",
    "data.shape"
   ]
  },
  {
   "cell_type": "markdown",
   "id": "71824579",
   "metadata": {},
   "source": [
    "**Было 4 дубликатика**"
   ]
  },
  {
   "cell_type": "code",
   "execution_count": 8,
   "id": "0533199e",
   "metadata": {
    "scrolled": true
   },
   "outputs": [],
   "source": [
    "numerical_columns = ['yearOfRegistration',\\\n",
    "                     'powerPS', 'kilometer', 'monthOfRegistration',\\\n",
    "                     'postalCode']"
   ]
  },
  {
   "cell_type": "code",
   "execution_count": 9,
   "id": "9d8cf5b2",
   "metadata": {
    "scrolled": false
   },
   "outputs": [
    {
     "data": {
      "image/png": "[encoded data removed]",
      "text/plain": [
       "<Figure size 1440x720 with 1 Axes>"
      ]
     },
     "metadata": {
      "needs_background": "light"
     },
     "output_type": "display_data"
    }
   ],
   "source": [
    "plt.figure(figsize=figsize)\n",
    "sns.boxplot(data=data[numerical_columns])\n",
    "plt.show()"
   ]
  },
  {
   "cell_type": "markdown",
   "id": "7b5206a3",
   "metadata": {},
   "source": [
    "мда, что-то плохо"
   ]
  },
  {
   "cell_type": "markdown",
   "id": "5063958c",
   "metadata": {},
   "source": [
    "## Выполним предварительную обработку численных данных"
   ]
  },
  {
   "cell_type": "code",
   "execution_count": 10,
   "id": "440bc7f8",
   "metadata": {},
   "outputs": [
    {
     "data": {
      "text/plain": [
       "150000    240795\n",
       "125000     38066\n",
       "100000     15920\n",
       "90000      12523\n",
       "80000      11053\n",
       "70000       9773\n",
       "60000       8669\n",
       "50000       7615\n",
       "5000        7069\n",
       "40000       6376\n",
       "30000       6041\n",
       "20000       5675\n",
       "10000       1949\n",
       "Name: kilometer, dtype: int64"
      ]
     },
     "execution_count": 10,
     "metadata": {},
     "output_type": "execute_result"
    }
   ],
   "source": [
    "data[\"kilometer\"].value_counts()"
   ]
  },
  {
   "cell_type": "code",
   "execution_count": 11,
   "id": "995a60b4",
   "metadata": {},
   "outputs": [
    {
     "data": {
      "text/plain": [
       "<AxesSubplot:>"
      ]
     },
     "execution_count": 11,
     "metadata": {},
     "output_type": "execute_result"
    },
    {
     "data": {
      "image/png": "[encoded data removed]",
      "text/plain": [
       "<Figure size 432x288 with 1 Axes>"
      ]
     },
     "metadata": {
      "needs_background": "light"
     },
     "output_type": "display_data"
    }
   ],
   "source": [
    "data[\"kilometer\"].hist()"
   ]
  },
  {
   "cell_type": "markdown",
   "id": "30b35e9e",
   "metadata": {},
   "source": [
    "**Судя по всему километры играют важную роль, но выборка не сбалансированна. Есть предел в 150к километров**"
   ]
  },
  {
   "cell_type": "code",
   "execution_count": 12,
   "id": "8f702fe4",
   "metadata": {},
   "outputs": [],
   "source": [
    "kil_mean_price = data.groupby('kilometer', as_index=False)['price'].mean()"
   ]
  },
  {
   "cell_type": "code",
   "execution_count": 13,
   "id": "857533b4",
   "metadata": {
    "scrolled": false
   },
   "outputs": [
    {
     "data": {
      "text/plain": [
       "<AxesSubplot:xlabel='kilometer'>"
      ]
     },
     "execution_count": 13,
     "metadata": {},
     "output_type": "execute_result"
    },
    {
     "data": {
      "image/png": "[encoded data removed]",
      "text/plain": [
       "<Figure size 432x288 with 1 Axes>"
      ]
     },
     "metadata": {
      "needs_background": "light"
     },
     "output_type": "display_data"
    }
   ],
   "source": [
    "kil_mean_price.plot(x='kilometer', y='price')"
   ]
  },
  {
   "cell_type": "code",
   "execution_count": 14,
   "id": "de2af54b",
   "metadata": {},
   "outputs": [
    {
     "name": "stdout",
     "output_type": "stream",
     "text": [
      "Pearson correlation: -0.6217900815966872 p_value: 0.023275831533434484\n",
      "Spearman correlation: -0.7692307692307693 p_value: 0.0021122295993498776\n"
     ]
    }
   ],
   "source": [
    "P, p_value_P = pearsonr(kil_mean_price['kilometer'], kil_mean_price['price'])\n",
    "S, p_value_S = spearmanr(kil_mean_price['kilometer'], kil_mean_price['price'])\n",
    "print(f\"Pearson correlation: {P} p_value: {p_value_P}\\nSpearman correlation: {S} p_value: {p_value_S}\")"
   ]
  },
  {
   "cell_type": "markdown",
   "id": "61339099",
   "metadata": {},
   "source": [
    "Заметна умеренная отрицательная корреляция между медианной стоимостью авто и количеством проеханных километров"
   ]
  },
  {
   "cell_type": "markdown",
   "id": "9a8534d1",
   "metadata": {},
   "source": [
    "**Введём категориальный критерий количества километров для стратифицированного разбиения выборки на тестовую и валидационную**"
   ]
  },
  {
   "cell_type": "code",
   "execution_count": 15,
   "id": "453f8c82",
   "metadata": {},
   "outputs": [],
   "source": [
    "data[\"kilometer_cat\"] = pd.cut(data[\"kilometer\"],\n",
    "                               bins=[0, 140000, np.inf],\n",
    "                               labels=[1, 2])"
   ]
  },
  {
   "cell_type": "code",
   "execution_count": 16,
   "id": "472aa755",
   "metadata": {
    "scrolled": false
   },
   "outputs": [
    {
     "data": {
      "text/plain": [
       "<AxesSubplot:>"
      ]
     },
     "execution_count": 16,
     "metadata": {},
     "output_type": "execute_result"
    },
    {
     "data": {
      "image/png": "[encoded data removed]",
      "text/plain": [
       "<Figure size 432x288 with 1 Axes>"
      ]
     },
     "metadata": {
      "needs_background": "light"
     },
     "output_type": "display_data"
    }
   ],
   "source": [
    "data[\"kilometer_cat\"].hist()"
   ]
  },
  {
   "cell_type": "code",
   "execution_count": 17,
   "id": "60707d70",
   "metadata": {
    "scrolled": false
   },
   "outputs": [
    {
     "name": "stdout",
     "output_type": "stream",
     "text": [
      "<class 'pandas.core.frame.DataFrame'>\n",
      "Int64Index: 371524 entries, 0 to 371527\n",
      "Data columns (total 21 columns):\n",
      " #   Column               Non-Null Count   Dtype   \n",
      "---  ------               --------------   -----   \n",
      " 0   dateCrawled          371524 non-null  object  \n",
      " 1   name                 371524 non-null  object  \n",
      " 2   seller               371524 non-null  object  \n",
      " 3   offerType            371524 non-null  object  \n",
      " 4   price                371524 non-null  int64   \n",
      " 5   abtest               371524 non-null  object  \n",
      " 6   vehicleType          333655 non-null  object  \n",
      " 7   yearOfRegistration   371524 non-null  int64   \n",
      " 8   gearbox              351315 non-null  object  \n",
      " 9   powerPS              371524 non-null  int64   \n",
      " 10  model                351040 non-null  object  \n",
      " 11  kilometer            371524 non-null  int64   \n",
      " 12  monthOfRegistration  371524 non-null  int64   \n",
      " 13  fuelType             338138 non-null  object  \n",
      " 14  brand                371524 non-null  object  \n",
      " 15  notRepairedDamage    299464 non-null  object  \n",
      " 16  dateCreated          371524 non-null  object  \n",
      " 17  nrOfPictures         371524 non-null  int64   \n",
      " 18  postalCode           371524 non-null  int64   \n",
      " 19  lastSeen             371524 non-null  object  \n",
      " 20  kilometer_cat        371524 non-null  category\n",
      "dtypes: category(1), int64(7), object(13)\n",
      "memory usage: 59.9+ MB\n"
     ]
    }
   ],
   "source": [
    "data.info()"
   ]
  },
  {
   "cell_type": "code",
   "execution_count": 18,
   "id": "47bea733",
   "metadata": {
    "scrolled": true
   },
   "outputs": [
    {
     "data": {
      "text/plain": [
       "kilometer_cat\n",
       "1    6299.0\n",
       "2    2000.0\n",
       "Name: price, dtype: float64"
      ]
     },
     "execution_count": 18,
     "metadata": {},
     "output_type": "execute_result"
    }
   ],
   "source": [
    "data.groupby('kilometer_cat')['price'].median()"
   ]
  },
  {
   "cell_type": "markdown",
   "id": "41eb6cd8",
   "metadata": {},
   "source": [
    "*Теперь уже лучше*"
   ]
  },
  {
   "cell_type": "markdown",
   "id": "45e39257",
   "metadata": {},
   "source": [
    "## Обратим внимание на год регистрации авто"
   ]
  },
  {
   "cell_type": "code",
   "execution_count": 19,
   "id": "b5d0248f",
   "metadata": {
    "scrolled": true
   },
   "outputs": [
    {
     "data": {
      "text/plain": [
       "<AxesSubplot:>"
      ]
     },
     "execution_count": 19,
     "metadata": {},
     "output_type": "execute_result"
    },
    {
     "data": {
      "image/png": "[encoded data removed]",
      "text/plain": [
       "<Figure size 432x288 with 1 Axes>"
      ]
     },
     "metadata": {
      "needs_background": "light"
     },
     "output_type": "display_data"
    }
   ],
   "source": [
    "data[\"yearOfRegistration\"].value_counts().plot()"
   ]
  },
  {
   "cell_type": "markdown",
   "id": "dc62b2b4",
   "metadata": {},
   "source": [
    "**А чего такие хвосты длинные?**"
   ]
  },
  {
   "cell_type": "code",
   "execution_count": 20,
   "id": "fee3eaf8",
   "metadata": {},
   "outputs": [],
   "source": [
    "lower_bound_year = data.yearOfRegistration.quantile(q=0.02)\n",
    "upper_bound_year = data.yearOfRegistration.quantile(q=0.95)"
   ]
  },
  {
   "cell_type": "code",
   "execution_count": 21,
   "id": "eb9a7a14",
   "metadata": {},
   "outputs": [],
   "source": [
    "def over2nan4year(val):\n",
    "    if val < lower_bound_year or val > upper_bound_year:\n",
    "        return np.nan\n",
    "    else:\n",
    "        return val"
   ]
  },
  {
   "cell_type": "code",
   "execution_count": 22,
   "id": "0be79746",
   "metadata": {},
   "outputs": [
    {
     "name": "stdout",
     "output_type": "stream",
     "text": [
      "1986.0 2016.0\n"
     ]
    }
   ],
   "source": [
    "print(lower_bound_year, upper_bound_year)"
   ]
  },
  {
   "cell_type": "markdown",
   "id": "015b5e7e",
   "metadata": {},
   "source": [
    "**Ну эти границы по квентилям хотя бы адекватней выглядит**"
   ]
  },
  {
   "cell_type": "code",
   "execution_count": 23,
   "id": "aed12b46",
   "metadata": {},
   "outputs": [],
   "source": [
    "data_year = data.copy()"
   ]
  },
  {
   "cell_type": "code",
   "execution_count": 24,
   "id": "ffe3ec65",
   "metadata": {},
   "outputs": [],
   "source": [
    "data_year.yearOfRegistration = data_year.yearOfRegistration.apply(over2nan4year)"
   ]
  },
  {
   "cell_type": "code",
   "execution_count": 25,
   "id": "43572a49",
   "metadata": {
    "scrolled": false
   },
   "outputs": [
    {
     "name": "stdout",
     "output_type": "stream",
     "text": [
      "<class 'pandas.core.frame.DataFrame'>\n",
      "Int64Index: 371524 entries, 0 to 371527\n",
      "Data columns (total 21 columns):\n",
      " #   Column               Non-Null Count   Dtype   \n",
      "---  ------               --------------   -----   \n",
      " 0   dateCrawled          371524 non-null  object  \n",
      " 1   name                 371524 non-null  object  \n",
      " 2   seller               371524 non-null  object  \n",
      " 3   offerType            371524 non-null  object  \n",
      " 4   price                371524 non-null  int64   \n",
      " 5   abtest               371524 non-null  object  \n",
      " 6   vehicleType          333655 non-null  object  \n",
      " 7   yearOfRegistration   349813 non-null  float64 \n",
      " 8   gearbox              351315 non-null  object  \n",
      " 9   powerPS              371524 non-null  int64   \n",
      " 10  model                351040 non-null  object  \n",
      " 11  kilometer            371524 non-null  int64   \n",
      " 12  monthOfRegistration  371524 non-null  int64   \n",
      " 13  fuelType             338138 non-null  object  \n",
      " 14  brand                371524 non-null  object  \n",
      " 15  notRepairedDamage    299464 non-null  object  \n",
      " 16  dateCreated          371524 non-null  object  \n",
      " 17  nrOfPictures         371524 non-null  int64   \n",
      " 18  postalCode           371524 non-null  int64   \n",
      " 19  lastSeen             371524 non-null  object  \n",
      " 20  kilometer_cat        371524 non-null  category\n",
      "dtypes: category(1), float64(1), int64(6), object(13)\n",
      "memory usage: 59.9+ MB\n"
     ]
    }
   ],
   "source": [
    "data_year.info()"
   ]
  },
  {
   "cell_type": "markdown",
   "id": "1da209d3",
   "metadata": {},
   "source": [
    "**Удалим все неадекватные значения по дате регистрации**"
   ]
  },
  {
   "cell_type": "code",
   "execution_count": 26,
   "id": "7b6fe360",
   "metadata": {},
   "outputs": [],
   "source": [
    "droped_data = data_year.loc[data_year['yearOfRegistration'].isna() == False]"
   ]
  },
  {
   "cell_type": "code",
   "execution_count": 27,
   "id": "36f73c63",
   "metadata": {},
   "outputs": [
    {
     "name": "stdout",
     "output_type": "stream",
     "text": [
      "<class 'pandas.core.frame.DataFrame'>\n",
      "Int64Index: 349813 entries, 0 to 371527\n",
      "Data columns (total 21 columns):\n",
      " #   Column               Non-Null Count   Dtype   \n",
      "---  ------               --------------   -----   \n",
      " 0   dateCrawled          349813 non-null  object  \n",
      " 1   name                 349813 non-null  object  \n",
      " 2   seller               349813 non-null  object  \n",
      " 3   offerType            349813 non-null  object  \n",
      " 4   price                349813 non-null  int64   \n",
      " 5   abtest               349813 non-null  object  \n",
      " 6   vehicleType          327702 non-null  object  \n",
      " 7   yearOfRegistration   349813 non-null  float64 \n",
      " 8   gearbox              332904 non-null  object  \n",
      " 9   powerPS              349813 non-null  int64   \n",
      " 10  model                332929 non-null  object  \n",
      " 11  kilometer            349813 non-null  int64   \n",
      " 12  monthOfRegistration  349813 non-null  int64   \n",
      " 13  fuelType             323571 non-null  object  \n",
      " 14  brand                349813 non-null  object  \n",
      " 15  notRepairedDamage    286398 non-null  object  \n",
      " 16  dateCreated          349813 non-null  object  \n",
      " 17  nrOfPictures         349813 non-null  int64   \n",
      " 18  postalCode           349813 non-null  int64   \n",
      " 19  lastSeen             349813 non-null  object  \n",
      " 20  kilometer_cat        349813 non-null  category\n",
      "dtypes: category(1), float64(1), int64(6), object(13)\n",
      "memory usage: 56.4+ MB\n"
     ]
    }
   ],
   "source": [
    "droped_data.info()"
   ]
  },
  {
   "cell_type": "code",
   "execution_count": 28,
   "id": "a9fd1ffc",
   "metadata": {},
   "outputs": [
    {
     "name": "stdout",
     "output_type": "stream",
     "text": [
      "<class 'pandas.core.frame.DataFrame'>\n",
      "Int64Index: 349813 entries, 0 to 371527\n",
      "Data columns (total 21 columns):\n",
      " #   Column               Non-Null Count   Dtype   \n",
      "---  ------               --------------   -----   \n",
      " 0   dateCrawled          349813 non-null  object  \n",
      " 1   name                 349813 non-null  object  \n",
      " 2   seller               349813 non-null  object  \n",
      " 3   offerType            349813 non-null  object  \n",
      " 4   price                349813 non-null  int64   \n",
      " 5   abtest               349813 non-null  object  \n",
      " 6   vehicleType          327702 non-null  object  \n",
      " 7   yearOfRegistration   349813 non-null  float64 \n",
      " 8   gearbox              332904 non-null  object  \n",
      " 9   powerPS              349813 non-null  int64   \n",
      " 10  model                332929 non-null  object  \n",
      " 11  kilometer            349813 non-null  int64   \n",
      " 12  monthOfRegistration  349813 non-null  int64   \n",
      " 13  fuelType             323571 non-null  object  \n",
      " 14  brand                349813 non-null  object  \n",
      " 15  notRepairedDamage    286398 non-null  object  \n",
      " 16  dateCreated          349813 non-null  object  \n",
      " 17  nrOfPictures         349813 non-null  int64   \n",
      " 18  postalCode           349813 non-null  int64   \n",
      " 19  lastSeen             349813 non-null  object  \n",
      " 20  kilometer_cat        349813 non-null  category\n",
      "dtypes: category(1), float64(1), int64(6), object(13)\n",
      "memory usage: 56.4+ MB\n"
     ]
    }
   ],
   "source": [
    "droped_data.info()"
   ]
  },
  {
   "cell_type": "code",
   "execution_count": 29,
   "id": "57d5c22e",
   "metadata": {
    "scrolled": true
   },
   "outputs": [
    {
     "data": {
      "text/plain": [
       "<AxesSubplot:>"
      ]
     },
     "execution_count": 29,
     "metadata": {},
     "output_type": "execute_result"
    },
    {
     "data": {
      "image/png": "[encoded data removed]",
      "text/plain": [
       "<Figure size 432x288 with 1 Axes>"
      ]
     },
     "metadata": {
      "needs_background": "light"
     },
     "output_type": "display_data"
    }
   ],
   "source": [
    "droped_data[\"yearOfRegistration\"].value_counts().sort_index().plot()"
   ]
  },
  {
   "cell_type": "markdown",
   "id": "6bde70ac",
   "metadata": {},
   "source": [
    "**Теперь распределении более менее похоже на нормальное**"
   ]
  },
  {
   "cell_type": "code",
   "execution_count": 30,
   "id": "ae848065",
   "metadata": {
    "scrolled": true
   },
   "outputs": [
    {
     "data": {
      "text/plain": [
       "<AxesSubplot:xlabel='yearOfRegistration'>"
      ]
     },
     "execution_count": 30,
     "metadata": {},
     "output_type": "execute_result"
    },
    {
     "data": {
      "image/png": "[encoded data removed]",
      "text/plain": [
       "<Figure size 432x288 with 1 Axes>"
      ]
     },
     "metadata": {
      "needs_background": "light"
     },
     "output_type": "display_data"
    }
   ],
   "source": [
    "ye_pr_dt = droped_data.groupby('yearOfRegistration')['price'].mean()\n",
    "ye_pr_dt.plot()"
   ]
  },
  {
   "cell_type": "markdown",
   "id": "f87d678d",
   "metadata": {},
   "source": [
    "**Странный выброс средней стоимости наблюдается на авто 1996 года регистрации**"
   ]
  },
  {
   "cell_type": "code",
   "execution_count": 31,
   "id": "bcc9b4fe",
   "metadata": {
    "scrolled": false
   },
   "outputs": [
    {
     "data": {
      "text/plain": [
       "yearOfRegistration\n",
       "1996.0    210896.218446\n",
       "1990.0     37921.283310\n",
       "1992.0     36350.301181\n",
       "Name: price, dtype: float64"
      ]
     },
     "execution_count": 31,
     "metadata": {},
     "output_type": "execute_result"
    }
   ],
   "source": [
    "ye_pr_dt.sort_values(ascending=False).head(3)"
   ]
  },
  {
   "cell_type": "code",
   "execution_count": 32,
   "id": "336fd078",
   "metadata": {
    "scrolled": false
   },
   "outputs": [
    {
     "data": {
      "text/plain": [
       "2000.0    24551\n",
       "1999.0    22766\n",
       "2005.0    22316\n",
       "2006.0    20230\n",
       "2001.0    20217\n",
       "2003.0    19872\n",
       "2004.0    19746\n",
       "2002.0    19188\n",
       "1998.0    17951\n",
       "2007.0    17673\n",
       "2008.0    16175\n",
       "2009.0    15607\n",
       "1997.0    14706\n",
       "2010.0    12354\n",
       "2011.0    12068\n",
       "1996.0    10886\n",
       "2016.0     9859\n",
       "1995.0     9658\n",
       "2012.0     9418\n",
       "2013.0     6157\n",
       "1994.0     4872\n",
       "2014.0     4802\n",
       "1993.0     3469\n",
       "1992.0     3048\n",
       "2015.0     2982\n",
       "1990.0     2852\n",
       "1991.0     2810\n",
       "1989.0     1342\n",
       "1988.0      965\n",
       "1987.0      697\n",
       "1986.0      576\n",
       "Name: yearOfRegistration, dtype: int64"
      ]
     },
     "execution_count": 32,
     "metadata": {},
     "output_type": "execute_result"
    }
   ],
   "source": [
    "droped_data[\"yearOfRegistration\"].value_counts().sort_values(ascending=False)"
   ]
  },
  {
   "cell_type": "markdown",
   "id": "8f1c725f",
   "metadata": {},
   "source": [
    "**На 1996 зарегистрировано мало машин, так что просто удалим его**"
   ]
  },
  {
   "cell_type": "code",
   "execution_count": 33,
   "id": "2ff00c6c",
   "metadata": {},
   "outputs": [],
   "source": [
    "droped_data_out = droped_data.loc[droped_data[\"yearOfRegistration\"] != 1996]"
   ]
  },
  {
   "cell_type": "code",
   "execution_count": 34,
   "id": "5e1ee393",
   "metadata": {},
   "outputs": [
    {
     "data": {
      "text/plain": [
       "<AxesSubplot:xlabel='yearOfRegistration'>"
      ]
     },
     "execution_count": 34,
     "metadata": {},
     "output_type": "execute_result"
    },
    {
     "data": {
      "image/png": "[encoded data removed]",
      "text/plain": [
       "<Figure size 432x288 with 1 Axes>"
      ]
     },
     "metadata": {
      "needs_background": "light"
     },
     "output_type": "display_data"
    }
   ],
   "source": [
    "ye_pr_dt2 = droped_data_out.groupby('yearOfRegistration')['price'].mean()\n",
    "ye_pr_dt2.plot()"
   ]
  },
  {
   "cell_type": "code",
   "execution_count": 35,
   "id": "29b43e64",
   "metadata": {
    "scrolled": false
   },
   "outputs": [
    {
     "name": "stdout",
     "output_type": "stream",
     "text": [
      "Pearson correlation: -0.03923866391848099 p_value: 0.8340000253686994\n",
      "Spearman correlation: 0.37379032258064515 p_value: 0.03832023935900808\n"
     ]
    }
   ],
   "source": [
    "P, p_value_P = pearsonr(ye_pr_dt.index, ye_pr_dt.values)\n",
    "S, p_value_S = spearmanr(ye_pr_dt.index, ye_pr_dt.values)\n",
    "print(f\"Pearson correlation: {P} p_value: {p_value_P}\\nSpearman correlation: {S} p_value: {p_value_S}\")"
   ]
  },
  {
   "cell_type": "markdown",
   "id": "73754822",
   "metadata": {},
   "source": [
    "**С 1996**"
   ]
  },
  {
   "cell_type": "code",
   "execution_count": 36,
   "id": "8d0573d5",
   "metadata": {},
   "outputs": [
    {
     "name": "stdout",
     "output_type": "stream",
     "text": [
      "Pearson correlation: 0.22931006133300197 p_value: 0.22286796044233165\n",
      "Spearman correlation: 0.43492769744160176 p_value: 0.016309663296980074\n"
     ]
    }
   ],
   "source": [
    "P, p_value_P = pearsonr(ye_pr_dt2.index, ye_pr_dt2.values)\n",
    "S, p_value_S = spearmanr(ye_pr_dt2.index, ye_pr_dt2.values)\n",
    "print(f\"Pearson correlation: {P} p_value: {p_value_P}\\nSpearman correlation: {S} p_value: {p_value_S}\")"
   ]
  },
  {
   "cell_type": "markdown",
   "id": "a38e432e",
   "metadata": {},
   "source": [
    "**Без 1996**"
   ]
  },
  {
   "cell_type": "code",
   "execution_count": 37,
   "id": "ca232f3b",
   "metadata": {},
   "outputs": [],
   "source": [
    "without_norm = data.groupby('yearOfRegistration')['price'].mean()"
   ]
  },
  {
   "cell_type": "code",
   "execution_count": 38,
   "id": "f2aaa0d5",
   "metadata": {
    "scrolled": true
   },
   "outputs": [
    {
     "name": "stdout",
     "output_type": "stream",
     "text": [
      "Pearson correlation: -0.06264105772092957 p_value: 0.4387398314391134\n",
      "Spearman correlation: -0.1867657019485127 p_value: 0.019970295365803768\n"
     ]
    }
   ],
   "source": [
    "P, p_value_P = pearsonr(without_norm.index, without_norm.values)\n",
    "S, p_value_S = spearmanr(without_norm.index, without_norm.values)\n",
    "print(f\"Pearson correlation: {P} p_value: {p_value_P}\\nSpearman correlation: {S} p_value: {p_value_S}\")"
   ]
  },
  {
   "cell_type": "markdown",
   "id": "f30b9a34",
   "metadata": {},
   "source": [
    "**Вообще без нормализации и удаления выбросов**"
   ]
  },
  {
   "cell_type": "code",
   "execution_count": 39,
   "id": "8a7454ca",
   "metadata": {},
   "outputs": [],
   "source": [
    "data2 = droped_data_out"
   ]
  },
  {
   "cell_type": "markdown",
   "id": "2c5aeaa8",
   "metadata": {},
   "source": [
    "## Дальше надо разобраться с мощностью двигателя (там тоже приколы ещё те)"
   ]
  },
  {
   "cell_type": "code",
   "execution_count": 40,
   "id": "a30d8172",
   "metadata": {
    "scrolled": false
   },
   "outputs": [
    {
     "data": {
      "text/html": [
       "<div>\n",
       "<style scoped>\n",
       "    .dataframe tbody tr th:only-of-type {\n",
       "        vertical-align: middle;\n",
       "    }\n",
       "\n",
       "    .dataframe tbody tr th {\n",
       "        vertical-align: top;\n",
       "    }\n",
       "\n",
       "    .dataframe thead th {\n",
       "        text-align: right;\n",
       "    }\n",
       "</style>\n",
       "<table border=\"1\" class=\"dataframe\">\n",
       "  <thead>\n",
       "    <tr style=\"text-align: right;\">\n",
       "      <th></th>\n",
       "      <th>count</th>\n",
       "      <th>mean</th>\n",
       "      <th>std</th>\n",
       "      <th>min</th>\n",
       "      <th>25%</th>\n",
       "      <th>50%</th>\n",
       "      <th>75%</th>\n",
       "      <th>max</th>\n",
       "    </tr>\n",
       "    <tr>\n",
       "      <th>powerPS</th>\n",
       "      <th></th>\n",
       "      <th></th>\n",
       "      <th></th>\n",
       "      <th></th>\n",
       "      <th></th>\n",
       "      <th></th>\n",
       "      <th></th>\n",
       "      <th></th>\n",
       "    </tr>\n",
       "  </thead>\n",
       "  <tbody>\n",
       "    <tr>\n",
       "      <th>0</th>\n",
       "      <td>33722.0</td>\n",
       "      <td>21859.724809</td>\n",
       "      <td>1.291575e+06</td>\n",
       "      <td>0.0</td>\n",
       "      <td>399.0</td>\n",
       "      <td>1050.0</td>\n",
       "      <td>2700.0</td>\n",
       "      <td>99999999.0</td>\n",
       "    </tr>\n",
       "    <tr>\n",
       "      <th>1</th>\n",
       "      <td>27.0</td>\n",
       "      <td>1233.851852</td>\n",
       "      <td>1.894712e+03</td>\n",
       "      <td>0.0</td>\n",
       "      <td>105.0</td>\n",
       "      <td>490.0</td>\n",
       "      <td>1300.0</td>\n",
       "      <td>6800.0</td>\n",
       "    </tr>\n",
       "    <tr>\n",
       "      <th>2</th>\n",
       "      <td>9.0</td>\n",
       "      <td>4323.333333</td>\n",
       "      <td>4.595006e+03</td>\n",
       "      <td>1500.0</td>\n",
       "      <td>2100.0</td>\n",
       "      <td>2300.0</td>\n",
       "      <td>3000.0</td>\n",
       "      <td>14911.0</td>\n",
       "    </tr>\n",
       "    <tr>\n",
       "      <th>3</th>\n",
       "      <td>7.0</td>\n",
       "      <td>2764.000000</td>\n",
       "      <td>1.772692e+03</td>\n",
       "      <td>700.0</td>\n",
       "      <td>999.5</td>\n",
       "      <td>3900.0</td>\n",
       "      <td>3974.5</td>\n",
       "      <td>4800.0</td>\n",
       "    </tr>\n",
       "    <tr>\n",
       "      <th>4</th>\n",
       "      <td>29.0</td>\n",
       "      <td>3120.517241</td>\n",
       "      <td>2.094474e+03</td>\n",
       "      <td>250.0</td>\n",
       "      <td>1100.0</td>\n",
       "      <td>3100.0</td>\n",
       "      <td>5400.0</td>\n",
       "      <td>6200.0</td>\n",
       "    </tr>\n",
       "    <tr>\n",
       "      <th>...</th>\n",
       "      <td>...</td>\n",
       "      <td>...</td>\n",
       "      <td>...</td>\n",
       "      <td>...</td>\n",
       "      <td>...</td>\n",
       "      <td>...</td>\n",
       "      <td>...</td>\n",
       "      <td>...</td>\n",
       "    </tr>\n",
       "    <tr>\n",
       "      <th>17932</th>\n",
       "      <td>1.0</td>\n",
       "      <td>3250.000000</td>\n",
       "      <td>NaN</td>\n",
       "      <td>3250.0</td>\n",
       "      <td>3250.0</td>\n",
       "      <td>3250.0</td>\n",
       "      <td>3250.0</td>\n",
       "      <td>3250.0</td>\n",
       "    </tr>\n",
       "    <tr>\n",
       "      <th>19208</th>\n",
       "      <td>1.0</td>\n",
       "      <td>2100.000000</td>\n",
       "      <td>NaN</td>\n",
       "      <td>2100.0</td>\n",
       "      <td>2100.0</td>\n",
       "      <td>2100.0</td>\n",
       "      <td>2100.0</td>\n",
       "      <td>2100.0</td>\n",
       "    </tr>\n",
       "    <tr>\n",
       "      <th>19211</th>\n",
       "      <td>1.0</td>\n",
       "      <td>9999.000000</td>\n",
       "      <td>NaN</td>\n",
       "      <td>9999.0</td>\n",
       "      <td>9999.0</td>\n",
       "      <td>9999.0</td>\n",
       "      <td>9999.0</td>\n",
       "      <td>9999.0</td>\n",
       "    </tr>\n",
       "    <tr>\n",
       "      <th>19312</th>\n",
       "      <td>1.0</td>\n",
       "      <td>1500.000000</td>\n",
       "      <td>NaN</td>\n",
       "      <td>1500.0</td>\n",
       "      <td>1500.0</td>\n",
       "      <td>1500.0</td>\n",
       "      <td>1500.0</td>\n",
       "      <td>1500.0</td>\n",
       "    </tr>\n",
       "    <tr>\n",
       "      <th>20000</th>\n",
       "      <td>1.0</td>\n",
       "      <td>4300.000000</td>\n",
       "      <td>NaN</td>\n",
       "      <td>4300.0</td>\n",
       "      <td>4300.0</td>\n",
       "      <td>4300.0</td>\n",
       "      <td>4300.0</td>\n",
       "      <td>4300.0</td>\n",
       "    </tr>\n",
       "  </tbody>\n",
       "</table>\n",
       "<p>761 rows × 8 columns</p>\n",
       "</div>"
      ],
      "text/plain": [
       "           count          mean           std     min     25%     50%     75%  \\\n",
       "powerPS                                                                        \n",
       "0        33722.0  21859.724809  1.291575e+06     0.0   399.0  1050.0  2700.0   \n",
       "1           27.0   1233.851852  1.894712e+03     0.0   105.0   490.0  1300.0   \n",
       "2            9.0   4323.333333  4.595006e+03  1500.0  2100.0  2300.0  3000.0   \n",
       "3            7.0   2764.000000  1.772692e+03   700.0   999.5  3900.0  3974.5   \n",
       "4           29.0   3120.517241  2.094474e+03   250.0  1100.0  3100.0  5400.0   \n",
       "...          ...           ...           ...     ...     ...     ...     ...   \n",
       "17932        1.0   3250.000000           NaN  3250.0  3250.0  3250.0  3250.0   \n",
       "19208        1.0   2100.000000           NaN  2100.0  2100.0  2100.0  2100.0   \n",
       "19211        1.0   9999.000000           NaN  9999.0  9999.0  9999.0  9999.0   \n",
       "19312        1.0   1500.000000           NaN  1500.0  1500.0  1500.0  1500.0   \n",
       "20000        1.0   4300.000000           NaN  4300.0  4300.0  4300.0  4300.0   \n",
       "\n",
       "                max  \n",
       "powerPS              \n",
       "0        99999999.0  \n",
       "1            6800.0  \n",
       "2           14911.0  \n",
       "3            4800.0  \n",
       "4            6200.0  \n",
       "...             ...  \n",
       "17932        3250.0  \n",
       "19208        2100.0  \n",
       "19211        9999.0  \n",
       "19312        1500.0  \n",
       "20000        4300.0  \n",
       "\n",
       "[761 rows x 8 columns]"
      ]
     },
     "execution_count": 40,
     "metadata": {},
     "output_type": "execute_result"
    }
   ],
   "source": [
    "data2.groupby('powerPS')['price'].describe()"
   ]
  },
  {
   "cell_type": "markdown",
   "id": "a238f6a0",
   "metadata": {},
   "source": [
    "**у 30к пропущено значение мощности двигателя**"
   ]
  },
  {
   "cell_type": "code",
   "execution_count": 41,
   "id": "db024aa7",
   "metadata": {
    "scrolled": false
   },
   "outputs": [
    {
     "data": {
      "text/plain": [
       "<AxesSubplot:>"
      ]
     },
     "execution_count": 41,
     "metadata": {},
     "output_type": "execute_result"
    },
    {
     "data": {
      "image/png": "[encoded data removed]",
      "text/plain": [
       "<Figure size 432x288 with 1 Axes>"
      ]
     },
     "metadata": {
      "needs_background": "light"
     },
     "output_type": "display_data"
    }
   ],
   "source": [
    "data2.powerPS.value_counts().plot()"
   ]
  },
  {
   "cell_type": "markdown",
   "id": "f923ef63",
   "metadata": {},
   "source": [
    "**Ну и хвост, а максимальная зарегистрированная мощность двигателя 16к, вроде(здесь же белазы не продают)**"
   ]
  },
  {
   "cell_type": "markdown",
   "id": "9bd88171",
   "metadata": {},
   "source": [
    "*уберём нулевую мощность, чтобы не портили выборку*"
   ]
  },
  {
   "cell_type": "code",
   "execution_count": 42,
   "id": "d735b281",
   "metadata": {},
   "outputs": [],
   "source": [
    "data_power = data2.loc[data2['powerPS'] != 0]"
   ]
  },
  {
   "cell_type": "code",
   "execution_count": 43,
   "id": "603e3b70",
   "metadata": {},
   "outputs": [],
   "source": [
    "lower_bound_pow = data_power.powerPS.quantile(q=0.01)\n",
    "upper_bound_pow = data_power.powerPS.quantile(q=0.99)"
   ]
  },
  {
   "cell_type": "code",
   "execution_count": 44,
   "id": "e113461b",
   "metadata": {
    "scrolled": false
   },
   "outputs": [
    {
     "name": "stdout",
     "output_type": "stream",
     "text": [
      "45.0\n",
      "349.0\n"
     ]
    }
   ],
   "source": [
    "print(lower_bound_pow)\n",
    "print(upper_bound_pow)"
   ]
  },
  {
   "cell_type": "markdown",
   "id": "a51daa72",
   "metadata": {},
   "source": [
    "**Ставим границы разброса**"
   ]
  },
  {
   "cell_type": "code",
   "execution_count": 45,
   "id": "74530655",
   "metadata": {
    "scrolled": false
   },
   "outputs": [
    {
     "data": {
      "text/plain": [
       "38579"
      ]
     },
     "execution_count": 45,
     "metadata": {},
     "output_type": "execute_result"
    }
   ],
   "source": [
    "data2.loc[(data2['powerPS'] > upper_bound_pow) | (data2['powerPS'] < lower_bound_pow)][\"powerPS\"].count()"
   ]
  },
  {
   "cell_type": "markdown",
   "id": "cf69a502",
   "metadata": {},
   "source": [
    "*ну не так уж и много, можно будет заполнить пропуски*"
   ]
  },
  {
   "cell_type": "code",
   "execution_count": 46,
   "id": "93d032fb",
   "metadata": {},
   "outputs": [],
   "source": [
    "def over2nan4pow(val):\n",
    "    if val > upper_bound_pow or val < lower_bound_pow:\n",
    "        return np.nan\n",
    "    else:\n",
    "        return val"
   ]
  },
  {
   "cell_type": "code",
   "execution_count": 47,
   "id": "5bd384c8",
   "metadata": {},
   "outputs": [],
   "source": [
    "data_pow = data2.copy()"
   ]
  },
  {
   "cell_type": "code",
   "execution_count": 48,
   "id": "4d4c7a9a",
   "metadata": {},
   "outputs": [],
   "source": [
    "data_pow.powerPS = data_pow.powerPS.apply(over2nan4pow)"
   ]
  },
  {
   "cell_type": "code",
   "execution_count": 49,
   "id": "6814047c",
   "metadata": {
    "scrolled": true
   },
   "outputs": [
    {
     "data": {
      "text/plain": [
       "<AxesSubplot:>"
      ]
     },
     "execution_count": 49,
     "metadata": {},
     "output_type": "execute_result"
    },
    {
     "data": {
      "image/png": "[encoded data removed]",
      "text/plain": [
       "<Figure size 432x288 with 1 Axes>"
      ]
     },
     "metadata": {
      "needs_background": "light"
     },
     "output_type": "display_data"
    }
   ],
   "source": [
    "data_pow.powerPS.hist()"
   ]
  },
  {
   "cell_type": "code",
   "execution_count": 50,
   "id": "b66e1ce3",
   "metadata": {},
   "outputs": [
    {
     "name": "stdout",
     "output_type": "stream",
     "text": [
      "<class 'pandas.core.frame.DataFrame'>\n",
      "Int64Index: 338927 entries, 0 to 371527\n",
      "Data columns (total 21 columns):\n",
      " #   Column               Non-Null Count   Dtype   \n",
      "---  ------               --------------   -----   \n",
      " 0   dateCrawled          338927 non-null  object  \n",
      " 1   name                 338927 non-null  object  \n",
      " 2   seller               338927 non-null  object  \n",
      " 3   offerType            338927 non-null  object  \n",
      " 4   price                338927 non-null  int64   \n",
      " 5   abtest               338927 non-null  object  \n",
      " 6   vehicleType          316856 non-null  object  \n",
      " 7   yearOfRegistration   338927 non-null  float64 \n",
      " 8   gearbox              322391 non-null  object  \n",
      " 9   powerPS              300348 non-null  float64 \n",
      " 10  model                322700 non-null  object  \n",
      " 11  kilometer            338927 non-null  int64   \n",
      " 12  monthOfRegistration  338927 non-null  int64   \n",
      " 13  fuelType             313648 non-null  object  \n",
      " 14  brand                338927 non-null  object  \n",
      " 15  notRepairedDamage    278266 non-null  object  \n",
      " 16  dateCreated          338927 non-null  object  \n",
      " 17  nrOfPictures         338927 non-null  int64   \n",
      " 18  postalCode           338927 non-null  int64   \n",
      " 19  lastSeen             338927 non-null  object  \n",
      " 20  kilometer_cat        338927 non-null  category\n",
      "dtypes: category(1), float64(2), int64(5), object(13)\n",
      "memory usage: 54.6+ MB\n"
     ]
    }
   ],
   "source": [
    "data_pow.info()"
   ]
  },
  {
   "cell_type": "code",
   "execution_count": 51,
   "id": "72b01082",
   "metadata": {},
   "outputs": [],
   "source": [
    "corr_matrix = data_pow.corr()"
   ]
  },
  {
   "cell_type": "code",
   "execution_count": 52,
   "id": "977564b4",
   "metadata": {
    "scrolled": false
   },
   "outputs": [
    {
     "data": {
      "text/plain": [
       "price                  1.000000\n",
       "powerPS                0.014242\n",
       "yearOfRegistration     0.003090\n",
       "postalCode            -0.000923\n",
       "monthOfRegistration   -0.003140\n",
       "kilometer             -0.011455\n",
       "nrOfPictures                NaN\n",
       "Name: price, dtype: float64"
      ]
     },
     "execution_count": 52,
     "metadata": {},
     "output_type": "execute_result"
    }
   ],
   "source": [
    "corr_matrix[\"price\"].sort_values(ascending=False)"
   ]
  },
  {
   "cell_type": "code",
   "execution_count": 53,
   "id": "655266f3",
   "metadata": {},
   "outputs": [],
   "source": [
    "data3 = data_pow.copy()"
   ]
  },
  {
   "cell_type": "markdown",
   "id": "69266f7d",
   "metadata": {},
   "source": [
    "### 6 Заполните пропущенные значения в данных"
   ]
  },
  {
   "cell_type": "code",
   "execution_count": 54,
   "id": "0877c3f3",
   "metadata": {},
   "outputs": [],
   "source": [
    "from sklearn.impute import SimpleImputer\n",
    "imputer = SimpleImputer(strategy=\"median\")"
   ]
  },
  {
   "cell_type": "code",
   "execution_count": 55,
   "id": "3a28fc3f",
   "metadata": {
    "scrolled": true
   },
   "outputs": [],
   "source": [
    "data_imp = data3.get([\"powerPS\"])"
   ]
  },
  {
   "cell_type": "code",
   "execution_count": 56,
   "id": "553c9b61",
   "metadata": {
    "scrolled": true
   },
   "outputs": [
    {
     "data": {
      "text/plain": [
       "SimpleImputer(strategy='median')"
      ]
     },
     "execution_count": 56,
     "metadata": {},
     "output_type": "execute_result"
    }
   ],
   "source": [
    "imputer.fit(data_imp)"
   ]
  },
  {
   "cell_type": "code",
   "execution_count": 57,
   "id": "9c3d90ef",
   "metadata": {},
   "outputs": [
    {
     "data": {
      "text/plain": [
       "array([116.])"
      ]
     },
     "execution_count": 57,
     "metadata": {},
     "output_type": "execute_result"
    }
   ],
   "source": [
    "imputer.statistics_"
   ]
  },
  {
   "cell_type": "code",
   "execution_count": 58,
   "id": "efc5afee",
   "metadata": {},
   "outputs": [],
   "source": [
    "data_imp = imputer.transform(data_imp)"
   ]
  },
  {
   "cell_type": "code",
   "execution_count": 59,
   "id": "8b497747",
   "metadata": {},
   "outputs": [],
   "source": [
    "data3.powerPS = data_imp"
   ]
  },
  {
   "cell_type": "code",
   "execution_count": 60,
   "id": "57c534cd",
   "metadata": {},
   "outputs": [
    {
     "name": "stdout",
     "output_type": "stream",
     "text": [
      "<class 'pandas.core.frame.DataFrame'>\n",
      "Int64Index: 338927 entries, 0 to 371527\n",
      "Data columns (total 21 columns):\n",
      " #   Column               Non-Null Count   Dtype   \n",
      "---  ------               --------------   -----   \n",
      " 0   dateCrawled          338927 non-null  object  \n",
      " 1   name                 338927 non-null  object  \n",
      " 2   seller               338927 non-null  object  \n",
      " 3   offerType            338927 non-null  object  \n",
      " 4   price                338927 non-null  int64   \n",
      " 5   abtest               338927 non-null  object  \n",
      " 6   vehicleType          316856 non-null  object  \n",
      " 7   yearOfRegistration   338927 non-null  float64 \n",
      " 8   gearbox              322391 non-null  object  \n",
      " 9   powerPS              338927 non-null  float64 \n",
      " 10  model                322700 non-null  object  \n",
      " 11  kilometer            338927 non-null  int64   \n",
      " 12  monthOfRegistration  338927 non-null  int64   \n",
      " 13  fuelType             313648 non-null  object  \n",
      " 14  brand                338927 non-null  object  \n",
      " 15  notRepairedDamage    278266 non-null  object  \n",
      " 16  dateCreated          338927 non-null  object  \n",
      " 17  nrOfPictures         338927 non-null  int64   \n",
      " 18  postalCode           338927 non-null  int64   \n",
      " 19  lastSeen             338927 non-null  object  \n",
      " 20  kilometer_cat        338927 non-null  category\n",
      "dtypes: category(1), float64(2), int64(5), object(13)\n",
      "memory usage: 54.6+ MB\n"
     ]
    }
   ],
   "source": [
    "data3.info()"
   ]
  },
  {
   "cell_type": "code",
   "execution_count": 61,
   "id": "55bd96ef",
   "metadata": {
    "scrolled": true
   },
   "outputs": [
    {
     "data": {
      "text/plain": [
       "privat        338925\n",
       "gewerblich         2\n",
       "Name: seller, dtype: int64"
      ]
     },
     "execution_count": 61,
     "metadata": {},
     "output_type": "execute_result"
    }
   ],
   "source": [
    "data3[\"seller\"].value_counts()"
   ]
  },
  {
   "cell_type": "code",
   "execution_count": 62,
   "id": "7f497afb",
   "metadata": {},
   "outputs": [],
   "source": [
    "clear_data = data3.drop(columns=['lastSeen', 'nrOfPictures', 'seller', 'name', 'offerType'])"
   ]
  },
  {
   "cell_type": "code",
   "execution_count": 63,
   "id": "c142d5f3",
   "metadata": {},
   "outputs": [],
   "source": [
    "clear_data_model = clear_data.drop(columns=['dateCrawled', 'dateCreated'])\n",
    "clear_data = clear_data_model.drop(columns=['model'])"
   ]
  },
  {
   "cell_type": "code",
   "execution_count": 64,
   "id": "3783d9ab",
   "metadata": {
    "scrolled": true
   },
   "outputs": [
    {
     "data": {
      "text/plain": [
       "(338927, 13)"
      ]
     },
     "execution_count": 64,
     "metadata": {},
     "output_type": "execute_result"
    }
   ],
   "source": [
    "clear_data.shape"
   ]
  },
  {
   "cell_type": "code",
   "execution_count": 65,
   "id": "3fd15b1c",
   "metadata": {},
   "outputs": [
    {
     "data": {
      "text/plain": [
       "(338927, 14)"
      ]
     },
     "execution_count": 65,
     "metadata": {},
     "output_type": "execute_result"
    }
   ],
   "source": [
    "clear_data_model.shape"
   ]
  },
  {
   "cell_type": "code",
   "execution_count": 66,
   "id": "6018d1c9",
   "metadata": {},
   "outputs": [
    {
     "name": "stdout",
     "output_type": "stream",
     "text": [
      "<class 'pandas.core.frame.DataFrame'>\n",
      "Int64Index: 338927 entries, 0 to 371527\n",
      "Data columns (total 13 columns):\n",
      " #   Column               Non-Null Count   Dtype   \n",
      "---  ------               --------------   -----   \n",
      " 0   price                338927 non-null  int64   \n",
      " 1   abtest               338927 non-null  object  \n",
      " 2   vehicleType          316856 non-null  object  \n",
      " 3   yearOfRegistration   338927 non-null  float64 \n",
      " 4   gearbox              322391 non-null  object  \n",
      " 5   powerPS              338927 non-null  float64 \n",
      " 6   kilometer            338927 non-null  int64   \n",
      " 7   monthOfRegistration  338927 non-null  int64   \n",
      " 8   fuelType             313648 non-null  object  \n",
      " 9   brand                338927 non-null  object  \n",
      " 10  notRepairedDamage    278266 non-null  object  \n",
      " 11  postalCode           338927 non-null  int64   \n",
      " 12  kilometer_cat        338927 non-null  category\n",
      "dtypes: category(1), float64(2), int64(4), object(6)\n",
      "memory usage: 33.9+ MB\n"
     ]
    }
   ],
   "source": [
    "clear_data.info()"
   ]
  },
  {
   "cell_type": "markdown",
   "id": "2363681b",
   "metadata": {},
   "source": [
    "### 3 Выполните масштабирование количественных признаков; Постройте диаграммы BoxPlot для признаков до и после масштабирования"
   ]
  },
  {
   "cell_type": "code",
   "execution_count": 67,
   "id": "c0ef6072",
   "metadata": {},
   "outputs": [],
   "source": [
    "data_x = clear_data.copy()"
   ]
  },
  {
   "cell_type": "code",
   "execution_count": 68,
   "id": "e7a522a1",
   "metadata": {
    "scrolled": true
   },
   "outputs": [],
   "source": [
    "numerical_columns = ['yearOfRegistration', 'powerPS', 'kilometer', 'monthOfRegistration', 'postalCode']"
   ]
  },
  {
   "cell_type": "code",
   "execution_count": 69,
   "id": "fd330510",
   "metadata": {
    "scrolled": false
   },
   "outputs": [
    {
     "data": {
      "image/png": "[encoded data removed]",
      "text/plain": [
       "<Figure size 1440x720 with 1 Axes>"
      ]
     },
     "metadata": {
      "needs_background": "light"
     },
     "output_type": "display_data"
    }
   ],
   "source": [
    "plt.figure(figsize=figsize)\n",
    "sns.boxplot(data=data_x[numerical_columns])\n",
    "plt.show()"
   ]
  },
  {
   "cell_type": "code",
   "execution_count": 70,
   "id": "c6662578",
   "metadata": {
    "scrolled": true
   },
   "outputs": [
    {
     "data": {
      "text/html": [
       "<div>\n",
       "<style scoped>\n",
       "    .dataframe tbody tr th:only-of-type {\n",
       "        vertical-align: middle;\n",
       "    }\n",
       "\n",
       "    .dataframe tbody tr th {\n",
       "        vertical-align: top;\n",
       "    }\n",
       "\n",
       "    .dataframe thead th {\n",
       "        text-align: right;\n",
       "    }\n",
       "</style>\n",
       "<table border=\"1\" class=\"dataframe\">\n",
       "  <thead>\n",
       "    <tr style=\"text-align: right;\">\n",
       "      <th></th>\n",
       "      <th>price</th>\n",
       "      <th>yearOfRegistration</th>\n",
       "      <th>powerPS</th>\n",
       "      <th>kilometer</th>\n",
       "      <th>monthOfRegistration</th>\n",
       "      <th>postalCode</th>\n",
       "    </tr>\n",
       "  </thead>\n",
       "  <tbody>\n",
       "    <tr>\n",
       "      <th>count</th>\n",
       "      <td>3.389270e+05</td>\n",
       "      <td>338927.000000</td>\n",
       "      <td>338927.000000</td>\n",
       "      <td>338927.000000</td>\n",
       "      <td>338927.000000</td>\n",
       "      <td>338927.000000</td>\n",
       "    </tr>\n",
       "    <tr>\n",
       "      <th>mean</th>\n",
       "      <td>1.021979e+04</td>\n",
       "      <td>0.586311</td>\n",
       "      <td>0.260467</td>\n",
       "      <td>0.831670</td>\n",
       "      <td>0.484417</td>\n",
       "      <td>0.504853</td>\n",
       "    </tr>\n",
       "    <tr>\n",
       "      <th>std</th>\n",
       "      <td>5.936434e+05</td>\n",
       "      <td>0.198003</td>\n",
       "      <td>0.170374</td>\n",
       "      <td>0.274769</td>\n",
       "      <td>0.307245</td>\n",
       "      <td>0.260643</td>\n",
       "    </tr>\n",
       "    <tr>\n",
       "      <th>min</th>\n",
       "      <td>0.000000e+00</td>\n",
       "      <td>0.000000</td>\n",
       "      <td>0.000000</td>\n",
       "      <td>0.000000</td>\n",
       "      <td>0.000000</td>\n",
       "      <td>0.000000</td>\n",
       "    </tr>\n",
       "    <tr>\n",
       "      <th>25%</th>\n",
       "      <td>1.200000e+03</td>\n",
       "      <td>0.433333</td>\n",
       "      <td>0.148026</td>\n",
       "      <td>0.655172</td>\n",
       "      <td>0.250000</td>\n",
       "      <td>0.300775</td>\n",
       "    </tr>\n",
       "    <tr>\n",
       "      <th>50%</th>\n",
       "      <td>3.000000e+03</td>\n",
       "      <td>0.566667</td>\n",
       "      <td>0.233553</td>\n",
       "      <td>1.000000</td>\n",
       "      <td>0.500000</td>\n",
       "      <td>0.492677</td>\n",
       "    </tr>\n",
       "    <tr>\n",
       "      <th>75%</th>\n",
       "      <td>7.500000e+03</td>\n",
       "      <td>0.733333</td>\n",
       "      <td>0.345395</td>\n",
       "      <td>1.000000</td>\n",
       "      <td>0.750000</td>\n",
       "      <td>0.713871</td>\n",
       "    </tr>\n",
       "    <tr>\n",
       "      <th>max</th>\n",
       "      <td>1.000000e+08</td>\n",
       "      <td>1.000000</td>\n",
       "      <td>1.000000</td>\n",
       "      <td>1.000000</td>\n",
       "      <td>1.000000</td>\n",
       "      <td>1.000000</td>\n",
       "    </tr>\n",
       "  </tbody>\n",
       "</table>\n",
       "</div>"
      ],
      "text/plain": [
       "              price  yearOfRegistration        powerPS      kilometer  \\\n",
       "count  3.389270e+05       338927.000000  338927.000000  338927.000000   \n",
       "mean   1.021979e+04            0.586311       0.260467       0.831670   \n",
       "std    5.936434e+05            0.198003       0.170374       0.274769   \n",
       "min    0.000000e+00            0.000000       0.000000       0.000000   \n",
       "25%    1.200000e+03            0.433333       0.148026       0.655172   \n",
       "50%    3.000000e+03            0.566667       0.233553       1.000000   \n",
       "75%    7.500000e+03            0.733333       0.345395       1.000000   \n",
       "max    1.000000e+08            1.000000       1.000000       1.000000   \n",
       "\n",
       "       monthOfRegistration     postalCode  \n",
       "count        338927.000000  338927.000000  \n",
       "mean              0.484417       0.504853  \n",
       "std               0.307245       0.260643  \n",
       "min               0.000000       0.000000  \n",
       "25%               0.250000       0.300775  \n",
       "50%               0.500000       0.492677  \n",
       "75%               0.750000       0.713871  \n",
       "max               1.000000       1.000000  "
      ]
     },
     "execution_count": 70,
     "metadata": {},
     "output_type": "execute_result"
    }
   ],
   "source": [
    "scaler = MinMaxScaler()\n",
    "data_x[numerical_columns] = scaler.fit_transform(data_x[numerical_columns])\n",
    "data_x.describe()"
   ]
  },
  {
   "cell_type": "code",
   "execution_count": 71,
   "id": "ff3de975",
   "metadata": {
    "scrolled": false
   },
   "outputs": [
    {
     "data": {
      "image/png": "[encoded data removed]",
      "text/plain": [
       "<Figure size 1440x720 with 1 Axes>"
      ]
     },
     "metadata": {
      "needs_background": "light"
     },
     "output_type": "display_data"
    }
   ],
   "source": [
    "plt.figure(figsize=figsize)\n",
    "sns.boxplot(data=data_x[numerical_columns])\n",
    "plt.show()"
   ]
  },
  {
   "cell_type": "markdown",
   "id": "7de1c644",
   "metadata": {},
   "source": [
    "### 4 Выполните замену категориальных признаков"
   ]
  },
  {
   "cell_type": "code",
   "execution_count": 72,
   "id": "425dab0b",
   "metadata": {},
   "outputs": [],
   "source": [
    "def replace_gearbox(name):\n",
    "    if name == \"manuell\":\n",
    "        return 0\n",
    "    elif name == \"automatik\":\n",
    "        return 1\n",
    "    else:\n",
    "        return -1"
   ]
  },
  {
   "cell_type": "code",
   "execution_count": 73,
   "id": "e2221491",
   "metadata": {},
   "outputs": [],
   "source": [
    "def replace_notRepairedDamage(name):\n",
    "    if name == \"ja\":\n",
    "        return -1\n",
    "    elif name == \"nein\":\n",
    "        return 1\n",
    "    else:\n",
    "        return 0"
   ]
  },
  {
   "cell_type": "code",
   "execution_count": 74,
   "id": "58ec2024",
   "metadata": {},
   "outputs": [],
   "source": [
    "def replace_abtest(name):\n",
    "    if name == \"control\":\n",
    "        return 0\n",
    "    elif name == \"test\":\n",
    "        return 1\n",
    "    else:\n",
    "        return -1"
   ]
  },
  {
   "cell_type": "markdown",
   "id": "95d9030f",
   "metadata": {},
   "source": [
    "hash_space = 25\n",
    "def hash_data(name):\n",
    "    return hash(name) % hash_space"
   ]
  },
  {
   "cell_type": "markdown",
   "id": "631ea414",
   "metadata": {},
   "source": [
    "data_x.vehicleType = data_x.vehicleType.apply(str).apply(hash_data)"
   ]
  },
  {
   "cell_type": "markdown",
   "id": "a412a4fa",
   "metadata": {},
   "source": [
    "hash_space = 64\n",
    "data_x.brand = data_x.brand.apply(str).apply(hash_data)"
   ]
  },
  {
   "cell_type": "markdown",
   "id": "0b8841a1",
   "metadata": {},
   "source": [
    "hash_space = 16\n",
    "data_x.fuelType = data_x.fuelType.apply(str).apply(hash_data)"
   ]
  },
  {
   "cell_type": "code",
   "execution_count": 75,
   "id": "0505eb9c",
   "metadata": {},
   "outputs": [],
   "source": [
    "data_x.abtest = data_x.abtest.apply(str).apply(replace_abtest)"
   ]
  },
  {
   "cell_type": "code",
   "execution_count": 76,
   "id": "6c63ab50",
   "metadata": {},
   "outputs": [],
   "source": [
    "data_x.gearbox = data_x.gearbox.apply(str).apply(replace_gearbox)"
   ]
  },
  {
   "cell_type": "code",
   "execution_count": 77,
   "id": "cffb944c",
   "metadata": {},
   "outputs": [],
   "source": [
    "data_x.notRepairedDamage = data_x.notRepairedDamage.apply(str).apply(replace_notRepairedDamage)"
   ]
  },
  {
   "cell_type": "code",
   "execution_count": 78,
   "id": "69145a7a",
   "metadata": {},
   "outputs": [],
   "source": [
    "cat_cols = ['vehicleType', 'brand', 'fuelType']"
   ]
  },
  {
   "cell_type": "code",
   "execution_count": 79,
   "id": "34302b25",
   "metadata": {},
   "outputs": [
    {
     "data": {
      "text/plain": [
       "(338927, 13)"
      ]
     },
     "execution_count": 79,
     "metadata": {},
     "output_type": "execute_result"
    }
   ],
   "source": [
    "data_x.shape"
   ]
  },
  {
   "cell_type": "code",
   "execution_count": 80,
   "id": "b5a0cfc2",
   "metadata": {
    "scrolled": true
   },
   "outputs": [
    {
     "name": "stdout",
     "output_type": "stream",
     "text": [
      "<class 'pandas.core.frame.DataFrame'>\n",
      "Int64Index: 338927 entries, 0 to 371527\n",
      "Data columns (total 13 columns):\n",
      " #   Column               Non-Null Count   Dtype   \n",
      "---  ------               --------------   -----   \n",
      " 0   price                338927 non-null  int64   \n",
      " 1   abtest               338927 non-null  int64   \n",
      " 2   vehicleType          316856 non-null  object  \n",
      " 3   yearOfRegistration   338927 non-null  float64 \n",
      " 4   gearbox              338927 non-null  int64   \n",
      " 5   powerPS              338927 non-null  float64 \n",
      " 6   kilometer            338927 non-null  float64 \n",
      " 7   monthOfRegistration  338927 non-null  float64 \n",
      " 8   fuelType             313648 non-null  object  \n",
      " 9   brand                338927 non-null  object  \n",
      " 10  notRepairedDamage    338927 non-null  int64   \n",
      " 11  postalCode           338927 non-null  float64 \n",
      " 12  kilometer_cat        338927 non-null  category\n",
      "dtypes: category(1), float64(5), int64(4), object(3)\n",
      "memory usage: 33.9+ MB\n"
     ]
    }
   ],
   "source": [
    "data_x.info()"
   ]
  },
  {
   "cell_type": "code",
   "execution_count": 81,
   "id": "4a083773",
   "metadata": {},
   "outputs": [],
   "source": [
    "data_x = data_x.dropna()"
   ]
  },
  {
   "cell_type": "code",
   "execution_count": 82,
   "id": "7ae2a52c",
   "metadata": {},
   "outputs": [
    {
     "data": {
      "text/plain": [
       "(302565, 13)"
      ]
     },
     "execution_count": 82,
     "metadata": {},
     "output_type": "execute_result"
    }
   ],
   "source": [
    "data_x.shape"
   ]
  },
  {
   "cell_type": "code",
   "execution_count": 83,
   "id": "213495bc",
   "metadata": {},
   "outputs": [
    {
     "name": "stdout",
     "output_type": "stream",
     "text": [
      "<class 'pandas.core.frame.DataFrame'>\n",
      "Int64Index: 302565 entries, 1 to 371527\n",
      "Data columns (total 13 columns):\n",
      " #   Column               Non-Null Count   Dtype   \n",
      "---  ------               --------------   -----   \n",
      " 0   price                302565 non-null  int64   \n",
      " 1   abtest               302565 non-null  int64   \n",
      " 2   vehicleType          302565 non-null  object  \n",
      " 3   yearOfRegistration   302565 non-null  float64 \n",
      " 4   gearbox              302565 non-null  int64   \n",
      " 5   powerPS              302565 non-null  float64 \n",
      " 6   kilometer            302565 non-null  float64 \n",
      " 7   monthOfRegistration  302565 non-null  float64 \n",
      " 8   fuelType             302565 non-null  object  \n",
      " 9   brand                302565 non-null  object  \n",
      " 10  notRepairedDamage    302565 non-null  int64   \n",
      " 11  postalCode           302565 non-null  float64 \n",
      " 12  kilometer_cat        302565 non-null  category\n",
      "dtypes: category(1), float64(5), int64(4), object(3)\n",
      "memory usage: 30.3+ MB\n"
     ]
    }
   ],
   "source": [
    "data_x.info()"
   ]
  },
  {
   "cell_type": "code",
   "execution_count": 84,
   "id": "910c0b66",
   "metadata": {},
   "outputs": [],
   "source": [
    "le = LabelEncoder()"
   ]
  },
  {
   "cell_type": "code",
   "execution_count": 85,
   "id": "39c10a42",
   "metadata": {
    "scrolled": false
   },
   "outputs": [
    {
     "data": {
      "text/html": [
       "<div>\n",
       "<style scoped>\n",
       "    .dataframe tbody tr th:only-of-type {\n",
       "        vertical-align: middle;\n",
       "    }\n",
       "\n",
       "    .dataframe tbody tr th {\n",
       "        vertical-align: top;\n",
       "    }\n",
       "\n",
       "    .dataframe thead th {\n",
       "        text-align: right;\n",
       "    }\n",
       "</style>\n",
       "<table border=\"1\" class=\"dataframe\">\n",
       "  <thead>\n",
       "    <tr style=\"text-align: right;\">\n",
       "      <th></th>\n",
       "      <th>vehicleType</th>\n",
       "      <th>brand</th>\n",
       "      <th>fuelType</th>\n",
       "    </tr>\n",
       "  </thead>\n",
       "  <tbody>\n",
       "    <tr>\n",
       "      <th>1</th>\n",
       "      <td>3</td>\n",
       "      <td>1</td>\n",
       "      <td>3</td>\n",
       "    </tr>\n",
       "    <tr>\n",
       "      <th>2</th>\n",
       "      <td>7</td>\n",
       "      <td>14</td>\n",
       "      <td>3</td>\n",
       "    </tr>\n",
       "    <tr>\n",
       "      <th>3</th>\n",
       "      <td>4</td>\n",
       "      <td>38</td>\n",
       "      <td>1</td>\n",
       "    </tr>\n",
       "    <tr>\n",
       "      <th>4</th>\n",
       "      <td>4</td>\n",
       "      <td>31</td>\n",
       "      <td>3</td>\n",
       "    </tr>\n",
       "    <tr>\n",
       "      <th>5</th>\n",
       "      <td>6</td>\n",
       "      <td>2</td>\n",
       "      <td>1</td>\n",
       "    </tr>\n",
       "    <tr>\n",
       "      <th>6</th>\n",
       "      <td>2</td>\n",
       "      <td>25</td>\n",
       "      <td>1</td>\n",
       "    </tr>\n",
       "    <tr>\n",
       "      <th>8</th>\n",
       "      <td>1</td>\n",
       "      <td>10</td>\n",
       "      <td>1</td>\n",
       "    </tr>\n",
       "    <tr>\n",
       "      <th>10</th>\n",
       "      <td>6</td>\n",
       "      <td>19</td>\n",
       "      <td>1</td>\n",
       "    </tr>\n",
       "    <tr>\n",
       "      <th>11</th>\n",
       "      <td>5</td>\n",
       "      <td>38</td>\n",
       "      <td>3</td>\n",
       "    </tr>\n",
       "    <tr>\n",
       "      <th>12</th>\n",
       "      <td>5</td>\n",
       "      <td>38</td>\n",
       "      <td>1</td>\n",
       "    </tr>\n",
       "  </tbody>\n",
       "</table>\n",
       "</div>"
      ],
      "text/plain": [
       "    vehicleType  brand  fuelType\n",
       "1             3      1         3\n",
       "2             7     14         3\n",
       "3             4     38         1\n",
       "4             4     31         3\n",
       "5             6      2         1\n",
       "6             2     25         1\n",
       "8             1     10         1\n",
       "10            6     19         1\n",
       "11            5     38         3\n",
       "12            5     38         1"
      ]
     },
     "execution_count": 85,
     "metadata": {},
     "output_type": "execute_result"
    }
   ],
   "source": [
    "data_x[cat_cols] = data_x[cat_cols].apply(lambda col: le.fit_transform(col))\n",
    "data_x[cat_cols].head(10)"
   ]
  },
  {
   "cell_type": "code",
   "execution_count": 86,
   "id": "429fa107",
   "metadata": {
    "scrolled": true
   },
   "outputs": [
    {
     "name": "stdout",
     "output_type": "stream",
     "text": [
      "<class 'pandas.core.frame.DataFrame'>\n",
      "Int64Index: 302565 entries, 1 to 371527\n",
      "Data columns (total 13 columns):\n",
      " #   Column               Non-Null Count   Dtype   \n",
      "---  ------               --------------   -----   \n",
      " 0   price                302565 non-null  int64   \n",
      " 1   abtest               302565 non-null  int64   \n",
      " 2   vehicleType          302565 non-null  int64   \n",
      " 3   yearOfRegistration   302565 non-null  float64 \n",
      " 4   gearbox              302565 non-null  int64   \n",
      " 5   powerPS              302565 non-null  float64 \n",
      " 6   kilometer            302565 non-null  float64 \n",
      " 7   monthOfRegistration  302565 non-null  float64 \n",
      " 8   fuelType             302565 non-null  int64   \n",
      " 9   brand                302565 non-null  int64   \n",
      " 10  notRepairedDamage    302565 non-null  int64   \n",
      " 11  postalCode           302565 non-null  float64 \n",
      " 12  kilometer_cat        302565 non-null  category\n",
      "dtypes: category(1), float64(5), int64(7)\n",
      "memory usage: 30.3 MB\n"
     ]
    }
   ],
   "source": [
    "data_x.info()"
   ]
  },
  {
   "cell_type": "code",
   "execution_count": 87,
   "id": "5455f266",
   "metadata": {
    "scrolled": true
   },
   "outputs": [
    {
     "data": {
      "text/html": [
       "<div>\n",
       "<style scoped>\n",
       "    .dataframe tbody tr th:only-of-type {\n",
       "        vertical-align: middle;\n",
       "    }\n",
       "\n",
       "    .dataframe tbody tr th {\n",
       "        vertical-align: top;\n",
       "    }\n",
       "\n",
       "    .dataframe thead th {\n",
       "        text-align: right;\n",
       "    }\n",
       "</style>\n",
       "<table border=\"1\" class=\"dataframe\">\n",
       "  <thead>\n",
       "    <tr style=\"text-align: right;\">\n",
       "      <th></th>\n",
       "      <th>price</th>\n",
       "      <th>abtest</th>\n",
       "      <th>vehicleType</th>\n",
       "      <th>yearOfRegistration</th>\n",
       "      <th>gearbox</th>\n",
       "      <th>powerPS</th>\n",
       "      <th>kilometer</th>\n",
       "      <th>monthOfRegistration</th>\n",
       "      <th>fuelType</th>\n",
       "      <th>brand</th>\n",
       "      <th>notRepairedDamage</th>\n",
       "      <th>postalCode</th>\n",
       "      <th>kilometer_cat</th>\n",
       "    </tr>\n",
       "  </thead>\n",
       "  <tbody>\n",
       "    <tr>\n",
       "      <th>1</th>\n",
       "      <td>18300</td>\n",
       "      <td>1</td>\n",
       "      <td>3</td>\n",
       "      <td>0.833333</td>\n",
       "      <td>0</td>\n",
       "      <td>0.476974</td>\n",
       "      <td>0.827586</td>\n",
       "      <td>0.416667</td>\n",
       "      <td>3</td>\n",
       "      <td>1</td>\n",
       "      <td>-1</td>\n",
       "      <td>0.665989</td>\n",
       "      <td>1</td>\n",
       "    </tr>\n",
       "    <tr>\n",
       "      <th>2</th>\n",
       "      <td>9800</td>\n",
       "      <td>1</td>\n",
       "      <td>7</td>\n",
       "      <td>0.600000</td>\n",
       "      <td>1</td>\n",
       "      <td>0.388158</td>\n",
       "      <td>0.827586</td>\n",
       "      <td>0.666667</td>\n",
       "      <td>3</td>\n",
       "      <td>14</td>\n",
       "      <td>0</td>\n",
       "      <td>0.903792</td>\n",
       "      <td>1</td>\n",
       "    </tr>\n",
       "    <tr>\n",
       "      <th>3</th>\n",
       "      <td>1500</td>\n",
       "      <td>1</td>\n",
       "      <td>4</td>\n",
       "      <td>0.500000</td>\n",
       "      <td>0</td>\n",
       "      <td>0.098684</td>\n",
       "      <td>1.000000</td>\n",
       "      <td>0.500000</td>\n",
       "      <td>1</td>\n",
       "      <td>38</td>\n",
       "      <td>1</td>\n",
       "      <td>0.909796</td>\n",
       "      <td>2</td>\n",
       "    </tr>\n",
       "    <tr>\n",
       "      <th>4</th>\n",
       "      <td>3600</td>\n",
       "      <td>1</td>\n",
       "      <td>4</td>\n",
       "      <td>0.733333</td>\n",
       "      <td>0</td>\n",
       "      <td>0.078947</td>\n",
       "      <td>0.586207</td>\n",
       "      <td>0.583333</td>\n",
       "      <td>3</td>\n",
       "      <td>31</td>\n",
       "      <td>1</td>\n",
       "      <td>0.600115</td>\n",
       "      <td>1</td>\n",
       "    </tr>\n",
       "    <tr>\n",
       "      <th>5</th>\n",
       "      <td>650</td>\n",
       "      <td>1</td>\n",
       "      <td>6</td>\n",
       "      <td>0.300000</td>\n",
       "      <td>0</td>\n",
       "      <td>0.187500</td>\n",
       "      <td>1.000000</td>\n",
       "      <td>0.833333</td>\n",
       "      <td>1</td>\n",
       "      <td>2</td>\n",
       "      <td>-1</td>\n",
       "      <td>0.330614</td>\n",
       "      <td>2</td>\n",
       "    </tr>\n",
       "  </tbody>\n",
       "</table>\n",
       "</div>"
      ],
      "text/plain": [
       "   price  abtest  vehicleType  yearOfRegistration  gearbox   powerPS  \\\n",
       "1  18300       1            3            0.833333        0  0.476974   \n",
       "2   9800       1            7            0.600000        1  0.388158   \n",
       "3   1500       1            4            0.500000        0  0.098684   \n",
       "4   3600       1            4            0.733333        0  0.078947   \n",
       "5    650       1            6            0.300000        0  0.187500   \n",
       "\n",
       "   kilometer  monthOfRegistration  fuelType  brand  notRepairedDamage  \\\n",
       "1   0.827586             0.416667         3      1                 -1   \n",
       "2   0.827586             0.666667         3     14                  0   \n",
       "3   1.000000             0.500000         1     38                  1   \n",
       "4   0.586207             0.583333         3     31                  1   \n",
       "5   1.000000             0.833333         1      2                 -1   \n",
       "\n",
       "   postalCode kilometer_cat  \n",
       "1    0.665989             1  \n",
       "2    0.903792             1  \n",
       "3    0.909796             2  \n",
       "4    0.600115             1  \n",
       "5    0.330614             2  "
      ]
     },
     "execution_count": 87,
     "metadata": {},
     "output_type": "execute_result"
    }
   ],
   "source": [
    "data_x.head()"
   ]
  },
  {
   "cell_type": "code",
   "execution_count": 88,
   "id": "759600b1",
   "metadata": {},
   "outputs": [],
   "source": [
    "data_x, data_y = data_x.drop(['price'], axis=1), data_x['price']"
   ]
  },
  {
   "cell_type": "code",
   "execution_count": 89,
   "id": "0eb5474a",
   "metadata": {},
   "outputs": [
    {
     "data": {
      "text/plain": [
       "(302565, 12)"
      ]
     },
     "execution_count": 89,
     "metadata": {},
     "output_type": "execute_result"
    }
   ],
   "source": [
    "data_x.shape"
   ]
  },
  {
   "cell_type": "code",
   "execution_count": 90,
   "id": "626fdff9",
   "metadata": {},
   "outputs": [
    {
     "data": {
      "text/plain": [
       "(302565,)"
      ]
     },
     "execution_count": 90,
     "metadata": {},
     "output_type": "execute_result"
    }
   ],
   "source": [
    "data_y.shape"
   ]
  },
  {
   "cell_type": "markdown",
   "id": "a6ad1ea4",
   "metadata": {},
   "source": [
    "## С моделью машины"
   ]
  },
  {
   "cell_type": "code",
   "execution_count": 91,
   "id": "638556c4",
   "metadata": {},
   "outputs": [],
   "source": [
    "datam_x = clear_data_model.copy()"
   ]
  },
  {
   "cell_type": "code",
   "execution_count": 92,
   "id": "144bf7d1",
   "metadata": {},
   "outputs": [
    {
     "name": "stdout",
     "output_type": "stream",
     "text": [
      "<class 'pandas.core.frame.DataFrame'>\n",
      "Int64Index: 338927 entries, 0 to 371527\n",
      "Data columns (total 14 columns):\n",
      " #   Column               Non-Null Count   Dtype   \n",
      "---  ------               --------------   -----   \n",
      " 0   price                338927 non-null  int64   \n",
      " 1   abtest               338927 non-null  object  \n",
      " 2   vehicleType          316856 non-null  object  \n",
      " 3   yearOfRegistration   338927 non-null  float64 \n",
      " 4   gearbox              322391 non-null  object  \n",
      " 5   powerPS              338927 non-null  float64 \n",
      " 6   model                322700 non-null  object  \n",
      " 7   kilometer            338927 non-null  int64   \n",
      " 8   monthOfRegistration  338927 non-null  int64   \n",
      " 9   fuelType             313648 non-null  object  \n",
      " 10  brand                338927 non-null  object  \n",
      " 11  notRepairedDamage    278266 non-null  object  \n",
      " 12  postalCode           338927 non-null  int64   \n",
      " 13  kilometer_cat        338927 non-null  category\n",
      "dtypes: category(1), float64(2), int64(4), object(7)\n",
      "memory usage: 36.5+ MB\n"
     ]
    }
   ],
   "source": [
    "datam_x.info()"
   ]
  },
  {
   "cell_type": "code",
   "execution_count": 93,
   "id": "f69eeec5",
   "metadata": {
    "scrolled": false
   },
   "outputs": [
    {
     "data": {
      "image/png": "[encoded data removed]",
      "text/plain": [
       "<Figure size 1440x720 with 1 Axes>"
      ]
     },
     "metadata": {
      "needs_background": "light"
     },
     "output_type": "display_data"
    }
   ],
   "source": [
    "plt.figure(figsize=figsize)\n",
    "sns.boxplot(data=datam_x[numerical_columns])\n",
    "plt.show()"
   ]
  },
  {
   "cell_type": "code",
   "execution_count": 94,
   "id": "592a9c10",
   "metadata": {
    "scrolled": true
   },
   "outputs": [
    {
     "data": {
      "text/html": [
       "<div>\n",
       "<style scoped>\n",
       "    .dataframe tbody tr th:only-of-type {\n",
       "        vertical-align: middle;\n",
       "    }\n",
       "\n",
       "    .dataframe tbody tr th {\n",
       "        vertical-align: top;\n",
       "    }\n",
       "\n",
       "    .dataframe thead th {\n",
       "        text-align: right;\n",
       "    }\n",
       "</style>\n",
       "<table border=\"1\" class=\"dataframe\">\n",
       "  <thead>\n",
       "    <tr style=\"text-align: right;\">\n",
       "      <th></th>\n",
       "      <th>price</th>\n",
       "      <th>yearOfRegistration</th>\n",
       "      <th>powerPS</th>\n",
       "      <th>kilometer</th>\n",
       "      <th>monthOfRegistration</th>\n",
       "      <th>postalCode</th>\n",
       "    </tr>\n",
       "  </thead>\n",
       "  <tbody>\n",
       "    <tr>\n",
       "      <th>count</th>\n",
       "      <td>3.389270e+05</td>\n",
       "      <td>338927.000000</td>\n",
       "      <td>338927.000000</td>\n",
       "      <td>338927.000000</td>\n",
       "      <td>338927.000000</td>\n",
       "      <td>338927.000000</td>\n",
       "    </tr>\n",
       "    <tr>\n",
       "      <th>mean</th>\n",
       "      <td>1.021979e+04</td>\n",
       "      <td>0.586311</td>\n",
       "      <td>0.260467</td>\n",
       "      <td>0.831670</td>\n",
       "      <td>0.484417</td>\n",
       "      <td>0.504853</td>\n",
       "    </tr>\n",
       "    <tr>\n",
       "      <th>std</th>\n",
       "      <td>5.936434e+05</td>\n",
       "      <td>0.198003</td>\n",
       "      <td>0.170374</td>\n",
       "      <td>0.274769</td>\n",
       "      <td>0.307245</td>\n",
       "      <td>0.260643</td>\n",
       "    </tr>\n",
       "    <tr>\n",
       "      <th>min</th>\n",
       "      <td>0.000000e+00</td>\n",
       "      <td>0.000000</td>\n",
       "      <td>0.000000</td>\n",
       "      <td>0.000000</td>\n",
       "      <td>0.000000</td>\n",
       "      <td>0.000000</td>\n",
       "    </tr>\n",
       "    <tr>\n",
       "      <th>25%</th>\n",
       "      <td>1.200000e+03</td>\n",
       "      <td>0.433333</td>\n",
       "      <td>0.148026</td>\n",
       "      <td>0.655172</td>\n",
       "      <td>0.250000</td>\n",
       "      <td>0.300775</td>\n",
       "    </tr>\n",
       "    <tr>\n",
       "      <th>50%</th>\n",
       "      <td>3.000000e+03</td>\n",
       "      <td>0.566667</td>\n",
       "      <td>0.233553</td>\n",
       "      <td>1.000000</td>\n",
       "      <td>0.500000</td>\n",
       "      <td>0.492677</td>\n",
       "    </tr>\n",
       "    <tr>\n",
       "      <th>75%</th>\n",
       "      <td>7.500000e+03</td>\n",
       "      <td>0.733333</td>\n",
       "      <td>0.345395</td>\n",
       "      <td>1.000000</td>\n",
       "      <td>0.750000</td>\n",
       "      <td>0.713871</td>\n",
       "    </tr>\n",
       "    <tr>\n",
       "      <th>max</th>\n",
       "      <td>1.000000e+08</td>\n",
       "      <td>1.000000</td>\n",
       "      <td>1.000000</td>\n",
       "      <td>1.000000</td>\n",
       "      <td>1.000000</td>\n",
       "      <td>1.000000</td>\n",
       "    </tr>\n",
       "  </tbody>\n",
       "</table>\n",
       "</div>"
      ],
      "text/plain": [
       "              price  yearOfRegistration        powerPS      kilometer  \\\n",
       "count  3.389270e+05       338927.000000  338927.000000  338927.000000   \n",
       "mean   1.021979e+04            0.586311       0.260467       0.831670   \n",
       "std    5.936434e+05            0.198003       0.170374       0.274769   \n",
       "min    0.000000e+00            0.000000       0.000000       0.000000   \n",
       "25%    1.200000e+03            0.433333       0.148026       0.655172   \n",
       "50%    3.000000e+03            0.566667       0.233553       1.000000   \n",
       "75%    7.500000e+03            0.733333       0.345395       1.000000   \n",
       "max    1.000000e+08            1.000000       1.000000       1.000000   \n",
       "\n",
       "       monthOfRegistration     postalCode  \n",
       "count        338927.000000  338927.000000  \n",
       "mean              0.484417       0.504853  \n",
       "std               0.307245       0.260643  \n",
       "min               0.000000       0.000000  \n",
       "25%               0.250000       0.300775  \n",
       "50%               0.500000       0.492677  \n",
       "75%               0.750000       0.713871  \n",
       "max               1.000000       1.000000  "
      ]
     },
     "execution_count": 94,
     "metadata": {},
     "output_type": "execute_result"
    }
   ],
   "source": [
    "scaler = MinMaxScaler()\n",
    "datam_x[numerical_columns] = scaler.fit_transform(datam_x[numerical_columns])\n",
    "datam_x.describe()"
   ]
  },
  {
   "cell_type": "code",
   "execution_count": 95,
   "id": "2a1368ea",
   "metadata": {
    "scrolled": false
   },
   "outputs": [
    {
     "data": {
      "image/png": "[encoded data removed]",
      "text/plain": [
       "<Figure size 1440x720 with 1 Axes>"
      ]
     },
     "metadata": {
      "needs_background": "light"
     },
     "output_type": "display_data"
    }
   ],
   "source": [
    "plt.figure(figsize=figsize)\n",
    "sns.boxplot(data=datam_x[numerical_columns])\n",
    "plt.show()"
   ]
  },
  {
   "cell_type": "markdown",
   "id": "2c7b866c",
   "metadata": {},
   "source": [
    "datam_x.vehicleType = datam_x.vehicleType.apply(str).apply(hash_data)"
   ]
  },
  {
   "cell_type": "markdown",
   "id": "11f61137",
   "metadata": {},
   "source": [
    "hash_space = 64\n",
    "datam_x.brand = datam_x.brand.apply(str).apply(hash_data)"
   ]
  },
  {
   "cell_type": "markdown",
   "id": "f096659f",
   "metadata": {},
   "source": [
    "hash_space = 16\n",
    "datam_x.fuelType = datam_x.fuelType.apply(str).apply(hash_data)"
   ]
  },
  {
   "cell_type": "code",
   "execution_count": 96,
   "id": "b40117ac",
   "metadata": {
    "scrolled": true
   },
   "outputs": [
    {
     "data": {
      "text/plain": [
       "golf               26863\n",
       "andere             22428\n",
       "3er                19002\n",
       "polo               11484\n",
       "corsa              11157\n",
       "                   ...  \n",
       "i3                    10\n",
       "elefantino             8\n",
       "kalina                 6\n",
       "rangerover             4\n",
       "discovery_sport        1\n",
       "Name: model, Length: 248, dtype: int64"
      ]
     },
     "execution_count": 96,
     "metadata": {},
     "output_type": "execute_result"
    }
   ],
   "source": [
    "datam_x.model.value_counts()"
   ]
  },
  {
   "cell_type": "markdown",
   "id": "b0dc837e",
   "metadata": {},
   "source": [
    "hash_space = 256\n",
    "datam_x.model = datam_x.model.apply(str).apply(hash_data)"
   ]
  },
  {
   "cell_type": "code",
   "execution_count": 97,
   "id": "bfc993d4",
   "metadata": {},
   "outputs": [],
   "source": [
    "datam_x.abtest = datam_x.abtest.apply(str).apply(replace_abtest)"
   ]
  },
  {
   "cell_type": "code",
   "execution_count": 98,
   "id": "2d14718e",
   "metadata": {},
   "outputs": [],
   "source": [
    "datam_x.gearbox = datam_x.gearbox.apply(str).apply(replace_gearbox)"
   ]
  },
  {
   "cell_type": "code",
   "execution_count": 99,
   "id": "8f8f952c",
   "metadata": {},
   "outputs": [],
   "source": [
    "datam_x.notRepairedDamage = datam_x.notRepairedDamage.apply(str).apply(replace_notRepairedDamage)"
   ]
  },
  {
   "cell_type": "code",
   "execution_count": null,
   "id": "998198c0",
   "metadata": {},
   "outputs": [],
   "source": []
  },
  {
   "cell_type": "code",
   "execution_count": 100,
   "id": "dd0b6549",
   "metadata": {},
   "outputs": [],
   "source": [
    "cat_cols2 = ['vehicleType', 'brand', 'fuelType', 'model']"
   ]
  },
  {
   "cell_type": "code",
   "execution_count": 101,
   "id": "2c1819af",
   "metadata": {},
   "outputs": [
    {
     "data": {
      "text/plain": [
       "(338927, 14)"
      ]
     },
     "execution_count": 101,
     "metadata": {},
     "output_type": "execute_result"
    }
   ],
   "source": [
    "datam_x.shape"
   ]
  },
  {
   "cell_type": "code",
   "execution_count": 102,
   "id": "3e57bbf8",
   "metadata": {
    "scrolled": false
   },
   "outputs": [
    {
     "name": "stdout",
     "output_type": "stream",
     "text": [
      "<class 'pandas.core.frame.DataFrame'>\n",
      "Int64Index: 338927 entries, 0 to 371527\n",
      "Data columns (total 14 columns):\n",
      " #   Column               Non-Null Count   Dtype   \n",
      "---  ------               --------------   -----   \n",
      " 0   price                338927 non-null  int64   \n",
      " 1   abtest               338927 non-null  int64   \n",
      " 2   vehicleType          316856 non-null  object  \n",
      " 3   yearOfRegistration   338927 non-null  float64 \n",
      " 4   gearbox              338927 non-null  int64   \n",
      " 5   powerPS              338927 non-null  float64 \n",
      " 6   model                322700 non-null  object  \n",
      " 7   kilometer            338927 non-null  float64 \n",
      " 8   monthOfRegistration  338927 non-null  float64 \n",
      " 9   fuelType             313648 non-null  object  \n",
      " 10  brand                338927 non-null  object  \n",
      " 11  notRepairedDamage    338927 non-null  int64   \n",
      " 12  postalCode           338927 non-null  float64 \n",
      " 13  kilometer_cat        338927 non-null  category\n",
      "dtypes: category(1), float64(5), int64(4), object(4)\n",
      "memory usage: 36.5+ MB\n"
     ]
    }
   ],
   "source": [
    "datam_x.info()"
   ]
  },
  {
   "cell_type": "code",
   "execution_count": 103,
   "id": "005cb206",
   "metadata": {},
   "outputs": [],
   "source": [
    "datam_x = datam_x.dropna()"
   ]
  },
  {
   "cell_type": "code",
   "execution_count": 104,
   "id": "6a2009df",
   "metadata": {},
   "outputs": [
    {
     "data": {
      "text/plain": [
       "(293342, 14)"
      ]
     },
     "execution_count": 104,
     "metadata": {},
     "output_type": "execute_result"
    }
   ],
   "source": [
    "datam_x.shape"
   ]
  },
  {
   "cell_type": "code",
   "execution_count": 105,
   "id": "37f673bd",
   "metadata": {},
   "outputs": [
    {
     "name": "stdout",
     "output_type": "stream",
     "text": [
      "<class 'pandas.core.frame.DataFrame'>\n",
      "Int64Index: 293342 entries, 2 to 371527\n",
      "Data columns (total 14 columns):\n",
      " #   Column               Non-Null Count   Dtype   \n",
      "---  ------               --------------   -----   \n",
      " 0   price                293342 non-null  int64   \n",
      " 1   abtest               293342 non-null  int64   \n",
      " 2   vehicleType          293342 non-null  object  \n",
      " 3   yearOfRegistration   293342 non-null  float64 \n",
      " 4   gearbox              293342 non-null  int64   \n",
      " 5   powerPS              293342 non-null  float64 \n",
      " 6   model                293342 non-null  object  \n",
      " 7   kilometer            293342 non-null  float64 \n",
      " 8   monthOfRegistration  293342 non-null  float64 \n",
      " 9   fuelType             293342 non-null  object  \n",
      " 10  brand                293342 non-null  object  \n",
      " 11  notRepairedDamage    293342 non-null  int64   \n",
      " 12  postalCode           293342 non-null  float64 \n",
      " 13  kilometer_cat        293342 non-null  category\n",
      "dtypes: category(1), float64(5), int64(4), object(4)\n",
      "memory usage: 31.6+ MB\n"
     ]
    }
   ],
   "source": [
    "datam_x.info()"
   ]
  },
  {
   "cell_type": "code",
   "execution_count": 106,
   "id": "1dbb53d9",
   "metadata": {
    "scrolled": false
   },
   "outputs": [
    {
     "data": {
      "text/html": [
       "<div>\n",
       "<style scoped>\n",
       "    .dataframe tbody tr th:only-of-type {\n",
       "        vertical-align: middle;\n",
       "    }\n",
       "\n",
       "    .dataframe tbody tr th {\n",
       "        vertical-align: top;\n",
       "    }\n",
       "\n",
       "    .dataframe thead th {\n",
       "        text-align: right;\n",
       "    }\n",
       "</style>\n",
       "<table border=\"1\" class=\"dataframe\">\n",
       "  <thead>\n",
       "    <tr style=\"text-align: right;\">\n",
       "      <th></th>\n",
       "      <th>vehicleType</th>\n",
       "      <th>brand</th>\n",
       "      <th>fuelType</th>\n",
       "      <th>model</th>\n",
       "    </tr>\n",
       "  </thead>\n",
       "  <tbody>\n",
       "    <tr>\n",
       "      <th>2</th>\n",
       "      <td>7</td>\n",
       "      <td>14</td>\n",
       "      <td>3</td>\n",
       "      <td>119</td>\n",
       "    </tr>\n",
       "    <tr>\n",
       "      <th>3</th>\n",
       "      <td>4</td>\n",
       "      <td>37</td>\n",
       "      <td>1</td>\n",
       "      <td>118</td>\n",
       "    </tr>\n",
       "    <tr>\n",
       "      <th>4</th>\n",
       "      <td>4</td>\n",
       "      <td>31</td>\n",
       "      <td>3</td>\n",
       "      <td>103</td>\n",
       "    </tr>\n",
       "    <tr>\n",
       "      <th>5</th>\n",
       "      <td>6</td>\n",
       "      <td>2</td>\n",
       "      <td>1</td>\n",
       "      <td>11</td>\n",
       "    </tr>\n",
       "    <tr>\n",
       "      <th>6</th>\n",
       "      <td>2</td>\n",
       "      <td>25</td>\n",
       "      <td>1</td>\n",
       "      <td>8</td>\n",
       "    </tr>\n",
       "    <tr>\n",
       "      <th>8</th>\n",
       "      <td>1</td>\n",
       "      <td>10</td>\n",
       "      <td>1</td>\n",
       "      <td>61</td>\n",
       "    </tr>\n",
       "    <tr>\n",
       "      <th>10</th>\n",
       "      <td>6</td>\n",
       "      <td>19</td>\n",
       "      <td>1</td>\n",
       "      <td>10</td>\n",
       "    </tr>\n",
       "    <tr>\n",
       "      <th>11</th>\n",
       "      <td>5</td>\n",
       "      <td>37</td>\n",
       "      <td>3</td>\n",
       "      <td>171</td>\n",
       "    </tr>\n",
       "    <tr>\n",
       "      <th>12</th>\n",
       "      <td>5</td>\n",
       "      <td>37</td>\n",
       "      <td>1</td>\n",
       "      <td>171</td>\n",
       "    </tr>\n",
       "    <tr>\n",
       "      <th>14</th>\n",
       "      <td>7</td>\n",
       "      <td>23</td>\n",
       "      <td>3</td>\n",
       "      <td>161</td>\n",
       "    </tr>\n",
       "  </tbody>\n",
       "</table>\n",
       "</div>"
      ],
      "text/plain": [
       "    vehicleType  brand  fuelType  model\n",
       "2             7     14         3    119\n",
       "3             4     37         1    118\n",
       "4             4     31         3    103\n",
       "5             6      2         1     11\n",
       "6             2     25         1      8\n",
       "8             1     10         1     61\n",
       "10            6     19         1     10\n",
       "11            5     37         3    171\n",
       "12            5     37         1    171\n",
       "14            7     23         3    161"
      ]
     },
     "execution_count": 106,
     "metadata": {},
     "output_type": "execute_result"
    }
   ],
   "source": [
    "datam_x[cat_cols2] = datam_x[cat_cols2].apply(lambda col: le.fit_transform(col))\n",
    "datam_x[cat_cols2].head(10)"
   ]
  },
  {
   "cell_type": "code",
   "execution_count": 107,
   "id": "d0d2deca",
   "metadata": {
    "scrolled": false
   },
   "outputs": [
    {
     "name": "stdout",
     "output_type": "stream",
     "text": [
      "<class 'pandas.core.frame.DataFrame'>\n",
      "Int64Index: 293342 entries, 2 to 371527\n",
      "Data columns (total 14 columns):\n",
      " #   Column               Non-Null Count   Dtype   \n",
      "---  ------               --------------   -----   \n",
      " 0   price                293342 non-null  int64   \n",
      " 1   abtest               293342 non-null  int64   \n",
      " 2   vehicleType          293342 non-null  int64   \n",
      " 3   yearOfRegistration   293342 non-null  float64 \n",
      " 4   gearbox              293342 non-null  int64   \n",
      " 5   powerPS              293342 non-null  float64 \n",
      " 6   model                293342 non-null  int64   \n",
      " 7   kilometer            293342 non-null  float64 \n",
      " 8   monthOfRegistration  293342 non-null  float64 \n",
      " 9   fuelType             293342 non-null  int64   \n",
      " 10  brand                293342 non-null  int64   \n",
      " 11  notRepairedDamage    293342 non-null  int64   \n",
      " 12  postalCode           293342 non-null  float64 \n",
      " 13  kilometer_cat        293342 non-null  category\n",
      "dtypes: category(1), float64(5), int64(8)\n",
      "memory usage: 31.6 MB\n"
     ]
    }
   ],
   "source": [
    "datam_x.info()"
   ]
  },
  {
   "cell_type": "code",
   "execution_count": 108,
   "id": "be1a67e5",
   "metadata": {
    "scrolled": true
   },
   "outputs": [
    {
     "data": {
      "text/html": [
       "<div>\n",
       "<style scoped>\n",
       "    .dataframe tbody tr th:only-of-type {\n",
       "        vertical-align: middle;\n",
       "    }\n",
       "\n",
       "    .dataframe tbody tr th {\n",
       "        vertical-align: top;\n",
       "    }\n",
       "\n",
       "    .dataframe thead th {\n",
       "        text-align: right;\n",
       "    }\n",
       "</style>\n",
       "<table border=\"1\" class=\"dataframe\">\n",
       "  <thead>\n",
       "    <tr style=\"text-align: right;\">\n",
       "      <th></th>\n",
       "      <th>price</th>\n",
       "      <th>abtest</th>\n",
       "      <th>vehicleType</th>\n",
       "      <th>yearOfRegistration</th>\n",
       "      <th>gearbox</th>\n",
       "      <th>powerPS</th>\n",
       "      <th>model</th>\n",
       "      <th>kilometer</th>\n",
       "      <th>monthOfRegistration</th>\n",
       "      <th>fuelType</th>\n",
       "      <th>brand</th>\n",
       "      <th>notRepairedDamage</th>\n",
       "      <th>postalCode</th>\n",
       "      <th>kilometer_cat</th>\n",
       "    </tr>\n",
       "  </thead>\n",
       "  <tbody>\n",
       "    <tr>\n",
       "      <th>2</th>\n",
       "      <td>9800</td>\n",
       "      <td>1</td>\n",
       "      <td>7</td>\n",
       "      <td>0.600000</td>\n",
       "      <td>1</td>\n",
       "      <td>0.388158</td>\n",
       "      <td>119</td>\n",
       "      <td>0.827586</td>\n",
       "      <td>0.666667</td>\n",
       "      <td>3</td>\n",
       "      <td>14</td>\n",
       "      <td>0</td>\n",
       "      <td>0.903792</td>\n",
       "      <td>1</td>\n",
       "    </tr>\n",
       "    <tr>\n",
       "      <th>3</th>\n",
       "      <td>1500</td>\n",
       "      <td>1</td>\n",
       "      <td>4</td>\n",
       "      <td>0.500000</td>\n",
       "      <td>0</td>\n",
       "      <td>0.098684</td>\n",
       "      <td>118</td>\n",
       "      <td>1.000000</td>\n",
       "      <td>0.500000</td>\n",
       "      <td>1</td>\n",
       "      <td>37</td>\n",
       "      <td>1</td>\n",
       "      <td>0.909796</td>\n",
       "      <td>2</td>\n",
       "    </tr>\n",
       "    <tr>\n",
       "      <th>4</th>\n",
       "      <td>3600</td>\n",
       "      <td>1</td>\n",
       "      <td>4</td>\n",
       "      <td>0.733333</td>\n",
       "      <td>0</td>\n",
       "      <td>0.078947</td>\n",
       "      <td>103</td>\n",
       "      <td>0.586207</td>\n",
       "      <td>0.583333</td>\n",
       "      <td>3</td>\n",
       "      <td>31</td>\n",
       "      <td>1</td>\n",
       "      <td>0.600115</td>\n",
       "      <td>1</td>\n",
       "    </tr>\n",
       "    <tr>\n",
       "      <th>5</th>\n",
       "      <td>650</td>\n",
       "      <td>1</td>\n",
       "      <td>6</td>\n",
       "      <td>0.300000</td>\n",
       "      <td>0</td>\n",
       "      <td>0.187500</td>\n",
       "      <td>11</td>\n",
       "      <td>1.000000</td>\n",
       "      <td>0.833333</td>\n",
       "      <td>1</td>\n",
       "      <td>2</td>\n",
       "      <td>-1</td>\n",
       "      <td>0.330614</td>\n",
       "      <td>2</td>\n",
       "    </tr>\n",
       "    <tr>\n",
       "      <th>6</th>\n",
       "      <td>2200</td>\n",
       "      <td>1</td>\n",
       "      <td>2</td>\n",
       "      <td>0.600000</td>\n",
       "      <td>0</td>\n",
       "      <td>0.210526</td>\n",
       "      <td>8</td>\n",
       "      <td>1.000000</td>\n",
       "      <td>0.666667</td>\n",
       "      <td>1</td>\n",
       "      <td>25</td>\n",
       "      <td>1</td>\n",
       "      <td>0.667586</td>\n",
       "      <td>2</td>\n",
       "    </tr>\n",
       "  </tbody>\n",
       "</table>\n",
       "</div>"
      ],
      "text/plain": [
       "   price  abtest  vehicleType  yearOfRegistration  gearbox   powerPS  model  \\\n",
       "2   9800       1            7            0.600000        1  0.388158    119   \n",
       "3   1500       1            4            0.500000        0  0.098684    118   \n",
       "4   3600       1            4            0.733333        0  0.078947    103   \n",
       "5    650       1            6            0.300000        0  0.187500     11   \n",
       "6   2200       1            2            0.600000        0  0.210526      8   \n",
       "\n",
       "   kilometer  monthOfRegistration  fuelType  brand  notRepairedDamage  \\\n",
       "2   0.827586             0.666667         3     14                  0   \n",
       "3   1.000000             0.500000         1     37                  1   \n",
       "4   0.586207             0.583333         3     31                  1   \n",
       "5   1.000000             0.833333         1      2                 -1   \n",
       "6   1.000000             0.666667         1     25                  1   \n",
       "\n",
       "   postalCode kilometer_cat  \n",
       "2    0.903792             1  \n",
       "3    0.909796             2  \n",
       "4    0.600115             1  \n",
       "5    0.330614             2  \n",
       "6    0.667586             2  "
      ]
     },
     "execution_count": 108,
     "metadata": {},
     "output_type": "execute_result"
    }
   ],
   "source": [
    "datam_x.head()"
   ]
  },
  {
   "cell_type": "code",
   "execution_count": 109,
   "id": "0f1feaaf",
   "metadata": {},
   "outputs": [],
   "source": [
    "datam_x, datam_y = datam_x.drop(['price'], axis=1), datam_x['price']"
   ]
  },
  {
   "cell_type": "code",
   "execution_count": 110,
   "id": "f30b52b7",
   "metadata": {},
   "outputs": [
    {
     "data": {
      "text/plain": [
       "(293342, 13)"
      ]
     },
     "execution_count": 110,
     "metadata": {},
     "output_type": "execute_result"
    }
   ],
   "source": [
    "datam_x.shape"
   ]
  },
  {
   "cell_type": "code",
   "execution_count": 111,
   "id": "9efa5c63",
   "metadata": {
    "scrolled": true
   },
   "outputs": [
    {
     "data": {
      "text/plain": [
       "(293342,)"
      ]
     },
     "execution_count": 111,
     "metadata": {},
     "output_type": "execute_result"
    }
   ],
   "source": [
    "datam_y.shape"
   ]
  },
  {
   "cell_type": "code",
   "execution_count": 112,
   "id": "2efebd4d",
   "metadata": {},
   "outputs": [
    {
     "data": {
      "text/html": [
       "<div>\n",
       "<style scoped>\n",
       "    .dataframe tbody tr th:only-of-type {\n",
       "        vertical-align: middle;\n",
       "    }\n",
       "\n",
       "    .dataframe tbody tr th {\n",
       "        vertical-align: top;\n",
       "    }\n",
       "\n",
       "    .dataframe thead th {\n",
       "        text-align: right;\n",
       "    }\n",
       "</style>\n",
       "<table border=\"1\" class=\"dataframe\">\n",
       "  <thead>\n",
       "    <tr style=\"text-align: right;\">\n",
       "      <th></th>\n",
       "      <th>abtest</th>\n",
       "      <th>vehicleType</th>\n",
       "      <th>yearOfRegistration</th>\n",
       "      <th>gearbox</th>\n",
       "      <th>powerPS</th>\n",
       "      <th>model</th>\n",
       "      <th>kilometer</th>\n",
       "      <th>monthOfRegistration</th>\n",
       "      <th>fuelType</th>\n",
       "      <th>brand</th>\n",
       "      <th>notRepairedDamage</th>\n",
       "      <th>postalCode</th>\n",
       "      <th>kilometer_cat</th>\n",
       "    </tr>\n",
       "  </thead>\n",
       "  <tbody>\n",
       "    <tr>\n",
       "      <th>2</th>\n",
       "      <td>1</td>\n",
       "      <td>7</td>\n",
       "      <td>0.600000</td>\n",
       "      <td>1</td>\n",
       "      <td>0.388158</td>\n",
       "      <td>119</td>\n",
       "      <td>0.827586</td>\n",
       "      <td>0.666667</td>\n",
       "      <td>3</td>\n",
       "      <td>14</td>\n",
       "      <td>0</td>\n",
       "      <td>0.903792</td>\n",
       "      <td>1</td>\n",
       "    </tr>\n",
       "    <tr>\n",
       "      <th>3</th>\n",
       "      <td>1</td>\n",
       "      <td>4</td>\n",
       "      <td>0.500000</td>\n",
       "      <td>0</td>\n",
       "      <td>0.098684</td>\n",
       "      <td>118</td>\n",
       "      <td>1.000000</td>\n",
       "      <td>0.500000</td>\n",
       "      <td>1</td>\n",
       "      <td>37</td>\n",
       "      <td>1</td>\n",
       "      <td>0.909796</td>\n",
       "      <td>2</td>\n",
       "    </tr>\n",
       "    <tr>\n",
       "      <th>4</th>\n",
       "      <td>1</td>\n",
       "      <td>4</td>\n",
       "      <td>0.733333</td>\n",
       "      <td>0</td>\n",
       "      <td>0.078947</td>\n",
       "      <td>103</td>\n",
       "      <td>0.586207</td>\n",
       "      <td>0.583333</td>\n",
       "      <td>3</td>\n",
       "      <td>31</td>\n",
       "      <td>1</td>\n",
       "      <td>0.600115</td>\n",
       "      <td>1</td>\n",
       "    </tr>\n",
       "    <tr>\n",
       "      <th>5</th>\n",
       "      <td>1</td>\n",
       "      <td>6</td>\n",
       "      <td>0.300000</td>\n",
       "      <td>0</td>\n",
       "      <td>0.187500</td>\n",
       "      <td>11</td>\n",
       "      <td>1.000000</td>\n",
       "      <td>0.833333</td>\n",
       "      <td>1</td>\n",
       "      <td>2</td>\n",
       "      <td>-1</td>\n",
       "      <td>0.330614</td>\n",
       "      <td>2</td>\n",
       "    </tr>\n",
       "    <tr>\n",
       "      <th>6</th>\n",
       "      <td>1</td>\n",
       "      <td>2</td>\n",
       "      <td>0.600000</td>\n",
       "      <td>0</td>\n",
       "      <td>0.210526</td>\n",
       "      <td>8</td>\n",
       "      <td>1.000000</td>\n",
       "      <td>0.666667</td>\n",
       "      <td>1</td>\n",
       "      <td>25</td>\n",
       "      <td>1</td>\n",
       "      <td>0.667586</td>\n",
       "      <td>2</td>\n",
       "    </tr>\n",
       "  </tbody>\n",
       "</table>\n",
       "</div>"
      ],
      "text/plain": [
       "   abtest  vehicleType  yearOfRegistration  gearbox   powerPS  model  \\\n",
       "2       1            7            0.600000        1  0.388158    119   \n",
       "3       1            4            0.500000        0  0.098684    118   \n",
       "4       1            4            0.733333        0  0.078947    103   \n",
       "5       1            6            0.300000        0  0.187500     11   \n",
       "6       1            2            0.600000        0  0.210526      8   \n",
       "\n",
       "   kilometer  monthOfRegistration  fuelType  brand  notRepairedDamage  \\\n",
       "2   0.827586             0.666667         3     14                  0   \n",
       "3   1.000000             0.500000         1     37                  1   \n",
       "4   0.586207             0.583333         3     31                  1   \n",
       "5   1.000000             0.833333         1      2                 -1   \n",
       "6   1.000000             0.666667         1     25                  1   \n",
       "\n",
       "   postalCode kilometer_cat  \n",
       "2    0.903792             1  \n",
       "3    0.909796             2  \n",
       "4    0.600115             1  \n",
       "5    0.330614             2  \n",
       "6    0.667586             2  "
      ]
     },
     "execution_count": 112,
     "metadata": {},
     "output_type": "execute_result"
    }
   ],
   "source": [
    "datam_x.head()"
   ]
  },
  {
   "cell_type": "markdown",
   "id": "6ac986bb",
   "metadata": {},
   "source": [
    "### 7.1 Решите поставленную задачу регрессии в соответствии с заданием."
   ]
  },
  {
   "cell_type": "code",
   "execution_count": 113,
   "id": "b2913ad5",
   "metadata": {},
   "outputs": [],
   "source": [
    "from sklearn.metrics import mean_squared_error"
   ]
  },
  {
   "cell_type": "code",
   "execution_count": 114,
   "id": "cfdb39a3",
   "metadata": {},
   "outputs": [],
   "source": [
    "#data_x, data_y = data_new.drop(columns=0), data_new[0]\n",
    "train_x, test_x, train_y, test_y = train_test_split(data_x, data_y, test_size = 0.3, random_state = 42)"
   ]
  },
  {
   "cell_type": "code",
   "execution_count": 115,
   "id": "ee6ad94c",
   "metadata": {
    "scrolled": true
   },
   "outputs": [
    {
     "data": {
      "text/plain": [
       "<AxesSubplot:>"
      ]
     },
     "execution_count": 115,
     "metadata": {},
     "output_type": "execute_result"
    },
    {
     "data": {
      "image/png": "[encoded data removed]",
      "text/plain": [
       "<Figure size 432x288 with 1 Axes>"
      ]
     },
     "metadata": {
      "needs_background": "light"
     },
     "output_type": "display_data"
    }
   ],
   "source": [
    "train_x.kilometer_cat.hist()"
   ]
  },
  {
   "cell_type": "code",
   "execution_count": 116,
   "id": "1521c5fd",
   "metadata": {
    "scrolled": false
   },
   "outputs": [
    {
     "data": {
      "text/plain": [
       "<AxesSubplot:>"
      ]
     },
     "execution_count": 116,
     "metadata": {},
     "output_type": "execute_result"
    },
    {
     "data": {
      "image/png": "[encoded data removed]",
      "text/plain": [
       "<Figure size 432x288 with 1 Axes>"
      ]
     },
     "metadata": {
      "needs_background": "light"
     },
     "output_type": "display_data"
    }
   ],
   "source": [
    "test_x.kilometer_cat.hist()"
   ]
  },
  {
   "cell_type": "code",
   "execution_count": 117,
   "id": "de669bd9",
   "metadata": {
    "scrolled": true
   },
   "outputs": [],
   "source": [
    "test_x = test_x.drop(\"kilometer_cat\", axis=1)"
   ]
  },
  {
   "cell_type": "code",
   "execution_count": 118,
   "id": "a97d7183",
   "metadata": {},
   "outputs": [],
   "source": [
    "train_x = train_x.drop(\"kilometer_cat\", axis=1)"
   ]
  },
  {
   "cell_type": "code",
   "execution_count": 119,
   "id": "4111c672",
   "metadata": {},
   "outputs": [
    {
     "name": "stdout",
     "output_type": "stream",
     "text": [
      "<class 'pandas.core.frame.DataFrame'>\n",
      "Int64Index: 211795 entries, 64647 to 149658\n",
      "Data columns (total 11 columns):\n",
      " #   Column               Non-Null Count   Dtype  \n",
      "---  ------               --------------   -----  \n",
      " 0   abtest               211795 non-null  int64  \n",
      " 1   vehicleType          211795 non-null  int64  \n",
      " 2   yearOfRegistration   211795 non-null  float64\n",
      " 3   gearbox              211795 non-null  int64  \n",
      " 4   powerPS              211795 non-null  float64\n",
      " 5   kilometer            211795 non-null  float64\n",
      " 6   monthOfRegistration  211795 non-null  float64\n",
      " 7   fuelType             211795 non-null  int64  \n",
      " 8   brand                211795 non-null  int64  \n",
      " 9   notRepairedDamage    211795 non-null  int64  \n",
      " 10  postalCode           211795 non-null  float64\n",
      "dtypes: float64(5), int64(6)\n",
      "memory usage: 19.4 MB\n"
     ]
    }
   ],
   "source": [
    "train_x.info()"
   ]
  },
  {
   "cell_type": "code",
   "execution_count": 120,
   "id": "35a05233",
   "metadata": {
    "scrolled": false
   },
   "outputs": [
    {
     "name": "stdout",
     "output_type": "stream",
     "text": [
      "142228     9744.090127\n",
      "219258    -7994.074471\n",
      "316901     1662.350784\n",
      "230367     8116.826218\n",
      "220940    12648.356858\n",
      "190303     5042.850456\n",
      "104788     4748.670647\n",
      "330718     5906.478433\n",
      "313062    -2607.840237\n",
      "152658    11892.006792\n",
      "184310    12354.486330\n",
      "365007    23337.980782\n",
      "329234     9313.631647\n",
      "312941     7272.114077\n",
      "348761     3203.207001\n",
      "Name: price, dtype: float64\n"
     ]
    },
    {
     "data": {
      "text/plain": [
       "74217.1548571906"
      ]
     },
     "execution_count": 120,
     "metadata": {},
     "output_type": "execute_result"
    }
   ],
   "source": [
    "reg = LinearRegression()\n",
    "reg.fit(train_x, train_y)\n",
    "pred_reg = reg.predict(test_x)\n",
    "accuracy_score = np.mean(test_y.values == reg.predict(test_x))\n",
    "print(pred_reg[:15] - test_y[:15])\n",
    "lin_mse = mean_squared_error(test_y, pred_reg)\n",
    "lin_rmse = np.sqrt(lin_mse)\n",
    "lin_rmse"
   ]
  },
  {
   "cell_type": "code",
   "execution_count": 121,
   "id": "ea7c4d9b",
   "metadata": {},
   "outputs": [
    {
     "name": "stdout",
     "output_type": "stream",
     "text": [
      "Pearson correlation: 0.060706095076637365 p_value: 7.384598532120772e-75\n",
      "Spearman correlation: 0.5471964587882385 p_value: 0.0\n"
     ]
    }
   ],
   "source": [
    "P, p_value_P = pearsonr(pred_reg, test_y)\n",
    "S, p_value_S = spearmanr(pred_reg, test_y)\n",
    "print(f\"Pearson correlation: {P} p_value: {p_value_P}\\nSpearman correlation: {S} p_value: {p_value_S}\")"
   ]
  },
  {
   "cell_type": "code",
   "execution_count": 122,
   "id": "f4ecbb3e",
   "metadata": {},
   "outputs": [],
   "source": [
    "from sklearn.model_selection import cross_val_score\n",
    "def display_scores(scores):\n",
    "    print(\"Scores:\", scores)\n",
    "    print(\"Mean:\", scores.mean())\n",
    "    print(\"Standard deviation:\", scores.std())"
   ]
  },
  {
   "cell_type": "code",
   "execution_count": 123,
   "id": "3183fc05",
   "metadata": {},
   "outputs": [],
   "source": [
    "data_scores = cross_val_score(reg, train_x, train_y,\n",
    "                                scoring=\"neg_mean_squared_error\", cv=3, n_jobs=2)"
   ]
  },
  {
   "cell_type": "code",
   "execution_count": 124,
   "id": "90b0dbde",
   "metadata": {},
   "outputs": [
    {
     "name": "stdout",
     "output_type": "stream",
     "text": [
      "Scores: [550120.5494548  658976.34911473 535303.16134592]\n",
      "Mean: 581466.6866384832\n",
      "Standard deviation: 55140.42425467672\n"
     ]
    }
   ],
   "source": [
    "data_rmse_scores = np.sqrt(-data_scores)\n",
    "display_scores(data_rmse_scores)"
   ]
  },
  {
   "cell_type": "markdown",
   "id": "33e54932",
   "metadata": {},
   "source": [
    "## Попробуем с моделью машины"
   ]
  },
  {
   "cell_type": "code",
   "execution_count": 125,
   "id": "b0ff2b81",
   "metadata": {},
   "outputs": [],
   "source": [
    "#data_x, data_y = data_new.drop(columns=0), data_new[0]\n",
    "mtrain_x, mtest_x, mtrain_y, mtest_y = train_test_split(datam_x, datam_y, test_size = 0.3, random_state = 42)"
   ]
  },
  {
   "cell_type": "code",
   "execution_count": 126,
   "id": "2f6a051a",
   "metadata": {
    "scrolled": true
   },
   "outputs": [],
   "source": [
    "mtest_x = mtest_x.drop(\"kilometer_cat\", axis=1)"
   ]
  },
  {
   "cell_type": "code",
   "execution_count": 127,
   "id": "9166a408",
   "metadata": {
    "scrolled": true
   },
   "outputs": [],
   "source": [
    "mtrain_x = mtrain_x.drop(\"kilometer_cat\", axis=1)"
   ]
  },
  {
   "cell_type": "code",
   "execution_count": 128,
   "id": "80ef6393",
   "metadata": {},
   "outputs": [
    {
     "name": "stdout",
     "output_type": "stream",
     "text": [
      "<class 'pandas.core.frame.DataFrame'>\n",
      "Int64Index: 205339 entries, 322245 to 154398\n",
      "Data columns (total 12 columns):\n",
      " #   Column               Non-Null Count   Dtype  \n",
      "---  ------               --------------   -----  \n",
      " 0   abtest               205339 non-null  int64  \n",
      " 1   vehicleType          205339 non-null  int64  \n",
      " 2   yearOfRegistration   205339 non-null  float64\n",
      " 3   gearbox              205339 non-null  int64  \n",
      " 4   powerPS              205339 non-null  float64\n",
      " 5   model                205339 non-null  int64  \n",
      " 6   kilometer            205339 non-null  float64\n",
      " 7   monthOfRegistration  205339 non-null  float64\n",
      " 8   fuelType             205339 non-null  int64  \n",
      " 9   brand                205339 non-null  int64  \n",
      " 10  notRepairedDamage    205339 non-null  int64  \n",
      " 11  postalCode           205339 non-null  float64\n",
      "dtypes: float64(5), int64(7)\n",
      "memory usage: 20.4 MB\n"
     ]
    }
   ],
   "source": [
    "mtrain_x.info()"
   ]
  },
  {
   "cell_type": "code",
   "execution_count": 129,
   "id": "d9921144",
   "metadata": {
    "scrolled": true
   },
   "outputs": [
    {
     "name": "stdout",
     "output_type": "stream",
     "text": [
      "122558     1552.774794\n",
      "64459     -5157.876890\n",
      "56780     -6015.109520\n",
      "331886    10880.515064\n",
      "233034     1496.683121\n",
      "154584     2531.061959\n",
      "343       -2061.167200\n",
      "2567      -3319.116313\n",
      "370902     8758.785108\n",
      "99859      3542.123067\n",
      "57140      1098.613287\n",
      "316215    -2886.017596\n",
      "347317      511.805087\n",
      "119777      567.679485\n",
      "353986    -8251.928855\n",
      "Name: price, dtype: float64\n"
     ]
    },
    {
     "data": {
      "text/plain": [
       "491780.02533020155"
      ]
     },
     "execution_count": 129,
     "metadata": {},
     "output_type": "execute_result"
    }
   ],
   "source": [
    "m_reg = LinearRegression()\n",
    "m_reg.fit(mtrain_x, mtrain_y)\n",
    "mpred_reg = m_reg.predict(mtest_x)\n",
    "accuracy_score = np.mean(test_y.values == m_reg.predict(mtest_x))\n",
    "print(mpred_reg[:15] - mtest_y[:15])\n",
    "m_lin_mse = mean_squared_error(mtest_y, mpred_reg)\n",
    "m_lin_rmse = np.sqrt(m_lin_mse)\n",
    "m_lin_rmse"
   ]
  },
  {
   "cell_type": "code",
   "execution_count": 130,
   "id": "29e4113c",
   "metadata": {},
   "outputs": [
    {
     "name": "stdout",
     "output_type": "stream",
     "text": [
      "Pearson correlation: 0.060706095076637365 p_value: 7.384598532120772e-75\n",
      "Spearman correlation: 0.5471964587882385 p_value: 0.0\n"
     ]
    }
   ],
   "source": [
    "P, p_value_P = pearsonr(pred_reg, test_y)\n",
    "S, p_value_S = spearmanr(pred_reg, test_y)\n",
    "print(f\"Pearson correlation: {P} p_value: {p_value_P}\\nSpearman correlation: {S} p_value: {p_value_S}\")"
   ]
  },
  {
   "cell_type": "code",
   "execution_count": 131,
   "id": "d81ba04c",
   "metadata": {},
   "outputs": [],
   "source": [
    "from sklearn.model_selection import cross_val_score\n",
    "def display_scores(scores):\n",
    "    print(\"Scores:\", scores)\n",
    "    print(\"Mean:\", scores.mean())\n",
    "    print(\"Standard deviation:\", scores.std())"
   ]
  },
  {
   "cell_type": "code",
   "execution_count": 132,
   "id": "86377698",
   "metadata": {},
   "outputs": [],
   "source": [
    "data_scores = cross_val_score(m_reg, mtrain_x, mtrain_y,\n",
    "                                scoring=\"neg_mean_squared_error\", cv=3, n_jobs=2)"
   ]
  },
  {
   "cell_type": "code",
   "execution_count": 133,
   "id": "5703a1bf",
   "metadata": {
    "scrolled": true
   },
   "outputs": [
    {
     "name": "stdout",
     "output_type": "stream",
     "text": [
      "Scores: [542619.90523597 396373.90074977 544310.10573781]\n",
      "Mean: 494434.6372411821\n",
      "Standard deviation: 69342.84498232155\n"
     ]
    }
   ],
   "source": [
    "m_data_rmse_scores = np.sqrt(-data_scores)\n",
    "display_scores(m_data_rmse_scores)"
   ]
  },
  {
   "cell_type": "code",
   "execution_count": 134,
   "id": "dd13b40a",
   "metadata": {},
   "outputs": [],
   "source": [
    "from sklearn.tree import DecisionTreeRegressor\n",
    "from sklearn.ensemble import RandomForestRegressor"
   ]
  },
  {
   "cell_type": "code",
   "execution_count": 135,
   "id": "476ef6bb",
   "metadata": {},
   "outputs": [],
   "source": [
    "DTR = RandomForestRegressor()"
   ]
  },
  {
   "cell_type": "code",
   "execution_count": 136,
   "id": "67617a46",
   "metadata": {},
   "outputs": [],
   "source": [
    "from joblib import parallel_backend"
   ]
  },
  {
   "cell_type": "code",
   "execution_count": 148,
   "id": "6c9fb466",
   "metadata": {},
   "outputs": [],
   "source": [
    "with parallel_backend('threading'):\n",
    "    DTR_grid = GridSearchCV(DTR, {\n",
    "        'n_estimators': list(range(12, 50)),\n",
    "        'max_depth': list(range(1, 3)),\n",
    "        'max_features': list(range(1, 3))}\n",
    "                           )\n",
    "    DTR_grid.fit(train_x, train_y)\n",
    "\n",
    "best_depth = DTR_grid.best_estimator_.max_depth # Находим лучшую глубину\n",
    "best_features = DTR_grid.best_estimator_.max_features # Находим лучшее количество признаков, которые следует учитывать при поиске"
   ]
  },
  {
   "cell_type": "code",
   "execution_count": 149,
   "id": "3bf570e8",
   "metadata": {},
   "outputs": [],
   "source": [
    "best_estimators = DTR_grid.best_estimator_.n_estimators"
   ]
  },
  {
   "cell_type": "code",
   "execution_count": 150,
   "id": "bf4db3af",
   "metadata": {
    "scrolled": true
   },
   "outputs": [
    {
     "name": "stdout",
     "output_type": "stream",
     "text": [
      "17\n",
      "2\n",
      "2\n",
      "Best accuracy: 0.0004365899673048013\n"
     ]
    }
   ],
   "source": [
    "print(best_estimators)\n",
    "print(best_depth)\n",
    "print(best_features)\n",
    "print(\"Best accuracy:\", DTR_grid.best_score_)"
   ]
  },
  {
   "cell_type": "code",
   "execution_count": 151,
   "id": "a5308337",
   "metadata": {},
   "outputs": [],
   "source": [
    "DTR = RandomForestRegressor(n_estimators=best_estimators, max_depth=best_depth, max_features=best_features)"
   ]
  },
  {
   "cell_type": "code",
   "execution_count": 152,
   "id": "8d358c38",
   "metadata": {},
   "outputs": [
    {
     "data": {
      "text/plain": [
       "RandomForestRegressor(max_depth=2, max_features=2, n_estimators=17)"
      ]
     },
     "execution_count": 152,
     "metadata": {},
     "output_type": "execute_result"
    }
   ],
   "source": [
    "DTR.fit(train_x, train_y)"
   ]
  },
  {
   "cell_type": "code",
   "execution_count": 153,
   "id": "2fea8d43",
   "metadata": {},
   "outputs": [
    {
     "name": "stdout",
     "output_type": "stream",
     "text": [
      "Accuracy of DTR model: 0.0\n"
     ]
    }
   ],
   "source": [
    "accuracy_score = np.mean(test_y.values == DTR.predict(test_x))\n",
    "print(\"Accuracy of DTR model:\",  accuracy_score)"
   ]
  },
  {
   "cell_type": "code",
   "execution_count": 154,
   "id": "66d106cb",
   "metadata": {
    "scrolled": true
   },
   "outputs": [
    {
     "name": "stdout",
     "output_type": "stream",
     "text": [
      "142228     3774.338696\n",
      "219258     5575.338696\n",
      "316901     5407.218109\n",
      "230367     5358.898678\n",
      "220940     7904.249475\n",
      "190303    -3087.533655\n",
      "104788     9844.140099\n",
      "330718      114.012195\n",
      "313062     3387.233205\n",
      "152658     6864.663115\n",
      "184310   -11239.806238\n",
      "365007     6525.462865\n",
      "329234     7717.804257\n",
      "312941     4794.409753\n",
      "348761      626.845351\n",
      "Name: price, dtype: float64\n",
      "74091.6658395513\n",
      "0.0\n"
     ]
    }
   ],
   "source": [
    "DT_reg = DTR.predict(test_x)\n",
    "accuracy_score_D = np.mean(test_y.values == DTR.predict(test_x))\n",
    "print(DT_reg[:15] - test_y[:15])\n",
    "DT_mse = mean_squared_error(test_y, DT_reg)\n",
    "DT_rmse = np.sqrt(DT_mse)\n",
    "print(DT_rmse)\n",
    "print(accuracy_score_D)"
   ]
  },
  {
   "cell_type": "code",
   "execution_count": 155,
   "id": "304202b8",
   "metadata": {},
   "outputs": [],
   "source": [
    "data_scores = cross_val_score(DTR, train_x, train_y,\n",
    "                                scoring=\"neg_mean_squared_error\", cv=4, n_jobs=2)"
   ]
  },
  {
   "cell_type": "code",
   "execution_count": 156,
   "id": "06cfb790",
   "metadata": {
    "scrolled": false
   },
   "outputs": [
    {
     "name": "stdout",
     "output_type": "stream",
     "text": [
      "Scores: [438032.27745141 767818.05915423 448727.5469678  618083.99981581]\n",
      "Mean: 568165.4708473126\n",
      "Standard deviation: 135603.35655515175\n"
     ]
    }
   ],
   "source": [
    "m_data_rmse_scores = np.sqrt(-data_scores)\n",
    "display_scores(m_data_rmse_scores)"
   ]
  },
  {
   "cell_type": "code",
   "execution_count": 135,
   "id": "e43cdd47",
   "metadata": {},
   "outputs": [],
   "source": [
    "MRF = RandomForestRegressor()"
   ]
  },
  {
   "cell_type": "code",
   "execution_count": 138,
   "id": "534bacfc",
   "metadata": {},
   "outputs": [],
   "source": [
    "with parallel_backend('threading'):\n",
    "    MRF_grid = GridSearchCV(MRF, {\n",
    "        'n_estimators': list(range(240, 250)),\n",
    "        'max_depth': list(range(1, 13)),\n",
    "        'max_features': list(range(1, 8))}\n",
    "                           )\n",
    "    MRF_grid.fit(mtrain_x, mtrain_y)\n",
    "\n",
    "best_depth_m = MRF_grid.best_estimator_.max_depth # Находим лучшую глубину\n",
    "best_features_m = MRF_grid.best_estimator_.max_features # Находим лучшее количество признаков, которые следует учитывать при поиске\n",
    "best_estimators_m = MRF_grid.best_estimator_.n_estimators"
   ]
  },
  {
   "cell_type": "code",
   "execution_count": 139,
   "id": "a5c79d65",
   "metadata": {
    "scrolled": true
   },
   "outputs": [
    {
     "name": "stdout",
     "output_type": "stream",
     "text": [
      "240\n",
      "1\n",
      "5\n",
      "Best accuracy: 0.000576298772781203\n"
     ]
    }
   ],
   "source": [
    "print(best_estimators_m)\n",
    "print(best_depth_m)\n",
    "print(best_features_m)\n",
    "print(\"Best accuracy:\", MRF_grid.best_score_)"
   ]
  },
  {
   "cell_type": "markdown",
   "id": "7aec2aea",
   "metadata": {},
   "source": [
    "MRF = RandomForestRegressor(n_estimators=best_estimators_m, max_depth=best_depth_m, max_features=best_features_m)"
   ]
  },
  {
   "cell_type": "code",
   "execution_count": 136,
   "id": "66e01e3c",
   "metadata": {},
   "outputs": [],
   "source": [
    "MRF = RandomForestRegressor(n_estimators=240, max_depth=1, max_features=5)"
   ]
  },
  {
   "cell_type": "code",
   "execution_count": 137,
   "id": "3347248e",
   "metadata": {},
   "outputs": [
    {
     "data": {
      "text/plain": [
       "RandomForestRegressor(max_depth=1, max_features=5, n_estimators=240)"
      ]
     },
     "execution_count": 137,
     "metadata": {},
     "output_type": "execute_result"
    }
   ],
   "source": [
    "MRF.fit(mtrain_x, mtrain_y)"
   ]
  },
  {
   "cell_type": "code",
   "execution_count": 138,
   "id": "f054e9b5",
   "metadata": {},
   "outputs": [
    {
     "name": "stdout",
     "output_type": "stream",
     "text": [
      "Accuracy of DTR model: 0.0\n"
     ]
    }
   ],
   "source": [
    "accuracy_score_m = np.mean(mtest_y.values == MRF.predict(mtest_x))\n",
    "print(\"Accuracy of DTR model:\",  accuracy_score_m)"
   ]
  },
  {
   "cell_type": "code",
   "execution_count": 139,
   "id": "e8669411",
   "metadata": {
    "scrolled": true
   },
   "outputs": [
    {
     "name": "stdout",
     "output_type": "stream",
     "text": [
      "122558     2500.119176\n",
      "64459    -12224.534538\n",
      "56780      4401.117739\n",
      "331886     6416.073752\n",
      "233034     5398.245391\n",
      "154584     2605.112623\n",
      "343        4898.245391\n",
      "2567       4880.251329\n",
      "370902     6172.298358\n",
      "99859      5975.215577\n",
      "57140      5377.414833\n",
      "316215    -2804.090177\n",
      "347317     5505.783670\n",
      "119777     3751.625955\n",
      "353986   -15994.139386\n",
      "Name: price, dtype: float64\n",
      "491780.63981839496\n",
      "0.0\n"
     ]
    }
   ],
   "source": [
    "MRF_reg = MRF.predict(mtest_x)\n",
    "accuracy_score_RFm = np.mean(mtest_y.values == MRF.predict(mtest_x))\n",
    "print(MRF_reg[:15] - mtest_y[:15])\n",
    "MRF_mse = mean_squared_error(mtest_y, MRF_reg)\n",
    "MRF_rmse = np.sqrt(MRF_mse)\n",
    "print(MRF_rmse)\n",
    "print(accuracy_score_RFm)"
   ]
  },
  {
   "cell_type": "code",
   "execution_count": 140,
   "id": "94e6dcef",
   "metadata": {},
   "outputs": [
    {
     "name": "stdout",
     "output_type": "stream",
     "text": [
      "Pearson correlation: 0.012432029381985411 p_value: 0.00022594472588889324\n",
      "Spearman correlation: 0.5952684336309905 p_value: 0.0\n"
     ]
    }
   ],
   "source": [
    "P, p_value_P = pearsonr(MRF_reg, mtest_y)\n",
    "S, p_value_S = spearmanr(MRF_reg, mtest_y)\n",
    "print(f\"Pearson correlation: {P} p_value: {p_value_P}\\nSpearman correlation: {S} p_value: {p_value_S}\")"
   ]
  },
  {
   "cell_type": "code",
   "execution_count": 169,
   "id": "ea34a992",
   "metadata": {},
   "outputs": [],
   "source": [
    "data_scores_mRF = cross_val_score(MRF, mtrain_x, mtrain_y,\n",
    "                                scoring=\"neg_mean_squared_error\", cv=4, n_jobs=2)"
   ]
  },
  {
   "cell_type": "code",
   "execution_count": 170,
   "id": "533e8022",
   "metadata": {},
   "outputs": [
    {
     "name": "stdout",
     "output_type": "stream",
     "text": [
      "Scores: [624192.27677073 132687.36021904 441422.61450782 628455.4347535 ]\n",
      "Mean: 456689.42156277195\n",
      "Standard deviation: 201724.55288269641\n"
     ]
    }
   ],
   "source": [
    "mRF_data_rmse_scores = np.sqrt(-data_scores_mRF)\n",
    "display_scores(mRF_data_rmse_scores)"
   ]
  },
  {
   "cell_type": "markdown",
   "id": "40f8127c",
   "metadata": {},
   "source": [
    "### 7.2"
   ]
  },
  {
   "cell_type": "code",
   "execution_count": 1205,
   "id": "6fc2e78d",
   "metadata": {},
   "outputs": [
    {
     "name": "stdout",
     "output_type": "stream",
     "text": [
      "best alpha: 19.94999999999994\n"
     ]
    }
   ],
   "source": [
    "las_reg = Lasso()\n",
    "params = {'alpha': np.arange(3, 20, 0.05)}\n",
    "reg_grid = GridSearchCV(las_reg, params, n_jobs=-1)\n",
    "reg_grid.fit(train_x, train_y)\n",
    "best_alpha = reg_grid.best_estimator_.alpha\n",
    "print('best alpha:', best_alpha)"
   ]
  },
  {
   "cell_type": "code",
   "execution_count": 1206,
   "id": "ef598b0c",
   "metadata": {
    "scrolled": true
   },
   "outputs": [
    {
     "name": "stdout",
     "output_type": "stream",
     "text": [
      "80825     -9137.305089\n",
      "163966     3551.846326\n",
      "210181    14153.992440\n",
      "274050    -8812.161251\n",
      "60712     13715.934184\n",
      "157908     1425.925180\n",
      "22768     -6670.037276\n",
      "179108    19871.921275\n",
      "313027     9520.178282\n",
      "309778    -7452.949827\n",
      "332177    16507.704222\n",
      "313010    11052.931732\n",
      "339154    -8033.510541\n",
      "252920    -2145.692174\n",
      "91986     -5103.972296\n",
      "Name: price, dtype: float64\n"
     ]
    }
   ],
   "source": [
    "reg_las_norm = Lasso(alpha=best_alpha)\n",
    "reg_las_norm.fit(train_x,train_y)\n",
    "pred_reg_norm = reg_las_norm.predict(test_x)\n",
    "print(pred_reg_norm[:15] - test_y[:15])"
   ]
  },
  {
   "cell_type": "code",
   "execution_count": 1207,
   "id": "64947701",
   "metadata": {},
   "outputs": [
    {
     "name": "stdout",
     "output_type": "stream",
     "text": [
      "Pearson correlation: 0.013396236092825734 p_value: 1.9386896412465385e-05\n",
      "Spearman correlation: 0.2938271901361857 p_value: 0.0\n"
     ]
    }
   ],
   "source": [
    "# Корреляция\n",
    "P, p_value_P = pearsonr(pred_reg_norm, test_y)\n",
    "S, p_value_S = spearmanr(pred_reg_norm, test_y)\n",
    "print(f\"Pearson correlation: {P} p_value: {p_value_P}\\nSpearman correlation: {S} p_value: {p_value_S}\")"
   ]
  },
  {
   "cell_type": "code",
   "execution_count": 1208,
   "id": "affbccae",
   "metadata": {},
   "outputs": [],
   "source": [
    "data_norm_scores = cross_val_score(reg_las_norm, train_x, train_y,\n",
    "                                scoring=\"neg_mean_squared_error\", cv=3, n_jobs=2)"
   ]
  },
  {
   "cell_type": "code",
   "execution_count": 1209,
   "id": "bd030ce0",
   "metadata": {
    "scrolled": true
   },
   "outputs": [
    {
     "name": "stdout",
     "output_type": "stream",
     "text": [
      "Scores: [762644.0580031   92062.62804501 629213.00436158]\n",
      "Mean: 494639.896803233\n",
      "Standard deviation: 289830.185349505\n"
     ]
    }
   ],
   "source": [
    "data_rmse_scores = np.sqrt(-data_norm_scores)\n",
    "display_scores(data_rmse_scores)"
   ]
  },
  {
   "cell_type": "code",
   "execution_count": null,
   "id": "36665cfe",
   "metadata": {},
   "outputs": [],
   "source": []
  },
  {
   "cell_type": "markdown",
   "id": "a9adc590",
   "metadata": {},
   "source": [
    "### END"
   ]
  },
  {
   "cell_type": "code",
   "execution_count": 107,
   "id": "12cc0a0a",
   "metadata": {
    "scrolled": true
   },
   "outputs": [
    {
     "data": {
      "text/plain": [
       "0    2016-04-07 03:16:57\n",
       "1    2016-04-07 01:46:50\n",
       "2    2016-04-05 12:47:46\n",
       "3    2016-03-17 17:40:17\n",
       "4    2016-04-06 10:17:21\n",
       "Name: lastSeen, dtype: object"
      ]
     },
     "execution_count": 107,
     "metadata": {},
     "output_type": "execute_result"
    }
   ],
   "source": [
    "data[\"lastSeen\"].head()"
   ]
  },
  {
   "cell_type": "code",
   "execution_count": 108,
   "id": "49c37f27",
   "metadata": {},
   "outputs": [],
   "source": [
    "def get_last_data(name):\n",
    "    return name.split(' ')[0].split('-')[0].strip()"
   ]
  },
  {
   "cell_type": "code",
   "execution_count": 111,
   "id": "01f09489",
   "metadata": {},
   "outputs": [
    {
     "data": {
      "text/plain": [
       "'2016'"
      ]
     },
     "execution_count": 111,
     "metadata": {},
     "output_type": "execute_result"
    }
   ],
   "source": [
    "get_last_data(\"2016-04-07 03:16:57\")"
   ]
  },
  {
   "cell_type": "code",
   "execution_count": 132,
   "id": "70f66b16",
   "metadata": {},
   "outputs": [
    {
     "data": {
      "text/plain": [
       "2016    371528\n",
       "Name: lastSeen, dtype: int64"
      ]
     },
     "execution_count": 132,
     "metadata": {},
     "output_type": "execute_result"
    }
   ],
   "source": [
    "last_names = data['lastSeen'].apply(str).apply(get_last_data)\n",
    "last_names.value_counts()"
   ]
  },
  {
   "cell_type": "code",
   "execution_count": 411,
   "id": "acd4cdb9",
   "metadata": {},
   "outputs": [],
   "source": [
    "corr_matrix = droped_data.corr()"
   ]
  },
  {
   "cell_type": "code",
   "execution_count": 367,
   "id": "fcd522e7",
   "metadata": {
    "scrolled": true
   },
   "outputs": [
    {
     "data": {
      "text/plain": [
       "price                  1.000000\n",
       "yearOfRegistration     0.014788\n",
       "powerPS                0.008335\n",
       "monthOfRegistration    0.004877\n",
       "postalCode             0.000963\n",
       "kilometer             -0.013136\n",
       "nrOfPictures                NaN\n",
       "Name: price, dtype: float64"
      ]
     },
     "execution_count": 367,
     "metadata": {},
     "output_type": "execute_result"
    }
   ],
   "source": [
    "corr_matrix[\"price\"].sort_values(ascending=False)"
   ]
  },
  {
   "cell_type": "code",
   "execution_count": 412,
   "id": "0288d5a2",
   "metadata": {
    "scrolled": true
   },
   "outputs": [
    {
     "data": {
      "text/plain": [
       "price                  1.000000\n",
       "yearOfRegistration     0.003090\n",
       "powerPS                0.002503\n",
       "postalCode            -0.000923\n",
       "monthOfRegistration   -0.003140\n",
       "kilometer             -0.011455\n",
       "nrOfPictures                NaN\n",
       "Name: price, dtype: float64"
      ]
     },
     "execution_count": 412,
     "metadata": {},
     "output_type": "execute_result"
    }
   ],
   "source": [
    "corr_matrix[\"price\"].sort_values(ascending=False)"
   ]
  },
  {
   "cell_type": "code",
   "execution_count": 414,
   "id": "0415d9b5",
   "metadata": {},
   "outputs": [],
   "source": [
    "clear_data = droped_data.drop(columns=['lastSeen', 'nrOfPictures', 'seller', 'name', 'offerType'])"
   ]
  },
  {
   "cell_type": "code",
   "execution_count": 463,
   "id": "a7cec2ac",
   "metadata": {
    "scrolled": false
   },
   "outputs": [
    {
     "name": "stdout",
     "output_type": "stream",
     "text": [
      "<class 'pandas.core.frame.DataFrame'>\n",
      "Int64Index: 338931 entries, 0 to 371527\n",
      "Data columns (total 16 columns):\n",
      " #   Column               Non-Null Count   Dtype   \n",
      "---  ------               --------------   -----   \n",
      " 0   dateCrawled          338931 non-null  object  \n",
      " 1   price                338931 non-null  int64   \n",
      " 2   abtest               338931 non-null  int64   \n",
      " 3   vehicleType          338931 non-null  int64   \n",
      " 4   yearOfRegistration   338931 non-null  float64 \n",
      " 5   gearbox              338931 non-null  int64   \n",
      " 6   powerPS              338931 non-null  int64   \n",
      " 7   model                322704 non-null  object  \n",
      " 8   kilometer            338931 non-null  int64   \n",
      " 9   monthOfRegistration  338931 non-null  int64   \n",
      " 10  fuelType             338931 non-null  int64   \n",
      " 11  brand                338931 non-null  int64   \n",
      " 12  notRepairedDamage    338931 non-null  int64   \n",
      " 13  dateCreated          338931 non-null  object  \n",
      " 14  postalCode           338931 non-null  int64   \n",
      " 15  kilometer_cat        338931 non-null  category\n",
      "dtypes: category(1), float64(1), int64(11), object(3)\n",
      "memory usage: 41.7+ MB\n"
     ]
    }
   ],
   "source": [
    "clear_data.info()"
   ]
  },
  {
   "cell_type": "code",
   "execution_count": 458,
   "id": "344d4370",
   "metadata": {},
   "outputs": [
    {
     "data": {
      "text/plain": [
       "7"
      ]
     },
     "execution_count": 458,
     "metadata": {},
     "output_type": "execute_result"
    }
   ],
   "source": [
    "clear_data.fuelType.value_counts().count()"
   ]
  },
  {
   "cell_type": "code",
   "execution_count": 460,
   "id": "0b807733",
   "metadata": {
    "scrolled": true
   },
   "outputs": [
    {
     "data": {
      "text/plain": [
       "10    203484\n",
       "5     109110\n",
       "12     25279\n",
       "9        690\n",
       "15       268\n",
       "4        100\n",
       "Name: fuelType, dtype: int64"
      ]
     },
     "execution_count": 460,
     "metadata": {},
     "output_type": "execute_result"
    }
   ],
   "source": [
    "clear_data.fuelType.value_counts()"
   ]
  },
  {
   "cell_type": "code",
   "execution_count": 461,
   "id": "742350d1",
   "metadata": {},
   "outputs": [],
   "source": [
    "corr_matrix_clear = clear_data.corr()"
   ]
  },
  {
   "cell_type": "code",
   "execution_count": 462,
   "id": "bbc77220",
   "metadata": {
    "scrolled": false
   },
   "outputs": [
    {
     "data": {
      "text/plain": [
       "price                  1.000000\n",
       "yearOfRegistration     0.003090\n",
       "powerPS                0.002503\n",
       "abtest                 0.001518\n",
       "fuelType              -0.000729\n",
       "postalCode            -0.000923\n",
       "brand                 -0.001612\n",
       "notRepairedDamage     -0.002536\n",
       "gearbox               -0.002785\n",
       "monthOfRegistration   -0.003140\n",
       "vehicleType           -0.005477\n",
       "kilometer             -0.011455\n",
       "Name: price, dtype: float64"
      ]
     },
     "execution_count": 462,
     "metadata": {},
     "output_type": "execute_result"
    }
   ],
   "source": [
    "corr_matrix_clear[\"price\"].sort_values(ascending=False)"
   ]
  },
  {
   "cell_type": "code",
   "execution_count": 510,
   "id": "db7fea6c",
   "metadata": {},
   "outputs": [
    {
     "name": "stdout",
     "output_type": "stream",
     "text": [
      "<class 'pandas.core.frame.DataFrame'>\n",
      "Int64Index: 338931 entries, 0 to 371527\n",
      "Data columns (total 13 columns):\n",
      " #   Column               Non-Null Count   Dtype   \n",
      "---  ------               --------------   -----   \n",
      " 0   price                338931 non-null  int64   \n",
      " 1   abtest               338931 non-null  int64   \n",
      " 2   vehicleType          338931 non-null  int64   \n",
      " 3   yearOfRegistration   338931 non-null  float64 \n",
      " 4   gearbox              338931 non-null  int64   \n",
      " 5   powerPS              338931 non-null  int64   \n",
      " 6   kilometer            338931 non-null  int64   \n",
      " 7   monthOfRegistration  338931 non-null  int64   \n",
      " 8   fuelType             338931 non-null  int64   \n",
      " 9   brand                338931 non-null  int64   \n",
      " 10  notRepairedDamage    338931 non-null  int64   \n",
      " 11  postalCode           338931 non-null  int64   \n",
      " 12  kilometer_cat        338931 non-null  category\n",
      "dtypes: category(1), float64(1), int64(11)\n",
      "memory usage: 33.9 MB\n"
     ]
    }
   ],
   "source": [
    "new_clear_data.info()"
   ]
  },
  {
   "cell_type": "code",
   "execution_count": 464,
   "id": "50f5bf19",
   "metadata": {
    "scrolled": true
   },
   "outputs": [
    {
     "data": {
      "text/plain": [
       "<AxesSubplot:>"
      ]
     },
     "execution_count": 464,
     "metadata": {},
     "output_type": "execute_result"
    },
    {
     "data": {
      "image/png": "[encoded data removed]",
      "text/plain": [
       "<Figure size 432x288 with 1 Axes>"
      ]
     },
     "metadata": {
      "needs_background": "light"
     },
     "output_type": "display_data"
    }
   ],
   "source": [
    "clear_data.vehicleType.hist()"
   ]
  },
  {
   "cell_type": "code",
   "execution_count": 275,
   "id": "651dc7d9",
   "metadata": {
    "scrolled": true
   },
   "outputs": [
    {
     "data": {
      "text/plain": [
       "<AxesSubplot:xlabel='yearOfRegistration'>"
      ]
     },
     "execution_count": 275,
     "metadata": {},
     "output_type": "execute_result"
    },
    {
     "data": {
      "image/png": "[encoded data removed]",
      "text/plain": [
       "<Figure size 432x288 with 1 Axes>"
      ]
     },
     "metadata": {
      "needs_background": "light"
     },
     "output_type": "display_data"
    }
   ],
   "source": [
    "norm_new_price = data_kilo.groupby('yearOfRegistration')['price'].mean()\n",
    "norm_new_price.plot()"
   ]
  },
  {
   "cell_type": "code",
   "execution_count": 282,
   "id": "80f39828",
   "metadata": {
    "scrolled": true
   },
   "outputs": [
    {
     "data": {
      "text/plain": [
       "2000.0    24551\n",
       "1999.0    22767\n",
       "2005.0    22316\n",
       "2006.0    20230\n",
       "2001.0    20218\n",
       "2003.0    19873\n",
       "2004.0    19746\n",
       "2002.0    19189\n",
       "1998.0    17951\n",
       "2007.0    17673\n",
       "2008.0    16175\n",
       "2009.0    15607\n",
       "1997.0    14706\n",
       "2010.0    12354\n",
       "2011.0    12068\n",
       "1996.0    10886\n",
       "2016.0     9859\n",
       "1995.0     9658\n",
       "2012.0     9418\n",
       "2013.0     6157\n",
       "1994.0     4872\n",
       "2014.0     4802\n",
       "1993.0     3469\n",
       "1992.0     3048\n",
       "2015.0     2982\n",
       "1990.0     2852\n",
       "1991.0     2810\n",
       "1989.0     1342\n",
       "1988.0      965\n",
       "1987.0      697\n",
       "1986.0      576\n",
       "Name: yearOfRegistration, dtype: int64"
      ]
     },
     "execution_count": 282,
     "metadata": {},
     "output_type": "execute_result"
    }
   ],
   "source": [
    "data_kilo[\"yearOfRegistration\"].value_counts()"
   ]
  },
  {
   "cell_type": "code",
   "execution_count": 276,
   "id": "35205240",
   "metadata": {
    "scrolled": true
   },
   "outputs": [
    {
     "data": {
      "text/html": [
       "<div>\n",
       "<style scoped>\n",
       "    .dataframe tbody tr th:only-of-type {\n",
       "        vertical-align: middle;\n",
       "    }\n",
       "\n",
       "    .dataframe tbody tr th {\n",
       "        vertical-align: top;\n",
       "    }\n",
       "\n",
       "    .dataframe thead th {\n",
       "        text-align: right;\n",
       "    }\n",
       "</style>\n",
       "<table border=\"1\" class=\"dataframe\">\n",
       "  <thead>\n",
       "    <tr style=\"text-align: right;\">\n",
       "      <th></th>\n",
       "      <th>count</th>\n",
       "      <th>mean</th>\n",
       "      <th>std</th>\n",
       "      <th>min</th>\n",
       "      <th>25%</th>\n",
       "      <th>50%</th>\n",
       "      <th>75%</th>\n",
       "      <th>max</th>\n",
       "    </tr>\n",
       "    <tr>\n",
       "      <th>yearOfRegistration</th>\n",
       "      <th></th>\n",
       "      <th></th>\n",
       "      <th></th>\n",
       "      <th></th>\n",
       "      <th></th>\n",
       "      <th></th>\n",
       "      <th></th>\n",
       "      <th></th>\n",
       "    </tr>\n",
       "  </thead>\n",
       "  <tbody>\n",
       "    <tr>\n",
       "      <th>1986.0</th>\n",
       "      <td>576.0</td>\n",
       "      <td>6652.793403</td>\n",
       "      <td>1.591000e+04</td>\n",
       "      <td>0.0</td>\n",
       "      <td>950.0</td>\n",
       "      <td>2500.0</td>\n",
       "      <td>5900.00</td>\n",
       "      <td>2.000000e+05</td>\n",
       "    </tr>\n",
       "    <tr>\n",
       "      <th>1987.0</th>\n",
       "      <td>697.0</td>\n",
       "      <td>5262.538020</td>\n",
       "      <td>1.176112e+04</td>\n",
       "      <td>0.0</td>\n",
       "      <td>900.0</td>\n",
       "      <td>2200.0</td>\n",
       "      <td>4758.00</td>\n",
       "      <td>1.740000e+05</td>\n",
       "    </tr>\n",
       "    <tr>\n",
       "      <th>1988.0</th>\n",
       "      <td>965.0</td>\n",
       "      <td>4587.361658</td>\n",
       "      <td>1.211388e+04</td>\n",
       "      <td>0.0</td>\n",
       "      <td>950.0</td>\n",
       "      <td>2000.0</td>\n",
       "      <td>4500.00</td>\n",
       "      <td>2.250000e+05</td>\n",
       "    </tr>\n",
       "    <tr>\n",
       "      <th>1989.0</th>\n",
       "      <td>1342.0</td>\n",
       "      <td>3996.688525</td>\n",
       "      <td>1.145883e+04</td>\n",
       "      <td>0.0</td>\n",
       "      <td>700.0</td>\n",
       "      <td>1724.5</td>\n",
       "      <td>3700.00</td>\n",
       "      <td>1.890000e+05</td>\n",
       "    </tr>\n",
       "    <tr>\n",
       "      <th>1990.0</th>\n",
       "      <td>2852.0</td>\n",
       "      <td>37921.283310</td>\n",
       "      <td>1.872480e+06</td>\n",
       "      <td>0.0</td>\n",
       "      <td>400.0</td>\n",
       "      <td>1090.0</td>\n",
       "      <td>2600.00</td>\n",
       "      <td>1.000000e+08</td>\n",
       "    </tr>\n",
       "    <tr>\n",
       "      <th>1991.0</th>\n",
       "      <td>2810.0</td>\n",
       "      <td>3065.327758</td>\n",
       "      <td>9.263643e+03</td>\n",
       "      <td>0.0</td>\n",
       "      <td>550.0</td>\n",
       "      <td>1200.0</td>\n",
       "      <td>2800.00</td>\n",
       "      <td>2.700000e+05</td>\n",
       "    </tr>\n",
       "    <tr>\n",
       "      <th>1992.0</th>\n",
       "      <td>3048.0</td>\n",
       "      <td>36350.301181</td>\n",
       "      <td>1.811501e+06</td>\n",
       "      <td>0.0</td>\n",
       "      <td>550.0</td>\n",
       "      <td>1200.0</td>\n",
       "      <td>2900.00</td>\n",
       "      <td>1.000000e+08</td>\n",
       "    </tr>\n",
       "    <tr>\n",
       "      <th>1993.0</th>\n",
       "      <td>3469.0</td>\n",
       "      <td>2435.334967</td>\n",
       "      <td>1.087364e+04</td>\n",
       "      <td>0.0</td>\n",
       "      <td>490.0</td>\n",
       "      <td>900.0</td>\n",
       "      <td>1999.00</td>\n",
       "      <td>4.660000e+05</td>\n",
       "    </tr>\n",
       "    <tr>\n",
       "      <th>1994.0</th>\n",
       "      <td>4872.0</td>\n",
       "      <td>1882.924877</td>\n",
       "      <td>5.428406e+03</td>\n",
       "      <td>0.0</td>\n",
       "      <td>500.0</td>\n",
       "      <td>899.0</td>\n",
       "      <td>1700.00</td>\n",
       "      <td>1.550000e+05</td>\n",
       "    </tr>\n",
       "    <tr>\n",
       "      <th>1995.0</th>\n",
       "      <td>9658.0</td>\n",
       "      <td>15566.174363</td>\n",
       "      <td>1.037683e+06</td>\n",
       "      <td>0.0</td>\n",
       "      <td>350.0</td>\n",
       "      <td>700.0</td>\n",
       "      <td>1300.00</td>\n",
       "      <td>1.000000e+08</td>\n",
       "    </tr>\n",
       "    <tr>\n",
       "      <th>1996.0</th>\n",
       "      <td>10886.0</td>\n",
       "      <td>210896.218446</td>\n",
       "      <td>2.060534e+07</td>\n",
       "      <td>0.0</td>\n",
       "      <td>499.0</td>\n",
       "      <td>800.0</td>\n",
       "      <td>1499.00</td>\n",
       "      <td>2.147484e+09</td>\n",
       "    </tr>\n",
       "    <tr>\n",
       "      <th>1997.0</th>\n",
       "      <td>14706.0</td>\n",
       "      <td>2307.213518</td>\n",
       "      <td>1.021981e+05</td>\n",
       "      <td>0.0</td>\n",
       "      <td>499.0</td>\n",
       "      <td>850.0</td>\n",
       "      <td>1490.00</td>\n",
       "      <td>1.234568e+07</td>\n",
       "    </tr>\n",
       "    <tr>\n",
       "      <th>1998.0</th>\n",
       "      <td>17951.0</td>\n",
       "      <td>1783.818840</td>\n",
       "      <td>1.312911e+04</td>\n",
       "      <td>0.0</td>\n",
       "      <td>600.0</td>\n",
       "      <td>1000.0</td>\n",
       "      <td>1750.00</td>\n",
       "      <td>1.000000e+06</td>\n",
       "    </tr>\n",
       "    <tr>\n",
       "      <th>1999.0</th>\n",
       "      <td>22767.0</td>\n",
       "      <td>10516.975623</td>\n",
       "      <td>9.372660e+05</td>\n",
       "      <td>0.0</td>\n",
       "      <td>700.0</td>\n",
       "      <td>1200.0</td>\n",
       "      <td>1950.00</td>\n",
       "      <td>1.000000e+08</td>\n",
       "    </tr>\n",
       "    <tr>\n",
       "      <th>2000.0</th>\n",
       "      <td>24551.0</td>\n",
       "      <td>10865.046882</td>\n",
       "      <td>8.061182e+05</td>\n",
       "      <td>0.0</td>\n",
       "      <td>650.0</td>\n",
       "      <td>1295.0</td>\n",
       "      <td>2200.00</td>\n",
       "      <td>1.000000e+08</td>\n",
       "    </tr>\n",
       "    <tr>\n",
       "      <th>2001.0</th>\n",
       "      <td>20218.0</td>\n",
       "      <td>8717.475962</td>\n",
       "      <td>7.139105e+05</td>\n",
       "      <td>0.0</td>\n",
       "      <td>1000.0</td>\n",
       "      <td>1800.0</td>\n",
       "      <td>2990.00</td>\n",
       "      <td>1.000000e+08</td>\n",
       "    </tr>\n",
       "    <tr>\n",
       "      <th>2002.0</th>\n",
       "      <td>19189.0</td>\n",
       "      <td>8715.643025</td>\n",
       "      <td>7.254750e+05</td>\n",
       "      <td>0.0</td>\n",
       "      <td>1400.0</td>\n",
       "      <td>2250.0</td>\n",
       "      <td>3500.00</td>\n",
       "      <td>1.000000e+08</td>\n",
       "    </tr>\n",
       "    <tr>\n",
       "      <th>2003.0</th>\n",
       "      <td>19873.0</td>\n",
       "      <td>5317.190963</td>\n",
       "      <td>1.417621e+05</td>\n",
       "      <td>0.0</td>\n",
       "      <td>1700.0</td>\n",
       "      <td>2700.0</td>\n",
       "      <td>4290.00</td>\n",
       "      <td>1.234568e+07</td>\n",
       "    </tr>\n",
       "    <tr>\n",
       "      <th>2004.0</th>\n",
       "      <td>19746.0</td>\n",
       "      <td>6198.002076</td>\n",
       "      <td>2.316664e+05</td>\n",
       "      <td>0.0</td>\n",
       "      <td>2300.0</td>\n",
       "      <td>3500.0</td>\n",
       "      <td>5500.00</td>\n",
       "      <td>3.254546e+07</td>\n",
       "    </tr>\n",
       "    <tr>\n",
       "      <th>2005.0</th>\n",
       "      <td>22316.0</td>\n",
       "      <td>5388.772316</td>\n",
       "      <td>2.579312e+04</td>\n",
       "      <td>0.0</td>\n",
       "      <td>2500.0</td>\n",
       "      <td>4000.0</td>\n",
       "      <td>6500.00</td>\n",
       "      <td>2.995000e+06</td>\n",
       "    </tr>\n",
       "    <tr>\n",
       "      <th>2006.0</th>\n",
       "      <td>20230.0</td>\n",
       "      <td>12598.363618</td>\n",
       "      <td>7.094266e+05</td>\n",
       "      <td>0.0</td>\n",
       "      <td>3500.0</td>\n",
       "      <td>5500.0</td>\n",
       "      <td>8249.00</td>\n",
       "      <td>1.000000e+08</td>\n",
       "    </tr>\n",
       "    <tr>\n",
       "      <th>2007.0</th>\n",
       "      <td>17673.0</td>\n",
       "      <td>8490.164149</td>\n",
       "      <td>7.541285e+04</td>\n",
       "      <td>0.0</td>\n",
       "      <td>4280.0</td>\n",
       "      <td>6599.0</td>\n",
       "      <td>9900.00</td>\n",
       "      <td>1.000000e+07</td>\n",
       "    </tr>\n",
       "    <tr>\n",
       "      <th>2008.0</th>\n",
       "      <td>16175.0</td>\n",
       "      <td>10279.296692</td>\n",
       "      <td>1.102731e+05</td>\n",
       "      <td>0.0</td>\n",
       "      <td>5000.0</td>\n",
       "      <td>7900.0</td>\n",
       "      <td>11900.00</td>\n",
       "      <td>1.400050e+07</td>\n",
       "    </tr>\n",
       "    <tr>\n",
       "      <th>2009.0</th>\n",
       "      <td>15607.0</td>\n",
       "      <td>22857.225604</td>\n",
       "      <td>1.126281e+06</td>\n",
       "      <td>0.0</td>\n",
       "      <td>5450.0</td>\n",
       "      <td>8200.0</td>\n",
       "      <td>12850.00</td>\n",
       "      <td>1.000000e+08</td>\n",
       "    </tr>\n",
       "    <tr>\n",
       "      <th>2010.0</th>\n",
       "      <td>12354.0</td>\n",
       "      <td>12791.850656</td>\n",
       "      <td>1.217484e+04</td>\n",
       "      <td>0.0</td>\n",
       "      <td>7000.0</td>\n",
       "      <td>10900.0</td>\n",
       "      <td>15786.75</td>\n",
       "      <td>4.889970e+05</td>\n",
       "    </tr>\n",
       "    <tr>\n",
       "      <th>2011.0</th>\n",
       "      <td>12068.0</td>\n",
       "      <td>14576.159596</td>\n",
       "      <td>9.598853e+03</td>\n",
       "      <td>0.0</td>\n",
       "      <td>8700.0</td>\n",
       "      <td>12800.0</td>\n",
       "      <td>17900.00</td>\n",
       "      <td>2.050000e+05</td>\n",
       "    </tr>\n",
       "    <tr>\n",
       "      <th>2012.0</th>\n",
       "      <td>9418.0</td>\n",
       "      <td>16256.597791</td>\n",
       "      <td>1.143295e+04</td>\n",
       "      <td>0.0</td>\n",
       "      <td>9200.0</td>\n",
       "      <td>13990.0</td>\n",
       "      <td>19900.00</td>\n",
       "      <td>3.450000e+05</td>\n",
       "    </tr>\n",
       "    <tr>\n",
       "      <th>2013.0</th>\n",
       "      <td>6157.0</td>\n",
       "      <td>18774.056683</td>\n",
       "      <td>1.464819e+04</td>\n",
       "      <td>0.0</td>\n",
       "      <td>10800.0</td>\n",
       "      <td>16400.0</td>\n",
       "      <td>22950.00</td>\n",
       "      <td>5.178950e+05</td>\n",
       "    </tr>\n",
       "    <tr>\n",
       "      <th>2014.0</th>\n",
       "      <td>4802.0</td>\n",
       "      <td>27504.896501</td>\n",
       "      <td>3.942193e+05</td>\n",
       "      <td>0.0</td>\n",
       "      <td>13199.0</td>\n",
       "      <td>19500.0</td>\n",
       "      <td>26990.00</td>\n",
       "      <td>2.732222e+07</td>\n",
       "    </tr>\n",
       "    <tr>\n",
       "      <th>2015.0</th>\n",
       "      <td>2982.0</td>\n",
       "      <td>26048.669685</td>\n",
       "      <td>3.123856e+04</td>\n",
       "      <td>0.0</td>\n",
       "      <td>13900.0</td>\n",
       "      <td>22540.0</td>\n",
       "      <td>32800.00</td>\n",
       "      <td>9.999990e+05</td>\n",
       "    </tr>\n",
       "    <tr>\n",
       "      <th>2016.0</th>\n",
       "      <td>9859.0</td>\n",
       "      <td>4738.513237</td>\n",
       "      <td>4.128979e+04</td>\n",
       "      <td>0.0</td>\n",
       "      <td>450.0</td>\n",
       "      <td>999.0</td>\n",
       "      <td>2700.00</td>\n",
       "      <td>2.795000e+06</td>\n",
       "    </tr>\n",
       "  </tbody>\n",
       "</table>\n",
       "</div>"
      ],
      "text/plain": [
       "                      count           mean           std  min      25%  \\\n",
       "yearOfRegistration                                                       \n",
       "1986.0                576.0    6652.793403  1.591000e+04  0.0    950.0   \n",
       "1987.0                697.0    5262.538020  1.176112e+04  0.0    900.0   \n",
       "1988.0                965.0    4587.361658  1.211388e+04  0.0    950.0   \n",
       "1989.0               1342.0    3996.688525  1.145883e+04  0.0    700.0   \n",
       "1990.0               2852.0   37921.283310  1.872480e+06  0.0    400.0   \n",
       "1991.0               2810.0    3065.327758  9.263643e+03  0.0    550.0   \n",
       "1992.0               3048.0   36350.301181  1.811501e+06  0.0    550.0   \n",
       "1993.0               3469.0    2435.334967  1.087364e+04  0.0    490.0   \n",
       "1994.0               4872.0    1882.924877  5.428406e+03  0.0    500.0   \n",
       "1995.0               9658.0   15566.174363  1.037683e+06  0.0    350.0   \n",
       "1996.0              10886.0  210896.218446  2.060534e+07  0.0    499.0   \n",
       "1997.0              14706.0    2307.213518  1.021981e+05  0.0    499.0   \n",
       "1998.0              17951.0    1783.818840  1.312911e+04  0.0    600.0   \n",
       "1999.0              22767.0   10516.975623  9.372660e+05  0.0    700.0   \n",
       "2000.0              24551.0   10865.046882  8.061182e+05  0.0    650.0   \n",
       "2001.0              20218.0    8717.475962  7.139105e+05  0.0   1000.0   \n",
       "2002.0              19189.0    8715.643025  7.254750e+05  0.0   1400.0   \n",
       "2003.0              19873.0    5317.190963  1.417621e+05  0.0   1700.0   \n",
       "2004.0              19746.0    6198.002076  2.316664e+05  0.0   2300.0   \n",
       "2005.0              22316.0    5388.772316  2.579312e+04  0.0   2500.0   \n",
       "2006.0              20230.0   12598.363618  7.094266e+05  0.0   3500.0   \n",
       "2007.0              17673.0    8490.164149  7.541285e+04  0.0   4280.0   \n",
       "2008.0              16175.0   10279.296692  1.102731e+05  0.0   5000.0   \n",
       "2009.0              15607.0   22857.225604  1.126281e+06  0.0   5450.0   \n",
       "2010.0              12354.0   12791.850656  1.217484e+04  0.0   7000.0   \n",
       "2011.0              12068.0   14576.159596  9.598853e+03  0.0   8700.0   \n",
       "2012.0               9418.0   16256.597791  1.143295e+04  0.0   9200.0   \n",
       "2013.0               6157.0   18774.056683  1.464819e+04  0.0  10800.0   \n",
       "2014.0               4802.0   27504.896501  3.942193e+05  0.0  13199.0   \n",
       "2015.0               2982.0   26048.669685  3.123856e+04  0.0  13900.0   \n",
       "2016.0               9859.0    4738.513237  4.128979e+04  0.0    450.0   \n",
       "\n",
       "                        50%       75%           max  \n",
       "yearOfRegistration                                   \n",
       "1986.0               2500.0   5900.00  2.000000e+05  \n",
       "1987.0               2200.0   4758.00  1.740000e+05  \n",
       "1988.0               2000.0   4500.00  2.250000e+05  \n",
       "1989.0               1724.5   3700.00  1.890000e+05  \n",
       "1990.0               1090.0   2600.00  1.000000e+08  \n",
       "1991.0               1200.0   2800.00  2.700000e+05  \n",
       "1992.0               1200.0   2900.00  1.000000e+08  \n",
       "1993.0                900.0   1999.00  4.660000e+05  \n",
       "1994.0                899.0   1700.00  1.550000e+05  \n",
       "1995.0                700.0   1300.00  1.000000e+08  \n",
       "1996.0                800.0   1499.00  2.147484e+09  \n",
       "1997.0                850.0   1490.00  1.234568e+07  \n",
       "1998.0               1000.0   1750.00  1.000000e+06  \n",
       "1999.0               1200.0   1950.00  1.000000e+08  \n",
       "2000.0               1295.0   2200.00  1.000000e+08  \n",
       "2001.0               1800.0   2990.00  1.000000e+08  \n",
       "2002.0               2250.0   3500.00  1.000000e+08  \n",
       "2003.0               2700.0   4290.00  1.234568e+07  \n",
       "2004.0               3500.0   5500.00  3.254546e+07  \n",
       "2005.0               4000.0   6500.00  2.995000e+06  \n",
       "2006.0               5500.0   8249.00  1.000000e+08  \n",
       "2007.0               6599.0   9900.00  1.000000e+07  \n",
       "2008.0               7900.0  11900.00  1.400050e+07  \n",
       "2009.0               8200.0  12850.00  1.000000e+08  \n",
       "2010.0              10900.0  15786.75  4.889970e+05  \n",
       "2011.0              12800.0  17900.00  2.050000e+05  \n",
       "2012.0              13990.0  19900.00  3.450000e+05  \n",
       "2013.0              16400.0  22950.00  5.178950e+05  \n",
       "2014.0              19500.0  26990.00  2.732222e+07  \n",
       "2015.0              22540.0  32800.00  9.999990e+05  \n",
       "2016.0                999.0   2700.00  2.795000e+06  "
      ]
     },
     "execution_count": 276,
     "metadata": {},
     "output_type": "execute_result"
    }
   ],
   "source": [
    "data_kilo.groupby('yearOfRegistration')['price'].describe()"
   ]
  },
  {
   "cell_type": "code",
   "execution_count": 291,
   "id": "c102f84a",
   "metadata": {
    "scrolled": true
   },
   "outputs": [
    {
     "data": {
      "text/plain": [
       "500     500\n",
       "0       471\n",
       "600     346\n",
       "750     311\n",
       "650     307\n",
       "       ... \n",
       "2480      1\n",
       "1525      1\n",
       "3210      1\n",
       "2560      1\n",
       "9200      1\n",
       "Name: price, Length: 595, dtype: int64"
      ]
     },
     "execution_count": 291,
     "metadata": {},
     "output_type": "execute_result"
    }
   ],
   "source": [
    "data_kilo[data_kilo['yearOfRegistration'] == 1996].price"
   ]
  },
  {
   "cell_type": "code",
   "execution_count": 272,
   "id": "78cbdbe4",
   "metadata": {},
   "outputs": [
    {
     "name": "stdout",
     "output_type": "stream",
     "text": [
      "Pearson correlation: -0.039238624277563645 p_value: 0.8340001907572963\n",
      "Spearman correlation: 0.37379032258064515 p_value: 0.03832023935900808\n"
     ]
    }
   ],
   "source": [
    "P, p_value_P = pearsonr(norm_new_price.index, norm_new_price.values)\n",
    "S, p_value_S = spearmanr(norm_new_price.index, norm_new_price.values)\n",
    "print(f\"Pearson correlation: {P} p_value: {p_value_P}\\nSpearman correlation: {S} p_value: {p_value_S}\")"
   ]
  },
  {
   "cell_type": "code",
   "execution_count": 273,
   "id": "f61efd9d",
   "metadata": {
    "scrolled": true
   },
   "outputs": [
    {
     "data": {
      "text/plain": [
       "<AxesSubplot:xlabel='yearOfRegistration'>"
      ]
     },
     "execution_count": 273,
     "metadata": {},
     "output_type": "execute_result"
    },
    {
     "data": {
      "image/png": "[encoded data removed]",
      "text/plain": [
       "<Figure size 432x288 with 1 Axes>"
      ]
     },
     "metadata": {
      "needs_background": "light"
     },
     "output_type": "display_data"
    }
   ],
   "source": [
    "norm_new_price_droped = norm_new_price.drop(1996)\n",
    "norm_new_price_droped.plot()"
   ]
  },
  {
   "cell_type": "code",
   "execution_count": 274,
   "id": "9d84a90a",
   "metadata": {},
   "outputs": [
    {
     "name": "stdout",
     "output_type": "stream",
     "text": [
      "Pearson correlation: 0.2293100111788442 p_value: 0.22286806443049617\n",
      "Spearman correlation: 0.43492769744160176 p_value: 0.016309663296980074\n"
     ]
    }
   ],
   "source": [
    "P, p_value_P = pearsonr(norm_new_price_droped.index, norm_new_price_droped.values)\n",
    "S, p_value_S = spearmanr(norm_new_price_droped.index, norm_new_price_droped.values)\n",
    "print(f\"Pearson correlation: {P} p_value: {p_value_P}\\nSpearman correlation: {S} p_value: {p_value_S}\")"
   ]
  },
  {
   "cell_type": "markdown",
   "id": "3454bf8f",
   "metadata": {},
   "source": [
    "Можно наблюдать незначительную корреляцию года и средней ценой всех авто, зарегистрированных в этом году, правда есть довольно большие выбросы"
   ]
  },
  {
   "cell_type": "code",
   "execution_count": 260,
   "id": "86fa956f",
   "metadata": {
    "scrolled": true
   },
   "outputs": [
    {
     "name": "stdout",
     "output_type": "stream",
     "text": [
      "1986.0 2016.0\n"
     ]
    }
   ],
   "source": [
    "print(lower_bound, upper_bound)"
   ]
  },
  {
   "cell_type": "code",
   "execution_count": 262,
   "id": "8a0b817f",
   "metadata": {
    "scrolled": true
   },
   "outputs": [],
   "source": [
    "res_yer = data[(data.yearOfRegistration > lower_bound) & (data.yearOfRegistration < upper_bound)][\"yearOfRegistration\"].value_counts()"
   ]
  },
  {
   "cell_type": "code",
   "execution_count": 263,
   "id": "e2ce13d9",
   "metadata": {},
   "outputs": [
    {
     "data": {
      "text/plain": [
       "1987      697\n",
       "1988      965\n",
       "1989     1342\n",
       "1990     2852\n",
       "1991     2810\n",
       "1992     3048\n",
       "1993     3469\n",
       "1994     4872\n",
       "1995     9658\n",
       "1996    10886\n",
       "1997    14706\n",
       "1998    17951\n",
       "1999    22767\n",
       "2000    24551\n",
       "2001    20218\n",
       "2002    19189\n",
       "2003    19873\n",
       "2004    19746\n",
       "2005    22316\n",
       "2006    20230\n",
       "2007    17673\n",
       "2008    16175\n",
       "2009    15607\n",
       "2010    12354\n",
       "2011    12068\n",
       "2012     9418\n",
       "2013     6157\n",
       "2014     4802\n",
       "2015     2982\n",
       "Name: yearOfRegistration, dtype: int64"
      ]
     },
     "execution_count": 263,
     "metadata": {},
     "output_type": "execute_result"
    }
   ],
   "source": [
    "res_yer.sort_index()"
   ]
  },
  {
   "cell_type": "markdown",
   "id": "4c7b9094",
   "metadata": {},
   "source": [
    "def hampel(vals_orig):\n",
    "    vals = vals_orig.copy()    \n",
    "    difference = np.abs(vals.median()-vals)\n",
    "    median_abs_deviation = difference.median()\n",
    "    threshold = 3 * median_abs_deviation\n",
    "    outlier_idx = difference > threshold\n",
    "    vals[outlier_idx] = np.nan\n",
    "    return(vals)"
   ]
  },
  {
   "cell_type": "markdown",
   "id": "3ba4c3b9",
   "metadata": {},
   "source": [
    "type(hampel(data.yearOfRegistration).value_counts())"
   ]
  },
  {
   "cell_type": "markdown",
   "id": "229eee6a",
   "metadata": {},
   "source": [
    "hampel(data.yearOfRegistration).value_counts().sort_index().plot()"
   ]
  },
  {
   "cell_type": "code",
   "execution_count": 140,
   "id": "1dafd971",
   "metadata": {},
   "outputs": [
    {
     "data": {
      "text/plain": [
       "dateCrawled            371528\n",
       "name                   371528\n",
       "seller                 371528\n",
       "offerType              371528\n",
       "price                  371528\n",
       "abtest                 371528\n",
       "vehicleType            333659\n",
       "yearOfRegistration     371528\n",
       "gearbox                351319\n",
       "powerPS                371528\n",
       "model                  351044\n",
       "kilometer              371528\n",
       "monthOfRegistration    371528\n",
       "fuelType               338142\n",
       "brand                  371528\n",
       "notRepairedDamage      299468\n",
       "dateCreated            371528\n",
       "nrOfPictures           371528\n",
       "postalCode             371528\n",
       "lastSeen               371528\n",
       "dtype: int64"
      ]
     },
     "execution_count": 140,
     "metadata": {},
     "output_type": "execute_result"
    }
   ],
   "source": [
    "data.count()"
   ]
  },
  {
   "cell_type": "code",
   "execution_count": 139,
   "id": "10e90b7f",
   "metadata": {
    "scrolled": false
   },
   "outputs": [
    {
     "data": {
      "text/plain": [
       "dateCrawled            21711\n",
       "name                   21711\n",
       "seller                 21711\n",
       "offerType              21711\n",
       "price                  21711\n",
       "abtest                 21711\n",
       "vehicleType             5953\n",
       "yearOfRegistration     21711\n",
       "gearbox                18411\n",
       "powerPS                21711\n",
       "model                  18111\n",
       "kilometer              21711\n",
       "monthOfRegistration    21711\n",
       "fuelType               14567\n",
       "brand                  21711\n",
       "notRepairedDamage      13066\n",
       "dateCreated            21711\n",
       "nrOfPictures           21711\n",
       "postalCode             21711\n",
       "lastSeen               21711\n",
       "dtype: int64"
      ]
     },
     "execution_count": 139,
     "metadata": {},
     "output_type": "execute_result"
    }
   ],
   "source": [
    "data[(data.yearOfRegistration < lower_bound) | (data.yearOfRegistration > upper_bound)].count()"
   ]
  },
  {
   "cell_type": "code",
   "execution_count": 301,
   "id": "23c4b967",
   "metadata": {},
   "outputs": [],
   "source": [
    "kil_price = data.groupby('kilometer', as_index=False)"
   ]
  },
  {
   "cell_type": "code",
   "execution_count": 302,
   "id": "9efa23af",
   "metadata": {},
   "outputs": [
    {
     "data": {
      "text/html": [
       "<div>\n",
       "<style scoped>\n",
       "    .dataframe tbody tr th:only-of-type {\n",
       "        vertical-align: middle;\n",
       "    }\n",
       "\n",
       "    .dataframe tbody tr th {\n",
       "        vertical-align: top;\n",
       "    }\n",
       "\n",
       "    .dataframe thead th {\n",
       "        text-align: right;\n",
       "    }\n",
       "</style>\n",
       "<table border=\"1\" class=\"dataframe\">\n",
       "  <thead>\n",
       "    <tr style=\"text-align: right;\">\n",
       "      <th></th>\n",
       "      <th>dateCrawled</th>\n",
       "      <th>name</th>\n",
       "      <th>seller</th>\n",
       "      <th>offerType</th>\n",
       "      <th>price</th>\n",
       "      <th>abtest</th>\n",
       "      <th>vehicleType</th>\n",
       "      <th>yearOfRegistration</th>\n",
       "      <th>gearbox</th>\n",
       "      <th>powerPS</th>\n",
       "      <th>model</th>\n",
       "      <th>kilometer</th>\n",
       "      <th>monthOfRegistration</th>\n",
       "      <th>fuelType</th>\n",
       "      <th>brand</th>\n",
       "      <th>notRepairedDamage</th>\n",
       "      <th>dateCreated</th>\n",
       "      <th>nrOfPictures</th>\n",
       "      <th>postalCode</th>\n",
       "      <th>lastSeen</th>\n",
       "    </tr>\n",
       "  </thead>\n",
       "  <tbody>\n",
       "    <tr>\n",
       "      <th>0</th>\n",
       "      <td>2016-03-24 11:52:17</td>\n",
       "      <td>Golf_3_1.6</td>\n",
       "      <td>privat</td>\n",
       "      <td>Angebot</td>\n",
       "      <td>480</td>\n",
       "      <td>test</td>\n",
       "      <td>NaN</td>\n",
       "      <td>1993</td>\n",
       "      <td>manuell</td>\n",
       "      <td>0</td>\n",
       "      <td>golf</td>\n",
       "      <td>150000</td>\n",
       "      <td>0</td>\n",
       "      <td>benzin</td>\n",
       "      <td>volkswagen</td>\n",
       "      <td>NaN</td>\n",
       "      <td>2016-03-24 00:00:00</td>\n",
       "      <td>0</td>\n",
       "      <td>70435</td>\n",
       "      <td>2016-04-07 03:16:57</td>\n",
       "    </tr>\n",
       "    <tr>\n",
       "      <th>1</th>\n",
       "      <td>2016-03-24 10:58:45</td>\n",
       "      <td>A5_Sportback_2.7_Tdi</td>\n",
       "      <td>privat</td>\n",
       "      <td>Angebot</td>\n",
       "      <td>18300</td>\n",
       "      <td>test</td>\n",
       "      <td>coupe</td>\n",
       "      <td>2011</td>\n",
       "      <td>manuell</td>\n",
       "      <td>190</td>\n",
       "      <td>NaN</td>\n",
       "      <td>125000</td>\n",
       "      <td>5</td>\n",
       "      <td>diesel</td>\n",
       "      <td>audi</td>\n",
       "      <td>ja</td>\n",
       "      <td>2016-03-24 00:00:00</td>\n",
       "      <td>0</td>\n",
       "      <td>66954</td>\n",
       "      <td>2016-04-07 01:46:50</td>\n",
       "    </tr>\n",
       "    <tr>\n",
       "      <th>2</th>\n",
       "      <td>2016-03-14 12:52:21</td>\n",
       "      <td>Jeep_Grand_Cherokee_\"Overland\"</td>\n",
       "      <td>privat</td>\n",
       "      <td>Angebot</td>\n",
       "      <td>9800</td>\n",
       "      <td>test</td>\n",
       "      <td>suv</td>\n",
       "      <td>2004</td>\n",
       "      <td>automatik</td>\n",
       "      <td>163</td>\n",
       "      <td>grand</td>\n",
       "      <td>125000</td>\n",
       "      <td>8</td>\n",
       "      <td>diesel</td>\n",
       "      <td>jeep</td>\n",
       "      <td>NaN</td>\n",
       "      <td>2016-03-14 00:00:00</td>\n",
       "      <td>0</td>\n",
       "      <td>90480</td>\n",
       "      <td>2016-04-05 12:47:46</td>\n",
       "    </tr>\n",
       "    <tr>\n",
       "      <th>3</th>\n",
       "      <td>2016-03-17 16:54:04</td>\n",
       "      <td>GOLF_4_1_4__3TÜRER</td>\n",
       "      <td>privat</td>\n",
       "      <td>Angebot</td>\n",
       "      <td>1500</td>\n",
       "      <td>test</td>\n",
       "      <td>kleinwagen</td>\n",
       "      <td>2001</td>\n",
       "      <td>manuell</td>\n",
       "      <td>75</td>\n",
       "      <td>golf</td>\n",
       "      <td>150000</td>\n",
       "      <td>6</td>\n",
       "      <td>benzin</td>\n",
       "      <td>volkswagen</td>\n",
       "      <td>nein</td>\n",
       "      <td>2016-03-17 00:00:00</td>\n",
       "      <td>0</td>\n",
       "      <td>91074</td>\n",
       "      <td>2016-03-17 17:40:17</td>\n",
       "    </tr>\n",
       "    <tr>\n",
       "      <th>4</th>\n",
       "      <td>2016-03-31 17:25:20</td>\n",
       "      <td>Skoda_Fabia_1.4_TDI_PD_Classic</td>\n",
       "      <td>privat</td>\n",
       "      <td>Angebot</td>\n",
       "      <td>3600</td>\n",
       "      <td>test</td>\n",
       "      <td>kleinwagen</td>\n",
       "      <td>2008</td>\n",
       "      <td>manuell</td>\n",
       "      <td>69</td>\n",
       "      <td>fabia</td>\n",
       "      <td>90000</td>\n",
       "      <td>7</td>\n",
       "      <td>diesel</td>\n",
       "      <td>skoda</td>\n",
       "      <td>nein</td>\n",
       "      <td>2016-03-31 00:00:00</td>\n",
       "      <td>0</td>\n",
       "      <td>60437</td>\n",
       "      <td>2016-04-06 10:17:21</td>\n",
       "    </tr>\n",
       "    <tr>\n",
       "      <th>...</th>\n",
       "      <td>...</td>\n",
       "      <td>...</td>\n",
       "      <td>...</td>\n",
       "      <td>...</td>\n",
       "      <td>...</td>\n",
       "      <td>...</td>\n",
       "      <td>...</td>\n",
       "      <td>...</td>\n",
       "      <td>...</td>\n",
       "      <td>...</td>\n",
       "      <td>...</td>\n",
       "      <td>...</td>\n",
       "      <td>...</td>\n",
       "      <td>...</td>\n",
       "      <td>...</td>\n",
       "      <td>...</td>\n",
       "      <td>...</td>\n",
       "      <td>...</td>\n",
       "      <td>...</td>\n",
       "      <td>...</td>\n",
       "    </tr>\n",
       "    <tr>\n",
       "      <th>349</th>\n",
       "      <td>2016-03-20 11:44:15</td>\n",
       "      <td>Mazda_5_1.6_MZ_CD_Sendo</td>\n",
       "      <td>privat</td>\n",
       "      <td>Angebot</td>\n",
       "      <td>18880</td>\n",
       "      <td>test</td>\n",
       "      <td>bus</td>\n",
       "      <td>2014</td>\n",
       "      <td>manuell</td>\n",
       "      <td>116</td>\n",
       "      <td>5_reihe</td>\n",
       "      <td>20000</td>\n",
       "      <td>11</td>\n",
       "      <td>diesel</td>\n",
       "      <td>mazda</td>\n",
       "      <td>nein</td>\n",
       "      <td>2016-03-20 00:00:00</td>\n",
       "      <td>0</td>\n",
       "      <td>59872</td>\n",
       "      <td>2016-04-06 08:46:43</td>\n",
       "    </tr>\n",
       "    <tr>\n",
       "      <th>366</th>\n",
       "      <td>2016-03-30 07:54:00</td>\n",
       "      <td>Opel_Corsa_1.4_ecoFLEX_Start/Stop_Color_Edition</td>\n",
       "      <td>privat</td>\n",
       "      <td>Angebot</td>\n",
       "      <td>9999</td>\n",
       "      <td>control</td>\n",
       "      <td>kleinwagen</td>\n",
       "      <td>2014</td>\n",
       "      <td>manuell</td>\n",
       "      <td>90</td>\n",
       "      <td>corsa</td>\n",
       "      <td>20000</td>\n",
       "      <td>9</td>\n",
       "      <td>benzin</td>\n",
       "      <td>opel</td>\n",
       "      <td>nein</td>\n",
       "      <td>2016-03-30 00:00:00</td>\n",
       "      <td>0</td>\n",
       "      <td>55294</td>\n",
       "      <td>2016-04-06 23:46:25</td>\n",
       "    </tr>\n",
       "    <tr>\n",
       "      <th>376</th>\n",
       "      <td>2016-03-11 21:49:52</td>\n",
       "      <td>Corvette_Z06</td>\n",
       "      <td>privat</td>\n",
       "      <td>Angebot</td>\n",
       "      <td>49500</td>\n",
       "      <td>test</td>\n",
       "      <td>cabrio</td>\n",
       "      <td>2013</td>\n",
       "      <td>NaN</td>\n",
       "      <td>0</td>\n",
       "      <td>NaN</td>\n",
       "      <td>10000</td>\n",
       "      <td>6</td>\n",
       "      <td>benzin</td>\n",
       "      <td>sonstige_autos</td>\n",
       "      <td>nein</td>\n",
       "      <td>2016-03-11 00:00:00</td>\n",
       "      <td>0</td>\n",
       "      <td>79774</td>\n",
       "      <td>2016-03-13 04:45:42</td>\n",
       "    </tr>\n",
       "    <tr>\n",
       "      <th>514</th>\n",
       "      <td>2016-03-14 01:47:28</td>\n",
       "      <td>Volkswagen_Golf_1.2_TSI_BlueM_Technology_Cup_S...</td>\n",
       "      <td>privat</td>\n",
       "      <td>Angebot</td>\n",
       "      <td>14650</td>\n",
       "      <td>control</td>\n",
       "      <td>limousine</td>\n",
       "      <td>2014</td>\n",
       "      <td>manuell</td>\n",
       "      <td>86</td>\n",
       "      <td>golf</td>\n",
       "      <td>20000</td>\n",
       "      <td>12</td>\n",
       "      <td>benzin</td>\n",
       "      <td>volkswagen</td>\n",
       "      <td>nein</td>\n",
       "      <td>2016-03-13 00:00:00</td>\n",
       "      <td>0</td>\n",
       "      <td>38444</td>\n",
       "      <td>2016-04-05 01:15:23</td>\n",
       "    </tr>\n",
       "    <tr>\n",
       "      <th>893</th>\n",
       "      <td>2016-04-01 19:58:33</td>\n",
       "      <td>Porsche_Boxster_PDK</td>\n",
       "      <td>privat</td>\n",
       "      <td>Angebot</td>\n",
       "      <td>43900</td>\n",
       "      <td>control</td>\n",
       "      <td>cabrio</td>\n",
       "      <td>2014</td>\n",
       "      <td>automatik</td>\n",
       "      <td>265</td>\n",
       "      <td>boxster</td>\n",
       "      <td>10000</td>\n",
       "      <td>2</td>\n",
       "      <td>benzin</td>\n",
       "      <td>porsche</td>\n",
       "      <td>nein</td>\n",
       "      <td>2016-04-01 00:00:00</td>\n",
       "      <td>0</td>\n",
       "      <td>55128</td>\n",
       "      <td>2016-04-02 15:38:28</td>\n",
       "    </tr>\n",
       "  </tbody>\n",
       "</table>\n",
       "<p>65 rows × 20 columns</p>\n",
       "</div>"
      ],
      "text/plain": [
       "             dateCrawled                                               name  \\\n",
       "0    2016-03-24 11:52:17                                         Golf_3_1.6   \n",
       "1    2016-03-24 10:58:45                               A5_Sportback_2.7_Tdi   \n",
       "2    2016-03-14 12:52:21                     Jeep_Grand_Cherokee_\"Overland\"   \n",
       "3    2016-03-17 16:54:04                                 GOLF_4_1_4__3TÜRER   \n",
       "4    2016-03-31 17:25:20                     Skoda_Fabia_1.4_TDI_PD_Classic   \n",
       "..                   ...                                                ...   \n",
       "349  2016-03-20 11:44:15                            Mazda_5_1.6_MZ_CD_Sendo   \n",
       "366  2016-03-30 07:54:00    Opel_Corsa_1.4_ecoFLEX_Start/Stop_Color_Edition   \n",
       "376  2016-03-11 21:49:52                                       Corvette_Z06   \n",
       "514  2016-03-14 01:47:28  Volkswagen_Golf_1.2_TSI_BlueM_Technology_Cup_S...   \n",
       "893  2016-04-01 19:58:33                                Porsche_Boxster_PDK   \n",
       "\n",
       "     seller offerType  price   abtest vehicleType  yearOfRegistration  \\\n",
       "0    privat   Angebot    480     test         NaN                1993   \n",
       "1    privat   Angebot  18300     test       coupe                2011   \n",
       "2    privat   Angebot   9800     test         suv                2004   \n",
       "3    privat   Angebot   1500     test  kleinwagen                2001   \n",
       "4    privat   Angebot   3600     test  kleinwagen                2008   \n",
       "..      ...       ...    ...      ...         ...                 ...   \n",
       "349  privat   Angebot  18880     test         bus                2014   \n",
       "366  privat   Angebot   9999  control  kleinwagen                2014   \n",
       "376  privat   Angebot  49500     test      cabrio                2013   \n",
       "514  privat   Angebot  14650  control   limousine                2014   \n",
       "893  privat   Angebot  43900  control      cabrio                2014   \n",
       "\n",
       "       gearbox  powerPS    model  kilometer  monthOfRegistration fuelType  \\\n",
       "0      manuell        0     golf     150000                    0   benzin   \n",
       "1      manuell      190      NaN     125000                    5   diesel   \n",
       "2    automatik      163    grand     125000                    8   diesel   \n",
       "3      manuell       75     golf     150000                    6   benzin   \n",
       "4      manuell       69    fabia      90000                    7   diesel   \n",
       "..         ...      ...      ...        ...                  ...      ...   \n",
       "349    manuell      116  5_reihe      20000                   11   diesel   \n",
       "366    manuell       90    corsa      20000                    9   benzin   \n",
       "376        NaN        0      NaN      10000                    6   benzin   \n",
       "514    manuell       86     golf      20000                   12   benzin   \n",
       "893  automatik      265  boxster      10000                    2   benzin   \n",
       "\n",
       "              brand notRepairedDamage          dateCreated  nrOfPictures  \\\n",
       "0        volkswagen               NaN  2016-03-24 00:00:00             0   \n",
       "1              audi                ja  2016-03-24 00:00:00             0   \n",
       "2              jeep               NaN  2016-03-14 00:00:00             0   \n",
       "3        volkswagen              nein  2016-03-17 00:00:00             0   \n",
       "4             skoda              nein  2016-03-31 00:00:00             0   \n",
       "..              ...               ...                  ...           ...   \n",
       "349           mazda              nein  2016-03-20 00:00:00             0   \n",
       "366            opel              nein  2016-03-30 00:00:00             0   \n",
       "376  sonstige_autos              nein  2016-03-11 00:00:00             0   \n",
       "514      volkswagen              nein  2016-03-13 00:00:00             0   \n",
       "893         porsche              nein  2016-04-01 00:00:00             0   \n",
       "\n",
       "     postalCode             lastSeen  \n",
       "0         70435  2016-04-07 03:16:57  \n",
       "1         66954  2016-04-07 01:46:50  \n",
       "2         90480  2016-04-05 12:47:46  \n",
       "3         91074  2016-03-17 17:40:17  \n",
       "4         60437  2016-04-06 10:17:21  \n",
       "..          ...                  ...  \n",
       "349       59872  2016-04-06 08:46:43  \n",
       "366       55294  2016-04-06 23:46:25  \n",
       "376       79774  2016-03-13 04:45:42  \n",
       "514       38444  2016-04-05 01:15:23  \n",
       "893       55128  2016-04-02 15:38:28  \n",
       "\n",
       "[65 rows x 20 columns]"
      ]
     },
     "execution_count": 302,
     "metadata": {},
     "output_type": "execute_result"
    }
   ],
   "source": [
    "kil_price.head()"
   ]
  },
  {
   "cell_type": "code",
   "execution_count": 25,
   "id": "b4823fea",
   "metadata": {},
   "outputs": [
    {
     "data": {
      "text/plain": [
       "1000    38\n",
       "Name: yearOfRegistration, dtype: int64"
      ]
     },
     "execution_count": 25,
     "metadata": {},
     "output_type": "execute_result"
    }
   ],
   "source": [
    "data[data.yearOfRegistration == 1000][\"yearOfRegistration\"].value_counts()"
   ]
  },
  {
   "cell_type": "code",
   "execution_count": 210,
   "id": "c7fe7f53",
   "metadata": {},
   "outputs": [
    {
     "data": {
      "text/plain": [
       "array([[<AxesSubplot:title={'center':'price'}>,\n",
       "        <AxesSubplot:title={'center':'yearOfRegistration'}>,\n",
       "        <AxesSubplot:title={'center':'powerPS'}>],\n",
       "       [<AxesSubplot:title={'center':'kilometer'}>,\n",
       "        <AxesSubplot:title={'center':'monthOfRegistration'}>,\n",
       "        <AxesSubplot:title={'center':'nrOfPictures'}>],\n",
       "       [<AxesSubplot:title={'center':'postalCode'}>, <AxesSubplot:>,\n",
       "        <AxesSubplot:>]], dtype=object)"
      ]
     },
     "execution_count": 210,
     "metadata": {},
     "output_type": "execute_result"
    },
    {
     "data": {
      "image/png": "[encoded data removed]",
      "text/plain": [
       "<Figure size 1440x720 with 9 Axes>"
      ]
     },
     "metadata": {
      "needs_background": "light"
     },
     "output_type": "display_data"
    }
   ],
   "source": [
    "data.hist(bins=10, figsize=figsize)"
   ]
  },
  {
   "cell_type": "code",
   "execution_count": 70,
   "id": "13d01e6e",
   "metadata": {},
   "outputs": [],
   "source": [
    "from sklearn.preprocessing import OrdinalEncoder\n",
    "\n",
    "ordinal_encoder = OrdinalEncoder()\n",
    "data_cat_encoded = ordinal_encoder.fit_transform(data[[\"vehicleType\"]])"
   ]
  },
  {
   "cell_type": "code",
   "execution_count": 71,
   "id": "1c4e6041",
   "metadata": {},
   "outputs": [
    {
     "data": {
      "text/plain": [
       "array([[nan],\n",
       "       [ 3.],\n",
       "       [ 7.],\n",
       "       [ 4.],\n",
       "       [ 4.],\n",
       "       [ 6.],\n",
       "       [ 2.],\n",
       "       [ 6.],\n",
       "       [ 1.],\n",
       "       [ 4.]])"
      ]
     },
     "execution_count": 71,
     "metadata": {},
     "output_type": "execute_result"
    }
   ],
   "source": [
    "data_cat_encoded[:10]"
   ]
  },
  {
   "cell_type": "code",
   "execution_count": 72,
   "id": "63ef7dd2",
   "metadata": {
    "scrolled": true
   },
   "outputs": [
    {
     "data": {
      "text/plain": [
       "[array(['andere', 'bus', 'cabrio', 'coupe', 'kleinwagen', 'kombi',\n",
       "        'limousine', 'suv', nan], dtype=object)]"
      ]
     },
     "execution_count": 72,
     "metadata": {},
     "output_type": "execute_result"
    }
   ],
   "source": [
    "ordinal_encoder.categories_"
   ]
  },
  {
   "cell_type": "code",
   "execution_count": 74,
   "id": "f809b193",
   "metadata": {},
   "outputs": [
    {
     "data": {
      "text/plain": [
       "6.0    95894\n",
       "4.0    80023\n",
       "5.0    67564\n",
       "1.0    30201\n",
       "2.0    22898\n",
       "3.0    19015\n",
       "7.0    14707\n",
       "0.0     3357\n",
       "Name: vehicleTypeENCODE, dtype: int64"
      ]
     },
     "execution_count": 74,
     "metadata": {},
     "output_type": "execute_result"
    }
   ],
   "source": [
    "data[\"vehicleTypeENCODE\"].value_counts()"
   ]
  },
  {
   "cell_type": "code",
   "execution_count": 75,
   "id": "37ac488f",
   "metadata": {
    "scrolled": true
   },
   "outputs": [
    {
     "data": {
      "text/plain": [
       "<AxesSubplot:>"
      ]
     },
     "execution_count": 75,
     "metadata": {},
     "output_type": "execute_result"
    },
    {
     "data": {
      "image/png": "[encoded data removed]",
      "text/plain": [
       "<Figure size 432x288 with 1 Axes>"
      ]
     },
     "metadata": {
      "needs_background": "light"
     },
     "output_type": "display_data"
    }
   ],
   "source": [
    "data[\"vehicleTypeENCODE\"].hist(bins=8)"
   ]
  },
  {
   "cell_type": "code",
   "execution_count": 76,
   "id": "577c215f",
   "metadata": {},
   "outputs": [
    {
     "data": {
      "text/plain": [
       "(260952, 12)"
      ]
     },
     "execution_count": 76,
     "metadata": {},
     "output_type": "execute_result"
    }
   ],
   "source": [
    "data.drop_duplicates(inplace=True)\n",
    "data.dropna(inplace=True)\n",
    "data.drop(\n",
    "    ['dateCrawled', 'seller', 'offerType', 'dateCreated', 'postalCode', 'lastSeen', 'name', 'model', 'nrOfPictures'],\n",
    "    axis = 1,\n",
    "    inplace=True\n",
    ")\n",
    "data.shape"
   ]
  },
  {
   "cell_type": "code",
   "execution_count": 77,
   "id": "fb4ade7f",
   "metadata": {},
   "outputs": [
    {
     "data": {
      "text/html": [
       "<div>\n",
       "<style scoped>\n",
       "    .dataframe tbody tr th:only-of-type {\n",
       "        vertical-align: middle;\n",
       "    }\n",
       "\n",
       "    .dataframe tbody tr th {\n",
       "        vertical-align: top;\n",
       "    }\n",
       "\n",
       "    .dataframe thead th {\n",
       "        text-align: right;\n",
       "    }\n",
       "</style>\n",
       "<table border=\"1\" class=\"dataframe\">\n",
       "  <thead>\n",
       "    <tr style=\"text-align: right;\">\n",
       "      <th></th>\n",
       "      <th>vehicleTypeENCODE</th>\n",
       "      <th>price</th>\n",
       "      <th>abtest</th>\n",
       "      <th>vehicleType</th>\n",
       "      <th>yearOfRegistration</th>\n",
       "      <th>gearbox</th>\n",
       "      <th>powerPS</th>\n",
       "      <th>kilometer</th>\n",
       "      <th>monthOfRegistration</th>\n",
       "      <th>fuelType</th>\n",
       "      <th>brand</th>\n",
       "      <th>notRepairedDamage</th>\n",
       "    </tr>\n",
       "  </thead>\n",
       "  <tbody>\n",
       "    <tr>\n",
       "      <th>3</th>\n",
       "      <td>4.0</td>\n",
       "      <td>1500</td>\n",
       "      <td>test</td>\n",
       "      <td>kleinwagen</td>\n",
       "      <td>2001</td>\n",
       "      <td>manuell</td>\n",
       "      <td>75</td>\n",
       "      <td>150000</td>\n",
       "      <td>6</td>\n",
       "      <td>benzin</td>\n",
       "      <td>volkswagen</td>\n",
       "      <td>nein</td>\n",
       "    </tr>\n",
       "    <tr>\n",
       "      <th>4</th>\n",
       "      <td>4.0</td>\n",
       "      <td>3600</td>\n",
       "      <td>test</td>\n",
       "      <td>kleinwagen</td>\n",
       "      <td>2008</td>\n",
       "      <td>manuell</td>\n",
       "      <td>69</td>\n",
       "      <td>90000</td>\n",
       "      <td>7</td>\n",
       "      <td>diesel</td>\n",
       "      <td>skoda</td>\n",
       "      <td>nein</td>\n",
       "    </tr>\n",
       "    <tr>\n",
       "      <th>5</th>\n",
       "      <td>6.0</td>\n",
       "      <td>650</td>\n",
       "      <td>test</td>\n",
       "      <td>limousine</td>\n",
       "      <td>1995</td>\n",
       "      <td>manuell</td>\n",
       "      <td>102</td>\n",
       "      <td>150000</td>\n",
       "      <td>10</td>\n",
       "      <td>benzin</td>\n",
       "      <td>bmw</td>\n",
       "      <td>ja</td>\n",
       "    </tr>\n",
       "    <tr>\n",
       "      <th>6</th>\n",
       "      <td>2.0</td>\n",
       "      <td>2200</td>\n",
       "      <td>test</td>\n",
       "      <td>cabrio</td>\n",
       "      <td>2004</td>\n",
       "      <td>manuell</td>\n",
       "      <td>109</td>\n",
       "      <td>150000</td>\n",
       "      <td>8</td>\n",
       "      <td>benzin</td>\n",
       "      <td>peugeot</td>\n",
       "      <td>nein</td>\n",
       "    </tr>\n",
       "    <tr>\n",
       "      <th>7</th>\n",
       "      <td>6.0</td>\n",
       "      <td>0</td>\n",
       "      <td>test</td>\n",
       "      <td>limousine</td>\n",
       "      <td>1980</td>\n",
       "      <td>manuell</td>\n",
       "      <td>50</td>\n",
       "      <td>40000</td>\n",
       "      <td>7</td>\n",
       "      <td>benzin</td>\n",
       "      <td>volkswagen</td>\n",
       "      <td>nein</td>\n",
       "    </tr>\n",
       "    <tr>\n",
       "      <th>10</th>\n",
       "      <td>6.0</td>\n",
       "      <td>2000</td>\n",
       "      <td>control</td>\n",
       "      <td>limousine</td>\n",
       "      <td>2004</td>\n",
       "      <td>manuell</td>\n",
       "      <td>105</td>\n",
       "      <td>150000</td>\n",
       "      <td>12</td>\n",
       "      <td>benzin</td>\n",
       "      <td>mazda</td>\n",
       "      <td>nein</td>\n",
       "    </tr>\n",
       "    <tr>\n",
       "      <th>11</th>\n",
       "      <td>5.0</td>\n",
       "      <td>2799</td>\n",
       "      <td>control</td>\n",
       "      <td>kombi</td>\n",
       "      <td>2005</td>\n",
       "      <td>manuell</td>\n",
       "      <td>140</td>\n",
       "      <td>150000</td>\n",
       "      <td>12</td>\n",
       "      <td>diesel</td>\n",
       "      <td>volkswagen</td>\n",
       "      <td>ja</td>\n",
       "    </tr>\n",
       "    <tr>\n",
       "      <th>14</th>\n",
       "      <td>7.0</td>\n",
       "      <td>17999</td>\n",
       "      <td>control</td>\n",
       "      <td>suv</td>\n",
       "      <td>2011</td>\n",
       "      <td>manuell</td>\n",
       "      <td>190</td>\n",
       "      <td>70000</td>\n",
       "      <td>3</td>\n",
       "      <td>diesel</td>\n",
       "      <td>nissan</td>\n",
       "      <td>nein</td>\n",
       "    </tr>\n",
       "    <tr>\n",
       "      <th>17</th>\n",
       "      <td>4.0</td>\n",
       "      <td>1750</td>\n",
       "      <td>control</td>\n",
       "      <td>kleinwagen</td>\n",
       "      <td>2004</td>\n",
       "      <td>automatik</td>\n",
       "      <td>75</td>\n",
       "      <td>150000</td>\n",
       "      <td>2</td>\n",
       "      <td>benzin</td>\n",
       "      <td>renault</td>\n",
       "      <td>nein</td>\n",
       "    </tr>\n",
       "    <tr>\n",
       "      <th>18</th>\n",
       "      <td>1.0</td>\n",
       "      <td>7550</td>\n",
       "      <td>test</td>\n",
       "      <td>bus</td>\n",
       "      <td>2007</td>\n",
       "      <td>manuell</td>\n",
       "      <td>136</td>\n",
       "      <td>150000</td>\n",
       "      <td>6</td>\n",
       "      <td>diesel</td>\n",
       "      <td>ford</td>\n",
       "      <td>nein</td>\n",
       "    </tr>\n",
       "  </tbody>\n",
       "</table>\n",
       "</div>"
      ],
      "text/plain": [
       "    vehicleTypeENCODE  price   abtest vehicleType  yearOfRegistration  \\\n",
       "3                 4.0   1500     test  kleinwagen                2001   \n",
       "4                 4.0   3600     test  kleinwagen                2008   \n",
       "5                 6.0    650     test   limousine                1995   \n",
       "6                 2.0   2200     test      cabrio                2004   \n",
       "7                 6.0      0     test   limousine                1980   \n",
       "10                6.0   2000  control   limousine                2004   \n",
       "11                5.0   2799  control       kombi                2005   \n",
       "14                7.0  17999  control         suv                2011   \n",
       "17                4.0   1750  control  kleinwagen                2004   \n",
       "18                1.0   7550     test         bus                2007   \n",
       "\n",
       "      gearbox  powerPS  kilometer  monthOfRegistration fuelType       brand  \\\n",
       "3     manuell       75     150000                    6   benzin  volkswagen   \n",
       "4     manuell       69      90000                    7   diesel       skoda   \n",
       "5     manuell      102     150000                   10   benzin         bmw   \n",
       "6     manuell      109     150000                    8   benzin     peugeot   \n",
       "7     manuell       50      40000                    7   benzin  volkswagen   \n",
       "10    manuell      105     150000                   12   benzin       mazda   \n",
       "11    manuell      140     150000                   12   diesel  volkswagen   \n",
       "14    manuell      190      70000                    3   diesel      nissan   \n",
       "17  automatik       75     150000                    2   benzin     renault   \n",
       "18    manuell      136     150000                    6   diesel        ford   \n",
       "\n",
       "   notRepairedDamage  \n",
       "3               nein  \n",
       "4               nein  \n",
       "5                 ja  \n",
       "6               nein  \n",
       "7               nein  \n",
       "10              nein  \n",
       "11                ja  \n",
       "14              nein  \n",
       "17              nein  \n",
       "18              nein  "
      ]
     },
     "execution_count": 77,
     "metadata": {},
     "output_type": "execute_result"
    }
   ],
   "source": [
    "data.head(10)"
   ]
  },
  {
   "cell_type": "code",
   "execution_count": 83,
   "id": "2310ec3c",
   "metadata": {},
   "outputs": [
    {
     "data": {
      "text/plain": [
       "benzin     169239\n",
       "diesel      86973\n",
       "lpg          3937\n",
       "cng           460\n",
       "hybrid        213\n",
       "andere         73\n",
       "elektro        57\n",
       "Name: fuelType, dtype: int64"
      ]
     },
     "execution_count": 83,
     "metadata": {},
     "output_type": "execute_result"
    }
   ],
   "source": [
    "data[\"fuelType\"].value_counts()"
   ]
  },
  {
   "cell_type": "code",
   "execution_count": 78,
   "id": "e6cf82e4",
   "metadata": {
    "scrolled": true
   },
   "outputs": [
    {
     "name": "stdout",
     "output_type": "stream",
     "text": [
      "Numerical: ['vehicleTypeENCODE', 'price', 'yearOfRegistration', 'powerPS', 'kilometer', 'monthOfRegistration']\n"
     ]
    }
   ],
   "source": [
    "numerical_columns = [i for i in data.columns if data[i].dtype.name != 'object']\n",
    "print(\"Numerical: \" + str(numerical_columns))"
   ]
  },
  {
   "cell_type": "code",
   "execution_count": 93,
   "id": "2ec90825",
   "metadata": {},
   "outputs": [],
   "source": [
    "data_cat = data[[\"abtest\", \"gearbox\", \"fuelType\", \"brand\", \"notRepairedDamage\"]]"
   ]
  },
  {
   "cell_type": "code",
   "execution_count": 95,
   "id": "b203f66f",
   "metadata": {},
   "outputs": [
    {
     "data": {
      "text/plain": [
       "<260952x52 sparse matrix of type '<class 'numpy.float64'>'\n",
       "\twith 1304760 stored elements in Compressed Sparse Row format>"
      ]
     },
     "execution_count": 95,
     "metadata": {},
     "output_type": "execute_result"
    }
   ],
   "source": [
    "from sklearn.preprocessing import OneHotEncoder\n",
    "\n",
    "cat_encoder = OneHotEncoder()\n",
    "data_cat_1hot = cat_encoder.fit_transform(data_cat)\n",
    "data_cat_1hot"
   ]
  },
  {
   "cell_type": "code",
   "execution_count": 99,
   "id": "6fec4bae",
   "metadata": {},
   "outputs": [
    {
     "data": {
      "text/plain": [
       "array([[0., 1., 0., ..., 0., 0., 1.],\n",
       "       [0., 1., 0., ..., 0., 0., 1.],\n",
       "       [0., 1., 0., ..., 0., 1., 0.],\n",
       "       ...,\n",
       "       [0., 1., 1., ..., 0., 0., 1.],\n",
       "       [0., 1., 0., ..., 0., 0., 1.],\n",
       "       [1., 0., 0., ..., 0., 0., 1.]])"
      ]
     },
     "execution_count": 99,
     "metadata": {},
     "output_type": "execute_result"
    }
   ],
   "source": [
    "data_cat_1hot.toarray()"
   ]
  },
  {
   "cell_type": "code",
   "execution_count": 80,
   "id": "f3c92b8a",
   "metadata": {},
   "outputs": [],
   "source": [
    "corr_matrix = data.corr()"
   ]
  },
  {
   "cell_type": "code",
   "execution_count": 81,
   "id": "a5570ce5",
   "metadata": {
    "scrolled": true
   },
   "outputs": [
    {
     "data": {
      "text/plain": [
       "price                  1.000000\n",
       "yearOfRegistration     0.010434\n",
       "powerPS                0.008640\n",
       "monthOfRegistration    0.004747\n",
       "vehicleTypeENCODE     -0.000016\n",
       "kilometer             -0.013932\n",
       "Name: price, dtype: float64"
      ]
     },
     "execution_count": 81,
     "metadata": {},
     "output_type": "execute_result"
    }
   ],
   "source": [
    "corr_matrix[\"price\"].sort_values(ascending=False)"
   ]
  },
  {
   "cell_type": "code",
   "execution_count": 111,
   "id": "34118ae2",
   "metadata": {},
   "outputs": [
    {
     "data": {
      "text/plain": [
       "Index(['dateCrawled', 'name', 'seller', 'offerType', 'price', 'abtest',\n",
       "       'vehicleType', 'yearOfRegistration', 'gearbox', 'powerPS', 'model',\n",
       "       'kilometer', 'monthOfRegistration', 'fuelType', 'brand',\n",
       "       'notRepairedDamage', 'dateCreated', 'nrOfPictures', 'postalCode',\n",
       "       'lastSeen'],\n",
       "      dtype='object')"
      ]
     },
     "execution_count": 111,
     "metadata": {},
     "output_type": "execute_result"
    }
   ],
   "source": [
    "data.columns"
   ]
  },
  {
   "cell_type": "code",
   "execution_count": 112,
   "id": "795931d8",
   "metadata": {},
   "outputs": [
    {
     "data": {
      "text/plain": [
       "nein    263182\n",
       "ja       36286\n",
       "Name: notRepairedDamage, dtype: int64"
      ]
     },
     "execution_count": 112,
     "metadata": {},
     "output_type": "execute_result"
    }
   ],
   "source": [
    "data[\"notRepairedDamage\"].value_counts()"
   ]
  }
 ],
 "metadata": {
  "kernelspec": {
   "display_name": "Python 3 (ipykernel)",
   "language": "python",
   "name": "python3"
  },
  "language_info": {
   "codemirror_mode": {
    "name": "ipython",
    "version": 3
   },
   "file_extension": ".py",
   "mimetype": "text/x-python",
   "name": "python",
   "nbconvert_exporter": "python",
   "pygments_lexer": "ipython3",
   "version": "3.10.4"
  }
 },
 "nbformat": 4,
 "nbformat_minor": 5
}
