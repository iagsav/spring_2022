{
 "cells": [
  {
   "cell_type": "code",
   "execution_count": 49,
   "id": "7447d3a0",
   "metadata": {},
   "outputs": [
    {
     "data": {
      "text/html": [
       "<div>\n",
       "<style scoped>\n",
       "    .dataframe tbody tr th:only-of-type {\n",
       "        vertical-align: middle;\n",
       "    }\n",
       "\n",
       "    .dataframe tbody tr th {\n",
       "        vertical-align: top;\n",
       "    }\n",
       "\n",
       "    .dataframe thead th {\n",
       "        text-align: right;\n",
       "    }\n",
       "</style>\n",
       "<table border=\"1\" class=\"dataframe\">\n",
       "  <thead>\n",
       "    <tr style=\"text-align: right;\">\n",
       "      <th></th>\n",
       "      <th>dateCrawled</th>\n",
       "      <th>name</th>\n",
       "      <th>seller</th>\n",
       "      <th>offerType</th>\n",
       "      <th>price</th>\n",
       "      <th>abtest</th>\n",
       "      <th>vehicleType</th>\n",
       "      <th>yearOfRegistration</th>\n",
       "      <th>gearbox</th>\n",
       "      <th>powerPS</th>\n",
       "      <th>model</th>\n",
       "      <th>kilometer</th>\n",
       "      <th>monthOfRegistration</th>\n",
       "      <th>fuelType</th>\n",
       "      <th>brand</th>\n",
       "      <th>notRepairedDamage</th>\n",
       "      <th>dateCreated</th>\n",
       "      <th>nrOfPictures</th>\n",
       "      <th>postalCode</th>\n",
       "      <th>lastSeen</th>\n",
       "    </tr>\n",
       "  </thead>\n",
       "  <tbody>\n",
       "    <tr>\n",
       "      <th>0</th>\n",
       "      <td>2016-03-24 11:52:17</td>\n",
       "      <td>Golf_3_1.6</td>\n",
       "      <td>privat</td>\n",
       "      <td>Angebot</td>\n",
       "      <td>480</td>\n",
       "      <td>test</td>\n",
       "      <td>NaN</td>\n",
       "      <td>1993</td>\n",
       "      <td>manuell</td>\n",
       "      <td>0</td>\n",
       "      <td>golf</td>\n",
       "      <td>150000</td>\n",
       "      <td>0</td>\n",
       "      <td>benzin</td>\n",
       "      <td>volkswagen</td>\n",
       "      <td>NaN</td>\n",
       "      <td>2016-03-24 00:00:00</td>\n",
       "      <td>0</td>\n",
       "      <td>70435</td>\n",
       "      <td>2016-04-07 03:16:57</td>\n",
       "    </tr>\n",
       "    <tr>\n",
       "      <th>1</th>\n",
       "      <td>2016-03-24 10:58:45</td>\n",
       "      <td>A5_Sportback_2.7_Tdi</td>\n",
       "      <td>privat</td>\n",
       "      <td>Angebot</td>\n",
       "      <td>18300</td>\n",
       "      <td>test</td>\n",
       "      <td>coupe</td>\n",
       "      <td>2011</td>\n",
       "      <td>manuell</td>\n",
       "      <td>190</td>\n",
       "      <td>NaN</td>\n",
       "      <td>125000</td>\n",
       "      <td>5</td>\n",
       "      <td>diesel</td>\n",
       "      <td>audi</td>\n",
       "      <td>ja</td>\n",
       "      <td>2016-03-24 00:00:00</td>\n",
       "      <td>0</td>\n",
       "      <td>66954</td>\n",
       "      <td>2016-04-07 01:46:50</td>\n",
       "    </tr>\n",
       "    <tr>\n",
       "      <th>2</th>\n",
       "      <td>2016-03-14 12:52:21</td>\n",
       "      <td>Jeep_Grand_Cherokee_\"Overland\"</td>\n",
       "      <td>privat</td>\n",
       "      <td>Angebot</td>\n",
       "      <td>9800</td>\n",
       "      <td>test</td>\n",
       "      <td>suv</td>\n",
       "      <td>2004</td>\n",
       "      <td>automatik</td>\n",
       "      <td>163</td>\n",
       "      <td>grand</td>\n",
       "      <td>125000</td>\n",
       "      <td>8</td>\n",
       "      <td>diesel</td>\n",
       "      <td>jeep</td>\n",
       "      <td>NaN</td>\n",
       "      <td>2016-03-14 00:00:00</td>\n",
       "      <td>0</td>\n",
       "      <td>90480</td>\n",
       "      <td>2016-04-05 12:47:46</td>\n",
       "    </tr>\n",
       "    <tr>\n",
       "      <th>3</th>\n",
       "      <td>2016-03-17 16:54:04</td>\n",
       "      <td>GOLF_4_1_4__3TÜRER</td>\n",
       "      <td>privat</td>\n",
       "      <td>Angebot</td>\n",
       "      <td>1500</td>\n",
       "      <td>test</td>\n",
       "      <td>kleinwagen</td>\n",
       "      <td>2001</td>\n",
       "      <td>manuell</td>\n",
       "      <td>75</td>\n",
       "      <td>golf</td>\n",
       "      <td>150000</td>\n",
       "      <td>6</td>\n",
       "      <td>benzin</td>\n",
       "      <td>volkswagen</td>\n",
       "      <td>nein</td>\n",
       "      <td>2016-03-17 00:00:00</td>\n",
       "      <td>0</td>\n",
       "      <td>91074</td>\n",
       "      <td>2016-03-17 17:40:17</td>\n",
       "    </tr>\n",
       "    <tr>\n",
       "      <th>4</th>\n",
       "      <td>2016-03-31 17:25:20</td>\n",
       "      <td>Skoda_Fabia_1.4_TDI_PD_Classic</td>\n",
       "      <td>privat</td>\n",
       "      <td>Angebot</td>\n",
       "      <td>3600</td>\n",
       "      <td>test</td>\n",
       "      <td>kleinwagen</td>\n",
       "      <td>2008</td>\n",
       "      <td>manuell</td>\n",
       "      <td>69</td>\n",
       "      <td>fabia</td>\n",
       "      <td>90000</td>\n",
       "      <td>7</td>\n",
       "      <td>diesel</td>\n",
       "      <td>skoda</td>\n",
       "      <td>nein</td>\n",
       "      <td>2016-03-31 00:00:00</td>\n",
       "      <td>0</td>\n",
       "      <td>60437</td>\n",
       "      <td>2016-04-06 10:17:21</td>\n",
       "    </tr>\n",
       "  </tbody>\n",
       "</table>\n",
       "</div>"
      ],
      "text/plain": [
       "           dateCrawled                            name  seller offerType  \\\n",
       "0  2016-03-24 11:52:17                      Golf_3_1.6  privat   Angebot   \n",
       "1  2016-03-24 10:58:45            A5_Sportback_2.7_Tdi  privat   Angebot   \n",
       "2  2016-03-14 12:52:21  Jeep_Grand_Cherokee_\"Overland\"  privat   Angebot   \n",
       "3  2016-03-17 16:54:04              GOLF_4_1_4__3TÜRER  privat   Angebot   \n",
       "4  2016-03-31 17:25:20  Skoda_Fabia_1.4_TDI_PD_Classic  privat   Angebot   \n",
       "\n",
       "   price abtest vehicleType  yearOfRegistration    gearbox  powerPS  model  \\\n",
       "0    480   test         NaN                1993    manuell        0   golf   \n",
       "1  18300   test       coupe                2011    manuell      190    NaN   \n",
       "2   9800   test         suv                2004  automatik      163  grand   \n",
       "3   1500   test  kleinwagen                2001    manuell       75   golf   \n",
       "4   3600   test  kleinwagen                2008    manuell       69  fabia   \n",
       "\n",
       "   kilometer  monthOfRegistration fuelType       brand notRepairedDamage  \\\n",
       "0     150000                    0   benzin  volkswagen               NaN   \n",
       "1     125000                    5   diesel        audi                ja   \n",
       "2     125000                    8   diesel        jeep               NaN   \n",
       "3     150000                    6   benzin  volkswagen              nein   \n",
       "4      90000                    7   diesel       skoda              nein   \n",
       "\n",
       "           dateCreated  nrOfPictures  postalCode             lastSeen  \n",
       "0  2016-03-24 00:00:00             0       70435  2016-04-07 03:16:57  \n",
       "1  2016-03-24 00:00:00             0       66954  2016-04-07 01:46:50  \n",
       "2  2016-03-14 00:00:00             0       90480  2016-04-05 12:47:46  \n",
       "3  2016-03-17 00:00:00             0       91074  2016-03-17 17:40:17  \n",
       "4  2016-03-31 00:00:00             0       60437  2016-04-06 10:17:21  "
      ]
     },
     "execution_count": 49,
     "metadata": {},
     "output_type": "execute_result"
    }
   ],
   "source": [
    "import numpy as np\n",
    "import pandas as pd\n",
    "import sklearn as sk\n",
    "import seaborn as sns\n",
    "import matplotlib.pyplot as plt\n",
    "\n",
    "from sklearn import linear_model\n",
    "from sklearn import preprocessing\n",
    "from sklearn.preprocessing import MinMaxScaler\n",
    "from sklearn.model_selection import GridSearchCV\n",
    "from sklearn.preprocessing import PolynomialFeatures\n",
    "from sklearn.model_selection import (cross_val_score, StratifiedKFold, train_test_split)\n",
    "from sklearn.linear_model import LogisticRegression, LogisticRegressionCV\n",
    "\n",
    "from scipy.stats import pearsonr, spearmanr\n",
    "\n",
    "auto_data = pd.read_csv('autos.csv', encoding = 'latin1')\n",
    "auto_data.head()"
   ]
  },
  {
   "cell_type": "markdown",
   "id": "58944ff6",
   "metadata": {},
   "source": [
    "# 1. Изучить набор данных. Создать описание набора данных на русском языке. Описать признаки, используемые в наборе данных (включить полученные описания в отчёт)."
   ]
  },
  {
   "cell_type": "markdown",
   "id": "c1ed152e",
   "metadata": {},
   "source": [
    "1. dateCrawled - даты обхода \t\n",
    "2. name - название автомобиля\n",
    "3. seller - продавец(частный диллер)\t\n",
    "4. offerType -тип предложения\t\n",
    "5. price - цена по объявлению о продаже автомобиля\t\n",
    "6. abtest - техосмотр\n",
    "7. vehicleType - тип авто\t\n",
    "8. yearOfRegistration - в каком году автомобиль был впервые зарегистрирован\n",
    "9. gearbox - коробка передач\t\n",
    "10. powerPS - мощность автомобиля в л.с.\t\n",
    "11.\tmodel - модель\n",
    "12.\tkilometer - сколько километров проехал автомобиль\n",
    "13. monthOfRegistration - в каком месяце автомобиль был впервые зарегистрирован\n",
    "14. fuelType - тип топлива\t\n",
    "15.\tbrand - марка\n",
    "16.\tnotRepairedDamage - если у автомобиля повреждения, которые еще не       отремонтированы\n",
    "17. dateCreated - дата создания объявления на ebay\t\n",
    "18.\tnrOfPictures - количество картинок в объявлении\n",
    "19.\tpostalCode - индекс\n",
    "20.\tlastSeenOnline - когда искатель видел это объявление в последний раз в Интернете"
   ]
  },
  {
   "cell_type": "markdown",
   "id": "7cc6062f",
   "metadata": {},
   "source": [
    "# 2. Удалите дубликаты строк в наборе данных; приведите размер набора данных до и после данной операции;"
   ]
  },
  {
   "cell_type": "code",
   "execution_count": 50,
   "id": "09de504e",
   "metadata": {},
   "outputs": [
    {
     "name": "stdout",
     "output_type": "stream",
     "text": [
      "До удаления дубликатов: (371528, 20)\n"
     ]
    }
   ],
   "source": [
    "# Созраняем старый набор данных\n",
    "print('До удаления дубликатов:', auto_data.shape)"
   ]
  },
  {
   "cell_type": "code",
   "execution_count": 51,
   "id": "6887889f",
   "metadata": {},
   "outputs": [
    {
     "name": "stdout",
     "output_type": "stream",
     "text": [
      "После удаления дубликатов: (260952, 13)\n"
     ]
    }
   ],
   "source": [
    "# Удаляем дубликаты\n",
    "auto_data = auto_data.drop_duplicates()\n",
    "# Удаляем нулевые строки\n",
    "auto_data = auto_data.dropna()\n",
    "# Удаляем дублирующиеся под другими названиями признаки\n",
    "auto_data = auto_data.drop(['dateCrawled', 'name', 'offerType', 'model', 'dateCreated', 'lastSeen', 'postalCode'], axis=1)\n",
    "print('После удаления дубликатов:', auto_data.shape)"
   ]
  },
  {
   "cell_type": "markdown",
   "id": "16fc10c7",
   "metadata": {},
   "source": [
    "# 3. Выполните масштабирование количественных признаков; Постройте диаграммы BoxPlot для признаков до и после масштабирования. Выберите способ масштабирования (например, нормализацию или стандартизацию);"
   ]
  },
  {
   "cell_type": "code",
   "execution_count": 52,
   "id": "33235e88",
   "metadata": {},
   "outputs": [
    {
     "name": "stdout",
     "output_type": "stream",
     "text": [
      "Количественые признаки: ['price', 'yearOfRegistration', 'powerPS', 'kilometer', 'monthOfRegistration', 'nrOfPictures']\n",
      "Категориальные признаки: ['seller', 'abtest', 'vehicleType', 'gearbox', 'fuelType', 'brand', 'notRepairedDamage']\n"
     ]
    }
   ],
   "source": [
    "# Разделяем признаки на категориальные и количественные\n",
    "# Количественные признаки:\n",
    "quantitative = [column for column in auto_data.columns if auto_data[column].dtype.name != 'object']\n",
    "print(f\"Количественые признаки: {quantitative}\")\n",
    "# Категориальные признаки:\n",
    "categorical = [column for column in auto_data.columns if auto_data[column].dtype.name == 'object']\n",
    "print(f\"Категориальные признаки: {categorial}\")"
   ]
  },
  {
   "cell_type": "code",
   "execution_count": 53,
   "id": "9d7f8bd1",
   "metadata": {},
   "outputs": [
    {
     "data": {
      "text/plain": [
       "<AxesSubplot:>"
      ]
     },
     "execution_count": 53,
     "metadata": {},
     "output_type": "execute_result"
    },
    {
     "data": {
      "image/png": "[encoded data removed]",
      "text/plain": [
       "<Figure size 1296x648 with 1 Axes>"
      ]
     },
     "metadata": {
      "needs_background": "light"
     },
     "output_type": "display_data"
    }
   ],
   "source": [
    "# Диаграмма до мастабирования\n",
    "# Настройки диаграммы:\n",
    "# figure - это контейнер самого верхнего уровня. Та область, в которой все нарисовано\n",
    "# Создаем область figure и указываем ее размер\n",
    "fig = plt.figure(figsize=(18, 9))\n",
    "sns.boxplot(data = auto_data[quantitative])"
   ]
  },
  {
   "cell_type": "code",
   "execution_count": 54,
   "id": "0c97d819",
   "metadata": {},
   "outputs": [
    {
     "data": {
      "text/plain": [
       "<AxesSubplot:>"
      ]
     },
     "execution_count": 54,
     "metadata": {},
     "output_type": "execute_result"
    },
    {
     "data": {
      "image/png": "[encoded data removed]",
      "text/plain": [
       "<Figure size 1296x648 with 1 Axes>"
      ]
     },
     "metadata": {
      "needs_background": "light"
     },
     "output_type": "display_data"
    }
   ],
   "source": [
    "# Производим нормализацию числовых признаков\n",
    "# Создаем объект класса MinMaxScaler\n",
    "scaler = preprocessing.MinMaxScaler()\n",
    "# Преобразуем набор данных с помощью функции fit_transform и затем присваиваем измененные данные объекту occupancy\n",
    "auto_data[quantitative] = scaler.fit_transform(auto_data[quantitative])\n",
    "# Cтроим отмастабированную диаграмму\n",
    "fig = plt.figure(figsize=(18, 9))\n",
    "sns.boxplot(data = auto_data[quantitative])"
   ]
  },
  {
   "cell_type": "markdown",
   "id": "e946ce4f",
   "metadata": {},
   "source": [
    "# 4. Выполните замену категориальных признаков; выберите и обоснуйте способ замены"
   ]
  },
  {
   "cell_type": "code",
   "execution_count": 55,
   "id": "b4827995",
   "metadata": {},
   "outputs": [
    {
     "name": "stdout",
     "output_type": "stream",
     "text": [
      "seller :  ['privat' 'gewerblich']\n",
      "abtest :  ['test' 'control']\n",
      "vehicleType :  ['kleinwagen' 'limousine' 'cabrio' 'kombi' 'suv' 'bus' 'coupe' 'andere']\n",
      "gearbox :  ['manuell' 'automatik']\n",
      "fuelType :  ['benzin' 'diesel' 'lpg' 'andere' 'hybrid' 'cng' 'elektro']\n",
      "brand :  ['volkswagen' 'skoda' 'bmw' 'peugeot' 'mazda' 'nissan' 'renault' 'ford'\n",
      " 'mercedes_benz' 'seat' 'honda' 'fiat' 'mini' 'opel' 'smart' 'audi'\n",
      " 'alfa_romeo' 'subaru' 'mitsubishi' 'hyundai' 'volvo' 'lancia' 'porsche'\n",
      " 'citroen' 'toyota' 'kia' 'chevrolet' 'dacia' 'suzuki' 'daihatsu'\n",
      " 'chrysler' 'jaguar' 'rover' 'jeep' 'saab' 'daewoo' 'land_rover' 'trabant'\n",
      " 'lada']\n",
      "notRepairedDamage :  ['nein' 'ja']\n"
     ]
    }
   ],
   "source": [
    "for i in categorial:\n",
    "    print(i, ': ', auto_data[i].unique())"
   ]
  },
  {
   "cell_type": "code",
   "execution_count": 56,
   "id": "cdd01a67",
   "metadata": {},
   "outputs": [
    {
     "data": {
      "text/html": [
       "<div>\n",
       "<style scoped>\n",
       "    .dataframe tbody tr th:only-of-type {\n",
       "        vertical-align: middle;\n",
       "    }\n",
       "\n",
       "    .dataframe tbody tr th {\n",
       "        vertical-align: top;\n",
       "    }\n",
       "\n",
       "    .dataframe thead th {\n",
       "        text-align: right;\n",
       "    }\n",
       "</style>\n",
       "<table border=\"1\" class=\"dataframe\">\n",
       "  <thead>\n",
       "    <tr style=\"text-align: right;\">\n",
       "      <th></th>\n",
       "      <th>vehicleType_andere</th>\n",
       "      <th>vehicleType_bus</th>\n",
       "      <th>vehicleType_cabrio</th>\n",
       "      <th>vehicleType_coupe</th>\n",
       "      <th>vehicleType_kleinwagen</th>\n",
       "      <th>vehicleType_kombi</th>\n",
       "      <th>vehicleType_limousine</th>\n",
       "      <th>vehicleType_suv</th>\n",
       "      <th>fuelType_andere</th>\n",
       "      <th>fuelType_benzin</th>\n",
       "      <th>...</th>\n",
       "      <th>seller</th>\n",
       "      <th>price</th>\n",
       "      <th>abtest</th>\n",
       "      <th>yearOfRegistration</th>\n",
       "      <th>gearbox</th>\n",
       "      <th>powerPS</th>\n",
       "      <th>kilometer</th>\n",
       "      <th>monthOfRegistration</th>\n",
       "      <th>notRepairedDamage</th>\n",
       "      <th>nrOfPictures</th>\n",
       "    </tr>\n",
       "  </thead>\n",
       "  <tbody>\n",
       "    <tr>\n",
       "      <th>3</th>\n",
       "      <td>0</td>\n",
       "      <td>0</td>\n",
       "      <td>0</td>\n",
       "      <td>0</td>\n",
       "      <td>1</td>\n",
       "      <td>0</td>\n",
       "      <td>0</td>\n",
       "      <td>0</td>\n",
       "      <td>0</td>\n",
       "      <td>1</td>\n",
       "      <td>...</td>\n",
       "      <td>0</td>\n",
       "      <td>0.000015</td>\n",
       "      <td>0</td>\n",
       "      <td>0.842593</td>\n",
       "      <td>0</td>\n",
       "      <td>0.00375</td>\n",
       "      <td>1.000000</td>\n",
       "      <td>0.500000</td>\n",
       "      <td>0</td>\n",
       "      <td>0.0</td>\n",
       "    </tr>\n",
       "    <tr>\n",
       "      <th>4</th>\n",
       "      <td>0</td>\n",
       "      <td>0</td>\n",
       "      <td>0</td>\n",
       "      <td>0</td>\n",
       "      <td>1</td>\n",
       "      <td>0</td>\n",
       "      <td>0</td>\n",
       "      <td>0</td>\n",
       "      <td>0</td>\n",
       "      <td>0</td>\n",
       "      <td>...</td>\n",
       "      <td>0</td>\n",
       "      <td>0.000036</td>\n",
       "      <td>0</td>\n",
       "      <td>0.907407</td>\n",
       "      <td>0</td>\n",
       "      <td>0.00345</td>\n",
       "      <td>0.586207</td>\n",
       "      <td>0.583333</td>\n",
       "      <td>0</td>\n",
       "      <td>0.0</td>\n",
       "    </tr>\n",
       "    <tr>\n",
       "      <th>5</th>\n",
       "      <td>0</td>\n",
       "      <td>0</td>\n",
       "      <td>0</td>\n",
       "      <td>0</td>\n",
       "      <td>0</td>\n",
       "      <td>0</td>\n",
       "      <td>1</td>\n",
       "      <td>0</td>\n",
       "      <td>0</td>\n",
       "      <td>1</td>\n",
       "      <td>...</td>\n",
       "      <td>0</td>\n",
       "      <td>0.000007</td>\n",
       "      <td>0</td>\n",
       "      <td>0.787037</td>\n",
       "      <td>0</td>\n",
       "      <td>0.00510</td>\n",
       "      <td>1.000000</td>\n",
       "      <td>0.833333</td>\n",
       "      <td>1</td>\n",
       "      <td>0.0</td>\n",
       "    </tr>\n",
       "    <tr>\n",
       "      <th>6</th>\n",
       "      <td>0</td>\n",
       "      <td>0</td>\n",
       "      <td>1</td>\n",
       "      <td>0</td>\n",
       "      <td>0</td>\n",
       "      <td>0</td>\n",
       "      <td>0</td>\n",
       "      <td>0</td>\n",
       "      <td>0</td>\n",
       "      <td>1</td>\n",
       "      <td>...</td>\n",
       "      <td>0</td>\n",
       "      <td>0.000022</td>\n",
       "      <td>0</td>\n",
       "      <td>0.870370</td>\n",
       "      <td>0</td>\n",
       "      <td>0.00545</td>\n",
       "      <td>1.000000</td>\n",
       "      <td>0.666667</td>\n",
       "      <td>0</td>\n",
       "      <td>0.0</td>\n",
       "    </tr>\n",
       "    <tr>\n",
       "      <th>7</th>\n",
       "      <td>0</td>\n",
       "      <td>0</td>\n",
       "      <td>0</td>\n",
       "      <td>0</td>\n",
       "      <td>0</td>\n",
       "      <td>0</td>\n",
       "      <td>1</td>\n",
       "      <td>0</td>\n",
       "      <td>0</td>\n",
       "      <td>1</td>\n",
       "      <td>...</td>\n",
       "      <td>0</td>\n",
       "      <td>0.000000</td>\n",
       "      <td>0</td>\n",
       "      <td>0.648148</td>\n",
       "      <td>0</td>\n",
       "      <td>0.00250</td>\n",
       "      <td>0.241379</td>\n",
       "      <td>0.583333</td>\n",
       "      <td>0</td>\n",
       "      <td>0.0</td>\n",
       "    </tr>\n",
       "  </tbody>\n",
       "</table>\n",
       "<p>5 rows × 64 columns</p>\n",
       "</div>"
      ],
      "text/plain": [
       "   vehicleType_andere  vehicleType_bus  vehicleType_cabrio  vehicleType_coupe  \\\n",
       "3                   0                0                   0                  0   \n",
       "4                   0                0                   0                  0   \n",
       "5                   0                0                   0                  0   \n",
       "6                   0                0                   1                  0   \n",
       "7                   0                0                   0                  0   \n",
       "\n",
       "   vehicleType_kleinwagen  vehicleType_kombi  vehicleType_limousine  \\\n",
       "3                       1                  0                      0   \n",
       "4                       1                  0                      0   \n",
       "5                       0                  0                      1   \n",
       "6                       0                  0                      0   \n",
       "7                       0                  0                      1   \n",
       "\n",
       "   vehicleType_suv  fuelType_andere  fuelType_benzin  ...  seller     price  \\\n",
       "3                0                0                1  ...       0  0.000015   \n",
       "4                0                0                0  ...       0  0.000036   \n",
       "5                0                0                1  ...       0  0.000007   \n",
       "6                0                0                1  ...       0  0.000022   \n",
       "7                0                0                1  ...       0  0.000000   \n",
       "\n",
       "   abtest  yearOfRegistration  gearbox  powerPS  kilometer  \\\n",
       "3       0            0.842593        0  0.00375   1.000000   \n",
       "4       0            0.907407        0  0.00345   0.586207   \n",
       "5       0            0.787037        0  0.00510   1.000000   \n",
       "6       0            0.870370        0  0.00545   1.000000   \n",
       "7       0            0.648148        0  0.00250   0.241379   \n",
       "\n",
       "   monthOfRegistration  notRepairedDamage  nrOfPictures  \n",
       "3             0.500000                  0           0.0  \n",
       "4             0.583333                  0           0.0  \n",
       "5             0.833333                  1           0.0  \n",
       "6             0.666667                  0           0.0  \n",
       "7             0.583333                  0           0.0  \n",
       "\n",
       "[5 rows x 64 columns]"
      ]
     },
     "execution_count": 56,
     "metadata": {},
     "output_type": "execute_result"
    }
   ],
   "source": [
    "# Делим категориальные признаки на бинарные (имеющие два возможных значения)\n",
    "# и небинарные (имеющие более двух возможных значений)\n",
    "binary = [i for i in categorical if len(auto_data[i].unique()) == 2]\n",
    "nonbinary = [i for i in categorical if len(auto_data[i].unique()) > 2]\n",
    "\n",
    "# Для каждого столбца бинарных признаков заменяем их значения на 0 или 1\n",
    "for col in binary:\n",
    "    for i, uniq_item in enumerate(auto_data[col].unique()):\n",
    "        auto_data[col] = auto_data[col].replace(to_replace = [uniq_item], value = [i])\n",
    "\n",
    "# Для небинарных признаков:\n",
    "# 1. С помощью метода get_dummies преобразуем значения небинарных признаков, таким образом, чтобы все их возможные значения выделялись в отдельные столбцы\n",
    "# И если небинарный признак в данной строке имеет значение, совпадающее с одним из них\n",
    "# То в этом столбце ставится значение 1, а в противном случае - 0.\n",
    "auto_nonbinary = pd.get_dummies(auto_data[nonbinary])\n",
    "# 2. Удаляем все обычные столбцы небинарных признаков из массива данных\n",
    "auto_data.drop(nonbinary, axis = 1, inplace = True)\n",
    "# 3. С помощью метода concat включаем в массив данных новые столбцы небинарных признаков, полученные с помощью метода get_dummies\n",
    "auto_data = pd.concat([auto_nonbinary, auto_data], axis = 1)\n",
    "auto_data.head()"
   ]
  },
  {
   "cell_type": "markdown",
   "id": "050671c2",
   "metadata": {},
   "source": [
    "# 5. Оцените корреляцию между признаков и удалите те признаки, которые коррелируют с наибольшим числом других;"
   ]
  },
  {
   "cell_type": "code",
   "execution_count": 57,
   "id": "b275a964",
   "metadata": {},
   "outputs": [
    {
     "data": {
      "text/plain": [
       "<AxesSubplot:>"
      ]
     },
     "execution_count": 57,
     "metadata": {},
     "output_type": "execute_result"
    },
    {
     "data": {
      "image/png": "[encoded data removed]",
      "text/plain": [
       "<Figure size 432x288 with 2 Axes>"
      ]
     },
     "metadata": {
      "needs_background": "light"
     },
     "output_type": "display_data"
    }
   ],
   "source": [
    "# Находим корреляцию\n",
    "auto_corr = auto_data.drop('nrOfPictures', axis = 1).corr()\n",
    "# Строим тепловую карту признаков для оценки корреляции\n",
    "sns.heatmap(auto_corr)"
   ]
  },
  {
   "cell_type": "markdown",
   "id": "235f4621",
   "metadata": {},
   "source": [
    "# 6. Заполните пропущенные значения в данных;"
   ]
  },
  {
   "cell_type": "code",
   "execution_count": 58,
   "id": "5ea45577",
   "metadata": {},
   "outputs": [
    {
     "data": {
      "text/plain": [
       "(260952, 64)"
      ]
     },
     "execution_count": 58,
     "metadata": {},
     "output_type": "execute_result"
    }
   ],
   "source": [
    "# узнаем размер массива (количество строк и столбцов) с помощью метода shape:\n",
    "auto_data.shape"
   ]
  },
  {
   "cell_type": "code",
   "execution_count": 59,
   "id": "1552fa75",
   "metadata": {},
   "outputs": [
    {
     "data": {
      "text/plain": [
       "vehicleType_andere        260952\n",
       "vehicleType_bus           260952\n",
       "vehicleType_cabrio        260952\n",
       "vehicleType_coupe         260952\n",
       "vehicleType_kleinwagen    260952\n",
       "                           ...  \n",
       "powerPS                   260952\n",
       "kilometer                 260952\n",
       "monthOfRegistration       260952\n",
       "notRepairedDamage         260952\n",
       "nrOfPictures              260952\n",
       "Length: 64, dtype: int64"
      ]
     },
     "execution_count": 59,
     "metadata": {},
     "output_type": "execute_result"
    }
   ],
   "source": [
    "# Подсчитываем количество значений во всех столбцах методом count\n",
    "auto_data.count()"
   ]
  },
  {
   "cell_type": "markdown",
   "id": "8acc3760",
   "metadata": {},
   "source": [
    "Пропущенных значений нет"
   ]
  },
  {
   "cell_type": "markdown",
   "id": "7595a416",
   "metadata": {},
   "source": [
    "# 7.\tРешите поставленную задачу регрессии в соответствии с заданием. При подборе параметров метода принятия решения (метода регрессии) используйте перекрёстную проверку (изучите возможные для изменения параметры метода регрессии).  Вычислите точность решения задачи, вычислив разницу между реальным значением и предсказанным. Вычислите коэффициент корреляции (Пирсона, Спирмена) между реальным значением и предсказанным с учётом p-value. "
   ]
  },
  {
   "cell_type": "code",
   "execution_count": 64,
   "id": "a3475515",
   "metadata": {},
   "outputs": [],
   "source": [
    "# Наша модель получает в качестве входных значений все признаки автомобиля, кроме цены (X)\n",
    "# И на ее основе предсказывает выходное значение y, цену автомобиля\n",
    "X, y = auto_data.drop(['price'], axis=1), auto_data['price']\n",
    "X_train, X_test, y_train, y_test = train_test_split(X, y, test_size = 0.3, random_state = 123)"
   ]
  },
  {
   "cell_type": "code",
   "execution_count": 65,
   "id": "24d5bcf4",
   "metadata": {},
   "outputs": [
    {
     "name": "stdout",
     "output_type": "stream",
     "text": [
      "173420   -0.000007\n",
      "182741   -0.000101\n",
      "271616   -0.000042\n",
      "218173    0.000011\n",
      "361460   -0.000031\n",
      "45771    -0.000034\n",
      "297004    0.000044\n",
      "58119    -0.000008\n",
      "304305    0.000055\n",
      "183986   -0.000010\n",
      "Name: price, dtype: float64\n"
     ]
    }
   ],
   "source": [
    "# Линейная регрессия без использования регуляризаторов\n",
    "# Создаем модель регрессии\n",
    "reg = linear_model.LinearRegression()\n",
    "# Тренируем её\n",
    "reg.fit(X_train, y_train)\n",
    "# Предсказываем знаения цены автомобиля\n",
    "pred = reg.predict(X_test)\n",
    "# Выводим десять значений, полученных вычитанием настоящей цены из предсказанной\n",
    "print(pred[:10] - y_test[:10])"
   ]
  },
  {
   "cell_type": "code",
   "execution_count": 66,
   "id": "27bacf14",
   "metadata": {},
   "outputs": [
    {
     "name": "stdout",
     "output_type": "stream",
     "text": [
      "Корреляция Пирсона:  0.014860448709125148\n",
      "p_value:  3.20958136678998e-05\n",
      "Корреляция Спирмена:  0.6745484209777873\n",
      "p_value:  0.0\n"
     ]
    }
   ],
   "source": [
    "# Находим корреляцию пирсона \n",
    "pearson, pvalue = pearsonr(pred, y_test)\n",
    "print(\"Корреляция Пирсона: \", pearson)\n",
    "print(\"p_value: \", pvalue)\n",
    "# Находим корреляцию Спирмена\n",
    "spearman, pvalue = spearmanr(pred, y_test)\n",
    "print(\"Корреляция Спирмена: \", spearman)\n",
    "print(\"p_value: \", pvalue)"
   ]
  },
  {
   "cell_type": "code",
   "execution_count": 67,
   "id": "003f8296",
   "metadata": {},
   "outputs": [
    {
     "name": "stdout",
     "output_type": "stream",
     "text": [
      "173420    0.000054\n",
      "182741   -0.000188\n",
      "271616    0.000048\n",
      "218173    0.000051\n",
      "361460   -0.000095\n",
      "45771     0.000048\n",
      "297004    0.000064\n",
      "58119     0.000037\n",
      "304305   -0.000003\n",
      "183986    0.000057\n",
      "Name: price, dtype: float64\n"
     ]
    }
   ],
   "source": [
    "# Линейная регрессия, LASSO регуляризатор\n",
    "# Создаем модель L1 (лассо) регрессии и передаем ей в качестве параметра значение alpha\n",
    "reg = linear_model.Lasso(alpha=0.00001)\n",
    "# Тренируем ее\n",
    "reg.fit(X_train, y_train)\n",
    "# Предсказываем цену автомобиля\n",
    "pred = reg.predict(X_test)\n",
    "# Выводим десять значений, полученных вычитанием настоящей цены из предсказанной\n",
    "print(pred[:10] - y_test[:10])"
   ]
  },
  {
   "cell_type": "code",
   "execution_count": 68,
   "id": "40e0c96d",
   "metadata": {},
   "outputs": [
    {
     "name": "stdout",
     "output_type": "stream",
     "text": [
      "Корреляция Пирсона:  0.00589130208266253\n",
      "p_value:  0.09928028978066941\n",
      "Корреляция Спирмена:  0.5117267751970738\n",
      "p_value:  0.0\n"
     ]
    }
   ],
   "source": [
    "# Находим корреляцию Пирсона\n",
    "pearson, pvalue = pearsonr(pred, y_test)\n",
    "print(\"Корреляция Пирсона: \", pearson)\n",
    "print(\"p_value: \", pvalue)\n",
    "# Находим корреляцию Спирмена\n",
    "spearman, pvalue = spearmanr(pred, y_test)\n",
    "print(\"Корреляция Спирмена: \", spearman)\n",
    "print(\"p_value: \", pvalue)"
   ]
  },
  {
   "cell_type": "code",
   "execution_count": null,
   "id": "fe74f0e5",
   "metadata": {},
   "outputs": [],
   "source": []
  }
 ],
 "metadata": {
  "kernelspec": {
   "display_name": "Python 3 (ipykernel)",
   "language": "python",
   "name": "python3"
  },
  "language_info": {
   "codemirror_mode": {
    "name": "ipython",
    "version": 3
   },
   "file_extension": ".py",
   "mimetype": "text/x-python",
   "name": "python",
   "nbconvert_exporter": "python",
   "pygments_lexer": "ipython3",
   "version": "3.9.6"
  }
 },
 "nbformat": 4,
 "nbformat_minor": 5
}
