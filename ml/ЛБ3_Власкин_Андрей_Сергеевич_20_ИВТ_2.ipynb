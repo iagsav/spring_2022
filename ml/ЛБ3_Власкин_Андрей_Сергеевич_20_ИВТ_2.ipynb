{
 "cells": [
  {
   "cell_type": "code",
   "execution_count": 2,
   "id": "6953a7cf",
   "metadata": {},
   "outputs": [],
   "source": [
    "import numpy as np\n",
    "import pandas as pd\n",
    "import seaborn as sns\n",
    "import matplotlib.pyplot as plt\n",
    "from sklearn import preprocessing\n",
    "from sklearn.model_selection import train_test_split\n",
    "from sklearn.model_selection import GridSearchCV\n",
    "from sklearn.model_selection import cross_val_score\n",
    "from sklearn.metrics import confusion_matrix\n",
    "from sklearn.metrics import classification_report\n",
    "from sklearn.metrics import accuracy_score\n",
    "from sklearn.metrics import precision_recall_curve\n",
    "from sklearn.metrics import roc_curve, auc\n",
    "from sklearn.metrics import roc_auc_score\n",
    "from sklearn.svm import SVC\n",
    "from sklearn.neighbors import KNeighborsClassifier\n",
    "from sklearn.tree import DecisionTreeClassifier"
   ]
  },
  {
   "cell_type": "code",
   "execution_count": 3,
   "id": "8a348140",
   "metadata": {},
   "outputs": [
    {
     "name": "stdout",
     "output_type": "stream",
     "text": [
      "Description of the data set.\n",
      "petal_length - длина лепестка\n",
      "petal_width - ширина лепестка\n",
      "sepal_length - длина чашелистика\n",
      "sepal_width - ширина чашелистика\n",
      "species - вид\n"
     ]
    }
   ],
   "source": [
    "# 1. Description\n",
    "print(\"Description of the data set.\")\n",
    "print(\"petal_length - длина лепестка\")\n",
    "print(\"petal_width - ширина лепестка\")\n",
    "print(\"sepal_length - длина чашелистика\")\n",
    "print(\"sepal_width - ширина чашелистика\")\n",
    "print(\"species - вид\")"
   ]
  },
  {
   "cell_type": "code",
   "execution_count": 4,
   "id": "2ccb78b8",
   "metadata": {},
   "outputs": [
    {
     "name": "stdout",
     "output_type": "stream",
     "text": [
      "The number of records before checking for repeats: 150\n",
      "\n",
      "Duplicates find!\n",
      "\t4.9,3.1,1.5,0.1,Iris-setosa | index: 9\n",
      "\t4.9,3.1,1.5,0.1,Iris-setosa | index: 34\n",
      "\n",
      "Duplicates find!\n",
      "\t4.9,3.1,1.5,0.1,Iris-setosa | index: 34\n",
      "\t4.9,3.1,1.5,0.1,Iris-setosa | index: 37\n",
      "\n",
      "Duplicates find!\n",
      "\t5.8,2.7,5.1,1.9,Iris-virginica | index: 101\n",
      "\t5.8,2.7,5.1,1.9,Iris-virginica | index: 142\n",
      "\n",
      "The number of records after checking for repeats: 147\n"
     ]
    }
   ],
   "source": [
    "# 2. Delete dublicates\n",
    "iris_arr = []\n",
    "with open(\"iris.txt\", \"r\") as iris_data:\n",
    "    for i in range(0,151):\n",
    "        iris_arr.append(iris_data.readline().replace(\"\\n\",\"\"))\n",
    "print(\"The number of records before checking for repeats: \" + str(len(iris_arr)-1) + '\\n')\n",
    "\n",
    "wo_duplicates = []\n",
    "for i in range(len(iris_arr)-1):\n",
    "    for j in range(i+1,len(iris_arr)):\n",
    "        if (iris_arr[i] == iris_arr[j]):\n",
    "            print(\"Duplicates find!\")\n",
    "            print('\\t' + iris_arr[i] + ' | index: ' + str(i))\n",
    "            print('\\t' + iris_arr[j] + ' | index: ' + str(j))\n",
    "            print()\n",
    "            iris_arr[i] = \" \"\n",
    "\n",
    "for i in range (len(iris_arr)-1):\n",
    "    if(iris_arr[i] != \" \"):\n",
    "        wo_duplicates.append(iris_arr[i])\n",
    "\n",
    "print(\"The number of records after checking for repeats: \" + str(len(wo_duplicates)))\n",
    "iris_to_csv = [wo_duplicates[i].split(',') for i in range(len(wo_duplicates))]\n",
    "\n",
    "columns = [\"sepal_length\",\"sepal_width\",\"petal_length\",\"petal_width\", \"species\"]\n",
    "data = iris_to_csv\n",
    "iris_df = pd.DataFrame(iris_to_csv, columns=columns)\n",
    "iris_df.to_csv(\"iris.csv\")\n"
   ]
  },
  {
   "cell_type": "code",
   "execution_count": 5,
   "id": "faed3d9b",
   "metadata": {},
   "outputs": [
    {
     "name": "stdout",
     "output_type": "stream",
     "text": [
      "<class 'pandas.core.frame.DataFrame'>\n",
      "RangeIndex: 147 entries, 0 to 146\n",
      "Data columns (total 5 columns):\n",
      " #   Column        Non-Null Count  Dtype  \n",
      "---  ------        --------------  -----  \n",
      " 0   sepal_length  147 non-null    float64\n",
      " 1   sepal_width   147 non-null    float64\n",
      " 2   petal_length  147 non-null    float64\n",
      " 3   petal_width   147 non-null    float64\n",
      " 4   species       147 non-null    object \n",
      "dtypes: float64(4), object(1)\n",
      "memory usage: 5.9+ KB\n"
     ]
    },
    {
     "data": {
      "text/plain": [
       "<BarContainer object of 3 artists>"
      ]
     },
     "execution_count": 5,
     "metadata": {},
     "output_type": "execute_result"
    },
    {
     "data": {
      "image/png": "[encoded data removed]",
      "text/plain": [
       "<Figure size 432x288 with 1 Axes>"
      ]
     },
     "metadata": {
      "needs_background": "light"
     },
     "output_type": "display_data"
    }
   ],
   "source": [
    "# 3. Histogram\n",
    "iris = pd.read_csv(\"iris.csv\")\n",
    "del iris[\"Unnamed: 0\"]\n",
    "\n",
    "iris.info()\n",
    "\n",
    "groups_names = [\"Iris-setosa\", \"Iris-versicolor\", \"Iris-virginica\"]\n",
    "setosa_amount = iris[iris[\"species\"] == \"Iris-setosa\"].value_counts().sum()\n",
    "versicolor_amount = iris[iris[\"species\"] == \"Iris-versicolor\"].value_counts().sum()\n",
    "virginica_amount = iris[iris[\"species\"] == \"Iris-virginica\"].value_counts().sum()\n",
    "plt.bar(groups_names,[setosa_amount,versicolor_amount,virginica_amount])\n"
   ]
  },
  {
   "cell_type": "code",
   "execution_count": 6,
   "id": "6421331d",
   "metadata": {},
   "outputs": [
    {
     "data": {
      "image/png": "[encoded data removed]",
      "text/plain": [
       "<Figure size 432x288 with 1 Axes>"
      ]
     },
     "metadata": {
      "needs_background": "light"
     },
     "output_type": "display_data"
    }
   ],
   "source": [
    "# 4. Normalization\n",
    "sepal_length = iris[\"sepal_length\"]\n",
    "sepal_width = iris[\"sepal_width\"]\n",
    "petal_length = iris[\"petal_length\"]\n",
    "petal_width = iris[\"petal_width\"]\n",
    "\n",
    "# boxplot before mormalization\n",
    "plt.title(\"Boxplot before noramlization\")\n",
    "plt.boxplot([sepal_length, sepal_width, petal_length, petal_width])\n",
    "plt.xticks([1,2,3,4],[\"sepal_w\", \"sepal_l\", \"petal_w\", \"petal_l\"])\n",
    "\n",
    "sepal_w_norm = []\n",
    "sepal_l_norm = []\n",
    "petal_w_norm = []\n",
    "petal_l_norm = []\n",
    "\n",
    "for i in range (len(wo_duplicates)):\n",
    "    x = (iris[\"sepal_length\"][i] - iris[\"sepal_length\"].min()) / (iris[\"sepal_length\"].max() - iris[\"sepal_length\"].min())\n",
    "    sepal_w_norm.append(round(x, 2))\n",
    "    x = (iris[\"sepal_width\"][i] - iris[\"sepal_width\"].min()) / (iris[\"sepal_width\"].max() - iris[\"sepal_width\"].min())\n",
    "    sepal_l_norm.append(round(x, 2))\n",
    "    x = (iris[\"petal_length\"][i] - iris[\"petal_length\"].min()) / (iris[\"petal_length\"].max() - iris[\"petal_length\"].min())\n",
    "    petal_w_norm.append(round(x, 2))\n",
    "    x = (iris[\"petal_width\"][i] - iris[\"petal_width\"].min()) / (iris[\"petal_width\"].max() - iris[\"petal_width\"].min())\n",
    "    petal_l_norm.append(round(x, 2))\n",
    "    \n",
    "iris_norm = pd.DataFrame({\n",
    "    \"sepal_length\" : sepal_l_norm,\n",
    "    \"sepal_width\" : sepal_w_norm,\n",
    "    \"petal_length\" : petal_l_norm,\n",
    "    \"petal_width\" : petal_w_norm\n",
    "})"
   ]
  },
  {
   "cell_type": "code",
   "execution_count": 7,
   "id": "45d4752c",
   "metadata": {},
   "outputs": [
    {
     "data": {
      "text/plain": [
       "([<matplotlib.axis.XTick at 0x26c80a1b1f0>,\n",
       "  <matplotlib.axis.XTick at 0x26c80a1b1c0>,\n",
       "  <matplotlib.axis.XTick at 0x26c809901c0>,\n",
       "  <matplotlib.axis.XTick at 0x26c80a980a0>],\n",
       " [Text(1, 0, 'sepal_w'),\n",
       "  Text(2, 0, 'sepal_l'),\n",
       "  Text(3, 0, 'petal_w'),\n",
       "  Text(4, 0, 'petal_l')])"
      ]
     },
     "execution_count": 7,
     "metadata": {},
     "output_type": "execute_result"
    },
    {
     "data": {
      "image/png": "[encoded data removed]",
      "text/plain": [
       "<Figure size 432x288 with 1 Axes>"
      ]
     },
     "metadata": {
      "needs_background": "light"
     },
     "output_type": "display_data"
    }
   ],
   "source": [
    "plt.title(\"Boxplot after noramlization\")\n",
    "plt.boxplot([sepal_w_norm, sepal_l_norm, petal_w_norm, petal_l_norm])\n",
    "plt.xticks([1,2,3,4],[\"sepal_w\", \"sepal_l\", \"petal_w\", \"petal_l\"])"
   ]
  },
  {
   "cell_type": "code",
   "execution_count": 8,
   "id": "25eff39c",
   "metadata": {},
   "outputs": [
    {
     "data": {
      "text/html": [
       "<div>\n",
       "<style scoped>\n",
       "    .dataframe tbody tr th:only-of-type {\n",
       "        vertical-align: middle;\n",
       "    }\n",
       "\n",
       "    .dataframe tbody tr th {\n",
       "        vertical-align: top;\n",
       "    }\n",
       "\n",
       "    .dataframe thead th {\n",
       "        text-align: right;\n",
       "    }\n",
       "</style>\n",
       "<table border=\"1\" class=\"dataframe\">\n",
       "  <thead>\n",
       "    <tr style=\"text-align: right;\">\n",
       "      <th></th>\n",
       "      <th>sepal_length</th>\n",
       "      <th>sepal_width</th>\n",
       "      <th>petal_length</th>\n",
       "      <th>petal_width</th>\n",
       "    </tr>\n",
       "  </thead>\n",
       "  <tbody>\n",
       "    <tr>\n",
       "      <th>sepal_length</th>\n",
       "      <td>1.000000</td>\n",
       "      <td>-0.108184</td>\n",
       "      <td>-0.354792</td>\n",
       "      <td>-0.419645</td>\n",
       "    </tr>\n",
       "    <tr>\n",
       "      <th>sepal_width</th>\n",
       "      <td>-0.108184</td>\n",
       "      <td>1.000000</td>\n",
       "      <td>0.816632</td>\n",
       "      <td>0.871720</td>\n",
       "    </tr>\n",
       "    <tr>\n",
       "      <th>petal_length</th>\n",
       "      <td>-0.354792</td>\n",
       "      <td>0.816632</td>\n",
       "      <td>1.000000</td>\n",
       "      <td>0.961163</td>\n",
       "    </tr>\n",
       "    <tr>\n",
       "      <th>petal_width</th>\n",
       "      <td>-0.419645</td>\n",
       "      <td>0.871720</td>\n",
       "      <td>0.961163</td>\n",
       "      <td>1.000000</td>\n",
       "    </tr>\n",
       "  </tbody>\n",
       "</table>\n",
       "</div>"
      ],
      "text/plain": [
       "              sepal_length  sepal_width  petal_length  petal_width\n",
       "sepal_length      1.000000    -0.108184     -0.354792    -0.419645\n",
       "sepal_width      -0.108184     1.000000      0.816632     0.871720\n",
       "petal_length     -0.354792     0.816632      1.000000     0.961163\n",
       "petal_width      -0.419645     0.871720      0.961163     1.000000"
      ]
     },
     "execution_count": 8,
     "metadata": {},
     "output_type": "execute_result"
    }
   ],
   "source": [
    "# 6. Correlation\n",
    "iris_norm.corr(\"pearson\")"
   ]
  },
  {
   "cell_type": "code",
   "execution_count": 9,
   "id": "4f0b33d1",
   "metadata": {},
   "outputs": [
    {
     "data": {
      "text/html": [
       "<div>\n",
       "<style scoped>\n",
       "    .dataframe tbody tr th:only-of-type {\n",
       "        vertical-align: middle;\n",
       "    }\n",
       "\n",
       "    .dataframe tbody tr th {\n",
       "        vertical-align: top;\n",
       "    }\n",
       "\n",
       "    .dataframe thead th {\n",
       "        text-align: right;\n",
       "    }\n",
       "</style>\n",
       "<table border=\"1\" class=\"dataframe\">\n",
       "  <thead>\n",
       "    <tr style=\"text-align: right;\">\n",
       "      <th></th>\n",
       "      <th>sepal_length</th>\n",
       "      <th>sepal_width</th>\n",
       "      <th>petal_length</th>\n",
       "      <th>petal_width</th>\n",
       "      <th>species</th>\n",
       "    </tr>\n",
       "  </thead>\n",
       "  <tbody>\n",
       "    <tr>\n",
       "      <th>0</th>\n",
       "      <td>0.62</td>\n",
       "      <td>0.22</td>\n",
       "      <td>0.04</td>\n",
       "      <td>0.07</td>\n",
       "      <td>0</td>\n",
       "    </tr>\n",
       "    <tr>\n",
       "      <th>1</th>\n",
       "      <td>0.42</td>\n",
       "      <td>0.17</td>\n",
       "      <td>0.04</td>\n",
       "      <td>0.07</td>\n",
       "      <td>0</td>\n",
       "    </tr>\n",
       "    <tr>\n",
       "      <th>2</th>\n",
       "      <td>0.50</td>\n",
       "      <td>0.11</td>\n",
       "      <td>0.04</td>\n",
       "      <td>0.05</td>\n",
       "      <td>0</td>\n",
       "    </tr>\n",
       "    <tr>\n",
       "      <th>3</th>\n",
       "      <td>0.46</td>\n",
       "      <td>0.08</td>\n",
       "      <td>0.04</td>\n",
       "      <td>0.08</td>\n",
       "      <td>0</td>\n",
       "    </tr>\n",
       "    <tr>\n",
       "      <th>4</th>\n",
       "      <td>0.67</td>\n",
       "      <td>0.19</td>\n",
       "      <td>0.04</td>\n",
       "      <td>0.07</td>\n",
       "      <td>0</td>\n",
       "    </tr>\n",
       "    <tr>\n",
       "      <th>...</th>\n",
       "      <td>...</td>\n",
       "      <td>...</td>\n",
       "      <td>...</td>\n",
       "      <td>...</td>\n",
       "      <td>...</td>\n",
       "    </tr>\n",
       "    <tr>\n",
       "      <th>142</th>\n",
       "      <td>0.42</td>\n",
       "      <td>0.67</td>\n",
       "      <td>0.92</td>\n",
       "      <td>0.71</td>\n",
       "      <td>2</td>\n",
       "    </tr>\n",
       "    <tr>\n",
       "      <th>143</th>\n",
       "      <td>0.21</td>\n",
       "      <td>0.56</td>\n",
       "      <td>0.75</td>\n",
       "      <td>0.68</td>\n",
       "      <td>2</td>\n",
       "    </tr>\n",
       "    <tr>\n",
       "      <th>144</th>\n",
       "      <td>0.42</td>\n",
       "      <td>0.61</td>\n",
       "      <td>0.79</td>\n",
       "      <td>0.71</td>\n",
       "      <td>2</td>\n",
       "    </tr>\n",
       "    <tr>\n",
       "      <th>145</th>\n",
       "      <td>0.58</td>\n",
       "      <td>0.53</td>\n",
       "      <td>0.92</td>\n",
       "      <td>0.75</td>\n",
       "      <td>2</td>\n",
       "    </tr>\n",
       "    <tr>\n",
       "      <th>146</th>\n",
       "      <td>0.42</td>\n",
       "      <td>0.44</td>\n",
       "      <td>0.71</td>\n",
       "      <td>0.69</td>\n",
       "      <td>2</td>\n",
       "    </tr>\n",
       "  </tbody>\n",
       "</table>\n",
       "<p>147 rows × 5 columns</p>\n",
       "</div>"
      ],
      "text/plain": [
       "     sepal_length  sepal_width  petal_length  petal_width  species\n",
       "0            0.62         0.22          0.04         0.07        0\n",
       "1            0.42         0.17          0.04         0.07        0\n",
       "2            0.50         0.11          0.04         0.05        0\n",
       "3            0.46         0.08          0.04         0.08        0\n",
       "4            0.67         0.19          0.04         0.07        0\n",
       "..            ...          ...           ...          ...      ...\n",
       "142          0.42         0.67          0.92         0.71        2\n",
       "143          0.21         0.56          0.75         0.68        2\n",
       "144          0.42         0.61          0.79         0.71        2\n",
       "145          0.58         0.53          0.92         0.75        2\n",
       "146          0.42         0.44          0.71         0.69        2\n",
       "\n",
       "[147 rows x 5 columns]"
      ]
     },
     "execution_count": 9,
     "metadata": {},
     "output_type": "execute_result"
    }
   ],
   "source": [
    "# 5. Replacement of categorical features\n",
    "from sklearn import preprocessing\n",
    "import numpy as np\n",
    "\n",
    "iris_object = iris.select_dtypes(include=[object])\n",
    "\n",
    "le = preprocessing.LabelEncoder()\n",
    "iris_object_encoded = iris_object.apply(le.fit_transform)\n",
    "\n",
    "iris_object_encoded.reset_index(drop=True,inplace=True)\n",
    "\n",
    "iris_norm[\"species\"] = iris_object_encoded\n",
    "iris_norm"
   ]
  },
  {
   "cell_type": "code",
   "execution_count": 10,
   "id": "5e2d46aa",
   "metadata": {},
   "outputs": [],
   "source": [
    "# 7. NO MISSING VALUE"
   ]
  },
  {
   "cell_type": "code",
   "execution_count": 11,
   "id": "8394ed3d",
   "metadata": {},
   "outputs": [],
   "source": [
    "# 8 GridSearchCV, KNN, Dtree\n",
    "# Data preparing\n",
    "x = iris_norm.drop('species', axis=1)\n",
    "y = iris_norm['species']\n",
    "x_train, x_test, y_train, y_test = train_test_split(x, y, test_size=0.5, shuffle=True)"
   ]
  },
  {
   "cell_type": "code",
   "execution_count": 13,
   "id": "f71f0f99",
   "metadata": {
    "scrolled": true
   },
   "outputs": [
    {
     "name": "stdout",
     "output_type": "stream",
     "text": [
      "Fitting 5 folds for each of 280 candidates, totalling 1400 fits\n",
      "              precision    recall  f1-score   support\n",
      "\n",
      "           0       1.00      1.00      1.00        28\n",
      "           1       0.92      0.92      0.92        26\n",
      "           2       0.90      0.90      0.90        20\n",
      "\n",
      "    accuracy                           0.95        74\n",
      "   macro avg       0.94      0.94      0.94        74\n",
      "weighted avg       0.95      0.95      0.95        74\n",
      "\n"
     ]
    },
    {
     "name": "stderr",
     "output_type": "stream",
     "text": [
      "C:\\ProgramData\\Anaconda3\\lib\\site-packages\\sklearn\\model_selection\\_search.py:922: UserWarning: One or more of the test scores are non-finite: [0.97238095 0.97238095 0.97238095 0.97238095 1.         1.\n",
      " 0.98666667 1.         0.98666667 0.98666667 0.98666667 0.98666667\n",
      " 1.         1.         1.         0.98666667 0.98666667 0.98666667\n",
      " 0.97333333 0.98666667 0.96       0.97333333 0.96       0.98666667\n",
      " 0.97333333 0.98666667 0.96       0.98666667 0.93333333 0.97333333\n",
      " 0.96       0.97333333 0.93333333 0.97333333 0.94666667 0.96\n",
      " 0.94666667 0.96       0.94666667 0.96       0.94666667 0.96\n",
      " 0.94666667 0.96       0.94666667 0.96       0.91904762 0.96\n",
      " 0.93238095 0.96       0.91904762 0.96       0.91904762 0.94571429\n",
      " 0.91904762 0.96       0.91904762 0.96       0.91904762 0.96\n",
      " 0.9047619  0.94571429 0.89142857 0.97333333 0.80952381 0.94571429\n",
      " 0.69809524 0.94571429 0.61714286 0.94571429 0.63047619 0.94571429\n",
      " 0.60380952 0.94571429 0.60380952 0.95904762 0.54952381 0.95904762\n",
      " 0.52190476 0.95904762 0.4952381  0.95904762 0.4952381  0.95904762\n",
      " 0.4952381  0.95904762 0.48095238 0.95904762 0.48095238 0.95904762\n",
      " 0.48095238 0.95904762 0.48095238 0.95904762 0.48095238 0.95904762\n",
      " 0.48095238 0.95904762 0.46666667 0.95904762 0.44       0.95904762\n",
      " 0.44       0.95904762 0.44       0.95904762 0.42571429 0.95904762\n",
      " 0.41142857 0.95904762 0.41142857 0.95904762 0.39714286 0.95904762\n",
      " 0.39714286 0.95904762        nan        nan        nan        nan\n",
      "        nan        nan        nan        nan        nan        nan\n",
      "        nan        nan        nan        nan        nan        nan\n",
      "        nan        nan        nan        nan        nan        nan\n",
      "        nan        nan 0.97238095 0.97238095 0.98571429 0.97238095\n",
      " 0.98666667 0.98666667 0.98666667 0.98666667 0.98666667 0.98666667\n",
      " 0.97333333 0.98666667 0.97333333 0.97333333 0.98666667 0.97333333\n",
      " 0.96       0.97333333 0.96       0.98666667 0.97333333 0.97333333\n",
      " 0.97333333 0.98666667 0.97333333 0.97333333 0.97333333 0.98666667\n",
      " 0.97333333 0.98666667 0.97333333 0.98666667 0.94666667 0.98666667\n",
      " 0.95904762 0.98666667 0.94571429 0.97238095 0.94571429 0.98666667\n",
      " 0.91904762 0.94571429 0.94571429 0.94571429 0.91809524 0.94571429\n",
      " 0.91809524 0.94571429 0.93238095 0.96       0.9047619  0.94571429\n",
      " 0.91904762 0.96       0.90571429 0.94571429 0.91904762 0.94571429\n",
      " 0.9047619  0.95904762 0.90571429 0.95904762 0.89238095 0.95904762\n",
      " 0.84857143 0.95904762 0.74095238 0.95904762 0.63047619 0.95904762\n",
      " 0.6447619  0.95904762 0.60380952 0.95904762 0.6047619  0.95904762\n",
      " 0.56285714 0.95904762 0.50857143 0.95904762 0.48095238 0.95904762\n",
      " 0.48095238 0.95904762 0.48095238 0.95904762 0.48095238 0.95904762\n",
      " 0.48095238 0.95904762 0.46666667 0.95904762 0.46666667 0.95904762\n",
      " 0.45333333 0.95904762 0.45333333 0.95904762 0.45333333 0.95904762\n",
      " 0.45333333 0.95904762 0.44       0.95904762 0.42571429 0.95904762\n",
      " 0.42571429 0.95904762 0.41142857 0.95904762 0.41142857 0.95904762\n",
      " 0.39714286 0.95904762 0.39714286 0.95904762        nan        nan\n",
      "        nan        nan        nan        nan        nan        nan\n",
      "        nan        nan        nan        nan        nan        nan\n",
      "        nan        nan        nan        nan        nan        nan\n",
      "        nan        nan        nan        nan]\n",
      "  warnings.warn(\n"
     ]
    },
    {
     "data": {
      "text/plain": [
       "Text(0.5, 1.0, 'Accuracy:0.946')"
      ]
     },
     "execution_count": 13,
     "metadata": {},
     "output_type": "execute_result"
    },
    {
     "data": {
      "image/png": "[encoded data removed]",
      "text/plain": [
       "<Figure size 432x288 with 2 Axes>"
      ]
     },
     "metadata": {
      "needs_background": "light"
     },
     "output_type": "display_data"
    }
   ],
   "source": [
    "#KNN\n",
    "grid_params = {\n",
    "    'n_neighbors' : [i+1  for i in range(70)],\n",
    "    'weights' : ['uniform', 'distance'],\n",
    "    'metric' : ['euclidean', 'manhattan']\n",
    "}\n",
    "\n",
    "gs_knn = GridSearchCV(KNeighborsClassifier(), grid_params,\n",
    "                     verbose=1, cv=5, n_jobs=-1)\n",
    "gs_knn_res = gs_knn.fit(x_train, y_train)\n",
    "\n",
    "#print(gs_knn_res.best_score_)\n",
    "#print(gs_knn_res.best_estimator_)\n",
    "#print(gs_knn_res.best_params_)\n",
    "\n",
    "y_pred_knn = gs_knn_res.predict(x_test)\n",
    "\n",
    "print(classification_report(y_test, y_pred_knn))\n",
    "\n",
    "df_knn = pd.DataFrame(confusion_matrix(y_test, y_pred_knn),\n",
    "                        index = ['setosa','versicolor','virginica'], \n",
    "                     columns = ['setosa','versicolor','virginica'])\n",
    "sns.heatmap(df_knn, annot=True)\n",
    "plt.title('Accuracy:{0:.3f}'.format(accuracy_score(y_test, y_pred_knn)))"
   ]
  },
  {
   "cell_type": "code",
   "execution_count": 14,
   "id": "ec79945b",
   "metadata": {},
   "outputs": [
    {
     "name": "stdout",
     "output_type": "stream",
     "text": [
      "Fitting 5 folds for each of 50 candidates, totalling 250 fits\n",
      "              precision    recall  f1-score   support\n",
      "\n",
      "           0       1.00      1.00      1.00        28\n",
      "           1       0.92      0.88      0.90        26\n",
      "           2       0.86      0.90      0.88        20\n",
      "\n",
      "    accuracy                           0.93        74\n",
      "   macro avg       0.93      0.93      0.93        74\n",
      "weighted avg       0.93      0.93      0.93        74\n",
      "\n"
     ]
    },
    {
     "data": {
      "text/plain": [
       "Text(0.5, 1.0, 'Accuracy:0.932')"
      ]
     },
     "execution_count": 14,
     "metadata": {},
     "output_type": "execute_result"
    },
    {
     "data": {
      "image/png": "[encoded data removed]",
      "text/plain": [
       "<Figure size 432x288 with 2 Axes>"
      ]
     },
     "metadata": {
      "needs_background": "light"
     },
     "output_type": "display_data"
    }
   ],
   "source": [
    "# Dtree\n",
    "grid_params = { \n",
    "    'criterion':['gini','entropy'],\n",
    "    'max_depth': np.arange(2, 100, 4)\n",
    "}\n",
    "gs_dtree = GridSearchCV(DecisionTreeClassifier(), grid_params, verbose=1, \n",
    "                        cv=5, n_jobs=-1)\n",
    "\n",
    "gs_dtree_res = gs_dtree.fit(x_train,y_train)\n",
    "\n",
    "#print(gs_dtree_res.best_score_)\n",
    "#print(gs_dtree_res.best_estimator_)\n",
    "#print(gs_dtree_res.best_params_)\n",
    "\n",
    "y_pred_tree = gs_dtree_res.predict(x_test)\n",
    "print(classification_report(y_test, y_pred_tree))\n",
    "\n",
    "df_tree = pd.DataFrame(confusion_matrix(y_test, y_pred_tree),\n",
    "                        index = ['setosa','versicolor','virginica'], \n",
    "                     columns = ['setosa','versicolor','virginica'])\n",
    "sns.heatmap(df_tree, annot=True)\n",
    "plt.title('Accuracy:{0:.3f}'.format(accuracy_score(y_test, y_pred_tree)))"
   ]
  },
  {
   "cell_type": "code",
   "execution_count": 15,
   "id": "1383ed14",
   "metadata": {},
   "outputs": [],
   "source": [
    "# Preparing data for curves\n",
    "dtree2 = DecisionTreeClassifier(**gs_dtree_res.best_params_)\n",
    "knn2 = KNeighborsClassifier(**gs_knn_res.best_params_)\n",
    "\n",
    "dtree2.fit(x_train, y_train)\n",
    "knn2.fit(x_train, y_train)\n",
    "\n",
    "resd = dtree2.predict_proba(x_test)\n",
    "resk = knn2.predict_proba(x_test)"
   ]
  },
  {
   "cell_type": "code",
   "execution_count": 16,
   "id": "e6b6e8ad",
   "metadata": {},
   "outputs": [
    {
     "data": {
      "image/png": "[encoded data removed]",
      "text/plain": [
       "<Figure size 432x288 with 1 Axes>"
      ]
     },
     "metadata": {
      "needs_background": "light"
     },
     "output_type": "display_data"
    }
   ],
   "source": [
    "#ROC-curves\n",
    "fpr = {}\n",
    "tpr = {}\n",
    "roc_auc = {}\n",
    "\n",
    "for i in range(3):\n",
    "    fpr[i], tpr[i], _ = roc_curve(y_test, resd[:,i], pos_label=i)\n",
    "\n",
    "all_fpr = np.unique(np.concatenate([fpr[i] for i in range(3)]))\n",
    "mean_tpr = np.zeros_like(all_fpr)\n",
    "for i in range(3):\n",
    "    mean_tpr += np.interp(all_fpr, fpr[i], tpr[i])\n",
    "mean_tpr /= 3\n",
    "\n",
    "fpr[\"macro\"] = all_fpr\n",
    "tpr[\"macro\"] = mean_tpr\n",
    "roc_auc[\"macro\"] = auc(fpr[\"macro\"], tpr[\"macro\"])\n",
    "\n",
    "plt.plot(\n",
    "    fpr[\"macro\"],\n",
    "    tpr[\"macro\"],\n",
    "    label=\"macro-average ROC curve (area = {0:0.2f})\".format(roc_auc[\"macro\"]),\n",
    "    color=\"blue\",\n",
    "    linestyle=\":\",\n",
    ")\n",
    "\n",
    "\n",
    "plt.plot([0, 1], [0, 1], \"k--\")\n",
    "plt.plot(fpr[0], tpr[0], linestyle='--',color='green', label='Class setosa vs Rest')\n",
    "plt.plot(fpr[1], tpr[1], linestyle='--',color='red', label='Class versicolor vs Rest')\n",
    "plt.plot(fpr[2], tpr[2], linestyle='--',color='yellow', label='Class virginica vs Rest')\n",
    "\n",
    "plt.title('Multiclass ROC curve (Dtree)')\n",
    "plt.xlabel('False Positive Rate')\n",
    "plt.ylabel('True Positive rate')\n",
    "plt.legend(loc='best')\n",
    "plt.savefig('Multiclass ROC',dpi=300); "
   ]
  },
  {
   "cell_type": "code",
   "execution_count": 17,
   "id": "cf8e85ab",
   "metadata": {},
   "outputs": [
    {
     "data": {
      "text/plain": [
       "<matplotlib.legend.Legend at 0x26c80e0ce50>"
      ]
     },
     "execution_count": 17,
     "metadata": {},
     "output_type": "execute_result"
    },
    {
     "data": {
      "image/png": "[encoded data removed]",
      "text/plain": [
       "<Figure size 432x288 with 1 Axes>"
      ]
     },
     "metadata": {
      "needs_background": "light"
     },
     "output_type": "display_data"
    }
   ],
   "source": [
    "# roc for knn\n",
    "knn2 = KNeighborsClassifier(**gs_knn_res.best_params_)\n",
    "resk = knn2.predict_proba(x_test)\n",
    "fpr = {}\n",
    "tpr = {}\n",
    "roc_auc = {}\n",
    "\n",
    "for i in range(3):\n",
    "    fpr[i], tpr[i], _ = roc_curve(y_test, resk[:,i], pos_label=i)\n",
    "\n",
    "all_fpr = np.unique(np.concatenate([fpr[i] for i in range(3)]))\n",
    "mean_tpr = np.zeros_like(all_fpr)\n",
    "for i in range(3):\n",
    "    mean_tpr += np.interp(all_fpr, fpr[i], tpr[i])\n",
    "mean_tpr /= 3\n",
    "\n",
    "fpr[\"macro\"] = all_fpr\n",
    "tpr[\"macro\"] = mean_tpr\n",
    "roc_auc[\"macro\"] = auc(fpr[\"macro\"], tpr[\"macro\"])\n",
    "\n",
    "plt.plot(fpr[\"macro\"], tpr[\"macro\"], label=\"macro-average ROC curve (area = {0:0.2f})\".format(roc_auc[\"macro\"]), color=\"blue\",linestyle=\":\",)    \n",
    "plt.plot([0, 1], [0, 1], \"k--\")\n",
    "plt.plot(fpr[0], tpr[0], linestyle='--',color='green', label='Class setosa vs Rest')\n",
    "plt.plot(fpr[1], tpr[1], linestyle='--',color='red', label='Class versicolor vs Rest')\n",
    "plt.plot(fpr[2], tpr[2], linestyle='--',color='yellow', label='Class virginica vs Rest')\n",
    "\n",
    "plt.title('Multiclass ROC curve (KNN)')\n",
    "plt.xlabel('False Positive Rate')\n",
    "plt.ylabel('True Positive rate')\n",
    "plt.legend(loc='best')"
   ]
  },
  {
   "cell_type": "code",
   "execution_count": 21,
   "id": "4cec2e84",
   "metadata": {},
   "outputs": [
    {
     "data": {
      "text/plain": [
       "<matplotlib.legend.Legend at 0x26c80c82f70>"
      ]
     },
     "execution_count": 21,
     "metadata": {},
     "output_type": "execute_result"
    },
    {
     "data": {
      "image/png": "[encoded data removed]",
      "text/plain": [
       "<Figure size 432x288 with 1 Axes>"
      ]
     },
     "metadata": {
      "needs_background": "light"
     },
     "output_type": "display_data"
    }
   ],
   "source": [
    "#PR-curves\n",
    "p = {}\n",
    "r = {}\n",
    "\n",
    "for i in range(3):\n",
    "    p[i], r[i], _ = precision_recall_curve(y_test, resd[:,i], pos_label=i)\n",
    "    \n",
    "\n",
    "plt.plot(r[0], p[0], linestyle='--',color='green', label='Class setosa vs Rest')\n",
    "plt.plot(r[1], p[1], linestyle='--',color='red', label='Class versicolor vs Rest')\n",
    "plt.plot(r[2], p[2], linestyle='--',color='blue', label='Class virginica vs Rest')\n",
    "\n",
    "plt.title('PR curve (KNN)')\n",
    "plt.xlabel('Recall')\n",
    "plt.ylabel('Precission')\n",
    "plt.legend(loc='best')\n",
    "plt.legend(loc='best')"
   ]
  },
  {
   "cell_type": "code",
   "execution_count": 22,
   "id": "52e18932",
   "metadata": {},
   "outputs": [
    {
     "data": {
      "text/plain": [
       "<matplotlib.legend.Legend at 0x26c8284fca0>"
      ]
     },
     "execution_count": 22,
     "metadata": {},
     "output_type": "execute_result"
    },
    {
     "data": {
      "image/png": "[encoded data removed]",
      "text/plain": [
       "<Figure size 432x288 with 1 Axes>"
      ]
     },
     "metadata": {
      "needs_background": "light"
     },
     "output_type": "display_data"
    }
   ],
   "source": [
    "p = {}\n",
    "r = {}\n",
    "\n",
    "for i in range(3):\n",
    "    p[i], r[i], _ = precision_recall_curve(y_test, resk[:,i], pos_label=i)\n",
    "\n",
    "plt.plot(r[0], p[0], linestyle='--',color='green', label='Class setosa vs Rest')\n",
    "plt.plot(r[1], p[1], linestyle='--',color='red', label='Class versicolor vs Rest')\n",
    "plt.plot(r[2], p[2], linestyle='--',color='blue', label='Class virginica vs Rest')\n",
    "\n",
    "plt.title('PR curve (KNN)')\n",
    "plt.xlabel('Recall')\n",
    "plt.ylabel('Precission')\n",
    "plt.legend(loc='best')"
   ]
  },
  {
   "cell_type": "code",
   "execution_count": null,
   "id": "aa5f43a4",
   "metadata": {},
   "outputs": [],
   "source": []
  },
  {
   "cell_type": "code",
   "execution_count": null,
   "id": "b5a0445c",
   "metadata": {},
   "outputs": [],
   "source": []
  }
 ],
 "metadata": {
  "kernelspec": {
   "display_name": "Python 3 (ipykernel)",
   "language": "python",
   "name": "python3"
  },
  "language_info": {
   "codemirror_mode": {
    "name": "ipython",
    "version": 3
   },
   "file_extension": ".py",
   "mimetype": "text/x-python",
   "name": "python",
   "nbconvert_exporter": "python",
   "pygments_lexer": "ipython3",
   "version": "3.9.7"
  }
 },
 "nbformat": 4,
 "nbformat_minor": 5
}
