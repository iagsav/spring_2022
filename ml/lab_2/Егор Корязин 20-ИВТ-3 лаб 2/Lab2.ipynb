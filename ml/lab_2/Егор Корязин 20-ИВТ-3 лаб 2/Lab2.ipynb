{
 "cells": [
  {
   "cell_type": "markdown",
   "id": "241e61bb",
   "metadata": {},
   "source": [
    "# Вторая лабараторная работа\n",
    "\n",
    "#### _Корязин Егор 20-ИВТ-3_\n",
    "#### 8 вариант (Астронавты)\n",
    "***"
   ]
  },
  {
   "cell_type": "code",
   "execution_count": 1,
   "id": "f91d7815",
   "metadata": {},
   "outputs": [],
   "source": [
    "import pandas as pd\n",
    "import matplotlib.pyplot as plt\n",
    "%matplotlib inline"
   ]
  },
  {
   "cell_type": "code",
   "execution_count": 2,
   "id": "4969973e",
   "metadata": {},
   "outputs": [
    {
     "data": {
      "text/html": [
       "<div>\n",
       "<style scoped>\n",
       "    .dataframe tbody tr th:only-of-type {\n",
       "        vertical-align: middle;\n",
       "    }\n",
       "\n",
       "    .dataframe tbody tr th {\n",
       "        vertical-align: top;\n",
       "    }\n",
       "\n",
       "    .dataframe thead th {\n",
       "        text-align: right;\n",
       "    }\n",
       "</style>\n",
       "<table border=\"1\" class=\"dataframe\">\n",
       "  <thead>\n",
       "    <tr style=\"text-align: right;\">\n",
       "      <th></th>\n",
       "      <th>Name</th>\n",
       "      <th>Year</th>\n",
       "      <th>Group</th>\n",
       "      <th>Status</th>\n",
       "      <th>Birth Date</th>\n",
       "      <th>Birth Place</th>\n",
       "      <th>Gender</th>\n",
       "      <th>Alma Mater</th>\n",
       "      <th>Undergraduate Major</th>\n",
       "      <th>Graduate Major</th>\n",
       "      <th>Military Rank</th>\n",
       "      <th>Military Branch</th>\n",
       "      <th>Space Flights</th>\n",
       "      <th>Space Flight (hr)</th>\n",
       "      <th>Space Walks</th>\n",
       "      <th>Space Walks (hr)</th>\n",
       "      <th>Missions</th>\n",
       "      <th>Death Date</th>\n",
       "      <th>Death Mission</th>\n",
       "    </tr>\n",
       "  </thead>\n",
       "  <tbody>\n",
       "    <tr>\n",
       "      <th>0</th>\n",
       "      <td>Joseph M. Acaba</td>\n",
       "      <td>2004.0</td>\n",
       "      <td>19.0</td>\n",
       "      <td>Active</td>\n",
       "      <td>5/17/1967</td>\n",
       "      <td>Inglewood, CA</td>\n",
       "      <td>Male</td>\n",
       "      <td>University of California-Santa Barbara; Univer...</td>\n",
       "      <td>Geology</td>\n",
       "      <td>Geology</td>\n",
       "      <td>NaN</td>\n",
       "      <td>NaN</td>\n",
       "      <td>2</td>\n",
       "      <td>3307</td>\n",
       "      <td>2</td>\n",
       "      <td>13.0</td>\n",
       "      <td>STS-119 (Discovery), ISS-31/32 (Soyuz)</td>\n",
       "      <td>NaN</td>\n",
       "      <td>NaN</td>\n",
       "    </tr>\n",
       "    <tr>\n",
       "      <th>1</th>\n",
       "      <td>Loren W. Acton</td>\n",
       "      <td>NaN</td>\n",
       "      <td>NaN</td>\n",
       "      <td>Retired</td>\n",
       "      <td>3/7/1936</td>\n",
       "      <td>Lewiston, MT</td>\n",
       "      <td>Male</td>\n",
       "      <td>Montana State University; University of Colorado</td>\n",
       "      <td>Engineering Physics</td>\n",
       "      <td>Solar Physics</td>\n",
       "      <td>NaN</td>\n",
       "      <td>NaN</td>\n",
       "      <td>1</td>\n",
       "      <td>190</td>\n",
       "      <td>0</td>\n",
       "      <td>0.0</td>\n",
       "      <td>STS 51-F (Challenger)</td>\n",
       "      <td>NaN</td>\n",
       "      <td>NaN</td>\n",
       "    </tr>\n",
       "    <tr>\n",
       "      <th>2</th>\n",
       "      <td>James C. Adamson</td>\n",
       "      <td>1984.0</td>\n",
       "      <td>10.0</td>\n",
       "      <td>Retired</td>\n",
       "      <td>3/3/1946</td>\n",
       "      <td>Warsaw, NY</td>\n",
       "      <td>Male</td>\n",
       "      <td>US Military Academy; Princeton University</td>\n",
       "      <td>Engineering</td>\n",
       "      <td>Aerospace Engineering</td>\n",
       "      <td>Colonel</td>\n",
       "      <td>US Army (Retired)</td>\n",
       "      <td>2</td>\n",
       "      <td>334</td>\n",
       "      <td>0</td>\n",
       "      <td>0.0</td>\n",
       "      <td>STS-28 (Columbia), STS-43 (Atlantis)</td>\n",
       "      <td>NaN</td>\n",
       "      <td>NaN</td>\n",
       "    </tr>\n",
       "    <tr>\n",
       "      <th>3</th>\n",
       "      <td>Thomas D. Akers</td>\n",
       "      <td>1987.0</td>\n",
       "      <td>12.0</td>\n",
       "      <td>Retired</td>\n",
       "      <td>5/20/1951</td>\n",
       "      <td>St. Louis, MO</td>\n",
       "      <td>Male</td>\n",
       "      <td>University of Missouri-Rolla</td>\n",
       "      <td>Applied Mathematics</td>\n",
       "      <td>Applied Mathematics</td>\n",
       "      <td>Colonel</td>\n",
       "      <td>US Air Force (Retired)</td>\n",
       "      <td>4</td>\n",
       "      <td>814</td>\n",
       "      <td>4</td>\n",
       "      <td>29.0</td>\n",
       "      <td>STS-41 (Discovery), STS-49 (Endeavor), STS-61 ...</td>\n",
       "      <td>NaN</td>\n",
       "      <td>NaN</td>\n",
       "    </tr>\n",
       "    <tr>\n",
       "      <th>4</th>\n",
       "      <td>Buzz Aldrin</td>\n",
       "      <td>1963.0</td>\n",
       "      <td>3.0</td>\n",
       "      <td>Retired</td>\n",
       "      <td>1/20/1930</td>\n",
       "      <td>Montclair, NJ</td>\n",
       "      <td>Male</td>\n",
       "      <td>US Military Academy; MIT</td>\n",
       "      <td>Mechanical Engineering</td>\n",
       "      <td>Astronautics</td>\n",
       "      <td>Colonel</td>\n",
       "      <td>US Air Force (Retired)</td>\n",
       "      <td>2</td>\n",
       "      <td>289</td>\n",
       "      <td>2</td>\n",
       "      <td>8.0</td>\n",
       "      <td>Gemini 12, Apollo 11</td>\n",
       "      <td>NaN</td>\n",
       "      <td>NaN</td>\n",
       "    </tr>\n",
       "    <tr>\n",
       "      <th>...</th>\n",
       "      <td>...</td>\n",
       "      <td>...</td>\n",
       "      <td>...</td>\n",
       "      <td>...</td>\n",
       "      <td>...</td>\n",
       "      <td>...</td>\n",
       "      <td>...</td>\n",
       "      <td>...</td>\n",
       "      <td>...</td>\n",
       "      <td>...</td>\n",
       "      <td>...</td>\n",
       "      <td>...</td>\n",
       "      <td>...</td>\n",
       "      <td>...</td>\n",
       "      <td>...</td>\n",
       "      <td>...</td>\n",
       "      <td>...</td>\n",
       "      <td>...</td>\n",
       "      <td>...</td>\n",
       "    </tr>\n",
       "    <tr>\n",
       "      <th>352</th>\n",
       "      <td>David A. Wolf</td>\n",
       "      <td>1990.0</td>\n",
       "      <td>13.0</td>\n",
       "      <td>Retired</td>\n",
       "      <td>8/23/1956</td>\n",
       "      <td>Indianapolis, IN</td>\n",
       "      <td>Male</td>\n",
       "      <td>Purdue University; Indiana University</td>\n",
       "      <td>Electrical Engineering</td>\n",
       "      <td>Medicine</td>\n",
       "      <td>NaN</td>\n",
       "      <td>NaN</td>\n",
       "      <td>3</td>\n",
       "      <td>4044</td>\n",
       "      <td>7</td>\n",
       "      <td>41.0</td>\n",
       "      <td>STS-58 (Columbia). STS-86/89 (Atlantis/Endeavo...</td>\n",
       "      <td>NaN</td>\n",
       "      <td>NaN</td>\n",
       "    </tr>\n",
       "    <tr>\n",
       "      <th>353</th>\n",
       "      <td>Neil W. Woodward III</td>\n",
       "      <td>1998.0</td>\n",
       "      <td>17.0</td>\n",
       "      <td>Retired</td>\n",
       "      <td>7/26/1962</td>\n",
       "      <td>Chicago, IL</td>\n",
       "      <td>Male</td>\n",
       "      <td>MIT; University of Texas-Austin; George Washin...</td>\n",
       "      <td>Physics</td>\n",
       "      <td>Physics; Business Management</td>\n",
       "      <td>Commander</td>\n",
       "      <td>US Navy</td>\n",
       "      <td>0</td>\n",
       "      <td>0</td>\n",
       "      <td>0</td>\n",
       "      <td>0.0</td>\n",
       "      <td>NaN</td>\n",
       "      <td>NaN</td>\n",
       "      <td>NaN</td>\n",
       "    </tr>\n",
       "    <tr>\n",
       "      <th>354</th>\n",
       "      <td>Alfred M. Worden</td>\n",
       "      <td>1966.0</td>\n",
       "      <td>5.0</td>\n",
       "      <td>Retired</td>\n",
       "      <td>2/7/1932</td>\n",
       "      <td>Jackson, MI</td>\n",
       "      <td>Male</td>\n",
       "      <td>US Military Academy; University of Michigan</td>\n",
       "      <td>Military Science</td>\n",
       "      <td>Aeronautical &amp; Astronautical Engineering</td>\n",
       "      <td>Colonel</td>\n",
       "      <td>US Air Force (Retired)</td>\n",
       "      <td>1</td>\n",
       "      <td>295</td>\n",
       "      <td>1</td>\n",
       "      <td>0.5</td>\n",
       "      <td>Apollo 15</td>\n",
       "      <td>NaN</td>\n",
       "      <td>NaN</td>\n",
       "    </tr>\n",
       "    <tr>\n",
       "      <th>355</th>\n",
       "      <td>John W. Young</td>\n",
       "      <td>1962.0</td>\n",
       "      <td>2.0</td>\n",
       "      <td>Retired</td>\n",
       "      <td>9/24/1930</td>\n",
       "      <td>San Francisco, CA</td>\n",
       "      <td>Male</td>\n",
       "      <td>Georgia Institute of Technology</td>\n",
       "      <td>Aeronautical Engineering</td>\n",
       "      <td>NaN</td>\n",
       "      <td>Captain</td>\n",
       "      <td>US Navy (Retired)</td>\n",
       "      <td>6</td>\n",
       "      <td>835</td>\n",
       "      <td>3</td>\n",
       "      <td>20.0</td>\n",
       "      <td>Gemini 3, Gemini 10, Apollo 10, Apollo 16, STS...</td>\n",
       "      <td>NaN</td>\n",
       "      <td>NaN</td>\n",
       "    </tr>\n",
       "    <tr>\n",
       "      <th>356</th>\n",
       "      <td>George D. Zamka</td>\n",
       "      <td>1998.0</td>\n",
       "      <td>17.0</td>\n",
       "      <td>Retired</td>\n",
       "      <td>6/29/1962</td>\n",
       "      <td>Jersey City, NJ</td>\n",
       "      <td>Male</td>\n",
       "      <td>US Naval Academy; Florida Institute of Technology</td>\n",
       "      <td>Mathematics</td>\n",
       "      <td>Engineering Management</td>\n",
       "      <td>Colonel</td>\n",
       "      <td>US Marine Corps (Retired)</td>\n",
       "      <td>2</td>\n",
       "      <td>692</td>\n",
       "      <td>0</td>\n",
       "      <td>0.0</td>\n",
       "      <td>STS-120 (Discovery), STS-130 (Endeavor)</td>\n",
       "      <td>NaN</td>\n",
       "      <td>NaN</td>\n",
       "    </tr>\n",
       "  </tbody>\n",
       "</table>\n",
       "<p>357 rows × 19 columns</p>\n",
       "</div>"
      ],
      "text/plain": [
       "                      Name    Year  Group   Status Birth Date  \\\n",
       "0          Joseph M. Acaba  2004.0   19.0   Active  5/17/1967   \n",
       "1           Loren W. Acton     NaN    NaN  Retired   3/7/1936   \n",
       "2         James C. Adamson  1984.0   10.0  Retired   3/3/1946   \n",
       "3          Thomas D. Akers  1987.0   12.0  Retired  5/20/1951   \n",
       "4              Buzz Aldrin  1963.0    3.0  Retired  1/20/1930   \n",
       "..                     ...     ...    ...      ...        ...   \n",
       "352          David A. Wolf  1990.0   13.0  Retired  8/23/1956   \n",
       "353  Neil W. Woodward III   1998.0   17.0  Retired  7/26/1962   \n",
       "354       Alfred M. Worden  1966.0    5.0  Retired   2/7/1932   \n",
       "355          John W. Young  1962.0    2.0  Retired  9/24/1930   \n",
       "356        George D. Zamka  1998.0   17.0  Retired  6/29/1962   \n",
       "\n",
       "           Birth Place Gender  \\\n",
       "0        Inglewood, CA   Male   \n",
       "1         Lewiston, MT   Male   \n",
       "2           Warsaw, NY   Male   \n",
       "3        St. Louis, MO   Male   \n",
       "4        Montclair, NJ   Male   \n",
       "..                 ...    ...   \n",
       "352   Indianapolis, IN   Male   \n",
       "353        Chicago, IL   Male   \n",
       "354        Jackson, MI   Male   \n",
       "355  San Francisco, CA   Male   \n",
       "356    Jersey City, NJ   Male   \n",
       "\n",
       "                                            Alma Mater  \\\n",
       "0    University of California-Santa Barbara; Univer...   \n",
       "1     Montana State University; University of Colorado   \n",
       "2            US Military Academy; Princeton University   \n",
       "3                         University of Missouri-Rolla   \n",
       "4                             US Military Academy; MIT   \n",
       "..                                                 ...   \n",
       "352              Purdue University; Indiana University   \n",
       "353  MIT; University of Texas-Austin; George Washin...   \n",
       "354        US Military Academy; University of Michigan   \n",
       "355                    Georgia Institute of Technology   \n",
       "356  US Naval Academy; Florida Institute of Technology   \n",
       "\n",
       "          Undergraduate Major                            Graduate Major  \\\n",
       "0                     Geology                                   Geology   \n",
       "1         Engineering Physics                             Solar Physics   \n",
       "2                 Engineering                     Aerospace Engineering   \n",
       "3         Applied Mathematics                       Applied Mathematics   \n",
       "4      Mechanical Engineering                              Astronautics   \n",
       "..                        ...                                       ...   \n",
       "352    Electrical Engineering                                  Medicine   \n",
       "353                   Physics              Physics; Business Management   \n",
       "354          Military Science  Aeronautical & Astronautical Engineering   \n",
       "355  Aeronautical Engineering                                       NaN   \n",
       "356               Mathematics                    Engineering Management   \n",
       "\n",
       "    Military Rank            Military Branch  Space Flights  \\\n",
       "0             NaN                        NaN              2   \n",
       "1             NaN                        NaN              1   \n",
       "2         Colonel          US Army (Retired)              2   \n",
       "3         Colonel     US Air Force (Retired)              4   \n",
       "4         Colonel     US Air Force (Retired)              2   \n",
       "..            ...                        ...            ...   \n",
       "352           NaN                        NaN              3   \n",
       "353     Commander                    US Navy              0   \n",
       "354       Colonel     US Air Force (Retired)              1   \n",
       "355       Captain          US Navy (Retired)              6   \n",
       "356       Colonel  US Marine Corps (Retired)              2   \n",
       "\n",
       "     Space Flight (hr)  Space Walks  Space Walks (hr)  \\\n",
       "0                 3307            2              13.0   \n",
       "1                  190            0               0.0   \n",
       "2                  334            0               0.0   \n",
       "3                  814            4              29.0   \n",
       "4                  289            2               8.0   \n",
       "..                 ...          ...               ...   \n",
       "352               4044            7              41.0   \n",
       "353                  0            0               0.0   \n",
       "354                295            1               0.5   \n",
       "355                835            3              20.0   \n",
       "356                692            0               0.0   \n",
       "\n",
       "                                              Missions Death Date  \\\n",
       "0               STS-119 (Discovery), ISS-31/32 (Soyuz)        NaN   \n",
       "1                                STS 51-F (Challenger)        NaN   \n",
       "2                 STS-28 (Columbia), STS-43 (Atlantis)        NaN   \n",
       "3    STS-41 (Discovery), STS-49 (Endeavor), STS-61 ...        NaN   \n",
       "4                                 Gemini 12, Apollo 11        NaN   \n",
       "..                                                 ...        ...   \n",
       "352  STS-58 (Columbia). STS-86/89 (Atlantis/Endeavo...        NaN   \n",
       "353                                                NaN        NaN   \n",
       "354                                          Apollo 15        NaN   \n",
       "355  Gemini 3, Gemini 10, Apollo 10, Apollo 16, STS...        NaN   \n",
       "356            STS-120 (Discovery), STS-130 (Endeavor)        NaN   \n",
       "\n",
       "    Death Mission  \n",
       "0             NaN  \n",
       "1             NaN  \n",
       "2             NaN  \n",
       "3             NaN  \n",
       "4             NaN  \n",
       "..            ...  \n",
       "352           NaN  \n",
       "353           NaN  \n",
       "354           NaN  \n",
       "355           NaN  \n",
       "356           NaN  \n",
       "\n",
       "[357 rows x 19 columns]"
      ]
     },
     "execution_count": 2,
     "metadata": {},
     "output_type": "execute_result"
    }
   ],
   "source": [
    "astronaut_df = pd.read_csv(\"astronauts.csv\", sep = ',')\n",
    "astronaut_df"
   ]
  },
  {
   "cell_type": "markdown",
   "id": "18dd985f",
   "metadata": {},
   "source": [
    "# Задание 1. \n",
    "### Определить астронавта из США, который провел наибольшее количество времени в открытом космосе, построить график, на котором по оси ОХ отображены астронавты, а по оси ОY - время, которое они провели в открытом космосе."
   ]
  },
  {
   "cell_type": "code",
   "execution_count": 10,
   "id": "df549842",
   "metadata": {},
   "outputs": [
    {
     "data": {
      "text/html": [
       "<div>\n",
       "<style scoped>\n",
       "    .dataframe tbody tr th:only-of-type {\n",
       "        vertical-align: middle;\n",
       "    }\n",
       "\n",
       "    .dataframe tbody tr th {\n",
       "        vertical-align: top;\n",
       "    }\n",
       "\n",
       "    .dataframe thead th {\n",
       "        text-align: right;\n",
       "    }\n",
       "</style>\n",
       "<table border=\"1\" class=\"dataframe\">\n",
       "  <thead>\n",
       "    <tr style=\"text-align: right;\">\n",
       "      <th></th>\n",
       "      <th>Name</th>\n",
       "      <th>Year</th>\n",
       "      <th>Group</th>\n",
       "      <th>Status</th>\n",
       "      <th>Birth Date</th>\n",
       "      <th>Birth Place</th>\n",
       "      <th>Gender</th>\n",
       "      <th>Alma Mater</th>\n",
       "      <th>Undergraduate Major</th>\n",
       "      <th>Graduate Major</th>\n",
       "      <th>Military Rank</th>\n",
       "      <th>Military Branch</th>\n",
       "      <th>Space Flights</th>\n",
       "      <th>Space Flight (hr)</th>\n",
       "      <th>Space Walks</th>\n",
       "      <th>Space Walks (hr)</th>\n",
       "      <th>Missions</th>\n",
       "      <th>Death Date</th>\n",
       "      <th>Death Mission</th>\n",
       "    </tr>\n",
       "  </thead>\n",
       "  <tbody>\n",
       "    <tr>\n",
       "      <th>346</th>\n",
       "      <td>Jeffrey N. Williams</td>\n",
       "      <td>1996.0</td>\n",
       "      <td>16.0</td>\n",
       "      <td>Active</td>\n",
       "      <td>1/18/1958</td>\n",
       "      <td>Superior, WI</td>\n",
       "      <td>Male</td>\n",
       "      <td>US Military Academy; US Naval Postgraduate Sch...</td>\n",
       "      <td>Applied Science &amp; Engineering</td>\n",
       "      <td>Aeronautical Engineering; National Security &amp; ...</td>\n",
       "      <td>Colonel</td>\n",
       "      <td>US Army (Retired)</td>\n",
       "      <td>4</td>\n",
       "      <td>12818</td>\n",
       "      <td>5</td>\n",
       "      <td>32.0</td>\n",
       "      <td>STS-101 (Atlantis), ISS-13 (Soyuz), ISS-21/22 ...</td>\n",
       "      <td>NaN</td>\n",
       "      <td>NaN</td>\n",
       "    </tr>\n",
       "  </tbody>\n",
       "</table>\n",
       "</div>"
      ],
      "text/plain": [
       "                    Name    Year  Group  Status Birth Date   Birth Place  \\\n",
       "346  Jeffrey N. Williams  1996.0   16.0  Active  1/18/1958  Superior, WI   \n",
       "\n",
       "    Gender                                         Alma Mater  \\\n",
       "346   Male  US Military Academy; US Naval Postgraduate Sch...   \n",
       "\n",
       "               Undergraduate Major  \\\n",
       "346  Applied Science & Engineering   \n",
       "\n",
       "                                        Graduate Major Military Rank  \\\n",
       "346  Aeronautical Engineering; National Security & ...       Colonel   \n",
       "\n",
       "       Military Branch  Space Flights  Space Flight (hr)  Space Walks  \\\n",
       "346  US Army (Retired)              4              12818            5   \n",
       "\n",
       "     Space Walks (hr)                                           Missions  \\\n",
       "346              32.0  STS-101 (Atlantis), ISS-13 (Soyuz), ISS-21/22 ...   \n",
       "\n",
       "    Death Date Death Mission  \n",
       "346        NaN           NaN  "
      ]
     },
     "execution_count": 10,
     "metadata": {},
     "output_type": "execute_result"
    }
   ],
   "source": [
    "top_budget_movie = astronaut_df.nlargest(1, columns=[\"Space Flight (hr)\"])\n",
    "top_budget_movie"
   ]
  },
  {
   "cell_type": "code",
   "execution_count": 4,
   "id": "4f4513e3",
   "metadata": {},
   "outputs": [
    {
     "data": {
      "text/plain": [
       "<BarContainer object of 357 artists>"
      ]
     },
     "execution_count": 4,
     "metadata": {},
     "output_type": "execute_result"
    },
    {
     "data": {
      "image/png": "[encoded data removed]",
      "text/plain": [
       "<Figure size 432x288 with 1 Axes>"
      ]
     },
     "metadata": {
      "needs_background": "light"
     },
     "output_type": "display_data"
    }
   ],
   "source": [
    "plt.bar(astronaut_df[\"Space Walks (hr)\"], astronaut_df[\"Name\"])"
   ]
  },
  {
   "cell_type": "code",
   "execution_count": 5,
   "id": "7f88cc4b",
   "metadata": {},
   "outputs": [
    {
     "data": {
      "text/plain": [
       "<AxesSubplot:xlabel='Name'>"
      ]
     },
     "execution_count": 5,
     "metadata": {},
     "output_type": "execute_result"
    },
    {
     "data": {
      "image/png": "[encoded data removed]",
      "text/plain": [
       "<Figure size 1440x720 with 1 Axes>"
      ]
     },
     "metadata": {
      "needs_background": "light"
     },
     "output_type": "display_data"
    }
   ],
   "source": [
    "top_space_walks = astronaut_df.sort_values(by=\"Space Walks (hr)\", ascending=False)\n",
    "top_space_walks = top_space_walks[0:10]\n",
    "top_space_walks.plot(x=\"Name\", y=\"Space Walks (hr)\", kind=\"bar\", rot=5, fontsize=11, figsize=(20, 10))"
   ]
  },
  {
   "cell_type": "code",
   "execution_count": 6,
   "id": "c4135112",
   "metadata": {},
   "outputs": [
    {
     "name": "stdout",
     "output_type": "stream",
     "text": [
      "Астронавт, который провел наибольшее количество времени в открытом космосе: Michael E. Lopez-Alegria\n",
      "Время в открытом космосе: 67.0 часов\n"
     ]
    }
   ],
   "source": [
    "print(\"Астронавт, который провел наибольшее количество времени в открытом космосе:\", top_space_walks.iloc[0]['Name'])\n",
    "print(\"Время в открытом космосе:\", top_space_walks.iloc[0][\"Space Walks (hr)\"], \"часов\")"
   ]
  },
  {
   "cell_type": "markdown",
   "id": "197829db",
   "metadata": {},
   "source": [
    "# Задание 2. \n",
    "### Указать университет, выпустивший наибольшее количество астронавтов, построить график, на котором по оси ОХ отображены университеты, а по оси ОY - количество астронавтов, которые учились в данном университете"
   ]
  },
  {
   "cell_type": "code",
   "execution_count": 7,
   "id": "2b72360d",
   "metadata": {},
   "outputs": [],
   "source": [
    "rating_university = {}\n",
    "\n",
    "for i in range(len(astronaut_df)):\n",
    "    if pd.isna(astronaut_df.iloc[i][\"Alma Mater\"]):\n",
    "        continue\n",
    "    \n",
    "    university_one_person = astronaut_df.iloc[i][\"Alma Mater\"].split(\"; \")\n",
    "    \n",
    "    for j in range(len(university_one_person)):\n",
    "        if university_one_person[j] in rating_university:\n",
    "            rating_university[university_one_person[j]] += 1\n",
    "        else:\n",
    "            rating_university[university_one_person[j]] = 1\n",
    "    "
   ]
  },
  {
   "cell_type": "code",
   "execution_count": 8,
   "id": "311a591e",
   "metadata": {},
   "outputs": [],
   "source": [
    "sorted_rating_university = sorted(rating_university.items(), key=lambda rating_university: rating_university[1])"
   ]
  },
  {
   "cell_type": "code",
   "execution_count": 9,
   "id": "c32001ae",
   "metadata": {},
   "outputs": [],
   "source": [
    "top = 7\n",
    "\n",
    "top_university = []\n",
    "rating_top_university = []\n",
    "\n",
    "len_university = len(sorted_rating_university)\n",
    "\n",
    "for i in range(len_university - top, len_university):\n",
    "    top_university.append(sorted_rating_university[i][0])\n",
    "    rating_top_university.append(sorted_rating_university[i][1])"
   ]
  },
  {
   "cell_type": "code",
   "execution_count": 10,
   "id": "96b36d7c",
   "metadata": {},
   "outputs": [
    {
     "data": {
      "image/png": "[encoded data removed]",
      "text/plain": [
       "<Figure size 1224x1080 with 1 Axes>"
      ]
     },
     "metadata": {
      "needs_background": "light"
     },
     "output_type": "display_data"
    }
   ],
   "source": [
    "fig, ax = plt.subplots()\n",
    "\n",
    "ax.bar(top_university, rating_top_university)\n",
    "\n",
    "fig.set_figwidth(17)   \n",
    "fig.set_figheight(15)    \n",
    "\n",
    "plt.show()"
   ]
  },
  {
   "cell_type": "code",
   "execution_count": 11,
   "id": "8ef778e2",
   "metadata": {},
   "outputs": [],
   "source": [
    "best_university = sorted_rating_university[len_university - 1][0]\n",
    "count_astronauts = sorted_rating_university[len_university - 1][1]"
   ]
  },
  {
   "cell_type": "code",
   "execution_count": 12,
   "id": "3186e6e4",
   "metadata": {},
   "outputs": [
    {
     "name": "stdout",
     "output_type": "stream",
     "text": [
      "Университет, выпустивший наибольшее количество астронавтов US Naval Academy\n",
      "Количество выпущенных астронавтотв: 52\n"
     ]
    }
   ],
   "source": [
    "print(\"Университет, выпустивший наибольшее количество астронавтов\", best_university)\n",
    "print(\"Количество выпущенных астронавтотв:\", count_astronauts)"
   ]
  },
  {
   "cell_type": "markdown",
   "id": "7daa876f",
   "metadata": {},
   "source": [
    "# Задание 3. \n",
    "### Определить количество военных и гражданских астронавтов"
   ]
  },
  {
   "cell_type": "code",
   "execution_count": 13,
   "id": "77b6b191",
   "metadata": {},
   "outputs": [],
   "source": [
    "count_military = astronaut_df[\"Military Rank\"].value_counts().sum()\n",
    "count_civilian = len(astronaut_df) - count_military"
   ]
  },
  {
   "cell_type": "code",
   "execution_count": 14,
   "id": "0642490e",
   "metadata": {},
   "outputs": [
    {
     "name": "stdout",
     "output_type": "stream",
     "text": [
      "Количество военных астронавтов: 207\n",
      "Количество гражданских астронавтов: 150\n"
     ]
    }
   ],
   "source": [
    "print(\"Количество военных астронавтов:\", count_military)\n",
    "print(\"Количество гражданских астронавтов:\", count_civilian)"
   ]
  },
  {
   "cell_type": "markdown",
   "id": "aef618f2",
   "metadata": {},
   "source": [
    "# Задание 4. \n",
    "### Определить наиболее часто встречающееся среди астронавтов военное звание"
   ]
  },
  {
   "cell_type": "code",
   "execution_count": 15,
   "id": "19df5d03",
   "metadata": {},
   "outputs": [],
   "source": [
    "popular_rank = astronaut_df[\"Military Rank\"].value_counts().keys().tolist()[0]\n",
    "count_popular_rank = astronaut_df[\"Military Rank\"].value_counts()[0]"
   ]
  },
  {
   "cell_type": "code",
   "execution_count": 17,
   "id": "917ae284",
   "metadata": {},
   "outputs": [
    {
     "name": "stdout",
     "output_type": "stream",
     "text": [
      "Наиболее часто встречающееся военное звание среди астронавтов: Colonel его имеют: 94 астронавтов\n"
     ]
    }
   ],
   "source": [
    "print(\"Наиболее часто встречающееся военное звание среди астронавтов:\", popular_rank, \n",
    "      \"его имеют:\", count_popular_rank, \"астронавтов\")"
   ]
  },
  {
   "cell_type": "markdown",
   "id": "74e090b2",
   "metadata": {},
   "source": [
    "# Задание 5. \n",
    "### Определить количество женщин среди астронавтов"
   ]
  },
  {
   "cell_type": "code",
   "execution_count": 18,
   "id": "04c6fd6f",
   "metadata": {},
   "outputs": [],
   "source": [
    "count_female = len(astronaut_df[astronaut_df.Gender == \"Female\"])"
   ]
  },
  {
   "cell_type": "code",
   "execution_count": 19,
   "id": "c0586a78",
   "metadata": {},
   "outputs": [
    {
     "name": "stdout",
     "output_type": "stream",
     "text": [
      "Количетсво женщин среди астронавтов: 50\n"
     ]
    }
   ],
   "source": [
    "print(\"Количетсво женщин среди астронавтов:\", count_female)"
   ]
  },
  {
   "cell_type": "markdown",
   "id": "c5348e6f",
   "metadata": {},
   "source": [
    "# Задание 6. \n",
    "### Удалить из набора данных астронавтов, для которых не указан бакалавриат. Выведите размер набора данных до и после удаления"
   ]
  },
  {
   "cell_type": "code",
   "execution_count": 20,
   "id": "8f5215da",
   "metadata": {},
   "outputs": [],
   "source": [
    "start_size = len(astronaut_df)\n",
    "\n",
    "astronaut_df_copy = astronaut_df.copy()\n",
    "astronaut_df_copy = astronaut_df_copy.dropna(subset=['Undergraduate Major'])\n",
    "\n",
    "end_size = len(astronaut_df_copy)"
   ]
  },
  {
   "cell_type": "code",
   "execution_count": 21,
   "id": "a209fade",
   "metadata": {},
   "outputs": [
    {
     "name": "stdout",
     "output_type": "stream",
     "text": [
      "Изначальный размер набора: 357\n",
      "Размер набора после удаления: 335\n",
      "Разница = 22\n"
     ]
    }
   ],
   "source": [
    "print(\"Изначальный размер набора:\", start_size)\n",
    "print(\"Размер набора после удаления:\", end_size)\n",
    "print(\"Разница =\",(start_size - end_size))"
   ]
  },
  {
   "cell_type": "markdown",
   "id": "9a57f827",
   "metadata": {},
   "source": [
    "# Задание 7. \n",
    "### Определить количество астронавтов, родом из Техаса"
   ]
  },
  {
   "cell_type": "code",
   "execution_count": 22,
   "id": "1df567d5",
   "metadata": {},
   "outputs": [],
   "source": [
    "astronaut_df_copy = astronaut_df.copy()\n",
    "count = len(astronaut_df_copy[astronaut_df_copy['Birth Place'].apply(lambda x : x[-2:]) == \"TX\"])   "
   ]
  },
  {
   "cell_type": "code",
   "execution_count": 23,
   "id": "78783096",
   "metadata": {},
   "outputs": [
    {
     "name": "stdout",
     "output_type": "stream",
     "text": [
      "Количество астронавтов, родом из Техаса: 23\n"
     ]
    }
   ],
   "source": [
    "print(\"Количество астронавтов, родом из Техаса:\", count)"
   ]
  },
  {
   "cell_type": "markdown",
   "id": "a52ff60a",
   "metadata": {},
   "source": [
    "# Задание 8. \n",
    "### Определить количество миссий, в ходе выполнения которых погибли астронавты"
   ]
  },
  {
   "cell_type": "code",
   "execution_count": 24,
   "id": "b0661f74",
   "metadata": {},
   "outputs": [],
   "source": [
    "null_element = astronaut_df[\"Death Mission\"].isnull().sum()\n",
    "\n",
    "count = len(astronaut_df) - null_element"
   ]
  },
  {
   "cell_type": "code",
   "execution_count": 25,
   "id": "f0230c5a",
   "metadata": {},
   "outputs": [
    {
     "name": "stdout",
     "output_type": "stream",
     "text": [
      "Количество миссий, в ходе выполнения которых погибли астронавты: 16\n"
     ]
    }
   ],
   "source": [
    "print(\"Количество миссий, в ходе выполнения которых погибли астронавты:\", count)"
   ]
  },
  {
   "cell_type": "markdown",
   "id": "60611a4d",
   "metadata": {},
   "source": [
    "# Задание 9. \n",
    "### Вычислить корреляцию Пирсона и Спирмена между признаками Gender и Missions. Сравнить полученные величины корреляции. Построить гистограммы для указанных признаков. Оценить значение p-value.\n"
   ]
  },
  {
   "cell_type": "code",
   "execution_count": 70,
   "id": "75f78991",
   "metadata": {},
   "outputs": [],
   "source": [
    "astronaut_df = astronaut_df.dropna(subset=['Missions'])\n",
    "\n",
    "ast_copy = astronaut_df.copy()\n",
    "\n",
    "List_Count_Mission = []\n",
    "\n",
    "for i in range(len(test)):\n",
    "    List_Count_Mission.append(len(ast_copy.iloc[i][\"Missions\"].split(\", \")))\n",
    "    \n",
    "ast_copy[\"Count_Missions\"] = List_Count_Mission\n",
    "\n",
    "List_Bool_Gender = []\n",
    "\n",
    "for i in range(len(test)):\n",
    "    if test.iloc[i][\"Gender\"] == \"Male\":\n",
    "        List_Bool_Gender.append(1)\n",
    "    elif test.iloc[i][\"Gender\"] == \"Female\":\n",
    "        List_Bool_Gender.append(0)\n",
    "    else:\n",
    "        print(\"Error Gender:\", ast_copy.iloc[i][\"Gender\"])\n",
    "\n",
    "ast_copy[\"Bool_Gender\"] = List_Bool_Gender"
   ]
  },
  {
   "cell_type": "code",
   "execution_count": 72,
   "id": "d805f99b",
   "metadata": {},
   "outputs": [],
   "source": [
    "spearman = test['Bool_Gender'].corr(test['Count_Missions'], method=\"spearman\")\n",
    "pearson = test['Bool_Gender'].corr(test['Count_Missions'], method=\"pearson\")"
   ]
  },
  {
   "cell_type": "code",
   "execution_count": 73,
   "id": "031d0890",
   "metadata": {},
   "outputs": [
    {
     "name": "stdout",
     "output_type": "stream",
     "text": [
      "Корреляция между Gender и Missoins равна:\n",
      "Методом Пирсона:  -0.0227979696243931\n",
      "Методом Спирмена: -0.02411924245940919\n",
      "Число Пирсона больше числа Спирмена\n",
      "Разница: 0.0013212728350160893\n"
     ]
    }
   ],
   "source": [
    "print(\"Корреляция между Gender и Missoins равна:\")\n",
    "print(\"Методом Пирсона: \", pearson)\n",
    "print('Методом Спирмена:', spearman)\n",
    "\n",
    "if (pearson > spearman):\n",
    "    print(\"Число Пирсона больше числа Спирмена\")\n",
    "elif (pearson < spearman):\n",
    "    print(\"Число Спирмена больше числа Пирсона\")\n",
    "else:\n",
    "    print(\"Число Спирмена и число Пирсона одинакова\")\n",
    "    \n",
    "print(\"Разница:\", abs(pearson - spearman))"
   ]
  },
  {
   "cell_type": "code",
   "execution_count": 75,
   "id": "b58ed385",
   "metadata": {},
   "outputs": [
    {
     "data": {
      "image/png": "[encoded data removed]",
      "text/plain": [
       "<Figure size 1224x1080 with 1 Axes>"
      ]
     },
     "metadata": {
      "needs_background": "light"
     },
     "output_type": "display_data"
    }
   ],
   "source": [
    "fig, ax = plt.subplots()\n",
    "\n",
    "ax.bar(ast_copy[\"Gender\"], ast_copy[\"Count_Missions\"])\n",
    "\n",
    "fig.set_figwidth(17)   \n",
    "fig.set_figheight(15)    \n",
    "\n",
    "plt.show()"
   ]
  },
  {
   "cell_type": "code",
   "execution_count": null,
   "id": "28ba4e45",
   "metadata": {},
   "outputs": [],
   "source": []
  }
 ],
 "metadata": {
  "kernelspec": {
   "display_name": "Python 3 (ipykernel)",
   "language": "python",
   "name": "python3"
  },
  "language_info": {
   "codemirror_mode": {
    "name": "ipython",
    "version": 3
   },
   "file_extension": ".py",
   "mimetype": "text/x-python",
   "name": "python",
   "nbconvert_exporter": "python",
   "pygments_lexer": "ipython3",
   "version": "3.10.0"
  }
 },
 "nbformat": 4,
 "nbformat_minor": 5
}
