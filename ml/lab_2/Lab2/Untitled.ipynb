{
 "cells": [
  {
   "cell_type": "code",
   "execution_count": 1,
   "id": "99934311",
   "metadata": {
    "scrolled": true
   },
   "outputs": [
    {
     "data": {
      "text/plain": [
       "(466, 14)"
      ]
     },
     "execution_count": 1,
     "metadata": {},
     "output_type": "execute_result"
    }
   ],
   "source": [
    "import numpy as np \n",
    "import pandas as pd\n",
    "from colorama import init, Fore\n",
    "from colorama import Back\n",
    "from colorama import Style\n",
    "\n",
    "pass_data = pd.read_csv('titanic3.csv',sep=';', thousands = \".\", decimal = ',')\n",
    "pass_data[(pass_data.sex == 'female')].shape\n",
    "\n",
    "\n"
   ]
  },
  {
   "cell_type": "code",
   "execution_count": 42,
   "id": "2a4f86dd",
   "metadata": {},
   "outputs": [
    {
     "data": {
      "text/html": [
       "<div>\n",
       "<style scoped>\n",
       "    .dataframe tbody tr th:only-of-type {\n",
       "        vertical-align: middle;\n",
       "    }\n",
       "\n",
       "    .dataframe tbody tr th {\n",
       "        vertical-align: top;\n",
       "    }\n",
       "\n",
       "    .dataframe thead th {\n",
       "        text-align: right;\n",
       "    }\n",
       "</style>\n",
       "<table border=\"1\" class=\"dataframe\">\n",
       "  <thead>\n",
       "    <tr style=\"text-align: right;\">\n",
       "      <th></th>\n",
       "      <th>pclass</th>\n",
       "      <th>survived</th>\n",
       "      <th>name</th>\n",
       "      <th>sex</th>\n",
       "      <th>age</th>\n",
       "      <th>sibsp</th>\n",
       "      <th>parch</th>\n",
       "      <th>ticket</th>\n",
       "      <th>fare</th>\n",
       "      <th>cabin</th>\n",
       "      <th>embarked</th>\n",
       "      <th>boat</th>\n",
       "      <th>body</th>\n",
       "      <th>home.dest</th>\n",
       "    </tr>\n",
       "  </thead>\n",
       "  <tbody>\n",
       "    <tr>\n",
       "      <th>0</th>\n",
       "      <td>1.0</td>\n",
       "      <td>1.0</td>\n",
       "      <td>Allen, Miss. Elisabeth Walton</td>\n",
       "      <td>female</td>\n",
       "      <td>29.0000</td>\n",
       "      <td>0.0</td>\n",
       "      <td>0.0</td>\n",
       "      <td>24160</td>\n",
       "      <td>211.3375</td>\n",
       "      <td>B5</td>\n",
       "      <td>S</td>\n",
       "      <td>2</td>\n",
       "      <td>NaN</td>\n",
       "      <td>St Louis, MO</td>\n",
       "    </tr>\n",
       "    <tr>\n",
       "      <th>1</th>\n",
       "      <td>1.0</td>\n",
       "      <td>1.0</td>\n",
       "      <td>Allison, Master. Hudson Trevor</td>\n",
       "      <td>male</td>\n",
       "      <td>0.9167</td>\n",
       "      <td>1.0</td>\n",
       "      <td>2.0</td>\n",
       "      <td>113781</td>\n",
       "      <td>151.5500</td>\n",
       "      <td>C22 C26</td>\n",
       "      <td>S</td>\n",
       "      <td>11</td>\n",
       "      <td>NaN</td>\n",
       "      <td>Montreal, PQ / Chesterville, ON</td>\n",
       "    </tr>\n",
       "    <tr>\n",
       "      <th>2</th>\n",
       "      <td>1.0</td>\n",
       "      <td>0.0</td>\n",
       "      <td>Allison, Miss. Helen Loraine</td>\n",
       "      <td>female</td>\n",
       "      <td>2.0000</td>\n",
       "      <td>1.0</td>\n",
       "      <td>2.0</td>\n",
       "      <td>113781</td>\n",
       "      <td>151.5500</td>\n",
       "      <td>C22 C26</td>\n",
       "      <td>S</td>\n",
       "      <td>NaN</td>\n",
       "      <td>NaN</td>\n",
       "      <td>Montreal, PQ / Chesterville, ON</td>\n",
       "    </tr>\n",
       "    <tr>\n",
       "      <th>3</th>\n",
       "      <td>1.0</td>\n",
       "      <td>0.0</td>\n",
       "      <td>Allison, Mr. Hudson Joshua Creighton</td>\n",
       "      <td>male</td>\n",
       "      <td>30.0000</td>\n",
       "      <td>1.0</td>\n",
       "      <td>2.0</td>\n",
       "      <td>113781</td>\n",
       "      <td>151.5500</td>\n",
       "      <td>C22 C26</td>\n",
       "      <td>S</td>\n",
       "      <td>NaN</td>\n",
       "      <td>135.0</td>\n",
       "      <td>Montreal, PQ / Chesterville, ON</td>\n",
       "    </tr>\n",
       "    <tr>\n",
       "      <th>4</th>\n",
       "      <td>1.0</td>\n",
       "      <td>0.0</td>\n",
       "      <td>Allison, Mrs. Hudson J C (Bessie Waldo Daniels)</td>\n",
       "      <td>female</td>\n",
       "      <td>25.0000</td>\n",
       "      <td>1.0</td>\n",
       "      <td>2.0</td>\n",
       "      <td>113781</td>\n",
       "      <td>151.5500</td>\n",
       "      <td>C22 C26</td>\n",
       "      <td>S</td>\n",
       "      <td>NaN</td>\n",
       "      <td>NaN</td>\n",
       "      <td>Montreal, PQ / Chesterville, ON</td>\n",
       "    </tr>\n",
       "  </tbody>\n",
       "</table>\n",
       "</div>"
      ],
      "text/plain": [
       "   pclass  survived                                             name     sex  \\\n",
       "0     1.0       1.0                    Allen, Miss. Elisabeth Walton  female   \n",
       "1     1.0       1.0                   Allison, Master. Hudson Trevor    male   \n",
       "2     1.0       0.0                     Allison, Miss. Helen Loraine  female   \n",
       "3     1.0       0.0             Allison, Mr. Hudson Joshua Creighton    male   \n",
       "4     1.0       0.0  Allison, Mrs. Hudson J C (Bessie Waldo Daniels)  female   \n",
       "\n",
       "       age  sibsp  parch  ticket      fare    cabin embarked boat   body  \\\n",
       "0  29.0000    0.0    0.0   24160  211.3375       B5        S    2    NaN   \n",
       "1   0.9167    1.0    2.0  113781  151.5500  C22 C26        S   11    NaN   \n",
       "2   2.0000    1.0    2.0  113781  151.5500  C22 C26        S  NaN    NaN   \n",
       "3  30.0000    1.0    2.0  113781  151.5500  C22 C26        S  NaN  135.0   \n",
       "4  25.0000    1.0    2.0  113781  151.5500  C22 C26        S  NaN    NaN   \n",
       "\n",
       "                         home.dest  \n",
       "0                     St Louis, MO  \n",
       "1  Montreal, PQ / Chesterville, ON  \n",
       "2  Montreal, PQ / Chesterville, ON  \n",
       "3  Montreal, PQ / Chesterville, ON  \n",
       "4  Montreal, PQ / Chesterville, ON  "
      ]
     },
     "execution_count": 42,
     "metadata": {},
     "output_type": "execute_result"
    }
   ],
   "source": [
    "pass_data.head()"
   ]
  },
  {
   "cell_type": "code",
   "execution_count": 2,
   "id": "bca6bf14",
   "metadata": {},
   "outputs": [
    {
     "data": {
      "text/plain": [
       "(843, 14)"
      ]
     },
     "execution_count": 2,
     "metadata": {},
     "output_type": "execute_result"
    }
   ],
   "source": [
    "pass_data[(pass_data.sex == 'male')].shape\n"
   ]
  },
  {
   "cell_type": "code",
   "execution_count": 3,
   "id": "b3e69c5a",
   "metadata": {},
   "outputs": [],
   "source": [
    "#pass_data[(pass_data.survived == 1)].shape\n",
    "#not needed, how many people survived "
   ]
  },
  {
   "cell_type": "code",
   "execution_count": 4,
   "id": "92f357b5",
   "metadata": {},
   "outputs": [
    {
     "data": {
      "text/plain": [
       "0.3819709702062643"
      ]
     },
     "execution_count": 4,
     "metadata": {},
     "output_type": "execute_result"
    }
   ],
   "source": [
    "pass_data['survived'].mean()\n",
    "# procents of survivet people "
   ]
  },
  {
   "cell_type": "code",
   "execution_count": 5,
   "id": "6d2ef974",
   "metadata": {},
   "outputs": [
    {
     "data": {
      "text/plain": [
       "(323, 14)"
      ]
     },
     "execution_count": 5,
     "metadata": {},
     "output_type": "execute_result"
    }
   ],
   "source": [
    "pass_data[(pass_data.pclass == 1)].shape\n",
    "# procents of pople in 1-st class"
   ]
  },
  {
   "cell_type": "code",
   "execution_count": 6,
   "id": "d644f1c7",
   "metadata": {},
   "outputs": [
    {
     "data": {
      "text/plain": [
       "pclass\n",
       "1.0    39.159918\n",
       "2.0    29.506705\n",
       "3.0    24.816367\n",
       "Name: age, dtype: float64"
      ]
     },
     "execution_count": 6,
     "metadata": {},
     "output_type": "execute_result"
    }
   ],
   "source": [
    "pass_data.groupby('pclass')['age'].mean()\n",
    "#age in classes"
   ]
  },
  {
   "cell_type": "code",
   "execution_count": 7,
   "id": "03419b0a",
   "metadata": {},
   "outputs": [
    {
     "data": {
      "text/plain": [
       "29.8811345124283"
      ]
     },
     "execution_count": 7,
     "metadata": {},
     "output_type": "execute_result"
    }
   ],
   "source": [
    "pass_data['age'].mean()\n",
    "#middle age on board"
   ]
  },
  {
   "cell_type": "code",
   "execution_count": 8,
   "id": "17199b56",
   "metadata": {},
   "outputs": [
    {
     "data": {
      "text/plain": [
       "28.0"
      ]
     },
     "execution_count": 8,
     "metadata": {},
     "output_type": "execute_result"
    }
   ],
   "source": [
    "pass_data['age'].median()\n",
    "#median age"
   ]
  },
  {
   "cell_type": "code",
   "execution_count": 9,
   "id": "75532c71",
   "metadata": {
    "scrolled": true
   },
   "outputs": [
    {
     "name": "stdout",
     "output_type": "stream",
     "text": [
      "\u001b[32mКоэффициент корреляции Пирсона: 0.374\n"
     ]
    }
   ],
   "source": [
    "print(Fore.GREEN + 'Коэффициент корреляции Пирсона: %.3f' %pass_data['sibsp'].corr(pass_data['parch'], method = 'pearson'))"
   ]
  },
  {
   "cell_type": "code",
   "execution_count": 10,
   "id": "b581e2c5",
   "metadata": {
    "scrolled": true
   },
   "outputs": [
    {
     "data": {
      "image/png": "[encoded data removed]",
      "text/plain": [
       "<Figure size 432x288 with 1 Axes>"
      ]
     },
     "metadata": {
      "needs_background": "light"
     },
     "output_type": "display_data"
    }
   ],
   "source": [
    "import seaborn as sns\n",
    "sns.scatterplot(data=pass_data, x='sibsp', y='parch');"
   ]
  },
  {
   "cell_type": "code",
   "execution_count": 43,
   "id": "f581c0f7",
   "metadata": {
    "scrolled": true
   },
   "outputs": [
    {
     "data": {
      "text/plain": [
       "0       Elisabeth\n",
       "2           Helen\n",
       "4          Bessie\n",
       "6        Kornelia\n",
       "8       Charlotte\n",
       "          ...    \n",
       "1286    Shawneene\n",
       "1290        Ellen\n",
       "1300       Selini\n",
       "1304       Hileni\n",
       "1305      Thamine\n",
       "Name: name, Length: 466, dtype: object"
      ]
     },
     "execution_count": 43,
     "metadata": {},
     "output_type": "execute_result"
    }
   ],
   "source": [
    "def parse_first_name_female(name):\n",
    "    first = name.str.extract(r\"Mrs\\.\\s+[^(]*\\((\\w+)\", expand=False)\n",
    "    first.loc[first.isna()] = name.str.extract(r\"\\.\\s+(\\w+)\", expand=False)\n",
    "    return first\n",
    "\n",
    "#------------------------------------------------------------------------------------------------------------------\n",
    "# .isna() - Обнаружение отсутствующих значений.\n",
    "# .loc[] - Доступ к группе строк и столбцов с помощью меток или логического массива.(uses py Pandas) \n",
    "# .extract() - \n",
    "# expand=false - return index of element in massive.\n",
    "#------------------------------------------------------------------------------------------------------------------\n",
    "# были использованы регулярные выражения \n",
    "# regular expressions gives pattern to find some strig in a text(создают шаблон поиска заданного набора символов в текста)\n",
    "# r - read just this line, not to use functoins in this line (дает установку читать строку, не используя в ней функции)\n",
    "# .\\s- space\n",
    "# [^(] - отвечает за любой рандомный символ после пробела\n",
    "#(\\w+) - группировка символов любой цифры или буквы, одно и более вхождений\n",
    "#------------------------------------------------------------------------------------------------------------------\n",
    "\n",
    "female_names = parse_first_name_female(pass_data.loc[pass_data['sex']==\"female\", \"name\"])\n",
    "\n",
    "female_names #самое популярное женское имя"
   ]
  },
  {
   "cell_type": "code",
   "execution_count": 44,
   "id": "69f709c3",
   "metadata": {},
   "outputs": [
    {
     "name": "stdout",
     "output_type": "stream",
     "text": [
      "\u001b[32mКоэффициент корреляции Пирсона: -0.312\n"
     ]
    },
    {
     "data": {
      "image/png": "[encoded data removed]",
      "text/plain": [
       "<Figure size 432x288 with 1 Axes>"
      ]
     },
     "metadata": {
      "needs_background": "light"
     },
     "output_type": "display_data"
    }
   ],
   "source": [
    "print(Fore.GREEN + 'Коэффициент корреляции Пирсона: %.3f' %pass_data['pclass'].corr(pass_data['survived'], method = 'pearson'))\n",
    "\n",
    "sns.scatterplot(data=pass_data, x='pclass', y='survived');\n",
    "#получается фигня какая-то. По факту наверное верно, что человек может быть жив или мертв, но получается в итоге фигня"
   ]
  },
  {
   "cell_type": "code",
   "execution_count": 45,
   "id": "7f35e0f7",
   "metadata": {},
   "outputs": [
    {
     "data": {
      "text/plain": [
       "<AxesSubplot:>"
      ]
     },
     "execution_count": 45,
     "metadata": {},
     "output_type": "execute_result"
    },
    {
     "data": {
      "image/png": "[encoded data removed]",
      "text/plain": [
       "<Figure size 432x288 with 1 Axes>"
      ]
     },
     "metadata": {
      "needs_background": "light"
     },
     "output_type": "display_data"
    }
   ],
   "source": [
    "pass_data[(pass_data.survived == 1)].age.hist(bins = 30) #гистограмма возраста выживших пассажиров"
   ]
  },
  {
   "cell_type": "code",
   "execution_count": 46,
   "id": "db0c3d8a",
   "metadata": {},
   "outputs": [
    {
     "data": {
      "text/plain": [
       "<AxesSubplot:>"
      ]
     },
     "execution_count": 46,
     "metadata": {},
     "output_type": "execute_result"
    },
    {
     "data": {
      "image/png": "[encoded data removed]",
      "text/plain": [
       "<Figure size 432x288 with 1 Axes>"
      ]
     },
     "metadata": {
      "needs_background": "light"
     },
     "output_type": "display_data"
    }
   ],
   "source": [
    "pass_data[(pass_data.survived == 0)].age.hist(bins = 30) #гистограмма возраста невыживших пассажиров"
   ]
  },
  {
   "cell_type": "code",
   "execution_count": 47,
   "id": "bd25be98",
   "metadata": {},
   "outputs": [
    {
     "data": {
      "text/plain": [
       "<AxesSubplot:>"
      ]
     },
     "execution_count": 47,
     "metadata": {},
     "output_type": "execute_result"
    },
    {
     "data": {
      "image/png": "[encoded data removed]",
      "text/plain": [
       "<Figure size 432x288 with 1 Axes>"
      ]
     },
     "metadata": {
      "needs_background": "light"
     },
     "output_type": "display_data"
    }
   ],
   "source": [
    "pass_data[(pass_data.survived == 1)].pclass.hist(bins = 10) #гистограмма возраста выживших пассажиров"
   ]
  },
  {
   "cell_type": "code",
   "execution_count": 48,
   "id": "7473b004",
   "metadata": {},
   "outputs": [
    {
     "data": {
      "text/plain": [
       "<AxesSubplot:>"
      ]
     },
     "execution_count": 48,
     "metadata": {},
     "output_type": "execute_result"
    },
    {
     "data": {
      "image/png": "[encoded data removed]",
      "text/plain": [
       "<Figure size 432x288 with 1 Axes>"
      ]
     },
     "metadata": {
      "needs_background": "light"
     },
     "output_type": "display_data"
    }
   ],
   "source": [
    "pass_data[(pass_data.survived == 0)].pclass.hist(bins = 10) #гистограмма возраста невыживших пассажиров"
   ]
  },
  {
   "cell_type": "code",
   "execution_count": 49,
   "id": "a23495bc",
   "metadata": {
    "scrolled": false
   },
   "outputs": [
    {
     "name": "stdout",
     "output_type": "stream",
     "text": [
      "\u001b[34mГистограмма детей по полу: \n"
     ]
    },
    {
     "data": {
      "image/png": "[encoded data removed]",
      "text/plain": [
       "<Figure size 432x288 with 1 Axes>"
      ]
     },
     "metadata": {
      "needs_background": "light"
     },
     "output_type": "display_data"
    }
   ],
   "source": [
    "age1 = pass_data[(pass_data.age < 18)].sex.hist(bins = 30)\n",
    "\n",
    "print(Fore.BLUE + 'Гистограмма детей по полу: ')\n",
    "\n",
    "fig = age1.get_figure()\n",
    "\n",
    "#гистограмма детей по полу "
   ]
  },
  {
   "cell_type": "code",
   "execution_count": 50,
   "id": "948542ea",
   "metadata": {
    "scrolled": true
   },
   "outputs": [
    {
     "name": "stdout",
     "output_type": "stream",
     "text": [
      "\u001b[33mГистограмма взрослых по полу: \n"
     ]
    },
    {
     "data": {
      "image/png": "[encoded data removed]",
      "text/plain": [
       "<Figure size 432x288 with 1 Axes>"
      ]
     },
     "metadata": {
      "needs_background": "light"
     },
     "output_type": "display_data"
    }
   ],
   "source": [
    "age2 = pass_data[(pass_data.age >= 18)].sex.hist(bins = 30)\n",
    "\n",
    "print(Fore.YELLOW + 'Гистограмма взрослых по полу: ')\n",
    "\n",
    "fig = age2.get_figure()\n",
    "\n",
    "#гистограмма взрослых по полу "
   ]
  },
  {
   "cell_type": "code",
   "execution_count": 51,
   "id": "7dc2c1af",
   "metadata": {},
   "outputs": [
    {
     "name": "stdout",
     "output_type": "stream",
     "text": [
      "\u001b[31m\u001b[1mпоставьте 5, пажалуста🥺\n"
     ]
    }
   ],
   "source": [
    "print(Fore.RED + Style.BRIGHT + 'поставьте 5, пажалуста' + '🥺')"
   ]
  },
  {
   "cell_type": "code",
   "execution_count": null,
   "id": "f55da8ad",
   "metadata": {},
   "outputs": [],
   "source": []
  }
 ],
 "metadata": {
  "kernelspec": {
   "display_name": "Python 3 (ipykernel)",
   "language": "python",
   "name": "python3"
  },
  "language_info": {
   "codemirror_mode": {
    "name": "ipython",
    "version": 3
   },
   "file_extension": ".py",
   "mimetype": "text/x-python",
   "name": "python",
   "nbconvert_exporter": "python",
   "pygments_lexer": "ipython3",
   "version": "3.9.7"
  }
 },
 "nbformat": 4,
 "nbformat_minor": 5
}
