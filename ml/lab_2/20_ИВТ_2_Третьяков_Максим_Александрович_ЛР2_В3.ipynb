{
 "cells": [
  {
   "cell_type": "code",
   "execution_count": 2,
   "id": "712ee43c",
   "metadata": {},
   "outputs": [],
   "source": [
    "import pandas as pd\n",
    "import numpy as np\n",
    "import seaborn as sns"
   ]
  },
  {
   "cell_type": "code",
   "execution_count": 3,
   "id": "7db7d4c8",
   "metadata": {},
   "outputs": [],
   "source": [
    "car_df = pd.read_csv(R'C:/Users/qwerty/Desktop/Новая папка (2)/МО/ЛР2/3_used_cars/autos.csv', sep=',',decimal = '.' , encoding = \"ISO-8859-1\")"
   ]
  },
  {
   "cell_type": "code",
   "execution_count": 4,
   "id": "f9647474",
   "metadata": {},
   "outputs": [
    {
     "name": "stdout",
     "output_type": "stream",
     "text": [
      "           dateCrawled                            name  seller offerType  \\\n",
      "0  2016-03-24 11:52:17                      Golf_3_1.6  privat   Angebot   \n",
      "1  2016-03-24 10:58:45            A5_Sportback_2.7_Tdi  privat   Angebot   \n",
      "2  2016-03-14 12:52:21  Jeep_Grand_Cherokee_\"Overland\"  privat   Angebot   \n",
      "3  2016-03-17 16:54:04              GOLF_4_1_4__3TÜRER  privat   Angebot   \n",
      "4  2016-03-31 17:25:20  Skoda_Fabia_1.4_TDI_PD_Classic  privat   Angebot   \n",
      "\n",
      "   price abtest vehicleType  yearOfRegistration    gearbox  powerPS  model  \\\n",
      "0    480   test         NaN                1993    manuell        0   golf   \n",
      "1  18300   test       coupe                2011    manuell      190    NaN   \n",
      "2   9800   test         suv                2004  automatik      163  grand   \n",
      "3   1500   test  kleinwagen                2001    manuell       75   golf   \n",
      "4   3600   test  kleinwagen                2008    manuell       69  fabia   \n",
      "\n",
      "   kilometer  monthOfRegistration fuelType       brand notRepairedDamage  \\\n",
      "0     150000                    0   benzin  volkswagen               NaN   \n",
      "1     125000                    5   diesel        audi                ja   \n",
      "2     125000                    8   diesel        jeep               NaN   \n",
      "3     150000                    6   benzin  volkswagen              nein   \n",
      "4      90000                    7   diesel       skoda              nein   \n",
      "\n",
      "           dateCreated  nrOfPictures  postalCode             lastSeen  \n",
      "0  2016-03-24 00:00:00             0       70435  2016-04-07 03:16:57  \n",
      "1  2016-03-24 00:00:00             0       66954  2016-04-07 01:46:50  \n",
      "2  2016-03-14 00:00:00             0       90480  2016-04-05 12:47:46  \n",
      "3  2016-03-17 00:00:00             0       91074  2016-03-17 17:40:17  \n",
      "4  2016-03-31 00:00:00             0       60437  2016-04-06 10:17:21  \n"
     ]
    }
   ],
   "source": [
    "print(car_df.head())"
   ]
  },
  {
   "cell_type": "code",
   "execution_count": 5,
   "id": "cf310c81",
   "metadata": {},
   "outputs": [
    {
     "name": "stdout",
     "output_type": "stream",
     "text": [
      "                             name  seller offerType  price abtest vehicleType  \\\n",
      "0                      Golf_3_1.6  privat   Angebot    480   test         NaN   \n",
      "1            A5_Sportback_2.7_Tdi  privat   Angebot  18300   test       coupe   \n",
      "2  Jeep_Grand_Cherokee_\"Overland\"  privat   Angebot   9800   test         suv   \n",
      "3              GOLF_4_1_4__3TÜRER  privat   Angebot   1500   test  kleinwagen   \n",
      "4  Skoda_Fabia_1.4_TDI_PD_Classic  privat   Angebot   3600   test  kleinwagen   \n",
      "\n",
      "   yearOfRegistration    gearbox  powerPS  model  kilometer  \\\n",
      "0                1993    manuell        0   golf     150000   \n",
      "1                2011    manuell      190    NaN     125000   \n",
      "2                2004  automatik      163  grand     125000   \n",
      "3                2001    manuell       75   golf     150000   \n",
      "4                2008    manuell       69  fabia      90000   \n",
      "\n",
      "   monthOfRegistration fuelType       brand notRepairedDamage  nrOfPictures  \n",
      "0                    0   benzin  volkswagen               NaN             0  \n",
      "1                    5   diesel        audi                ja             0  \n",
      "2                    8   diesel        jeep               NaN             0  \n",
      "3                    6   benzin  volkswagen              nein             0  \n",
      "4                    7   diesel       skoda              nein             0  \n"
     ]
    }
   ],
   "source": [
    "## Удалите столбцы, ценность которых для оценки стоимости машины низка ##\n",
    "\n",
    "car_df.drop('dateCrawled', axis = 1, inplace = True)\n",
    "car_df.drop('dateCreated', axis = 1, inplace = True)\n",
    "car_df.drop('postalCode', axis = 1, inplace = True)\n",
    "car_df.drop('lastSeen', axis = 1, inplace = True)\n",
    "print(car_df.head())"
   ]
  },
  {
   "cell_type": "code",
   "execution_count": 7,
   "id": "6b6bd454",
   "metadata": {},
   "outputs": [
    {
     "name": "stdout",
     "output_type": "stream",
     "text": [
      "кол-во до удаления (371528, 16)\n"
     ]
    }
   ],
   "source": [
    "## Удалите повторяющиеся строки, строки содержащие пропуски в данных. Выведите размер набора данных до и после удаления. ##\n",
    "print('кол-во до удаления',car_df.shape)"
   ]
  },
  {
   "cell_type": "code",
   "execution_count": 8,
   "id": "032a1f09",
   "metadata": {},
   "outputs": [],
   "source": [
    "car_df.drop_duplicates(keep='first', inplace = True)"
   ]
  },
  {
   "cell_type": "code",
   "execution_count": 191,
   "id": "5e097d85",
   "metadata": {},
   "outputs": [
    {
     "name": "stdout",
     "output_type": "stream",
     "text": [
      "кол-во после удаления повторов (365601, 16)\n"
     ]
    }
   ],
   "source": [
    "print('кол-во после удаления повторов',car_df.shape)"
   ]
  },
  {
   "cell_type": "code",
   "execution_count": 192,
   "id": "a2a31d8c",
   "metadata": {},
   "outputs": [],
   "source": [
    "car_df.dropna(axis = 0, inplace = True)"
   ]
  },
  {
   "cell_type": "code",
   "execution_count": 193,
   "id": "d43a62a1",
   "metadata": {},
   "outputs": [
    {
     "name": "stdout",
     "output_type": "stream",
     "text": [
      "кол-во после удаления пропусков (256901, 16)\n"
     ]
    }
   ],
   "source": [
    "print('кол-во после удаления пропусков',car_df.shape)"
   ]
  },
  {
   "cell_type": "code",
   "execution_count": 194,
   "id": "a7eb78ba",
   "metadata": {},
   "outputs": [],
   "source": [
    "# Удалите данные в строках, выходящие за некоторые пределы (год регистрации, цена, мощность двигателя). \n",
    "## Выведите размер набора данных до и после удаления. \n",
    "## Для оценки диапазонов значений признаков используйте BoxPlot."
   ]
  },
  {
   "cell_type": "code",
   "execution_count": 195,
   "id": "764285cd",
   "metadata": {},
   "outputs": [
    {
     "name": "stdout",
     "output_type": "stream",
     "text": [
      "AxesSubplot(0.125,0.125;0.775x0.755)\n"
     ]
    },
    {
     "data": {
      "image/png": "[encoded data removed]",
      "text/plain": [
       "<Figure size 432x288 with 1 Axes>"
      ]
     },
     "metadata": {
      "needs_background": "light"
     },
     "output_type": "display_data"
    }
   ],
   "source": [
    "print(car_df.boxplot(column = 'yearOfRegistration'))"
   ]
  },
  {
   "cell_type": "code",
   "execution_count": 196,
   "id": "6bbbed5b",
   "metadata": {},
   "outputs": [
    {
     "name": "stdout",
     "output_type": "stream",
     "text": [
      "AxesSubplot(0.125,0.125;0.775x0.755)\n"
     ]
    },
    {
     "data": {
      "image/png": "[encoded data removed]",
      "text/plain": [
       "<Figure size 432x288 with 1 Axes>"
      ]
     },
     "metadata": {
      "needs_background": "light"
     },
     "output_type": "display_data"
    }
   ],
   "source": [
    "print(car_df.boxplot(column = 'price'))"
   ]
  },
  {
   "cell_type": "code",
   "execution_count": 197,
   "id": "06befdf4",
   "metadata": {},
   "outputs": [
    {
     "name": "stdout",
     "output_type": "stream",
     "text": [
      "AxesSubplot(0.125,0.125;0.775x0.755)\n"
     ]
    },
    {
     "data": {
      "image/png": "[encoded data removed]",
      "text/plain": [
       "<Figure size 432x288 with 1 Axes>"
      ]
     },
     "metadata": {
      "needs_background": "light"
     },
     "output_type": "display_data"
    }
   ],
   "source": [
    "print(car_df.boxplot(column = 'powerPS'))"
   ]
  },
  {
   "cell_type": "code",
   "execution_count": 198,
   "id": "0d681f82",
   "metadata": {},
   "outputs": [
    {
     "name": "stdout",
     "output_type": "stream",
     "text": [
      "(3359, 16)\n"
     ]
    }
   ],
   "source": [
    "car_df = car_df.loc[car_df['yearOfRegistration'] <= 1985]\n",
    "print(car_df.shape)"
   ]
  },
  {
   "cell_type": "code",
   "execution_count": 199,
   "id": "c34a7139",
   "metadata": {},
   "outputs": [
    {
     "name": "stdout",
     "output_type": "stream",
     "text": [
      "(1642, 16)\n"
     ]
    }
   ],
   "source": [
    "car_df = car_df.loc[car_df['price'] <= 6500]\n",
    "print(car_df.shape)"
   ]
  },
  {
   "cell_type": "code",
   "execution_count": 200,
   "id": "a013d0a0",
   "metadata": {},
   "outputs": [
    {
     "name": "stdout",
     "output_type": "stream",
     "text": [
      "(990, 16)\n"
     ]
    }
   ],
   "source": [
    "car_df = car_df.loc[car_df['powerPS'] >= 60]\n",
    "print(car_df.shape)"
   ]
  },
  {
   "cell_type": "code",
   "execution_count": 201,
   "id": "0aa4de1a",
   "metadata": {},
   "outputs": [
    {
     "data": {
      "text/plain": [
       "name                   0\n",
       "seller                 0\n",
       "offerType              0\n",
       "price                  0\n",
       "abtest                 0\n",
       "vehicleType            0\n",
       "yearOfRegistration     0\n",
       "gearbox                0\n",
       "powerPS                0\n",
       "model                  0\n",
       "kilometer              0\n",
       "monthOfRegistration    0\n",
       "fuelType               0\n",
       "brand                  0\n",
       "notRepairedDamage      0\n",
       "nrOfPictures           0\n",
       "dtype: int64"
      ]
     },
     "execution_count": 201,
     "metadata": {},
     "output_type": "execute_result"
    }
   ],
   "source": [
    "car_df.isnull().sum()"
   ]
  },
  {
   "cell_type": "code",
   "execution_count": 202,
   "id": "6cd5a8de",
   "metadata": {},
   "outputs": [
    {
     "name": "stderr",
     "output_type": "stream",
     "text": [
      "C:\\Users\\qwerty\\AppData\\Local\\Temp\\ipykernel_11432\\1472834090.py:1: FutureWarning: Dropping of nuisance columns in DataFrame reductions (with 'numeric_only=None') is deprecated; in a future version this will raise TypeError.  Select only valid columns before calling the reduction.\n",
      "  car_df = car_df.fillna(car_df.mean())\n"
     ]
    }
   ],
   "source": [
    "car_df = car_df.fillna(car_df.mean())"
   ]
  },
  {
   "cell_type": "code",
   "execution_count": 203,
   "id": "781caf19",
   "metadata": {},
   "outputs": [
    {
     "data": {
      "text/plain": [
       "<AxesSubplot:>"
      ]
     },
     "execution_count": 203,
     "metadata": {},
     "output_type": "execute_result"
    },
    {
     "data": {
      "image/png": "[encoded data removed]",
      "text/plain": [
       "<Figure size 432x288 with 1 Axes>"
      ]
     },
     "metadata": {
      "needs_background": "light"
     },
     "output_type": "display_data"
    }
   ],
   "source": [
    "car_df.brand.hist()"
   ]
  },
  {
   "cell_type": "code",
   "execution_count": 204,
   "id": "749a06fa",
   "metadata": {},
   "outputs": [
    {
     "data": {
      "text/plain": [
       "<AxesSubplot:>"
      ]
     },
     "execution_count": 204,
     "metadata": {},
     "output_type": "execute_result"
    },
    {
     "data": {
      "image/png": "[encoded data removed]",
      "text/plain": [
       "<Figure size 432x288 with 1 Axes>"
      ]
     },
     "metadata": {
      "needs_background": "light"
     },
     "output_type": "display_data"
    }
   ],
   "source": [
    "car_df.vehicleType.hist()"
   ]
  },
  {
   "cell_type": "code",
   "execution_count": 205,
   "id": "8500430e",
   "metadata": {},
   "outputs": [
    {
     "data": {
      "text/plain": [
       "<AxesSubplot:>"
      ]
     },
     "execution_count": 205,
     "metadata": {},
     "output_type": "execute_result"
    },
    {
     "data": {
      "image/png": "[encoded data removed]",
      "text/plain": [
       "<Figure size 432x288 with 1 Axes>"
      ]
     },
     "metadata": {
      "needs_background": "light"
     },
     "output_type": "display_data"
    }
   ],
   "source": [
    "car_df.fuelType.hist()"
   ]
  },
  {
   "cell_type": "code",
   "execution_count": 206,
   "id": "efd1faa1",
   "metadata": {},
   "outputs": [
    {
     "data": {
      "text/html": [
       "<div>\n",
       "<style scoped>\n",
       "    .dataframe tbody tr th:only-of-type {\n",
       "        vertical-align: middle;\n",
       "    }\n",
       "\n",
       "    .dataframe tbody tr th {\n",
       "        vertical-align: top;\n",
       "    }\n",
       "\n",
       "    .dataframe thead th {\n",
       "        text-align: right;\n",
       "    }\n",
       "</style>\n",
       "<table border=\"1\" class=\"dataframe\">\n",
       "  <thead>\n",
       "    <tr style=\"text-align: right;\">\n",
       "      <th></th>\n",
       "      <th>name</th>\n",
       "      <th>seller</th>\n",
       "      <th>offerType</th>\n",
       "      <th>price</th>\n",
       "      <th>abtest</th>\n",
       "      <th>vehicleType</th>\n",
       "      <th>yearOfRegistration</th>\n",
       "      <th>gearbox</th>\n",
       "      <th>powerPS</th>\n",
       "      <th>model</th>\n",
       "      <th>kilometer</th>\n",
       "      <th>monthOfRegistration</th>\n",
       "      <th>fuelType</th>\n",
       "      <th>brand</th>\n",
       "      <th>notRepairedDamage</th>\n",
       "      <th>nrOfPictures</th>\n",
       "      <th>NameLen</th>\n",
       "    </tr>\n",
       "  </thead>\n",
       "  <tbody>\n",
       "    <tr>\n",
       "      <th>39</th>\n",
       "      <td>Mercedes_Camper_D407</td>\n",
       "      <td>privat</td>\n",
       "      <td>Angebot</td>\n",
       "      <td>1500</td>\n",
       "      <td>test</td>\n",
       "      <td>bus</td>\n",
       "      <td>1984</td>\n",
       "      <td>manuell</td>\n",
       "      <td>70</td>\n",
       "      <td>andere</td>\n",
       "      <td>150000</td>\n",
       "      <td>8</td>\n",
       "      <td>diesel</td>\n",
       "      <td>mercedes_benz</td>\n",
       "      <td>nein</td>\n",
       "      <td>0</td>\n",
       "      <td>990</td>\n",
       "    </tr>\n",
       "    <tr>\n",
       "      <th>555</th>\n",
       "      <td>Mercedes_Benz_SL_380</td>\n",
       "      <td>privat</td>\n",
       "      <td>Angebot</td>\n",
       "      <td>6500</td>\n",
       "      <td>control</td>\n",
       "      <td>cabrio</td>\n",
       "      <td>1981</td>\n",
       "      <td>automatik</td>\n",
       "      <td>204</td>\n",
       "      <td>sl</td>\n",
       "      <td>150000</td>\n",
       "      <td>3</td>\n",
       "      <td>benzin</td>\n",
       "      <td>mercedes_benz</td>\n",
       "      <td>ja</td>\n",
       "      <td>0</td>\n",
       "      <td>990</td>\n",
       "    </tr>\n",
       "    <tr>\n",
       "      <th>1026</th>\n",
       "      <td>Opel_Rekord_C_1900_S_Automatic</td>\n",
       "      <td>privat</td>\n",
       "      <td>Angebot</td>\n",
       "      <td>2900</td>\n",
       "      <td>test</td>\n",
       "      <td>limousine</td>\n",
       "      <td>1971</td>\n",
       "      <td>automatik</td>\n",
       "      <td>90</td>\n",
       "      <td>andere</td>\n",
       "      <td>90000</td>\n",
       "      <td>6</td>\n",
       "      <td>benzin</td>\n",
       "      <td>opel</td>\n",
       "      <td>nein</td>\n",
       "      <td>0</td>\n",
       "      <td>990</td>\n",
       "    </tr>\n",
       "    <tr>\n",
       "      <th>1301</th>\n",
       "      <td>Porsche_928_S</td>\n",
       "      <td>privat</td>\n",
       "      <td>Angebot</td>\n",
       "      <td>4490</td>\n",
       "      <td>control</td>\n",
       "      <td>coupe</td>\n",
       "      <td>1984</td>\n",
       "      <td>automatik</td>\n",
       "      <td>310</td>\n",
       "      <td>andere</td>\n",
       "      <td>150000</td>\n",
       "      <td>4</td>\n",
       "      <td>benzin</td>\n",
       "      <td>porsche</td>\n",
       "      <td>nein</td>\n",
       "      <td>0</td>\n",
       "      <td>990</td>\n",
       "    </tr>\n",
       "    <tr>\n",
       "      <th>1306</th>\n",
       "      <td>Ford_Taunus_2_0_GL___Youngtimer_Originalzustan...</td>\n",
       "      <td>privat</td>\n",
       "      <td>Angebot</td>\n",
       "      <td>5500</td>\n",
       "      <td>test</td>\n",
       "      <td>limousine</td>\n",
       "      <td>1980</td>\n",
       "      <td>manuell</td>\n",
       "      <td>96</td>\n",
       "      <td>andere</td>\n",
       "      <td>60000</td>\n",
       "      <td>1</td>\n",
       "      <td>benzin</td>\n",
       "      <td>ford</td>\n",
       "      <td>nein</td>\n",
       "      <td>0</td>\n",
       "      <td>990</td>\n",
       "    </tr>\n",
       "    <tr>\n",
       "      <th>...</th>\n",
       "      <td>...</td>\n",
       "      <td>...</td>\n",
       "      <td>...</td>\n",
       "      <td>...</td>\n",
       "      <td>...</td>\n",
       "      <td>...</td>\n",
       "      <td>...</td>\n",
       "      <td>...</td>\n",
       "      <td>...</td>\n",
       "      <td>...</td>\n",
       "      <td>...</td>\n",
       "      <td>...</td>\n",
       "      <td>...</td>\n",
       "      <td>...</td>\n",
       "      <td>...</td>\n",
       "      <td>...</td>\n",
       "      <td>...</td>\n",
       "    </tr>\n",
       "    <tr>\n",
       "      <th>367314</th>\n",
       "      <td>Ford_Taunus</td>\n",
       "      <td>privat</td>\n",
       "      <td>Angebot</td>\n",
       "      <td>5700</td>\n",
       "      <td>test</td>\n",
       "      <td>limousine</td>\n",
       "      <td>1967</td>\n",
       "      <td>manuell</td>\n",
       "      <td>69</td>\n",
       "      <td>andere</td>\n",
       "      <td>90000</td>\n",
       "      <td>2</td>\n",
       "      <td>benzin</td>\n",
       "      <td>ford</td>\n",
       "      <td>nein</td>\n",
       "      <td>0</td>\n",
       "      <td>990</td>\n",
       "    </tr>\n",
       "    <tr>\n",
       "      <th>367732</th>\n",
       "      <td>Volkswagen_Golf_1_GTI</td>\n",
       "      <td>privat</td>\n",
       "      <td>Angebot</td>\n",
       "      <td>4000</td>\n",
       "      <td>test</td>\n",
       "      <td>limousine</td>\n",
       "      <td>1983</td>\n",
       "      <td>manuell</td>\n",
       "      <td>111</td>\n",
       "      <td>golf</td>\n",
       "      <td>150000</td>\n",
       "      <td>6</td>\n",
       "      <td>benzin</td>\n",
       "      <td>volkswagen</td>\n",
       "      <td>ja</td>\n",
       "      <td>0</td>\n",
       "      <td>990</td>\n",
       "    </tr>\n",
       "    <tr>\n",
       "      <th>367927</th>\n",
       "      <td>Oldtimer_Audi_80_Formel_E_h_Zulassung_und_Neu_...</td>\n",
       "      <td>privat</td>\n",
       "      <td>Angebot</td>\n",
       "      <td>2200</td>\n",
       "      <td>test</td>\n",
       "      <td>limousine</td>\n",
       "      <td>1982</td>\n",
       "      <td>manuell</td>\n",
       "      <td>75</td>\n",
       "      <td>80</td>\n",
       "      <td>150000</td>\n",
       "      <td>2</td>\n",
       "      <td>benzin</td>\n",
       "      <td>audi</td>\n",
       "      <td>nein</td>\n",
       "      <td>0</td>\n",
       "      <td>990</td>\n",
       "    </tr>\n",
       "    <tr>\n",
       "      <th>368342</th>\n",
       "      <td>Porsche_911_S_Targa__67er_SWB</td>\n",
       "      <td>privat</td>\n",
       "      <td>Angebot</td>\n",
       "      <td>0</td>\n",
       "      <td>test</td>\n",
       "      <td>cabrio</td>\n",
       "      <td>1967</td>\n",
       "      <td>manuell</td>\n",
       "      <td>160</td>\n",
       "      <td>911</td>\n",
       "      <td>5000</td>\n",
       "      <td>12</td>\n",
       "      <td>benzin</td>\n",
       "      <td>porsche</td>\n",
       "      <td>nein</td>\n",
       "      <td>0</td>\n",
       "      <td>990</td>\n",
       "    </tr>\n",
       "    <tr>\n",
       "      <th>370927</th>\n",
       "      <td>Mercedes_Benz_190E_2.3</td>\n",
       "      <td>privat</td>\n",
       "      <td>Angebot</td>\n",
       "      <td>2999</td>\n",
       "      <td>control</td>\n",
       "      <td>limousine</td>\n",
       "      <td>1985</td>\n",
       "      <td>manuell</td>\n",
       "      <td>132</td>\n",
       "      <td>andere</td>\n",
       "      <td>150000</td>\n",
       "      <td>6</td>\n",
       "      <td>benzin</td>\n",
       "      <td>mercedes_benz</td>\n",
       "      <td>nein</td>\n",
       "      <td>0</td>\n",
       "      <td>990</td>\n",
       "    </tr>\n",
       "  </tbody>\n",
       "</table>\n",
       "<p>990 rows × 17 columns</p>\n",
       "</div>"
      ],
      "text/plain": [
       "                                                     name  seller offerType  \\\n",
       "39                                   Mercedes_Camper_D407  privat   Angebot   \n",
       "555                                  Mercedes_Benz_SL_380  privat   Angebot   \n",
       "1026                       Opel_Rekord_C_1900_S_Automatic  privat   Angebot   \n",
       "1301                                        Porsche_928_S  privat   Angebot   \n",
       "1306    Ford_Taunus_2_0_GL___Youngtimer_Originalzustan...  privat   Angebot   \n",
       "...                                                   ...     ...       ...   \n",
       "367314                                        Ford_Taunus  privat   Angebot   \n",
       "367732                              Volkswagen_Golf_1_GTI  privat   Angebot   \n",
       "367927  Oldtimer_Audi_80_Formel_E_h_Zulassung_und_Neu_...  privat   Angebot   \n",
       "368342                      Porsche_911_S_Targa__67er_SWB  privat   Angebot   \n",
       "370927                             Mercedes_Benz_190E_2.3  privat   Angebot   \n",
       "\n",
       "        price   abtest vehicleType  yearOfRegistration    gearbox  powerPS  \\\n",
       "39       1500     test         bus                1984    manuell       70   \n",
       "555      6500  control      cabrio                1981  automatik      204   \n",
       "1026     2900     test   limousine                1971  automatik       90   \n",
       "1301     4490  control       coupe                1984  automatik      310   \n",
       "1306     5500     test   limousine                1980    manuell       96   \n",
       "...       ...      ...         ...                 ...        ...      ...   \n",
       "367314   5700     test   limousine                1967    manuell       69   \n",
       "367732   4000     test   limousine                1983    manuell      111   \n",
       "367927   2200     test   limousine                1982    manuell       75   \n",
       "368342      0     test      cabrio                1967    manuell      160   \n",
       "370927   2999  control   limousine                1985    manuell      132   \n",
       "\n",
       "         model  kilometer  monthOfRegistration fuelType          brand  \\\n",
       "39      andere     150000                    8   diesel  mercedes_benz   \n",
       "555         sl     150000                    3   benzin  mercedes_benz   \n",
       "1026    andere      90000                    6   benzin           opel   \n",
       "1301    andere     150000                    4   benzin        porsche   \n",
       "1306    andere      60000                    1   benzin           ford   \n",
       "...        ...        ...                  ...      ...            ...   \n",
       "367314  andere      90000                    2   benzin           ford   \n",
       "367732    golf     150000                    6   benzin     volkswagen   \n",
       "367927      80     150000                    2   benzin           audi   \n",
       "368342     911       5000                   12   benzin        porsche   \n",
       "370927  andere     150000                    6   benzin  mercedes_benz   \n",
       "\n",
       "       notRepairedDamage  nrOfPictures  NameLen  \n",
       "39                  nein             0      990  \n",
       "555                   ja             0      990  \n",
       "1026                nein             0      990  \n",
       "1301                nein             0      990  \n",
       "1306                nein             0      990  \n",
       "...                  ...           ...      ...  \n",
       "367314              nein             0      990  \n",
       "367732                ja             0      990  \n",
       "367927              nein             0      990  \n",
       "368342              nein             0      990  \n",
       "370927              nein             0      990  \n",
       "\n",
       "[990 rows x 17 columns]"
      ]
     },
     "execution_count": 206,
     "metadata": {},
     "output_type": "execute_result"
    }
   ],
   "source": [
    "car_df['NameLen'] = len(car_df['name'])\n",
    "car_df"
   ]
  },
  {
   "cell_type": "code",
   "execution_count": 207,
   "id": "f8a7c39f",
   "metadata": {},
   "outputs": [
    {
     "data": {
      "text/plain": [
       "<AxesSubplot:>"
      ]
     },
     "execution_count": 207,
     "metadata": {},
     "output_type": "execute_result"
    },
    {
     "data": {
      "image/png": "[encoded data removed]",
      "text/plain": [
       "<Figure size 432x288 with 2 Axes>"
      ]
     },
     "metadata": {
      "needs_background": "light"
     },
     "output_type": "display_data"
    }
   ],
   "source": [
    "sns.heatmap(car_df.corr())"
   ]
  },
  {
   "cell_type": "code",
   "execution_count": 208,
   "id": "a6299d72",
   "metadata": {},
   "outputs": [
    {
     "data": {
      "text/html": [
       "<div>\n",
       "<style scoped>\n",
       "    .dataframe tbody tr th:only-of-type {\n",
       "        vertical-align: middle;\n",
       "    }\n",
       "\n",
       "    .dataframe tbody tr th {\n",
       "        vertical-align: top;\n",
       "    }\n",
       "\n",
       "    .dataframe thead th {\n",
       "        text-align: right;\n",
       "    }\n",
       "</style>\n",
       "<table border=\"1\" class=\"dataframe\">\n",
       "  <thead>\n",
       "    <tr style=\"text-align: right;\">\n",
       "      <th></th>\n",
       "      <th>price</th>\n",
       "      <th>yearOfRegistration</th>\n",
       "      <th>powerPS</th>\n",
       "      <th>kilometer</th>\n",
       "      <th>monthOfRegistration</th>\n",
       "      <th>nrOfPictures</th>\n",
       "      <th>NameLen</th>\n",
       "    </tr>\n",
       "  </thead>\n",
       "  <tbody>\n",
       "    <tr>\n",
       "      <th>price</th>\n",
       "      <td>1.000000</td>\n",
       "      <td>-0.088163</td>\n",
       "      <td>0.066922</td>\n",
       "      <td>-0.021276</td>\n",
       "      <td>0.058848</td>\n",
       "      <td>NaN</td>\n",
       "      <td>NaN</td>\n",
       "    </tr>\n",
       "    <tr>\n",
       "      <th>yearOfRegistration</th>\n",
       "      <td>-0.088163</td>\n",
       "      <td>1.000000</td>\n",
       "      <td>0.083293</td>\n",
       "      <td>0.257707</td>\n",
       "      <td>0.036678</td>\n",
       "      <td>NaN</td>\n",
       "      <td>NaN</td>\n",
       "    </tr>\n",
       "    <tr>\n",
       "      <th>powerPS</th>\n",
       "      <td>0.066922</td>\n",
       "      <td>0.083293</td>\n",
       "      <td>1.000000</td>\n",
       "      <td>0.151715</td>\n",
       "      <td>-0.004057</td>\n",
       "      <td>NaN</td>\n",
       "      <td>NaN</td>\n",
       "    </tr>\n",
       "    <tr>\n",
       "      <th>kilometer</th>\n",
       "      <td>-0.021276</td>\n",
       "      <td>0.257707</td>\n",
       "      <td>0.151715</td>\n",
       "      <td>1.000000</td>\n",
       "      <td>0.050285</td>\n",
       "      <td>NaN</td>\n",
       "      <td>NaN</td>\n",
       "    </tr>\n",
       "    <tr>\n",
       "      <th>monthOfRegistration</th>\n",
       "      <td>0.058848</td>\n",
       "      <td>0.036678</td>\n",
       "      <td>-0.004057</td>\n",
       "      <td>0.050285</td>\n",
       "      <td>1.000000</td>\n",
       "      <td>NaN</td>\n",
       "      <td>NaN</td>\n",
       "    </tr>\n",
       "    <tr>\n",
       "      <th>nrOfPictures</th>\n",
       "      <td>NaN</td>\n",
       "      <td>NaN</td>\n",
       "      <td>NaN</td>\n",
       "      <td>NaN</td>\n",
       "      <td>NaN</td>\n",
       "      <td>NaN</td>\n",
       "      <td>NaN</td>\n",
       "    </tr>\n",
       "    <tr>\n",
       "      <th>NameLen</th>\n",
       "      <td>NaN</td>\n",
       "      <td>NaN</td>\n",
       "      <td>NaN</td>\n",
       "      <td>NaN</td>\n",
       "      <td>NaN</td>\n",
       "      <td>NaN</td>\n",
       "      <td>NaN</td>\n",
       "    </tr>\n",
       "  </tbody>\n",
       "</table>\n",
       "</div>"
      ],
      "text/plain": [
       "                        price  yearOfRegistration   powerPS  kilometer  \\\n",
       "price                1.000000           -0.088163  0.066922  -0.021276   \n",
       "yearOfRegistration  -0.088163            1.000000  0.083293   0.257707   \n",
       "powerPS              0.066922            0.083293  1.000000   0.151715   \n",
       "kilometer           -0.021276            0.257707  0.151715   1.000000   \n",
       "monthOfRegistration  0.058848            0.036678 -0.004057   0.050285   \n",
       "nrOfPictures              NaN                 NaN       NaN        NaN   \n",
       "NameLen                   NaN                 NaN       NaN        NaN   \n",
       "\n",
       "                     monthOfRegistration  nrOfPictures  NameLen  \n",
       "price                           0.058848           NaN      NaN  \n",
       "yearOfRegistration              0.036678           NaN      NaN  \n",
       "powerPS                        -0.004057           NaN      NaN  \n",
       "kilometer                       0.050285           NaN      NaN  \n",
       "monthOfRegistration             1.000000           NaN      NaN  \n",
       "nrOfPictures                         NaN           NaN      NaN  \n",
       "NameLen                              NaN           NaN      NaN  "
      ]
     },
     "execution_count": 208,
     "metadata": {},
     "output_type": "execute_result"
    }
   ],
   "source": [
    "car_df.corr()"
   ]
  },
  {
   "cell_type": "code",
   "execution_count": 209,
   "id": "7f2dd006",
   "metadata": {},
   "outputs": [
    {
     "data": {
      "text/plain": [
       "0.0669218060419649"
      ]
     },
     "execution_count": 209,
     "metadata": {},
     "output_type": "execute_result"
    }
   ],
   "source": [
    "car_df['price'].corr(car_df['powerPS'])"
   ]
  },
  {
   "cell_type": "code",
   "execution_count": 210,
   "id": "999cb3c3",
   "metadata": {},
   "outputs": [
    {
     "data": {
      "text/plain": [
       "0.0952848494689055"
      ]
     },
     "execution_count": 210,
     "metadata": {},
     "output_type": "execute_result"
    }
   ],
   "source": [
    "car_df['price'].corr(car_df['powerPS'], method='spearman')"
   ]
  },
  {
   "cell_type": "code",
   "execution_count": 225,
   "id": "df700baf",
   "metadata": {},
   "outputs": [
    {
     "data": {
      "text/plain": [
       "<AxesSubplot:ylabel='Density'>"
      ]
     },
     "execution_count": 225,
     "metadata": {},
     "output_type": "execute_result"
    },
    {
     "data": {
      "image/png": "[encoded data removed]",
      "text/plain": [
       "<Figure size 432x288 with 1 Axes>"
      ]
     },
     "metadata": {
      "needs_background": "light"
     },
     "output_type": "display_data"
    }
   ],
   "source": [
    "car_df['price'].plot.kde()"
   ]
  },
  {
   "cell_type": "code",
   "execution_count": 226,
   "id": "a4b97d9e",
   "metadata": {},
   "outputs": [
    {
     "data": {
      "text/plain": [
       "<AxesSubplot:ylabel='Density'>"
      ]
     },
     "execution_count": 226,
     "metadata": {},
     "output_type": "execute_result"
    },
    {
     "data": {
      "image/png": "[encoded data removed]",
      "text/plain": [
       "<Figure size 432x288 with 1 Axes>"
      ]
     },
     "metadata": {
      "needs_background": "light"
     },
     "output_type": "display_data"
    }
   ],
   "source": [
    "car_df['yearOfRegistration'].plot.kde()"
   ]
  },
  {
   "cell_type": "code",
   "execution_count": 227,
   "id": "9845991e",
   "metadata": {},
   "outputs": [
    {
     "data": {
      "text/plain": [
       "<AxesSubplot:ylabel='Density'>"
      ]
     },
     "execution_count": 227,
     "metadata": {},
     "output_type": "execute_result"
    },
    {
     "data": {
      "image/png": "[encoded data removed]",
      "text/plain": [
       "<Figure size 432x288 with 1 Axes>"
      ]
     },
     "metadata": {
      "needs_background": "light"
     },
     "output_type": "display_data"
    }
   ],
   "source": [
    "car_df['powerPS'].plot.kde()"
   ]
  },
  {
   "cell_type": "code",
   "execution_count": 228,
   "id": "a269541c",
   "metadata": {},
   "outputs": [
    {
     "data": {
      "text/plain": [
       "<AxesSubplot:ylabel='Density'>"
      ]
     },
     "execution_count": 228,
     "metadata": {},
     "output_type": "execute_result"
    },
    {
     "data": {
      "image/png": "[encoded data removed]",
      "text/plain": [
       "<Figure size 432x288 with 1 Axes>"
      ]
     },
     "metadata": {
      "needs_background": "light"
     },
     "output_type": "display_data"
    }
   ],
   "source": [
    "car_df['kilometer'].plot.kde()"
   ]
  },
  {
   "cell_type": "code",
   "execution_count": 229,
   "id": "090bae1d",
   "metadata": {},
   "outputs": [
    {
     "data": {
      "text/plain": [
       "<AxesSubplot:ylabel='Density'>"
      ]
     },
     "execution_count": 229,
     "metadata": {},
     "output_type": "execute_result"
    },
    {
     "data": {
      "image/png": "[encoded data removed]",
      "text/plain": [
       "<Figure size 432x288 with 1 Axes>"
      ]
     },
     "metadata": {
      "needs_background": "light"
     },
     "output_type": "display_data"
    }
   ],
   "source": [
    "car_df['monthOfRegistration'].plot.kde()"
   ]
  },
  {
   "cell_type": "code",
   "execution_count": 232,
   "id": "a0c58dd6",
   "metadata": {},
   "outputs": [
    {
     "data": {
      "text/html": [
       "<div>\n",
       "<style scoped>\n",
       "    .dataframe tbody tr th:only-of-type {\n",
       "        vertical-align: middle;\n",
       "    }\n",
       "\n",
       "    .dataframe tbody tr th {\n",
       "        vertical-align: top;\n",
       "    }\n",
       "\n",
       "    .dataframe thead th {\n",
       "        text-align: right;\n",
       "    }\n",
       "</style>\n",
       "<table border=\"1\" class=\"dataframe\">\n",
       "  <thead>\n",
       "    <tr style=\"text-align: right;\">\n",
       "      <th></th>\n",
       "      <th>name</th>\n",
       "      <th>seller</th>\n",
       "      <th>offerType</th>\n",
       "      <th>price</th>\n",
       "      <th>abtest</th>\n",
       "      <th>vehicleType</th>\n",
       "      <th>yearOfRegistration</th>\n",
       "      <th>gearbox</th>\n",
       "      <th>powerPS</th>\n",
       "      <th>model</th>\n",
       "      <th>kilometer</th>\n",
       "      <th>monthOfRegistration</th>\n",
       "      <th>fuelType</th>\n",
       "      <th>brand</th>\n",
       "      <th>notRepairedDamage</th>\n",
       "      <th>nrOfPictures</th>\n",
       "      <th>NameLen</th>\n",
       "      <th>PriceKmSum</th>\n",
       "    </tr>\n",
       "  </thead>\n",
       "  <tbody>\n",
       "    <tr>\n",
       "      <th>39</th>\n",
       "      <td>Mercedes_Camper_D407</td>\n",
       "      <td>privat</td>\n",
       "      <td>Angebot</td>\n",
       "      <td>1500</td>\n",
       "      <td>test</td>\n",
       "      <td>bus</td>\n",
       "      <td>1984</td>\n",
       "      <td>manuell</td>\n",
       "      <td>70</td>\n",
       "      <td>andere</td>\n",
       "      <td>150000</td>\n",
       "      <td>8</td>\n",
       "      <td>diesel</td>\n",
       "      <td>mercedes_benz</td>\n",
       "      <td>nein</td>\n",
       "      <td>0</td>\n",
       "      <td>990</td>\n",
       "      <td>151500</td>\n",
       "    </tr>\n",
       "    <tr>\n",
       "      <th>555</th>\n",
       "      <td>Mercedes_Benz_SL_380</td>\n",
       "      <td>privat</td>\n",
       "      <td>Angebot</td>\n",
       "      <td>6500</td>\n",
       "      <td>control</td>\n",
       "      <td>cabrio</td>\n",
       "      <td>1981</td>\n",
       "      <td>automatik</td>\n",
       "      <td>204</td>\n",
       "      <td>sl</td>\n",
       "      <td>150000</td>\n",
       "      <td>3</td>\n",
       "      <td>benzin</td>\n",
       "      <td>mercedes_benz</td>\n",
       "      <td>ja</td>\n",
       "      <td>0</td>\n",
       "      <td>990</td>\n",
       "      <td>156500</td>\n",
       "    </tr>\n",
       "    <tr>\n",
       "      <th>1026</th>\n",
       "      <td>Opel_Rekord_C_1900_S_Automatic</td>\n",
       "      <td>privat</td>\n",
       "      <td>Angebot</td>\n",
       "      <td>2900</td>\n",
       "      <td>test</td>\n",
       "      <td>limousine</td>\n",
       "      <td>1971</td>\n",
       "      <td>automatik</td>\n",
       "      <td>90</td>\n",
       "      <td>andere</td>\n",
       "      <td>90000</td>\n",
       "      <td>6</td>\n",
       "      <td>benzin</td>\n",
       "      <td>opel</td>\n",
       "      <td>nein</td>\n",
       "      <td>0</td>\n",
       "      <td>990</td>\n",
       "      <td>92900</td>\n",
       "    </tr>\n",
       "    <tr>\n",
       "      <th>1301</th>\n",
       "      <td>Porsche_928_S</td>\n",
       "      <td>privat</td>\n",
       "      <td>Angebot</td>\n",
       "      <td>4490</td>\n",
       "      <td>control</td>\n",
       "      <td>coupe</td>\n",
       "      <td>1984</td>\n",
       "      <td>automatik</td>\n",
       "      <td>310</td>\n",
       "      <td>andere</td>\n",
       "      <td>150000</td>\n",
       "      <td>4</td>\n",
       "      <td>benzin</td>\n",
       "      <td>porsche</td>\n",
       "      <td>nein</td>\n",
       "      <td>0</td>\n",
       "      <td>990</td>\n",
       "      <td>154490</td>\n",
       "    </tr>\n",
       "    <tr>\n",
       "      <th>1306</th>\n",
       "      <td>Ford_Taunus_2_0_GL___Youngtimer_Originalzustan...</td>\n",
       "      <td>privat</td>\n",
       "      <td>Angebot</td>\n",
       "      <td>5500</td>\n",
       "      <td>test</td>\n",
       "      <td>limousine</td>\n",
       "      <td>1980</td>\n",
       "      <td>manuell</td>\n",
       "      <td>96</td>\n",
       "      <td>andere</td>\n",
       "      <td>60000</td>\n",
       "      <td>1</td>\n",
       "      <td>benzin</td>\n",
       "      <td>ford</td>\n",
       "      <td>nein</td>\n",
       "      <td>0</td>\n",
       "      <td>990</td>\n",
       "      <td>65500</td>\n",
       "    </tr>\n",
       "  </tbody>\n",
       "</table>\n",
       "</div>"
      ],
      "text/plain": [
       "                                                   name  seller offerType  \\\n",
       "39                                 Mercedes_Camper_D407  privat   Angebot   \n",
       "555                                Mercedes_Benz_SL_380  privat   Angebot   \n",
       "1026                     Opel_Rekord_C_1900_S_Automatic  privat   Angebot   \n",
       "1301                                      Porsche_928_S  privat   Angebot   \n",
       "1306  Ford_Taunus_2_0_GL___Youngtimer_Originalzustan...  privat   Angebot   \n",
       "\n",
       "      price   abtest vehicleType  yearOfRegistration    gearbox  powerPS  \\\n",
       "39     1500     test         bus                1984    manuell       70   \n",
       "555    6500  control      cabrio                1981  automatik      204   \n",
       "1026   2900     test   limousine                1971  automatik       90   \n",
       "1301   4490  control       coupe                1984  automatik      310   \n",
       "1306   5500     test   limousine                1980    manuell       96   \n",
       "\n",
       "       model  kilometer  monthOfRegistration fuelType          brand  \\\n",
       "39    andere     150000                    8   diesel  mercedes_benz   \n",
       "555       sl     150000                    3   benzin  mercedes_benz   \n",
       "1026  andere      90000                    6   benzin           opel   \n",
       "1301  andere     150000                    4   benzin        porsche   \n",
       "1306  andere      60000                    1   benzin           ford   \n",
       "\n",
       "     notRepairedDamage  nrOfPictures  NameLen  PriceKmSum  \n",
       "39                nein             0      990      151500  \n",
       "555                 ja             0      990      156500  \n",
       "1026              nein             0      990       92900  \n",
       "1301              nein             0      990      154490  \n",
       "1306              nein             0      990       65500  "
      ]
     },
     "execution_count": 232,
     "metadata": {},
     "output_type": "execute_result"
    }
   ],
   "source": [
    "car_df['PriceKmSum'] = car_df['price'] + car_df['kilometer']\n",
    "car_df.head()"
   ]
  },
  {
   "cell_type": "code",
   "execution_count": null,
   "id": "cfadee75",
   "metadata": {},
   "outputs": [],
   "source": []
  }
 ],
 "metadata": {
  "kernelspec": {
   "display_name": "Python 3 (ipykernel)",
   "language": "python",
   "name": "python3"
  },
  "language_info": {
   "codemirror_mode": {
    "name": "ipython",
    "version": 3
   },
   "file_extension": ".py",
   "mimetype": "text/x-python",
   "name": "python",
   "nbconvert_exporter": "python",
   "pygments_lexer": "ipython3",
   "version": "3.9.10"
  }
 },
 "nbformat": 4,
 "nbformat_minor": 5
}
