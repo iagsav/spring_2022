{
 "cells": [
  {
   "cell_type": "markdown",
   "id": "04d09c6a",
   "metadata": {},
   "source": [
    "Лабораторная работа 2\n",
    "Муминов Андрей 20-ИВТ-3\n",
    "Вариант 5"
   ]
  },
  {
   "cell_type": "code",
   "execution_count": 1,
   "id": "e111157d",
   "metadata": {},
   "outputs": [],
   "source": [
    "import numpy as np\n",
    "import pandas as pd\n",
    "from scipy import stats\n",
    "from datetime import datetime\n",
    "\n",
    "data = pd.read_csv('cneos_fireball_data.csv', delimiter=',', encoding = 'utf-8')"
   ]
  },
  {
   "cell_type": "code",
   "execution_count": 2,
   "id": "ef186357",
   "metadata": {},
   "outputs": [
    {
     "name": "stdout",
     "output_type": "stream",
     "text": [
      "<class 'pandas.core.frame.DataFrame'>\n",
      "RangeIndex: 719 entries, 0 to 718\n",
      "Data columns (total 11 columns):\n",
      " #   Column                               Non-Null Count  Dtype  \n",
      "---  ------                               --------------  -----  \n",
      " 0   Peak Brightness Date/Time (UT)       719 non-null    object \n",
      " 1   Latitude (deg.)                      539 non-null    object \n",
      " 2   Longitude (deg.)                     539 non-null    object \n",
      " 3   Altitude (km)                        307 non-null    float64\n",
      " 4   Velocity (km/s)                      157 non-null    float64\n",
      " 5   vx                                   157 non-null    float64\n",
      " 6   vy                                   157 non-null    float64\n",
      " 7   vz                                   157 non-null    float64\n",
      " 8   Total Radiated Energy (J)            719 non-null    float64\n",
      " 9   Calculated Total Impact Energy (kt)  719 non-null    float64\n",
      " 10  Unnamed: 10                          0 non-null      float64\n",
      "dtypes: float64(8), object(3)\n",
      "memory usage: 61.9+ KB\n"
     ]
    }
   ],
   "source": [
    "data.info()"
   ]
  },
  {
   "cell_type": "code",
   "execution_count": 3,
   "id": "b2361094",
   "metadata": {},
   "outputs": [
    {
     "data": {
      "text/html": [
       "<div>\n",
       "<style scoped>\n",
       "    .dataframe tbody tr th:only-of-type {\n",
       "        vertical-align: middle;\n",
       "    }\n",
       "\n",
       "    .dataframe tbody tr th {\n",
       "        vertical-align: top;\n",
       "    }\n",
       "\n",
       "    .dataframe thead th {\n",
       "        text-align: right;\n",
       "    }\n",
       "</style>\n",
       "<table border=\"1\" class=\"dataframe\">\n",
       "  <thead>\n",
       "    <tr style=\"text-align: right;\">\n",
       "      <th></th>\n",
       "      <th>Altitude (km)</th>\n",
       "      <th>Velocity (km/s)</th>\n",
       "      <th>vx</th>\n",
       "      <th>vy</th>\n",
       "      <th>vz</th>\n",
       "      <th>Total Radiated Energy (J)</th>\n",
       "      <th>Calculated Total Impact Energy (kt)</th>\n",
       "      <th>Unnamed: 10</th>\n",
       "    </tr>\n",
       "  </thead>\n",
       "  <tbody>\n",
       "    <tr>\n",
       "      <th>count</th>\n",
       "      <td>307.000000</td>\n",
       "      <td>157.000000</td>\n",
       "      <td>157.000000</td>\n",
       "      <td>157.000000</td>\n",
       "      <td>157.000000</td>\n",
       "      <td>7.190000e+02</td>\n",
       "      <td>719.000000</td>\n",
       "      <td>0.0</td>\n",
       "    </tr>\n",
       "    <tr>\n",
       "      <th>mean</th>\n",
       "      <td>36.511726</td>\n",
       "      <td>17.950318</td>\n",
       "      <td>0.310828</td>\n",
       "      <td>-2.388535</td>\n",
       "      <td>-1.031847</td>\n",
       "      <td>8.812462e+11</td>\n",
       "      <td>1.387638</td>\n",
       "      <td>NaN</td>\n",
       "    </tr>\n",
       "    <tr>\n",
       "      <th>std</th>\n",
       "      <td>10.649462</td>\n",
       "      <td>6.057382</td>\n",
       "      <td>10.825425</td>\n",
       "      <td>11.415896</td>\n",
       "      <td>10.419010</td>\n",
       "      <td>1.405769e+13</td>\n",
       "      <td>16.598496</td>\n",
       "      <td>NaN</td>\n",
       "    </tr>\n",
       "    <tr>\n",
       "      <th>min</th>\n",
       "      <td>15.200000</td>\n",
       "      <td>9.800000</td>\n",
       "      <td>-35.400000</td>\n",
       "      <td>-43.500000</td>\n",
       "      <td>-28.700000</td>\n",
       "      <td>2.000000e+10</td>\n",
       "      <td>0.073000</td>\n",
       "      <td>NaN</td>\n",
       "    </tr>\n",
       "    <tr>\n",
       "      <th>25%</th>\n",
       "      <td>29.600000</td>\n",
       "      <td>13.700000</td>\n",
       "      <td>-7.300000</td>\n",
       "      <td>-11.200000</td>\n",
       "      <td>-9.100000</td>\n",
       "      <td>3.300000e+10</td>\n",
       "      <td>0.110000</td>\n",
       "      <td>NaN</td>\n",
       "    </tr>\n",
       "    <tr>\n",
       "      <th>50%</th>\n",
       "      <td>35.200000</td>\n",
       "      <td>16.900000</td>\n",
       "      <td>0.100000</td>\n",
       "      <td>-2.300000</td>\n",
       "      <td>0.300000</td>\n",
       "      <td>6.800000e+10</td>\n",
       "      <td>0.220000</td>\n",
       "      <td>NaN</td>\n",
       "    </tr>\n",
       "    <tr>\n",
       "      <th>75%</th>\n",
       "      <td>40.700000</td>\n",
       "      <td>19.800000</td>\n",
       "      <td>9.100000</td>\n",
       "      <td>4.800000</td>\n",
       "      <td>6.700000</td>\n",
       "      <td>1.510000e+11</td>\n",
       "      <td>0.440000</td>\n",
       "      <td>NaN</td>\n",
       "    </tr>\n",
       "    <tr>\n",
       "      <th>max</th>\n",
       "      <td>74.000000</td>\n",
       "      <td>49.000000</td>\n",
       "      <td>21.500000</td>\n",
       "      <td>25.800000</td>\n",
       "      <td>23.700000</td>\n",
       "      <td>3.750000e+14</td>\n",
       "      <td>440.000000</td>\n",
       "      <td>NaN</td>\n",
       "    </tr>\n",
       "  </tbody>\n",
       "</table>\n",
       "</div>"
      ],
      "text/plain": [
       "       Altitude (km)  Velocity (km/s)          vx          vy          vz  \\\n",
       "count     307.000000       157.000000  157.000000  157.000000  157.000000   \n",
       "mean       36.511726        17.950318    0.310828   -2.388535   -1.031847   \n",
       "std        10.649462         6.057382   10.825425   11.415896   10.419010   \n",
       "min        15.200000         9.800000  -35.400000  -43.500000  -28.700000   \n",
       "25%        29.600000        13.700000   -7.300000  -11.200000   -9.100000   \n",
       "50%        35.200000        16.900000    0.100000   -2.300000    0.300000   \n",
       "75%        40.700000        19.800000    9.100000    4.800000    6.700000   \n",
       "max        74.000000        49.000000   21.500000   25.800000   23.700000   \n",
       "\n",
       "       Total Radiated Energy (J)  Calculated Total Impact Energy (kt)  \\\n",
       "count               7.190000e+02                           719.000000   \n",
       "mean                8.812462e+11                             1.387638   \n",
       "std                 1.405769e+13                            16.598496   \n",
       "min                 2.000000e+10                             0.073000   \n",
       "25%                 3.300000e+10                             0.110000   \n",
       "50%                 6.800000e+10                             0.220000   \n",
       "75%                 1.510000e+11                             0.440000   \n",
       "max                 3.750000e+14                           440.000000   \n",
       "\n",
       "       Unnamed: 10  \n",
       "count          0.0  \n",
       "mean           NaN  \n",
       "std            NaN  \n",
       "min            NaN  \n",
       "25%            NaN  \n",
       "50%            NaN  \n",
       "75%            NaN  \n",
       "max            NaN  "
      ]
     },
     "execution_count": 3,
     "metadata": {},
     "output_type": "execute_result"
    }
   ],
   "source": [
    "data.describe()"
   ]
  },
  {
   "cell_type": "code",
   "execution_count": 4,
   "id": "0f705182",
   "metadata": {},
   "outputs": [
    {
     "data": {
      "text/html": [
       "<div>\n",
       "<style scoped>\n",
       "    .dataframe tbody tr th:only-of-type {\n",
       "        vertical-align: middle;\n",
       "    }\n",
       "\n",
       "    .dataframe tbody tr th {\n",
       "        vertical-align: top;\n",
       "    }\n",
       "\n",
       "    .dataframe thead th {\n",
       "        text-align: right;\n",
       "    }\n",
       "</style>\n",
       "<table border=\"1\" class=\"dataframe\">\n",
       "  <thead>\n",
       "    <tr style=\"text-align: right;\">\n",
       "      <th></th>\n",
       "      <th>Peak Brightness Date/Time (UT)</th>\n",
       "      <th>Latitude (deg.)</th>\n",
       "      <th>Longitude (deg.)</th>\n",
       "      <th>Altitude (km)</th>\n",
       "      <th>Velocity (km/s)</th>\n",
       "      <th>vx</th>\n",
       "      <th>vy</th>\n",
       "      <th>vz</th>\n",
       "      <th>Total Radiated Energy (J)</th>\n",
       "      <th>Calculated Total Impact Energy (kt)</th>\n",
       "      <th>Unnamed: 10</th>\n",
       "    </tr>\n",
       "  </thead>\n",
       "  <tbody>\n",
       "    <tr>\n",
       "      <th>0</th>\n",
       "      <td>2017-07-31 22:01:35</td>\n",
       "      <td>24.7N</td>\n",
       "      <td>118.5W</td>\n",
       "      <td>NaN</td>\n",
       "      <td>NaN</td>\n",
       "      <td>NaN</td>\n",
       "      <td>NaN</td>\n",
       "      <td>NaN</td>\n",
       "      <td>5.800000e+10</td>\n",
       "      <td>0.19</td>\n",
       "      <td>NaN</td>\n",
       "    </tr>\n",
       "    <tr>\n",
       "      <th>1</th>\n",
       "      <td>2017-07-23 06:12:38</td>\n",
       "      <td>6.6S</td>\n",
       "      <td>69.7W</td>\n",
       "      <td>38.0</td>\n",
       "      <td>17.2</td>\n",
       "      <td>-0.4</td>\n",
       "      <td>8.7</td>\n",
       "      <td>-14.8</td>\n",
       "      <td>3.500000e+10</td>\n",
       "      <td>0.12</td>\n",
       "      <td>NaN</td>\n",
       "    </tr>\n",
       "    <tr>\n",
       "      <th>2</th>\n",
       "      <td>2017-07-13 09:30:36</td>\n",
       "      <td>23.1N</td>\n",
       "      <td>60.7E</td>\n",
       "      <td>35.0</td>\n",
       "      <td>13.7</td>\n",
       "      <td>-10.0</td>\n",
       "      <td>-6.5</td>\n",
       "      <td>-6.8</td>\n",
       "      <td>7.300000e+10</td>\n",
       "      <td>0.23</td>\n",
       "      <td>NaN</td>\n",
       "    </tr>\n",
       "    <tr>\n",
       "      <th>3</th>\n",
       "      <td>2017-06-30 14:26:45</td>\n",
       "      <td>34.3S</td>\n",
       "      <td>134.5E</td>\n",
       "      <td>20.0</td>\n",
       "      <td>15.2</td>\n",
       "      <td>10.9</td>\n",
       "      <td>-9.7</td>\n",
       "      <td>4.2</td>\n",
       "      <td>9.400000e+10</td>\n",
       "      <td>0.29</td>\n",
       "      <td>NaN</td>\n",
       "    </tr>\n",
       "    <tr>\n",
       "      <th>4</th>\n",
       "      <td>2017-06-23 20:21:55</td>\n",
       "      <td>57.0N</td>\n",
       "      <td>143.7E</td>\n",
       "      <td>35.1</td>\n",
       "      <td>24.3</td>\n",
       "      <td>17.7</td>\n",
       "      <td>13.1</td>\n",
       "      <td>-10.3</td>\n",
       "      <td>1.840000e+11</td>\n",
       "      <td>0.52</td>\n",
       "      <td>NaN</td>\n",
       "    </tr>\n",
       "  </tbody>\n",
       "</table>\n",
       "</div>"
      ],
      "text/plain": [
       "  Peak Brightness Date/Time (UT) Latitude (deg.) Longitude (deg.)  \\\n",
       "0            2017-07-31 22:01:35           24.7N           118.5W   \n",
       "1            2017-07-23 06:12:38            6.6S            69.7W   \n",
       "2            2017-07-13 09:30:36           23.1N            60.7E   \n",
       "3            2017-06-30 14:26:45           34.3S           134.5E   \n",
       "4            2017-06-23 20:21:55           57.0N           143.7E   \n",
       "\n",
       "   Altitude (km)  Velocity (km/s)    vx    vy    vz  \\\n",
       "0            NaN              NaN   NaN   NaN   NaN   \n",
       "1           38.0             17.2  -0.4   8.7 -14.8   \n",
       "2           35.0             13.7 -10.0  -6.5  -6.8   \n",
       "3           20.0             15.2  10.9  -9.7   4.2   \n",
       "4           35.1             24.3  17.7  13.1 -10.3   \n",
       "\n",
       "   Total Radiated Energy (J)  Calculated Total Impact Energy (kt)  Unnamed: 10  \n",
       "0               5.800000e+10                                 0.19          NaN  \n",
       "1               3.500000e+10                                 0.12          NaN  \n",
       "2               7.300000e+10                                 0.23          NaN  \n",
       "3               9.400000e+10                                 0.29          NaN  \n",
       "4               1.840000e+11                                 0.52          NaN  "
      ]
     },
     "execution_count": 4,
     "metadata": {},
     "output_type": "execute_result"
    }
   ],
   "source": [
    "data.head()"
   ]
  },
  {
   "cell_type": "markdown",
   "id": "3b665e87",
   "metadata": {},
   "source": [
    "1. Определите местоположение появления метеорита с наибольшим количеством высвободившейся энергии."
   ]
  },
  {
   "cell_type": "code",
   "execution_count": 5,
   "id": "fc427398",
   "metadata": {},
   "outputs": [
    {
     "name": "stdout",
     "output_type": "stream",
     "text": [
      "Ширина: 54.8N\n",
      "Долгота: 61.1E\n",
      "Высота: 23.3\n"
     ]
    }
   ],
   "source": [
    "max_energy = data['Total Radiated Energy (J)'].max()\n",
    "\n",
    "latitude = data[data['Total Radiated Energy (J)'] == max_energy]['Latitude (deg.)']\n",
    "longitude = data[data['Total Radiated Energy (J)'] == max_energy]['Longitude (deg.)']\n",
    "altitude = data[data['Total Radiated Energy (J)'] == max_energy]['Altitude (km)']\n",
    "\n",
    "print('Ширина:', list(latitude)[0])\n",
    "print('Долгота:', list(longitude)[0])\n",
    "print('Высота:', list(altitude)[0])"
   ]
  },
  {
   "cell_type": "markdown",
   "id": "ab8e334a",
   "metadata": {},
   "source": [
    "2. Определите метеорит с максимальной и минимальной скоростью."
   ]
  },
  {
   "cell_type": "code",
   "execution_count": 6,
   "id": "7d3932d0",
   "metadata": {},
   "outputs": [],
   "source": [
    "max_velocity = data['Velocity (km/s)'].max()\n",
    "min_velocity = data['Velocity (km/s)'].min()"
   ]
  },
  {
   "cell_type": "code",
   "execution_count": 7,
   "id": "b6f14e1d",
   "metadata": {},
   "outputs": [
    {
     "data": {
      "text/html": [
       "<div>\n",
       "<style scoped>\n",
       "    .dataframe tbody tr th:only-of-type {\n",
       "        vertical-align: middle;\n",
       "    }\n",
       "\n",
       "    .dataframe tbody tr th {\n",
       "        vertical-align: top;\n",
       "    }\n",
       "\n",
       "    .dataframe thead th {\n",
       "        text-align: right;\n",
       "    }\n",
       "</style>\n",
       "<table border=\"1\" class=\"dataframe\">\n",
       "  <thead>\n",
       "    <tr style=\"text-align: right;\">\n",
       "      <th></th>\n",
       "      <th>Peak Brightness Date/Time (UT)</th>\n",
       "      <th>Latitude (deg.)</th>\n",
       "      <th>Longitude (deg.)</th>\n",
       "      <th>Altitude (km)</th>\n",
       "      <th>Velocity (km/s)</th>\n",
       "      <th>vx</th>\n",
       "      <th>vy</th>\n",
       "      <th>vz</th>\n",
       "      <th>Total Radiated Energy (J)</th>\n",
       "      <th>Calculated Total Impact Energy (kt)</th>\n",
       "      <th>Unnamed: 10</th>\n",
       "    </tr>\n",
       "  </thead>\n",
       "  <tbody>\n",
       "    <tr>\n",
       "      <th>67</th>\n",
       "      <td>2015-07-04 01:40:11</td>\n",
       "      <td>38.6N</td>\n",
       "      <td>103.1E</td>\n",
       "      <td>46.3</td>\n",
       "      <td>49.0</td>\n",
       "      <td>0.9</td>\n",
       "      <td>-40.4</td>\n",
       "      <td>-27.7</td>\n",
       "      <td>5.600000e+10</td>\n",
       "      <td>0.18</td>\n",
       "      <td>NaN</td>\n",
       "    </tr>\n",
       "  </tbody>\n",
       "</table>\n",
       "</div>"
      ],
      "text/plain": [
       "   Peak Brightness Date/Time (UT) Latitude (deg.) Longitude (deg.)  \\\n",
       "67            2015-07-04 01:40:11           38.6N           103.1E   \n",
       "\n",
       "    Altitude (km)  Velocity (km/s)   vx    vy    vz  \\\n",
       "67           46.3             49.0  0.9 -40.4 -27.7   \n",
       "\n",
       "    Total Radiated Energy (J)  Calculated Total Impact Energy (kt)  \\\n",
       "67               5.600000e+10                                 0.18   \n",
       "\n",
       "    Unnamed: 10  \n",
       "67          NaN  "
      ]
     },
     "execution_count": 7,
     "metadata": {},
     "output_type": "execute_result"
    }
   ],
   "source": [
    "data[data['Velocity (km/s)'] == max_velocity]"
   ]
  },
  {
   "cell_type": "code",
   "execution_count": 8,
   "id": "0e59a5ca",
   "metadata": {},
   "outputs": [
    {
     "data": {
      "text/html": [
       "<div>\n",
       "<style scoped>\n",
       "    .dataframe tbody tr th:only-of-type {\n",
       "        vertical-align: middle;\n",
       "    }\n",
       "\n",
       "    .dataframe tbody tr th {\n",
       "        vertical-align: top;\n",
       "    }\n",
       "\n",
       "    .dataframe thead th {\n",
       "        text-align: right;\n",
       "    }\n",
       "</style>\n",
       "<table border=\"1\" class=\"dataframe\">\n",
       "  <thead>\n",
       "    <tr style=\"text-align: right;\">\n",
       "      <th></th>\n",
       "      <th>Peak Brightness Date/Time (UT)</th>\n",
       "      <th>Latitude (deg.)</th>\n",
       "      <th>Longitude (deg.)</th>\n",
       "      <th>Altitude (km)</th>\n",
       "      <th>Velocity (km/s)</th>\n",
       "      <th>vx</th>\n",
       "      <th>vy</th>\n",
       "      <th>vz</th>\n",
       "      <th>Total Radiated Energy (J)</th>\n",
       "      <th>Calculated Total Impact Energy (kt)</th>\n",
       "      <th>Unnamed: 10</th>\n",
       "    </tr>\n",
       "  </thead>\n",
       "  <tbody>\n",
       "    <tr>\n",
       "      <th>300</th>\n",
       "      <td>2008-07-01 17:40:19</td>\n",
       "      <td>37.1N</td>\n",
       "      <td>115.7W</td>\n",
       "      <td>36.1</td>\n",
       "      <td>9.8</td>\n",
       "      <td>2.8</td>\n",
       "      <td>1.7</td>\n",
       "      <td>-9.2</td>\n",
       "      <td>3.600000e+10</td>\n",
       "      <td>0.12</td>\n",
       "      <td>NaN</td>\n",
       "    </tr>\n",
       "  </tbody>\n",
       "</table>\n",
       "</div>"
      ],
      "text/plain": [
       "    Peak Brightness Date/Time (UT) Latitude (deg.) Longitude (deg.)  \\\n",
       "300            2008-07-01 17:40:19           37.1N           115.7W   \n",
       "\n",
       "     Altitude (km)  Velocity (km/s)   vx   vy   vz  Total Radiated Energy (J)  \\\n",
       "300           36.1              9.8  2.8  1.7 -9.2               3.600000e+10   \n",
       "\n",
       "     Calculated Total Impact Energy (kt)  Unnamed: 10  \n",
       "300                                 0.12          NaN  "
      ]
     },
     "execution_count": 8,
     "metadata": {},
     "output_type": "execute_result"
    }
   ],
   "source": [
    "data[data['Velocity (km/s)'] == min_velocity]"
   ]
  },
  {
   "cell_type": "markdown",
   "id": "8bad08f9",
   "metadata": {},
   "source": [
    "3. Определите место максимальной концентрации метеоритов."
   ]
  },
  {
   "cell_type": "code",
   "execution_count": 9,
   "id": "5d1f0d3c",
   "metadata": {},
   "outputs": [
    {
     "name": "stdout",
     "output_type": "stream",
     "text": [
      "{'N-E': 138, 'N-W': 126, 'S-E': 149, 'S-W': 126}\n"
     ]
    }
   ],
   "source": [
    "data.dropna(subset=['Latitude (deg.)'], inplace=True)\n",
    "\n",
    "latitude = list(data['Latitude (deg.)'].apply(lambda x: x[-1]))\n",
    "longitude = list(data['Longitude (deg.)'].apply(lambda x: x[-1]))\n",
    "\n",
    "\n",
    "coordinates = {'N-E':0, 'N-W':0, 'S-E':0, 'S-W':0}\n",
    "for x,y in zip(latitude, longitude):\n",
    "    coordinates[x+'-'+y] +=1\n",
    "\n",
    "\n",
    "print(coordinates)"
   ]
  },
  {
   "cell_type": "code",
   "execution_count": 10,
   "id": "4c1c7906",
   "metadata": {},
   "outputs": [
    {
     "name": "stdout",
     "output_type": "stream",
     "text": [
      "Наибольшая концентрация метеоритов в области: S-E\n"
     ]
    }
   ],
   "source": [
    "\n",
    "max_value = max(coordinates.values())\n",
    "for k in coordinates:\n",
    "    if coordinates[k] == max_value:\n",
    "        print('Наибольшая концентрация метеоритов в области:', k)"
   ]
  },
  {
   "cell_type": "markdown",
   "id": "abcfb726",
   "metadata": {},
   "source": [
    "4. Определите время года, в которое вероятность появления метеоритов максимальна. Постройте график."
   ]
  },
  {
   "cell_type": "code",
   "execution_count": 11,
   "id": "a84e71e3",
   "metadata": {},
   "outputs": [
    {
     "name": "stdout",
     "output_type": "stream",
     "text": [
      "Время года с наибольшим числом метеоритов: autumn \n",
      "\n",
      "autumn    182\n",
      "spring    180\n",
      "winter    179\n",
      "summer    178\n",
      "Name: Seasons, dtype: int64\n"
     ]
    },
    {
     "data": {
      "text/plain": [
       "<AxesSubplot:xlabel='Время года', ylabel='Частота появления метеоритов'>"
      ]
     },
     "execution_count": 11,
     "metadata": {},
     "output_type": "execute_result"
    },
    {
     "data": {
      "image/png": "[encoded data removed]",
      "text/plain": [
       "<Figure size 720x432 with 1 Axes>"
      ]
     },
     "metadata": {
      "needs_background": "light"
     },
     "output_type": "display_data"
    }
   ],
   "source": [
    "data = pd.read_csv('cneos_fireball_data.csv', delimiter=',', encoding = 'utf-8')\n",
    "seasons_dict = {1:'winter', 2:'winter', 3:'spring', 4:'spring', 5:'spring', 6:'summer',\n",
    "                7:'summer', 8:'summer', 9:'autumn', 10:'autumn', 11:'autumn', 12:'winter'}\n",
    "\n",
    "\n",
    "seasons = data['Peak Brightness Date/Time (UT)'].apply(lambda x: seasons_dict[datetime.strptime(x, '%Y-%m-%d %H:%M:%S').month])\n",
    "data.insert(0, 'Seasons', seasons)\n",
    "\n",
    "print('Время года с наибольшим числом метеоритов:', data['Seasons'].value_counts().index[0], '\\n')\n",
    "print(data['Seasons'].value_counts())\n",
    "data.groupby('Seasons').count()['Peak Brightness Date/Time (UT)'].plot(figsize=(10,6), kind='bar',\n",
    "                                                                    xlabel='Время года', \n",
    "                                                                    ylabel='Частота появления метеоритов', \n",
    "                                                                    grid=True)"
   ]
  },
  {
   "cell_type": "markdown",
   "id": "2cac8e56",
   "metadata": {},
   "source": [
    "5. Удалите строки данных, в которых для метеоритов не указана скорость. Выведите размер набора данных до и после удаления."
   ]
  },
  {
   "cell_type": "code",
   "execution_count": 12,
   "id": "9a4435c6",
   "metadata": {},
   "outputs": [
    {
     "name": "stdout",
     "output_type": "stream",
     "text": [
      "Размер набора данных до удаления: (719, 12)\n",
      "Размер набора данных после удаления: (157, 12)\n"
     ]
    }
   ],
   "source": [
    "print('Размер набора данных до удаления:', data.shape)\n",
    "data.dropna(subset=['Velocity (km/s)'], inplace=True)\n",
    "print('Размер набора данных после удаления:', data.shape)"
   ]
  },
  {
   "cell_type": "markdown",
   "id": "ab0e8072",
   "metadata": {},
   "source": [
    "6. Построить график, на котором по оси ОХ отложено время суток, по OY – частота появления метеоритов."
   ]
  },
  {
   "cell_type": "code",
   "execution_count": 13,
   "id": "269ff74f",
   "metadata": {},
   "outputs": [],
   "source": [
    "data = pd.read_csv('cneos_fireball_data.csv', delimiter=',', encoding = 'utf-8')"
   ]
  },
  {
   "cell_type": "code",
   "execution_count": 14,
   "id": "406e8358",
   "metadata": {},
   "outputs": [
    {
     "data": {
      "text/plain": [
       "<AxesSubplot:xlabel='Время суток', ylabel='Частота появления метеоритов'>"
      ]
     },
     "execution_count": 14,
     "metadata": {},
     "output_type": "execute_result"
    },
    {
     "data": {
      "image/png": "[encoded data removed]",
      "text/plain": [
       "<Figure size 720x432 with 1 Axes>"
      ]
     },
     "metadata": {
      "needs_background": "light"
     },
     "output_type": "display_data"
    }
   ],
   "source": [
    "time = data['Peak Brightness Date/Time (UT)'].apply(lambda x: datetime.strptime(x, '%Y-%m-%d %H:%M:%S').hour)\n",
    "data.insert(0, 'Time', time)\n",
    "data.groupby('Time').count()['Peak Brightness Date/Time (UT)'].plot(figsize=(10,6), \n",
    "                                                                    xlabel='Время суток', \n",
    "                                                                    ylabel='Частота появления метеоритов', \n",
    "                                                                    grid=True)"
   ]
  },
  {
   "cell_type": "markdown",
   "id": "6d8f2431",
   "metadata": {},
   "source": [
    "7. Заполните строки в которых для метеоритов не указана скорость."
   ]
  },
  {
   "cell_type": "code",
   "execution_count": 15,
   "id": "9cca3611",
   "metadata": {},
   "outputs": [
    {
     "data": {
      "text/plain": [
       "0       NaN\n",
       "1      17.2\n",
       "2      13.7\n",
       "3      15.2\n",
       "4      24.3\n",
       "       ... \n",
       "714     NaN\n",
       "715     NaN\n",
       "716     NaN\n",
       "717     NaN\n",
       "718     NaN\n",
       "Name: Velocity (km/s), Length: 719, dtype: float64"
      ]
     },
     "execution_count": 15,
     "metadata": {},
     "output_type": "execute_result"
    }
   ],
   "source": [
    "data['Velocity (km/s)']"
   ]
  },
  {
   "cell_type": "code",
   "execution_count": 16,
   "id": "2e499b3a",
   "metadata": {},
   "outputs": [],
   "source": [
    "nan_indexes = data[data['Velocity (km/s)'].isnull()].index\n",
    "dummy_data = np.zeros((len(nan_indexes)))\n",
    "data.loc[nan_indexes, 'Velocity (km/s)'] = pd.Series(dummy_data, index=nan_indexes)"
   ]
  },
  {
   "cell_type": "code",
   "execution_count": 17,
   "id": "d6ff7247",
   "metadata": {},
   "outputs": [
    {
     "data": {
      "text/plain": [
       "0       0.0\n",
       "1      17.2\n",
       "2      13.7\n",
       "3      15.2\n",
       "4      24.3\n",
       "       ... \n",
       "714     0.0\n",
       "715     0.0\n",
       "716     0.0\n",
       "717     0.0\n",
       "718     0.0\n",
       "Name: Velocity (km/s), Length: 719, dtype: float64"
      ]
     },
     "execution_count": 17,
     "metadata": {},
     "output_type": "execute_result"
    }
   ],
   "source": [
    "data['Velocity (km/s)']"
   ]
  },
  {
   "cell_type": "markdown",
   "id": "f4c777fa",
   "metadata": {},
   "source": [
    "8. Определите месяц года, для которого появление метеоритов наиболее вероятно (постройте необходимые графики)."
   ]
  },
  {
   "cell_type": "code",
   "execution_count": 18,
   "id": "52726a03",
   "metadata": {},
   "outputs": [
    {
     "name": "stdout",
     "output_type": "stream",
     "text": [
      "Наибольшее число метеоритов за месяц: 65\n"
     ]
    },
    {
     "data": {
      "text/plain": [
       "<AxesSubplot:xlabel='Месяц', ylabel='Частота появления метеоритов'>"
      ]
     },
     "execution_count": 18,
     "metadata": {},
     "output_type": "execute_result"
    },
    {
     "data": {
      "image/png": "[encoded data removed]",
      "text/plain": [
       "<Figure size 720x432 with 1 Axes>"
      ]
     },
     "metadata": {
      "needs_background": "light"
     },
     "output_type": "display_data"
    }
   ],
   "source": [
    "month = data['Peak Brightness Date/Time (UT)'].apply(lambda x: datetime.strptime(x, '%Y-%m-%d %H:%M:%S').month)\n",
    "data.insert(0, 'Month', month)\n",
    "print('Наибольшее число метеоритов за месяц:', data.groupby('Month').count()['Peak Brightness Date/Time (UT)'].max())\n",
    "data.groupby('Month').count()['Peak Brightness Date/Time (UT)'].plot(figsize=(10,6), kind='line',\n",
    "                                                                    xlabel='Месяц', \n",
    "                                                                    ylabel='Частота появления метеоритов', \n",
    "                                                                    grid=True)"
   ]
  },
  {
   "cell_type": "code",
   "execution_count": 19,
   "id": "029089bc",
   "metadata": {},
   "outputs": [
    {
     "name": "stdout",
     "output_type": "stream",
     "text": [
      "Месяцы с наибольшим числом метеоритов: 11 10\n"
     ]
    }
   ],
   "source": [
    "meteorites_per_month = data['Month'].value_counts()\n",
    "print('Месяцы с наибольшим числом метеоритов:', meteorites_per_month.index[0], meteorites_per_month.index[1])"
   ]
  },
  {
   "cell_type": "markdown",
   "id": "6afe8853",
   "metadata": {},
   "source": [
    "9. Вычислите корреляцию Пирсона и Спирмена между признаками Altitude и Total Radiated Energy. Сравните полученные величины корреляции. Постройте гистограммы для указанных признаков. Оцените значение p-value."
   ]
  },
  {
   "cell_type": "code",
   "execution_count": 20,
   "id": "755efc86",
   "metadata": {},
   "outputs": [
    {
     "name": "stdout",
     "output_type": "stream",
     "text": [
      "Коэффициент корреляции Пирсона: -0.08578656525823586, p-value: 0.13368269878711372\n",
      "Коэффициент корреляции Спирмена: -0.12671041939219074, p-value: 0.026415728610676672\n"
     ]
    }
   ],
   "source": [
    "data.dropna(subset=['Altitude (km)'], inplace=True)\n",
    "\n",
    "col = ['Altitude (km)', 'Total Radiated Energy (J)']\n",
    "\n",
    "coef_corr_pearson, p_value_pearson = stats.pearsonr(data['Altitude (km)'], data['Total Radiated Energy (J)']) \n",
    "coef_corr_spearman, p_value_spearman = stats.spearmanr(data['Altitude (km)'], data['Total Radiated Energy (J)'])\n",
    "\n",
    "print(f'Коэффициент корреляции Пирсона: {coef_corr_pearson}, p-value: {p_value_pearson}')\n",
    "print(f'Коэффициент корреляции Спирмена: {coef_corr_spearman}, p-value: {p_value_spearman}')"
   ]
  },
  {
   "cell_type": "code",
   "execution_count": 21,
   "id": "4c43de56",
   "metadata": {},
   "outputs": [
    {
     "data": {
      "text/plain": [
       "<AxesSubplot:>"
      ]
     },
     "execution_count": 21,
     "metadata": {},
     "output_type": "execute_result"
    },
    {
     "data": {
      "image/png": "[encoded data removed]",
      "text/plain": [
       "<Figure size 432x288 with 1 Axes>"
      ]
     },
     "metadata": {
      "needs_background": "light"
     },
     "output_type": "display_data"
    }
   ],
   "source": [
    "data['Altitude (km)'].hist()"
   ]
  },
  {
   "cell_type": "code",
   "execution_count": 22,
   "id": "c3f2a083",
   "metadata": {},
   "outputs": [
    {
     "data": {
      "text/plain": [
       "<AxesSubplot:>"
      ]
     },
     "execution_count": 22,
     "metadata": {},
     "output_type": "execute_result"
    },
    {
     "data": {
      "image/png": "[encoded data removed]",
      "text/plain": [
       "<Figure size 432x288 with 1 Axes>"
      ]
     },
     "metadata": {
      "needs_background": "light"
     },
     "output_type": "display_data"
    }
   ],
   "source": [
    "data['Total Radiated Energy (J)'].hist()"
   ]
  }
 ],
 "metadata": {
  "kernelspec": {
   "display_name": "Python 3 (ipykernel)",
   "language": "python",
   "name": "python3"
  },
  "language_info": {
   "codemirror_mode": {
    "name": "ipython",
    "version": 3
   },
   "file_extension": ".py",
   "mimetype": "text/x-python",
   "name": "python",
   "nbconvert_exporter": "python",
   "pygments_lexer": "ipython3",
   "version": "3.9.7"
  }
 },
 "nbformat": 4,
 "nbformat_minor": 5
}
