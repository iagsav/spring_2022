{
 "cells": [
  {
   "cell_type": "code",
   "execution_count": 2,
   "id": "c65d5bc1",
   "metadata": {},
   "outputs": [
    {
     "name": "stdout",
     "output_type": "stream",
     "text": [
      "<class 'pandas.core.frame.DataFrame'>\n",
      "Int64Index: 222169 entries, 1 to 371527\n",
      "Data columns (total 11 columns):\n",
      " #   Column               Non-Null Count   Dtype \n",
      "---  ------               --------------   ----- \n",
      " 0   price                222169 non-null  int64 \n",
      " 1   abtest               222169 non-null  object\n",
      " 2   vehicleType          222169 non-null  object\n",
      " 3   yearOfRegistration   222169 non-null  int64 \n",
      " 4   gearbox              222169 non-null  object\n",
      " 5   powerPS              222169 non-null  int64 \n",
      " 6   kilometer            222169 non-null  int64 \n",
      " 7   monthOfRegistration  222169 non-null  int64 \n",
      " 8   fuelType             222169 non-null  object\n",
      " 9   brand                222169 non-null  object\n",
      " 10  notRepairedDamage    222169 non-null  object\n",
      "dtypes: int64(5), object(6)\n",
      "memory usage: 20.3+ MB\n"
     ]
    },
    {
     "data": {
      "text/html": [
       "<div>\n",
       "<style scoped>\n",
       "    .dataframe tbody tr th:only-of-type {\n",
       "        vertical-align: middle;\n",
       "    }\n",
       "\n",
       "    .dataframe tbody tr th {\n",
       "        vertical-align: top;\n",
       "    }\n",
       "\n",
       "    .dataframe thead th {\n",
       "        text-align: right;\n",
       "    }\n",
       "</style>\n",
       "<table border=\"1\" class=\"dataframe\">\n",
       "  <thead>\n",
       "    <tr style=\"text-align: right;\">\n",
       "      <th></th>\n",
       "      <th>price</th>\n",
       "      <th>abtest</th>\n",
       "      <th>vehicleType</th>\n",
       "      <th>yearOfRegistration</th>\n",
       "      <th>gearbox</th>\n",
       "      <th>powerPS</th>\n",
       "      <th>kilometer</th>\n",
       "      <th>monthOfRegistration</th>\n",
       "      <th>fuelType</th>\n",
       "      <th>brand</th>\n",
       "      <th>notRepairedDamage</th>\n",
       "    </tr>\n",
       "  </thead>\n",
       "  <tbody>\n",
       "    <tr>\n",
       "      <th>1</th>\n",
       "      <td>18300</td>\n",
       "      <td>test</td>\n",
       "      <td>coupe</td>\n",
       "      <td>2011</td>\n",
       "      <td>manuell</td>\n",
       "      <td>190</td>\n",
       "      <td>125000</td>\n",
       "      <td>5</td>\n",
       "      <td>diesel</td>\n",
       "      <td>audi</td>\n",
       "      <td>ja</td>\n",
       "    </tr>\n",
       "    <tr>\n",
       "      <th>3</th>\n",
       "      <td>1500</td>\n",
       "      <td>test</td>\n",
       "      <td>kleinwagen</td>\n",
       "      <td>2001</td>\n",
       "      <td>manuell</td>\n",
       "      <td>75</td>\n",
       "      <td>150000</td>\n",
       "      <td>6</td>\n",
       "      <td>benzin</td>\n",
       "      <td>volkswagen</td>\n",
       "      <td>nein</td>\n",
       "    </tr>\n",
       "    <tr>\n",
       "      <th>4</th>\n",
       "      <td>3600</td>\n",
       "      <td>test</td>\n",
       "      <td>kleinwagen</td>\n",
       "      <td>2008</td>\n",
       "      <td>manuell</td>\n",
       "      <td>69</td>\n",
       "      <td>90000</td>\n",
       "      <td>7</td>\n",
       "      <td>diesel</td>\n",
       "      <td>skoda</td>\n",
       "      <td>nein</td>\n",
       "    </tr>\n",
       "    <tr>\n",
       "      <th>6</th>\n",
       "      <td>2200</td>\n",
       "      <td>test</td>\n",
       "      <td>cabrio</td>\n",
       "      <td>2004</td>\n",
       "      <td>manuell</td>\n",
       "      <td>109</td>\n",
       "      <td>150000</td>\n",
       "      <td>8</td>\n",
       "      <td>benzin</td>\n",
       "      <td>peugeot</td>\n",
       "      <td>nein</td>\n",
       "    </tr>\n",
       "    <tr>\n",
       "      <th>10</th>\n",
       "      <td>2000</td>\n",
       "      <td>control</td>\n",
       "      <td>limousine</td>\n",
       "      <td>2004</td>\n",
       "      <td>manuell</td>\n",
       "      <td>105</td>\n",
       "      <td>150000</td>\n",
       "      <td>12</td>\n",
       "      <td>benzin</td>\n",
       "      <td>mazda</td>\n",
       "      <td>nein</td>\n",
       "    </tr>\n",
       "    <tr>\n",
       "      <th>...</th>\n",
       "      <td>...</td>\n",
       "      <td>...</td>\n",
       "      <td>...</td>\n",
       "      <td>...</td>\n",
       "      <td>...</td>\n",
       "      <td>...</td>\n",
       "      <td>...</td>\n",
       "      <td>...</td>\n",
       "      <td>...</td>\n",
       "      <td>...</td>\n",
       "      <td>...</td>\n",
       "    </tr>\n",
       "    <tr>\n",
       "      <th>371520</th>\n",
       "      <td>3200</td>\n",
       "      <td>control</td>\n",
       "      <td>limousine</td>\n",
       "      <td>2004</td>\n",
       "      <td>manuell</td>\n",
       "      <td>225</td>\n",
       "      <td>150000</td>\n",
       "      <td>5</td>\n",
       "      <td>benzin</td>\n",
       "      <td>seat</td>\n",
       "      <td>ja</td>\n",
       "    </tr>\n",
       "    <tr>\n",
       "      <th>371521</th>\n",
       "      <td>1150</td>\n",
       "      <td>control</td>\n",
       "      <td>bus</td>\n",
       "      <td>2000</td>\n",
       "      <td>manuell</td>\n",
       "      <td>0</td>\n",
       "      <td>150000</td>\n",
       "      <td>3</td>\n",
       "      <td>benzin</td>\n",
       "      <td>opel</td>\n",
       "      <td>nein</td>\n",
       "    </tr>\n",
       "    <tr>\n",
       "      <th>371524</th>\n",
       "      <td>1199</td>\n",
       "      <td>test</td>\n",
       "      <td>cabrio</td>\n",
       "      <td>2000</td>\n",
       "      <td>automatik</td>\n",
       "      <td>101</td>\n",
       "      <td>125000</td>\n",
       "      <td>3</td>\n",
       "      <td>benzin</td>\n",
       "      <td>smart</td>\n",
       "      <td>nein</td>\n",
       "    </tr>\n",
       "    <tr>\n",
       "      <th>371525</th>\n",
       "      <td>9200</td>\n",
       "      <td>test</td>\n",
       "      <td>bus</td>\n",
       "      <td>1996</td>\n",
       "      <td>manuell</td>\n",
       "      <td>102</td>\n",
       "      <td>150000</td>\n",
       "      <td>3</td>\n",
       "      <td>diesel</td>\n",
       "      <td>volkswagen</td>\n",
       "      <td>nein</td>\n",
       "    </tr>\n",
       "    <tr>\n",
       "      <th>371527</th>\n",
       "      <td>28990</td>\n",
       "      <td>control</td>\n",
       "      <td>limousine</td>\n",
       "      <td>2013</td>\n",
       "      <td>manuell</td>\n",
       "      <td>320</td>\n",
       "      <td>50000</td>\n",
       "      <td>8</td>\n",
       "      <td>benzin</td>\n",
       "      <td>bmw</td>\n",
       "      <td>nein</td>\n",
       "    </tr>\n",
       "  </tbody>\n",
       "</table>\n",
       "<p>222169 rows × 11 columns</p>\n",
       "</div>"
      ],
      "text/plain": [
       "        price   abtest vehicleType  yearOfRegistration    gearbox  powerPS  \\\n",
       "1       18300     test       coupe                2011    manuell      190   \n",
       "3        1500     test  kleinwagen                2001    manuell       75   \n",
       "4        3600     test  kleinwagen                2008    manuell       69   \n",
       "6        2200     test      cabrio                2004    manuell      109   \n",
       "10       2000  control   limousine                2004    manuell      105   \n",
       "...       ...      ...         ...                 ...        ...      ...   \n",
       "371520   3200  control   limousine                2004    manuell      225   \n",
       "371521   1150  control         bus                2000    manuell        0   \n",
       "371524   1199     test      cabrio                2000  automatik      101   \n",
       "371525   9200     test         bus                1996    manuell      102   \n",
       "371527  28990  control   limousine                2013    manuell      320   \n",
       "\n",
       "        kilometer  monthOfRegistration fuelType       brand notRepairedDamage  \n",
       "1          125000                    5   diesel        audi                ja  \n",
       "3          150000                    6   benzin  volkswagen              nein  \n",
       "4           90000                    7   diesel       skoda              nein  \n",
       "6          150000                    8   benzin     peugeot              nein  \n",
       "10         150000                   12   benzin       mazda              nein  \n",
       "...           ...                  ...      ...         ...               ...  \n",
       "371520     150000                    5   benzin        seat                ja  \n",
       "371521     150000                    3   benzin        opel              nein  \n",
       "371524     125000                    3   benzin       smart              nein  \n",
       "371525     150000                    3   diesel  volkswagen              nein  \n",
       "371527      50000                    8   benzin         bmw              nein  \n",
       "\n",
       "[222169 rows x 11 columns]"
      ]
     },
     "execution_count": 2,
     "metadata": {},
     "output_type": "execute_result"
    }
   ],
   "source": [
    "import pandas as pd\n",
    "import numpy as np\n",
    "autos_df = pd.read_csv('autos.csv',encoding = \"ISO-8859-1\")\n",
    "\n",
    "autos_df.drop(['offerType'], axis=1, inplace=True)\n",
    "autos_df.drop(['seller'], axis=1, inplace=True)\n",
    "autos_df.drop(['nrOfPictures'], axis=1, inplace=True)\n",
    "autos_df.drop(['dateCrawled'], axis=1, inplace=True)\n",
    "autos_df.drop(['dateCreated'], axis=1, inplace=True)\n",
    "autos_df.drop(['lastSeen'], axis=1, inplace=True)\n",
    "autos_df.drop(['postalCode'], axis=1, inplace=True)\n",
    "autos_df.drop(['name'], axis=1, inplace=True)\n",
    "autos_df.drop(['model'], axis=1, inplace=True)\n",
    "autos_df = autos_df.dropna(axis=0, how='any')\n",
    "autos_df = autos_df [(autos_df.price>1000) & (autos_df.price < 200000)]\n",
    "autos_df.info()\n",
    "\n",
    "autos_df"
   ]
  },
  {
   "cell_type": "code",
   "execution_count": 3,
   "id": "ed2c3222",
   "metadata": {},
   "outputs": [
    {
     "name": "stdout",
     "output_type": "stream",
     "text": [
      "5.078474398721116\n"
     ]
    }
   ],
   "source": [
    "from sklearn.preprocessing import LabelEncoder\n",
    "\n",
    "data = autos_df.copy()\n",
    "\n",
    "data[\"vehicleType\"] =LabelEncoder().fit_transform(data[\"vehicleType\"])\n",
    "data[\"fuelType\"] =LabelEncoder().fit_transform(data[\"fuelType\"])\n",
    "data[\"gearbox\"] =LabelEncoder().fit_transform(data[\"gearbox\"])\n",
    "data[\"notRepairedDamage\"] =LabelEncoder().fit_transform(data[\"notRepairedDamage\"])\n",
    "data[\"brand\"] =LabelEncoder().fit_transform(data[\"brand\"])\n",
    "data[\"abtest\"] =LabelEncoder().fit_transform(data[\"abtest\"])\n",
    "print(data['price'].skew())"
   ]
  },
  {
   "cell_type": "code",
   "execution_count": 4,
   "id": "7ad0382e",
   "metadata": {},
   "outputs": [
    {
     "data": {
      "image/png": "[encoded data removed]",
      "text/plain": [
       "<Figure size 720x432 with 1 Axes>"
      ]
     },
     "metadata": {
      "needs_background": "light"
     },
     "output_type": "display_data"
    }
   ],
   "source": [
    "# Distribution price\n",
    "import matplotlib.pyplot as plt\n",
    "plt.figure(figsize=(10,6))\n",
    "plt.hist(data['price'], bins=50, ec='black')\n",
    "plt.xlabel('Price')\n",
    "plt.ylabel('Number of cars')\n",
    "plt.show()\n"
   ]
  },
  {
   "cell_type": "code",
   "execution_count": 5,
   "id": "0d82e33c",
   "metadata": {},
   "outputs": [
    {
     "data": {
      "image/png": "[encoded data removed]",
      "text/plain": [
       "<Figure size 1152x720 with 2 Axes>"
      ]
     },
     "metadata": {
      "needs_background": "light"
     },
     "output_type": "display_data"
    }
   ],
   "source": [
    "# Correlation heatmap\n",
    "import seaborn as sns\n",
    "mask = np.zeros_like(data.corr())\n",
    "triangle = np.triu_indices_from(mask)\n",
    "mask[triangle] = True\n",
    "mask\n",
    "\n",
    "plt.figure(figsize=(16,10))\n",
    "sns.heatmap(data.corr(), mask=mask, annot=True)\n",
    "plt.show()\n"
   ]
  },
  {
   "cell_type": "code",
   "execution_count": 6,
   "id": "acd4d246",
   "metadata": {},
   "outputs": [],
   "source": [
    "# Data preparing\n",
    "from sklearn.preprocessing import StandardScaler\n",
    "from sklearn.model_selection import train_test_split\n",
    "ss = StandardScaler()\n",
    "\n",
    "y = data['price']\n",
    "x = data.drop('price', axis=1)\n",
    "\n",
    "x_train, x_test, y_train, y_test = train_test_split(x,y,shuffle=True)\n",
    "\n",
    "x_train = ss.fit_transform(x_train)\n",
    "x_test = ss.fit_transform(x_test)\n"
   ]
  },
  {
   "cell_type": "code",
   "execution_count": 7,
   "id": "c77335c0",
   "metadata": {},
   "outputs": [
    {
     "name": "stdout",
     "output_type": "stream",
     "text": [
      "Training set score: 0.3391491580\n",
      "Test set score: 0.3305591269\n"
     ]
    }
   ],
   "source": [
    "#LinearRigression w/o log\n",
    "from sklearn.linear_model import LinearRegression\n",
    "\n",
    "lr = LinearRegression()\n",
    "lr.fit(x_train, y_train)\n",
    "\n",
    "print(\"Training set score: {:.10f}\".format(lr.score(x_train, y_train))) \n",
    "print(\"Test set score: {:.10f}\".format(lr.score(x_test, y_test))) "
   ]
  },
  {
   "cell_type": "code",
   "execution_count": 8,
   "id": "64c1a4ae",
   "metadata": {},
   "outputs": [
    {
     "name": "stdout",
     "output_type": "stream",
     "text": [
      "Training set score: 0.3391490673\n",
      "Test set score: 0.3305536847\n"
     ]
    }
   ],
   "source": [
    "#RidgeCV w/o log\n",
    "from sklearn.linear_model import RidgeCV\n",
    "\n",
    "alpha_range = [0.0001,0.01, 0.1, 1, 10, 100]\n",
    "\n",
    "ridge = RidgeCV(alphas=alpha_range, cv=5)\n",
    "ridge.fit(x_train,y_train)\n",
    "print(\"Training set score: {:.10f}\".format(ridge.score(x_train, y_train))) \n",
    "print(\"Test set score: {:.10f}\".format(ridge.score(x_test, y_test)))"
   ]
  },
  {
   "cell_type": "code",
   "execution_count": 9,
   "id": "43dea9a4",
   "metadata": {},
   "outputs": [
    {
     "name": "stderr",
     "output_type": "stream",
     "text": [
      "C:\\ProgramData\\Anaconda3\\lib\\site-packages\\seaborn\\distributions.py:2619: FutureWarning: `distplot` is a deprecated function and will be removed in a future version. Please adapt your code to use either `displot` (a figure-level function with similar flexibility) or `histplot` (an axes-level function for histograms).\n",
      "  warnings.warn(msg, FutureWarning)\n"
     ]
    },
    {
     "data": {
      "image/png": "[encoded data removed]",
      "text/plain": [
       "<Figure size 432x288 with 1 Axes>"
      ]
     },
     "metadata": {
      "needs_background": "light"
     },
     "output_type": "display_data"
    }
   ],
   "source": [
    "#log price\n",
    "y_log = np.log(data['price'])\n",
    "y_log.skew()\n",
    "\n",
    "sns.distplot(y_log)\n",
    "plt.show()"
   ]
  },
  {
   "cell_type": "code",
   "execution_count": 10,
   "id": "9292c51d",
   "metadata": {},
   "outputs": [],
   "source": [
    "# New split\n",
    "y = y_log\n",
    "x = data.drop('price', axis=1)\n",
    "\n",
    "x_train, x_test, y_train, y_test = train_test_split(x,y,shuffle=True)\n",
    "\n",
    "x_train = ss.fit_transform(x_train)\n",
    "x_test = ss.fit_transform(x_test)\n"
   ]
  },
  {
   "cell_type": "code",
   "execution_count": 11,
   "id": "727be4b3",
   "metadata": {},
   "outputs": [
    {
     "name": "stdout",
     "output_type": "stream",
     "text": [
      "Training set score: 0.4752998034\n",
      "Test set score: 0.4756031040\n"
     ]
    }
   ],
   "source": [
    "#LinearRigression with log\n",
    "lr.fit(x_train, y_train)\n",
    "\n",
    "print(\"Training set score: {:.10f}\".format(lr.score(x_train, y_train))) \n",
    "print(\"Test set score: {:.10f}\".format(lr.score(x_test, y_test))) "
   ]
  },
  {
   "cell_type": "code",
   "execution_count": 12,
   "id": "aae47d30",
   "metadata": {},
   "outputs": [
    {
     "name": "stdout",
     "output_type": "stream",
     "text": [
      "Training set score: 0.4752997047\n",
      "Test set score: 0.4756057929\n"
     ]
    }
   ],
   "source": [
    "#RidgeCV with log\n",
    "ridge = RidgeCV(alphas=alpha_range, cv=5)\n",
    "ridge.fit(x_train,y_train)\n",
    "print(\"Training set score: {:.10f}\".format(ridge.score(x_train, y_train))) \n",
    "print(\"Test set score: {:.10f}\".format(ridge.score(x_test, y_test)))\n"
   ]
  },
  {
   "cell_type": "code",
   "execution_count": 13,
   "id": "a7517da3",
   "metadata": {},
   "outputs": [
    {
     "data": {
      "text/html": [
       "<div>\n",
       "<style scoped>\n",
       "    .dataframe tbody tr th:only-of-type {\n",
       "        vertical-align: middle;\n",
       "    }\n",
       "\n",
       "    .dataframe tbody tr th {\n",
       "        vertical-align: top;\n",
       "    }\n",
       "\n",
       "    .dataframe thead th {\n",
       "        text-align: right;\n",
       "    }\n",
       "</style>\n",
       "<table border=\"1\" class=\"dataframe\">\n",
       "  <thead>\n",
       "    <tr style=\"text-align: right;\">\n",
       "      <th></th>\n",
       "      <th>coeff</th>\n",
       "      <th>p-value</th>\n",
       "    </tr>\n",
       "  </thead>\n",
       "  <tbody>\n",
       "    <tr>\n",
       "      <th>x1</th>\n",
       "      <td>0.000390</td>\n",
       "      <td>0.98519</td>\n",
       "    </tr>\n",
       "    <tr>\n",
       "      <th>x2</th>\n",
       "      <td>-0.038698</td>\n",
       "      <td>0.06993</td>\n",
       "    </tr>\n",
       "    <tr>\n",
       "      <th>x3</th>\n",
       "      <td>0.254428</td>\n",
       "      <td>0.00000</td>\n",
       "    </tr>\n",
       "    <tr>\n",
       "      <th>x4</th>\n",
       "      <td>-0.195541</td>\n",
       "      <td>0.00000</td>\n",
       "    </tr>\n",
       "    <tr>\n",
       "      <th>x5</th>\n",
       "      <td>0.141406</td>\n",
       "      <td>0.00000</td>\n",
       "    </tr>\n",
       "    <tr>\n",
       "      <th>x6</th>\n",
       "      <td>-0.347139</td>\n",
       "      <td>0.00000</td>\n",
       "    </tr>\n",
       "    <tr>\n",
       "      <th>x7</th>\n",
       "      <td>0.001757</td>\n",
       "      <td>0.93346</td>\n",
       "    </tr>\n",
       "    <tr>\n",
       "      <th>x8</th>\n",
       "      <td>0.152552</td>\n",
       "      <td>0.00000</td>\n",
       "    </tr>\n",
       "    <tr>\n",
       "      <th>x9</th>\n",
       "      <td>-0.073815</td>\n",
       "      <td>0.00059</td>\n",
       "    </tr>\n",
       "    <tr>\n",
       "      <th>x10</th>\n",
       "      <td>0.110633</td>\n",
       "      <td>0.00000</td>\n",
       "    </tr>\n",
       "  </tbody>\n",
       "</table>\n",
       "</div>"
      ],
      "text/plain": [
       "        coeff  p-value\n",
       "x1   0.000390  0.98519\n",
       "x2  -0.038698  0.06993\n",
       "x3   0.254428  0.00000\n",
       "x4  -0.195541  0.00000\n",
       "x5   0.141406  0.00000\n",
       "x6  -0.347139  0.00000\n",
       "x7   0.001757  0.93346\n",
       "x8   0.152552  0.00000\n",
       "x9  -0.073815  0.00059\n",
       "x10  0.110633  0.00000"
      ]
     },
     "execution_count": 13,
     "metadata": {},
     "output_type": "execute_result"
    }
   ],
   "source": [
    "#p-value\n",
    "import statsmodels.api as sm\n",
    "\n",
    "model = sm.OLS(y_train, x_train)\n",
    "res = model.fit()\n",
    "pd.DataFrame({'coeff' : res.params, 'p-value' : round(res.pvalues, 5)})\n"
   ]
  },
  {
   "cell_type": "code",
   "execution_count": 14,
   "id": "b326f394",
   "metadata": {},
   "outputs": [
    {
     "data": {
      "text/html": [
       "<div>\n",
       "<style scoped>\n",
       "    .dataframe tbody tr th:only-of-type {\n",
       "        vertical-align: middle;\n",
       "    }\n",
       "\n",
       "    .dataframe tbody tr th {\n",
       "        vertical-align: top;\n",
       "    }\n",
       "\n",
       "    .dataframe thead th {\n",
       "        text-align: right;\n",
       "    }\n",
       "</style>\n",
       "<table border=\"1\" class=\"dataframe\">\n",
       "  <thead>\n",
       "    <tr style=\"text-align: right;\">\n",
       "      <th></th>\n",
       "      <th>Actual</th>\n",
       "      <th>Predicted</th>\n",
       "    </tr>\n",
       "  </thead>\n",
       "  <tbody>\n",
       "    <tr>\n",
       "      <th>252885</th>\n",
       "      <td>9.328123</td>\n",
       "      <td>9.617212</td>\n",
       "    </tr>\n",
       "    <tr>\n",
       "      <th>304877</th>\n",
       "      <td>7.207860</td>\n",
       "      <td>7.567710</td>\n",
       "    </tr>\n",
       "    <tr>\n",
       "      <th>178508</th>\n",
       "      <td>8.881836</td>\n",
       "      <td>8.651456</td>\n",
       "    </tr>\n",
       "    <tr>\n",
       "      <th>85654</th>\n",
       "      <td>8.294050</td>\n",
       "      <td>8.587562</td>\n",
       "    </tr>\n",
       "    <tr>\n",
       "      <th>358392</th>\n",
       "      <td>7.955074</td>\n",
       "      <td>7.753680</td>\n",
       "    </tr>\n",
       "    <tr>\n",
       "      <th>...</th>\n",
       "      <td>...</td>\n",
       "      <td>...</td>\n",
       "    </tr>\n",
       "    <tr>\n",
       "      <th>46445</th>\n",
       "      <td>7.863267</td>\n",
       "      <td>8.335339</td>\n",
       "    </tr>\n",
       "    <tr>\n",
       "      <th>116161</th>\n",
       "      <td>9.047704</td>\n",
       "      <td>8.289357</td>\n",
       "    </tr>\n",
       "    <tr>\n",
       "      <th>34342</th>\n",
       "      <td>9.159047</td>\n",
       "      <td>10.359525</td>\n",
       "    </tr>\n",
       "    <tr>\n",
       "      <th>244373</th>\n",
       "      <td>7.673223</td>\n",
       "      <td>8.297069</td>\n",
       "    </tr>\n",
       "    <tr>\n",
       "      <th>340242</th>\n",
       "      <td>8.101678</td>\n",
       "      <td>8.349998</td>\n",
       "    </tr>\n",
       "  </tbody>\n",
       "</table>\n",
       "<p>55543 rows × 2 columns</p>\n",
       "</div>"
      ],
      "text/plain": [
       "          Actual  Predicted\n",
       "252885  9.328123   9.617212\n",
       "304877  7.207860   7.567710\n",
       "178508  8.881836   8.651456\n",
       "85654   8.294050   8.587562\n",
       "358392  7.955074   7.753680\n",
       "...          ...        ...\n",
       "46445   7.863267   8.335339\n",
       "116161  9.047704   8.289357\n",
       "34342   9.159047  10.359525\n",
       "244373  7.673223   8.297069\n",
       "340242  8.101678   8.349998\n",
       "\n",
       "[55543 rows x 2 columns]"
      ]
     },
     "execution_count": 14,
     "metadata": {},
     "output_type": "execute_result"
    }
   ],
   "source": [
    "# Correllation\n",
    "y_pred_1 = lr.predict(x_test)\n",
    "df_pred_1 = pd.DataFrame({'Actual' : y_test, 'Predicted' : y_pred_1})\n",
    "df_pred_1"
   ]
  },
  {
   "cell_type": "code",
   "execution_count": 15,
   "id": "355f1212",
   "metadata": {},
   "outputs": [
    {
     "data": {
      "text/html": [
       "<div>\n",
       "<style scoped>\n",
       "    .dataframe tbody tr th:only-of-type {\n",
       "        vertical-align: middle;\n",
       "    }\n",
       "\n",
       "    .dataframe tbody tr th {\n",
       "        vertical-align: top;\n",
       "    }\n",
       "\n",
       "    .dataframe thead th {\n",
       "        text-align: right;\n",
       "    }\n",
       "</style>\n",
       "<table border=\"1\" class=\"dataframe\">\n",
       "  <thead>\n",
       "    <tr style=\"text-align: right;\">\n",
       "      <th></th>\n",
       "      <th>Actual</th>\n",
       "      <th>Predicted</th>\n",
       "    </tr>\n",
       "  </thead>\n",
       "  <tbody>\n",
       "    <tr>\n",
       "      <th>Actual</th>\n",
       "      <td>1.000000</td>\n",
       "      <td>0.689665</td>\n",
       "    </tr>\n",
       "    <tr>\n",
       "      <th>Predicted</th>\n",
       "      <td>0.689665</td>\n",
       "      <td>1.000000</td>\n",
       "    </tr>\n",
       "  </tbody>\n",
       "</table>\n",
       "</div>"
      ],
      "text/plain": [
       "             Actual  Predicted\n",
       "Actual     1.000000   0.689665\n",
       "Predicted  0.689665   1.000000"
      ]
     },
     "execution_count": 15,
     "metadata": {},
     "output_type": "execute_result"
    }
   ],
   "source": [
    "df_pred_1.corr()"
   ]
  },
  {
   "cell_type": "code",
   "execution_count": 16,
   "id": "c27495d6",
   "metadata": {},
   "outputs": [
    {
     "data": {
      "text/html": [
       "<div>\n",
       "<style scoped>\n",
       "    .dataframe tbody tr th:only-of-type {\n",
       "        vertical-align: middle;\n",
       "    }\n",
       "\n",
       "    .dataframe tbody tr th {\n",
       "        vertical-align: top;\n",
       "    }\n",
       "\n",
       "    .dataframe thead th {\n",
       "        text-align: right;\n",
       "    }\n",
       "</style>\n",
       "<table border=\"1\" class=\"dataframe\">\n",
       "  <thead>\n",
       "    <tr style=\"text-align: right;\">\n",
       "      <th></th>\n",
       "      <th>Actual</th>\n",
       "      <th>Predicted</th>\n",
       "    </tr>\n",
       "  </thead>\n",
       "  <tbody>\n",
       "    <tr>\n",
       "      <th>Actual</th>\n",
       "      <td>1.000000</td>\n",
       "      <td>0.715294</td>\n",
       "    </tr>\n",
       "    <tr>\n",
       "      <th>Predicted</th>\n",
       "      <td>0.715294</td>\n",
       "      <td>1.000000</td>\n",
       "    </tr>\n",
       "  </tbody>\n",
       "</table>\n",
       "</div>"
      ],
      "text/plain": [
       "             Actual  Predicted\n",
       "Actual     1.000000   0.715294\n",
       "Predicted  0.715294   1.000000"
      ]
     },
     "execution_count": 16,
     "metadata": {},
     "output_type": "execute_result"
    }
   ],
   "source": [
    "df_pred_1.corr('spearman')"
   ]
  },
  {
   "cell_type": "code",
   "execution_count": 17,
   "id": "24327cdd",
   "metadata": {},
   "outputs": [
    {
     "data": {
      "text/html": [
       "<div>\n",
       "<style scoped>\n",
       "    .dataframe tbody tr th:only-of-type {\n",
       "        vertical-align: middle;\n",
       "    }\n",
       "\n",
       "    .dataframe tbody tr th {\n",
       "        vertical-align: top;\n",
       "    }\n",
       "\n",
       "    .dataframe thead th {\n",
       "        text-align: right;\n",
       "    }\n",
       "</style>\n",
       "<table border=\"1\" class=\"dataframe\">\n",
       "  <thead>\n",
       "    <tr style=\"text-align: right;\">\n",
       "      <th></th>\n",
       "      <th>Actual</th>\n",
       "      <th>Predicted</th>\n",
       "    </tr>\n",
       "  </thead>\n",
       "  <tbody>\n",
       "    <tr>\n",
       "      <th>252885</th>\n",
       "      <td>9.328123</td>\n",
       "      <td>9.616655</td>\n",
       "    </tr>\n",
       "    <tr>\n",
       "      <th>304877</th>\n",
       "      <td>7.207860</td>\n",
       "      <td>7.568147</td>\n",
       "    </tr>\n",
       "    <tr>\n",
       "      <th>178508</th>\n",
       "      <td>8.881836</td>\n",
       "      <td>8.651446</td>\n",
       "    </tr>\n",
       "    <tr>\n",
       "      <th>85654</th>\n",
       "      <td>8.294050</td>\n",
       "      <td>8.587589</td>\n",
       "    </tr>\n",
       "    <tr>\n",
       "      <th>358392</th>\n",
       "      <td>7.955074</td>\n",
       "      <td>7.754036</td>\n",
       "    </tr>\n",
       "    <tr>\n",
       "      <th>...</th>\n",
       "      <td>...</td>\n",
       "      <td>...</td>\n",
       "    </tr>\n",
       "    <tr>\n",
       "      <th>46445</th>\n",
       "      <td>7.863267</td>\n",
       "      <td>8.335443</td>\n",
       "    </tr>\n",
       "    <tr>\n",
       "      <th>116161</th>\n",
       "      <td>9.047704</td>\n",
       "      <td>8.289535</td>\n",
       "    </tr>\n",
       "    <tr>\n",
       "      <th>34342</th>\n",
       "      <td>9.159047</td>\n",
       "      <td>10.358471</td>\n",
       "    </tr>\n",
       "    <tr>\n",
       "      <th>244373</th>\n",
       "      <td>7.673223</td>\n",
       "      <td>8.297163</td>\n",
       "    </tr>\n",
       "    <tr>\n",
       "      <th>340242</th>\n",
       "      <td>8.101678</td>\n",
       "      <td>8.350066</td>\n",
       "    </tr>\n",
       "  </tbody>\n",
       "</table>\n",
       "<p>55543 rows × 2 columns</p>\n",
       "</div>"
      ],
      "text/plain": [
       "          Actual  Predicted\n",
       "252885  9.328123   9.616655\n",
       "304877  7.207860   7.568147\n",
       "178508  8.881836   8.651446\n",
       "85654   8.294050   8.587589\n",
       "358392  7.955074   7.754036\n",
       "...          ...        ...\n",
       "46445   7.863267   8.335443\n",
       "116161  9.047704   8.289535\n",
       "34342   9.159047  10.358471\n",
       "244373  7.673223   8.297163\n",
       "340242  8.101678   8.350066\n",
       "\n",
       "[55543 rows x 2 columns]"
      ]
     },
     "execution_count": 17,
     "metadata": {},
     "output_type": "execute_result"
    }
   ],
   "source": [
    "y_pred_2 = ridge.predict(x_test)\n",
    "df_pred_2 = pd.DataFrame({'Actual' : y_test, 'Predicted' : y_pred_2})\n",
    "df_pred_2"
   ]
  },
  {
   "cell_type": "code",
   "execution_count": 18,
   "id": "d38bcf49",
   "metadata": {},
   "outputs": [
    {
     "data": {
      "text/html": [
       "<div>\n",
       "<style scoped>\n",
       "    .dataframe tbody tr th:only-of-type {\n",
       "        vertical-align: middle;\n",
       "    }\n",
       "\n",
       "    .dataframe tbody tr th {\n",
       "        vertical-align: top;\n",
       "    }\n",
       "\n",
       "    .dataframe thead th {\n",
       "        text-align: right;\n",
       "    }\n",
       "</style>\n",
       "<table border=\"1\" class=\"dataframe\">\n",
       "  <thead>\n",
       "    <tr style=\"text-align: right;\">\n",
       "      <th></th>\n",
       "      <th>Actual</th>\n",
       "      <th>Predicted</th>\n",
       "    </tr>\n",
       "  </thead>\n",
       "  <tbody>\n",
       "    <tr>\n",
       "      <th>Actual</th>\n",
       "      <td>1.000000</td>\n",
       "      <td>0.689666</td>\n",
       "    </tr>\n",
       "    <tr>\n",
       "      <th>Predicted</th>\n",
       "      <td>0.689666</td>\n",
       "      <td>1.000000</td>\n",
       "    </tr>\n",
       "  </tbody>\n",
       "</table>\n",
       "</div>"
      ],
      "text/plain": [
       "             Actual  Predicted\n",
       "Actual     1.000000   0.689666\n",
       "Predicted  0.689666   1.000000"
      ]
     },
     "execution_count": 18,
     "metadata": {},
     "output_type": "execute_result"
    }
   ],
   "source": [
    "df_pred_2.corr()"
   ]
  },
  {
   "cell_type": "code",
   "execution_count": 19,
   "id": "27d0ac95",
   "metadata": {},
   "outputs": [
    {
     "data": {
      "text/html": [
       "<div>\n",
       "<style scoped>\n",
       "    .dataframe tbody tr th:only-of-type {\n",
       "        vertical-align: middle;\n",
       "    }\n",
       "\n",
       "    .dataframe tbody tr th {\n",
       "        vertical-align: top;\n",
       "    }\n",
       "\n",
       "    .dataframe thead th {\n",
       "        text-align: right;\n",
       "    }\n",
       "</style>\n",
       "<table border=\"1\" class=\"dataframe\">\n",
       "  <thead>\n",
       "    <tr style=\"text-align: right;\">\n",
       "      <th></th>\n",
       "      <th>Actual</th>\n",
       "      <th>Predicted</th>\n",
       "    </tr>\n",
       "  </thead>\n",
       "  <tbody>\n",
       "    <tr>\n",
       "      <th>Actual</th>\n",
       "      <td>1.000000</td>\n",
       "      <td>0.715309</td>\n",
       "    </tr>\n",
       "    <tr>\n",
       "      <th>Predicted</th>\n",
       "      <td>0.715309</td>\n",
       "      <td>1.000000</td>\n",
       "    </tr>\n",
       "  </tbody>\n",
       "</table>\n",
       "</div>"
      ],
      "text/plain": [
       "             Actual  Predicted\n",
       "Actual     1.000000   0.715309\n",
       "Predicted  0.715309   1.000000"
      ]
     },
     "execution_count": 19,
     "metadata": {},
     "output_type": "execute_result"
    }
   ],
   "source": [
    "df_pred_2.corr('spearman')"
   ]
  },
  {
   "cell_type": "code",
   "execution_count": 24,
   "id": "de7677f0",
   "metadata": {},
   "outputs": [
    {
     "data": {
      "image/png": "[encoded data removed]",
      "text/plain": [
       "<Figure size 432x288 with 1 Axes>"
      ]
     },
     "metadata": {
      "needs_background": "light"
     },
     "output_type": "display_data"
    }
   ],
   "source": [
    "y_pred = ridge.predict(x_test)\n",
    "plt.plot(y_test, y_pred, '.')\n",
    "x = np.linspace(25,5,25)\n",
    "y = x\n",
    "plt.plot(x,y)\n",
    "plt.show()"
   ]
  }
 ],
 "metadata": {
  "kernelspec": {
   "display_name": "Python 3 (ipykernel)",
   "language": "python",
   "name": "python3"
  },
  "language_info": {
   "codemirror_mode": {
    "name": "ipython",
    "version": 3
   },
   "file_extension": ".py",
   "mimetype": "text/x-python",
   "name": "python",
   "nbconvert_exporter": "python",
   "pygments_lexer": "ipython3",
   "version": "3.9.7"
  }
 },
 "nbformat": 4,
 "nbformat_minor": 5
}
