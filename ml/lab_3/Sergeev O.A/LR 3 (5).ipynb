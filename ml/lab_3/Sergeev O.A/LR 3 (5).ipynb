{
 "cells": [
  {
   "cell_type": "markdown",
   "id": "b5566727",
   "metadata": {},
   "source": [
    "Вариант 46"
   ]
  },
  {
   "cell_type": "markdown",
   "id": "fdebf798",
   "metadata": {},
   "source": [
    "# Набор данных:"
   ]
  },
  {
   "cell_type": "markdown",
   "id": "42fd9729",
   "metadata": {},
   "source": [
    "6 (occupancy)"
   ]
  },
  {
   "cell_type": "markdown",
   "id": "7a8a276b",
   "metadata": {},
   "source": [
    "Классификаторы:"
   ]
  },
  {
   "cell_type": "markdown",
   "id": "a520655a",
   "metadata": {},
   "source": [
    "1 - классификатор k ближайших соседей (задается количество ближайших объектов);"
   ]
  },
  {
   "cell_type": "markdown",
   "id": "57ce021d",
   "metadata": {},
   "source": [
    "3 – линейный классификатор (персептрон);"
   ]
  },
  {
   "cell_type": "markdown",
   "id": "2b34ede4",
   "metadata": {},
   "source": [
    "# Задание"
   ]
  },
  {
   "cell_type": "markdown",
   "id": "3082aab2",
   "metadata": {},
   "source": [
    "1.Изучить набор данных. Создать описание набора данных на русском языке. Описать признаки, используемые в наборе данных (включить полученные описания в отчёт)."
   ]
  },
  {
   "cell_type": "markdown",
   "id": "7273aada",
   "metadata": {},
   "source": [
    "2.Удалите дубликаты строк в наборе данных; приведите размер набора данных до и после данной операции;"
   ]
  },
  {
   "cell_type": "markdown",
   "id": "b2b0886f",
   "metadata": {},
   "source": [
    "3.Оцените сбалансированность данных по классам (постройте гистограмму). Используйте полученную информацию при выборе метрики оценки качества классификации (PR или ROC кривая)"
   ]
  },
  {
   "cell_type": "markdown",
   "id": "53dc865a",
   "metadata": {},
   "source": [
    "4.Выполните масштабирование количественных признаков; Постройте диаграммы BoxPlot для признаков до и после масштабирования. Выберите способ масштабирования (например, нормализацию или стандартизацию);"
   ]
  },
  {
   "cell_type": "markdown",
   "id": "6e3cac69",
   "metadata": {},
   "source": [
    "5.Выполните замену категориальных признаков; выберите и обоснуйте способ замены;"
   ]
  },
  {
   "cell_type": "markdown",
   "id": "d6524e3a",
   "metadata": {},
   "source": [
    "6.Оцените корреляцию между признаков и удалите те признаки, которые коррелируют с наибольшим числом других (удалять признаки нужно только для линейных методов классификации);"
   ]
  },
  {
   "cell_type": "markdown",
   "id": "8d333d3d",
   "metadata": {},
   "source": [
    "7.Заполните пропущенные значения в данных;"
   ]
  },
  {
   "cell_type": "markdown",
   "id": "16557b14",
   "metadata": {},
   "source": [
    "8.Решите поставленную задачу классификации в соответствии с заданием. При подборе параметров классификатора используйте метод GridSearchCV и перекрёстную проверку (изучите возможные для изменения параметры классификации). Оцените качество работы классификатора."
   ]
  },
  {
   "cell_type": "markdown",
   "id": "e779f1e5",
   "metadata": {},
   "source": [
    "# 1.Изучить набор данных. Создать описание набора данных на русском языке. Описать признаки, используемые в наборе данных"
   ]
  },
  {
   "cell_type": "code",
   "execution_count": 3,
   "id": "a58f08b0",
   "metadata": {},
   "outputs": [
    {
     "data": {
      "text/html": [
       "<div>\n",
       "<style scoped>\n",
       "    .dataframe tbody tr th:only-of-type {\n",
       "        vertical-align: middle;\n",
       "    }\n",
       "\n",
       "    .dataframe tbody tr th {\n",
       "        vertical-align: top;\n",
       "    }\n",
       "\n",
       "    .dataframe thead th {\n",
       "        text-align: right;\n",
       "    }\n",
       "</style>\n",
       "<table border=\"1\" class=\"dataframe\">\n",
       "  <thead>\n",
       "    <tr style=\"text-align: right;\">\n",
       "      <th></th>\n",
       "      <th>date</th>\n",
       "      <th>Temperature</th>\n",
       "      <th>Humidity</th>\n",
       "      <th>Light</th>\n",
       "      <th>CO2</th>\n",
       "      <th>HumidityRatio</th>\n",
       "      <th>Occupancy</th>\n",
       "    </tr>\n",
       "  </thead>\n",
       "  <tbody>\n",
       "    <tr>\n",
       "      <th>1</th>\n",
       "      <td>2015-02-04 17:51:00</td>\n",
       "      <td>23.18</td>\n",
       "      <td>27.2720</td>\n",
       "      <td>426.0</td>\n",
       "      <td>721.25</td>\n",
       "      <td>0.004793</td>\n",
       "      <td>1</td>\n",
       "    </tr>\n",
       "    <tr>\n",
       "      <th>2</th>\n",
       "      <td>2015-02-04 17:51:59</td>\n",
       "      <td>23.15</td>\n",
       "      <td>27.2675</td>\n",
       "      <td>429.5</td>\n",
       "      <td>714.00</td>\n",
       "      <td>0.004783</td>\n",
       "      <td>1</td>\n",
       "    </tr>\n",
       "    <tr>\n",
       "      <th>3</th>\n",
       "      <td>2015-02-04 17:53:00</td>\n",
       "      <td>23.15</td>\n",
       "      <td>27.2450</td>\n",
       "      <td>426.0</td>\n",
       "      <td>713.50</td>\n",
       "      <td>0.004779</td>\n",
       "      <td>1</td>\n",
       "    </tr>\n",
       "    <tr>\n",
       "      <th>4</th>\n",
       "      <td>2015-02-04 17:54:00</td>\n",
       "      <td>23.15</td>\n",
       "      <td>27.2000</td>\n",
       "      <td>426.0</td>\n",
       "      <td>708.25</td>\n",
       "      <td>0.004772</td>\n",
       "      <td>1</td>\n",
       "    </tr>\n",
       "    <tr>\n",
       "      <th>5</th>\n",
       "      <td>2015-02-04 17:55:00</td>\n",
       "      <td>23.10</td>\n",
       "      <td>27.2000</td>\n",
       "      <td>426.0</td>\n",
       "      <td>704.50</td>\n",
       "      <td>0.004757</td>\n",
       "      <td>1</td>\n",
       "    </tr>\n",
       "  </tbody>\n",
       "</table>\n",
       "</div>"
      ],
      "text/plain": [
       "                  date  Temperature  Humidity  Light     CO2  HumidityRatio  \\\n",
       "1  2015-02-04 17:51:00        23.18   27.2720  426.0  721.25       0.004793   \n",
       "2  2015-02-04 17:51:59        23.15   27.2675  429.5  714.00       0.004783   \n",
       "3  2015-02-04 17:53:00        23.15   27.2450  426.0  713.50       0.004779   \n",
       "4  2015-02-04 17:54:00        23.15   27.2000  426.0  708.25       0.004772   \n",
       "5  2015-02-04 17:55:00        23.10   27.2000  426.0  704.50       0.004757   \n",
       "\n",
       "   Occupancy  \n",
       "1          1  \n",
       "2          1  \n",
       "3          1  \n",
       "4          1  \n",
       "5          1  "
      ]
     },
     "execution_count": 3,
     "metadata": {},
     "output_type": "execute_result"
    }
   ],
   "source": [
    "import pandas as pd\n",
    "import matplotlib.pyplot as plt\n",
    "import numpy as np\n",
    "import seaborn as sns\n",
    "# Подключаем scikit-learn - библиотеку машинного обучения Python\n",
    "# Библиотека использумется для построения моделей обучения как с учителем, так и без\n",
    "import sklearn as skl\n",
    "# Подключаем модуль preprocessing из библиотеки sklearn\n",
    "# Этот модуль предназначен для предварительной обработки данных\n",
    "# Его классы могут использоваться для стандартизации, регуляции, заполнения недостающих данных и тд.\n",
    "from sklearn import preprocessing\n",
    "# класс MinMaxScaler мастабирует данные в диапазоне от 0 до 1\n",
    "from sklearn.preprocessing import MinMaxScaler\n",
    "# класс train_test_split позволяет случайным образом разбивать данные на подмножества\n",
    "from sklearn.model_selection import train_test_split\n",
    "# класс GridSeachCV автоматически подбирает параметры для моделей машинного обучения\n",
    "from sklearn.model_selection import GridSearchCV\n",
    "# класс Perceptron - реализация модели персептрона в scikit-team.\n",
    "# Модель перцептрона - простейший тип искуственной неронной сети\n",
    "# Используется для задач классификации двух классов \n",
    "from sklearn.linear_model import Perceptron\n",
    "# Класс KNeighborsClassifier - реализация в модели классификации ближайших соседей в scikit-team\n",
    "from sklearn.neighbors import KNeighborsClassifier\n",
    "# Класс CalibratedClassifierCV используется для калибровки вероятности с помощью изотонической или логической регрессии\n",
    "from sklearn.calibration import CalibratedClassifierCV\n",
    "# Из модуля metrics импортируем:\n",
    "# 1) accuracy_score - функция, вычисляющая точность, фракции, или количество правильных предсказаний\n",
    "from sklearn.metrics import accuracy_score\n",
    "# 2) precision_recall_curve - функция для построения кривых preсision-recall\n",
    "from sklearn.metrics import precision_recall_curve\n",
    "# 3) average_precision_score - метрика для задач классификации\n",
    "# Она вычисляет среднюю точность оценок предсказаний\n",
    "# Используется для решения задач бинарной классификации\n",
    "from sklearn.metrics import average_precision_score\n",
    "# 4) roc_curve - функция для построения ROC-кривых\n",
    "from sklearn.metrics import roc_curve\n",
    "# 5) AUC - показатель, который дает количественная интерпретация ROC\n",
    "from sklearn.metrics import auc\n",
    "# Библиотека warnings cлужит для управления предупреждениями\n",
    "import warnings\n",
    "# Скрываем предупреждения по умолчанию\n",
    "warnings.simplefilter(\"ignore\")\n",
    "%matplotlib inline\n",
    "\n",
    "#Читаем данные и создаем объект DataFrame\n",
    "data = pd.read_csv('datatraining.txt')\n",
    "occupancy = pd.DataFrame(data)\n",
    "occupancy.head()"
   ]
  },
  {
   "cell_type": "markdown",
   "id": "7efa12b2",
   "metadata": {},
   "source": [
    "Атрибуты:"
   ]
  },
  {
   "cell_type": "markdown",
   "id": "7183c87e",
   "metadata": {},
   "source": [
    "1.Дата (год-месяц-день) и время (час-минута-секунда)"
   ]
  },
  {
   "cell_type": "markdown",
   "id": "2c324864",
   "metadata": {},
   "source": [
    "2.Температура, в градусах Цельсия"
   ]
  },
  {
   "cell_type": "markdown",
   "id": "4b89d92f",
   "metadata": {},
   "source": [
    "3.Относительная влажность, %"
   ]
  },
  {
   "cell_type": "markdown",
   "id": "8c940e86",
   "metadata": {},
   "source": [
    "4.Свет, в люксах"
   ]
  },
  {
   "cell_type": "markdown",
   "id": "5261d5ec",
   "metadata": {},
   "source": [
    "5.CO2, в ppm (1ppm= 1мг/кг)"
   ]
  },
  {
   "cell_type": "markdown",
   "id": "55981d34",
   "metadata": {},
   "source": [
    "6.Удельная влажность, в кг воды-пара/кг воздуха"
   ]
  },
  {
   "cell_type": "markdown",
   "id": "251a5dc5",
   "metadata": {},
   "source": [
    "7.Заполняемость, 0 или 1, 0 для незанятого, 1 для занятого статуса"
   ]
  },
  {
   "cell_type": "markdown",
   "id": "3cd4efb0",
   "metadata": {},
   "source": [
    "# 2. Удалите дубликаты строк в наборе данных; приведите размер набора данных до и после данной операции;"
   ]
  },
  {
   "cell_type": "code",
   "execution_count": 4,
   "id": "1ce4eff0",
   "metadata": {},
   "outputs": [
    {
     "name": "stdout",
     "output_type": "stream",
     "text": [
      "До удаления дубликатов: (8143, 7)\n",
      "После удаления дубликатов: (8143, 7)\n"
     ]
    }
   ],
   "source": [
    "# Удаляем дубликаты\n",
    "occUniq = occupancy.drop_duplicates()\n",
    "# Подсчитываем размер набора данных после удаления дубликатов\n",
    "occUniq.count()\n",
    "# Выводим количество строк и столбцов до и после данной операции\n",
    "print('До удаления дубликатов:', occupancy.shape)\n",
    "print('После удаления дубликатов:', occUniq.shape)"
   ]
  },
  {
   "cell_type": "markdown",
   "id": "0a3e9dd4",
   "metadata": {},
   "source": [
    "# 3. Оцените сбалансированность данных по классам (постройте гистограмму)"
   ]
  },
  {
   "cell_type": "code",
   "execution_count": 5,
   "id": "4a37a1ee",
   "metadata": {},
   "outputs": [
    {
     "data": {
      "text/plain": [
       "<AxesSubplot:xlabel='Occupancy', ylabel='count'>"
      ]
     },
     "execution_count": 5,
     "metadata": {},
     "output_type": "execute_result"
    },
    {
     "data": {
      "image/png": "[encoded data removed]",
      "text/plain": [
       "<Figure size 432x288 with 1 Axes>"
      ]
     },
     "metadata": {
      "needs_background": "light"
     },
     "output_type": "display_data"
    }
   ],
   "source": [
    "# Подключаем библиотеку для построения диаграмм seaborn\n",
    "import seaborn as sns\n",
    "# Строим гистограмму, беря за x столбец \"Заполняемость\"\n",
    "sns.countplot(data = occUniq, x = \"Occupancy\")"
   ]
  },
  {
   "cell_type": "markdown",
   "id": "961aae48",
   "metadata": {},
   "source": [
    "# 4.\tВыполните масштабирование количественных признаков; Постройте диаграммы BoxPlot для признаков до и после масштабирования. Выберите способ масштабирования (например, нормализацию или стандартизацию)"
   ]
  },
  {
   "cell_type": "code",
   "execution_count": 6,
   "id": "e501f263",
   "metadata": {},
   "outputs": [
    {
     "data": {
      "text/plain": [
       "<AxesSubplot:>"
      ]
     },
     "execution_count": 6,
     "metadata": {},
     "output_type": "execute_result"
    },
    {
     "data": {
      "image/png": "[encoded data removed]",
      "text/plain": [
       "<Figure size 432x288 with 1 Axes>"
      ]
     },
     "metadata": {
      "needs_background": "light"
     },
     "output_type": "display_data"
    }
   ],
   "source": [
    "# Диаграмма до мастабирования\n",
    "sns.boxplot(data = occupancy[['Temperature', 'Humidity', 'Light', 'CO2', 'HumidityRatio']])"
   ]
  },
  {
   "cell_type": "code",
   "execution_count": 7,
   "id": "09cd43bc",
   "metadata": {},
   "outputs": [
    {
     "data": {
      "text/plain": [
       "<AxesSubplot:>"
      ]
     },
     "execution_count": 7,
     "metadata": {},
     "output_type": "execute_result"
    },
    {
     "data": {
      "image/png": "[encoded data removed]",
      "text/plain": [
       "<Figure size 432x288 with 1 Axes>"
      ]
     },
     "metadata": {
      "needs_background": "light"
     },
     "output_type": "display_data"
    }
   ],
   "source": [
    "# Производим нормализацию числовых признаков\n",
    "# Создаем объект класса MinMaxScaler\n",
    "scaler = preprocessing.MinMaxScaler()\n",
    "# Преобразуем набор данных с помощью функции fit_transform и затем присваиваем измененные данные объекту occupancy\n",
    "occupancy[['Temperature', 'Humidity', 'Light', 'CO2', 'HumidityRatio']] = scaler.fit_transform(occupancy[['Temperature', 'Humidity', 'Light', 'CO2', 'HumidityRatio']])\n",
    "# Cтроим отмастабированную диаграмму\n",
    "sns.boxplot(data = occupancy[['Temperature', 'Humidity', 'Light', 'CO2', 'HumidityRatio']])"
   ]
  },
  {
   "cell_type": "markdown",
   "id": "aeccb79f",
   "metadata": {},
   "source": [
    "# 5.\tВыполните замену категориальных признаков; выберите и обоснуйте способ замены"
   ]
  },
  {
   "cell_type": "markdown",
   "id": "e310335a",
   "metadata": {},
   "source": [
    "Категориальные признаки отсутствуют"
   ]
  },
  {
   "cell_type": "markdown",
   "id": "1bf201d9",
   "metadata": {},
   "source": [
    "# 6.\tОцените корреляцию между признаков и удалите те признаки, которые коррелируют с наибольшим числом других (удалять признаки нужно только для линейных методов классификации);"
   ]
  },
  {
   "cell_type": "code",
   "execution_count": 8,
   "id": "bebb20f9",
   "metadata": {},
   "outputs": [
    {
     "data": {
      "text/plain": [
       "<AxesSubplot:>"
      ]
     },
     "execution_count": 8,
     "metadata": {},
     "output_type": "execute_result"
    },
    {
     "data": {
      "image/png": "[encoded data removed]",
      "text/plain": [
       "<Figure size 432x288 with 2 Axes>"
      ]
     },
     "metadata": {
      "needs_background": "light"
     },
     "output_type": "display_data"
    }
   ],
   "source": [
    "# Находим корреляцию\n",
    "CorrOcc = occupancy.drop('Occupancy', axis = 1).corr()\n",
    "# Строим тепловую карту признаков для оценки корреляции\n",
    "sns.heatmap(CorrOcc, annot = True)"
   ]
  },
  {
   "cell_type": "markdown",
   "id": "4a8e3616",
   "metadata": {},
   "source": [
    "# 7. Заполните пропущенные значения в данных"
   ]
  },
  {
   "cell_type": "code",
   "execution_count": 9,
   "id": "8e36f1fb",
   "metadata": {},
   "outputs": [
    {
     "data": {
      "text/plain": [
       "(8143, 7)"
      ]
     },
     "execution_count": 9,
     "metadata": {},
     "output_type": "execute_result"
    }
   ],
   "source": [
    "# узнаем размер массива (количество строк и столбцов) с помощью метода shape:\n",
    "occupancy.shape"
   ]
  },
  {
   "cell_type": "code",
   "execution_count": 10,
   "id": "254b7170",
   "metadata": {},
   "outputs": [
    {
     "data": {
      "text/plain": [
       "date             8143\n",
       "Temperature      8143\n",
       "Humidity         8143\n",
       "Light            8143\n",
       "CO2              8143\n",
       "HumidityRatio    8143\n",
       "Occupancy        8143\n",
       "dtype: int64"
      ]
     },
     "execution_count": 10,
     "metadata": {},
     "output_type": "execute_result"
    }
   ],
   "source": [
    "# Подсчитываем количество значений во всех столбцах методом count\n",
    "occupancy.count()"
   ]
  },
  {
   "cell_type": "markdown",
   "id": "aa6b2f6a",
   "metadata": {},
   "source": [
    "Пропущенных значений нет"
   ]
  },
  {
   "cell_type": "markdown",
   "id": "2fe24799",
   "metadata": {},
   "source": [
    "# Решите поставленную задачу классификации в соответствии с заданием. При подборе параметров классификатора используйте метод GridSearchCV и перекрёстную проверку (изучите возможные для изменения параметры классификации). Оцените качество работы классификатора."
   ]
  },
  {
   "cell_type": "code",
   "execution_count": 11,
   "id": "d1cc2b8e",
   "metadata": {},
   "outputs": [
    {
     "data": {
      "text/html": [
       "<div>\n",
       "<style scoped>\n",
       "    .dataframe tbody tr th:only-of-type {\n",
       "        vertical-align: middle;\n",
       "    }\n",
       "\n",
       "    .dataframe tbody tr th {\n",
       "        vertical-align: top;\n",
       "    }\n",
       "\n",
       "    .dataframe thead th {\n",
       "        text-align: right;\n",
       "    }\n",
       "</style>\n",
       "<table border=\"1\" class=\"dataframe\">\n",
       "  <thead>\n",
       "    <tr style=\"text-align: right;\">\n",
       "      <th></th>\n",
       "      <th>date</th>\n",
       "      <th>Temperature</th>\n",
       "      <th>Humidity</th>\n",
       "      <th>Light</th>\n",
       "      <th>CO2</th>\n",
       "      <th>HumidityRatio</th>\n",
       "      <th>Occupancy</th>\n",
       "    </tr>\n",
       "  </thead>\n",
       "  <tbody>\n",
       "    <tr>\n",
       "      <th>1</th>\n",
       "      <td>2015-02-11 14:48:00</td>\n",
       "      <td>21.7600</td>\n",
       "      <td>31.133333</td>\n",
       "      <td>437.333333</td>\n",
       "      <td>1029.666667</td>\n",
       "      <td>0.005021</td>\n",
       "      <td>1</td>\n",
       "    </tr>\n",
       "    <tr>\n",
       "      <th>2</th>\n",
       "      <td>2015-02-11 14:49:00</td>\n",
       "      <td>21.7900</td>\n",
       "      <td>31.000000</td>\n",
       "      <td>437.333333</td>\n",
       "      <td>1000.000000</td>\n",
       "      <td>0.005009</td>\n",
       "      <td>1</td>\n",
       "    </tr>\n",
       "    <tr>\n",
       "      <th>3</th>\n",
       "      <td>2015-02-11 14:50:00</td>\n",
       "      <td>21.7675</td>\n",
       "      <td>31.122500</td>\n",
       "      <td>434.000000</td>\n",
       "      <td>1003.750000</td>\n",
       "      <td>0.005022</td>\n",
       "      <td>1</td>\n",
       "    </tr>\n",
       "    <tr>\n",
       "      <th>4</th>\n",
       "      <td>2015-02-11 14:51:00</td>\n",
       "      <td>21.7675</td>\n",
       "      <td>31.122500</td>\n",
       "      <td>439.000000</td>\n",
       "      <td>1009.500000</td>\n",
       "      <td>0.005022</td>\n",
       "      <td>1</td>\n",
       "    </tr>\n",
       "    <tr>\n",
       "      <th>5</th>\n",
       "      <td>2015-02-11 14:51:59</td>\n",
       "      <td>21.7900</td>\n",
       "      <td>31.133333</td>\n",
       "      <td>437.333333</td>\n",
       "      <td>1005.666667</td>\n",
       "      <td>0.005030</td>\n",
       "      <td>1</td>\n",
       "    </tr>\n",
       "  </tbody>\n",
       "</table>\n",
       "</div>"
      ],
      "text/plain": [
       "                  date  Temperature   Humidity       Light          CO2  \\\n",
       "1  2015-02-11 14:48:00      21.7600  31.133333  437.333333  1029.666667   \n",
       "2  2015-02-11 14:49:00      21.7900  31.000000  437.333333  1000.000000   \n",
       "3  2015-02-11 14:50:00      21.7675  31.122500  434.000000  1003.750000   \n",
       "4  2015-02-11 14:51:00      21.7675  31.122500  439.000000  1009.500000   \n",
       "5  2015-02-11 14:51:59      21.7900  31.133333  437.333333  1005.666667   \n",
       "\n",
       "   HumidityRatio  Occupancy  \n",
       "1       0.005021          1  \n",
       "2       0.005009          1  \n",
       "3       0.005022          1  \n",
       "4       0.005022          1  \n",
       "5       0.005030          1  "
      ]
     },
     "execution_count": 11,
     "metadata": {},
     "output_type": "execute_result"
    }
   ],
   "source": [
    "# Загрузим тестовую выборку\n",
    "occ_test = pd.read_csv('datatest2.txt')\n",
    "occ_test.head()"
   ]
  },
  {
   "cell_type": "markdown",
   "id": "559a03f5",
   "metadata": {},
   "source": [
    "Проведем нормализацию"
   ]
  },
  {
   "cell_type": "code",
   "execution_count": 12,
   "id": "e08c2384",
   "metadata": {},
   "outputs": [],
   "source": [
    "#Для удобства отделим числовые столбцы от прочих\n",
    "numerical_columns = [i for i in occ_test.columns[1:6] if occ_test[i].dtype.name != 'object']\n",
    "antinumerical_columns = [i for i in occ_test.columns[1:6] if occ_test[i].dtype.name == 'object']"
   ]
  },
  {
   "cell_type": "code",
   "execution_count": 13,
   "id": "cebfc6db",
   "metadata": {},
   "outputs": [
    {
     "data": {
      "text/plain": [
       "<AxesSubplot:>"
      ]
     },
     "execution_count": 13,
     "metadata": {},
     "output_type": "execute_result"
    },
    {
     "data": {
      "image/png": "[encoded data removed]",
      "text/plain": [
       "<Figure size 432x288 with 1 Axes>"
      ]
     },
     "metadata": {
      "needs_background": "light"
     },
     "output_type": "display_data"
    }
   ],
   "source": [
    "# Диаграмма до мастабирования\n",
    "sns.boxplot(data = occ_test[numerical_columns])"
   ]
  },
  {
   "cell_type": "code",
   "execution_count": 14,
   "id": "796fc57f",
   "metadata": {},
   "outputs": [
    {
     "data": {
      "text/plain": [
       "<AxesSubplot:>"
      ]
     },
     "execution_count": 14,
     "metadata": {},
     "output_type": "execute_result"
    },
    {
     "data": {
      "image/png": "[encoded data removed]",
      "text/plain": [
       "<Figure size 432x288 with 1 Axes>"
      ]
     },
     "metadata": {
      "needs_background": "light"
     },
     "output_type": "display_data"
    }
   ],
   "source": [
    "# Проводим нормализацию\n",
    "scaler = preprocessing.MinMaxScaler()\n",
    "# Преобразуем набор данных с помощью функции fit_transform и затем присваиваем измененные данные объекту occupancy\n",
    "occ_test[numerical_columns] = scaler.fit_transform(occ_test[numerical_columns])\n",
    "# Cтроим отмастабированную диаграмму\n",
    "sns.boxplot(data = occ_test[numerical_columns])"
   ]
  },
  {
   "cell_type": "code",
   "execution_count": 15,
   "id": "4f08ade6",
   "metadata": {},
   "outputs": [
    {
     "data": {
      "text/plain": [
       "(9752, 7)"
      ]
     },
     "execution_count": 15,
     "metadata": {},
     "output_type": "execute_result"
    }
   ],
   "source": [
    "occ_test.shape"
   ]
  },
  {
   "cell_type": "code",
   "execution_count": 16,
   "id": "fbd86c69",
   "metadata": {},
   "outputs": [
    {
     "data": {
      "text/plain": [
       "date             9752\n",
       "Temperature      9752\n",
       "Humidity         9752\n",
       "Light            9752\n",
       "CO2              9752\n",
       "HumidityRatio    9752\n",
       "Occupancy        9752\n",
       "dtype: int64"
      ]
     },
     "execution_count": 16,
     "metadata": {},
     "output_type": "execute_result"
    }
   ],
   "source": [
    "occ_test.count()"
   ]
  },
  {
   "cell_type": "markdown",
   "id": "b11f7098",
   "metadata": {},
   "source": [
    "Пропущенных данных нет"
   ]
  },
  {
   "cell_type": "markdown",
   "id": "109746b5",
   "metadata": {},
   "source": [
    "Релизуем классификацию методом k ближайших соседей:"
   ]
  },
  {
   "cell_type": "code",
   "execution_count": 17,
   "id": "c939c4d0",
   "metadata": {},
   "outputs": [],
   "source": [
    "# Входные и выходные данные тренировочной выборки\n",
    "x_train, y_train = occupancy[numerical_columns], occupancy['Occupancy']\n",
    "# Входные и выходные данные тестовой выборки\n",
    "x_test, y_test = occ_test[numerical_columns], occ_test['Occupancy'] "
   ]
  },
  {
   "cell_type": "code",
   "execution_count": 18,
   "id": "843d6c45",
   "metadata": {},
   "outputs": [
    {
     "name": "stdout",
     "output_type": "stream",
     "text": [
      "best brain score:  0.9328218726008781 | at neighbours number:  44\n",
      "test score: 0.9487284659557014\n"
     ]
    }
   ],
   "source": [
    "# Создаем объект класса \"Классификатор ближайших соседей\"\n",
    "knn = KNeighborsClassifier()\n",
    "\n",
    "# Найдем оптимальные параметры для классификатора с помощью GridSearchCV\n",
    "# В нашем случае параметр - это количество k ближайших соседей, по которым и будет классифицироваться рассматриваемый объект\n",
    "# Следовательно, нам нужно получить такое количество ближайших соседей, при сравнении с которым объект будет классифицирован с максимальной точностью\n",
    "# В этом нам и поможет GridSearchCV. В него первым параметром передаем наш классификатор, а вторым - возможное кол-во ближайших соседей (у нас оно от 1 до 50)\n",
    "# n_neighbors - количество соседей\n",
    "knn_grid = GridSearchCV(knn, dict(n_neighbors = [x for x in range(1,50)]))\n",
    "# Тренируем модель передав ей входные и выходные данные обучающей выборки\n",
    "knn_grid.fit(x_train, y_train)\n",
    "# На выходе получаем оптимальное число ближайших соседей\n",
    "selected_n_neighbors = knn_grid.best_estimator_.n_neighbors\n",
    "# А также точность предсказаний при таком k\n",
    "best_score = knn_grid.best_score_\n",
    "print('best brain score: ', best_score, '| at neighbours number: ', selected_n_neighbors)\n",
    "\n",
    "# Создаем модель knn по нашим оптимальным данным\n",
    "knn = KNeighborsClassifier(n_neighbors=selected_n_neighbors)\n",
    "# Тренируем ее\n",
    "knn.fit(x_train, y_train)\n",
    "# Выясняем в каком проценте случаев классификатор дает верный результат\n",
    "# Для этого используем метод predict класса KNeighborsClassifier\n",
    "# Передаем ему признаки тестовой выборки и на выходе получаем предсказание к какому классу относится данный объект\n",
    "# Сравниваем предсказанное значение с настоящим классом данного объекта (содержится в массиве y_test)\n",
    "# Если результат верный, на выходе получаем 1, если нет – 0. \n",
    "# С помощью np_mean находим среднее арифметическое всех нулей и единиц и получаем точность. \n",
    "best_score = np.mean(y_test == knn.predict(x_test))\n",
    "print('test score:', best_score)"
   ]
  },
  {
   "cell_type": "markdown",
   "id": "9e7c986d",
   "metadata": {},
   "source": [
    "Реализуем линейный классификатор (персептрон):"
   ]
  },
  {
   "cell_type": "code",
   "execution_count": 19,
   "id": "c107a081",
   "metadata": {},
   "outputs": [
    {
     "name": "stdout",
     "output_type": "stream",
     "text": [
      "best score: 0.9766651131292015 | alpha: 0.05263157894736842 | max_iter: 3\n",
      "test score:  0.9638022969647252\n"
     ]
    }
   ],
   "source": [
    "# Создаем объект класса Персептрон\n",
    "slf = Perceptron()\n",
    "# Найдем оптимальные параметры для классификатора\n",
    "# alpfa - константа, которая умножает член регуляризации\n",
    "# Регуляризация - это метод добавления некоторых дополнительных ограничений к условию\n",
    "# Чтобы предотвратить некорректное решение поставленной задачи или переобучение\n",
    "# max_iter - Максимальное количество проходов над данными обучения (иначе говоря, эпохи)\n",
    "# Каждая эпоха - это итерация обучения перцептрона, во время которой он \"подгоняет\" веса так, чтобы на выходе получить верный ответ\n",
    "# alpha может принять одно из значений числовой последовательности с равным шагом из 20 эл-тов\n",
    "# Последовательность от 0 до 1\n",
    "# jobs = -1 означает, что мы используем для вычисления все процессоры\n",
    "paramsearch = GridSearchCV(estimator=slf, param_grid=dict(alpha=np.linspace(0,1,20)[1:],max_iter=[x for x in range(1,50)]), n_jobs=-1)\n",
    "# Тренируем модель с целью получения оптимальных параметров\n",
    "paramsearch.fit(x_train, y_train)\n",
    "# Получаем точность предсказаний лучшей модели\n",
    "best_score = paramsearch.best_score_\n",
    "# Получаем параметры лучшей модели\n",
    "selected_alpha = paramsearch.best_estimator_.alpha\n",
    "selected_max_iter = paramsearch.best_estimator_.max_iter\n",
    "print('best score:',best_score,'| alpha:',selected_alpha, '| max_iter:', selected_max_iter)\n",
    "\n",
    "#создаем модель персептрона по нашим оптимальным данным\n",
    "perceptron = skl.linear_model.Perceptron(alpha=selected_alpha,max_iter=selected_max_iter)\n",
    "#тренируем ее\n",
    "perceptron.fit(x_train, y_train)\n",
    "#смотрим в каком проценте случаев классификатор дает верный результат\n",
    "test_score  = np.mean(y_test == perceptron.predict(x_test))\n",
    "print('test score: ', test_score)"
   ]
  },
  {
   "cell_type": "markdown",
   "id": "1268cc69",
   "metadata": {},
   "source": [
    "Для построения ROC и PR кривых необходимо получить вероятности принадлежности примера к одному из классов, а затем варьировать границу выбора класса. Вероятности можно получить с помощью метода predict_proba"
   ]
  },
  {
   "cell_type": "code",
   "execution_count": 20,
   "id": "5b08589d",
   "metadata": {},
   "outputs": [
    {
     "data": {
      "text/plain": [
       "<Figure size 720x576 with 0 Axes>"
      ]
     },
     "metadata": {},
     "output_type": "display_data"
    }
   ],
   "source": [
    "plt.figure(figsize=(10,8))\n",
    "y_test_invers = []\n",
    "for i, y in enumerate(y_test.reset_index(drop=True)):\n",
    "    y_test_invers.append(1-y)\n",
    "    \n",
    "probas_knn = knn.fit(x_train, y_train).predict_proba(x_test)\n",
    "\n",
    "#Откалибруем линейный классификатор\n",
    "#cv - кратность перекрестной проверки\n",
    "#method - метод калибровки, так как у нас записей больше 1000 то рекомендуется использовать isotonic\n",
    "# если же данных << 1000 то sigmoid\n",
    "clf_isotonic = CalibratedClassifierCV(perceptron, cv=10, method='isotonic')\n",
    "clf_isotonic.fit(x_train, y_train)\n",
    "probas_slf = clf_isotonic.predict_proba(x_test)"
   ]
  },
  {
   "cell_type": "markdown",
   "id": "92842416",
   "metadata": {},
   "source": [
    "PR кривые"
   ]
  },
  {
   "cell_type": "code",
   "execution_count": 23,
   "id": "ec1286fb",
   "metadata": {},
   "outputs": [
    {
     "data": {
      "image/png": "[encoded data removed]",
      "text/plain": [
       "<Figure size 432x288 with 1 Axes>"
      ]
     },
     "metadata": {
      "needs_background": "light"
     },
     "output_type": "display_data"
    }
   ],
   "source": [
    "# K соседей\n",
    "precision, recall, thresholds = precision_recall_curve(y_test_invers, probas_knn[:,0])\n",
    "aps_knn0 = average_precision_score(y_test_invers,probas_knn[:,0])\n",
    "plt.plot(recall, precision, label='KNeighborsClassifier PR (ср. тч. прог. = %f)' % (aps_knn0)) \n",
    "\n",
    "# Персептрон\n",
    "precision, recall, thresholds = precision_recall_curve(y_test_invers, probas_slf[:,0])\n",
    "aps_ptron0 = average_precision_score(y_test_invers,probas_slf[:,0])\n",
    "plt.plot(recall, precision, label='PerceptronClassifier PR (ср. тч. прог. = %f)' % (aps_ptron0)) \n",
    "\n",
    "# вывод графика\n",
    "plt.xlabel('Recall (полнота)')\n",
    "plt.ylabel('Precision (точность)')\n",
    "plt.xlim([0.0, 1.0])\n",
    "plt.ylim([0.0, 1.0])\n",
    "plt.legend(loc=4, fontsize='medium')\n",
    "plt.title('Occupancy = 0')\n",
    "plt.show()"
   ]
  },
  {
   "cell_type": "code",
   "execution_count": 24,
   "id": "3aa44d0a",
   "metadata": {},
   "outputs": [
    {
     "data": {
      "image/png": "[encoded data removed]",
      "text/plain": [
       "<Figure size 720x576 with 1 Axes>"
      ]
     },
     "metadata": {
      "needs_background": "light"
     },
     "output_type": "display_data"
    }
   ],
   "source": [
    "plt.figure(figsize=(10,8))\n",
    "\n",
    "# K соседей\n",
    "precision, recall, thresholds = precision_recall_curve(y_test, probas_knn[:,1])\n",
    "aps_knn1 = average_precision_score(y_test,probas_knn[:,1])\n",
    "plt.plot(recall, precision, label='KNeighborsClassifier PR (ср. тч. прог.= %f)' % (aps_knn1)) \n",
    "\n",
    "# Персептрон\n",
    "precision, recall, thresholds = precision_recall_curve(y_test, probas_slf[:,1])\n",
    "aps_ptron1 = average_precision_score(y_test,probas_slf[:,1])\n",
    "plt.plot(recall, precision, label='PerceptronClassifier PR (ср. тч. прог. = %f)' % (aps_ptron1)) \n",
    "\n",
    "# вывод графика\n",
    "plt.xlabel('Recall (полнота)')\n",
    "plt.ylabel('Precision (точность)')\n",
    "plt.xlim([0.0, 1.0])\n",
    "plt.ylim([0.0, 1.0])\n",
    "plt.legend(loc=4, fontsize='medium')\n",
    "plt.title('Occupancy = 1')\n",
    "plt.show()"
   ]
  },
  {
   "cell_type": "markdown",
   "id": "fda290d4",
   "metadata": {},
   "source": [
    "ROC графики"
   ]
  },
  {
   "cell_type": "code",
   "execution_count": 22,
   "id": "b6fdcffa",
   "metadata": {},
   "outputs": [
    {
     "data": {
      "image/png": "[encoded data removed]",
      "text/plain": [
       "<Figure size 720x576 with 1 Axes>"
      ]
     },
     "metadata": {
      "needs_background": "light"
     },
     "output_type": "display_data"
    }
   ],
   "source": [
    "#TPR тоже самое что и Recall, те полнота\n",
    "#FPR показывает, какую долю из объектов negative класса алгоритм предсказал неверно\n",
    "plt.figure(figsize=(10,8))\n",
    "\n",
    "# K соседей\n",
    "tpr, fpr, thresholds = roc_curve(y_test, probas_knn[:,0])\n",
    "roc_auc  = auc(fpr, tpr)\n",
    "plt.plot(fpr, tpr, label='KNeighborsClassifier ROC (ср. тч. прог. = %f)' % (roc_auc)) \n",
    "\n",
    "# Персептрон\n",
    "tpr, fpr, thresholds = roc_curve(y_test, probas_slf[:,0])\n",
    "roc_auc  = auc(fpr, tpr)\n",
    "plt.plot(fpr, tpr, label='PerceptronClassifier ROC (ср. тч. прог. = %f)' % (roc_auc))   \n",
    "\n",
    "# вывод графика\n",
    "plt.plot([0, 1], [0, 1], 'k--')\n",
    "plt.xlim([0.0, 1.0])\n",
    "plt.ylim([0.0, 1.0])\n",
    "plt.xlabel('False Positive Rate')\n",
    "plt.ylabel('True Positive Rate')\n",
    "plt.legend(loc=4, fontsize='medium')\n",
    "plt.title('Occupancy = 0')\n",
    "plt.show()"
   ]
  },
  {
   "cell_type": "code",
   "execution_count": 25,
   "id": "8bbe84fc",
   "metadata": {},
   "outputs": [
    {
     "data": {
      "image/png": "[encoded data removed]",
      "text/plain": [
       "<Figure size 720x576 with 1 Axes>"
      ]
     },
     "metadata": {
      "needs_background": "light"
     },
     "output_type": "display_data"
    }
   ],
   "source": [
    "plt.figure(figsize=(10,8))\n",
    "\n",
    "# K соседей\n",
    "fpr, tpr, thresholds = roc_curve(y_test, probas_knn[:,1])\n",
    "roc_auc  = auc(fpr, tpr)\n",
    "plt.plot(fpr, tpr, label='KNeighborsClassifier ROC (ср. тч. прог. = %f)' % (roc_auc))\n",
    "\n",
    "# PerceptronClassifier\n",
    "fpr, tpr, thresholds = roc_curve(y_test, probas_slf[:,1])\n",
    "roc_auc  = auc(fpr, tpr)\n",
    "plt.plot(fpr, tpr, label='PerceptronClassifier ROC (ср. тч. прог. = %f)' % (roc_auc)) \n",
    "\n",
    "# вывод графика\n",
    "plt.plot([0, 1], [0, 1], 'k--')\n",
    "plt.xlim([0.0, 1.0])\n",
    "plt.ylim([0.0, 1.0])\n",
    "plt.xlabel('False Positive Rate')\n",
    "plt.ylabel('True Positive Rate')\n",
    "plt.legend(loc=4, fontsize='medium')\n",
    "plt.title('Occupancy = 1')\n",
    "plt.show()"
   ]
  },
  {
   "cell_type": "markdown",
   "id": "1cb3edfc",
   "metadata": {},
   "source": [
    "# 9.Сравните кривые для классификаторов, указанных в задании, сделайте выводы."
   ]
  },
  {
   "cell_type": "markdown",
   "id": "f433856f",
   "metadata": {},
   "source": [
    "Классификаторы решают задачу классификации с вероятностью 0.94-0.96 процентов, что является очень хорошим результатом для двух классов. \n",
    "Персептрон более эффективен, чем классификатор k ближайших соседей, т.к. имеет хорошо подобранные параметры и многослойную сетку. \n",
    "Таким образом, задача классификации была решена корректно."
   ]
  },
  {
   "cell_type": "code",
   "execution_count": null,
   "id": "38899553",
   "metadata": {},
   "outputs": [],
   "source": []
  }
 ],
 "metadata": {
  "kernelspec": {
   "display_name": "Python 3 (ipykernel)",
   "language": "python",
   "name": "python3"
  },
  "language_info": {
   "codemirror_mode": {
    "name": "ipython",
    "version": 3
   },
   "file_extension": ".py",
   "mimetype": "text/x-python",
   "name": "python",
   "nbconvert_exporter": "python",
   "pygments_lexer": "ipython3",
   "version": "3.9.6"
  }
 },
 "nbformat": 4,
 "nbformat_minor": 5
}
