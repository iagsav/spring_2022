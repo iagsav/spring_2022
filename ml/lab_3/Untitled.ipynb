{
 "cells": [
  {
   "cell_type": "markdown",
   "id": "d6265f46",
   "metadata": {},
   "source": [
    "# Вариант 22\n",
    "Набор данных / Классификаторы \n",
    "           2 / 2, 3\n"
   ]
  },
  {
   "cell_type": "raw",
   "id": "83d83b92",
   "metadata": {},
   "source": [
    "Классификаторы\n",
    "2 – классификатор K ближайших соседей (задаётся радиус для выбора ближайших объектов);\n",
    "3 – линейный классификатор (персептрон);\n",
    "\n",
    "Данные содержат информацию о 10 атрибутах стекла\n",
    "Атрибуты:\n",
    "\n",
    "Идентификационный номер: от 1 до 214 (удален из CSV-файла)\n",
    "RI: показатель преломления\n",
    "Na: Натрий \n",
    "Мг: Магний\n",
    "Al: Алюминий\n",
    "Si: Кремний\n",
    "K: Калий\n",
    "Ca: Кальций\n",
    "Ба: Барий\n",
    "Fe: Железо\n",
    "Тип стекла\n",
    "\n",
    "    Типы стекла:1 building_windows_float_processed  \n",
    "                2 building_windows_non_float_processed \n",
    "                3 vehicle_windows_float_processed \n",
    "                4 vehicle_windows_non_float_processed (none in this database) \n",
    "                5 containers\n",
    "                6 tableware \n",
    "                7 headlamps"
   ]
  },
  {
   "cell_type": "code",
   "execution_count": 1,
   "id": "d0b0f2b0",
   "metadata": {},
   "outputs": [],
   "source": [
    "import warnings\n",
    "import pandas as pd\n",
    "import numpy as np\n",
    "import matplotlib.pyplot as plt\n",
    "import seaborn as sns\n",
    "from sklearn import preprocessing\n",
    "from sklearn.neighbors import NearestNeighbors\n",
    "%matplotlib inline\n",
    "warnings.simplefilter('ignore')"
   ]
  },
  {
   "cell_type": "code",
   "execution_count": 2,
   "id": "5db9e159",
   "metadata": {},
   "outputs": [],
   "source": [
    "df = pd.read_csv(R'C:\\Users\\qwerty\\Desktop\\Новая папка (2)\\МО\\ЛР3\\glass.csv', sep=',',decimal = '.')"
   ]
  },
  {
   "cell_type": "code",
   "execution_count": 3,
   "id": "aebc9dd0",
   "metadata": {},
   "outputs": [
    {
     "data": {
      "text/html": [
       "<div>\n",
       "<style scoped>\n",
       "    .dataframe tbody tr th:only-of-type {\n",
       "        vertical-align: middle;\n",
       "    }\n",
       "\n",
       "    .dataframe tbody tr th {\n",
       "        vertical-align: top;\n",
       "    }\n",
       "\n",
       "    .dataframe thead th {\n",
       "        text-align: right;\n",
       "    }\n",
       "</style>\n",
       "<table border=\"1\" class=\"dataframe\">\n",
       "  <thead>\n",
       "    <tr style=\"text-align: right;\">\n",
       "      <th></th>\n",
       "      <th>RI</th>\n",
       "      <th>Na</th>\n",
       "      <th>Mg</th>\n",
       "      <th>Al</th>\n",
       "      <th>Si</th>\n",
       "      <th>K</th>\n",
       "      <th>Ca</th>\n",
       "      <th>Ba</th>\n",
       "      <th>Fe</th>\n",
       "      <th>Type</th>\n",
       "    </tr>\n",
       "  </thead>\n",
       "  <tbody>\n",
       "    <tr>\n",
       "      <th>0</th>\n",
       "      <td>1.52101</td>\n",
       "      <td>13.64</td>\n",
       "      <td>4.49</td>\n",
       "      <td>1.10</td>\n",
       "      <td>71.78</td>\n",
       "      <td>0.06</td>\n",
       "      <td>8.75</td>\n",
       "      <td>0.00</td>\n",
       "      <td>0.0</td>\n",
       "      <td>1</td>\n",
       "    </tr>\n",
       "    <tr>\n",
       "      <th>1</th>\n",
       "      <td>1.51761</td>\n",
       "      <td>13.89</td>\n",
       "      <td>3.60</td>\n",
       "      <td>1.36</td>\n",
       "      <td>72.73</td>\n",
       "      <td>0.48</td>\n",
       "      <td>7.83</td>\n",
       "      <td>0.00</td>\n",
       "      <td>0.0</td>\n",
       "      <td>1</td>\n",
       "    </tr>\n",
       "    <tr>\n",
       "      <th>2</th>\n",
       "      <td>1.51618</td>\n",
       "      <td>13.53</td>\n",
       "      <td>3.55</td>\n",
       "      <td>1.54</td>\n",
       "      <td>72.99</td>\n",
       "      <td>0.39</td>\n",
       "      <td>7.78</td>\n",
       "      <td>0.00</td>\n",
       "      <td>0.0</td>\n",
       "      <td>1</td>\n",
       "    </tr>\n",
       "    <tr>\n",
       "      <th>3</th>\n",
       "      <td>1.51766</td>\n",
       "      <td>13.21</td>\n",
       "      <td>3.69</td>\n",
       "      <td>1.29</td>\n",
       "      <td>72.61</td>\n",
       "      <td>0.57</td>\n",
       "      <td>8.22</td>\n",
       "      <td>0.00</td>\n",
       "      <td>0.0</td>\n",
       "      <td>1</td>\n",
       "    </tr>\n",
       "    <tr>\n",
       "      <th>4</th>\n",
       "      <td>1.51742</td>\n",
       "      <td>13.27</td>\n",
       "      <td>3.62</td>\n",
       "      <td>1.24</td>\n",
       "      <td>73.08</td>\n",
       "      <td>0.55</td>\n",
       "      <td>8.07</td>\n",
       "      <td>0.00</td>\n",
       "      <td>0.0</td>\n",
       "      <td>1</td>\n",
       "    </tr>\n",
       "    <tr>\n",
       "      <th>...</th>\n",
       "      <td>...</td>\n",
       "      <td>...</td>\n",
       "      <td>...</td>\n",
       "      <td>...</td>\n",
       "      <td>...</td>\n",
       "      <td>...</td>\n",
       "      <td>...</td>\n",
       "      <td>...</td>\n",
       "      <td>...</td>\n",
       "      <td>...</td>\n",
       "    </tr>\n",
       "    <tr>\n",
       "      <th>209</th>\n",
       "      <td>1.51623</td>\n",
       "      <td>14.14</td>\n",
       "      <td>0.00</td>\n",
       "      <td>2.88</td>\n",
       "      <td>72.61</td>\n",
       "      <td>0.08</td>\n",
       "      <td>9.18</td>\n",
       "      <td>1.06</td>\n",
       "      <td>0.0</td>\n",
       "      <td>7</td>\n",
       "    </tr>\n",
       "    <tr>\n",
       "      <th>210</th>\n",
       "      <td>1.51685</td>\n",
       "      <td>14.92</td>\n",
       "      <td>0.00</td>\n",
       "      <td>1.99</td>\n",
       "      <td>73.06</td>\n",
       "      <td>0.00</td>\n",
       "      <td>8.40</td>\n",
       "      <td>1.59</td>\n",
       "      <td>0.0</td>\n",
       "      <td>7</td>\n",
       "    </tr>\n",
       "    <tr>\n",
       "      <th>211</th>\n",
       "      <td>1.52065</td>\n",
       "      <td>14.36</td>\n",
       "      <td>0.00</td>\n",
       "      <td>2.02</td>\n",
       "      <td>73.42</td>\n",
       "      <td>0.00</td>\n",
       "      <td>8.44</td>\n",
       "      <td>1.64</td>\n",
       "      <td>0.0</td>\n",
       "      <td>7</td>\n",
       "    </tr>\n",
       "    <tr>\n",
       "      <th>212</th>\n",
       "      <td>1.51651</td>\n",
       "      <td>14.38</td>\n",
       "      <td>0.00</td>\n",
       "      <td>1.94</td>\n",
       "      <td>73.61</td>\n",
       "      <td>0.00</td>\n",
       "      <td>8.48</td>\n",
       "      <td>1.57</td>\n",
       "      <td>0.0</td>\n",
       "      <td>7</td>\n",
       "    </tr>\n",
       "    <tr>\n",
       "      <th>213</th>\n",
       "      <td>1.51711</td>\n",
       "      <td>14.23</td>\n",
       "      <td>0.00</td>\n",
       "      <td>2.08</td>\n",
       "      <td>73.36</td>\n",
       "      <td>0.00</td>\n",
       "      <td>8.62</td>\n",
       "      <td>1.67</td>\n",
       "      <td>0.0</td>\n",
       "      <td>7</td>\n",
       "    </tr>\n",
       "  </tbody>\n",
       "</table>\n",
       "<p>214 rows × 10 columns</p>\n",
       "</div>"
      ],
      "text/plain": [
       "          RI     Na    Mg    Al     Si     K    Ca    Ba   Fe  Type\n",
       "0    1.52101  13.64  4.49  1.10  71.78  0.06  8.75  0.00  0.0     1\n",
       "1    1.51761  13.89  3.60  1.36  72.73  0.48  7.83  0.00  0.0     1\n",
       "2    1.51618  13.53  3.55  1.54  72.99  0.39  7.78  0.00  0.0     1\n",
       "3    1.51766  13.21  3.69  1.29  72.61  0.57  8.22  0.00  0.0     1\n",
       "4    1.51742  13.27  3.62  1.24  73.08  0.55  8.07  0.00  0.0     1\n",
       "..       ...    ...   ...   ...    ...   ...   ...   ...  ...   ...\n",
       "209  1.51623  14.14  0.00  2.88  72.61  0.08  9.18  1.06  0.0     7\n",
       "210  1.51685  14.92  0.00  1.99  73.06  0.00  8.40  1.59  0.0     7\n",
       "211  1.52065  14.36  0.00  2.02  73.42  0.00  8.44  1.64  0.0     7\n",
       "212  1.51651  14.38  0.00  1.94  73.61  0.00  8.48  1.57  0.0     7\n",
       "213  1.51711  14.23  0.00  2.08  73.36  0.00  8.62  1.67  0.0     7\n",
       "\n",
       "[214 rows x 10 columns]"
      ]
     },
     "execution_count": 3,
     "metadata": {},
     "output_type": "execute_result"
    }
   ],
   "source": [
    "df"
   ]
  },
  {
   "cell_type": "code",
   "execution_count": 4,
   "id": "d4002d02",
   "metadata": {},
   "outputs": [
    {
     "name": "stdout",
     "output_type": "stream",
     "text": [
      "Размер набора (214, 10)\n"
     ]
    }
   ],
   "source": [
    "print('Размер набора', df.shape)"
   ]
  },
  {
   "cell_type": "code",
   "execution_count": 5,
   "id": "e0719600",
   "metadata": {},
   "outputs": [
    {
     "name": "stdout",
     "output_type": "stream",
     "text": [
      "Новый размер набора (213, 10)\n"
     ]
    }
   ],
   "source": [
    "#удаляем повторы\n",
    "df.drop_duplicates(keep='first', inplace = True)\n",
    "print('Новый размер набора', df.shape)"
   ]
  },
  {
   "cell_type": "code",
   "execution_count": 6,
   "id": "8ba93437",
   "metadata": {},
   "outputs": [
    {
     "name": "stdout",
     "output_type": "stream",
     "text": [
      "AxesSubplot(0.125,0.125;0.775x0.755)\n"
     ]
    },
    {
     "data": {
      "image/png": "[encoded data removed]",
      "text/plain": [
       "<Figure size 432x288 with 1 Axes>"
      ]
     },
     "metadata": {
      "needs_background": "light"
     },
     "output_type": "display_data"
    }
   ],
   "source": [
    "print(df.Type.hist())"
   ]
  },
  {
   "cell_type": "markdown",
   "id": "1bc49289",
   "metadata": {},
   "source": [
    "По гистограмме можно увидеть несбалансированность по классам, следовательно, неоходимо использовать PR метрику"
   ]
  },
  {
   "cell_type": "markdown",
   "id": "3db3d1f6",
   "metadata": {},
   "source": [
    "# BoxPlot до масштабирования"
   ]
  },
  {
   "cell_type": "code",
   "execution_count": 7,
   "id": "8621b238",
   "metadata": {},
   "outputs": [
    {
     "data": {
      "text/plain": [
       "<AxesSubplot:>"
      ]
     },
     "execution_count": 7,
     "metadata": {},
     "output_type": "execute_result"
    },
    {
     "data": {
      "image/png": "[encoded data removed]",
      "text/plain": [
       "<Figure size 432x288 with 1 Axes>"
      ]
     },
     "metadata": {
      "needs_background": "light"
     },
     "output_type": "display_data"
    }
   ],
   "source": [
    "sns.boxplot(data = df)"
   ]
  },
  {
   "cell_type": "markdown",
   "id": "9b002b7d",
   "metadata": {},
   "source": [
    "# BoxPlot после масштабирования"
   ]
  },
  {
   "cell_type": "code",
   "execution_count": 50,
   "id": "c61b60c0",
   "metadata": {},
   "outputs": [
    {
     "name": "stdout",
     "output_type": "stream",
     "text": [
      "numerical:  [Index(['RI', 'Na', 'Mg', 'Al', 'Si', 'K', 'Ca', 'Ba', 'Fe'], dtype='object')]\n",
      "categorial:  ['Type']\n"
     ]
    }
   ],
   "source": [
    "num_columns = [df.columns[0:9]]\n",
    "categorial_columns = [df.columns[9]]\n",
    "print('numerical: ', num_columns)\n",
    "\n",
    "print('categorial: ', categorial_columns)"
   ]
  },
  {
   "cell_type": "code",
   "execution_count": 51,
   "id": "94124db0",
   "metadata": {},
   "outputs": [
    {
     "data": {
      "text/plain": [
       "<AxesSubplot:>"
      ]
     },
     "execution_count": 51,
     "metadata": {},
     "output_type": "execute_result"
    },
    {
     "data": {
      "image/png": "[encoded data removed]",
      "text/plain": [
       "<Figure size 432x288 with 1 Axes>"
      ]
     },
     "metadata": {
      "needs_background": "light"
     },
     "output_type": "display_data"
    }
   ],
   "source": [
    "type_col = df.Type\n",
    "total_num = df.drop(columns = 'Type', axis = 1)\n",
    "sns.boxplot(data = total_num)"
   ]
  },
  {
   "cell_type": "code",
   "execution_count": 77,
   "id": "86b030f4",
   "metadata": {},
   "outputs": [],
   "source": [
    "# нормализация \n",
    "scaler = preprocessing.StandardScaler()\n",
    "col = total_num.columns\n",
    "total_num[col] = scaler.fit_transform(total_num[col])\n",
    "scaled_df = pd.DataFrame(total_num, columns = col)\n",
    "scaled_df['Type'] = type_col"
   ]
  },
  {
   "cell_type": "code",
   "execution_count": 78,
   "id": "0896b5d4",
   "metadata": {},
   "outputs": [
    {
     "data": {
      "text/plain": [
       "<AxesSubplot:>"
      ]
     },
     "execution_count": 78,
     "metadata": {},
     "output_type": "execute_result"
    },
    {
     "data": {
      "image/png": "[encoded data removed]",
      "text/plain": [
       "<Figure size 432x288 with 1 Axes>"
      ]
     },
     "metadata": {
      "needs_background": "light"
     },
     "output_type": "display_data"
    }
   ],
   "source": [
    "sns.boxplot(data = scaled_df)"
   ]
  },
  {
   "cell_type": "raw",
   "id": "5fac7f6a",
   "metadata": {},
   "source": [
    "В исходых данных уже была проведена замена категориальных признаков\n",
    "Типы стекла:1 building_windows_float_processed  \n",
    "            2 building_windows_non_float_processed \n",
    "            3 vehicle_windows_float_processed \n",
    "            4 vehicle_windows_non_float_processed (none in this database) \n",
    "            5 containers\n",
    "            6 tableware \n",
    "            7 headlamps"
   ]
  },
  {
   "cell_type": "markdown",
   "id": "b4a4bc36",
   "metadata": {},
   "source": [
    "# Корреляция между признаками"
   ]
  },
  {
   "cell_type": "code",
   "execution_count": 102,
   "id": "6536ce1f",
   "metadata": {
    "scrolled": true
   },
   "outputs": [
    {
     "data": {
      "text/plain": [
       "<AxesSubplot:>"
      ]
     },
     "execution_count": 102,
     "metadata": {},
     "output_type": "execute_result"
    },
    {
     "data": {
      "image/png": "[encoded data removed]",
      "text/plain": [
       "<Figure size 432x288 with 2 Axes>"
      ]
     },
     "metadata": {
      "needs_background": "light"
     },
     "output_type": "display_data"
    }
   ],
   "source": [
    "sns.heatmap(scaled_df.corr(), annot = True)"
   ]
  },
  {
   "cell_type": "code",
   "execution_count": 80,
   "id": "9e04dad1",
   "metadata": {},
   "outputs": [
    {
     "data": {
      "text/html": [
       "<div>\n",
       "<style scoped>\n",
       "    .dataframe tbody tr th:only-of-type {\n",
       "        vertical-align: middle;\n",
       "    }\n",
       "\n",
       "    .dataframe tbody tr th {\n",
       "        vertical-align: top;\n",
       "    }\n",
       "\n",
       "    .dataframe thead th {\n",
       "        text-align: right;\n",
       "    }\n",
       "</style>\n",
       "<table border=\"1\" class=\"dataframe\">\n",
       "  <thead>\n",
       "    <tr style=\"text-align: right;\">\n",
       "      <th></th>\n",
       "      <th>RI</th>\n",
       "      <th>Na</th>\n",
       "      <th>Mg</th>\n",
       "      <th>Al</th>\n",
       "      <th>Si</th>\n",
       "      <th>K</th>\n",
       "      <th>Ca</th>\n",
       "      <th>Ba</th>\n",
       "      <th>Fe</th>\n",
       "      <th>Type</th>\n",
       "    </tr>\n",
       "  </thead>\n",
       "  <tbody>\n",
       "    <tr>\n",
       "      <th>0</th>\n",
       "      <td>1.52101</td>\n",
       "      <td>13.64</td>\n",
       "      <td>4.49</td>\n",
       "      <td>1.10</td>\n",
       "      <td>71.78</td>\n",
       "      <td>0.06</td>\n",
       "      <td>8.75</td>\n",
       "      <td>0.00</td>\n",
       "      <td>0.0</td>\n",
       "      <td>1</td>\n",
       "    </tr>\n",
       "    <tr>\n",
       "      <th>1</th>\n",
       "      <td>1.51761</td>\n",
       "      <td>13.89</td>\n",
       "      <td>3.60</td>\n",
       "      <td>1.36</td>\n",
       "      <td>72.73</td>\n",
       "      <td>0.48</td>\n",
       "      <td>7.83</td>\n",
       "      <td>0.00</td>\n",
       "      <td>0.0</td>\n",
       "      <td>1</td>\n",
       "    </tr>\n",
       "    <tr>\n",
       "      <th>2</th>\n",
       "      <td>1.51618</td>\n",
       "      <td>13.53</td>\n",
       "      <td>3.55</td>\n",
       "      <td>1.54</td>\n",
       "      <td>72.99</td>\n",
       "      <td>0.39</td>\n",
       "      <td>7.78</td>\n",
       "      <td>0.00</td>\n",
       "      <td>0.0</td>\n",
       "      <td>1</td>\n",
       "    </tr>\n",
       "    <tr>\n",
       "      <th>3</th>\n",
       "      <td>1.51766</td>\n",
       "      <td>13.21</td>\n",
       "      <td>3.69</td>\n",
       "      <td>1.29</td>\n",
       "      <td>72.61</td>\n",
       "      <td>0.57</td>\n",
       "      <td>8.22</td>\n",
       "      <td>0.00</td>\n",
       "      <td>0.0</td>\n",
       "      <td>1</td>\n",
       "    </tr>\n",
       "    <tr>\n",
       "      <th>4</th>\n",
       "      <td>1.51742</td>\n",
       "      <td>13.27</td>\n",
       "      <td>3.62</td>\n",
       "      <td>1.24</td>\n",
       "      <td>73.08</td>\n",
       "      <td>0.55</td>\n",
       "      <td>8.07</td>\n",
       "      <td>0.00</td>\n",
       "      <td>0.0</td>\n",
       "      <td>1</td>\n",
       "    </tr>\n",
       "    <tr>\n",
       "      <th>...</th>\n",
       "      <td>...</td>\n",
       "      <td>...</td>\n",
       "      <td>...</td>\n",
       "      <td>...</td>\n",
       "      <td>...</td>\n",
       "      <td>...</td>\n",
       "      <td>...</td>\n",
       "      <td>...</td>\n",
       "      <td>...</td>\n",
       "      <td>...</td>\n",
       "    </tr>\n",
       "    <tr>\n",
       "      <th>209</th>\n",
       "      <td>1.51623</td>\n",
       "      <td>14.14</td>\n",
       "      <td>0.00</td>\n",
       "      <td>2.88</td>\n",
       "      <td>72.61</td>\n",
       "      <td>0.08</td>\n",
       "      <td>9.18</td>\n",
       "      <td>1.06</td>\n",
       "      <td>0.0</td>\n",
       "      <td>7</td>\n",
       "    </tr>\n",
       "    <tr>\n",
       "      <th>210</th>\n",
       "      <td>1.51685</td>\n",
       "      <td>14.92</td>\n",
       "      <td>0.00</td>\n",
       "      <td>1.99</td>\n",
       "      <td>73.06</td>\n",
       "      <td>0.00</td>\n",
       "      <td>8.40</td>\n",
       "      <td>1.59</td>\n",
       "      <td>0.0</td>\n",
       "      <td>7</td>\n",
       "    </tr>\n",
       "    <tr>\n",
       "      <th>211</th>\n",
       "      <td>1.52065</td>\n",
       "      <td>14.36</td>\n",
       "      <td>0.00</td>\n",
       "      <td>2.02</td>\n",
       "      <td>73.42</td>\n",
       "      <td>0.00</td>\n",
       "      <td>8.44</td>\n",
       "      <td>1.64</td>\n",
       "      <td>0.0</td>\n",
       "      <td>7</td>\n",
       "    </tr>\n",
       "    <tr>\n",
       "      <th>212</th>\n",
       "      <td>1.51651</td>\n",
       "      <td>14.38</td>\n",
       "      <td>0.00</td>\n",
       "      <td>1.94</td>\n",
       "      <td>73.61</td>\n",
       "      <td>0.00</td>\n",
       "      <td>8.48</td>\n",
       "      <td>1.57</td>\n",
       "      <td>0.0</td>\n",
       "      <td>7</td>\n",
       "    </tr>\n",
       "    <tr>\n",
       "      <th>213</th>\n",
       "      <td>1.51711</td>\n",
       "      <td>14.23</td>\n",
       "      <td>0.00</td>\n",
       "      <td>2.08</td>\n",
       "      <td>73.36</td>\n",
       "      <td>0.00</td>\n",
       "      <td>8.62</td>\n",
       "      <td>1.67</td>\n",
       "      <td>0.0</td>\n",
       "      <td>7</td>\n",
       "    </tr>\n",
       "  </tbody>\n",
       "</table>\n",
       "<p>213 rows × 10 columns</p>\n",
       "</div>"
      ],
      "text/plain": [
       "          RI     Na    Mg    Al     Si     K    Ca    Ba   Fe  Type\n",
       "0    1.52101  13.64  4.49  1.10  71.78  0.06  8.75  0.00  0.0     1\n",
       "1    1.51761  13.89  3.60  1.36  72.73  0.48  7.83  0.00  0.0     1\n",
       "2    1.51618  13.53  3.55  1.54  72.99  0.39  7.78  0.00  0.0     1\n",
       "3    1.51766  13.21  3.69  1.29  72.61  0.57  8.22  0.00  0.0     1\n",
       "4    1.51742  13.27  3.62  1.24  73.08  0.55  8.07  0.00  0.0     1\n",
       "..       ...    ...   ...   ...    ...   ...   ...   ...  ...   ...\n",
       "209  1.51623  14.14  0.00  2.88  72.61  0.08  9.18  1.06  0.0     7\n",
       "210  1.51685  14.92  0.00  1.99  73.06  0.00  8.40  1.59  0.0     7\n",
       "211  1.52065  14.36  0.00  2.02  73.42  0.00  8.44  1.64  0.0     7\n",
       "212  1.51651  14.38  0.00  1.94  73.61  0.00  8.48  1.57  0.0     7\n",
       "213  1.51711  14.23  0.00  2.08  73.36  0.00  8.62  1.67  0.0     7\n",
       "\n",
       "[213 rows x 10 columns]"
      ]
     },
     "execution_count": 80,
     "metadata": {},
     "output_type": "execute_result"
    }
   ],
   "source": [
    "df = df.loc[df['Type'] != 4]\n",
    "df"
   ]
  },
  {
   "cell_type": "markdown",
   "id": "3d6cf499",
   "metadata": {},
   "source": [
    "# K-ближайших соседей (задается радиус)\n"
   ]
  },
  {
   "cell_type": "code",
   "execution_count": 81,
   "id": "6547cbe6",
   "metadata": {},
   "outputs": [],
   "source": [
    "from sklearn.model_selection import GridSearchCV\n",
    "from sklearn.preprocessing import label_binarize\n",
    "from sklearn.linear_model import Perceptron\n",
    "from sklearn.calibration import CalibratedClassifierCV\n",
    "from sklearn.model_selection import train_test_split\n",
    "from sklearn.neighbors import RadiusNeighborsClassifier\n",
    "from sklearn.metrics import roc_curve, precision_recall_curve,accuracy_score, auc, average_precision_score, PrecisionRecallDisplay"
   ]
  },
  {
   "cell_type": "code",
   "execution_count": 82,
   "id": "b7b2d9df",
   "metadata": {},
   "outputs": [],
   "source": [
    "x = scaled_df.drop('Type', axis = 1)\n",
    "y = scaled_df['Type']\n",
    "y_bin = label_binarize(y,classes =[0, 1, 2, 3, 4, 5, 6] )\n",
    "n_classes = y_bin.shape[1]"
   ]
  },
  {
   "cell_type": "code",
   "execution_count": 83,
   "id": "cbac6e19",
   "metadata": {},
   "outputs": [
    {
     "name": "stdout",
     "output_type": "stream",
     "text": [
      "[[0 1 0 ... 0 0 0]\n",
      " [0 1 0 ... 0 0 0]\n",
      " [0 1 0 ... 0 0 0]\n",
      " ...\n",
      " [0 0 0 ... 0 0 0]\n",
      " [0 0 0 ... 0 0 0]\n",
      " [0 0 0 ... 0 0 0]]\n"
     ]
    }
   ],
   "source": [
    "print(y_bin)"
   ]
  },
  {
   "cell_type": "code",
   "execution_count": 84,
   "id": "a699a854",
   "metadata": {},
   "outputs": [],
   "source": [
    "x_train, x_test, y_train, y_test = train_test_split(x, y_bin, test_size=0.2, random_state=0)"
   ]
  },
  {
   "cell_type": "code",
   "execution_count": 85,
   "id": "2c082b00",
   "metadata": {},
   "outputs": [
    {
     "name": "stdout",
     "output_type": "stream",
     "text": [
      "(170, 9)\n",
      "(43, 9)\n"
     ]
    }
   ],
   "source": [
    "print(x_train.shape)\n",
    "print(x_test.shape)"
   ]
  },
  {
   "cell_type": "code",
   "execution_count": 86,
   "id": "8e316c04",
   "metadata": {},
   "outputs": [],
   "source": [
    "rnc = RadiusNeighborsClassifier(radius = 1)"
   ]
  },
  {
   "cell_type": "code",
   "execution_count": 87,
   "id": "15d46402",
   "metadata": {},
   "outputs": [],
   "source": [
    "rnc_grid = GridSearchCV(rnc, {'radius': np.arange(0,20)})"
   ]
  },
  {
   "cell_type": "code",
   "execution_count": 88,
   "id": "e038c8ab",
   "metadata": {},
   "outputs": [
    {
     "data": {
      "text/plain": [
       "GridSearchCV(estimator=RadiusNeighborsClassifier(radius=1),\n",
       "             param_grid={'radius': array([ 0,  1,  2,  3,  4,  5,  6,  7,  8,  9, 10, 11, 12, 13, 14, 15, 16,\n",
       "       17, 18, 19])})"
      ]
     },
     "execution_count": 88,
     "metadata": {},
     "output_type": "execute_result"
    }
   ],
   "source": [
    "rnc_grid.fit(x_train, y_train)"
   ]
  },
  {
   "cell_type": "code",
   "execution_count": 89,
   "id": "5cf15056",
   "metadata": {},
   "outputs": [
    {
     "name": "stdout",
     "output_type": "stream",
     "text": [
      "8\n",
      "0.15294117647058825\n"
     ]
    }
   ],
   "source": [
    "best_radius = rnc_grid.best_estimator_.radius\n",
    "print(best_radius)\n",
    "\n",
    "best_accuracy = rnc_grid.best_score_\n",
    "print(best_accuracy)"
   ]
  },
  {
   "cell_type": "code",
   "execution_count": 90,
   "id": "7778e9ac",
   "metadata": {},
   "outputs": [
    {
     "data": {
      "text/plain": [
       "RadiusNeighborsClassifier(radius=8)"
      ]
     },
     "execution_count": 90,
     "metadata": {},
     "output_type": "execute_result"
    }
   ],
   "source": [
    "rnc = RadiusNeighborsClassifier(radius=best_radius)\n",
    "rnc.fit(x_train, y_train)"
   ]
  },
  {
   "cell_type": "code",
   "execution_count": 91,
   "id": "388000a1",
   "metadata": {
    "scrolled": true
   },
   "outputs": [
    {
     "name": "stdout",
     "output_type": "stream",
     "text": [
      "Accuracy: 0.13953488372093023\n",
      "Best Accuracy: 0.15294117647058825  at radius: 8\n"
     ]
    }
   ],
   "source": [
    "pred = rnc.predict(x_test)\n",
    "print(\"Accuracy:\", accuracy_score(y_test, pred))\n",
    "\n",
    "print('Best Accuracy:', best_accuracy, ' at radius:', best_radius)"
   ]
  },
  {
   "cell_type": "code",
   "execution_count": 92,
   "id": "40639fb6",
   "metadata": {},
   "outputs": [
    {
     "data": {
      "text/plain": [
       "<matplotlib.legend.Legend at 0x1a2f428a5e0>"
      ]
     },
     "execution_count": 92,
     "metadata": {},
     "output_type": "execute_result"
    },
    {
     "data": {
      "image/png": "[encoded data removed]",
      "text/plain": [
       "<Figure size 432x288 with 1 Axes>"
      ]
     },
     "metadata": {
      "needs_background": "light"
     },
     "output_type": "display_data"
    }
   ],
   "source": [
    "#PR\n",
    "y_score = rnc_grid.predict_proba(x_test)\n",
    "precision = {}\n",
    "recall = {}\n",
    "\n",
    "for i in range(n_classes):\n",
    "    if i == 3: continue\n",
    "    precision[i], recall[i], _ = precision_recall_curve(y_test[:, i], y_score[i][:,0])\n",
    "\n",
    "plt.plot( recall[0], precision[0], color = \"green\", label = \"1 type\")    \n",
    "plt.plot( recall[1], precision[1], color = \"red\", label = \"2 type\")    \n",
    "plt.plot( recall[2], precision[2], color = \"blue\", label = \"3 type\")\n",
    "plt.plot( recall[4], precision[4], color = \"orange\", label = \"5 type\")    \n",
    "plt.plot( recall[5], precision[5], color = \"black\", label = \"6 type\")    \n",
    "plt.plot( recall[6], precision[6], color = \"purple\", label = \"7 type\") \n",
    "\n",
    "plt.title('PR диаграмма RNN')\n",
    "plt.xlabel('Recall')\n",
    "plt.ylabel('Precision')\n",
    "plt.legend(loc = 'upper right')"
   ]
  },
  {
   "cell_type": "code",
   "execution_count": 93,
   "id": "8812af00",
   "metadata": {},
   "outputs": [
    {
     "data": {
      "text/plain": [
       "[<matplotlib.lines.Line2D at 0x1a2f4364f10>]"
      ]
     },
     "execution_count": 93,
     "metadata": {},
     "output_type": "execute_result"
    },
    {
     "data": {
      "image/png": "[encoded data removed]",
      "text/plain": [
       "<Figure size 432x288 with 1 Axes>"
      ]
     },
     "metadata": {
      "needs_background": "light"
     },
     "output_type": "display_data"
    }
   ],
   "source": [
    "# ROC\n",
    "fpr = {}\n",
    "tpr = {}\n",
    "\n",
    "for i in range(n_classes):\n",
    "    if i == 3: continue\n",
    "    fpr[i], tpr[i], _ = roc_curve(y_test[:, i], y_score[i][:,0])\n",
    "\n",
    "plt.plot( fpr[0], tpr[0], color = \"green\", label = \"1 type\")    \n",
    "plt.plot( fpr[1], tpr[1], color = \"red\", label = \"2 type\")    \n",
    "plt.plot( fpr[2], tpr[2], color = \"blue\", label = \"3 type\")\n",
    "plt.plot( fpr[4], tpr[4], color = \"orange\", label = \"5 type\")    \n",
    "plt.plot( fpr[5], tpr[5], color = \"black\", label = \"6 type\")    \n",
    "plt.plot( fpr[6], tpr[6], color = \"purple\", label = \"7 type\") \n",
    "\n",
    "plt.title('ROC диаграмма RNN')\n",
    "plt.xlabel('False Positive Rate')\n",
    "plt.ylabel('True Positive Rate')\n",
    "plt.legend(loc = 'upper right')\n",
    "plt.plot([0,1], [0,1], color = 'Navy', linestyle = \"--\")"
   ]
  },
  {
   "cell_type": "markdown",
   "id": "609fe2b7",
   "metadata": {},
   "source": [
    "# Персептрон"
   ]
  },
  {
   "cell_type": "code",
   "execution_count": 94,
   "id": "26cbef28",
   "metadata": {},
   "outputs": [],
   "source": [
    "x_train, x_test, y_train, y_test = train_test_split(x, y, test_size=0.2, random_state=0)\n",
    "ppn = Perceptron()\n",
    "ppn_grid = GridSearchCV(estimator=ppn, param_grid={\n",
    "    'al\n",
    "        pha': np.linspace(0, 1, 10)[1:],\n",
    "    'max_iter': [x for x in range(1, 200)]\n",
    "}, n_jobs=-1)"
   ]
  },
  {
   "cell_type": "code",
   "execution_count": 95,
   "id": "c792be5f",
   "metadata": {},
   "outputs": [
    {
     "data": {
      "text/plain": [
       "GridSearchCV(estimator=Perceptron(), n_jobs=-1,\n",
       "             param_grid={'alpha': array([0.11111111, 0.22222222, 0.33333333, 0.44444444, 0.55555556,\n",
       "       0.66666667, 0.77777778, 0.88888889, 1.        ]),\n",
       "                         'max_iter': [1, 2, 3, 4, 5, 6, 7, 8, 9, 10, 11, 12, 13,\n",
       "                                      14, 15, 16, 17, 18, 19, 20, 21, 22, 23,\n",
       "                                      24, 25, 26, 27, 28, 29, 30, ...]})"
      ]
     },
     "execution_count": 95,
     "metadata": {},
     "output_type": "execute_result"
    }
   ],
   "source": [
    "ppn_grid.fit(x_train, y_train)"
   ]
  },
  {
   "cell_type": "code",
   "execution_count": 96,
   "id": "4661de35",
   "metadata": {},
   "outputs": [
    {
     "name": "stdout",
     "output_type": "stream",
     "text": [
      "0.1111111111111111\n",
      "6\n"
     ]
    }
   ],
   "source": [
    "alpha = ppn_grid.best_estimator_.alpha\n",
    "print(alpha)\n",
    "max_iter = ppn_grid.best_estimator_.max_iter\n",
    "print(max_iter)"
   ]
  },
  {
   "cell_type": "code",
   "execution_count": 97,
   "id": "40db9796",
   "metadata": {},
   "outputs": [
    {
     "name": "stdout",
     "output_type": "stream",
     "text": [
      "Accuracy 0.27906976744186046\n"
     ]
    }
   ],
   "source": [
    "ppn = Perceptron(alpha = alpha, max_iter=max_iter, penalty = 'l2')\n",
    "ppn.fit(x_train, y_train)\n",
    "ppn_predict = ppn.predict(x_test)\n",
    "print('Accuracy', accuracy_score(y_test, ppn_predict))"
   ]
  },
  {
   "cell_type": "code",
   "execution_count": 98,
   "id": "0f1e9af2",
   "metadata": {},
   "outputs": [
    {
     "data": {
      "text/plain": [
       "CalibratedClassifierCV(base_estimator=Perceptron(alpha=0.1111111111111111,\n",
       "                                                 max_iter=6, penalty='l2'),\n",
       "                       cv=7)"
      ]
     },
     "execution_count": 98,
     "metadata": {},
     "output_type": "execute_result"
    }
   ],
   "source": [
    "cppn = CalibratedClassifierCV(ppn, cv = 7)\n",
    "cppn.fit(x_train, y_train)"
   ]
  },
  {
   "cell_type": "code",
   "execution_count": 99,
   "id": "e6e1e176",
   "metadata": {
    "scrolled": true
   },
   "outputs": [
    {
     "name": "stdout",
     "output_type": "stream",
     "text": [
      "Accuracy 0.4883720930232558\n"
     ]
    }
   ],
   "source": [
    "cppn_predict = cppn.predict(x_test)\n",
    "cppn_predict\n",
    "print('Accuracy', accuracy_score(y_test, cppn_predict) )"
   ]
  },
  {
   "cell_type": "code",
   "execution_count": 100,
   "id": "0ab9c83f",
   "metadata": {
    "scrolled": true
   },
   "outputs": [
    {
     "data": {
      "text/plain": [
       "<matplotlib.legend.Legend at 0x1a2f44b1bb0>"
      ]
     },
     "execution_count": 100,
     "metadata": {},
     "output_type": "execute_result"
    },
    {
     "data": {
      "image/png": "[encoded data removed]",
      "text/plain": [
       "<Figure size 432x288 with 1 Axes>"
      ]
     },
     "metadata": {
      "needs_background": "light"
     },
     "output_type": "display_data"
    }
   ],
   "source": [
    "y_score = cppn.predict_proba(x_test)\n",
    "\n",
    "fpr1, tpr1, _ = roc_curve(y_test, y_score[:,0], pos_label=1)\n",
    "fpr2, tpr2, _ = roc_curve(y_test, y_score[:,1], pos_label=1)\n",
    "fpr3, tpr3, _ = roc_curve(y_test, y_score[:,2], pos_label=1)\n",
    "fpr4, tpr4, _ = roc_curve(y_test, y_score[:,3], pos_label=1)\n",
    "fpr5, tpr5, _ = roc_curve(y_test, y_score[:,4], pos_label=1)\n",
    "fpr6, tpr6, _ = roc_curve(y_test, y_score[:,5], pos_label=1)\n",
    "##fpr7, tpr7, _ = roc_curve(y_test, y_score[:,6], pos_label=1)\n",
    "\n",
    "lw = 2\n",
    "plt.plot(fpr1, tpr1, lw=lw, label='1 class')\n",
    "plt.plot(fpr2, tpr2, lw=lw, label = '2 class')\n",
    "plt.plot(fpr3, tpr3, lw=lw, label = '3 class')\n",
    "plt.plot(fpr4, tpr4, lw=lw, label = '5 class')\n",
    "plt.plot(fpr5, tpr5, lw=lw, label = '6 class')\n",
    "plt.plot(fpr6, tpr6, lw=lw, label = '7 class')\n",
    "\n",
    "plt.plot([0, 1], [0, 1])\n",
    "plt.xlabel('False Positive Rate')\n",
    "plt.ylabel('True Positive Rate')\n",
    "plt.title('ROC curve')\n",
    "plt.legend(loc = 'upper right')"
   ]
  },
  {
   "cell_type": "code",
   "execution_count": 101,
   "id": "03740358",
   "metadata": {
    "scrolled": true
   },
   "outputs": [
    {
     "data": {
      "text/plain": [
       "<matplotlib.legend.Legend at 0x1a2f450dbb0>"
      ]
     },
     "execution_count": 101,
     "metadata": {},
     "output_type": "execute_result"
    },
    {
     "data": {
      "image/png": "[encoded data removed]",
      "text/plain": [
       "<Figure size 432x288 with 1 Axes>"
      ]
     },
     "metadata": {
      "needs_background": "light"
     },
     "output_type": "display_data"
    }
   ],
   "source": [
    "precision1, recall1, _ = precision_recall_curve(y_test, y_score[:,0],pos_label=1)\n",
    "precision2, recall2, _ = precision_recall_curve(y_test, y_score[:,1],pos_label=1)\n",
    "precision3, recall3, _ = precision_recall_curve(y_test, y_score[:,2],pos_label=1)\n",
    "precision4, recall4, _ = precision_recall_curve(y_test, y_score[:,3],pos_label=1)\n",
    "precision5, recall5, _ = precision_recall_curve(y_test, y_score[:,4],pos_label=1)\n",
    "precision6, recall6, _ = precision_recall_curve(y_test, y_score[:,5],pos_label=1)\n",
    "\n",
    "plt.plot( recall1, precision1, color = \"green\", label = \"1 type\")    \n",
    "plt.plot( recall2, precision2, color = \"red\", label = \"2 type\")    \n",
    "plt.plot( recall3, precision3, color = \"blue\", label = \"3 type\")\n",
    "plt.plot( recall4, precision4, color = \"orange\", label = \"5 type\")    \n",
    "plt.plot( recall5, precision5, color = \"black\", label = \"6 type\")    \n",
    "plt.plot( recall6, precision6, color = \"purple\", label = \"7 type\") \n",
    "\n",
    "plt.title('PR диаграмма')\n",
    "plt.xlabel('Recall')\n",
    "plt.ylabel('Precision')\n",
    "plt.legend(loc = 'upper right')"
   ]
  },
  {
   "cell_type": "raw",
   "id": "6c8a64b7",
   "metadata": {},
   "source": [
    "#PR\n",
    "y_score = cppn.predict_proba(x_test)\n",
    "precision = {}\n",
    "recall = {}\n",
    "\n",
    "for i in range(6):\n",
    "    precision[i], recall[i], _ = precision_recall_curve(y_test, y_score[:,i],pos_label=1)\n",
    "\n",
    "plt.plot( recall[0], precision[0], color = \"green\", label = \"1 type\")    \n",
    "plt.plot( recall[1], precision[1], color = \"red\", label = \"2 type\")    \n",
    "plt.plot( recall[2], precision[2], color = \"blue\", label = \"3 type\")\n",
    "plt.plot( recall[4], precision[4], color = \"orange\", label = \"5 type\")    \n",
    "plt.plot( recall[5], precision[5], color = \"black\", label = \"6 type\")    \n",
    "plt.plot( recall[6], precision[6], color = \"purple\", label = \"7 type\") \n",
    "\n",
    "plt.title('PR диаграмма RNN')\n",
    "plt.xlabel('Recall')\n",
    "plt.ylabel('Precision')\n",
    "plt.legend(loc = 'upper right')"
   ]
  },
  {
   "cell_type": "raw",
   "id": "98fe5a39",
   "metadata": {},
   "source": [
    "# ROC\n",
    "fpr = {}\n",
    "tpr = {}\n",
    "\n",
    "for i in range(n_classes):\n",
    "    if i == 3: continue\n",
    "    fpr[i], tpr[i], _ = roc_curve(y_test[:, i], y_score[i][:,0],pos_label=1)\n",
    "\n",
    "plt.plot( fpr[0], tpr[0], color = \"green\", label = \"1 type\")    \n",
    "plt.plot( fpr[1], tpr[1], color = \"red\", label = \"2 type\")    \n",
    "plt.plot( fpr[2], tpr[2], color = \"blue\", label = \"3 type\")\n",
    "plt.plot( fpr[4], tpr[4], color = \"orange\", label = \"5 type\")    \n",
    "plt.plot( fpr[5], tpr[5], color = \"black\", label = \"6 type\")    \n",
    "plt.plot( fpr[6], tpr[6], color = \"purple\", label = \"7 type\") \n",
    "\n",
    "plt.title('ROC диаграмма RNN')\n",
    "plt.xlabel('False Positive Rate')\n",
    "plt.ylabel('True Positive Rate')\n",
    "plt.legend(loc = 'upper right')\n",
    "plt.plot([0,1], [0,1], color = 'Navy', linestyle = \"--\")"
   ]
  },
  {
   "cell_type": "markdown",
   "id": "937ff2db",
   "metadata": {},
   "source": [
    "# OneVsRest"
   ]
  },
  {
   "cell_type": "code",
   "execution_count": 43,
   "id": "59546bd0",
   "metadata": {},
   "outputs": [],
   "source": [
    "from sklearn.multiclass import OneVsRestClassifier\n",
    "from sklearn.pipeline import make_pipeline"
   ]
  },
  {
   "cell_type": "code",
   "execution_count": 44,
   "id": "49529bf6",
   "metadata": {},
   "outputs": [],
   "source": [
    "x_train, x_test, y_train, y_test = train_test_split(x, y_bin, test_size=0.2, random_state=0)\n",
    "classifier = OneVsRestClassifier(\n",
    "    make_pipeline(preprocessing.MinMaxScaler(), RadiusNeighborsClassifier(random_state=0))\n",
    ")\n",
    "classifier.fit(x_train, y_train)\n",
    "y_score = classifier.predict_proba(x_test)"
   ]
  },
  {
   "cell_type": "code",
   "execution_count": 45,
   "id": "6bd09060",
   "metadata": {},
   "outputs": [],
   "source": [
    "precision = dict()\n",
    "recall = dict()\n",
    "average_precision = dict()"
   ]
  },
  {
   "cell_type": "code",
   "execution_count": 46,
   "id": "996d31fe",
   "metadata": {},
   "outputs": [
    {
     "data": {
      "image/png": "[encoded data removed]",
      "text/plain": [
       "<Figure size 432x288 with 1 Axes>"
      ]
     },
     "metadata": {
      "needs_background": "light"
     },
     "output_type": "display_data"
    }
   ],
   "source": [
    "#for i in range(n_classes):\n",
    " #   precision[i], recall[i], _ = precision_recall_curve(y_test[:, i], y_score[:, i])\n",
    "  #  average_precision[i] = average_precision_score(y_test[:, i], y_score[:, i])\n",
    "\n",
    "precision[\"micro\"], recall[\"micro\"], _ = precision_recall_curve(\n",
    "    y_test.ravel(), y_score.ravel()\n",
    ")\n",
    "average_precision[\"micro\"] = average_precision_score(y_test, y_score, average=\"micro\")\n",
    "\n",
    "display = PrecisionRecallDisplay(\n",
    "    recall=recall[\"micro\"],\n",
    "    precision=precision[\"micro\"],\n",
    "    average_precision=average_precision[\"micro\"],\n",
    ")\n",
    "display.plot()\n",
    "_ = display.ax_.set_title(\"Micro-averaged over all classes\")"
   ]
  },
  {
   "cell_type": "code",
   "execution_count": 47,
   "id": "51b35a4f",
   "metadata": {},
   "outputs": [
    {
     "data": {
      "image/png": "[encoded data removed]",
      "text/plain": [
       "<Figure size 432x288 with 1 Axes>"
      ]
     },
     "metadata": {
      "needs_background": "light"
     },
     "output_type": "display_data"
    }
   ],
   "source": [
    "#for i in range(n_classes):\n",
    " #   precision[i], recall[i], _ = precision_recall_curve(y_test[:, i], y_score[:, i])\n",
    "  #  average_precision[i] = average_precision_score(y_test[:, i], y_score[:, i])\n",
    "\n",
    "precision[\"macro\"], recall[\"macro\"], _ = precision_recall_curve(\n",
    "    y_test.ravel(), y_score.ravel()\n",
    ")\n",
    "average_precision[\"macro\"] = average_precision_score(y_test, y_score, average=\"macro\")\n",
    "\n",
    "display = PrecisionRecallDisplay(\n",
    "    recall=recall[\"macro\"],\n",
    "    precision=precision[\"macro\"],\n",
    "    average_precision=average_precision[\"macro\"],\n",
    ")\n",
    "display.plot()\n",
    "_ = display.ax_.set_title(\"macro-averaged over all classes\")"
   ]
  },
  {
   "cell_type": "code",
   "execution_count": null,
   "id": "5d38f7ec",
   "metadata": {},
   "outputs": [],
   "source": []
  }
 ],
 "metadata": {
  "kernelspec": {
   "display_name": "Python 3 (ipykernel)",
   "language": "python",
   "name": "python3"
  },
  "language_info": {
   "codemirror_mode": {
    "name": "ipython",
    "version": 3
   },
   "file_extension": ".py",
   "mimetype": "text/x-python",
   "name": "python",
   "nbconvert_exporter": "python",
   "pygments_lexer": "ipython3",
   "version": "3.9.10"
  }
 },
 "nbformat": 4,
 "nbformat_minor": 5
}
