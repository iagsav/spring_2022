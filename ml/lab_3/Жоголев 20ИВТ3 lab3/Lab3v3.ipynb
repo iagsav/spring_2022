{
 "cells": [
  {
   "cell_type": "markdown",
   "id": "67068507",
   "metadata": {},
   "source": [
    "# Лабораторная работа №3\n",
    "## 1. Изучить набор данных. Создать описание набора данных на русском языке. Описать признаки, используемые в наборе данных (включить полученные описания в отчёт)."
   ]
  },
  {
   "cell_type": "markdown",
   "id": "49e4d79c",
   "metadata": {},
   "source": [
    "1. Id number: Идентификационный номер (Удален из csv файла)\n",
    "2. RI - refractive index: Показатель преломления\n",
    "3. Na - Sodium: Натрий\n",
    "4. Mg - Magnesium: Магний\n",
    "5. Al - Aluminum: Алюминий\n",
    "6. Si - Silicon: Кремний\n",
    "7. K - Potassium: Калий\n",
    "8. Ca - Calcium: Кальций\n",
    "9. Ba - Barium: Барий\n",
    "10. Fe - Iron: Железо\n",
    "11. Type of glass: Тип стекла"
   ]
  },
  {
   "cell_type": "code",
   "execution_count": 1,
   "id": "cab4ae2b",
   "metadata": {},
   "outputs": [],
   "source": [
    "import warnings\n",
    "import pandas as pd\n",
    "import seaborn as sns\n",
    "import matplotlib.pyplot as plt\n",
    "import numpy as np\n",
    "import random\n",
    "import sklearn as sk\n",
    "import copy\n",
    "from sklearn.calibration import CalibratedClassifierCV\n",
    "from sklearn.linear_model import Perceptron\n",
    "from sklearn.metrics import accuracy_score, precision_recall_curve, average_precision_score, roc_curve, auc\n",
    "from sklearn.model_selection import GridSearchCV\n",
    "from sklearn.model_selection import train_test_split\n",
    "from sklearn.neighbors import KNeighborsClassifier\n",
    "from sklearn.preprocessing import LabelEncoder\n",
    "from sklearn.preprocessing import StandardScaler\n",
    "from sklearn.metrics import  precision_recall_curve, average_precision_score, plot_precision_recall_curve, plot_roc_curve\n",
    "%matplotlib inline\n",
    "import seaborn\n",
    "from sklearn.preprocessing import MinMaxScaler\n",
    "from sklearn.preprocessing import OneHotEncoder\n",
    "import numpy as np\n",
    "import warnings\n",
    "from sklearn.metrics import plot_precision_recall_curve, plot_roc_curve\n",
    "from sklearn.tree import DecisionTreeClassifier\n",
    "from sklearn import tree\n",
    "from sklearn.multiclass import OneVsRestClassifier\n",
    "from sklearn.preprocessing import label_binarize"
   ]
  },
  {
   "cell_type": "code",
   "execution_count": 2,
   "id": "39b2d9d2",
   "metadata": {
    "scrolled": true
   },
   "outputs": [
    {
     "data": {
      "text/html": [
       "<div>\n",
       "<style scoped>\n",
       "    .dataframe tbody tr th:only-of-type {\n",
       "        vertical-align: middle;\n",
       "    }\n",
       "\n",
       "    .dataframe tbody tr th {\n",
       "        vertical-align: top;\n",
       "    }\n",
       "\n",
       "    .dataframe thead th {\n",
       "        text-align: right;\n",
       "    }\n",
       "</style>\n",
       "<table border=\"1\" class=\"dataframe\">\n",
       "  <thead>\n",
       "    <tr style=\"text-align: right;\">\n",
       "      <th></th>\n",
       "      <th>RI</th>\n",
       "      <th>Na</th>\n",
       "      <th>Mg</th>\n",
       "      <th>Al</th>\n",
       "      <th>Si</th>\n",
       "      <th>K</th>\n",
       "      <th>Ca</th>\n",
       "      <th>Ba</th>\n",
       "      <th>Fe</th>\n",
       "      <th>Type</th>\n",
       "    </tr>\n",
       "  </thead>\n",
       "  <tbody>\n",
       "    <tr>\n",
       "      <th>0</th>\n",
       "      <td>1.52101</td>\n",
       "      <td>13.64</td>\n",
       "      <td>4.49</td>\n",
       "      <td>1.10</td>\n",
       "      <td>71.78</td>\n",
       "      <td>0.06</td>\n",
       "      <td>8.75</td>\n",
       "      <td>0.00</td>\n",
       "      <td>0.0</td>\n",
       "      <td>1</td>\n",
       "    </tr>\n",
       "    <tr>\n",
       "      <th>1</th>\n",
       "      <td>1.51761</td>\n",
       "      <td>13.89</td>\n",
       "      <td>3.60</td>\n",
       "      <td>1.36</td>\n",
       "      <td>72.73</td>\n",
       "      <td>0.48</td>\n",
       "      <td>7.83</td>\n",
       "      <td>0.00</td>\n",
       "      <td>0.0</td>\n",
       "      <td>1</td>\n",
       "    </tr>\n",
       "    <tr>\n",
       "      <th>2</th>\n",
       "      <td>1.51618</td>\n",
       "      <td>13.53</td>\n",
       "      <td>3.55</td>\n",
       "      <td>1.54</td>\n",
       "      <td>72.99</td>\n",
       "      <td>0.39</td>\n",
       "      <td>7.78</td>\n",
       "      <td>0.00</td>\n",
       "      <td>0.0</td>\n",
       "      <td>1</td>\n",
       "    </tr>\n",
       "    <tr>\n",
       "      <th>3</th>\n",
       "      <td>1.51766</td>\n",
       "      <td>13.21</td>\n",
       "      <td>3.69</td>\n",
       "      <td>1.29</td>\n",
       "      <td>72.61</td>\n",
       "      <td>0.57</td>\n",
       "      <td>8.22</td>\n",
       "      <td>0.00</td>\n",
       "      <td>0.0</td>\n",
       "      <td>1</td>\n",
       "    </tr>\n",
       "    <tr>\n",
       "      <th>4</th>\n",
       "      <td>1.51742</td>\n",
       "      <td>13.27</td>\n",
       "      <td>3.62</td>\n",
       "      <td>1.24</td>\n",
       "      <td>73.08</td>\n",
       "      <td>0.55</td>\n",
       "      <td>8.07</td>\n",
       "      <td>0.00</td>\n",
       "      <td>0.0</td>\n",
       "      <td>1</td>\n",
       "    </tr>\n",
       "    <tr>\n",
       "      <th>...</th>\n",
       "      <td>...</td>\n",
       "      <td>...</td>\n",
       "      <td>...</td>\n",
       "      <td>...</td>\n",
       "      <td>...</td>\n",
       "      <td>...</td>\n",
       "      <td>...</td>\n",
       "      <td>...</td>\n",
       "      <td>...</td>\n",
       "      <td>...</td>\n",
       "    </tr>\n",
       "    <tr>\n",
       "      <th>209</th>\n",
       "      <td>1.51623</td>\n",
       "      <td>14.14</td>\n",
       "      <td>0.00</td>\n",
       "      <td>2.88</td>\n",
       "      <td>72.61</td>\n",
       "      <td>0.08</td>\n",
       "      <td>9.18</td>\n",
       "      <td>1.06</td>\n",
       "      <td>0.0</td>\n",
       "      <td>7</td>\n",
       "    </tr>\n",
       "    <tr>\n",
       "      <th>210</th>\n",
       "      <td>1.51685</td>\n",
       "      <td>14.92</td>\n",
       "      <td>0.00</td>\n",
       "      <td>1.99</td>\n",
       "      <td>73.06</td>\n",
       "      <td>0.00</td>\n",
       "      <td>8.40</td>\n",
       "      <td>1.59</td>\n",
       "      <td>0.0</td>\n",
       "      <td>7</td>\n",
       "    </tr>\n",
       "    <tr>\n",
       "      <th>211</th>\n",
       "      <td>1.52065</td>\n",
       "      <td>14.36</td>\n",
       "      <td>0.00</td>\n",
       "      <td>2.02</td>\n",
       "      <td>73.42</td>\n",
       "      <td>0.00</td>\n",
       "      <td>8.44</td>\n",
       "      <td>1.64</td>\n",
       "      <td>0.0</td>\n",
       "      <td>7</td>\n",
       "    </tr>\n",
       "    <tr>\n",
       "      <th>212</th>\n",
       "      <td>1.51651</td>\n",
       "      <td>14.38</td>\n",
       "      <td>0.00</td>\n",
       "      <td>1.94</td>\n",
       "      <td>73.61</td>\n",
       "      <td>0.00</td>\n",
       "      <td>8.48</td>\n",
       "      <td>1.57</td>\n",
       "      <td>0.0</td>\n",
       "      <td>7</td>\n",
       "    </tr>\n",
       "    <tr>\n",
       "      <th>213</th>\n",
       "      <td>1.51711</td>\n",
       "      <td>14.23</td>\n",
       "      <td>0.00</td>\n",
       "      <td>2.08</td>\n",
       "      <td>73.36</td>\n",
       "      <td>0.00</td>\n",
       "      <td>8.62</td>\n",
       "      <td>1.67</td>\n",
       "      <td>0.0</td>\n",
       "      <td>7</td>\n",
       "    </tr>\n",
       "  </tbody>\n",
       "</table>\n",
       "<p>214 rows × 10 columns</p>\n",
       "</div>"
      ],
      "text/plain": [
       "          RI     Na    Mg    Al     Si     K    Ca    Ba   Fe  Type\n",
       "0    1.52101  13.64  4.49  1.10  71.78  0.06  8.75  0.00  0.0     1\n",
       "1    1.51761  13.89  3.60  1.36  72.73  0.48  7.83  0.00  0.0     1\n",
       "2    1.51618  13.53  3.55  1.54  72.99  0.39  7.78  0.00  0.0     1\n",
       "3    1.51766  13.21  3.69  1.29  72.61  0.57  8.22  0.00  0.0     1\n",
       "4    1.51742  13.27  3.62  1.24  73.08  0.55  8.07  0.00  0.0     1\n",
       "..       ...    ...   ...   ...    ...   ...   ...   ...  ...   ...\n",
       "209  1.51623  14.14  0.00  2.88  72.61  0.08  9.18  1.06  0.0     7\n",
       "210  1.51685  14.92  0.00  1.99  73.06  0.00  8.40  1.59  0.0     7\n",
       "211  1.52065  14.36  0.00  2.02  73.42  0.00  8.44  1.64  0.0     7\n",
       "212  1.51651  14.38  0.00  1.94  73.61  0.00  8.48  1.57  0.0     7\n",
       "213  1.51711  14.23  0.00  2.08  73.36  0.00  8.62  1.67  0.0     7\n",
       "\n",
       "[214 rows x 10 columns]"
      ]
     },
     "execution_count": 2,
     "metadata": {},
     "output_type": "execute_result"
    }
   ],
   "source": [
    "df_orig= pd.read_csv('glass.csv')\n",
    "df=copy.copy(df_orig)\n",
    "df"
   ]
  },
  {
   "cell_type": "markdown",
   "id": "97137e61",
   "metadata": {},
   "source": [
    "## 2.\tУдалите дубликаты строк в наборе данных"
   ]
  },
  {
   "cell_type": "code",
   "execution_count": 3,
   "id": "e4c36661",
   "metadata": {},
   "outputs": [
    {
     "data": {
      "text/plain": [
       "(214, 10)"
      ]
     },
     "execution_count": 3,
     "metadata": {},
     "output_type": "execute_result"
    }
   ],
   "source": [
    "df.shape"
   ]
  },
  {
   "cell_type": "code",
   "execution_count": 4,
   "id": "5d5e03a4",
   "metadata": {
    "scrolled": true
   },
   "outputs": [
    {
     "data": {
      "text/plain": [
       "(213, 10)"
      ]
     },
     "execution_count": 4,
     "metadata": {},
     "output_type": "execute_result"
    }
   ],
   "source": [
    "df.drop_duplicates().shape"
   ]
  },
  {
   "cell_type": "markdown",
   "id": "ea4609c1",
   "metadata": {},
   "source": [
    "## 3. Оцените сбалансированность данных по классам (постройте гистограмму). Используйте полученную информацию при выборе метрики оценки качества классификации (PR или ROC кривая)."
   ]
  },
  {
   "cell_type": "code",
   "execution_count": 5,
   "id": "27c06d8c",
   "metadata": {},
   "outputs": [
    {
     "data": {
      "text/plain": [
       "[Text(0, 0, 'building_windows_float_processed'),\n",
       " Text(1, 0, 'building_windows_non_float_processed'),\n",
       " Text(2, 0, 'vehicle_windows_float_processed'),\n",
       " Text(3, 0, 'containers'),\n",
       " Text(4, 0, 'tableware'),\n",
       " Text(5, 0, 'headlamps')]"
      ]
     },
     "execution_count": 5,
     "metadata": {},
     "output_type": "execute_result"
    },
    {
     "data": {
      "image/png": "[encoded data removed]",
      "text/plain": [
       "<Figure size 432x288 with 1 Axes>"
      ]
     },
     "metadata": {
      "needs_background": "light"
     },
     "output_type": "display_data"
    }
   ],
   "source": [
    "chart = sns.barplot(data=pd.DataFrame({\n",
    "    'count': [len(df.loc[df[\"Type\"] == 1]),\n",
    "              len(df.loc[df[\"Type\"] == 2]),\n",
    "              len(df.loc[df[\"Type\"] == 3]),\n",
    "              len(df.loc[df[\"Type\"] == 5]),\n",
    "              len(df.loc[df[\"Type\"] == 6]),\n",
    "              len(df.loc[df[\"Type\"] == 7]),],\n",
    "    'Type': ['building_windows_float_processed',\n",
    "             'building_windows_non_float_processed',\n",
    "             'vehicle_windows_float_processed',\n",
    "             'containers',\n",
    "             'tableware',\n",
    "             'headlamps'],}),\n",
    "     y='count', x='Type')\n",
    "gdf=df\n",
    "df1=df\n",
    "chart.set_xticklabels(chart.get_xticklabels(), rotation=45, horizontalalignment='right')"
   ]
  },
  {
   "cell_type": "code",
   "execution_count": 6,
   "id": "264a5414",
   "metadata": {
    "scrolled": true
   },
   "outputs": [
    {
     "data": {
      "text/html": [
       "<div>\n",
       "<style scoped>\n",
       "    .dataframe tbody tr th:only-of-type {\n",
       "        vertical-align: middle;\n",
       "    }\n",
       "\n",
       "    .dataframe tbody tr th {\n",
       "        vertical-align: top;\n",
       "    }\n",
       "\n",
       "    .dataframe thead th {\n",
       "        text-align: right;\n",
       "    }\n",
       "</style>\n",
       "<table border=\"1\" class=\"dataframe\">\n",
       "  <thead>\n",
       "    <tr style=\"text-align: right;\">\n",
       "      <th></th>\n",
       "      <th>RI</th>\n",
       "      <th>Na</th>\n",
       "      <th>Mg</th>\n",
       "      <th>Al</th>\n",
       "      <th>Si</th>\n",
       "      <th>K</th>\n",
       "      <th>Ca</th>\n",
       "      <th>Ba</th>\n",
       "      <th>Fe</th>\n",
       "      <th>Type</th>\n",
       "    </tr>\n",
       "  </thead>\n",
       "  <tbody>\n",
       "    <tr>\n",
       "      <th>0</th>\n",
       "      <td>1.51909</td>\n",
       "      <td>13.89</td>\n",
       "      <td>3.53</td>\n",
       "      <td>1.32</td>\n",
       "      <td>71.81</td>\n",
       "      <td>0.51</td>\n",
       "      <td>8.78</td>\n",
       "      <td>0.11</td>\n",
       "      <td>0.0</td>\n",
       "      <td>1</td>\n",
       "    </tr>\n",
       "    <tr>\n",
       "      <th>1</th>\n",
       "      <td>1.51797</td>\n",
       "      <td>12.74</td>\n",
       "      <td>3.48</td>\n",
       "      <td>1.35</td>\n",
       "      <td>72.96</td>\n",
       "      <td>0.64</td>\n",
       "      <td>8.68</td>\n",
       "      <td>0.00</td>\n",
       "      <td>0.0</td>\n",
       "      <td>1</td>\n",
       "    </tr>\n",
       "    <tr>\n",
       "      <th>2</th>\n",
       "      <td>1.52213</td>\n",
       "      <td>14.21</td>\n",
       "      <td>3.82</td>\n",
       "      <td>0.47</td>\n",
       "      <td>71.77</td>\n",
       "      <td>0.11</td>\n",
       "      <td>9.57</td>\n",
       "      <td>0.00</td>\n",
       "      <td>0.0</td>\n",
       "      <td>1</td>\n",
       "    </tr>\n",
       "    <tr>\n",
       "      <th>3</th>\n",
       "      <td>1.52213</td>\n",
       "      <td>14.21</td>\n",
       "      <td>3.82</td>\n",
       "      <td>0.47</td>\n",
       "      <td>71.77</td>\n",
       "      <td>0.11</td>\n",
       "      <td>9.57</td>\n",
       "      <td>0.00</td>\n",
       "      <td>0.0</td>\n",
       "      <td>1</td>\n",
       "    </tr>\n",
       "    <tr>\n",
       "      <th>4</th>\n",
       "      <td>1.51793</td>\n",
       "      <td>12.79</td>\n",
       "      <td>3.50</td>\n",
       "      <td>1.12</td>\n",
       "      <td>73.03</td>\n",
       "      <td>0.64</td>\n",
       "      <td>8.77</td>\n",
       "      <td>0.00</td>\n",
       "      <td>0.0</td>\n",
       "      <td>1</td>\n",
       "    </tr>\n",
       "    <tr>\n",
       "      <th>...</th>\n",
       "      <td>...</td>\n",
       "      <td>...</td>\n",
       "      <td>...</td>\n",
       "      <td>...</td>\n",
       "      <td>...</td>\n",
       "      <td>...</td>\n",
       "      <td>...</td>\n",
       "      <td>...</td>\n",
       "      <td>...</td>\n",
       "      <td>...</td>\n",
       "    </tr>\n",
       "    <tr>\n",
       "      <th>126</th>\n",
       "      <td>1.51623</td>\n",
       "      <td>14.14</td>\n",
       "      <td>0.00</td>\n",
       "      <td>2.88</td>\n",
       "      <td>72.61</td>\n",
       "      <td>0.08</td>\n",
       "      <td>9.18</td>\n",
       "      <td>1.06</td>\n",
       "      <td>0.0</td>\n",
       "      <td>7</td>\n",
       "    </tr>\n",
       "    <tr>\n",
       "      <th>127</th>\n",
       "      <td>1.51685</td>\n",
       "      <td>14.92</td>\n",
       "      <td>0.00</td>\n",
       "      <td>1.99</td>\n",
       "      <td>73.06</td>\n",
       "      <td>0.00</td>\n",
       "      <td>8.40</td>\n",
       "      <td>1.59</td>\n",
       "      <td>0.0</td>\n",
       "      <td>7</td>\n",
       "    </tr>\n",
       "    <tr>\n",
       "      <th>128</th>\n",
       "      <td>1.52065</td>\n",
       "      <td>14.36</td>\n",
       "      <td>0.00</td>\n",
       "      <td>2.02</td>\n",
       "      <td>73.42</td>\n",
       "      <td>0.00</td>\n",
       "      <td>8.44</td>\n",
       "      <td>1.64</td>\n",
       "      <td>0.0</td>\n",
       "      <td>7</td>\n",
       "    </tr>\n",
       "    <tr>\n",
       "      <th>129</th>\n",
       "      <td>1.51651</td>\n",
       "      <td>14.38</td>\n",
       "      <td>0.00</td>\n",
       "      <td>1.94</td>\n",
       "      <td>73.61</td>\n",
       "      <td>0.00</td>\n",
       "      <td>8.48</td>\n",
       "      <td>1.57</td>\n",
       "      <td>0.0</td>\n",
       "      <td>7</td>\n",
       "    </tr>\n",
       "    <tr>\n",
       "      <th>130</th>\n",
       "      <td>1.51711</td>\n",
       "      <td>14.23</td>\n",
       "      <td>0.00</td>\n",
       "      <td>2.08</td>\n",
       "      <td>73.36</td>\n",
       "      <td>0.00</td>\n",
       "      <td>8.62</td>\n",
       "      <td>1.67</td>\n",
       "      <td>0.0</td>\n",
       "      <td>7</td>\n",
       "    </tr>\n",
       "  </tbody>\n",
       "</table>\n",
       "<p>131 rows × 10 columns</p>\n",
       "</div>"
      ],
      "text/plain": [
       "          RI     Na    Mg    Al     Si     K    Ca    Ba   Fe  Type\n",
       "0    1.51909  13.89  3.53  1.32  71.81  0.51  8.78  0.11  0.0     1\n",
       "1    1.51797  12.74  3.48  1.35  72.96  0.64  8.68  0.00  0.0     1\n",
       "2    1.52213  14.21  3.82  0.47  71.77  0.11  9.57  0.00  0.0     1\n",
       "3    1.52213  14.21  3.82  0.47  71.77  0.11  9.57  0.00  0.0     1\n",
       "4    1.51793  12.79  3.50  1.12  73.03  0.64  8.77  0.00  0.0     1\n",
       "..       ...    ...   ...   ...    ...   ...   ...   ...  ...   ...\n",
       "126  1.51623  14.14  0.00  2.88  72.61  0.08  9.18  1.06  0.0     7\n",
       "127  1.51685  14.92  0.00  1.99  73.06  0.00  8.40  1.59  0.0     7\n",
       "128  1.52065  14.36  0.00  2.02  73.42  0.00  8.44  1.64  0.0     7\n",
       "129  1.51651  14.38  0.00  1.94  73.61  0.00  8.48  1.57  0.0     7\n",
       "130  1.51711  14.23  0.00  2.08  73.36  0.00  8.62  1.67  0.0     7\n",
       "\n",
       "[131 rows x 10 columns]"
      ]
     },
     "execution_count": 6,
     "metadata": {},
     "output_type": "execute_result"
    }
   ],
   "source": [
    "df=df.loc[(df.Type != 1) | (df.Type.index > 35)]\n",
    "df.reset_index(drop = True, inplace = True)\n",
    "\n",
    "df=df.loc[(df.Type != 2) | (df.Type.index > 80)]\n",
    "df.reset_index(drop = True, inplace = True)\n",
    "\n",
    "df"
   ]
  },
  {
   "cell_type": "code",
   "execution_count": 7,
   "id": "3a02b83a",
   "metadata": {},
   "outputs": [
    {
     "data": {
      "text/plain": [
       "[Text(0, 0, 'building_windows_float_processed'),\n",
       " Text(1, 0, 'building_windows_non_float_processed'),\n",
       " Text(2, 0, 'vehicle_windows_float_processed'),\n",
       " Text(3, 0, 'containers'),\n",
       " Text(4, 0, 'tableware'),\n",
       " Text(5, 0, 'headlamps')]"
      ]
     },
     "execution_count": 7,
     "metadata": {},
     "output_type": "execute_result"
    },
    {
     "data": {
      "image/png": "[encoded data removed]",
      "text/plain": [
       "<Figure size 432x288 with 1 Axes>"
      ]
     },
     "metadata": {
      "needs_background": "light"
     },
     "output_type": "display_data"
    }
   ],
   "source": [
    "chart = sns.barplot(data=pd.DataFrame({\n",
    "    'count': [len(df.loc[df[\"Type\"] == 1]),\n",
    "              len(df.loc[df[\"Type\"] == 2]),\n",
    "              len(df.loc[df[\"Type\"] == 3]),\n",
    "              len(df.loc[df[\"Type\"] == 5]),\n",
    "              len(df.loc[df[\"Type\"] == 6]),\n",
    "              len(df.loc[df[\"Type\"] == 7]),],\n",
    "    'Type': ['building_windows_float_processed',\n",
    "             'building_windows_non_float_processed',\n",
    "             'vehicle_windows_float_processed',\n",
    "             'containers',\n",
    "             'tableware',\n",
    "             'headlamps'],}),\n",
    "     y='count', x='Type')\n",
    "gdf=df\n",
    "df1=df\n",
    "chart.set_xticklabels(chart.get_xticklabels(), rotation=45, horizontalalignment='right')"
   ]
  },
  {
   "cell_type": "code",
   "execution_count": 8,
   "id": "57b3f5b7",
   "metadata": {},
   "outputs": [],
   "source": [
    "df.loc[df.Type == 1, 'Type'] = 0\n",
    "df.loc[df.Type == 2, 'Type'] = 1\n",
    "df.loc[df.Type == 3, 'Type'] = 2\n",
    "df.loc[df.Type == 5, 'Type'] = 3\n",
    "df.loc[df.Type == 6, 'Type'] = 4\n",
    "df.loc[df.Type == 7, 'Type'] = 5"
   ]
  },
  {
   "cell_type": "markdown",
   "id": "2beea9b4",
   "metadata": {},
   "source": [
    "## 4. Выполните масштабирование количественных признаков; Постройте диаграммы BoxPlot для признаков до и после масштабирования. "
   ]
  },
  {
   "cell_type": "code",
   "execution_count": 9,
   "id": "de0069a5",
   "metadata": {},
   "outputs": [
    {
     "data": {
      "text/html": [
       "<div>\n",
       "<style scoped>\n",
       "    .dataframe tbody tr th:only-of-type {\n",
       "        vertical-align: middle;\n",
       "    }\n",
       "\n",
       "    .dataframe tbody tr th {\n",
       "        vertical-align: top;\n",
       "    }\n",
       "\n",
       "    .dataframe thead th {\n",
       "        text-align: right;\n",
       "    }\n",
       "</style>\n",
       "<table border=\"1\" class=\"dataframe\">\n",
       "  <thead>\n",
       "    <tr style=\"text-align: right;\">\n",
       "      <th></th>\n",
       "      <th>RI</th>\n",
       "      <th>Na</th>\n",
       "      <th>Mg</th>\n",
       "      <th>Al</th>\n",
       "      <th>Si</th>\n",
       "      <th>K</th>\n",
       "      <th>Ca</th>\n",
       "      <th>Ba</th>\n",
       "      <th>Fe</th>\n",
       "      <th>Type</th>\n",
       "    </tr>\n",
       "  </thead>\n",
       "  <tbody>\n",
       "    <tr>\n",
       "      <th>count</th>\n",
       "      <td>131.000000</td>\n",
       "      <td>131.000000</td>\n",
       "      <td>131.000000</td>\n",
       "      <td>131.000000</td>\n",
       "      <td>131.000000</td>\n",
       "      <td>131.000000</td>\n",
       "      <td>131.000000</td>\n",
       "      <td>131.000000</td>\n",
       "      <td>131.000000</td>\n",
       "      <td>131.000000</td>\n",
       "    </tr>\n",
       "    <tr>\n",
       "      <th>mean</th>\n",
       "      <td>1.518389</td>\n",
       "      <td>13.625267</td>\n",
       "      <td>2.373282</td>\n",
       "      <td>1.512748</td>\n",
       "      <td>72.602519</td>\n",
       "      <td>0.491756</td>\n",
       "      <td>8.971298</td>\n",
       "      <td>0.259313</td>\n",
       "      <td>0.055267</td>\n",
       "      <td>2.160305</td>\n",
       "    </tr>\n",
       "    <tr>\n",
       "      <th>std</th>\n",
       "      <td>0.002686</td>\n",
       "      <td>0.820887</td>\n",
       "      <td>1.558461</td>\n",
       "      <td>0.575482</td>\n",
       "      <td>0.811748</td>\n",
       "      <td>0.816029</td>\n",
       "      <td>1.188480</td>\n",
       "      <td>0.557780</td>\n",
       "      <td>0.099153</td>\n",
       "      <td>1.904718</td>\n",
       "    </tr>\n",
       "    <tr>\n",
       "      <th>min</th>\n",
       "      <td>1.511150</td>\n",
       "      <td>11.030000</td>\n",
       "      <td>0.000000</td>\n",
       "      <td>0.340000</td>\n",
       "      <td>69.890000</td>\n",
       "      <td>0.000000</td>\n",
       "      <td>5.430000</td>\n",
       "      <td>0.000000</td>\n",
       "      <td>0.000000</td>\n",
       "      <td>0.000000</td>\n",
       "    </tr>\n",
       "    <tr>\n",
       "      <th>25%</th>\n",
       "      <td>1.516655</td>\n",
       "      <td>13.085000</td>\n",
       "      <td>0.000000</td>\n",
       "      <td>1.190000</td>\n",
       "      <td>72.180000</td>\n",
       "      <td>0.080000</td>\n",
       "      <td>8.395000</td>\n",
       "      <td>0.000000</td>\n",
       "      <td>0.000000</td>\n",
       "      <td>0.000000</td>\n",
       "    </tr>\n",
       "    <tr>\n",
       "      <th>50%</th>\n",
       "      <td>1.517970</td>\n",
       "      <td>13.490000</td>\n",
       "      <td>3.370000</td>\n",
       "      <td>1.400000</td>\n",
       "      <td>72.720000</td>\n",
       "      <td>0.510000</td>\n",
       "      <td>8.780000</td>\n",
       "      <td>0.000000</td>\n",
       "      <td>0.000000</td>\n",
       "      <td>2.000000</td>\n",
       "    </tr>\n",
       "    <tr>\n",
       "      <th>75%</th>\n",
       "      <td>1.520070</td>\n",
       "      <td>14.145000</td>\n",
       "      <td>3.600000</td>\n",
       "      <td>1.795000</td>\n",
       "      <td>73.025000</td>\n",
       "      <td>0.590000</td>\n",
       "      <td>9.570000</td>\n",
       "      <td>0.075000</td>\n",
       "      <td>0.090000</td>\n",
       "      <td>4.000000</td>\n",
       "    </tr>\n",
       "    <tr>\n",
       "      <th>max</th>\n",
       "      <td>1.526670</td>\n",
       "      <td>17.380000</td>\n",
       "      <td>3.980000</td>\n",
       "      <td>3.500000</td>\n",
       "      <td>75.410000</td>\n",
       "      <td>6.210000</td>\n",
       "      <td>13.440000</td>\n",
       "      <td>2.880000</td>\n",
       "      <td>0.510000</td>\n",
       "      <td>5.000000</td>\n",
       "    </tr>\n",
       "  </tbody>\n",
       "</table>\n",
       "</div>"
      ],
      "text/plain": [
       "               RI          Na          Mg          Al          Si           K  \\\n",
       "count  131.000000  131.000000  131.000000  131.000000  131.000000  131.000000   \n",
       "mean     1.518389   13.625267    2.373282    1.512748   72.602519    0.491756   \n",
       "std      0.002686    0.820887    1.558461    0.575482    0.811748    0.816029   \n",
       "min      1.511150   11.030000    0.000000    0.340000   69.890000    0.000000   \n",
       "25%      1.516655   13.085000    0.000000    1.190000   72.180000    0.080000   \n",
       "50%      1.517970   13.490000    3.370000    1.400000   72.720000    0.510000   \n",
       "75%      1.520070   14.145000    3.600000    1.795000   73.025000    0.590000   \n",
       "max      1.526670   17.380000    3.980000    3.500000   75.410000    6.210000   \n",
       "\n",
       "               Ca          Ba          Fe        Type  \n",
       "count  131.000000  131.000000  131.000000  131.000000  \n",
       "mean     8.971298    0.259313    0.055267    2.160305  \n",
       "std      1.188480    0.557780    0.099153    1.904718  \n",
       "min      5.430000    0.000000    0.000000    0.000000  \n",
       "25%      8.395000    0.000000    0.000000    0.000000  \n",
       "50%      8.780000    0.000000    0.000000    2.000000  \n",
       "75%      9.570000    0.075000    0.090000    4.000000  \n",
       "max     13.440000    2.880000    0.510000    5.000000  "
      ]
     },
     "execution_count": 9,
     "metadata": {},
     "output_type": "execute_result"
    }
   ],
   "source": [
    "df.describe()"
   ]
  },
  {
   "cell_type": "code",
   "execution_count": 10,
   "id": "69c6f668",
   "metadata": {},
   "outputs": [
    {
     "data": {
      "text/html": [
       "<div>\n",
       "<style scoped>\n",
       "    .dataframe tbody tr th:only-of-type {\n",
       "        vertical-align: middle;\n",
       "    }\n",
       "\n",
       "    .dataframe tbody tr th {\n",
       "        vertical-align: top;\n",
       "    }\n",
       "\n",
       "    .dataframe thead th {\n",
       "        text-align: right;\n",
       "    }\n",
       "</style>\n",
       "<table border=\"1\" class=\"dataframe\">\n",
       "  <thead>\n",
       "    <tr style=\"text-align: right;\">\n",
       "      <th></th>\n",
       "      <th>RI</th>\n",
       "      <th>Na</th>\n",
       "      <th>Mg</th>\n",
       "      <th>Al</th>\n",
       "      <th>Si</th>\n",
       "      <th>K</th>\n",
       "      <th>Ca</th>\n",
       "      <th>Ba</th>\n",
       "      <th>Fe</th>\n",
       "      <th>Type</th>\n",
       "    </tr>\n",
       "  </thead>\n",
       "  <tbody>\n",
       "    <tr>\n",
       "      <th>0</th>\n",
       "      <td>1.51909</td>\n",
       "      <td>13.89</td>\n",
       "      <td>3.53</td>\n",
       "      <td>1.32</td>\n",
       "      <td>71.81</td>\n",
       "      <td>0.51</td>\n",
       "      <td>8.78</td>\n",
       "      <td>0.11</td>\n",
       "      <td>0.0</td>\n",
       "      <td>0</td>\n",
       "    </tr>\n",
       "    <tr>\n",
       "      <th>1</th>\n",
       "      <td>1.51797</td>\n",
       "      <td>12.74</td>\n",
       "      <td>3.48</td>\n",
       "      <td>1.35</td>\n",
       "      <td>72.96</td>\n",
       "      <td>0.64</td>\n",
       "      <td>8.68</td>\n",
       "      <td>0.00</td>\n",
       "      <td>0.0</td>\n",
       "      <td>0</td>\n",
       "    </tr>\n",
       "    <tr>\n",
       "      <th>2</th>\n",
       "      <td>1.52213</td>\n",
       "      <td>14.21</td>\n",
       "      <td>3.82</td>\n",
       "      <td>0.47</td>\n",
       "      <td>71.77</td>\n",
       "      <td>0.11</td>\n",
       "      <td>9.57</td>\n",
       "      <td>0.00</td>\n",
       "      <td>0.0</td>\n",
       "      <td>0</td>\n",
       "    </tr>\n",
       "    <tr>\n",
       "      <th>3</th>\n",
       "      <td>1.52213</td>\n",
       "      <td>14.21</td>\n",
       "      <td>3.82</td>\n",
       "      <td>0.47</td>\n",
       "      <td>71.77</td>\n",
       "      <td>0.11</td>\n",
       "      <td>9.57</td>\n",
       "      <td>0.00</td>\n",
       "      <td>0.0</td>\n",
       "      <td>0</td>\n",
       "    </tr>\n",
       "    <tr>\n",
       "      <th>4</th>\n",
       "      <td>1.51793</td>\n",
       "      <td>12.79</td>\n",
       "      <td>3.50</td>\n",
       "      <td>1.12</td>\n",
       "      <td>73.03</td>\n",
       "      <td>0.64</td>\n",
       "      <td>8.77</td>\n",
       "      <td>0.00</td>\n",
       "      <td>0.0</td>\n",
       "      <td>0</td>\n",
       "    </tr>\n",
       "  </tbody>\n",
       "</table>\n",
       "</div>"
      ],
      "text/plain": [
       "        RI     Na    Mg    Al     Si     K    Ca    Ba   Fe  Type\n",
       "0  1.51909  13.89  3.53  1.32  71.81  0.51  8.78  0.11  0.0     0\n",
       "1  1.51797  12.74  3.48  1.35  72.96  0.64  8.68  0.00  0.0     0\n",
       "2  1.52213  14.21  3.82  0.47  71.77  0.11  9.57  0.00  0.0     0\n",
       "3  1.52213  14.21  3.82  0.47  71.77  0.11  9.57  0.00  0.0     0\n",
       "4  1.51793  12.79  3.50  1.12  73.03  0.64  8.77  0.00  0.0     0"
      ]
     },
     "execution_count": 10,
     "metadata": {},
     "output_type": "execute_result"
    }
   ],
   "source": [
    "df.head()"
   ]
  },
  {
   "cell_type": "code",
   "execution_count": 11,
   "id": "d33ccfa9",
   "metadata": {},
   "outputs": [
    {
     "data": {
      "text/plain": [
       "<AxesSubplot:>"
      ]
     },
     "execution_count": 11,
     "metadata": {},
     "output_type": "execute_result"
    },
    {
     "data": {
      "image/png": "[encoded data removed]",
      "text/plain": [
       "<Figure size 432x288 with 1 Axes>"
      ]
     },
     "metadata": {
      "needs_background": "light"
     },
     "output_type": "display_data"
    }
   ],
   "source": [
    "numerical = [c for c in gdf.columns if gdf[c].dtype.name != 'object']\n",
    "sns.boxplot(data=gdf[numerical], orient = 'h')"
   ]
  },
  {
   "cell_type": "code",
   "execution_count": 12,
   "id": "f99bfa1d",
   "metadata": {},
   "outputs": [
    {
     "name": "stdout",
     "output_type": "stream",
     "text": [
      "BoxPlot после масштабирования:\n"
     ]
    },
    {
     "data": {
      "text/plain": [
       "<AxesSubplot:>"
      ]
     },
     "execution_count": 12,
     "metadata": {},
     "output_type": "execute_result"
    },
    {
     "data": {
      "image/png": "[encoded data removed]",
      "text/plain": [
       "<Figure size 432x288 with 1 Axes>"
      ]
     },
     "metadata": {
      "needs_background": "light"
     },
     "output_type": "display_data"
    }
   ],
   "source": [
    "Scaling = df.drop('Type', axis = 1)\n",
    "scaler = MinMaxScaler()\n",
    "scaler.fit(Scaling) \n",
    "Scaling = scaler.transform(Scaling) \n",
    "print('BoxPlot после масштабирования:')\n",
    "seaborn.boxplot(data = Scaling, orient = 'h')"
   ]
  },
  {
   "cell_type": "markdown",
   "id": "a4b8fa18",
   "metadata": {},
   "source": [
    "## 5. Выполните замену категориальных признаков; выберите и обоснуйте способ замены."
   ]
  },
  {
   "cell_type": "code",
   "execution_count": 13,
   "id": "74d90951",
   "metadata": {},
   "outputs": [
    {
     "name": "stdout",
     "output_type": "stream",
     "text": [
      "Категориальные признаки:\n",
      "[]\n",
      "Количественные признаки:\n",
      "['RI', 'Na', 'Mg', 'Al', 'Si', 'K', 'Ca', 'Ba', 'Fe', 'Type']\n"
     ]
    }
   ],
   "source": [
    "categorical_columns = [i for i in gdf.columns if gdf[i].dtype.name == 'Type']\n",
    "numerical_columns = [i for i in gdf.columns if gdf[i].dtype.name != 'Type']\n",
    "print('Категориальные признаки:')\n",
    "print(categorical_columns)\n",
    "print('Количественные признаки:')\n",
    "print(numerical_columns)"
   ]
  },
  {
   "cell_type": "markdown",
   "id": "0d455e0a",
   "metadata": {},
   "source": [
    "Категориальные признаки отсутствуют"
   ]
  },
  {
   "cell_type": "markdown",
   "id": "18483951",
   "metadata": {},
   "source": [
    "## 6. Оцените корреляцию между признаками и удалите те признаки, которые коррелируют с наибольшим числом других ."
   ]
  },
  {
   "cell_type": "code",
   "execution_count": 14,
   "id": "2050c7f3",
   "metadata": {},
   "outputs": [
    {
     "data": {
      "image/png": "[encoded data removed]",
      "text/plain": [
       "<Figure size 1600x1600 with 2 Axes>"
      ]
     },
     "metadata": {
      "needs_background": "light"
     },
     "output_type": "display_data"
    },
    {
     "data": {
      "text/html": [
       "<div>\n",
       "<style scoped>\n",
       "    .dataframe tbody tr th:only-of-type {\n",
       "        vertical-align: middle;\n",
       "    }\n",
       "\n",
       "    .dataframe tbody tr th {\n",
       "        vertical-align: top;\n",
       "    }\n",
       "\n",
       "    .dataframe thead th {\n",
       "        text-align: right;\n",
       "    }\n",
       "</style>\n",
       "<table border=\"1\" class=\"dataframe\">\n",
       "  <thead>\n",
       "    <tr style=\"text-align: right;\">\n",
       "      <th></th>\n",
       "      <th>RI</th>\n",
       "      <th>Na</th>\n",
       "      <th>Mg</th>\n",
       "      <th>Al</th>\n",
       "      <th>Si</th>\n",
       "      <th>K</th>\n",
       "      <th>Ca</th>\n",
       "      <th>Ba</th>\n",
       "      <th>Fe</th>\n",
       "      <th>Type</th>\n",
       "    </tr>\n",
       "  </thead>\n",
       "  <tbody>\n",
       "    <tr>\n",
       "      <th>RI</th>\n",
       "      <td>1.000000</td>\n",
       "      <td>-0.111501</td>\n",
       "      <td>0.213442</td>\n",
       "      <td>-0.477831</td>\n",
       "      <td>-0.467730</td>\n",
       "      <td>-0.307145</td>\n",
       "      <td>0.669602</td>\n",
       "      <td>-0.211660</td>\n",
       "      <td>0.111384</td>\n",
       "      <td>-0.321637</td>\n",
       "    </tr>\n",
       "    <tr>\n",
       "      <th>Na</th>\n",
       "      <td>-0.111501</td>\n",
       "      <td>1.000000</td>\n",
       "      <td>-0.440625</td>\n",
       "      <td>0.190135</td>\n",
       "      <td>-0.013479</td>\n",
       "      <td>-0.313616</td>\n",
       "      <td>-0.171641</td>\n",
       "      <td>0.495281</td>\n",
       "      <td>-0.231595</td>\n",
       "      <td>0.527885</td>\n",
       "    </tr>\n",
       "    <tr>\n",
       "      <th>Mg</th>\n",
       "      <td>0.213442</td>\n",
       "      <td>-0.440625</td>\n",
       "      <td>1.000000</td>\n",
       "      <td>-0.623651</td>\n",
       "      <td>-0.345152</td>\n",
       "      <td>-0.043308</td>\n",
       "      <td>-0.232680</td>\n",
       "      <td>-0.498184</td>\n",
       "      <td>0.200008</td>\n",
       "      <td>-0.782281</td>\n",
       "    </tr>\n",
       "    <tr>\n",
       "      <th>Al</th>\n",
       "      <td>-0.477831</td>\n",
       "      <td>0.190135</td>\n",
       "      <td>-0.623651</td>\n",
       "      <td>1.000000</td>\n",
       "      <td>0.008034</td>\n",
       "      <td>0.309985</td>\n",
       "      <td>-0.239240</td>\n",
       "      <td>0.503320</td>\n",
       "      <td>-0.149436</td>\n",
       "      <td>0.637853</td>\n",
       "    </tr>\n",
       "    <tr>\n",
       "      <th>Si</th>\n",
       "      <td>-0.467730</td>\n",
       "      <td>-0.013479</td>\n",
       "      <td>-0.345152</td>\n",
       "      <td>0.008034</td>\n",
       "      <td>1.000000</td>\n",
       "      <td>-0.282727</td>\n",
       "      <td>-0.047015</td>\n",
       "      <td>0.035331</td>\n",
       "      <td>-0.059860</td>\n",
       "      <td>0.282225</td>\n",
       "    </tr>\n",
       "    <tr>\n",
       "      <th>K</th>\n",
       "      <td>-0.307145</td>\n",
       "      <td>-0.313616</td>\n",
       "      <td>-0.043308</td>\n",
       "      <td>0.309985</td>\n",
       "      <td>-0.282727</td>\n",
       "      <td>1.000000</td>\n",
       "      <td>-0.363570</td>\n",
       "      <td>-0.051673</td>\n",
       "      <td>-0.026279</td>\n",
       "      <td>-0.022107</td>\n",
       "    </tr>\n",
       "    <tr>\n",
       "      <th>Ca</th>\n",
       "      <td>0.669602</td>\n",
       "      <td>-0.171641</td>\n",
       "      <td>-0.232680</td>\n",
       "      <td>-0.239240</td>\n",
       "      <td>-0.047015</td>\n",
       "      <td>-0.363570</td>\n",
       "      <td>1.000000</td>\n",
       "      <td>-0.360854</td>\n",
       "      <td>0.068698</td>\n",
       "      <td>-0.084875</td>\n",
       "    </tr>\n",
       "    <tr>\n",
       "      <th>Ba</th>\n",
       "      <td>-0.211660</td>\n",
       "      <td>0.495281</td>\n",
       "      <td>-0.498184</td>\n",
       "      <td>0.503320</td>\n",
       "      <td>0.035331</td>\n",
       "      <td>-0.051673</td>\n",
       "      <td>-0.360854</td>\n",
       "      <td>1.000000</td>\n",
       "      <td>-0.177132</td>\n",
       "      <td>0.618725</td>\n",
       "    </tr>\n",
       "    <tr>\n",
       "      <th>Fe</th>\n",
       "      <td>0.111384</td>\n",
       "      <td>-0.231595</td>\n",
       "      <td>0.200008</td>\n",
       "      <td>-0.149436</td>\n",
       "      <td>-0.059860</td>\n",
       "      <td>-0.026279</td>\n",
       "      <td>0.068698</td>\n",
       "      <td>-0.177132</td>\n",
       "      <td>1.000000</td>\n",
       "      <td>-0.268032</td>\n",
       "    </tr>\n",
       "    <tr>\n",
       "      <th>Type</th>\n",
       "      <td>-0.321637</td>\n",
       "      <td>0.527885</td>\n",
       "      <td>-0.782281</td>\n",
       "      <td>0.637853</td>\n",
       "      <td>0.282225</td>\n",
       "      <td>-0.022107</td>\n",
       "      <td>-0.084875</td>\n",
       "      <td>0.618725</td>\n",
       "      <td>-0.268032</td>\n",
       "      <td>1.000000</td>\n",
       "    </tr>\n",
       "  </tbody>\n",
       "</table>\n",
       "</div>"
      ],
      "text/plain": [
       "            RI        Na        Mg        Al        Si         K        Ca  \\\n",
       "RI    1.000000 -0.111501  0.213442 -0.477831 -0.467730 -0.307145  0.669602   \n",
       "Na   -0.111501  1.000000 -0.440625  0.190135 -0.013479 -0.313616 -0.171641   \n",
       "Mg    0.213442 -0.440625  1.000000 -0.623651 -0.345152 -0.043308 -0.232680   \n",
       "Al   -0.477831  0.190135 -0.623651  1.000000  0.008034  0.309985 -0.239240   \n",
       "Si   -0.467730 -0.013479 -0.345152  0.008034  1.000000 -0.282727 -0.047015   \n",
       "K    -0.307145 -0.313616 -0.043308  0.309985 -0.282727  1.000000 -0.363570   \n",
       "Ca    0.669602 -0.171641 -0.232680 -0.239240 -0.047015 -0.363570  1.000000   \n",
       "Ba   -0.211660  0.495281 -0.498184  0.503320  0.035331 -0.051673 -0.360854   \n",
       "Fe    0.111384 -0.231595  0.200008 -0.149436 -0.059860 -0.026279  0.068698   \n",
       "Type -0.321637  0.527885 -0.782281  0.637853  0.282225 -0.022107 -0.084875   \n",
       "\n",
       "            Ba        Fe      Type  \n",
       "RI   -0.211660  0.111384 -0.321637  \n",
       "Na    0.495281 -0.231595  0.527885  \n",
       "Mg   -0.498184  0.200008 -0.782281  \n",
       "Al    0.503320 -0.149436  0.637853  \n",
       "Si    0.035331 -0.059860  0.282225  \n",
       "K    -0.051673 -0.026279 -0.022107  \n",
       "Ca   -0.360854  0.068698 -0.084875  \n",
       "Ba    1.000000 -0.177132  0.618725  \n",
       "Fe   -0.177132  1.000000 -0.268032  \n",
       "Type  0.618725 -0.268032  1.000000  "
      ]
     },
     "execution_count": 14,
     "metadata": {},
     "output_type": "execute_result"
    }
   ],
   "source": [
    "plt.figure(figsize=(20,20), dpi= 80)\n",
    "sns.heatmap(df.corr(),xticklabels=df.corr().columns, yticklabels=df.corr().columns, cmap='magma', center=0, annot=True)\n",
    "\n",
    "\n",
    "plt.title('Glass', fontsize=22)\n",
    "plt.xticks(fontsize=12)\n",
    "plt.yticks(fontsize=12)\n",
    "plt.show()\n",
    "\n",
    "df.corr()\n"
   ]
  },
  {
   "cell_type": "markdown",
   "id": "7768542b",
   "metadata": {},
   "source": [
    "## 7. Заполните пропущенные значения в данных."
   ]
  },
  {
   "cell_type": "code",
   "execution_count": 15,
   "id": "dd6bfd0c",
   "metadata": {
    "scrolled": true
   },
   "outputs": [
    {
     "data": {
      "text/plain": [
       "RI      131\n",
       "Na      131\n",
       "Mg      131\n",
       "Al      131\n",
       "Si      131\n",
       "K       131\n",
       "Ca      131\n",
       "Ba      131\n",
       "Fe      131\n",
       "Type    131\n",
       "dtype: int64"
      ]
     },
     "execution_count": 15,
     "metadata": {},
     "output_type": "execute_result"
    }
   ],
   "source": [
    "df.count()"
   ]
  },
  {
   "cell_type": "markdown",
   "id": "e93689e4",
   "metadata": {},
   "source": [
    "## 8. Решите поставленную задачу классификации в соответствии с заданием."
   ]
  },
  {
   "cell_type": "code",
   "execution_count": 37,
   "id": "4f423de6",
   "metadata": {},
   "outputs": [],
   "source": [
    "X = df.drop(columns=['Type'], axis=1)\n",
    "y0 = df['Type']\n",
    "\n",
    "y1 = label_binarize(y0, classes=[0,1,2,3,4,5])\n",
    "\n",
    "n_classes = 6\n",
    "\n",
    "X0_train, X0_test, y0_train, y0_test = train_test_split(X, y1, test_size = 0.3, random_state = 11)\n",
    "            \n",
    "X1_train, X1_test, y1_train, y1_test = train_test_split(X, y1, test_size = 0.4, random_state = 34)"
   ]
  },
  {
   "cell_type": "code",
   "execution_count": 17,
   "id": "30633d3f",
   "metadata": {},
   "outputs": [
    {
     "name": "stdout",
     "output_type": "stream",
     "text": [
      "0.3183333333333333\n",
      "{'estimator__alpha': 0.10526315789473684, 'estimator__max_iter': 12, 'estimator__penalty': 'l1'}\n"
     ]
    }
   ],
   "source": [
    "p = Perceptron()\n",
    "pclff = OneVsRestClassifier(p, n_jobs= -1)\n",
    "\n",
    "parameters = {\n",
    "    \"estimator__max_iter\":[x for x in range(1, 50)],\n",
    "    \"estimator__alpha\":  np.linspace(0, 1, 20)[1:],\n",
    "    \"estimator__penalty\":['l1', 'l2']}\n",
    "\n",
    "model_tunning = GridSearchCV(pclff, param_grid = parameters, n_jobs = -1)\n",
    "model_tunning.fit(X1_train, y1_train)\n",
    "\n",
    "print(model_tunning.best_score_)\n",
    "print(model_tunning.best_params_)"
   ]
  },
  {
   "cell_type": "code",
   "execution_count": 24,
   "id": "61ed9990",
   "metadata": {},
   "outputs": [
    {
     "name": "stdout",
     "output_type": "stream",
     "text": [
      "0.4339622641509434\n"
     ]
    }
   ],
   "source": [
    "ppn = Perceptron(alpha = 0.10526315789473684, max_iter = 12, penalty = 'l1')\n",
    "\n",
    "pclf = OneVsRestClassifier(ppn, n_jobs= -1)\n",
    "\n",
    "y1_score = pclf.fit(X1_train, y1_train).decision_function(X1_test)\n",
    "\n",
    "print(pclf.score(X1_test, y1_test))"
   ]
  },
  {
   "cell_type": "code",
   "execution_count": 92,
   "id": "56c31db7",
   "metadata": {},
   "outputs": [
    {
     "name": "stdout",
     "output_type": "stream",
     "text": [
      "{'estimator__max_depth': 10, 'estimator__max_features': 6}\n"
     ]
    }
   ],
   "source": [
    "dtc = DecisionTreeClassifier()\n",
    "dtclf = OneVsRestClassifier(dtc, n_jobs= -1)\n",
    "\n",
    "params = {\n",
    "    \"estimator__max_depth\": list(range(1,12)),\n",
    "    \"estimator__max_features\"  : list(range(1,8))}\n",
    "\n",
    "\n",
    "dtc_grid = GridSearchCV(dtclf, params)\n",
    "dtc_grid.fit (X0_train, y0_train)\n",
    "\n",
    "print(dtc_grid.best_params_)"
   ]
  },
  {
   "cell_type": "code",
   "execution_count": 98,
   "id": "2a4c4657",
   "metadata": {},
   "outputs": [
    {
     "data": {
      "text/plain": [
       "0.625"
      ]
     },
     "execution_count": 98,
     "metadata": {},
     "output_type": "execute_result"
    }
   ],
   "source": [
    "dtc = DecisionTreeClassifier(max_depth = 10, max_features = 6)\n",
    "dtclf = OneVsRestClassifier(dtc, n_jobs= -1)\n",
    "dtclf.fit(X0_train, y0_train)\n",
    "dtclf.score(X0_test, y0_test)"
   ]
  },
  {
   "cell_type": "markdown",
   "id": "20359213",
   "metadata": {},
   "source": [
    "## 9. Сравните кривые для классификаторов, указанных в задании, сделайте выводы."
   ]
  },
  {
   "cell_type": "code",
   "execution_count": 94,
   "id": "26a9f791",
   "metadata": {},
   "outputs": [],
   "source": [
    "fpr = dict()\n",
    "tpr = dict()\n",
    "roc_auc = dict()\n",
    "for i in range(n_classes):\n",
    "    fpr[i], tpr[i], _ =  roc_curve(y1_test[:, i], y1_score[:, i])\n",
    "    roc_auc[i] = auc(fpr[i], tpr[i])"
   ]
  },
  {
   "cell_type": "code",
   "execution_count": 34,
   "id": "4ac2db58",
   "metadata": {},
   "outputs": [
    {
     "data": {
      "image/png": "[encoded data removed]",
      "text/plain": [
       "<Figure size 432x288 with 1 Axes>"
      ]
     },
     "metadata": {
      "needs_background": "light"
     },
     "output_type": "display_data"
    }
   ],
   "source": [
    "pnum = 0\n",
    "plt.figure()\n",
    "lw = 2\n",
    "plt.plot(\n",
    "    fpr[pnum],\n",
    "    tpr[pnum],\n",
    "    color=\"darkorange\",\n",
    "    lw=lw,\n",
    "    label=\"ROC curve (area = %0.2f)\" % roc_auc[pnum],\n",
    ")\n",
    "plt.plot([0, 1], [0, 1], color=\"navy\", lw=lw, linestyle=\"--\")\n",
    "plt.xlim([0.0, 1.0])\n",
    "plt.ylim([0.0, 1.05])\n",
    "plt.xlabel(\"False Positive Rate\")\n",
    "plt.ylabel(\"True Positive Rate\")\n",
    "plt.title(\"Receiver operating characteristic example\")\n",
    "plt.legend(loc=\"lower right\")\n",
    "plt.show()"
   ]
  },
  {
   "cell_type": "code",
   "execution_count": 27,
   "id": "c76d6b0a",
   "metadata": {},
   "outputs": [
    {
     "data": {
      "image/png": "[encoded data removed]",
      "text/plain": [
       "<Figure size 432x288 with 1 Axes>"
      ]
     },
     "metadata": {
      "needs_background": "light"
     },
     "output_type": "display_data"
    }
   ],
   "source": [
    "precision = dict()\n",
    "recall = dict()\n",
    "\n",
    "for i in range(n_classes):\n",
    "    precision[i], recall[i], _ = precision_recall_curve(y1_test[:, i], y1_score[:, i])\n",
    "    plt.plot(recall[i], precision[i], lw=2, label='class {}'.format(i))\n",
    "    \n",
    "    \n",
    "plt.xlabel(\"recall\")\n",
    "plt.ylabel(\"precision\")\n",
    "plt.legend(loc=\"best\")\n",
    "plt.title(\"precision vs. recall curve\")\n",
    "plt.show()"
   ]
  },
  {
   "cell_type": "code",
   "execution_count": 109,
   "id": "230ba77d",
   "metadata": {},
   "outputs": [
    {
     "data": {
      "image/png": "[encoded data removed]",
      "text/plain": [
       "<Figure size 432x288 with 1 Axes>"
      ]
     },
     "metadata": {
      "needs_background": "light"
     },
     "output_type": "display_data"
    }
   ],
   "source": [
    "y_score = dtclf.predict_proba(X0_test)\n",
    "\n",
    "precision = dict()\n",
    "recall = dict()\n",
    "for i in range(n_classes):\n",
    "    precision[i], recall[i], _ = precision_recall_curve(y0_test[:, i],\n",
    "                                                        y_score[:, i])\n",
    "    plt.plot(recall[i], precision[i], lw=2, label='class {}'.format(i))\n",
    "    \n",
    "plt.xlabel(\"recall\")\n",
    "plt.ylabel(\"precision\")\n",
    "plt.legend(loc=\"best\")\n",
    "plt.title(\"precision vs. recall curve\")\n",
    "plt.show()"
   ]
  },
  {
   "cell_type": "code",
   "execution_count": 111,
   "id": "0326b098",
   "metadata": {},
   "outputs": [
    {
     "data": {
      "image/png": "[encoded data removed]",
      "text/plain": [
       "<Figure size 432x288 with 1 Axes>"
      ]
     },
     "metadata": {
      "needs_background": "light"
     },
     "output_type": "display_data"
    }
   ],
   "source": [
    "fpr = dict()\n",
    "tpr = dict()\n",
    "\n",
    "for i in range(n_classes):\n",
    "    fpr[i], tpr[i], _ = roc_curve(y0_test[:, i],\n",
    "                                  y_score[:, i])\n",
    "    plt.plot(fpr[i], tpr[i], lw=2, label='class {}'.format(i))\n",
    "\n",
    "plt.xlabel(\"false positive rate\")\n",
    "plt.ylabel(\"true positive rate\")\n",
    "plt.legend(loc=\"best\")\n",
    "plt.title(\"ROC curve\")\n",
    "plt.show()"
   ]
  },
  {
   "cell_type": "code",
   "execution_count": null,
   "id": "b378cbe9",
   "metadata": {},
   "outputs": [],
   "source": []
  }
 ],
 "metadata": {
  "kernelspec": {
   "display_name": "Python 3 (ipykernel)",
   "language": "python",
   "name": "python3"
  },
  "language_info": {
   "codemirror_mode": {
    "name": "ipython",
    "version": 3
   },
   "file_extension": ".py",
   "mimetype": "text/x-python",
   "name": "python",
   "nbconvert_exporter": "python",
   "pygments_lexer": "ipython3",
   "version": "3.10.4"
  }
 },
 "nbformat": 4,
 "nbformat_minor": 5
}
