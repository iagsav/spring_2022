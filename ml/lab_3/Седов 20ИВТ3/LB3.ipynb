{
 "cells": [
  {
   "cell_type": "markdown",
   "id": "496ba802",
   "metadata": {},
   "source": [
    "# Лоброторная работа №3 \n",
    "## Седов Артем Михайлович \n",
    "### Вариант №45"
   ]
  },
  {
   "cell_type": "markdown",
   "id": "d18a0a2a",
   "metadata": {},
   "source": [
    "## 1.\tИзучить набор данных. Создать описание набора данных на русском языке. Описать признаки, используемые в наборе данных (включить полученные описания в отчёт).\n",
    "### Масть карты\n",
    "##### 1 - Черви\n",
    "##### 2 - Пики\n",
    "##### 3 - Буби\n",
    "##### 4 - Крести\n",
    "###  Ранг карты\n",
    "##### 1 - Туз\n",
    "##### 2 - Два\n",
    "##### .......\n",
    "##### 12 - Дама\n",
    "##### 13 - Король\n",
    "### Покерная комбинация\n",
    "##### 0: Ничего в руке: нет комбинаций\n",
    "##### 1: Одна пара: одна пара равных рангов в пределах пяти карт\n",
    "##### 2: Две пары: две пары равных рангов в пределах пяти карт\n",
    "##### 3: Сет: три карты равных рангов в пределах пяти карт\n",
    "##### 4: Стрит: пять карт, последовательно ранжированных без пробелов\n",
    "##### 5: Флэш: пять карт одной масти\n",
    "##### 6: Фулл Хаус: пара + сет\n",
    "##### 7: Каре: четыре карты равных рангов в пределах пяти карт\n",
    "##### 8: Стрит Флэш: Стрит + Флэш\n",
    "##### 9: Флэш-Рояль: туз, король, дама, валет, десятка одной масти\n"
   ]
  },
  {
   "cell_type": "markdown",
   "id": "20321ff4",
   "metadata": {},
   "source": [
    "## 2.\tУдалите дубликаты строк в наборе данных; приведите размер набора данных до и после данной операции"
   ]
  },
  {
   "cell_type": "code",
   "execution_count": 1,
   "id": "a5ee1b15",
   "metadata": {},
   "outputs": [],
   "source": [
    "import warnings\n",
    "import pandas as pd\n",
    "import seaborn as sns\n",
    "import matplotlib.pyplot as plt\n",
    "import numpy as np\n",
    "import random\n",
    "import sklearn as sk\n",
    "from sklearn.calibration import CalibratedClassifierCV\n",
    "from sklearn.linear_model import Perceptron\n",
    "from sklearn.metrics import accuracy_score, precision_recall_curve, average_precision_score, roc_curve, auc\n",
    "from sklearn.model_selection import GridSearchCV\n",
    "from sklearn.model_selection import train_test_split\n",
    "from sklearn.neighbors import KNeighborsClassifier\n",
    "from sklearn.preprocessing import LabelEncoder\n",
    "from sklearn.preprocessing import StandardScaler\n",
    "from sklearn.metrics import  precision_recall_curve, average_precision_score, plot_precision_recall_curve, plot_roc_curve\n",
    "%matplotlib inline"
   ]
  },
  {
   "cell_type": "code",
   "execution_count": 2,
   "id": "53a2d233",
   "metadata": {},
   "outputs": [
    {
     "data": {
      "text/html": [
       "<div>\n",
       "<style scoped>\n",
       "    .dataframe tbody tr th:only-of-type {\n",
       "        vertical-align: middle;\n",
       "    }\n",
       "\n",
       "    .dataframe tbody tr th {\n",
       "        vertical-align: top;\n",
       "    }\n",
       "\n",
       "    .dataframe thead th {\n",
       "        text-align: right;\n",
       "    }\n",
       "</style>\n",
       "<table border=\"1\" class=\"dataframe\">\n",
       "  <thead>\n",
       "    <tr style=\"text-align: right;\">\n",
       "      <th></th>\n",
       "      <th>Suit_of_card_#1</th>\n",
       "      <th>Rank_of_card_#1</th>\n",
       "      <th>Suit_of_card_#2</th>\n",
       "      <th>Rank_of_card_#2</th>\n",
       "      <th>Suit_of_card_#3</th>\n",
       "      <th>Rank_of_card_#3</th>\n",
       "      <th>Suit_of_card_#4</th>\n",
       "      <th>Rank_of_card_#4</th>\n",
       "      <th>Suit_of_card_#5</th>\n",
       "      <th>Rank_of_card_#5</th>\n",
       "      <th>Poker_Hand</th>\n",
       "    </tr>\n",
       "  </thead>\n",
       "  <tbody>\n",
       "    <tr>\n",
       "      <th>0</th>\n",
       "      <td>2</td>\n",
       "      <td>11</td>\n",
       "      <td>2</td>\n",
       "      <td>13</td>\n",
       "      <td>2</td>\n",
       "      <td>10</td>\n",
       "      <td>2</td>\n",
       "      <td>12</td>\n",
       "      <td>2</td>\n",
       "      <td>1</td>\n",
       "      <td>9</td>\n",
       "    </tr>\n",
       "    <tr>\n",
       "      <th>1</th>\n",
       "      <td>3</td>\n",
       "      <td>12</td>\n",
       "      <td>3</td>\n",
       "      <td>11</td>\n",
       "      <td>3</td>\n",
       "      <td>13</td>\n",
       "      <td>3</td>\n",
       "      <td>10</td>\n",
       "      <td>3</td>\n",
       "      <td>1</td>\n",
       "      <td>9</td>\n",
       "    </tr>\n",
       "    <tr>\n",
       "      <th>2</th>\n",
       "      <td>4</td>\n",
       "      <td>10</td>\n",
       "      <td>4</td>\n",
       "      <td>11</td>\n",
       "      <td>4</td>\n",
       "      <td>1</td>\n",
       "      <td>4</td>\n",
       "      <td>13</td>\n",
       "      <td>4</td>\n",
       "      <td>12</td>\n",
       "      <td>9</td>\n",
       "    </tr>\n",
       "    <tr>\n",
       "      <th>3</th>\n",
       "      <td>4</td>\n",
       "      <td>1</td>\n",
       "      <td>4</td>\n",
       "      <td>13</td>\n",
       "      <td>4</td>\n",
       "      <td>12</td>\n",
       "      <td>4</td>\n",
       "      <td>11</td>\n",
       "      <td>4</td>\n",
       "      <td>10</td>\n",
       "      <td>9</td>\n",
       "    </tr>\n",
       "    <tr>\n",
       "      <th>4</th>\n",
       "      <td>1</td>\n",
       "      <td>2</td>\n",
       "      <td>1</td>\n",
       "      <td>4</td>\n",
       "      <td>1</td>\n",
       "      <td>5</td>\n",
       "      <td>1</td>\n",
       "      <td>3</td>\n",
       "      <td>1</td>\n",
       "      <td>6</td>\n",
       "      <td>8</td>\n",
       "    </tr>\n",
       "    <tr>\n",
       "      <th>...</th>\n",
       "      <td>...</td>\n",
       "      <td>...</td>\n",
       "      <td>...</td>\n",
       "      <td>...</td>\n",
       "      <td>...</td>\n",
       "      <td>...</td>\n",
       "      <td>...</td>\n",
       "      <td>...</td>\n",
       "      <td>...</td>\n",
       "      <td>...</td>\n",
       "      <td>...</td>\n",
       "    </tr>\n",
       "    <tr>\n",
       "      <th>25004</th>\n",
       "      <td>3</td>\n",
       "      <td>9</td>\n",
       "      <td>2</td>\n",
       "      <td>6</td>\n",
       "      <td>4</td>\n",
       "      <td>11</td>\n",
       "      <td>4</td>\n",
       "      <td>12</td>\n",
       "      <td>2</td>\n",
       "      <td>4</td>\n",
       "      <td>0</td>\n",
       "    </tr>\n",
       "    <tr>\n",
       "      <th>25005</th>\n",
       "      <td>4</td>\n",
       "      <td>1</td>\n",
       "      <td>4</td>\n",
       "      <td>10</td>\n",
       "      <td>3</td>\n",
       "      <td>13</td>\n",
       "      <td>3</td>\n",
       "      <td>4</td>\n",
       "      <td>1</td>\n",
       "      <td>10</td>\n",
       "      <td>1</td>\n",
       "    </tr>\n",
       "    <tr>\n",
       "      <th>25006</th>\n",
       "      <td>2</td>\n",
       "      <td>1</td>\n",
       "      <td>2</td>\n",
       "      <td>10</td>\n",
       "      <td>4</td>\n",
       "      <td>4</td>\n",
       "      <td>4</td>\n",
       "      <td>1</td>\n",
       "      <td>4</td>\n",
       "      <td>13</td>\n",
       "      <td>1</td>\n",
       "    </tr>\n",
       "    <tr>\n",
       "      <th>25007</th>\n",
       "      <td>2</td>\n",
       "      <td>12</td>\n",
       "      <td>4</td>\n",
       "      <td>3</td>\n",
       "      <td>1</td>\n",
       "      <td>10</td>\n",
       "      <td>1</td>\n",
       "      <td>12</td>\n",
       "      <td>4</td>\n",
       "      <td>9</td>\n",
       "      <td>1</td>\n",
       "    </tr>\n",
       "    <tr>\n",
       "      <th>25008</th>\n",
       "      <td>1</td>\n",
       "      <td>7</td>\n",
       "      <td>3</td>\n",
       "      <td>11</td>\n",
       "      <td>3</td>\n",
       "      <td>3</td>\n",
       "      <td>4</td>\n",
       "      <td>8</td>\n",
       "      <td>3</td>\n",
       "      <td>7</td>\n",
       "      <td>1</td>\n",
       "    </tr>\n",
       "  </tbody>\n",
       "</table>\n",
       "<p>25009 rows × 11 columns</p>\n",
       "</div>"
      ],
      "text/plain": [
       "       Suit_of_card_#1  Rank_of_card_#1  Suit_of_card_#2  Rank_of_card_#2  \\\n",
       "0                    2               11                2               13   \n",
       "1                    3               12                3               11   \n",
       "2                    4               10                4               11   \n",
       "3                    4                1                4               13   \n",
       "4                    1                2                1                4   \n",
       "...                ...              ...              ...              ...   \n",
       "25004                3                9                2                6   \n",
       "25005                4                1                4               10   \n",
       "25006                2                1                2               10   \n",
       "25007                2               12                4                3   \n",
       "25008                1                7                3               11   \n",
       "\n",
       "       Suit_of_card_#3  Rank_of_card_#3  Suit_of_card_#4  Rank_of_card_#4  \\\n",
       "0                    2               10                2               12   \n",
       "1                    3               13                3               10   \n",
       "2                    4                1                4               13   \n",
       "3                    4               12                4               11   \n",
       "4                    1                5                1                3   \n",
       "...                ...              ...              ...              ...   \n",
       "25004                4               11                4               12   \n",
       "25005                3               13                3                4   \n",
       "25006                4                4                4                1   \n",
       "25007                1               10                1               12   \n",
       "25008                3                3                4                8   \n",
       "\n",
       "       Suit_of_card_#5  Rank_of_card_#5  Poker_Hand  \n",
       "0                    2                1           9  \n",
       "1                    3                1           9  \n",
       "2                    4               12           9  \n",
       "3                    4               10           9  \n",
       "4                    1                6           8  \n",
       "...                ...              ...         ...  \n",
       "25004                2                4           0  \n",
       "25005                1               10           1  \n",
       "25006                4               13           1  \n",
       "25007                4                9           1  \n",
       "25008                3                7           1  \n",
       "\n",
       "[25009 rows x 11 columns]"
      ]
     },
     "execution_count": 2,
     "metadata": {},
     "output_type": "execute_result"
    }
   ],
   "source": [
    "import pandas as pd\n",
    "poker_df = pd.read_csv('poker.data.txt')\n",
    "poker_df.columns = ['Suit_of_card_#1', 'Rank_of_card_#1',\n",
    "                    'Suit_of_card_#2', 'Rank_of_card_#2',\n",
    "                    'Suit_of_card_#3', 'Rank_of_card_#3',\n",
    "                    'Suit_of_card_#4', 'Rank_of_card_#4',\n",
    "                    'Suit_of_card_#5', 'Rank_of_card_#5', \n",
    "                    'Poker_Hand']\n",
    "poker_df"
   ]
  },
  {
   "cell_type": "code",
   "execution_count": 3,
   "id": "bda039c3",
   "metadata": {},
   "outputs": [
    {
     "name": "stdout",
     "output_type": "stream",
     "text": [
      "До удаления дубликатов:     25009\n",
      "После удаления дубликатов:  25007\n"
     ]
    },
    {
     "data": {
      "text/plain": [
       "Suit_of_card_#1    int64\n",
       "Rank_of_card_#1    int64\n",
       "Suit_of_card_#2    int64\n",
       "Rank_of_card_#2    int64\n",
       "Suit_of_card_#3    int64\n",
       "Rank_of_card_#3    int64\n",
       "Suit_of_card_#4    int64\n",
       "Rank_of_card_#4    int64\n",
       "Suit_of_card_#5    int64\n",
       "Rank_of_card_#5    int64\n",
       "Poker_Hand         int64\n",
       "dtype: object"
      ]
     },
     "execution_count": 3,
     "metadata": {},
     "output_type": "execute_result"
    }
   ],
   "source": [
    "print(\"До удаления дубликатов:    \", poker_df.index.size)\n",
    "poker_df.drop_duplicates(keep = 'first', inplace = True)\n",
    "print(\"После удаления дубликатов: \", poker_df.index.size)\n",
    "\n",
    "poker_df.dtypes\n"
   ]
  },
  {
   "cell_type": "markdown",
   "id": "ac2ca163",
   "metadata": {},
   "source": [
    "## 3.\tОцените сбалансированность данных по классам (постройте гистограмму). Используйте полученную информацию при выборе метрики оценки качества классификации (PR или ROC кривая)"
   ]
  },
  {
   "cell_type": "code",
   "execution_count": 4,
   "id": "1ecf470b",
   "metadata": {},
   "outputs": [
    {
     "data": {
      "text/plain": [
       "<AxesSubplot:xlabel='Poker_Hand', ylabel='count'>"
      ]
     },
     "execution_count": 4,
     "metadata": {},
     "output_type": "execute_result"
    },
    {
     "data": {
      "image/png": "[encoded data removed]",
      "text/plain": [
       "<Figure size 432x288 with 1 Axes>"
      ]
     },
     "metadata": {
      "needs_background": "light"
     },
     "output_type": "display_data"
    }
   ],
   "source": [
    "import seaborn\n",
    "seaborn.countplot(x='Poker_Hand', data=poker_df)"
   ]
  },
  {
   "cell_type": "markdown",
   "id": "ee7cebcd",
   "metadata": {},
   "source": [
    "## 4.\tВыполните масштабирование количественных признаков; Постройте диаграммы BoxPlot для признаков до и после масштабирования. Выберите способ масштабирования (например, нормализацию или стандартизацию);"
   ]
  },
  {
   "cell_type": "code",
   "execution_count": 5,
   "id": "c155ff04",
   "metadata": {
    "scrolled": false
   },
   "outputs": [
    {
     "data": {
      "text/html": [
       "<div>\n",
       "<style scoped>\n",
       "    .dataframe tbody tr th:only-of-type {\n",
       "        vertical-align: middle;\n",
       "    }\n",
       "\n",
       "    .dataframe tbody tr th {\n",
       "        vertical-align: top;\n",
       "    }\n",
       "\n",
       "    .dataframe thead th {\n",
       "        text-align: right;\n",
       "    }\n",
       "</style>\n",
       "<table border=\"1\" class=\"dataframe\">\n",
       "  <thead>\n",
       "    <tr style=\"text-align: right;\">\n",
       "      <th></th>\n",
       "      <th>Suit_of_card_#1</th>\n",
       "      <th>Rank_of_card_#1</th>\n",
       "      <th>Suit_of_card_#2</th>\n",
       "      <th>Rank_of_card_#2</th>\n",
       "      <th>Suit_of_card_#3</th>\n",
       "      <th>Rank_of_card_#3</th>\n",
       "      <th>Suit_of_card_#4</th>\n",
       "      <th>Rank_of_card_#4</th>\n",
       "      <th>Suit_of_card_#5</th>\n",
       "      <th>Rank_of_card_#5</th>\n",
       "    </tr>\n",
       "  </thead>\n",
       "  <tbody>\n",
       "    <tr>\n",
       "      <th>0</th>\n",
       "      <td>2</td>\n",
       "      <td>11</td>\n",
       "      <td>2</td>\n",
       "      <td>13</td>\n",
       "      <td>2</td>\n",
       "      <td>10</td>\n",
       "      <td>2</td>\n",
       "      <td>12</td>\n",
       "      <td>2</td>\n",
       "      <td>1</td>\n",
       "    </tr>\n",
       "    <tr>\n",
       "      <th>1</th>\n",
       "      <td>3</td>\n",
       "      <td>12</td>\n",
       "      <td>3</td>\n",
       "      <td>11</td>\n",
       "      <td>3</td>\n",
       "      <td>13</td>\n",
       "      <td>3</td>\n",
       "      <td>10</td>\n",
       "      <td>3</td>\n",
       "      <td>1</td>\n",
       "    </tr>\n",
       "    <tr>\n",
       "      <th>2</th>\n",
       "      <td>4</td>\n",
       "      <td>10</td>\n",
       "      <td>4</td>\n",
       "      <td>11</td>\n",
       "      <td>4</td>\n",
       "      <td>1</td>\n",
       "      <td>4</td>\n",
       "      <td>13</td>\n",
       "      <td>4</td>\n",
       "      <td>12</td>\n",
       "    </tr>\n",
       "    <tr>\n",
       "      <th>3</th>\n",
       "      <td>4</td>\n",
       "      <td>1</td>\n",
       "      <td>4</td>\n",
       "      <td>13</td>\n",
       "      <td>4</td>\n",
       "      <td>12</td>\n",
       "      <td>4</td>\n",
       "      <td>11</td>\n",
       "      <td>4</td>\n",
       "      <td>10</td>\n",
       "    </tr>\n",
       "    <tr>\n",
       "      <th>4</th>\n",
       "      <td>1</td>\n",
       "      <td>2</td>\n",
       "      <td>1</td>\n",
       "      <td>4</td>\n",
       "      <td>1</td>\n",
       "      <td>5</td>\n",
       "      <td>1</td>\n",
       "      <td>3</td>\n",
       "      <td>1</td>\n",
       "      <td>6</td>\n",
       "    </tr>\n",
       "    <tr>\n",
       "      <th>...</th>\n",
       "      <td>...</td>\n",
       "      <td>...</td>\n",
       "      <td>...</td>\n",
       "      <td>...</td>\n",
       "      <td>...</td>\n",
       "      <td>...</td>\n",
       "      <td>...</td>\n",
       "      <td>...</td>\n",
       "      <td>...</td>\n",
       "      <td>...</td>\n",
       "    </tr>\n",
       "    <tr>\n",
       "      <th>25004</th>\n",
       "      <td>3</td>\n",
       "      <td>9</td>\n",
       "      <td>2</td>\n",
       "      <td>6</td>\n",
       "      <td>4</td>\n",
       "      <td>11</td>\n",
       "      <td>4</td>\n",
       "      <td>12</td>\n",
       "      <td>2</td>\n",
       "      <td>4</td>\n",
       "    </tr>\n",
       "    <tr>\n",
       "      <th>25005</th>\n",
       "      <td>4</td>\n",
       "      <td>1</td>\n",
       "      <td>4</td>\n",
       "      <td>10</td>\n",
       "      <td>3</td>\n",
       "      <td>13</td>\n",
       "      <td>3</td>\n",
       "      <td>4</td>\n",
       "      <td>1</td>\n",
       "      <td>10</td>\n",
       "    </tr>\n",
       "    <tr>\n",
       "      <th>25006</th>\n",
       "      <td>2</td>\n",
       "      <td>1</td>\n",
       "      <td>2</td>\n",
       "      <td>10</td>\n",
       "      <td>4</td>\n",
       "      <td>4</td>\n",
       "      <td>4</td>\n",
       "      <td>1</td>\n",
       "      <td>4</td>\n",
       "      <td>13</td>\n",
       "    </tr>\n",
       "    <tr>\n",
       "      <th>25007</th>\n",
       "      <td>2</td>\n",
       "      <td>12</td>\n",
       "      <td>4</td>\n",
       "      <td>3</td>\n",
       "      <td>1</td>\n",
       "      <td>10</td>\n",
       "      <td>1</td>\n",
       "      <td>12</td>\n",
       "      <td>4</td>\n",
       "      <td>9</td>\n",
       "    </tr>\n",
       "    <tr>\n",
       "      <th>25008</th>\n",
       "      <td>1</td>\n",
       "      <td>7</td>\n",
       "      <td>3</td>\n",
       "      <td>11</td>\n",
       "      <td>3</td>\n",
       "      <td>3</td>\n",
       "      <td>4</td>\n",
       "      <td>8</td>\n",
       "      <td>3</td>\n",
       "      <td>7</td>\n",
       "    </tr>\n",
       "  </tbody>\n",
       "</table>\n",
       "<p>25007 rows × 10 columns</p>\n",
       "</div>"
      ],
      "text/plain": [
       "       Suit_of_card_#1  Rank_of_card_#1  Suit_of_card_#2  Rank_of_card_#2  \\\n",
       "0                    2               11                2               13   \n",
       "1                    3               12                3               11   \n",
       "2                    4               10                4               11   \n",
       "3                    4                1                4               13   \n",
       "4                    1                2                1                4   \n",
       "...                ...              ...              ...              ...   \n",
       "25004                3                9                2                6   \n",
       "25005                4                1                4               10   \n",
       "25006                2                1                2               10   \n",
       "25007                2               12                4                3   \n",
       "25008                1                7                3               11   \n",
       "\n",
       "       Suit_of_card_#3  Rank_of_card_#3  Suit_of_card_#4  Rank_of_card_#4  \\\n",
       "0                    2               10                2               12   \n",
       "1                    3               13                3               10   \n",
       "2                    4                1                4               13   \n",
       "3                    4               12                4               11   \n",
       "4                    1                5                1                3   \n",
       "...                ...              ...              ...              ...   \n",
       "25004                4               11                4               12   \n",
       "25005                3               13                3                4   \n",
       "25006                4                4                4                1   \n",
       "25007                1               10                1               12   \n",
       "25008                3                3                4                8   \n",
       "\n",
       "       Suit_of_card_#5  Rank_of_card_#5  \n",
       "0                    2                1  \n",
       "1                    3                1  \n",
       "2                    4               12  \n",
       "3                    4               10  \n",
       "4                    1                6  \n",
       "...                ...              ...  \n",
       "25004                2                4  \n",
       "25005                1               10  \n",
       "25006                4               13  \n",
       "25007                4                9  \n",
       "25008                3                7  \n",
       "\n",
       "[25007 rows x 10 columns]"
      ]
     },
     "execution_count": 5,
     "metadata": {},
     "output_type": "execute_result"
    }
   ],
   "source": [
    "from sklearn.preprocessing import MinMaxScaler\n",
    "Scaling = poker_df.drop('Poker_Hand', axis = 1)\n",
    "Scaling"
   ]
  },
  {
   "cell_type": "code",
   "execution_count": 6,
   "id": "f6a52c5c",
   "metadata": {},
   "outputs": [
    {
     "name": "stdout",
     "output_type": "stream",
     "text": [
      "BoxPlot до масштабирования:\n"
     ]
    },
    {
     "data": {
      "image/png": "[encoded data removed]",
      "text/plain": [
       "<Figure size 432x288 with 1 Axes>"
      ]
     },
     "metadata": {
      "needs_background": "light"
     },
     "output_type": "display_data"
    }
   ],
   "source": [
    "seaborn.boxplot(data = Scaling, orient = 'h')\n",
    "print('BoxPlot до масштабирования:')"
   ]
  },
  {
   "cell_type": "code",
   "execution_count": 7,
   "id": "b4f0f1eb",
   "metadata": {},
   "outputs": [
    {
     "name": "stdout",
     "output_type": "stream",
     "text": [
      "BoxPlot после масштабирования:\n"
     ]
    },
    {
     "data": {
      "text/plain": [
       "<AxesSubplot:>"
      ]
     },
     "execution_count": 7,
     "metadata": {},
     "output_type": "execute_result"
    },
    {
     "data": {
      "image/png": "[encoded data removed]",
      "text/plain": [
       "<Figure size 432x288 with 1 Axes>"
      ]
     },
     "metadata": {
      "needs_background": "light"
     },
     "output_type": "display_data"
    }
   ],
   "source": [
    "# Выполняем нормализацию данных\n",
    "scaler = MinMaxScaler()\n",
    "scaler.fit(Scaling)  #Вычисление минимума и максимума \n",
    "Scaling = scaler.transform(Scaling) #Машабирование функции\n",
    "\n",
    "print('BoxPlot после масштабирования:')\n",
    "seaborn.boxplot(data = Scaling, orient = 'h')"
   ]
  },
  {
   "cell_type": "markdown",
   "id": "a738ab74",
   "metadata": {},
   "source": [
    "## 5.\tВыполните замену категориальных признаков; выберите и обоснуйте способ замены"
   ]
  },
  {
   "cell_type": "markdown",
   "id": "f5161217",
   "metadata": {},
   "source": [
    "## Нет Категореальных признаков \n"
   ]
  },
  {
   "cell_type": "markdown",
   "id": "a0839dc9",
   "metadata": {},
   "source": [
    "## 6.\tОцените корреляцию между признаков и удалите те признаки, которые коррелируют с наибольшим числом других (удалять признаки нужно только для линейных методов классификации)\n"
   ]
  },
  {
   "cell_type": "code",
   "execution_count": 8,
   "id": "e74fe5ec",
   "metadata": {},
   "outputs": [
    {
     "data": {
      "image/png": "[encoded data removed]",
      "text/plain": [
       "<Figure size 1600x1600 with 2 Axes>"
      ]
     },
     "metadata": {
      "needs_background": "light"
     },
     "output_type": "display_data"
    },
    {
     "data": {
      "text/html": [
       "<div>\n",
       "<style scoped>\n",
       "    .dataframe tbody tr th:only-of-type {\n",
       "        vertical-align: middle;\n",
       "    }\n",
       "\n",
       "    .dataframe tbody tr th {\n",
       "        vertical-align: top;\n",
       "    }\n",
       "\n",
       "    .dataframe thead th {\n",
       "        text-align: right;\n",
       "    }\n",
       "</style>\n",
       "<table border=\"1\" class=\"dataframe\">\n",
       "  <thead>\n",
       "    <tr style=\"text-align: right;\">\n",
       "      <th></th>\n",
       "      <th>Suit_of_card_#1</th>\n",
       "      <th>Rank_of_card_#1</th>\n",
       "      <th>Suit_of_card_#2</th>\n",
       "      <th>Rank_of_card_#2</th>\n",
       "      <th>Suit_of_card_#3</th>\n",
       "      <th>Rank_of_card_#3</th>\n",
       "      <th>Suit_of_card_#4</th>\n",
       "      <th>Rank_of_card_#4</th>\n",
       "      <th>Suit_of_card_#5</th>\n",
       "      <th>Rank_of_card_#5</th>\n",
       "      <th>Poker_Hand</th>\n",
       "    </tr>\n",
       "  </thead>\n",
       "  <tbody>\n",
       "    <tr>\n",
       "      <th>Suit_of_card_#1</th>\n",
       "      <td>1.000000</td>\n",
       "      <td>-0.010230</td>\n",
       "      <td>-0.021322</td>\n",
       "      <td>0.008347</td>\n",
       "      <td>-0.019757</td>\n",
       "      <td>-0.009895</td>\n",
       "      <td>-0.017328</td>\n",
       "      <td>0.003920</td>\n",
       "      <td>-0.024211</td>\n",
       "      <td>0.006630</td>\n",
       "      <td>0.008805</td>\n",
       "    </tr>\n",
       "    <tr>\n",
       "      <th>Rank_of_card_#1</th>\n",
       "      <td>-0.010230</td>\n",
       "      <td>1.000000</td>\n",
       "      <td>0.004456</td>\n",
       "      <td>-0.010986</td>\n",
       "      <td>-0.000245</td>\n",
       "      <td>-0.026326</td>\n",
       "      <td>0.004152</td>\n",
       "      <td>-0.014413</td>\n",
       "      <td>0.004897</td>\n",
       "      <td>-0.016933</td>\n",
       "      <td>0.001976</td>\n",
       "    </tr>\n",
       "    <tr>\n",
       "      <th>Suit_of_card_#2</th>\n",
       "      <td>-0.021322</td>\n",
       "      <td>0.004456</td>\n",
       "      <td>1.000000</td>\n",
       "      <td>-0.002368</td>\n",
       "      <td>-0.029350</td>\n",
       "      <td>-0.005214</td>\n",
       "      <td>-0.021018</td>\n",
       "      <td>0.012123</td>\n",
       "      <td>-0.011914</td>\n",
       "      <td>0.005693</td>\n",
       "      <td>-0.000569</td>\n",
       "    </tr>\n",
       "    <tr>\n",
       "      <th>Rank_of_card_#2</th>\n",
       "      <td>0.008347</td>\n",
       "      <td>-0.010986</td>\n",
       "      <td>-0.002368</td>\n",
       "      <td>1.000000</td>\n",
       "      <td>-0.005290</td>\n",
       "      <td>-0.024747</td>\n",
       "      <td>-0.008415</td>\n",
       "      <td>-0.013062</td>\n",
       "      <td>0.000664</td>\n",
       "      <td>-0.016403</td>\n",
       "      <td>-0.005618</td>\n",
       "    </tr>\n",
       "    <tr>\n",
       "      <th>Suit_of_card_#3</th>\n",
       "      <td>-0.019757</td>\n",
       "      <td>-0.000245</td>\n",
       "      <td>-0.029350</td>\n",
       "      <td>-0.005290</td>\n",
       "      <td>1.000000</td>\n",
       "      <td>0.018007</td>\n",
       "      <td>-0.013073</td>\n",
       "      <td>0.001922</td>\n",
       "      <td>-0.030366</td>\n",
       "      <td>-0.002057</td>\n",
       "      <td>0.004516</td>\n",
       "    </tr>\n",
       "    <tr>\n",
       "      <th>Rank_of_card_#3</th>\n",
       "      <td>-0.009895</td>\n",
       "      <td>-0.026326</td>\n",
       "      <td>-0.005214</td>\n",
       "      <td>-0.024747</td>\n",
       "      <td>0.018007</td>\n",
       "      <td>1.000000</td>\n",
       "      <td>-0.003082</td>\n",
       "      <td>-0.016398</td>\n",
       "      <td>0.003831</td>\n",
       "      <td>-0.010804</td>\n",
       "      <td>-0.006966</td>\n",
       "    </tr>\n",
       "    <tr>\n",
       "      <th>Suit_of_card_#4</th>\n",
       "      <td>-0.017328</td>\n",
       "      <td>0.004152</td>\n",
       "      <td>-0.021018</td>\n",
       "      <td>-0.008415</td>\n",
       "      <td>-0.013073</td>\n",
       "      <td>-0.003082</td>\n",
       "      <td>1.000000</td>\n",
       "      <td>-0.008694</td>\n",
       "      <td>-0.018305</td>\n",
       "      <td>0.005180</td>\n",
       "      <td>-0.000950</td>\n",
       "    </tr>\n",
       "    <tr>\n",
       "      <th>Rank_of_card_#4</th>\n",
       "      <td>0.003920</td>\n",
       "      <td>-0.014413</td>\n",
       "      <td>0.012123</td>\n",
       "      <td>-0.013062</td>\n",
       "      <td>0.001922</td>\n",
       "      <td>-0.016398</td>\n",
       "      <td>-0.008694</td>\n",
       "      <td>1.000000</td>\n",
       "      <td>0.002860</td>\n",
       "      <td>-0.014653</td>\n",
       "      <td>0.009637</td>\n",
       "    </tr>\n",
       "    <tr>\n",
       "      <th>Suit_of_card_#5</th>\n",
       "      <td>-0.024211</td>\n",
       "      <td>0.004897</td>\n",
       "      <td>-0.011914</td>\n",
       "      <td>0.000664</td>\n",
       "      <td>-0.030366</td>\n",
       "      <td>0.003831</td>\n",
       "      <td>-0.018305</td>\n",
       "      <td>0.002860</td>\n",
       "      <td>1.000000</td>\n",
       "      <td>-0.003285</td>\n",
       "      <td>-0.005042</td>\n",
       "    </tr>\n",
       "    <tr>\n",
       "      <th>Rank_of_card_#5</th>\n",
       "      <td>0.006630</td>\n",
       "      <td>-0.016933</td>\n",
       "      <td>0.005693</td>\n",
       "      <td>-0.016403</td>\n",
       "      <td>-0.002057</td>\n",
       "      <td>-0.010804</td>\n",
       "      <td>0.005180</td>\n",
       "      <td>-0.014653</td>\n",
       "      <td>-0.003285</td>\n",
       "      <td>1.000000</td>\n",
       "      <td>-0.001695</td>\n",
       "    </tr>\n",
       "    <tr>\n",
       "      <th>Poker_Hand</th>\n",
       "      <td>0.008805</td>\n",
       "      <td>0.001976</td>\n",
       "      <td>-0.000569</td>\n",
       "      <td>-0.005618</td>\n",
       "      <td>0.004516</td>\n",
       "      <td>-0.006966</td>\n",
       "      <td>-0.000950</td>\n",
       "      <td>0.009637</td>\n",
       "      <td>-0.005042</td>\n",
       "      <td>-0.001695</td>\n",
       "      <td>1.000000</td>\n",
       "    </tr>\n",
       "  </tbody>\n",
       "</table>\n",
       "</div>"
      ],
      "text/plain": [
       "                 Suit_of_card_#1  Rank_of_card_#1  Suit_of_card_#2  \\\n",
       "Suit_of_card_#1         1.000000        -0.010230        -0.021322   \n",
       "Rank_of_card_#1        -0.010230         1.000000         0.004456   \n",
       "Suit_of_card_#2        -0.021322         0.004456         1.000000   \n",
       "Rank_of_card_#2         0.008347        -0.010986        -0.002368   \n",
       "Suit_of_card_#3        -0.019757        -0.000245        -0.029350   \n",
       "Rank_of_card_#3        -0.009895        -0.026326        -0.005214   \n",
       "Suit_of_card_#4        -0.017328         0.004152        -0.021018   \n",
       "Rank_of_card_#4         0.003920        -0.014413         0.012123   \n",
       "Suit_of_card_#5        -0.024211         0.004897        -0.011914   \n",
       "Rank_of_card_#5         0.006630        -0.016933         0.005693   \n",
       "Poker_Hand              0.008805         0.001976        -0.000569   \n",
       "\n",
       "                 Rank_of_card_#2  Suit_of_card_#3  Rank_of_card_#3  \\\n",
       "Suit_of_card_#1         0.008347        -0.019757        -0.009895   \n",
       "Rank_of_card_#1        -0.010986        -0.000245        -0.026326   \n",
       "Suit_of_card_#2        -0.002368        -0.029350        -0.005214   \n",
       "Rank_of_card_#2         1.000000        -0.005290        -0.024747   \n",
       "Suit_of_card_#3        -0.005290         1.000000         0.018007   \n",
       "Rank_of_card_#3        -0.024747         0.018007         1.000000   \n",
       "Suit_of_card_#4        -0.008415        -0.013073        -0.003082   \n",
       "Rank_of_card_#4        -0.013062         0.001922        -0.016398   \n",
       "Suit_of_card_#5         0.000664        -0.030366         0.003831   \n",
       "Rank_of_card_#5        -0.016403        -0.002057        -0.010804   \n",
       "Poker_Hand             -0.005618         0.004516        -0.006966   \n",
       "\n",
       "                 Suit_of_card_#4  Rank_of_card_#4  Suit_of_card_#5  \\\n",
       "Suit_of_card_#1        -0.017328         0.003920        -0.024211   \n",
       "Rank_of_card_#1         0.004152        -0.014413         0.004897   \n",
       "Suit_of_card_#2        -0.021018         0.012123        -0.011914   \n",
       "Rank_of_card_#2        -0.008415        -0.013062         0.000664   \n",
       "Suit_of_card_#3        -0.013073         0.001922        -0.030366   \n",
       "Rank_of_card_#3        -0.003082        -0.016398         0.003831   \n",
       "Suit_of_card_#4         1.000000        -0.008694        -0.018305   \n",
       "Rank_of_card_#4        -0.008694         1.000000         0.002860   \n",
       "Suit_of_card_#5        -0.018305         0.002860         1.000000   \n",
       "Rank_of_card_#5         0.005180        -0.014653        -0.003285   \n",
       "Poker_Hand             -0.000950         0.009637        -0.005042   \n",
       "\n",
       "                 Rank_of_card_#5  Poker_Hand  \n",
       "Suit_of_card_#1         0.006630    0.008805  \n",
       "Rank_of_card_#1        -0.016933    0.001976  \n",
       "Suit_of_card_#2         0.005693   -0.000569  \n",
       "Rank_of_card_#2        -0.016403   -0.005618  \n",
       "Suit_of_card_#3        -0.002057    0.004516  \n",
       "Rank_of_card_#3        -0.010804   -0.006966  \n",
       "Suit_of_card_#4         0.005180   -0.000950  \n",
       "Rank_of_card_#4        -0.014653    0.009637  \n",
       "Suit_of_card_#5        -0.003285   -0.005042  \n",
       "Rank_of_card_#5         1.000000   -0.001695  \n",
       "Poker_Hand             -0.001695    1.000000  "
      ]
     },
     "execution_count": 8,
     "metadata": {},
     "output_type": "execute_result"
    }
   ],
   "source": [
    "import seaborn as sns\n",
    "import matplotlib\n",
    "import matplotlib.pyplot as plt\n",
    "\n",
    "plt.figure(figsize=(20,20), dpi= 80)\n",
    "sns.heatmap(poker_df.corr(), xticklabels=poker_df.corr().columns, yticklabels=poker_df.corr().columns, cmap='magma', center=0, annot=True)\n",
    "\n",
    "\n",
    "plt.title('Poker_Hand', fontsize=22)\n",
    "plt.xticks(fontsize=12)\n",
    "plt.yticks(fontsize=12)\n",
    "plt.show()\n",
    "\n",
    "poker_df.corr()"
   ]
  },
  {
   "cell_type": "markdown",
   "id": "6b789de1",
   "metadata": {},
   "source": [
    "## 7.\tЗаполните пропущенные значения в данных\n"
   ]
  },
  {
   "cell_type": "code",
   "execution_count": 9,
   "id": "2bbeddef",
   "metadata": {},
   "outputs": [
    {
     "data": {
      "text/plain": [
       "Suit_of_card_#1    0\n",
       "Rank_of_card_#1    0\n",
       "Suit_of_card_#2    0\n",
       "Rank_of_card_#2    0\n",
       "Suit_of_card_#3    0\n",
       "Rank_of_card_#3    0\n",
       "Suit_of_card_#4    0\n",
       "Rank_of_card_#4    0\n",
       "Suit_of_card_#5    0\n",
       "Rank_of_card_#5    0\n",
       "Poker_Hand         0\n",
       "dtype: int64"
      ]
     },
     "execution_count": 9,
     "metadata": {},
     "output_type": "execute_result"
    }
   ],
   "source": [
    "poker_df.isnull().sum()"
   ]
  },
  {
   "cell_type": "markdown",
   "id": "de736a3d",
   "metadata": {},
   "source": [
    "## 8.\tРешите поставленную задачу классификации в соответствии с заданием."
   ]
  },
  {
   "cell_type": "code",
   "execution_count": 20,
   "id": "1e10fdbc",
   "metadata": {},
   "outputs": [],
   "source": [
    "from sklearn.model_selection import train_test_split\n",
    "\n",
    "x = poker_df1.drop(columns=['Poker_Hand', axis=1]\n",
    "y = poker_df1['Poker_Hand']\n",
    "\n",
    "\n",
    "# Делим базу на тестовую выборку и обучающую..\n",
    "x_train, x_test, y_train, y_test = train_test_split(x, y, test_size = 0.3, random_state = 0)\n",
    "  "
   ]
  },
  {
   "cell_type": "markdown",
   "id": "e6ae7953",
   "metadata": {},
   "source": [
    "## Логический классификатор (бинарное решающее дерево)."
   ]
  },
  {
   "cell_type": "code",
   "execution_count": 21,
   "id": "eac97b39",
   "metadata": {},
   "outputs": [
    {
     "name": "stdout",
     "output_type": "stream",
     "text": [
      " best: 0.5281956991879871 \n",
      " at features number: 7 \n",
      " at depth: 6\n",
      " Accuracy dtc: 0.52653\n"
     ]
    }
   ],
   "source": [
    "import numpy as np\n",
    "import warnings\n",
    "from sklearn.metrics import plot_precision_recall_curve, plot_roc_curve\n",
    "from sklearn.tree import DecisionTreeClassifier\n",
    "from sklearn import tree\n",
    "    \n",
    "warnings.filterwarnings('ignore')\n",
    "\n",
    "#Создаем классификатор \n",
    "dtc = DecisionTreeClassifier()\n",
    "#Задаем параметры (max_depth(Максимальная глубина дереваб max_features(Число признаков по которым лучшее разбиение ))  \n",
    "params = {'max_depth': list(range(1,12)), 'max_features': list(range(1,12))}\n",
    "\n",
    "dtc_grid = GridSearchCV(dtc, params)\n",
    "dtc_grid.fit (x_train, y_train)\n",
    "\n",
    "best_features = dtc_grid.best_estimator_.max_features # Находим лучшую глубину\n",
    "best_depth = dtc_grid.best_estimator_.max_depth       # Находим лучшее количество признаков, которые следует учитывать при поиске\n",
    "\n",
    "dtc = DecisionTreeClassifier(max_depth=best_depth, max_features=best_features)\n",
    "dtc.fit(x_train, y_train)\n",
    "#Предсказывем\n",
    "accuracy_score  = np.mean(y_test == dtc.predict(x_test))\n",
    "print(' best:', best_score, \"\\n\", 'at features number:', best_features, \"\\n\", 'at depth:', best_depth)\n",
    "print(' Accuracy dtc: %.5f' % accuracy_score)\n"
   ]
  },
  {
   "cell_type": "markdown",
   "id": "7f01ce47",
   "metadata": {},
   "source": [
    "## Линейный классификатор (персептрон)"
   ]
  },
  {
   "cell_type": "code",
   "execution_count": 22,
   "id": "7204dea2",
   "metadata": {},
   "outputs": [
    {
     "name": "stdout",
     "output_type": "stream",
     "text": [
      "best: 0.5062560574529725 alpha: 0.05263157894736842 max_iter: 4\n"
     ]
    },
    {
     "data": {
      "text/plain": [
       "Perceptron(alpha=0.05263157894736842, max_iter=4)"
      ]
     },
     "execution_count": 22,
     "metadata": {},
     "output_type": "execute_result"
    }
   ],
   "source": [
    "ppn = Perceptron()\n",
    "\n",
    "search = GridSearchCV(estimator=ppn, param_grid={\n",
    "    'alpha': np.linspace(0, 1, 20)[1:],        #Константа, которая умножает член регуляризации ()\n",
    "    'max_iter': [x for x in range(1, 50)],     #Максимальное количество проходов по обучающим данным\n",
    "}, n_jobs=-1)\n",
    "search.fit(x_train, y_train)# обучаем\n",
    "alpha = search.best_estimator_.alpha\n",
    "max_iter = search.best_estimator_.max_iter\n",
    "best = search.best_score_ #Средняя перекрестная оценка\n",
    "print('best:', best, 'alpha:', alpha, 'max_iter:', max_iter)\n",
    "\n",
    "ppn = Perceptron(alpha=alpha, max_iter=max_iter)\n",
    "ppn.fit(x_train, y_train)\n"
   ]
  },
  {
   "cell_type": "code",
   "execution_count": 23,
   "id": "cf737f04",
   "metadata": {},
   "outputs": [],
   "source": []
  },
  {
   "cell_type": "markdown",
   "id": "c7581e46",
   "metadata": {},
   "source": [
    "## PR график"
   ]
  },
  {
   "cell_type": "code",
   "execution_count": 24,
   "id": "55ef8503",
   "metadata": {
    "scrolled": false
   },
   "outputs": [
    {
     "data": {
      "image/png": "[encoded data removed]",
      "text/plain": [
       "<Figure size 432x288 with 1 Axes>"
      ]
     },
     "metadata": {
      "needs_background": "light"
     },
     "output_type": "display_data"
    }
   ],
   "source": [
    "from sklearn.metrics import plot_precision_recall_curve, plot_roc_curve\n",
    "i = plot_precision_recall_curve(dtc, x_test, y_test)\n",
    "g = plot_precision_recall_curve(ppn, x_test, y_test, ax = i.ax_)"
   ]
  },
  {
   "cell_type": "markdown",
   "id": "c6113c26",
   "metadata": {},
   "source": [
    "## ROC графики"
   ]
  },
  {
   "cell_type": "code",
   "execution_count": 25,
   "id": "5c201a31",
   "metadata": {},
   "outputs": [
    {
     "data": {
      "image/png": "[encoded data removed]",
      "text/plain": [
       "<Figure size 432x288 with 1 Axes>"
      ]
     },
     "metadata": {
      "needs_background": "light"
     },
     "output_type": "display_data"
    }
   ],
   "source": [
    "c = plot_roc_curve(dtc, x_test, y_test)\n",
    "d = plot_roc_curve(ppn, x_test, y_test, ax = c.ax_)\n"
   ]
  },
  {
   "cell_type": "markdown",
   "id": "308ad097",
   "metadata": {},
   "source": [
    "Классификаторы имеют примерно одинаковые показатели качества (около = 0.5) относительно PR и ROC кривых"
   ]
  },
  {
   "cell_type": "code",
   "execution_count": null,
   "id": "0e36eb43",
   "metadata": {},
   "outputs": [],
   "source": []
  }
 ],
 "metadata": {
  "kernelspec": {
   "display_name": "Python 3 (ipykernel)",
   "language": "python",
   "name": "python3"
  },
  "language_info": {
   "codemirror_mode": {
    "name": "ipython",
    "version": 3
   },
   "file_extension": ".py",
   "mimetype": "text/x-python",
   "name": "python",
   "nbconvert_exporter": "python",
   "pygments_lexer": "ipython3",
   "version": "3.9.7"
  }
 },
 "nbformat": 4,
 "nbformat_minor": 5
}
