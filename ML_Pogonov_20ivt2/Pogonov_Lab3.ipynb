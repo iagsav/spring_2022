{
 "cells": [
  {
   "cell_type": "code",
   "execution_count": 227,
   "id": "0973df33",
   "metadata": {},
   "outputs": [],
   "source": [
    "import pandas as pd\n",
    "import matplotlib.pyplot as plt\n",
    "import seaborn as sb\n",
    "import numpy as np"
   ]
  },
  {
   "cell_type": "code",
   "execution_count": 228,
   "id": "609dfb59",
   "metadata": {},
   "outputs": [
    {
     "data": {
      "text/html": [
       "<div>\n",
       "<style scoped>\n",
       "    .dataframe tbody tr th:only-of-type {\n",
       "        vertical-align: middle;\n",
       "    }\n",
       "\n",
       "    .dataframe tbody tr th {\n",
       "        vertical-align: top;\n",
       "    }\n",
       "\n",
       "    .dataframe thead th {\n",
       "        text-align: right;\n",
       "    }\n",
       "</style>\n",
       "<table border=\"1\" class=\"dataframe\">\n",
       "  <thead>\n",
       "    <tr style=\"text-align: right;\">\n",
       "      <th></th>\n",
       "      <th>date</th>\n",
       "      <th>Temperature</th>\n",
       "      <th>Humidity</th>\n",
       "      <th>Light</th>\n",
       "      <th>CO2</th>\n",
       "      <th>HumidityRatio</th>\n",
       "      <th>Occupancy</th>\n",
       "    </tr>\n",
       "  </thead>\n",
       "  <tbody>\n",
       "    <tr>\n",
       "      <th>1</th>\n",
       "      <td>2015-02-04 17:51:00</td>\n",
       "      <td>23.18</td>\n",
       "      <td>27.2720</td>\n",
       "      <td>426.0</td>\n",
       "      <td>721.250000</td>\n",
       "      <td>0.004793</td>\n",
       "      <td>1</td>\n",
       "    </tr>\n",
       "    <tr>\n",
       "      <th>2</th>\n",
       "      <td>2015-02-04 17:51:59</td>\n",
       "      <td>23.15</td>\n",
       "      <td>27.2675</td>\n",
       "      <td>429.5</td>\n",
       "      <td>714.000000</td>\n",
       "      <td>0.004783</td>\n",
       "      <td>1</td>\n",
       "    </tr>\n",
       "    <tr>\n",
       "      <th>3</th>\n",
       "      <td>2015-02-04 17:53:00</td>\n",
       "      <td>23.15</td>\n",
       "      <td>27.2450</td>\n",
       "      <td>426.0</td>\n",
       "      <td>713.500000</td>\n",
       "      <td>0.004779</td>\n",
       "      <td>1</td>\n",
       "    </tr>\n",
       "    <tr>\n",
       "      <th>4</th>\n",
       "      <td>2015-02-04 17:54:00</td>\n",
       "      <td>23.15</td>\n",
       "      <td>27.2000</td>\n",
       "      <td>426.0</td>\n",
       "      <td>708.250000</td>\n",
       "      <td>0.004772</td>\n",
       "      <td>1</td>\n",
       "    </tr>\n",
       "    <tr>\n",
       "      <th>5</th>\n",
       "      <td>2015-02-04 17:55:00</td>\n",
       "      <td>23.10</td>\n",
       "      <td>27.2000</td>\n",
       "      <td>426.0</td>\n",
       "      <td>704.500000</td>\n",
       "      <td>0.004757</td>\n",
       "      <td>1</td>\n",
       "    </tr>\n",
       "    <tr>\n",
       "      <th>...</th>\n",
       "      <td>...</td>\n",
       "      <td>...</td>\n",
       "      <td>...</td>\n",
       "      <td>...</td>\n",
       "      <td>...</td>\n",
       "      <td>...</td>\n",
       "      <td>...</td>\n",
       "    </tr>\n",
       "    <tr>\n",
       "      <th>8139</th>\n",
       "      <td>2015-02-10 09:29:00</td>\n",
       "      <td>21.05</td>\n",
       "      <td>36.0975</td>\n",
       "      <td>433.0</td>\n",
       "      <td>787.250000</td>\n",
       "      <td>0.005579</td>\n",
       "      <td>1</td>\n",
       "    </tr>\n",
       "    <tr>\n",
       "      <th>8140</th>\n",
       "      <td>2015-02-10 09:29:59</td>\n",
       "      <td>21.05</td>\n",
       "      <td>35.9950</td>\n",
       "      <td>433.0</td>\n",
       "      <td>789.500000</td>\n",
       "      <td>0.005563</td>\n",
       "      <td>1</td>\n",
       "    </tr>\n",
       "    <tr>\n",
       "      <th>8141</th>\n",
       "      <td>2015-02-10 09:30:59</td>\n",
       "      <td>21.10</td>\n",
       "      <td>36.0950</td>\n",
       "      <td>433.0</td>\n",
       "      <td>798.500000</td>\n",
       "      <td>0.005596</td>\n",
       "      <td>1</td>\n",
       "    </tr>\n",
       "    <tr>\n",
       "      <th>8142</th>\n",
       "      <td>2015-02-10 09:32:00</td>\n",
       "      <td>21.10</td>\n",
       "      <td>36.2600</td>\n",
       "      <td>433.0</td>\n",
       "      <td>820.333333</td>\n",
       "      <td>0.005621</td>\n",
       "      <td>1</td>\n",
       "    </tr>\n",
       "    <tr>\n",
       "      <th>8143</th>\n",
       "      <td>2015-02-10 09:33:00</td>\n",
       "      <td>21.10</td>\n",
       "      <td>36.2000</td>\n",
       "      <td>447.0</td>\n",
       "      <td>821.000000</td>\n",
       "      <td>0.005612</td>\n",
       "      <td>1</td>\n",
       "    </tr>\n",
       "  </tbody>\n",
       "</table>\n",
       "<p>8143 rows × 7 columns</p>\n",
       "</div>"
      ],
      "text/plain": [
       "                     date  Temperature  Humidity  Light         CO2  \\\n",
       "1     2015-02-04 17:51:00        23.18   27.2720  426.0  721.250000   \n",
       "2     2015-02-04 17:51:59        23.15   27.2675  429.5  714.000000   \n",
       "3     2015-02-04 17:53:00        23.15   27.2450  426.0  713.500000   \n",
       "4     2015-02-04 17:54:00        23.15   27.2000  426.0  708.250000   \n",
       "5     2015-02-04 17:55:00        23.10   27.2000  426.0  704.500000   \n",
       "...                   ...          ...       ...    ...         ...   \n",
       "8139  2015-02-10 09:29:00        21.05   36.0975  433.0  787.250000   \n",
       "8140  2015-02-10 09:29:59        21.05   35.9950  433.0  789.500000   \n",
       "8141  2015-02-10 09:30:59        21.10   36.0950  433.0  798.500000   \n",
       "8142  2015-02-10 09:32:00        21.10   36.2600  433.0  820.333333   \n",
       "8143  2015-02-10 09:33:00        21.10   36.2000  447.0  821.000000   \n",
       "\n",
       "      HumidityRatio  Occupancy  \n",
       "1          0.004793          1  \n",
       "2          0.004783          1  \n",
       "3          0.004779          1  \n",
       "4          0.004772          1  \n",
       "5          0.004757          1  \n",
       "...             ...        ...  \n",
       "8139       0.005579          1  \n",
       "8140       0.005563          1  \n",
       "8141       0.005596          1  \n",
       "8142       0.005621          1  \n",
       "8143       0.005612          1  \n",
       "\n",
       "[8143 rows x 7 columns]"
      ]
     },
     "execution_count": 228,
     "metadata": {},
     "output_type": "execute_result"
    }
   ],
   "source": [
    "pas_data = pd.read_csv('/home/dmitry/datatraining.csv', sep = ',')\n",
    "pas_data"
   ]
  },
  {
   "cell_type": "code",
   "execution_count": 229,
   "id": "a07f5abc",
   "metadata": {},
   "outputs": [
    {
     "data": {
      "text/html": [
       "<div>\n",
       "<style scoped>\n",
       "    .dataframe tbody tr th:only-of-type {\n",
       "        vertical-align: middle;\n",
       "    }\n",
       "\n",
       "    .dataframe tbody tr th {\n",
       "        vertical-align: top;\n",
       "    }\n",
       "\n",
       "    .dataframe thead th {\n",
       "        text-align: right;\n",
       "    }\n",
       "</style>\n",
       "<table border=\"1\" class=\"dataframe\">\n",
       "  <thead>\n",
       "    <tr style=\"text-align: right;\">\n",
       "      <th></th>\n",
       "      <th>date</th>\n",
       "      <th>Temperature</th>\n",
       "      <th>Humidity</th>\n",
       "      <th>Light</th>\n",
       "      <th>CO2</th>\n",
       "      <th>HumidityRatio</th>\n",
       "      <th>Occupancy</th>\n",
       "    </tr>\n",
       "  </thead>\n",
       "  <tbody>\n",
       "    <tr>\n",
       "      <th>140</th>\n",
       "      <td>2015-02-02 14:19:00</td>\n",
       "      <td>23.700000</td>\n",
       "      <td>26.272000</td>\n",
       "      <td>585.200000</td>\n",
       "      <td>749.200000</td>\n",
       "      <td>0.004764</td>\n",
       "      <td>1</td>\n",
       "    </tr>\n",
       "    <tr>\n",
       "      <th>141</th>\n",
       "      <td>2015-02-02 14:19:59</td>\n",
       "      <td>23.718000</td>\n",
       "      <td>26.290000</td>\n",
       "      <td>578.400000</td>\n",
       "      <td>760.400000</td>\n",
       "      <td>0.004773</td>\n",
       "      <td>1</td>\n",
       "    </tr>\n",
       "    <tr>\n",
       "      <th>142</th>\n",
       "      <td>2015-02-02 14:21:00</td>\n",
       "      <td>23.730000</td>\n",
       "      <td>26.230000</td>\n",
       "      <td>572.666667</td>\n",
       "      <td>769.666667</td>\n",
       "      <td>0.004765</td>\n",
       "      <td>1</td>\n",
       "    </tr>\n",
       "    <tr>\n",
       "      <th>143</th>\n",
       "      <td>2015-02-02 14:22:00</td>\n",
       "      <td>23.722500</td>\n",
       "      <td>26.125000</td>\n",
       "      <td>493.750000</td>\n",
       "      <td>774.750000</td>\n",
       "      <td>0.004744</td>\n",
       "      <td>1</td>\n",
       "    </tr>\n",
       "    <tr>\n",
       "      <th>144</th>\n",
       "      <td>2015-02-02 14:23:00</td>\n",
       "      <td>23.754000</td>\n",
       "      <td>26.200000</td>\n",
       "      <td>488.600000</td>\n",
       "      <td>779.000000</td>\n",
       "      <td>0.004767</td>\n",
       "      <td>1</td>\n",
       "    </tr>\n",
       "    <tr>\n",
       "      <th>...</th>\n",
       "      <td>...</td>\n",
       "      <td>...</td>\n",
       "      <td>...</td>\n",
       "      <td>...</td>\n",
       "      <td>...</td>\n",
       "      <td>...</td>\n",
       "      <td>...</td>\n",
       "    </tr>\n",
       "    <tr>\n",
       "      <th>2800</th>\n",
       "      <td>2015-02-04 10:38:59</td>\n",
       "      <td>24.290000</td>\n",
       "      <td>25.700000</td>\n",
       "      <td>808.000000</td>\n",
       "      <td>1150.250000</td>\n",
       "      <td>0.004829</td>\n",
       "      <td>1</td>\n",
       "    </tr>\n",
       "    <tr>\n",
       "      <th>2801</th>\n",
       "      <td>2015-02-04 10:40:00</td>\n",
       "      <td>24.330000</td>\n",
       "      <td>25.736000</td>\n",
       "      <td>809.800000</td>\n",
       "      <td>1129.200000</td>\n",
       "      <td>0.004848</td>\n",
       "      <td>1</td>\n",
       "    </tr>\n",
       "    <tr>\n",
       "      <th>2802</th>\n",
       "      <td>2015-02-04 10:40:59</td>\n",
       "      <td>24.330000</td>\n",
       "      <td>25.700000</td>\n",
       "      <td>817.000000</td>\n",
       "      <td>1125.800000</td>\n",
       "      <td>0.004841</td>\n",
       "      <td>1</td>\n",
       "    </tr>\n",
       "    <tr>\n",
       "      <th>2803</th>\n",
       "      <td>2015-02-04 10:41:59</td>\n",
       "      <td>24.356667</td>\n",
       "      <td>25.700000</td>\n",
       "      <td>813.000000</td>\n",
       "      <td>1123.000000</td>\n",
       "      <td>0.004849</td>\n",
       "      <td>1</td>\n",
       "    </tr>\n",
       "    <tr>\n",
       "      <th>2804</th>\n",
       "      <td>2015-02-04 10:43:00</td>\n",
       "      <td>24.408333</td>\n",
       "      <td>25.681667</td>\n",
       "      <td>798.000000</td>\n",
       "      <td>1124.000000</td>\n",
       "      <td>0.004860</td>\n",
       "      <td>1</td>\n",
       "    </tr>\n",
       "  </tbody>\n",
       "</table>\n",
       "<p>2665 rows × 7 columns</p>\n",
       "</div>"
      ],
      "text/plain": [
       "                     date  Temperature   Humidity       Light          CO2  \\\n",
       "140   2015-02-02 14:19:00    23.700000  26.272000  585.200000   749.200000   \n",
       "141   2015-02-02 14:19:59    23.718000  26.290000  578.400000   760.400000   \n",
       "142   2015-02-02 14:21:00    23.730000  26.230000  572.666667   769.666667   \n",
       "143   2015-02-02 14:22:00    23.722500  26.125000  493.750000   774.750000   \n",
       "144   2015-02-02 14:23:00    23.754000  26.200000  488.600000   779.000000   \n",
       "...                   ...          ...        ...         ...          ...   \n",
       "2800  2015-02-04 10:38:59    24.290000  25.700000  808.000000  1150.250000   \n",
       "2801  2015-02-04 10:40:00    24.330000  25.736000  809.800000  1129.200000   \n",
       "2802  2015-02-04 10:40:59    24.330000  25.700000  817.000000  1125.800000   \n",
       "2803  2015-02-04 10:41:59    24.356667  25.700000  813.000000  1123.000000   \n",
       "2804  2015-02-04 10:43:00    24.408333  25.681667  798.000000  1124.000000   \n",
       "\n",
       "      HumidityRatio  Occupancy  \n",
       "140        0.004764          1  \n",
       "141        0.004773          1  \n",
       "142        0.004765          1  \n",
       "143        0.004744          1  \n",
       "144        0.004767          1  \n",
       "...             ...        ...  \n",
       "2800       0.004829          1  \n",
       "2801       0.004848          1  \n",
       "2802       0.004841          1  \n",
       "2803       0.004849          1  \n",
       "2804       0.004860          1  \n",
       "\n",
       "[2665 rows x 7 columns]"
      ]
     },
     "execution_count": 229,
     "metadata": {},
     "output_type": "execute_result"
    }
   ],
   "source": [
    "pas_data2 = pd.read_csv('/home/dmitry/datatest.csv', sep = ',')\n",
    "pas_data2"
   ]
  },
  {
   "cell_type": "code",
   "execution_count": 230,
   "id": "2cea4f9e",
   "metadata": {},
   "outputs": [
    {
     "data": {
      "text/html": [
       "<div>\n",
       "<style scoped>\n",
       "    .dataframe tbody tr th:only-of-type {\n",
       "        vertical-align: middle;\n",
       "    }\n",
       "\n",
       "    .dataframe tbody tr th {\n",
       "        vertical-align: top;\n",
       "    }\n",
       "\n",
       "    .dataframe thead th {\n",
       "        text-align: right;\n",
       "    }\n",
       "</style>\n",
       "<table border=\"1\" class=\"dataframe\">\n",
       "  <thead>\n",
       "    <tr style=\"text-align: right;\">\n",
       "      <th></th>\n",
       "      <th>date</th>\n",
       "      <th>Temperature</th>\n",
       "      <th>Humidity</th>\n",
       "      <th>Light</th>\n",
       "      <th>CO2</th>\n",
       "      <th>HumidityRatio</th>\n",
       "      <th>Occupancy</th>\n",
       "    </tr>\n",
       "  </thead>\n",
       "  <tbody>\n",
       "    <tr>\n",
       "      <th>1</th>\n",
       "      <td>2015-02-11 14:48:00</td>\n",
       "      <td>21.7600</td>\n",
       "      <td>31.133333</td>\n",
       "      <td>437.333333</td>\n",
       "      <td>1029.666667</td>\n",
       "      <td>0.005021</td>\n",
       "      <td>1</td>\n",
       "    </tr>\n",
       "    <tr>\n",
       "      <th>2</th>\n",
       "      <td>2015-02-11 14:49:00</td>\n",
       "      <td>21.7900</td>\n",
       "      <td>31.000000</td>\n",
       "      <td>437.333333</td>\n",
       "      <td>1000.000000</td>\n",
       "      <td>0.005009</td>\n",
       "      <td>1</td>\n",
       "    </tr>\n",
       "    <tr>\n",
       "      <th>3</th>\n",
       "      <td>2015-02-11 14:50:00</td>\n",
       "      <td>21.7675</td>\n",
       "      <td>31.122500</td>\n",
       "      <td>434.000000</td>\n",
       "      <td>1003.750000</td>\n",
       "      <td>0.005022</td>\n",
       "      <td>1</td>\n",
       "    </tr>\n",
       "    <tr>\n",
       "      <th>4</th>\n",
       "      <td>2015-02-11 14:51:00</td>\n",
       "      <td>21.7675</td>\n",
       "      <td>31.122500</td>\n",
       "      <td>439.000000</td>\n",
       "      <td>1009.500000</td>\n",
       "      <td>0.005022</td>\n",
       "      <td>1</td>\n",
       "    </tr>\n",
       "    <tr>\n",
       "      <th>5</th>\n",
       "      <td>2015-02-11 14:51:59</td>\n",
       "      <td>21.7900</td>\n",
       "      <td>31.133333</td>\n",
       "      <td>437.333333</td>\n",
       "      <td>1005.666667</td>\n",
       "      <td>0.005030</td>\n",
       "      <td>1</td>\n",
       "    </tr>\n",
       "    <tr>\n",
       "      <th>...</th>\n",
       "      <td>...</td>\n",
       "      <td>...</td>\n",
       "      <td>...</td>\n",
       "      <td>...</td>\n",
       "      <td>...</td>\n",
       "      <td>...</td>\n",
       "      <td>...</td>\n",
       "    </tr>\n",
       "    <tr>\n",
       "      <th>9748</th>\n",
       "      <td>2015-02-18 09:15:00</td>\n",
       "      <td>20.8150</td>\n",
       "      <td>27.717500</td>\n",
       "      <td>429.750000</td>\n",
       "      <td>1505.250000</td>\n",
       "      <td>0.004213</td>\n",
       "      <td>1</td>\n",
       "    </tr>\n",
       "    <tr>\n",
       "      <th>9749</th>\n",
       "      <td>2015-02-18 09:16:00</td>\n",
       "      <td>20.8650</td>\n",
       "      <td>27.745000</td>\n",
       "      <td>423.500000</td>\n",
       "      <td>1514.500000</td>\n",
       "      <td>0.004230</td>\n",
       "      <td>1</td>\n",
       "    </tr>\n",
       "    <tr>\n",
       "      <th>9750</th>\n",
       "      <td>2015-02-18 09:16:59</td>\n",
       "      <td>20.8900</td>\n",
       "      <td>27.745000</td>\n",
       "      <td>423.500000</td>\n",
       "      <td>1521.500000</td>\n",
       "      <td>0.004237</td>\n",
       "      <td>1</td>\n",
       "    </tr>\n",
       "    <tr>\n",
       "      <th>9751</th>\n",
       "      <td>2015-02-18 09:17:59</td>\n",
       "      <td>20.8900</td>\n",
       "      <td>28.022500</td>\n",
       "      <td>418.750000</td>\n",
       "      <td>1632.000000</td>\n",
       "      <td>0.004279</td>\n",
       "      <td>1</td>\n",
       "    </tr>\n",
       "    <tr>\n",
       "      <th>9752</th>\n",
       "      <td>2015-02-18 09:19:00</td>\n",
       "      <td>21.0000</td>\n",
       "      <td>28.100000</td>\n",
       "      <td>409.000000</td>\n",
       "      <td>1864.000000</td>\n",
       "      <td>0.004321</td>\n",
       "      <td>1</td>\n",
       "    </tr>\n",
       "  </tbody>\n",
       "</table>\n",
       "<p>9752 rows × 7 columns</p>\n",
       "</div>"
      ],
      "text/plain": [
       "                     date  Temperature   Humidity       Light          CO2  \\\n",
       "1     2015-02-11 14:48:00      21.7600  31.133333  437.333333  1029.666667   \n",
       "2     2015-02-11 14:49:00      21.7900  31.000000  437.333333  1000.000000   \n",
       "3     2015-02-11 14:50:00      21.7675  31.122500  434.000000  1003.750000   \n",
       "4     2015-02-11 14:51:00      21.7675  31.122500  439.000000  1009.500000   \n",
       "5     2015-02-11 14:51:59      21.7900  31.133333  437.333333  1005.666667   \n",
       "...                   ...          ...        ...         ...          ...   \n",
       "9748  2015-02-18 09:15:00      20.8150  27.717500  429.750000  1505.250000   \n",
       "9749  2015-02-18 09:16:00      20.8650  27.745000  423.500000  1514.500000   \n",
       "9750  2015-02-18 09:16:59      20.8900  27.745000  423.500000  1521.500000   \n",
       "9751  2015-02-18 09:17:59      20.8900  28.022500  418.750000  1632.000000   \n",
       "9752  2015-02-18 09:19:00      21.0000  28.100000  409.000000  1864.000000   \n",
       "\n",
       "      HumidityRatio  Occupancy  \n",
       "1          0.005021          1  \n",
       "2          0.005009          1  \n",
       "3          0.005022          1  \n",
       "4          0.005022          1  \n",
       "5          0.005030          1  \n",
       "...             ...        ...  \n",
       "9748       0.004213          1  \n",
       "9749       0.004230          1  \n",
       "9750       0.004237          1  \n",
       "9751       0.004279          1  \n",
       "9752       0.004321          1  \n",
       "\n",
       "[9752 rows x 7 columns]"
      ]
     },
     "execution_count": 230,
     "metadata": {},
     "output_type": "execute_result"
    }
   ],
   "source": [
    "pas_data3 = pd.read_csv('/home/dmitry/datatest2.csv', sep = ',')\n",
    "pas_data3"
   ]
  },
  {
   "cell_type": "code",
   "execution_count": 231,
   "id": "0cf143c4",
   "metadata": {},
   "outputs": [
    {
     "data": {
      "text/plain": [
       "<AxesSubplot:>"
      ]
     },
     "execution_count": 231,
     "metadata": {},
     "output_type": "execute_result"
    },
    {
     "data": {
      "image/png": "[encoded data removed]",
      "text/plain": [
       "<Figure size 432x288 with 1 Axes>"
      ]
     },
     "metadata": {
      "needs_background": "light"
     },
     "output_type": "display_data"
    }
   ],
   "source": [
    "pas_data.Occupancy.hist(bins = 2)"
   ]
  },
  {
   "cell_type": "code",
   "execution_count": 232,
   "id": "f67e5e12",
   "metadata": {},
   "outputs": [
    {
     "data": {
      "text/plain": [
       "<AxesSubplot:>"
      ]
     },
     "execution_count": 232,
     "metadata": {},
     "output_type": "execute_result"
    },
    {
     "data": {
      "image/png": "[encoded data removed]",
      "text/plain": [
       "<Figure size 432x288 with 1 Axes>"
      ]
     },
     "metadata": {
      "needs_background": "light"
     },
     "output_type": "display_data"
    }
   ],
   "source": [
    "pas_data2.Occupancy.hist(bins = 2)"
   ]
  },
  {
   "cell_type": "code",
   "execution_count": 233,
   "id": "0770e48b",
   "metadata": {},
   "outputs": [
    {
     "data": {
      "text/plain": [
       "<AxesSubplot:>"
      ]
     },
     "execution_count": 233,
     "metadata": {},
     "output_type": "execute_result"
    },
    {
     "data": {
      "image/png": "[encoded data removed]",
      "text/plain": [
       "<Figure size 432x288 with 1 Axes>"
      ]
     },
     "metadata": {
      "needs_background": "light"
     },
     "output_type": "display_data"
    }
   ],
   "source": [
    "pas_data3.Occupancy.hist(bins = 2)"
   ]
  },
  {
   "cell_type": "code",
   "execution_count": 234,
   "id": "81810c8f",
   "metadata": {},
   "outputs": [],
   "source": [
    "#Сбалансируем данные по классу Occupancy\n",
    "pas_data3 = pas_data3.loc[pas_data3['Occupancy'] > 0.5]\n",
    "pas_data2 = pas_data2.loc[pas_data2['Occupancy'] > 0.5]"
   ]
  },
  {
   "cell_type": "code",
   "execution_count": 235,
   "id": "881ad885",
   "metadata": {},
   "outputs": [
    {
     "data": {
      "text/html": [
       "<div>\n",
       "<style scoped>\n",
       "    .dataframe tbody tr th:only-of-type {\n",
       "        vertical-align: middle;\n",
       "    }\n",
       "\n",
       "    .dataframe tbody tr th {\n",
       "        vertical-align: top;\n",
       "    }\n",
       "\n",
       "    .dataframe thead th {\n",
       "        text-align: right;\n",
       "    }\n",
       "</style>\n",
       "<table border=\"1\" class=\"dataframe\">\n",
       "  <thead>\n",
       "    <tr style=\"text-align: right;\">\n",
       "      <th></th>\n",
       "      <th>date</th>\n",
       "      <th>Temperature</th>\n",
       "      <th>Humidity</th>\n",
       "      <th>Light</th>\n",
       "      <th>CO2</th>\n",
       "      <th>HumidityRatio</th>\n",
       "      <th>Occupancy</th>\n",
       "    </tr>\n",
       "  </thead>\n",
       "  <tbody>\n",
       "    <tr>\n",
       "      <th>0</th>\n",
       "      <td>2015-02-04 17:51:00</td>\n",
       "      <td>23.180</td>\n",
       "      <td>27.2720</td>\n",
       "      <td>426.00</td>\n",
       "      <td>721.25</td>\n",
       "      <td>0.004793</td>\n",
       "      <td>1</td>\n",
       "    </tr>\n",
       "    <tr>\n",
       "      <th>1</th>\n",
       "      <td>2015-02-04 17:51:59</td>\n",
       "      <td>23.150</td>\n",
       "      <td>27.2675</td>\n",
       "      <td>429.50</td>\n",
       "      <td>714.00</td>\n",
       "      <td>0.004783</td>\n",
       "      <td>1</td>\n",
       "    </tr>\n",
       "    <tr>\n",
       "      <th>2</th>\n",
       "      <td>2015-02-04 17:53:00</td>\n",
       "      <td>23.150</td>\n",
       "      <td>27.2450</td>\n",
       "      <td>426.00</td>\n",
       "      <td>713.50</td>\n",
       "      <td>0.004779</td>\n",
       "      <td>1</td>\n",
       "    </tr>\n",
       "    <tr>\n",
       "      <th>3</th>\n",
       "      <td>2015-02-04 17:54:00</td>\n",
       "      <td>23.150</td>\n",
       "      <td>27.2000</td>\n",
       "      <td>426.00</td>\n",
       "      <td>708.25</td>\n",
       "      <td>0.004772</td>\n",
       "      <td>1</td>\n",
       "    </tr>\n",
       "    <tr>\n",
       "      <th>4</th>\n",
       "      <td>2015-02-04 17:55:00</td>\n",
       "      <td>23.100</td>\n",
       "      <td>27.2000</td>\n",
       "      <td>426.00</td>\n",
       "      <td>704.50</td>\n",
       "      <td>0.004757</td>\n",
       "      <td>1</td>\n",
       "    </tr>\n",
       "    <tr>\n",
       "      <th>...</th>\n",
       "      <td>...</td>\n",
       "      <td>...</td>\n",
       "      <td>...</td>\n",
       "      <td>...</td>\n",
       "      <td>...</td>\n",
       "      <td>...</td>\n",
       "      <td>...</td>\n",
       "    </tr>\n",
       "    <tr>\n",
       "      <th>11159</th>\n",
       "      <td>2015-02-18 09:15:00</td>\n",
       "      <td>20.815</td>\n",
       "      <td>27.7175</td>\n",
       "      <td>429.75</td>\n",
       "      <td>1505.25</td>\n",
       "      <td>0.004213</td>\n",
       "      <td>1</td>\n",
       "    </tr>\n",
       "    <tr>\n",
       "      <th>11160</th>\n",
       "      <td>2015-02-18 09:16:00</td>\n",
       "      <td>20.865</td>\n",
       "      <td>27.7450</td>\n",
       "      <td>423.50</td>\n",
       "      <td>1514.50</td>\n",
       "      <td>0.004230</td>\n",
       "      <td>1</td>\n",
       "    </tr>\n",
       "    <tr>\n",
       "      <th>11161</th>\n",
       "      <td>2015-02-18 09:16:59</td>\n",
       "      <td>20.890</td>\n",
       "      <td>27.7450</td>\n",
       "      <td>423.50</td>\n",
       "      <td>1521.50</td>\n",
       "      <td>0.004237</td>\n",
       "      <td>1</td>\n",
       "    </tr>\n",
       "    <tr>\n",
       "      <th>11162</th>\n",
       "      <td>2015-02-18 09:17:59</td>\n",
       "      <td>20.890</td>\n",
       "      <td>28.0225</td>\n",
       "      <td>418.75</td>\n",
       "      <td>1632.00</td>\n",
       "      <td>0.004279</td>\n",
       "      <td>1</td>\n",
       "    </tr>\n",
       "    <tr>\n",
       "      <th>11163</th>\n",
       "      <td>2015-02-18 09:19:00</td>\n",
       "      <td>21.000</td>\n",
       "      <td>28.1000</td>\n",
       "      <td>409.00</td>\n",
       "      <td>1864.00</td>\n",
       "      <td>0.004321</td>\n",
       "      <td>1</td>\n",
       "    </tr>\n",
       "  </tbody>\n",
       "</table>\n",
       "<p>11164 rows × 7 columns</p>\n",
       "</div>"
      ],
      "text/plain": [
       "                      date  Temperature  Humidity   Light      CO2  \\\n",
       "0      2015-02-04 17:51:00       23.180   27.2720  426.00   721.25   \n",
       "1      2015-02-04 17:51:59       23.150   27.2675  429.50   714.00   \n",
       "2      2015-02-04 17:53:00       23.150   27.2450  426.00   713.50   \n",
       "3      2015-02-04 17:54:00       23.150   27.2000  426.00   708.25   \n",
       "4      2015-02-04 17:55:00       23.100   27.2000  426.00   704.50   \n",
       "...                    ...          ...       ...     ...      ...   \n",
       "11159  2015-02-18 09:15:00       20.815   27.7175  429.75  1505.25   \n",
       "11160  2015-02-18 09:16:00       20.865   27.7450  423.50  1514.50   \n",
       "11161  2015-02-18 09:16:59       20.890   27.7450  423.50  1521.50   \n",
       "11162  2015-02-18 09:17:59       20.890   28.0225  418.75  1632.00   \n",
       "11163  2015-02-18 09:19:00       21.000   28.1000  409.00  1864.00   \n",
       "\n",
       "       HumidityRatio  Occupancy  \n",
       "0           0.004793          1  \n",
       "1           0.004783          1  \n",
       "2           0.004779          1  \n",
       "3           0.004772          1  \n",
       "4           0.004757          1  \n",
       "...              ...        ...  \n",
       "11159       0.004213          1  \n",
       "11160       0.004230          1  \n",
       "11161       0.004237          1  \n",
       "11162       0.004279          1  \n",
       "11163       0.004321          1  \n",
       "\n",
       "[11164 rows x 7 columns]"
      ]
     },
     "execution_count": 235,
     "metadata": {},
     "output_type": "execute_result"
    }
   ],
   "source": [
    "pas_data4 = pd.concat([pas_data, pas_data2, pas_data3], ignore_index=True) #объеденияем 3 массива\n",
    "pas_data4"
   ]
  },
  {
   "cell_type": "code",
   "execution_count": 236,
   "id": "63f3613b",
   "metadata": {},
   "outputs": [
    {
     "data": {
      "text/plain": [
       "<AxesSubplot:>"
      ]
     },
     "execution_count": 236,
     "metadata": {},
     "output_type": "execute_result"
    },
    {
     "data": {
      "image/png": "[encoded data removed]",
      "text/plain": [
       "<Figure size 432x288 with 1 Axes>"
      ]
     },
     "metadata": {
      "needs_background": "light"
     },
     "output_type": "display_data"
    }
   ],
   "source": [
    "pas_data4.Occupancy.hist(bins = 2)"
   ]
  },
  {
   "cell_type": "code",
   "execution_count": 237,
   "id": "4b2f9c3d",
   "metadata": {},
   "outputs": [
    {
     "name": "stdout",
     "output_type": "stream",
     "text": [
      "Размер данных до удаления\n",
      "Количество строк: 11164\n",
      "\n",
      "\n",
      "Размер данных после удаления\n",
      "Количество строк: 11164\n"
     ]
    }
   ],
   "source": [
    "#2 Удалить дубликаты строк\n",
    "pd.options.mode.chained_assignment = None\n",
    "\n",
    "print(\"Размер данных до удаления\")\n",
    "shapes = pas_data4.shape\n",
    "print(\"Количество строк: \" + str(shapes[0]))\n",
    "\n",
    "pas_data4.drop_duplicates(inplace=True)\n",
    "print(\"\\n\")\n",
    "\n",
    "print(\"Размер данных после удаления\")\n",
    "shapes = pas_data4.shape\n",
    "print(\"Количество строк: \" + str(shapes[0]))"
   ]
  },
  {
   "cell_type": "code",
   "execution_count": 238,
   "id": "1a01a88d",
   "metadata": {},
   "outputs": [],
   "source": [
    "#  Масштабирование данных\n",
    "#  Рассмотрим 2 способа масшабирования: нормализация и стандартизация\n",
    "#  Для линейного классификатора (персептрона) одинакого хорошо подойдут оба метода масштабирования, т.к. разница  \n",
    "#  между минимальными и максимальными значениями не такая большая, а классификатор K ближайших соседей часто лучше \n",
    "#  работает с данными отмасштабированными методом нормализации, хотя скорее всего в данном случае это никакой роли \n",
    "#  не сыграет. Выбираем Нормализацию"
   ]
  },
  {
   "cell_type": "code",
   "execution_count": 239,
   "id": "b9fcdf8c",
   "metadata": {},
   "outputs": [
    {
     "data": {
      "image/png": "[encoded data removed]",
      "text/plain": [
       "<Figure size 432x288 with 2 Axes>"
      ]
     },
     "metadata": {
      "needs_background": "light"
     },
     "output_type": "display_data"
    }
   ],
   "source": [
    "pas_data4.drop(pas_data4.columns[[0]], axis = 1, inplace = True)\n",
    "plt.subplot(1, 2, 1);\n",
    "plt.title('До нормализации:', fontsize=17)\n",
    "plt.boxplot(pas_data4);\n",
    "\n",
    "pas_data4 = (pas_data4 - pas_data4.min())/(pas_data4.max() - pas_data4.min());\n",
    "\n",
    "plt.subplot(1, 2, 2);\n",
    "plt.title('После нормализации:', fontsize=17)\n",
    "plt.boxplot(pas_data4);"
   ]
  },
  {
   "cell_type": "code",
   "execution_count": 240,
   "id": "753ac10b",
   "metadata": {},
   "outputs": [],
   "source": [
    "#https://scikit-learn.org/stable/modules/generated/sklearn.multiclass.OneVsOneClassifier.html \n",
    "#https://scikit-learn.org/stable/modules/generated/sklearn.multiclass.OneVsRestClassifier.html"
   ]
  },
  {
   "cell_type": "code",
   "execution_count": 241,
   "id": "1482f6ad",
   "metadata": {},
   "outputs": [
    {
     "data": {
      "text/html": [
       "<div>\n",
       "<style scoped>\n",
       "    .dataframe tbody tr th:only-of-type {\n",
       "        vertical-align: middle;\n",
       "    }\n",
       "\n",
       "    .dataframe tbody tr th {\n",
       "        vertical-align: top;\n",
       "    }\n",
       "\n",
       "    .dataframe thead th {\n",
       "        text-align: right;\n",
       "    }\n",
       "</style>\n",
       "<table border=\"1\" class=\"dataframe\">\n",
       "  <thead>\n",
       "    <tr style=\"text-align: right;\">\n",
       "      <th></th>\n",
       "      <th>Temperature</th>\n",
       "      <th>Humidity</th>\n",
       "      <th>Light</th>\n",
       "      <th>CO2</th>\n",
       "      <th>HumidityRatio</th>\n",
       "      <th>Occupancy</th>\n",
       "    </tr>\n",
       "  </thead>\n",
       "  <tbody>\n",
       "    <tr>\n",
       "      <th>0</th>\n",
       "      <td>0.772881</td>\n",
       "      <td>0.470533</td>\n",
       "      <td>0.250994</td>\n",
       "      <td>0.190933</td>\n",
       "      <td>0.557318</td>\n",
       "      <td>1.0</td>\n",
       "    </tr>\n",
       "    <tr>\n",
       "      <th>1</th>\n",
       "      <td>0.767334</td>\n",
       "      <td>0.470332</td>\n",
       "      <td>0.253056</td>\n",
       "      <td>0.186446</td>\n",
       "      <td>0.554807</td>\n",
       "      <td>1.0</td>\n",
       "    </tr>\n",
       "    <tr>\n",
       "      <th>2</th>\n",
       "      <td>0.767334</td>\n",
       "      <td>0.469326</td>\n",
       "      <td>0.250994</td>\n",
       "      <td>0.186136</td>\n",
       "      <td>0.553761</td>\n",
       "      <td>1.0</td>\n",
       "    </tr>\n",
       "    <tr>\n",
       "      <th>3</th>\n",
       "      <td>0.767334</td>\n",
       "      <td>0.467315</td>\n",
       "      <td>0.250994</td>\n",
       "      <td>0.182887</td>\n",
       "      <td>0.551669</td>\n",
       "      <td>1.0</td>\n",
       "    </tr>\n",
       "    <tr>\n",
       "      <th>4</th>\n",
       "      <td>0.758089</td>\n",
       "      <td>0.467315</td>\n",
       "      <td>0.250994</td>\n",
       "      <td>0.180566</td>\n",
       "      <td>0.547851</td>\n",
       "      <td>1.0</td>\n",
       "    </tr>\n",
       "    <tr>\n",
       "      <th>...</th>\n",
       "      <td>...</td>\n",
       "      <td>...</td>\n",
       "      <td>...</td>\n",
       "      <td>...</td>\n",
       "      <td>...</td>\n",
       "      <td>...</td>\n",
       "    </tr>\n",
       "    <tr>\n",
       "      <th>11159</th>\n",
       "      <td>0.335593</td>\n",
       "      <td>0.490446</td>\n",
       "      <td>0.253204</td>\n",
       "      <td>0.676157</td>\n",
       "      <td>0.404757</td>\n",
       "      <td>1.0</td>\n",
       "    </tr>\n",
       "    <tr>\n",
       "      <th>11160</th>\n",
       "      <td>0.344838</td>\n",
       "      <td>0.491675</td>\n",
       "      <td>0.249521</td>\n",
       "      <td>0.681881</td>\n",
       "      <td>0.409306</td>\n",
       "      <td>1.0</td>\n",
       "    </tr>\n",
       "    <tr>\n",
       "      <th>11161</th>\n",
       "      <td>0.349461</td>\n",
       "      <td>0.491675</td>\n",
       "      <td>0.249521</td>\n",
       "      <td>0.686214</td>\n",
       "      <td>0.411030</td>\n",
       "      <td>1.0</td>\n",
       "    </tr>\n",
       "    <tr>\n",
       "      <th>11162</th>\n",
       "      <td>0.349461</td>\n",
       "      <td>0.504079</td>\n",
       "      <td>0.246723</td>\n",
       "      <td>0.754603</td>\n",
       "      <td>0.422253</td>\n",
       "      <td>1.0</td>\n",
       "    </tr>\n",
       "    <tr>\n",
       "      <th>11163</th>\n",
       "      <td>0.369800</td>\n",
       "      <td>0.507543</td>\n",
       "      <td>0.240978</td>\n",
       "      <td>0.898190</td>\n",
       "      <td>0.433102</td>\n",
       "      <td>1.0</td>\n",
       "    </tr>\n",
       "  </tbody>\n",
       "</table>\n",
       "<p>11164 rows × 6 columns</p>\n",
       "</div>"
      ],
      "text/plain": [
       "       Temperature  Humidity     Light       CO2  HumidityRatio  Occupancy\n",
       "0         0.772881  0.470533  0.250994  0.190933       0.557318        1.0\n",
       "1         0.767334  0.470332  0.253056  0.186446       0.554807        1.0\n",
       "2         0.767334  0.469326  0.250994  0.186136       0.553761        1.0\n",
       "3         0.767334  0.467315  0.250994  0.182887       0.551669        1.0\n",
       "4         0.758089  0.467315  0.250994  0.180566       0.547851        1.0\n",
       "...            ...       ...       ...       ...            ...        ...\n",
       "11159     0.335593  0.490446  0.253204  0.676157       0.404757        1.0\n",
       "11160     0.344838  0.491675  0.249521  0.681881       0.409306        1.0\n",
       "11161     0.349461  0.491675  0.249521  0.686214       0.411030        1.0\n",
       "11162     0.349461  0.504079  0.246723  0.754603       0.422253        1.0\n",
       "11163     0.369800  0.507543  0.240978  0.898190       0.433102        1.0\n",
       "\n",
       "[11164 rows x 6 columns]"
      ]
     },
     "execution_count": 241,
     "metadata": {},
     "output_type": "execute_result"
    }
   ],
   "source": [
    "pas_data4"
   ]
  },
  {
   "cell_type": "code",
   "execution_count": 242,
   "id": "e40379f8",
   "metadata": {},
   "outputs": [
    {
     "data": {
      "image/png": "[encoded data removed]",
      "text/plain": [
       "<Figure size 648x648 with 2 Axes>"
      ]
     },
     "metadata": {
      "needs_background": "light"
     },
     "output_type": "display_data"
    }
   ],
   "source": [
    "#6 Оценить кореляцию\n",
    "plt.figure(figsize=(9, 9));\n",
    "\n",
    "corr = pas_data4.corr();\n",
    "\n",
    "sb.heatmap(corr, annot=True);"
   ]
  },
  {
   "cell_type": "code",
   "execution_count": 243,
   "id": "07836194",
   "metadata": {},
   "outputs": [
    {
     "data": {
      "text/plain": [
       "{'n_neighbors': 5}"
      ]
     },
     "execution_count": 243,
     "metadata": {},
     "output_type": "execute_result"
    }
   ],
   "source": [
    "# Метод K ближайших соседей\n",
    "from sklearn.model_selection import GridSearchCV\n",
    "from sklearn.neighbors import KNeighborsClassifier\n",
    "\n",
    "from sklearn.model_selection import train_test_split\n",
    "from sklearn.preprocessing import label_binarize\n",
    "\n",
    "pas_data4.drop(pas_data4.columns[[0]], axis = 1, inplace = True)\n",
    "x = pas_data4.drop('Occupancy', axis=1)\n",
    "y = pas_data4['Occupancy']\n",
    "\n",
    "n_classes = 2 #Получаем количество классов\n",
    "\n",
    "x_train, x_test, y_train, y_test = train_test_split(x, y, test_size=0.3) #Делим данные на обучаущие и тестовые\n",
    "  \n",
    "classificator = KNeighborsClassifier() #Указываем классификатор(К ближайших соседей)\n",
    "parametrs = {'n_neighbors': range(3,30,1)}; #Задаем количество соседей в виде range для подбора лучшего через поиск по сетке\n",
    "\n",
    "grid = GridSearchCV(classificator, parametrs, cv=10)#Задаем количество блоков для перекрестной проверки и параметры для поиска по сетке\n",
    "grid.fit(x_train, y_train)#Обучаем алгоритм\n",
    "grid.best_params_#Выводим лучшие параметры"
   ]
  },
  {
   "cell_type": "code",
   "execution_count": 244,
   "id": "42d8de5b",
   "metadata": {},
   "outputs": [
    {
     "data": {
      "text/plain": [
       "array([1., 0., 1., ..., 1., 0., 0.])"
      ]
     },
     "execution_count": 244,
     "metadata": {},
     "output_type": "execute_result"
    }
   ],
   "source": [
    "grid.predict(x_test) #Делаем прогноз на тестовых данных и выводим результат"
   ]
  },
  {
   "cell_type": "code",
   "execution_count": 245,
   "id": "0b15ffed",
   "metadata": {},
   "outputs": [
    {
     "data": {
      "text/html": [
       "<div>\n",
       "<style scoped>\n",
       "    .dataframe tbody tr th:only-of-type {\n",
       "        vertical-align: middle;\n",
       "    }\n",
       "\n",
       "    .dataframe tbody tr th {\n",
       "        vertical-align: top;\n",
       "    }\n",
       "\n",
       "    .dataframe thead th {\n",
       "        text-align: right;\n",
       "    }\n",
       "</style>\n",
       "<table border=\"1\" class=\"dataframe\">\n",
       "  <thead>\n",
       "    <tr style=\"text-align: right;\">\n",
       "      <th></th>\n",
       "      <th>Humidity</th>\n",
       "      <th>Light</th>\n",
       "      <th>CO2</th>\n",
       "      <th>HumidityRatio</th>\n",
       "    </tr>\n",
       "  </thead>\n",
       "  <tbody>\n",
       "    <tr>\n",
       "      <th>9315</th>\n",
       "      <td>0.542854</td>\n",
       "      <td>0.246870</td>\n",
       "      <td>0.119604</td>\n",
       "      <td>0.523685</td>\n",
       "    </tr>\n",
       "    <tr>\n",
       "      <th>3641</th>\n",
       "      <td>0.116736</td>\n",
       "      <td>0.000000</td>\n",
       "      <td>0.019960</td>\n",
       "      <td>0.017252</td>\n",
       "    </tr>\n",
       "    <tr>\n",
       "      <th>10612</th>\n",
       "      <td>0.601408</td>\n",
       "      <td>0.246870</td>\n",
       "      <td>0.354479</td>\n",
       "      <td>0.592059</td>\n",
       "    </tr>\n",
       "    <tr>\n",
       "      <th>3231</th>\n",
       "      <td>0.087384</td>\n",
       "      <td>0.000000</td>\n",
       "      <td>0.015627</td>\n",
       "      <td>0.005829</td>\n",
       "    </tr>\n",
       "    <tr>\n",
       "      <th>9044</th>\n",
       "      <td>0.400268</td>\n",
       "      <td>0.368095</td>\n",
       "      <td>0.329104</td>\n",
       "      <td>0.428200</td>\n",
       "    </tr>\n",
       "    <tr>\n",
       "      <th>...</th>\n",
       "      <td>...</td>\n",
       "      <td>...</td>\n",
       "      <td>...</td>\n",
       "      <td>...</td>\n",
       "    </tr>\n",
       "    <tr>\n",
       "      <th>5236</th>\n",
       "      <td>0.639401</td>\n",
       "      <td>0.019001</td>\n",
       "      <td>0.013925</td>\n",
       "      <td>0.426282</td>\n",
       "    </tr>\n",
       "    <tr>\n",
       "      <th>8793</th>\n",
       "      <td>0.623757</td>\n",
       "      <td>0.267492</td>\n",
       "      <td>0.580535</td>\n",
       "      <td>0.696933</td>\n",
       "    </tr>\n",
       "    <tr>\n",
       "      <th>11064</th>\n",
       "      <td>0.786680</td>\n",
       "      <td>0.252762</td>\n",
       "      <td>0.644747</td>\n",
       "      <td>0.790182</td>\n",
       "    </tr>\n",
       "    <tr>\n",
       "      <th>4601</th>\n",
       "      <td>0.509778</td>\n",
       "      <td>0.000000</td>\n",
       "      <td>0.012842</td>\n",
       "      <td>0.352636</td>\n",
       "    </tr>\n",
       "    <tr>\n",
       "      <th>7908</th>\n",
       "      <td>0.730584</td>\n",
       "      <td>0.000000</td>\n",
       "      <td>0.020579</td>\n",
       "      <td>0.567608</td>\n",
       "    </tr>\n",
       "  </tbody>\n",
       "</table>\n",
       "<p>3350 rows × 4 columns</p>\n",
       "</div>"
      ],
      "text/plain": [
       "       Humidity     Light       CO2  HumidityRatio\n",
       "9315   0.542854  0.246870  0.119604       0.523685\n",
       "3641   0.116736  0.000000  0.019960       0.017252\n",
       "10612  0.601408  0.246870  0.354479       0.592059\n",
       "3231   0.087384  0.000000  0.015627       0.005829\n",
       "9044   0.400268  0.368095  0.329104       0.428200\n",
       "...         ...       ...       ...            ...\n",
       "5236   0.639401  0.019001  0.013925       0.426282\n",
       "8793   0.623757  0.267492  0.580535       0.696933\n",
       "11064  0.786680  0.252762  0.644747       0.790182\n",
       "4601   0.509778  0.000000  0.012842       0.352636\n",
       "7908   0.730584  0.000000  0.020579       0.567608\n",
       "\n",
       "[3350 rows x 4 columns]"
      ]
     },
     "execution_count": 245,
     "metadata": {},
     "output_type": "execute_result"
    }
   ],
   "source": [
    "x_test"
   ]
  },
  {
   "cell_type": "code",
   "execution_count": 246,
   "id": "aaf5c2f7",
   "metadata": {},
   "outputs": [
    {
     "data": {
      "text/plain": [
       "Humidity         0.786680\n",
       "Light            0.252762\n",
       "CO2              0.644747\n",
       "HumidityRatio    0.790182\n",
       "Occupancy        1.000000\n",
       "Name: 11064, dtype: float64"
      ]
     },
     "execution_count": 246,
     "metadata": {},
     "output_type": "execute_result"
    }
   ],
   "source": [
    "pas_data4.iloc[11064]"
   ]
  },
  {
   "cell_type": "code",
   "execution_count": 247,
   "id": "6fc40ccf",
   "metadata": {},
   "outputs": [
    {
     "data": {
      "image/png": "[encoded data removed]",
      "text/plain": [
       "<Figure size 432x288 with 1 Axes>"
      ]
     },
     "metadata": {
      "needs_background": "light"
     },
     "output_type": "display_data"
    }
   ],
   "source": [
    "#PR\n",
    "from sklearn.metrics import precision_recall_curve\n",
    "\n",
    "y_score = grid.predict_proba(x_test) #Делаем прогноз в виде вероятностей\n",
    "\n",
    "precision, recall, _ = precision_recall_curve(y_test, y_score[:,1]) #Для каждого класса рассчитываем precission и recall\n",
    "\n",
    "plt.plot(recall, precision, linestyle='--',color='green') #Выводим график\n",
    "\n",
    "plt.title('PR диаграмма (KNN)')\n",
    "plt.xlabel('Recall')\n",
    "plt.ylabel('Precision')\n",
    "plt.show()"
   ]
  },
  {
   "cell_type": "code",
   "execution_count": 248,
   "id": "590c6018",
   "metadata": {},
   "outputs": [
    {
     "data": {
      "image/png": "[encoded data removed]",
      "text/plain": [
       "<Figure size 432x288 with 1 Axes>"
      ]
     },
     "metadata": {
      "needs_background": "light"
     },
     "output_type": "display_data"
    }
   ],
   "source": [
    "#ROC\n",
    "from sklearn.metrics import roc_curve\n",
    "\n",
    "fpr, tpr, _ = roc_curve(y_test, y_score[:,1]) #Для каждого класса рассчитываем False-Positive rate и True-Positive rate\n",
    "\n",
    "\n",
    "plt.plot(fpr, tpr, linestyle='--', color='red')#Выводим график \n",
    "\n",
    "plt.plot([0, 1], [0, 1], color='green', linestyle='-')\n",
    "plt.xlabel('False Positive Rate')\n",
    "plt.ylabel('True Positive Rate')\n",
    "plt.title('Receiver Operating Characteristic Curve')\n",
    "plt.show()"
   ]
  },
  {
   "cell_type": "code",
   "execution_count": 270,
   "id": "4981403d",
   "metadata": {},
   "outputs": [],
   "source": [
    "from sklearn.linear_model import Perceptron"
   ]
  },
  {
   "cell_type": "code",
   "execution_count": 271,
   "id": "69dd3ea0",
   "metadata": {},
   "outputs": [
    {
     "data": {
      "text/plain": [
       "GridSearchCV(estimator=Perceptron(), n_jobs=-1,\n",
       "             param_grid={'alpha': array([0.11111111, 0.22222222, 0.33333333, 0.44444444, 0.55555556,\n",
       "       0.66666667, 0.77777778, 0.88888889, 1.        ]),\n",
       "                         'max_iter': [10, 11, 12, 13, 14, 15, 16, 17, 18, 19,\n",
       "                                      20, 21, 22, 23, 24, 25, 26, 27, 28, 29,\n",
       "                                      30, 31, 32, 33, 34, 35, 36, 37, 38, 39, ...]})"
      ]
     },
     "execution_count": 271,
     "metadata": {},
     "output_type": "execute_result"
    }
   ],
   "source": [
    "x_train, x_test, y_train, y_test = train_test_split(x, y, test_size=0.3)\n",
    "ppn = Perceptron()\n",
    "ppn_grid = GridSearchCV(estimator=ppn, param_grid={'alpha': np.linspace(0, 1, 10)[1:],'max_iter': [x for x in range(10, 200)]}, n_jobs=-1)\n",
    "ppn_grid.fit(x_train, y_train)"
   ]
  },
  {
   "cell_type": "code",
   "execution_count": 272,
   "id": "e8f85752",
   "metadata": {},
   "outputs": [
    {
     "name": "stdout",
     "output_type": "stream",
     "text": [
      "0.1111111111111111\n",
      "10\n"
     ]
    }
   ],
   "source": [
    "alpha = ppn_grid.best_estimator_.alpha\n",
    "print(alpha)\n",
    "max_iter = ppn_grid.best_estimator_.max_iter\n",
    "print(max_iter)"
   ]
  },
  {
   "cell_type": "code",
   "execution_count": 273,
   "id": "4ee93259",
   "metadata": {},
   "outputs": [
    {
     "name": "stdout",
     "output_type": "stream",
     "text": [
      "Accuracy 0.5916417910447761\n"
     ]
    }
   ],
   "source": [
    "ppn = Perceptron(alpha = alpha, max_iter=max_iter, penalty = 'l2')\n",
    "ppn.fit(x_train, y_train)\n",
    "ppn_predict = ppn.predict(x_test)\n",
    "print('Accuracy', accuracy_score(y_test, ppn_predict))"
   ]
  },
  {
   "cell_type": "code",
   "execution_count": 274,
   "id": "fc32f1c8",
   "metadata": {},
   "outputs": [
    {
     "data": {
      "text/plain": [
       "CalibratedClassifierCV(base_estimator=Perceptron(alpha=0.1111111111111111,\n",
       "                                                 max_iter=10, penalty='l2'),\n",
       "                       cv=7)"
      ]
     },
     "execution_count": 274,
     "metadata": {},
     "output_type": "execute_result"
    }
   ],
   "source": [
    "cppn = CalibratedClassifierCV(ppn, cv = 7)\n",
    "cppn.fit(x_train, y_train)"
   ]
  },
  {
   "cell_type": "code",
   "execution_count": 275,
   "id": "44d8c673",
   "metadata": {},
   "outputs": [
    {
     "name": "stdout",
     "output_type": "stream",
     "text": [
      "Accuracy 0.8286567164179105\n"
     ]
    }
   ],
   "source": [
    "cppn_predict = cppn.predict(x_test)\n",
    "cppn_predict\n",
    "print('Accuracy', accuracy_score(y_test, cppn_predict) )"
   ]
  },
  {
   "cell_type": "code",
   "execution_count": 276,
   "id": "5861f0a4",
   "metadata": {},
   "outputs": [
    {
     "data": {
      "image/png": "[encoded data removed]",
      "text/plain": [
       "<Figure size 432x288 with 1 Axes>"
      ]
     },
     "metadata": {
      "needs_background": "light"
     },
     "output_type": "display_data"
    }
   ],
   "source": [
    "#PR\n",
    "from sklearn.metrics import precision_recall_curve\n",
    "\n",
    "y_score = grid.predict_proba(x_test) #Делаем прогноз в виде вероятностей\n",
    "\n",
    "precision, recall, _ = precision_recall_curve(y_test, y_score[:,1]) #Для каждого класса рассчитываем precission и recall\n",
    "\n",
    "plt.plot(recall, precision, linestyle='--',color='green') #Выводим график\n",
    "\n",
    "plt.title('PR диаграмма')\n",
    "plt.xlabel('Recall')\n",
    "plt.ylabel('Precision')\n",
    "plt.show()"
   ]
  },
  {
   "cell_type": "code",
   "execution_count": 277,
   "id": "1666c453",
   "metadata": {},
   "outputs": [
    {
     "data": {
      "image/png": "[encoded data removed]",
      "text/plain": [
       "<Figure size 432x288 with 1 Axes>"
      ]
     },
     "metadata": {
      "needs_background": "light"
     },
     "output_type": "display_data"
    }
   ],
   "source": [
    "#ROC\n",
    "from sklearn.metrics import roc_curve\n",
    "\n",
    "fpr, tpr, _ = roc_curve(y_test, y_score[:,1]) #Для каждого класса рассчитываем False-Positive rate и True-Positive rate\n",
    "\n",
    "\n",
    "plt.plot(fpr, tpr, linestyle='--', color='red')#Выводим график \n",
    "\n",
    "plt.plot([0, 1], [0, 1], color='green', linestyle='-')\n",
    "plt.xlabel('False Positive Rate')\n",
    "plt.ylabel('True Positive Rate')\n",
    "plt.title('Receiver Operating Characteristic Curve')\n",
    "plt.show()"
   ]
  },
  {
   "cell_type": "code",
   "execution_count": null,
   "id": "b7cbab75",
   "metadata": {},
   "outputs": [],
   "source": []
  }
 ],
 "metadata": {
  "kernelspec": {
   "display_name": "Python 3 (ipykernel)",
   "language": "python",
   "name": "python3"
  },
  "language_info": {
   "codemirror_mode": {
    "name": "ipython",
    "version": 3
   },
   "file_extension": ".py",
   "mimetype": "text/x-python",
   "name": "python",
   "nbconvert_exporter": "python",
   "pygments_lexer": "ipython3",
   "version": "3.9.12"
  }
 },
 "nbformat": 4,
 "nbformat_minor": 5
}
